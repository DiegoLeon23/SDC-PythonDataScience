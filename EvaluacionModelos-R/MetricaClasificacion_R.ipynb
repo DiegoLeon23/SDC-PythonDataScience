{
 "cells": [
  {
   "cell_type": "markdown",
   "metadata": {},
   "source": [
    "https://scikit-learn.org/stable/modules/model_evaluation.html"
   ]
  },
  {
   "cell_type": "code",
   "execution_count": 1,
   "metadata": {},
   "outputs": [
    {
     "name": "stderr",
     "output_type": "stream",
     "text": [
      "Warning message:\n",
      "\"package 'caTools' was built under R version 4.0.4\"\n",
      "Warning message:\n",
      "\"package 'readr' was built under R version 4.0.4\"\n",
      "Warning message:\n",
      "\"package 'dplyr' was built under R version 4.0.4\"\n",
      "\n",
      "Attaching package: 'dplyr'\n",
      "\n",
      "\n",
      "The following objects are masked from 'package:stats':\n",
      "\n",
      "    filter, lag\n",
      "\n",
      "\n",
      "The following objects are masked from 'package:base':\n",
      "\n",
      "    intersect, setdiff, setequal, union\n",
      "\n",
      "\n",
      "Warning message:\n",
      "\"package 'caret' was built under R version 4.0.2\"\n",
      "Loading required package: lattice\n",
      "\n",
      "Loading required package: ggplot2\n",
      "\n",
      "Warning message:\n",
      "\"package 'ggplot2' was built under R version 4.0.4\"\n",
      "Warning message:\n",
      "\"package 'tidyverse' was built under R version 4.0.3\"\n",
      "-- \u001b[1mAttaching packages\u001b[22m ------------------------------------------------------------------------------- tidyverse 1.3.0 --\n",
      "\n",
      "\u001b[32mv\u001b[39m \u001b[34mtibble \u001b[39m 3.1.0     \u001b[32mv\u001b[39m \u001b[34mstringr\u001b[39m 1.4.0\n",
      "\u001b[32mv\u001b[39m \u001b[34mtidyr  \u001b[39m 1.1.3     \u001b[32mv\u001b[39m \u001b[34mforcats\u001b[39m 0.5.1\n",
      "\u001b[32mv\u001b[39m \u001b[34mpurrr  \u001b[39m 0.3.4     \n",
      "\n",
      "Warning message:\n",
      "\"package 'tibble' was built under R version 4.0.4\"\n",
      "Warning message:\n",
      "\"package 'tidyr' was built under R version 4.0.4\"\n",
      "Warning message:\n",
      "\"package 'stringr' was built under R version 4.0.2\"\n",
      "Warning message:\n",
      "\"package 'forcats' was built under R version 4.0.4\"\n",
      "-- \u001b[1mConflicts\u001b[22m ---------------------------------------------------------------------------------- tidyverse_conflicts() --\n",
      "\u001b[31mx\u001b[39m \u001b[34mdplyr\u001b[39m::\u001b[32mfilter()\u001b[39m masks \u001b[34mstats\u001b[39m::filter()\n",
      "\u001b[31mx\u001b[39m \u001b[34mdplyr\u001b[39m::\u001b[32mlag()\u001b[39m    masks \u001b[34mstats\u001b[39m::lag()\n",
      "\u001b[31mx\u001b[39m \u001b[34mpurrr\u001b[39m::\u001b[32mlift()\u001b[39m   masks \u001b[34mcaret\u001b[39m::lift()\n",
      "\n",
      "Warning message:\n",
      "\"package 'png' was built under R version 4.0.3\"\n",
      "Warning message:\n",
      "\"package 'MLmetrics' was built under R version 4.0.3\"\n",
      "\n",
      "Attaching package: 'MLmetrics'\n",
      "\n",
      "\n",
      "The following objects are masked from 'package:caret':\n",
      "\n",
      "    MAE, RMSE\n",
      "\n",
      "\n",
      "The following object is masked from 'package:base':\n",
      "\n",
      "    Recall\n",
      "\n",
      "\n"
     ]
    }
   ],
   "source": [
    "library(caTools)\n",
    "library(readr)\n",
    "library(dplyr)\n",
    "library(rpart)\n",
    "library(caret)\n",
    "library(dplyr)\n",
    "library(tidyverse)\n",
    "require(caTools)\n",
    "library(png)\n",
    "library(MLmetrics)\n"
   ]
  },
  {
   "cell_type": "code",
   "execution_count": 2,
   "metadata": {},
   "outputs": [
    {
     "name": "stderr",
     "output_type": "stream",
     "text": [
      "Warning message:\n",
      "\"Missing column names filled in: 'X1' [1]\"\n",
      "\n",
      "\u001b[36m--\u001b[39m \u001b[1m\u001b[1mColumn specification\u001b[1m\u001b[22m \u001b[36m------------------------------------------------------------------------------------------------\u001b[39m\n",
      "cols(\n",
      "  X1 = \u001b[32mcol_double()\u001b[39m,\n",
      "  PassengerId = \u001b[32mcol_double()\u001b[39m,\n",
      "  Survived = \u001b[32mcol_double()\u001b[39m,\n",
      "  Pclass = \u001b[32mcol_double()\u001b[39m,\n",
      "  Name = \u001b[31mcol_character()\u001b[39m,\n",
      "  Sex = \u001b[31mcol_character()\u001b[39m,\n",
      "  Age = \u001b[32mcol_double()\u001b[39m,\n",
      "  SibSp = \u001b[32mcol_double()\u001b[39m,\n",
      "  Parch = \u001b[32mcol_double()\u001b[39m,\n",
      "  Ticket = \u001b[31mcol_character()\u001b[39m,\n",
      "  Fare = \u001b[32mcol_double()\u001b[39m,\n",
      "  Cabin = \u001b[31mcol_character()\u001b[39m,\n",
      "  Embarked = \u001b[31mcol_character()\u001b[39m,\n",
      "  FamilySize = \u001b[32mcol_double()\u001b[39m,\n",
      "  Title = \u001b[31mcol_character()\u001b[39m,\n",
      "  Surname = \u001b[31mcol_character()\u001b[39m,\n",
      "  FamilyId = \u001b[31mcol_character()\u001b[39m,\n",
      "  Deck = \u001b[31mcol_character()\u001b[39m\n",
      ")\n",
      "\n",
      "\n"
     ]
    }
   ],
   "source": [
    "data <- read_csv(\"data_titanic.csv\") "
   ]
  },
  {
   "cell_type": "code",
   "execution_count": 3,
   "metadata": {},
   "outputs": [],
   "source": [
    "data=data[c(\"Pclass\",\"Age\",\"Sex\",\"SibSp\",\"Parch\",\"Fare\",\"Embarked\",\"Title\",\"FamilySize\",\"Deck\",\"Survived\")]"
   ]
  },
  {
   "cell_type": "code",
   "execution_count": 4,
   "metadata": {},
   "outputs": [],
   "source": [
    "set.seed(1000)\n",
    "sample = sample.split(data$Survived, SplitRatio = .75)\n",
    "train_d = subset(data, sample == TRUE)\n",
    "test_d  = subset(data, sample == FALSE)"
   ]
  },
  {
   "cell_type": "code",
   "execution_count": 5,
   "metadata": {},
   "outputs": [],
   "source": [
    "modelo <- rpart(factor(Survived) ~ Pclass + Age + Sex + SibSp + Parch + Fare + Embarked + Title + FamilySize  + Deck, data = train_d, method = 'class')"
   ]
  },
  {
   "cell_type": "markdown",
   "metadata": {},
   "source": [
    "Antes de adentrarnos en los detalles de las diferentes métricas de\n",
    "calificación, vamos a echar un vistazo a una matriz de confusión,\n",
    "una matriz que dispone el rendimiento de un algoritmo de\n",
    "aprendizaje. \n",
    "\n",
    "La matriz de confusión es simplemente una matriz\n",
    "cuadrática que informa del recuento de las predicciones de\n",
    "- Verdadero positivo (TP)\n",
    "- Verdadero negativo (TN)\n",
    "- Falso positivo (FP)\n",
    "- Falso negativo (FN)"
   ]
  },
  {
   "cell_type": "code",
   "execution_count": 6,
   "metadata": {},
   "outputs": [],
   "source": [
    "#Realizar el punto de corte\n",
    "yprob <- predict(modelo, #modelo\n",
    "                  newdata= test_d[,1:11], #valores de los predictore\n",
    "                  type=\"prob\")\n",
    "\n",
    "ypred <- (yprob[,1] >= 0.33)\n",
    "#Categorizar la variable target\n",
    "ypred <-str_replace(ypred,\"FALSE\", \"1\")\n",
    "ypred <-str_replace(ypred,\"TRUE\", \"0\")\n",
    "ypred <-as.numeric(ypred)\n",
    "ytrue <- test_d$Survived"
   ]
  },
  {
   "cell_type": "code",
   "execution_count": 7,
   "metadata": {},
   "outputs": [
    {
     "data": {
      "text/plain": [
       "   \n",
       "      0   1\n",
       "  0 128  30\n",
       "  1   9  56"
      ]
     },
     "metadata": {},
     "output_type": "display_data"
    }
   ],
   "source": [
    "tabla=table(factor(ypred,levels = c(0,1)),factor(ytrue,levels = c(0,1)))\n",
    "tabla"
   ]
  },
  {
   "cell_type": "code",
   "execution_count": 8,
   "metadata": {},
   "outputs": [
    {
     "name": "stdout",
     "output_type": "stream",
     "text": [
      "[1] \"Verdadero Positivo(TP): 128\"\n",
      "[1] \"Falso Negativo(FN): 9\"\n",
      "[1] \"Falso Positivo(FP): 30\"\n",
      "[1] \"Verdadero Negativo(TN): 56\"\n"
     ]
    }
   ],
   "source": [
    "TP=tabla[1,1]#Verdadero Positivo A\n",
    "FN=tabla[2,1]#Falso Negativo B\n",
    "FP=tabla[1,2]#Falso Positivo C\n",
    "TN=tabla[2,2]#Verdadero Negativo D\n",
    "\n",
    "print(paste(\"Verdadero Positivo(TP):\",TP))\n",
    "print(paste(\"Falso Negativo(FN):\",FN))\n",
    "print(paste(\"Falso Positivo(FP):\",FP))\n",
    "print(paste(\"Verdadero Negativo(TN):\",TN))"
   ]
  },
  {
   "cell_type": "code",
   "execution_count": 9,
   "metadata": {},
   "outputs": [
    {
     "data": {
      "text/plain": [
       "Confusion Matrix and Statistics\n",
       "\n",
       "          Reference\n",
       "Prediction   0   1\n",
       "         0 128  30\n",
       "         1   9  56\n",
       "                                          \n",
       "               Accuracy : 0.8251          \n",
       "                 95% CI : (0.7688, 0.8726)\n",
       "    No Information Rate : 0.6143          \n",
       "    P-Value [Acc > NIR] : 6.993e-12       \n",
       "                                          \n",
       "                  Kappa : 0.6133          \n",
       "                                          \n",
       " Mcnemar's Test P-Value : 0.001362        \n",
       "                                          \n",
       "            Sensitivity : 0.9343          \n",
       "            Specificity : 0.6512          \n",
       "         Pos Pred Value : 0.8101          \n",
       "         Neg Pred Value : 0.8615          \n",
       "             Prevalence : 0.6143          \n",
       "         Detection Rate : 0.5740          \n",
       "   Detection Prevalence : 0.7085          \n",
       "      Balanced Accuracy : 0.7927          \n",
       "                                          \n",
       "       'Positive' Class : 0               \n",
       "                                          "
      ]
     },
     "metadata": {},
     "output_type": "display_data"
    }
   ],
   "source": [
    "ypred2 = factor(ypred,levels = c(0,1))\n",
    "ytrue2 = factor(ytrue,levels = c(0,1))\n",
    "confusionMatrix(ypred2, #valores predichos\n",
    "                ytrue2) #valores reales"
   ]
  },
  {
   "cell_type": "markdown",
   "metadata": {},
   "source": [
    "Antes de mostrar las diferentes metricas utilizamos la funcion ConfusionMatrix para obtener los diferentes resultados"
   ]
  },
  {
   "cell_type": "markdown",
   "metadata": {},
   "source": [
    "## Accuracy"
   ]
  },
  {
   "cell_type": "markdown",
   "metadata": {},
   "source": [
    "Tanto la predicción error (ERR) como la precisión (ACC)\n",
    "proporcionan información general sobre los errores de clasificación\n",
    "de algunas muestras. El error se puede entender como la suma de\n",
    "todas las falsas predicciones dividida por el número de\n",
    "predicciones totales, y la precisión se calcula como la suma de\n",
    "predicciones correctas dividida por el número total de predicciones:"
   ]
  },
  {
   "cell_type": "markdown",
   "metadata": {},
   "source": [
    "\\begin{equation}\n",
    " ERR = \\frac{FP+FN}{FP+FN+TP+TN}\n",
    "\\end{equation}"
   ]
  },
  {
   "cell_type": "code",
   "execution_count": 10,
   "metadata": {},
   "outputs": [
    {
     "data": {
      "text/html": [
       "0.1749"
      ],
      "text/latex": [
       "0.1749"
      ],
      "text/markdown": [
       "0.1749"
      ],
      "text/plain": [
       "[1] 0.1749"
      ]
     },
     "metadata": {},
     "output_type": "display_data"
    }
   ],
   "source": [
    "ERR=(FP+FN)/(FP+FN+TP+TN)\n",
    "round(ERR,4)"
   ]
  },
  {
   "cell_type": "markdown",
   "metadata": {},
   "source": [
    "La precisión de la predicción también se puede calcular\n",
    "directamente del error:"
   ]
  },
  {
   "cell_type": "markdown",
   "metadata": {},
   "source": [
    "\\begin{equation}\n",
    " ACC = \\frac{TP+TN}{FP+FN+TP+TN} = 1-ERR\n",
    "\\end{equation}"
   ]
  },
  {
   "cell_type": "code",
   "execution_count": 11,
   "metadata": {},
   "outputs": [
    {
     "data": {
      "text/html": [
       "0.8251"
      ],
      "text/latex": [
       "0.8251"
      ],
      "text/markdown": [
       "0.8251"
      ],
      "text/plain": [
       "[1] 0.8251"
      ]
     },
     "metadata": {},
     "output_type": "display_data"
    }
   ],
   "source": [
    "ACC=(TP+TN)/(FP+FN+TP+TN)\n",
    "round(ACC,4)"
   ]
  },
  {
   "cell_type": "code",
   "execution_count": 12,
   "metadata": {},
   "outputs": [
    {
     "data": {
      "text/html": [
       "0.8251"
      ],
      "text/latex": [
       "0.8251"
      ],
      "text/markdown": [
       "0.8251"
      ],
      "text/plain": [
       "[1] 0.8251"
      ]
     },
     "metadata": {},
     "output_type": "display_data"
    }
   ],
   "source": [
    "acc_ml=MLmetrics::Accuracy(ypred2,ytrue2)\n",
    "round(acc_ml,4)"
   ]
  },
  {
   "cell_type": "markdown",
   "metadata": {},
   "source": [
    "## Precision"
   ]
  },
  {
   "cell_type": "markdown",
   "metadata": {},
   "source": [
    "La exactitud se define como la proporción de positivos reales, que se pronosticaron como positivos (o verdaderos positivos). Esto implica que habrá otra proporción de positivos reales, que se predijeron como negativos y podrían denominarse falsos positivos. "
   ]
  },
  {
   "cell_type": "markdown",
   "metadata": {},
   "source": [
    "\\begin{equation}\n",
    "Precision = \\frac{TP}{(TP+FN)}\n",
    "\\end{equation}"
   ]
  },
  {
   "cell_type": "code",
   "execution_count": 13,
   "metadata": {},
   "outputs": [
    {
     "data": {
      "text/html": [
       "0.9343"
      ],
      "text/latex": [
       "0.9343"
      ],
      "text/markdown": [
       "0.9343"
      ],
      "text/plain": [
       "[1] 0.9343"
      ]
     },
     "metadata": {},
     "output_type": "display_data"
    }
   ],
   "source": [
    "PRECISION=TP/(TP+FN)\n",
    "round(PRECISION,4)"
   ]
  },
  {
   "cell_type": "code",
   "execution_count": 14,
   "metadata": {},
   "outputs": [
    {
     "data": {
      "text/html": [
       "0.9343"
      ],
      "text/latex": [
       "0.9343"
      ],
      "text/markdown": [
       "0.9343"
      ],
      "text/plain": [
       "[1] 0.9343"
      ]
     },
     "metadata": {},
     "output_type": "display_data"
    }
   ],
   "source": [
    "precision_ml=MLmetrics::Precision(ypred2,ytrue2)\n",
    "round(precision_ml,4)"
   ]
  },
  {
   "cell_type": "markdown",
   "metadata": {},
   "source": [
    "## Recall o Sensitivity o TPR"
   ]
  },
  {
   "cell_type": "markdown",
   "metadata": {},
   "source": [
    "El recall es la proporción donde está el número de verdaderos positivos y el número de falsos negativos. El recall es intuitivamente la capacidad del clasificador de encontrar todas las muestras positivas."
   ]
  },
  {
   "cell_type": "markdown",
   "metadata": {},
   "source": [
    "\\begin{equation}\n",
    "    Sensitivity =  \\frac{TP}{(FP+TP)}\n",
    "\\end{equation}"
   ]
  },
  {
   "cell_type": "code",
   "execution_count": 15,
   "metadata": {},
   "outputs": [
    {
     "data": {
      "text/html": [
       "0.8101"
      ],
      "text/latex": [
       "0.8101"
      ],
      "text/markdown": [
       "0.8101"
      ],
      "text/plain": [
       "[1] 0.8101"
      ]
     },
     "metadata": {},
     "output_type": "display_data"
    }
   ],
   "source": [
    "SENSITIVITY=TP/(TP+FP)#lIBRO\n",
    "round(SENSITIVITY,4)"
   ]
  },
  {
   "cell_type": "code",
   "execution_count": 16,
   "metadata": {},
   "outputs": [
    {
     "data": {
      "text/html": [
       "0.8101"
      ],
      "text/latex": [
       "0.8101"
      ],
      "text/markdown": [
       "0.8101"
      ],
      "text/plain": [
       "[1] 0.8101"
      ]
     },
     "metadata": {},
     "output_type": "display_data"
    }
   ],
   "source": [
    "Sensitivity_ml=MLmetrics::Sensitivity(ypred2,ytrue2)\n",
    "round(Sensitivity_ml,4)"
   ]
  },
  {
   "cell_type": "markdown",
   "metadata": {},
   "source": [
    "## Specificity o TNR"
   ]
  },
  {
   "cell_type": "markdown",
   "metadata": {},
   "source": [
    "La especificidad se define como la proporción de negativos reales, que se pronosticaron como negativos (o verdaderos negativos). Esto implica que habrá otra proporción de negativos reales, que se predijeron como positivos y podrían denominarse falsos negativos. "
   ]
  },
  {
   "cell_type": "markdown",
   "metadata": {},
   "source": [
    "\\begin{equation}\n",
    "Specificity = \\frac{TN}{(FN+TN)}\n",
    "\\end{equation}"
   ]
  },
  {
   "cell_type": "code",
   "execution_count": 17,
   "metadata": {},
   "outputs": [
    {
     "data": {
      "text/html": [
       "0.8615"
      ],
      "text/latex": [
       "0.8615"
      ],
      "text/markdown": [
       "0.8615"
      ],
      "text/plain": [
       "[1] 0.8615"
      ]
     },
     "metadata": {},
     "output_type": "display_data"
    }
   ],
   "source": [
    "SPECIFICITY=TN/(TN+FN)\n",
    "round(SPECIFICITY,4)"
   ]
  },
  {
   "cell_type": "code",
   "execution_count": 18,
   "metadata": {},
   "outputs": [
    {
     "data": {
      "text/html": [
       "0.8615"
      ],
      "text/latex": [
       "0.8615"
      ],
      "text/markdown": [
       "0.8615"
      ],
      "text/plain": [
       "[1] 0.8615"
      ]
     },
     "metadata": {},
     "output_type": "display_data"
    }
   ],
   "source": [
    "Specificity_ml=MLmetrics::Specificity(ypred2,ytrue2)\n",
    "round(Specificity_ml,4)"
   ]
  },
  {
   "cell_type": "markdown",
   "metadata": {},
   "source": [
    "## Balanced Accuracy(Precision Equilibridad)"
   ]
  },
  {
   "cell_type": "markdown",
   "metadata": {},
   "source": [
    "Se basa en dos métricas más utilizadas: sensibilidad y specificity\n",
    "\n",
    "En problemas de clasificación binaria y multiclase para hacer frente a conjuntos de datos desequilibrados. Se define como el promedio de recuerdo obtenido en cada clase. "
   ]
  },
  {
   "cell_type": "markdown",
   "metadata": {},
   "source": [
    "\\begin{equation}\n",
    "Balanced Accuracy = \\frac{(sensitivity+specificity)}{2}\n",
    "\\end{equation}"
   ]
  },
  {
   "cell_type": "code",
   "execution_count": 19,
   "metadata": {},
   "outputs": [
    {
     "data": {
      "text/html": [
       "0.8358"
      ],
      "text/latex": [
       "0.8358"
      ],
      "text/markdown": [
       "0.8358"
      ],
      "text/plain": [
       "[1] 0.8358"
      ]
     },
     "metadata": {},
     "output_type": "display_data"
    }
   ],
   "source": [
    "BALANCED_ACCURACY=(SENSITIVITY+SPECIFICITY)/2\n",
    "round(BALANCED_ACCURACY,4)"
   ]
  },
  {
   "cell_type": "code",
   "execution_count": 20,
   "metadata": {},
   "outputs": [
    {
     "data": {
      "text/html": [
       "0.8358"
      ],
      "text/latex": [
       "0.8358"
      ],
      "text/markdown": [
       "0.8358"
      ],
      "text/plain": [
       "[1] 0.8358"
      ]
     },
     "metadata": {},
     "output_type": "display_data"
    }
   ],
   "source": [
    "balanced_ml=(Sensitivity_ml+Specificity_ml)/2\n",
    "round(balanced_ml,4)"
   ]
  },
  {
   "cell_type": "markdown",
   "metadata": {},
   "source": [
    "## F1-SCORE"
   ]
  },
  {
   "cell_type": "markdown",
   "metadata": {},
   "source": [
    "El valor F1 se utiliza para combinar las medidas de precision y recall en un sólo valor. Esto es práctico porque hace más fácil el poder comparar el rendimiento combinado de la precisión y la exhaustividad entre varias soluciones."
   ]
  },
  {
   "cell_type": "markdown",
   "metadata": {},
   "source": [
    "\\begin{equation}\n",
    "F1 = 2*\\frac{PRECISION*SENSITIVITY}{PRECISION + SENSITIVITY}\n",
    "\\end{equation}"
   ]
  },
  {
   "cell_type": "code",
   "execution_count": 21,
   "metadata": {},
   "outputs": [
    {
     "data": {
      "text/html": [
       "0.8678"
      ],
      "text/latex": [
       "0.8678"
      ],
      "text/markdown": [
       "0.8678"
      ],
      "text/plain": [
       "[1] 0.8678"
      ]
     },
     "metadata": {},
     "output_type": "display_data"
    }
   ],
   "source": [
    "F1_SCORE=(2*PRECISION*SENSITIVITY) / (PRECISION + SENSITIVITY)\n",
    "round(F1_SCORE,4)"
   ]
  },
  {
   "cell_type": "code",
   "execution_count": 22,
   "metadata": {},
   "outputs": [
    {
     "data": {
      "text/html": [
       "0.8678"
      ],
      "text/latex": [
       "0.8678"
      ],
      "text/markdown": [
       "0.8678"
      ],
      "text/plain": [
       "[1] 0.8678"
      ]
     },
     "metadata": {},
     "output_type": "display_data"
    }
   ],
   "source": [
    "f1_ml=MLmetrics::F1_Score(ytrue2,ypred2)\n",
    "round(f1_ml,4)"
   ]
  },
  {
   "cell_type": "markdown",
   "metadata": {},
   "source": [
    "### AUC(Area bajo la curva ROC)"
   ]
  },
  {
   "cell_type": "markdown",
   "metadata": {},
   "source": [
    "Son útiles\n",
    "herramientas para seleccionar modelos para clasificación basados\n",
    "en su rendimiento respecto al FPR y al TPR, que se calculan\n",
    "desplazando el umbral de decisión del clasificador. "
   ]
  },
  {
   "cell_type": "markdown",
   "metadata": {},
   "source": [
    "\\begin{equation}\n",
    "    0.5≤A≤1\n",
    "\\end{equation}"
   ]
  },
  {
   "cell_type": "markdown",
   "metadata": {},
   "source": [
    "- Si A=0.5, indica que el test no es válido, pues la proporción de verdaderos positivos\n",
    "sería igual a la proporción de falsos positivos(Adivinación Aleatoria)\n",
    "\n",
    "- Si A=1, significa que el test es perfecto, existiría una región en la que, cualquier\n",
    "punto de corte, tiene sensibilidad y especificidad iguales a 1(Puntuación Perfecta)\n",
    "\n",
    "Nota:\n",
    "    En caso de que el A sea menor a 0.5 se considera peor que la adivinación aleatoria"
   ]
  },
  {
   "cell_type": "code",
   "execution_count": 23,
   "metadata": {},
   "outputs": [
    {
     "name": "stderr",
     "output_type": "stream",
     "text": [
      "Warning message:\n",
      "\"package 'ROCR' was built under R version 4.0.3\"\n"
     ]
    },
    {
     "data": {
      "image/png": "[encoded data removed]",
      "text/plain": [
       "plot without title"
      ]
     },
     "metadata": {
      "image/png": {
       "height": 420,
       "width": 420
      }
     },
     "output_type": "display_data"
    }
   ],
   "source": [
    "library(ROCR)\n",
    "\n",
    "roc_pred <- prediction(predictions = ypred  , labels = ytrue)\n",
    "roc_perf <- performance(roc_pred , \"tpr\" , \"fpr\")\n",
    "plot(roc_perf,\n",
    "     colorize = TRUE,\n",
    "     print.cutoffs.at= seq(0,1,0.05),\n",
    "     text.adj=c(-0.2,1.7))"
   ]
  },
  {
   "cell_type": "markdown",
   "metadata": {},
   "source": [
    "El eje x es la tasa de falsos positivos y el eje y es la tasa de verdaderos positivos. Podemos ver que cada uno de los puntos representa una matriz de confusión (como la que creamos anteriormente) que no tenemos que evaluar manualmente. Los puntos representan la compensación entre verdadero positivo y falso positivo. "
   ]
  },
  {
   "cell_type": "markdown",
   "metadata": {},
   "source": [
    "El AUC proporciona una medición agregada del rendimiento en todos los umbrales de clasificación posibles. Una forma de interpretar el AUC es como la probabilidad de que el modelo clasifique un ejemplo positivo aleatorio más alto que un ejemplo negativo aleatorio. "
   ]
  },
  {
   "cell_type": "code",
   "execution_count": 24,
   "metadata": {},
   "outputs": [
    {
     "data": {
      "text/html": [
       "0.7927"
      ],
      "text/latex": [
       "0.7927"
      ],
      "text/markdown": [
       "0.7927"
      ],
      "text/plain": [
       "[1] 0.7927"
      ]
     },
     "metadata": {},
     "output_type": "display_data"
    }
   ],
   "source": [
    "auc_ROCR <- performance(roc_pred, measure = \"auc\")\n",
    "auc_ROCR <- auc_ROCR@y.values[[1]]\n",
    "round(auc_ROCR,4)"
   ]
  },
  {
   "cell_type": "code",
   "execution_count": 25,
   "metadata": {},
   "outputs": [
    {
     "data": {
      "text/html": [
       "0.7927"
      ],
      "text/latex": [
       "0.7927"
      ],
      "text/markdown": [
       "0.7927"
      ],
      "text/plain": [
       "[1] 0.7927"
      ]
     },
     "metadata": {},
     "output_type": "display_data"
    }
   ],
   "source": [
    "auc_ml=MLmetrics::AUC(ypred2, ytrue2)\n",
    "round(auc_ml,4)"
   ]
  }
 ],
 "metadata": {
  "kernelspec": {
   "display_name": "R",
   "language": "R",
   "name": "ir"
  },
  "language_info": {
   "codemirror_mode": "r",
   "file_extension": ".r",
   "mimetype": "text/x-r-source",
   "name": "R",
   "pygments_lexer": "r",
   "version": "4.0.0"
  }
 },
 "nbformat": 4,
 "nbformat_minor": 4
}
