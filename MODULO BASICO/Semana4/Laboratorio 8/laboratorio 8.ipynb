{
 "cells": [
  {
   "cell_type": "markdown",
   "metadata": {},
   "source": [
    "<a id='part7'></a>\n",
    "## Laboratorio 8"
   ]
  },
  {
   "cell_type": "markdown",
   "metadata": {},
   "source": [
    "Autor: Semeion, Centro de Investigación de Ciencias de la Comunicación, Roma, Italia.\n",
    "\n",
    "Fuente: [UCI] (http://archive.ics.uci.edu/ml/datasets/steel+plates+faults)\n",
    "\n",
    "Cite: Conjunto de datos proporcionado por Semeion, Centro de Investigación de Ciencias de la Comunicación, Via Sersale 117, 00128, Roma, Italia.\n",
    "\n",
    "Conjunto de datos de fallas de placas de acero\n",
    "Un conjunto de datos de fallas de placas de acero, clasificadas en 7 tipos diferentes. El objetivo era entrenar el aprendizaje automático para el reconocimiento automático de patrones.\n",
    "\n",
    "El conjunto de datos consta de 27 características que describen cada falla (ubicación, tamaño, ...) y 7 características binarias que indican el tipo de falla (en 7: Pastelería, Z_Scratch, K_Scatch, Manchas, Suciedad, Golpes, Otras Fallas). Este último se usa comúnmente como un objetivo de clasificación binaria (falla 'común' u 'otra').\n",
    "\n",
    "### Información de atributos\n",
    "* V1: X_Minimum\n",
    "* V2: X_Maximum\n",
    "* V3: Y_Mínimo\n",
    "* V4: Y_ Máximo\n",
    "* V5: Pixels_Areas\n",
    "* V6: X_Perimeter\n",
    "* V7: Y_Perímetro\n",
    "* V8: Suma_de_Luminosidad\n",
    "* V9: Mínimo_de_Luminosidad\n",
    "* V10: Máxima_de_Luminosidad\n",
    "* V11: Longitud del transportador\n",
    "* V12: TypeOfSteel_A300\n",
    "* V13: TypeOfSteel_A400\n",
    "* V14: Steel_Plate_Thickness\n",
    "* V15: Edges_Index\n",
    "* V16: índice_vacío\n",
    "* V17: Square_Index\n",
    "* V18: Outside_X_Index\n",
    "* V19: Edges_X_Index\n",
    "* V20: Edges_Y_Index\n",
    "* V21: Outside_Global_Index\n",
    "* V22: LogOfAreas\n",
    "* V23: Log_X_Index\n",
    "* V24: Log_Y_Index\n",
    "* V25: Orientation_Index\n",
    "* V26: Índice de Luminosidad\n",
    "* V27: SigmoidOfAreas\n",
    "* V28: pastelería\n",
    "* V29: Z_Scratch\n",
    "* V30: K_Scatch\n",
    "* V31: manchas\n",
    "* V32: suciedad\n",
    "* V33: golpes\n",
    "* Class: Otros_Fallas\n",
    "\n",
    "### Documentos relevantes\n",
    "1.M Buscema, S Terzi, W Tastle, A New Meta-Classifier, en NAFIPS 2010, Toronto (CANADÁ), 26-28 de julio de 2010, 978-1-4244-7858-6 / 10 © 2010 IEEE\n",
    "2.M Buscema, MetaNet: The Theory of Independent Judges, in Substance Use & Maluse, 33 (2), 439-461,1998"
   ]
  },
  {
   "cell_type": "markdown",
   "metadata": {},
   "source": [
    "**Información**:\n",
    "\n",
    "1. Edad de la esposa (numérica)\n",
    "\n",
    "2. Educación de la esposa (categórica) 1 = baja, 2, 3, 4 = alta\n",
    "\n",
    "3. Educación del esposo (categórica) 1 = baja, 2, 3, 4 = alta\n",
    "\n",
    "4. Número de hijos nacidos (numérico)\n",
    "\n",
    "5. Religión de la esposa (binaria) 0 = No Islam, 1 = Islam\n",
    "\n",
    "6. ¿La esposa ahora está trabajando? (binario) 0 = Sí, 1 = No\n",
    "\n",
    "7. Ocupación del esposo (categórica) 1, 2, 3, 4\n",
    "\n",
    "8. Índice de nivel de vida (categórico) 1 = bajo, 2, 3, 4 = alto\n",
    "\n",
    "9. Exposición a los medios (binario) 0 = Bueno, 1 = No bueno\n",
    "\n",
    "10. Método anticonceptivo utilizado (atributo de clase) 1 = Sin uso, 2 = A largo plazo, 3 = A corto plazo"
   ]
  },
  {
   "cell_type": "code",
   "execution_count": 25,
   "metadata": {},
   "outputs": [
    {
     "name": "stdout",
     "output_type": "stream",
     "text": [
      "<class 'pandas.core.frame.DataFrame'>\n",
      "RangeIndex: 1941 entries, 0 to 1940\n",
      "Data columns (total 34 columns):\n",
      " #   Column  Non-Null Count  Dtype  \n",
      "---  ------  --------------  -----  \n",
      " 0   V1      1941 non-null   int64  \n",
      " 1   V2      1941 non-null   int64  \n",
      " 2   V3      1941 non-null   int64  \n",
      " 3   V4      1941 non-null   int64  \n",
      " 4   V5      1941 non-null   int64  \n",
      " 5   V6      1941 non-null   int64  \n",
      " 6   V7      1941 non-null   int64  \n",
      " 7   V8      1941 non-null   int64  \n",
      " 8   V9      1941 non-null   int64  \n",
      " 9   V10     1941 non-null   int64  \n",
      " 10  V11     1941 non-null   int64  \n",
      " 11  V12     1941 non-null   int64  \n",
      " 12  V13     1941 non-null   int64  \n",
      " 13  V14     1941 non-null   int64  \n",
      " 14  V15     1941 non-null   float64\n",
      " 15  V16     1941 non-null   float64\n",
      " 16  V17     1941 non-null   float64\n",
      " 17  V18     1941 non-null   float64\n",
      " 18  V19     1941 non-null   float64\n",
      " 19  V20     1941 non-null   float64\n",
      " 20  V21     1941 non-null   float64\n",
      " 21  V22     1941 non-null   float64\n",
      " 22  V23     1941 non-null   float64\n",
      " 23  V24     1941 non-null   float64\n",
      " 24  V25     1941 non-null   float64\n",
      " 25  V26     1941 non-null   float64\n",
      " 26  V27     1941 non-null   float64\n",
      " 27  V28     1941 non-null   int64  \n",
      " 28  V29     1941 non-null   int64  \n",
      " 29  V30     1941 non-null   int64  \n",
      " 30  V31     1941 non-null   int64  \n",
      " 31  V32     1941 non-null   int64  \n",
      " 32  V33     1941 non-null   int64  \n",
      " 33  Class   1941 non-null   int64  \n",
      "dtypes: float64(13), int64(21)\n",
      "memory usage: 515.7 KB\n"
     ]
    }
   ],
   "source": [
    "import numpy as np\n",
    "import pandas as pd\n",
    "\n",
    "df_fall_placa_acero = pd.read_csv('D:/Python/1. Nivel I/8/datos/php9xWOpn.csv',  sep=',')\n",
    "df_fall_placa_acero.info()"
   ]
  },
  {
   "cell_type": "markdown",
   "metadata": {},
   "source": [
    "Actividad\n",
    "1. Encontrar el numero de bins con la tecnica de Sturges\n",
    "2. Discretizacion por intervalos de igual amplitud de la variable \"V9\" (Grafico de Barras)\n",
    "3. Discretizacion por cuantil de la variable \"V19\" (Grafico de barras)\n",
    "4. Discretizacion por kmeans de la variable \"V15\" (Grafico de barras)"
   ]
  },
  {
   "cell_type": "code",
   "execution_count": 26,
   "metadata": {},
   "outputs": [],
   "source": [
    "columns_continuas = ['V1','V2','V3','V4','V5','V6','V7',\n",
    "    'V8','V9','V10','V11','V12','V13','V14','V15','V16','V17','V18','V19','V20'\n",
    "     ,'V21','V22','V23','V24','V25','V26','V27']"
   ]
  }
 ],
 "metadata": {
  "kernelspec": {
   "display_name": "Python 3",
   "language": "python",
   "name": "python3"
  },
  "language_info": {
   "codemirror_mode": {
    "name": "ipython",
    "version": 3
   },
   "file_extension": ".py",
   "mimetype": "text/x-python",
   "name": "python",
   "nbconvert_exporter": "python",
   "pygments_lexer": "ipython3",
   "version": "3.7.6"
  }
 },
 "nbformat": 4,
 "nbformat_minor": 4
}
