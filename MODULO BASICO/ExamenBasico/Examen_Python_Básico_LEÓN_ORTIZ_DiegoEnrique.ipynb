{
 "cells": [
  {
   "cell_type": "markdown",
   "metadata": {},
   "source": [
    "# DESARROLLO EXAMEN BÁSICO"
   ]
  },
  {
   "cell_type": "markdown",
   "metadata": {},
   "source": [
    "**LEÓN ORTIZ DIEGO ENRIQUE**"
   ]
  },
  {
   "cell_type": "markdown",
   "metadata": {},
   "source": [
    "## **_CASO 1_**"
   ]
  },
  {
   "cell_type": "code",
   "execution_count": 1,
   "metadata": {},
   "outputs": [],
   "source": [
    "#Importando librerias necesarias\n",
    "import os \n",
    "import pandas as pd\n",
    "import numpy as np\n",
    "import matplotlib.pyplot as plt\n",
    "import seaborn as sns\n",
    "import math as math\n",
    "import scipy.stats as stats #Para calculo de probabilidades\n",
    "import statsmodels.api as sm\n",
    "from sklearn import preprocessing\n",
    "from sklearn.preprocessing import KBinsDiscretizer\n",
    "from sklearn.impute import SimpleImputer\n",
    "from sklearn.decomposition import FactorAnalysis\n",
    "from sklearn.model_selection import train_test_split #Particionamiento\n",
    "from sklearn.preprocessing import MinMaxScaler #Utilizar la normalizacion\n",
    "from sklearn.preprocessing import StandardScaler #Utilizar la estandarizacion \n",
    "from sklearn.decomposition import PCA #Para la descomposicion de la varianza en el PCA\n",
    "from imblearn.under_sampling import NearMiss        #Para llevar a cabo UnderSampling\n",
    "from imblearn.over_sampling import RandomOverSampler #Para llevar a cabo OverSampling\n",
    "from imblearn.combine import SMOTETomek              #Para combinar U/O Sampling"
   ]
  },
  {
   "cell_type": "code",
   "execution_count": 2,
   "metadata": {},
   "outputs": [],
   "source": [
    "os.chdir(\"D:\\Social Data Consulting\\Python for Data Science\\data\")"
   ]
  },
  {
   "cell_type": "code",
   "execution_count": 3,
   "metadata": {
    "scrolled": true
   },
   "outputs": [
    {
     "name": "stdout",
     "output_type": "stream",
     "text": [
      "<class 'pandas.core.frame.DataFrame'>\n",
      "RangeIndex: 787495 entries, 0 to 787494\n",
      "Data columns (total 20 columns):\n",
      " #   Column              Non-Null Count   Dtype  \n",
      "---  ------              --------------   -----  \n",
      " 0   Unnamed: 0          787495 non-null  int64  \n",
      " 1   CODMES              787495 non-null  int64  \n",
      " 2   TARGET_MODEL2       787495 non-null  int64  \n",
      " 3   EDAD                787495 non-null  int64  \n",
      " 4   SEXO                787495 non-null  object \n",
      " 5   DEPARTAMENTO        760520 non-null  object \n",
      " 6   INGRESO_BRUTO_M1    600241 non-null  float64\n",
      " 7   FLG_CLIENTE         787495 non-null  object \n",
      " 8   SEGMENTO            787495 non-null  object \n",
      " 9   FLG_ADEL_SUELDO_M1  787495 non-null  int64  \n",
      " 10  FREC_AGENTE         787495 non-null  int64  \n",
      " 11  FLG_VEH_SF          518112 non-null  float64\n",
      " 12  FLG_CONV_SF         518112 non-null  float64\n",
      " 13  FREC_KIOSKO         787495 non-null  int64  \n",
      " 14  FREC_BPI_TD         787495 non-null  int64  \n",
      " 15  FREC_MON_TD         787495 non-null  int64  \n",
      " 16  PROM_CTD_TRX_6M     787495 non-null  float64\n",
      " 17  ANT_CLIENTE         786572 non-null  float64\n",
      " 18  REC_AGENTE_TD       92289 non-null   float64\n",
      " 19  CTD_RECLAMOS_M1     787495 non-null  int64  \n",
      "dtypes: float64(6), int64(10), object(4)\n",
      "memory usage: 120.2+ MB\n"
     ]
    }
   ],
   "source": [
    "miArchivo=\"TRAIN_FUGA.csv\"\n",
    "train_fuga=pd.read_csv(miArchivo,sep=\",\")\n",
    "train_fuga.info()"
   ]
  },
  {
   "cell_type": "markdown",
   "metadata": {},
   "source": [
    "Al utilizar el comando .info podemos visualizar el tipo de dato de las variables y ademas la cantidad de datos por variables que son No Nulos "
   ]
  },
  {
   "cell_type": "markdown",
   "metadata": {},
   "source": [
    "**_Creamos un dataframe con los datos de Train_Fuga.csv_**"
   ]
  },
  {
   "cell_type": "code",
   "execution_count": 4,
   "metadata": {},
   "outputs": [],
   "source": [
    "columns=train_fuga.columns"
   ]
  },
  {
   "cell_type": "code",
   "execution_count": 5,
   "metadata": {},
   "outputs": [
    {
     "data": {
      "text/html": [
       "<div>\n",
       "<style scoped>\n",
       "    .dataframe tbody tr th:only-of-type {\n",
       "        vertical-align: middle;\n",
       "    }\n",
       "\n",
       "    .dataframe tbody tr th {\n",
       "        vertical-align: top;\n",
       "    }\n",
       "\n",
       "    .dataframe thead th {\n",
       "        text-align: right;\n",
       "    }\n",
       "</style>\n",
       "<table border=\"1\" class=\"dataframe\">\n",
       "  <thead>\n",
       "    <tr style=\"text-align: right;\">\n",
       "      <th></th>\n",
       "      <th>Unnamed: 0</th>\n",
       "      <th>CODMES</th>\n",
       "      <th>TARGET_MODEL2</th>\n",
       "      <th>EDAD</th>\n",
       "      <th>SEXO</th>\n",
       "      <th>DEPARTAMENTO</th>\n",
       "      <th>INGRESO_BRUTO_M1</th>\n",
       "      <th>FLG_CLIENTE</th>\n",
       "      <th>SEGMENTO</th>\n",
       "      <th>FLG_ADEL_SUELDO_M1</th>\n",
       "      <th>FREC_AGENTE</th>\n",
       "      <th>FLG_VEH_SF</th>\n",
       "      <th>FLG_CONV_SF</th>\n",
       "      <th>FREC_KIOSKO</th>\n",
       "      <th>FREC_BPI_TD</th>\n",
       "      <th>FREC_MON_TD</th>\n",
       "      <th>PROM_CTD_TRX_6M</th>\n",
       "      <th>ANT_CLIENTE</th>\n",
       "      <th>REC_AGENTE_TD</th>\n",
       "      <th>CTD_RECLAMOS_M1</th>\n",
       "    </tr>\n",
       "  </thead>\n",
       "  <tbody>\n",
       "    <tr>\n",
       "      <th>0</th>\n",
       "      <td>1</td>\n",
       "      <td>201411</td>\n",
       "      <td>0</td>\n",
       "      <td>46</td>\n",
       "      <td>F</td>\n",
       "      <td>PIURA</td>\n",
       "      <td>NaN</td>\n",
       "      <td>NO CLIENTE</td>\n",
       "      <td>2</td>\n",
       "      <td>0</td>\n",
       "      <td>0</td>\n",
       "      <td>0.0</td>\n",
       "      <td>0.0</td>\n",
       "      <td>0</td>\n",
       "      <td>0</td>\n",
       "      <td>0</td>\n",
       "      <td>0.0</td>\n",
       "      <td>224.0</td>\n",
       "      <td>NaN</td>\n",
       "      <td>0</td>\n",
       "    </tr>\n",
       "    <tr>\n",
       "      <th>1</th>\n",
       "      <td>2</td>\n",
       "      <td>201411</td>\n",
       "      <td>0</td>\n",
       "      <td>54</td>\n",
       "      <td>M</td>\n",
       "      <td>LORETO</td>\n",
       "      <td>4718.0</td>\n",
       "      <td>CLIENTE</td>\n",
       "      <td>1BC</td>\n",
       "      <td>0</td>\n",
       "      <td>0</td>\n",
       "      <td>0.0</td>\n",
       "      <td>1.0</td>\n",
       "      <td>0</td>\n",
       "      <td>0</td>\n",
       "      <td>0</td>\n",
       "      <td>0.0</td>\n",
       "      <td>123.0</td>\n",
       "      <td>NaN</td>\n",
       "      <td>0</td>\n",
       "    </tr>\n",
       "    <tr>\n",
       "      <th>2</th>\n",
       "      <td>3</td>\n",
       "      <td>201411</td>\n",
       "      <td>0</td>\n",
       "      <td>81</td>\n",
       "      <td>M</td>\n",
       "      <td>NaN</td>\n",
       "      <td>NaN</td>\n",
       "      <td>CLIENTE</td>\n",
       "      <td>6</td>\n",
       "      <td>0</td>\n",
       "      <td>0</td>\n",
       "      <td>NaN</td>\n",
       "      <td>NaN</td>\n",
       "      <td>0</td>\n",
       "      <td>0</td>\n",
       "      <td>0</td>\n",
       "      <td>0.0</td>\n",
       "      <td>264.0</td>\n",
       "      <td>NaN</td>\n",
       "      <td>0</td>\n",
       "    </tr>\n",
       "    <tr>\n",
       "      <th>3</th>\n",
       "      <td>4</td>\n",
       "      <td>201411</td>\n",
       "      <td>0</td>\n",
       "      <td>42</td>\n",
       "      <td>M</td>\n",
       "      <td>PIURA</td>\n",
       "      <td>936.0</td>\n",
       "      <td>CLIENTE</td>\n",
       "      <td>2</td>\n",
       "      <td>0</td>\n",
       "      <td>0</td>\n",
       "      <td>NaN</td>\n",
       "      <td>NaN</td>\n",
       "      <td>0</td>\n",
       "      <td>0</td>\n",
       "      <td>0</td>\n",
       "      <td>0.0</td>\n",
       "      <td>263.0</td>\n",
       "      <td>NaN</td>\n",
       "      <td>0</td>\n",
       "    </tr>\n",
       "    <tr>\n",
       "      <th>4</th>\n",
       "      <td>5</td>\n",
       "      <td>201411</td>\n",
       "      <td>0</td>\n",
       "      <td>52</td>\n",
       "      <td>M</td>\n",
       "      <td>MOQUEGUA</td>\n",
       "      <td>5844.0</td>\n",
       "      <td>CLIENTE</td>\n",
       "      <td>1BC</td>\n",
       "      <td>0</td>\n",
       "      <td>0</td>\n",
       "      <td>NaN</td>\n",
       "      <td>NaN</td>\n",
       "      <td>0</td>\n",
       "      <td>0</td>\n",
       "      <td>0</td>\n",
       "      <td>0.0</td>\n",
       "      <td>263.0</td>\n",
       "      <td>NaN</td>\n",
       "      <td>0</td>\n",
       "    </tr>\n",
       "  </tbody>\n",
       "</table>\n",
       "</div>"
      ],
      "text/plain": [
       "   Unnamed: 0  CODMES  TARGET_MODEL2  EDAD SEXO DEPARTAMENTO  \\\n",
       "0           1  201411              0    46    F        PIURA   \n",
       "1           2  201411              0    54    M       LORETO   \n",
       "2           3  201411              0    81    M          NaN   \n",
       "3           4  201411              0    42    M        PIURA   \n",
       "4           5  201411              0    52    M     MOQUEGUA   \n",
       "\n",
       "   INGRESO_BRUTO_M1 FLG_CLIENTE SEGMENTO  FLG_ADEL_SUELDO_M1  FREC_AGENTE  \\\n",
       "0               NaN  NO CLIENTE        2                   0            0   \n",
       "1            4718.0     CLIENTE      1BC                   0            0   \n",
       "2               NaN     CLIENTE        6                   0            0   \n",
       "3             936.0     CLIENTE        2                   0            0   \n",
       "4            5844.0     CLIENTE      1BC                   0            0   \n",
       "\n",
       "   FLG_VEH_SF  FLG_CONV_SF  FREC_KIOSKO  FREC_BPI_TD  FREC_MON_TD  \\\n",
       "0         0.0          0.0            0            0            0   \n",
       "1         0.0          1.0            0            0            0   \n",
       "2         NaN          NaN            0            0            0   \n",
       "3         NaN          NaN            0            0            0   \n",
       "4         NaN          NaN            0            0            0   \n",
       "\n",
       "   PROM_CTD_TRX_6M  ANT_CLIENTE  REC_AGENTE_TD  CTD_RECLAMOS_M1  \n",
       "0              0.0        224.0            NaN                0  \n",
       "1              0.0        123.0            NaN                0  \n",
       "2              0.0        264.0            NaN                0  \n",
       "3              0.0        263.0            NaN                0  \n",
       "4              0.0        263.0            NaN                0  "
      ]
     },
     "execution_count": 5,
     "metadata": {},
     "output_type": "execute_result"
    }
   ],
   "source": [
    "df_train_fuga=pd.DataFrame(train_fuga, columns=columns)\n",
    "df_train_fuga.head()"
   ]
  },
  {
   "cell_type": "markdown",
   "metadata": {},
   "source": [
    "**_Nos quedamos solo con las variables predictoras_**"
   ]
  },
  {
   "cell_type": "code",
   "execution_count": 6,
   "metadata": {},
   "outputs": [],
   "source": [
    "variablesEliminar=['CODMES','FLG_CLIENTE','FLG_VEH_SF','FREC_MON_TD']"
   ]
  },
  {
   "cell_type": "code",
   "execution_count": 7,
   "metadata": {},
   "outputs": [],
   "source": [
    "df_train_fuga.drop(variablesEliminar,axis=1, inplace=True)"
   ]
  },
  {
   "cell_type": "markdown",
   "metadata": {},
   "source": [
    "### **_Limpieza de DATA_**"
   ]
  },
  {
   "cell_type": "code",
   "execution_count": 8,
   "metadata": {
    "scrolled": false
   },
   "outputs": [
    {
     "data": {
      "text/plain": [
       "0              1\n",
       "1              2\n",
       "2              3\n",
       "3              4\n",
       "4              5\n",
       "           ...  \n",
       "787490    787491\n",
       "787491    787492\n",
       "787492    787493\n",
       "787493    787494\n",
       "787494    787495\n",
       "Name: Unnamed: 0, Length: 787495, dtype: int64"
      ]
     },
     "execution_count": 8,
     "metadata": {},
     "output_type": "execute_result"
    }
   ],
   "source": [
    "df_train_fuga['Unnamed: 0'] \n",
    "#Al parecer la variable Unnamed: 0 no nos brinda ninguna información util"
   ]
  },
  {
   "cell_type": "code",
   "execution_count": 9,
   "metadata": {},
   "outputs": [],
   "source": [
    "del df_train_fuga['Unnamed: 0']\n",
    "# Al ser una variable que no nos brinda informacion procedemos a eliminarla\n"
   ]
  },
  {
   "cell_type": "code",
   "execution_count": 10,
   "metadata": {
    "scrolled": true
   },
   "outputs": [
    {
     "data": {
      "text/plain": [
       "695206"
      ]
     },
     "execution_count": 10,
     "metadata": {},
     "output_type": "execute_result"
    }
   ],
   "source": [
    "df_train_fuga.REC_AGENTE_TD.isnull().sum() \n",
    "#La variable REC_AGENTE_TD tiene un numero demasiado elevado de valores NaN, por lo que \n",
    " #procedemos a eliminar dicha variable"
   ]
  },
  {
   "cell_type": "code",
   "execution_count": 11,
   "metadata": {},
   "outputs": [],
   "source": [
    "del df_train_fuga['REC_AGENTE_TD']"
   ]
  },
  {
   "cell_type": "code",
   "execution_count": 12,
   "metadata": {},
   "outputs": [
    {
     "data": {
      "text/html": [
       "<div>\n",
       "<style scoped>\n",
       "    .dataframe tbody tr th:only-of-type {\n",
       "        vertical-align: middle;\n",
       "    }\n",
       "\n",
       "    .dataframe tbody tr th {\n",
       "        vertical-align: top;\n",
       "    }\n",
       "\n",
       "    .dataframe thead th {\n",
       "        text-align: right;\n",
       "    }\n",
       "</style>\n",
       "<table border=\"1\" class=\"dataframe\">\n",
       "  <thead>\n",
       "    <tr style=\"text-align: right;\">\n",
       "      <th></th>\n",
       "      <th>TARGET_MODEL2</th>\n",
       "      <th>EDAD</th>\n",
       "      <th>SEXO</th>\n",
       "      <th>DEPARTAMENTO</th>\n",
       "      <th>INGRESO_BRUTO_M1</th>\n",
       "      <th>SEGMENTO</th>\n",
       "      <th>FLG_ADEL_SUELDO_M1</th>\n",
       "      <th>FREC_AGENTE</th>\n",
       "      <th>FLG_CONV_SF</th>\n",
       "      <th>FREC_KIOSKO</th>\n",
       "      <th>FREC_BPI_TD</th>\n",
       "      <th>PROM_CTD_TRX_6M</th>\n",
       "      <th>ANT_CLIENTE</th>\n",
       "      <th>CTD_RECLAMOS_M1</th>\n",
       "    </tr>\n",
       "  </thead>\n",
       "  <tbody>\n",
       "    <tr>\n",
       "      <th>0</th>\n",
       "      <td>0</td>\n",
       "      <td>46</td>\n",
       "      <td>F</td>\n",
       "      <td>PIURA</td>\n",
       "      <td>NaN</td>\n",
       "      <td>2</td>\n",
       "      <td>0</td>\n",
       "      <td>0</td>\n",
       "      <td>0.0</td>\n",
       "      <td>0</td>\n",
       "      <td>0</td>\n",
       "      <td>0.0</td>\n",
       "      <td>224.0</td>\n",
       "      <td>0</td>\n",
       "    </tr>\n",
       "    <tr>\n",
       "      <th>1</th>\n",
       "      <td>0</td>\n",
       "      <td>54</td>\n",
       "      <td>M</td>\n",
       "      <td>LORETO</td>\n",
       "      <td>4718.0</td>\n",
       "      <td>1BC</td>\n",
       "      <td>0</td>\n",
       "      <td>0</td>\n",
       "      <td>1.0</td>\n",
       "      <td>0</td>\n",
       "      <td>0</td>\n",
       "      <td>0.0</td>\n",
       "      <td>123.0</td>\n",
       "      <td>0</td>\n",
       "    </tr>\n",
       "    <tr>\n",
       "      <th>2</th>\n",
       "      <td>0</td>\n",
       "      <td>81</td>\n",
       "      <td>M</td>\n",
       "      <td>NaN</td>\n",
       "      <td>NaN</td>\n",
       "      <td>6</td>\n",
       "      <td>0</td>\n",
       "      <td>0</td>\n",
       "      <td>NaN</td>\n",
       "      <td>0</td>\n",
       "      <td>0</td>\n",
       "      <td>0.0</td>\n",
       "      <td>264.0</td>\n",
       "      <td>0</td>\n",
       "    </tr>\n",
       "    <tr>\n",
       "      <th>3</th>\n",
       "      <td>0</td>\n",
       "      <td>42</td>\n",
       "      <td>M</td>\n",
       "      <td>PIURA</td>\n",
       "      <td>936.0</td>\n",
       "      <td>2</td>\n",
       "      <td>0</td>\n",
       "      <td>0</td>\n",
       "      <td>NaN</td>\n",
       "      <td>0</td>\n",
       "      <td>0</td>\n",
       "      <td>0.0</td>\n",
       "      <td>263.0</td>\n",
       "      <td>0</td>\n",
       "    </tr>\n",
       "    <tr>\n",
       "      <th>4</th>\n",
       "      <td>0</td>\n",
       "      <td>52</td>\n",
       "      <td>M</td>\n",
       "      <td>MOQUEGUA</td>\n",
       "      <td>5844.0</td>\n",
       "      <td>1BC</td>\n",
       "      <td>0</td>\n",
       "      <td>0</td>\n",
       "      <td>NaN</td>\n",
       "      <td>0</td>\n",
       "      <td>0</td>\n",
       "      <td>0.0</td>\n",
       "      <td>263.0</td>\n",
       "      <td>0</td>\n",
       "    </tr>\n",
       "  </tbody>\n",
       "</table>\n",
       "</div>"
      ],
      "text/plain": [
       "   TARGET_MODEL2  EDAD SEXO DEPARTAMENTO  INGRESO_BRUTO_M1 SEGMENTO  \\\n",
       "0              0    46    F        PIURA               NaN        2   \n",
       "1              0    54    M       LORETO            4718.0      1BC   \n",
       "2              0    81    M          NaN               NaN        6   \n",
       "3              0    42    M        PIURA             936.0        2   \n",
       "4              0    52    M     MOQUEGUA            5844.0      1BC   \n",
       "\n",
       "   FLG_ADEL_SUELDO_M1  FREC_AGENTE  FLG_CONV_SF  FREC_KIOSKO  FREC_BPI_TD  \\\n",
       "0                   0            0          0.0            0            0   \n",
       "1                   0            0          1.0            0            0   \n",
       "2                   0            0          NaN            0            0   \n",
       "3                   0            0          NaN            0            0   \n",
       "4                   0            0          NaN            0            0   \n",
       "\n",
       "   PROM_CTD_TRX_6M  ANT_CLIENTE  CTD_RECLAMOS_M1  \n",
       "0              0.0        224.0                0  \n",
       "1              0.0        123.0                0  \n",
       "2              0.0        264.0                0  \n",
       "3              0.0        263.0                0  \n",
       "4              0.0        263.0                0  "
      ]
     },
     "execution_count": 12,
     "metadata": {},
     "output_type": "execute_result"
    }
   ],
   "source": [
    "df_train_fuga.head()"
   ]
  },
  {
   "cell_type": "code",
   "execution_count": 13,
   "metadata": {
    "scrolled": true
   },
   "outputs": [
    {
     "data": {
      "text/plain": [
       "TARGET_MODEL2         False\n",
       "EDAD                  False\n",
       "SEXO                  False\n",
       "DEPARTAMENTO           True\n",
       "INGRESO_BRUTO_M1       True\n",
       "SEGMENTO              False\n",
       "FLG_ADEL_SUELDO_M1    False\n",
       "FREC_AGENTE           False\n",
       "FLG_CONV_SF            True\n",
       "FREC_KIOSKO           False\n",
       "FREC_BPI_TD           False\n",
       "PROM_CTD_TRX_6M       False\n",
       "ANT_CLIENTE            True\n",
       "CTD_RECLAMOS_M1       False\n",
       "dtype: bool"
      ]
     },
     "execution_count": 13,
     "metadata": {},
     "output_type": "execute_result"
    }
   ],
   "source": [
    "df_train_fuga.isnull().any() \n",
    "#Evaluamos que variables tienen datos nulos"
   ]
  },
  {
   "cell_type": "code",
   "execution_count": 14,
   "metadata": {},
   "outputs": [
    {
     "data": {
      "text/plain": [
       "TARGET_MODEL2              0\n",
       "EDAD                       0\n",
       "SEXO                       0\n",
       "DEPARTAMENTO           26975\n",
       "INGRESO_BRUTO_M1      187254\n",
       "SEGMENTO                   0\n",
       "FLG_ADEL_SUELDO_M1         0\n",
       "FREC_AGENTE                0\n",
       "FLG_CONV_SF           269383\n",
       "FREC_KIOSKO                0\n",
       "FREC_BPI_TD                0\n",
       "PROM_CTD_TRX_6M            0\n",
       "ANT_CLIENTE              923\n",
       "CTD_RECLAMOS_M1            0\n",
       "dtype: int64"
      ]
     },
     "execution_count": 14,
     "metadata": {},
     "output_type": "execute_result"
    }
   ],
   "source": [
    "df_train_fuga.isnull().sum()"
   ]
  },
  {
   "cell_type": "code",
   "execution_count": 15,
   "metadata": {
    "scrolled": false
   },
   "outputs": [],
   "source": [
    "# Completando valores faltantas datos cualitativos(Reemplazamos los valores \n",
    "#NaN de la variable departamento por su moda=Lima)\n",
    "imp_moda = SimpleImputer(strategy=\"most_frequent\")\n",
    "df_train_fuga_DEPARTAMENTO=imp_moda.fit_transform(df_train_fuga[[\"DEPARTAMENTO\"]])\n",
    "df_train_fuga[\"DEPARTAMENTO\"]=df_train_fuga_DEPARTAMENTO"
   ]
  },
  {
   "cell_type": "code",
   "execution_count": 16,
   "metadata": {},
   "outputs": [],
   "source": [
    "#Usaremos SimpleImputer para la variable FLG_CONV_SF\n",
    "imp_moda = SimpleImputer(strategy=\"most_frequent\")\n",
    "df_train_fuga_FLG_CONV_SF=imp_moda.fit_transform(df_train_fuga[[\"FLG_CONV_SF\"]])\n",
    "df_train_fuga[\"FLG_CONV_SF\"]=df_train_fuga_FLG_CONV_SF"
   ]
  },
  {
   "cell_type": "code",
   "execution_count": 17,
   "metadata": {
    "scrolled": true
   },
   "outputs": [],
   "source": [
    "# Completando valores faltantas datos categóricos cuantitativas(Reemplazamos los valores NaN\n",
    "#de la variable INGRESO_BRUTO_M1 por su media)\n",
    "imp_mean = SimpleImputer(strategy=\"mean\")\n",
    "df_train_fuga_INGRESO_BRUTO_M1=imp_mean.fit_transform(df_train_fuga[[\"INGRESO_BRUTO_M1\"]])\n",
    "df_train_fuga[\"INGRESO_BRUTO_M1\"]=df_train_fuga_INGRESO_BRUTO_M1"
   ]
  },
  {
   "cell_type": "code",
   "execution_count": 18,
   "metadata": {
    "scrolled": false
   },
   "outputs": [],
   "source": [
    "# Completando valores faltantas datos categóricos cuantitativas(Reemplazamos los valores NaN \n",
    "#de la variable ANT_CLIENTE por su media)\n",
    "imp_mean = SimpleImputer(strategy=\"mean\")\n",
    "df_train_fuga_ANT_CLIENTE=imp_mean.fit_transform(df_train_fuga[[\"ANT_CLIENTE\"]])\n",
    "df_train_fuga[\"ANT_CLIENTE\"]=df_train_fuga_ANT_CLIENTE"
   ]
  },
  {
   "cell_type": "code",
   "execution_count": 19,
   "metadata": {},
   "outputs": [
    {
     "data": {
      "text/plain": [
       "TARGET_MODEL2         0\n",
       "EDAD                  0\n",
       "SEXO                  0\n",
       "DEPARTAMENTO          0\n",
       "INGRESO_BRUTO_M1      0\n",
       "SEGMENTO              0\n",
       "FLG_ADEL_SUELDO_M1    0\n",
       "FREC_AGENTE           0\n",
       "FLG_CONV_SF           0\n",
       "FREC_KIOSKO           0\n",
       "FREC_BPI_TD           0\n",
       "PROM_CTD_TRX_6M       0\n",
       "ANT_CLIENTE           0\n",
       "CTD_RECLAMOS_M1       0\n",
       "dtype: int64"
      ]
     },
     "execution_count": 19,
     "metadata": {},
     "output_type": "execute_result"
    }
   ],
   "source": [
    "df_train_fuga.isnull().sum() \n",
    "#Limpieza de datos terminada"
   ]
  },
  {
   "cell_type": "markdown",
   "metadata": {},
   "source": [
    "## **_1. Análisis exploratorio de las variables: medidas y visualización. (5 puntos)_**"
   ]
  },
  {
   "cell_type": "code",
   "execution_count": 20,
   "metadata": {},
   "outputs": [
    {
     "data": {
      "text/html": [
       "<div>\n",
       "<style scoped>\n",
       "    .dataframe tbody tr th:only-of-type {\n",
       "        vertical-align: middle;\n",
       "    }\n",
       "\n",
       "    .dataframe tbody tr th {\n",
       "        vertical-align: top;\n",
       "    }\n",
       "\n",
       "    .dataframe thead th {\n",
       "        text-align: right;\n",
       "    }\n",
       "</style>\n",
       "<table border=\"1\" class=\"dataframe\">\n",
       "  <thead>\n",
       "    <tr style=\"text-align: right;\">\n",
       "      <th></th>\n",
       "      <th>TARGET_MODEL2</th>\n",
       "      <th>EDAD</th>\n",
       "      <th>INGRESO_BRUTO_M1</th>\n",
       "      <th>FLG_ADEL_SUELDO_M1</th>\n",
       "      <th>FREC_AGENTE</th>\n",
       "      <th>FLG_CONV_SF</th>\n",
       "      <th>FREC_KIOSKO</th>\n",
       "      <th>FREC_BPI_TD</th>\n",
       "      <th>PROM_CTD_TRX_6M</th>\n",
       "      <th>ANT_CLIENTE</th>\n",
       "      <th>CTD_RECLAMOS_M1</th>\n",
       "    </tr>\n",
       "  </thead>\n",
       "  <tbody>\n",
       "    <tr>\n",
       "      <th>count</th>\n",
       "      <td>787495.000000</td>\n",
       "      <td>787495.000000</td>\n",
       "      <td>787495.000000</td>\n",
       "      <td>787495.000000</td>\n",
       "      <td>787495.000000</td>\n",
       "      <td>787495.000000</td>\n",
       "      <td>787495.000000</td>\n",
       "      <td>787495.000000</td>\n",
       "      <td>787495.000000</td>\n",
       "      <td>787495.000000</td>\n",
       "      <td>787495.000000</td>\n",
       "    </tr>\n",
       "    <tr>\n",
       "      <th>mean</th>\n",
       "      <td>0.055551</td>\n",
       "      <td>39.250776</td>\n",
       "      <td>2565.256405</td>\n",
       "      <td>0.066060</td>\n",
       "      <td>0.434386</td>\n",
       "      <td>0.040370</td>\n",
       "      <td>0.913956</td>\n",
       "      <td>0.426572</td>\n",
       "      <td>0.617803</td>\n",
       "      <td>105.254629</td>\n",
       "      <td>0.000192</td>\n",
       "    </tr>\n",
       "    <tr>\n",
       "      <th>std</th>\n",
       "      <td>0.229052</td>\n",
       "      <td>15.752984</td>\n",
       "      <td>2893.187535</td>\n",
       "      <td>0.248387</td>\n",
       "      <td>1.174521</td>\n",
       "      <td>0.196825</td>\n",
       "      <td>1.681188</td>\n",
       "      <td>1.330529</td>\n",
       "      <td>2.901885</td>\n",
       "      <td>158.640973</td>\n",
       "      <td>0.013846</td>\n",
       "    </tr>\n",
       "    <tr>\n",
       "      <th>min</th>\n",
       "      <td>0.000000</td>\n",
       "      <td>0.000000</td>\n",
       "      <td>681.000000</td>\n",
       "      <td>0.000000</td>\n",
       "      <td>0.000000</td>\n",
       "      <td>0.000000</td>\n",
       "      <td>0.000000</td>\n",
       "      <td>0.000000</td>\n",
       "      <td>0.000000</td>\n",
       "      <td>0.000000</td>\n",
       "      <td>0.000000</td>\n",
       "    </tr>\n",
       "    <tr>\n",
       "      <th>25%</th>\n",
       "      <td>0.000000</td>\n",
       "      <td>28.000000</td>\n",
       "      <td>1164.000000</td>\n",
       "      <td>0.000000</td>\n",
       "      <td>0.000000</td>\n",
       "      <td>0.000000</td>\n",
       "      <td>0.000000</td>\n",
       "      <td>0.000000</td>\n",
       "      <td>0.000000</td>\n",
       "      <td>24.000000</td>\n",
       "      <td>0.000000</td>\n",
       "    </tr>\n",
       "    <tr>\n",
       "      <th>50%</th>\n",
       "      <td>0.000000</td>\n",
       "      <td>36.000000</td>\n",
       "      <td>2019.000000</td>\n",
       "      <td>0.000000</td>\n",
       "      <td>0.000000</td>\n",
       "      <td>0.000000</td>\n",
       "      <td>0.000000</td>\n",
       "      <td>0.000000</td>\n",
       "      <td>0.000000</td>\n",
       "      <td>61.000000</td>\n",
       "      <td>0.000000</td>\n",
       "    </tr>\n",
       "    <tr>\n",
       "      <th>75%</th>\n",
       "      <td>0.000000</td>\n",
       "      <td>46.000000</td>\n",
       "      <td>2565.256405</td>\n",
       "      <td>0.000000</td>\n",
       "      <td>0.000000</td>\n",
       "      <td>0.000000</td>\n",
       "      <td>1.000000</td>\n",
       "      <td>0.000000</td>\n",
       "      <td>0.000000</td>\n",
       "      <td>114.000000</td>\n",
       "      <td>0.000000</td>\n",
       "    </tr>\n",
       "    <tr>\n",
       "      <th>max</th>\n",
       "      <td>1.000000</td>\n",
       "      <td>114.000000</td>\n",
       "      <td>214284.000000</td>\n",
       "      <td>1.000000</td>\n",
       "      <td>6.000000</td>\n",
       "      <td>1.000000</td>\n",
       "      <td>6.000000</td>\n",
       "      <td>6.000000</td>\n",
       "      <td>190.333333</td>\n",
       "      <td>782.000000</td>\n",
       "      <td>1.000000</td>\n",
       "    </tr>\n",
       "  </tbody>\n",
       "</table>\n",
       "</div>"
      ],
      "text/plain": [
       "       TARGET_MODEL2           EDAD  INGRESO_BRUTO_M1  FLG_ADEL_SUELDO_M1  \\\n",
       "count  787495.000000  787495.000000     787495.000000       787495.000000   \n",
       "mean        0.055551      39.250776       2565.256405            0.066060   \n",
       "std         0.229052      15.752984       2893.187535            0.248387   \n",
       "min         0.000000       0.000000        681.000000            0.000000   \n",
       "25%         0.000000      28.000000       1164.000000            0.000000   \n",
       "50%         0.000000      36.000000       2019.000000            0.000000   \n",
       "75%         0.000000      46.000000       2565.256405            0.000000   \n",
       "max         1.000000     114.000000     214284.000000            1.000000   \n",
       "\n",
       "         FREC_AGENTE    FLG_CONV_SF    FREC_KIOSKO    FREC_BPI_TD  \\\n",
       "count  787495.000000  787495.000000  787495.000000  787495.000000   \n",
       "mean        0.434386       0.040370       0.913956       0.426572   \n",
       "std         1.174521       0.196825       1.681188       1.330529   \n",
       "min         0.000000       0.000000       0.000000       0.000000   \n",
       "25%         0.000000       0.000000       0.000000       0.000000   \n",
       "50%         0.000000       0.000000       0.000000       0.000000   \n",
       "75%         0.000000       0.000000       1.000000       0.000000   \n",
       "max         6.000000       1.000000       6.000000       6.000000   \n",
       "\n",
       "       PROM_CTD_TRX_6M    ANT_CLIENTE  CTD_RECLAMOS_M1  \n",
       "count    787495.000000  787495.000000    787495.000000  \n",
       "mean          0.617803     105.254629         0.000192  \n",
       "std           2.901885     158.640973         0.013846  \n",
       "min           0.000000       0.000000         0.000000  \n",
       "25%           0.000000      24.000000         0.000000  \n",
       "50%           0.000000      61.000000         0.000000  \n",
       "75%           0.000000     114.000000         0.000000  \n",
       "max         190.333333     782.000000         1.000000  "
      ]
     },
     "execution_count": 20,
     "metadata": {},
     "output_type": "execute_result"
    }
   ],
   "source": [
    "df_train_fuga.describe()\n",
    "# CON .describe podemos obtener estadisticas descriptivas de la data "
   ]
  },
  {
   "cell_type": "markdown",
   "metadata": {},
   "source": [
    "**_Visualizando variables_**"
   ]
  },
  {
   "cell_type": "code",
   "execution_count": 21,
   "metadata": {},
   "outputs": [],
   "source": [
    "def grafica_pie(i):\n",
    "        cod=pd.value_counts(df_train_fuga[i])\n",
    "        cod.plot(kind='pie',autopct='%.2f',title='Frecuencias Relativas por '+ i)"
   ]
  },
  {
   "cell_type": "code",
   "execution_count": 22,
   "metadata": {},
   "outputs": [
    {
     "data": {
      "image/png": "[encoded data removed]",
      "text/plain": [
       "<Figure size 432x288 with 1 Axes>"
      ]
     },
     "metadata": {},
     "output_type": "display_data"
    }
   ],
   "source": [
    "grafica_pie('SEXO') \n",
    "#la mayoria de los clientes son varones"
   ]
  },
  {
   "cell_type": "code",
   "execution_count": 23,
   "metadata": {},
   "outputs": [
    {
     "data": {
      "image/png": "[encoded data removed]",
      "text/plain": [
       "<Figure size 432x288 with 1 Axes>"
      ]
     },
     "metadata": {},
     "output_type": "display_data"
    }
   ],
   "source": [
    "grafica_pie('FLG_ADEL_SUELDO_M1')\n",
    "#Solo el 6.61% obtuvo un adelanto de sueldo 1 mes antes de la campaña"
   ]
  },
  {
   "cell_type": "code",
   "execution_count": 24,
   "metadata": {},
   "outputs": [
    {
     "data": {
      "image/png": "[encoded data removed]",
      "text/plain": [
       "<Figure size 432x288 with 1 Axes>"
      ]
     },
     "metadata": {},
     "output_type": "display_data"
    }
   ],
   "source": [
    "grafica_pie('FLG_CONV_SF')  \n",
    "#Solo hubo un 4.04% de convenios un mes antes de la campaña en el sistema financiero"
   ]
  },
  {
   "cell_type": "code",
   "execution_count": 25,
   "metadata": {
    "scrolled": true
   },
   "outputs": [
    {
     "data": {
      "image/png": "[encoded data removed]",
      "text/plain": [
       "<Figure size 432x288 with 1 Axes>"
      ]
     },
     "metadata": {
      "needs_background": "light"
     },
     "output_type": "display_data"
    }
   ],
   "source": [
    "# Grafico de distribucion de clientes por SEGEMENTO\n",
    "df_train_fuga.groupby('SEGMENTO').size().plot(kind='bar')\n",
    "plt.title('Distribución de los clientes por Segmento')\n",
    "plt.show()\n"
   ]
  },
  {
   "cell_type": "code",
   "execution_count": 26,
   "metadata": {
    "scrolled": true
   },
   "outputs": [
    {
     "data": {
      "image/png": "[encoded data removed]",
      "text/plain": [
       "<Figure size 432x288 with 1 Axes>"
      ]
     },
     "metadata": {
      "needs_background": "light"
     },
     "output_type": "display_data"
    }
   ],
   "source": [
    "# Grafico de distribucion de clientes por DEPARTAMENTO\n",
    "df_train_fuga.groupby('DEPARTAMENTO').size().plot(kind='bar')\n",
    "plt.title('Distribución de los clientes por departamento')\n",
    "plt.show()\n",
    "#PODEMOS OBSERVAR QUE POR GRAN DIFERENCIA QUE LA MAYORIA DE \n",
    "#CLIENTES SE ENCUENTRAN EN LIMA"
   ]
  },
  {
   "cell_type": "code",
   "execution_count": 27,
   "metadata": {
    "scrolled": false
   },
   "outputs": [
    {
     "data": {
      "text/html": [
       "<div>\n",
       "<style scoped>\n",
       "    .dataframe tbody tr th:only-of-type {\n",
       "        vertical-align: middle;\n",
       "    }\n",
       "\n",
       "    .dataframe tbody tr th {\n",
       "        vertical-align: top;\n",
       "    }\n",
       "\n",
       "    .dataframe thead th {\n",
       "        text-align: right;\n",
       "    }\n",
       "</style>\n",
       "<table border=\"1\" class=\"dataframe\">\n",
       "  <thead>\n",
       "    <tr style=\"text-align: right;\">\n",
       "      <th></th>\n",
       "      <th>TARGET_MODEL2</th>\n",
       "      <th>EDAD</th>\n",
       "      <th>INGRESO_BRUTO_M1</th>\n",
       "      <th>FLG_ADEL_SUELDO_M1</th>\n",
       "      <th>FREC_AGENTE</th>\n",
       "      <th>FLG_CONV_SF</th>\n",
       "      <th>FREC_KIOSKO</th>\n",
       "      <th>FREC_BPI_TD</th>\n",
       "      <th>PROM_CTD_TRX_6M</th>\n",
       "      <th>ANT_CLIENTE</th>\n",
       "      <th>CTD_RECLAMOS_M1</th>\n",
       "    </tr>\n",
       "  </thead>\n",
       "  <tbody>\n",
       "    <tr>\n",
       "      <th>TARGET_MODEL2</th>\n",
       "      <td>1.000000</td>\n",
       "      <td>-0.099910</td>\n",
       "      <td>-0.027679</td>\n",
       "      <td>0.039464</td>\n",
       "      <td>0.072230</td>\n",
       "      <td>-0.022393</td>\n",
       "      <td>0.069696</td>\n",
       "      <td>0.019426</td>\n",
       "      <td>-0.005719</td>\n",
       "      <td>-0.058181</td>\n",
       "      <td>0.006251</td>\n",
       "    </tr>\n",
       "    <tr>\n",
       "      <th>EDAD</th>\n",
       "      <td>-0.099910</td>\n",
       "      <td>1.000000</td>\n",
       "      <td>0.124815</td>\n",
       "      <td>-0.059054</td>\n",
       "      <td>-0.118727</td>\n",
       "      <td>0.082007</td>\n",
       "      <td>-0.088276</td>\n",
       "      <td>-0.079606</td>\n",
       "      <td>0.000080</td>\n",
       "      <td>0.282630</td>\n",
       "      <td>-0.008569</td>\n",
       "    </tr>\n",
       "    <tr>\n",
       "      <th>INGRESO_BRUTO_M1</th>\n",
       "      <td>-0.027679</td>\n",
       "      <td>0.124815</td>\n",
       "      <td>1.000000</td>\n",
       "      <td>-0.013553</td>\n",
       "      <td>-0.045131</td>\n",
       "      <td>0.028268</td>\n",
       "      <td>0.036599</td>\n",
       "      <td>0.188431</td>\n",
       "      <td>0.292224</td>\n",
       "      <td>0.086854</td>\n",
       "      <td>-0.002471</td>\n",
       "    </tr>\n",
       "    <tr>\n",
       "      <th>FLG_ADEL_SUELDO_M1</th>\n",
       "      <td>0.039464</td>\n",
       "      <td>-0.059054</td>\n",
       "      <td>-0.013553</td>\n",
       "      <td>1.000000</td>\n",
       "      <td>0.092001</td>\n",
       "      <td>0.016854</td>\n",
       "      <td>0.172604</td>\n",
       "      <td>0.057773</td>\n",
       "      <td>0.034367</td>\n",
       "      <td>-0.047011</td>\n",
       "      <td>-0.001098</td>\n",
       "    </tr>\n",
       "    <tr>\n",
       "      <th>FREC_AGENTE</th>\n",
       "      <td>0.072230</td>\n",
       "      <td>-0.118727</td>\n",
       "      <td>-0.045131</td>\n",
       "      <td>0.092001</td>\n",
       "      <td>1.000000</td>\n",
       "      <td>-0.020157</td>\n",
       "      <td>0.152102</td>\n",
       "      <td>0.093756</td>\n",
       "      <td>0.006795</td>\n",
       "      <td>-0.073852</td>\n",
       "      <td>0.001594</td>\n",
       "    </tr>\n",
       "    <tr>\n",
       "      <th>FLG_CONV_SF</th>\n",
       "      <td>-0.022393</td>\n",
       "      <td>0.082007</td>\n",
       "      <td>0.028268</td>\n",
       "      <td>0.016854</td>\n",
       "      <td>-0.020157</td>\n",
       "      <td>1.000000</td>\n",
       "      <td>0.000723</td>\n",
       "      <td>-0.012079</td>\n",
       "      <td>-0.003327</td>\n",
       "      <td>0.015504</td>\n",
       "      <td>-0.001443</td>\n",
       "    </tr>\n",
       "    <tr>\n",
       "      <th>FREC_KIOSKO</th>\n",
       "      <td>0.069696</td>\n",
       "      <td>-0.088276</td>\n",
       "      <td>0.036599</td>\n",
       "      <td>0.172604</td>\n",
       "      <td>0.152102</td>\n",
       "      <td>0.000723</td>\n",
       "      <td>1.000000</td>\n",
       "      <td>0.048628</td>\n",
       "      <td>0.117037</td>\n",
       "      <td>-0.046667</td>\n",
       "      <td>0.003109</td>\n",
       "    </tr>\n",
       "    <tr>\n",
       "      <th>FREC_BPI_TD</th>\n",
       "      <td>0.019426</td>\n",
       "      <td>-0.079606</td>\n",
       "      <td>0.188431</td>\n",
       "      <td>0.057773</td>\n",
       "      <td>0.093756</td>\n",
       "      <td>-0.012079</td>\n",
       "      <td>0.048628</td>\n",
       "      <td>1.000000</td>\n",
       "      <td>0.205060</td>\n",
       "      <td>-0.012054</td>\n",
       "      <td>0.000316</td>\n",
       "    </tr>\n",
       "    <tr>\n",
       "      <th>PROM_CTD_TRX_6M</th>\n",
       "      <td>-0.005719</td>\n",
       "      <td>0.000080</td>\n",
       "      <td>0.292224</td>\n",
       "      <td>0.034367</td>\n",
       "      <td>0.006795</td>\n",
       "      <td>-0.003327</td>\n",
       "      <td>0.117037</td>\n",
       "      <td>0.205060</td>\n",
       "      <td>1.000000</td>\n",
       "      <td>0.039526</td>\n",
       "      <td>-0.001252</td>\n",
       "    </tr>\n",
       "    <tr>\n",
       "      <th>ANT_CLIENTE</th>\n",
       "      <td>-0.058181</td>\n",
       "      <td>0.282630</td>\n",
       "      <td>0.086854</td>\n",
       "      <td>-0.047011</td>\n",
       "      <td>-0.073852</td>\n",
       "      <td>0.015504</td>\n",
       "      <td>-0.046667</td>\n",
       "      <td>-0.012054</td>\n",
       "      <td>0.039526</td>\n",
       "      <td>1.000000</td>\n",
       "      <td>-0.006866</td>\n",
       "    </tr>\n",
       "    <tr>\n",
       "      <th>CTD_RECLAMOS_M1</th>\n",
       "      <td>0.006251</td>\n",
       "      <td>-0.008569</td>\n",
       "      <td>-0.002471</td>\n",
       "      <td>-0.001098</td>\n",
       "      <td>0.001594</td>\n",
       "      <td>-0.001443</td>\n",
       "      <td>0.003109</td>\n",
       "      <td>0.000316</td>\n",
       "      <td>-0.001252</td>\n",
       "      <td>-0.006866</td>\n",
       "      <td>1.000000</td>\n",
       "    </tr>\n",
       "  </tbody>\n",
       "</table>\n",
       "</div>"
      ],
      "text/plain": [
       "                    TARGET_MODEL2      EDAD  INGRESO_BRUTO_M1  \\\n",
       "TARGET_MODEL2            1.000000 -0.099910         -0.027679   \n",
       "EDAD                    -0.099910  1.000000          0.124815   \n",
       "INGRESO_BRUTO_M1        -0.027679  0.124815          1.000000   \n",
       "FLG_ADEL_SUELDO_M1       0.039464 -0.059054         -0.013553   \n",
       "FREC_AGENTE              0.072230 -0.118727         -0.045131   \n",
       "FLG_CONV_SF             -0.022393  0.082007          0.028268   \n",
       "FREC_KIOSKO              0.069696 -0.088276          0.036599   \n",
       "FREC_BPI_TD              0.019426 -0.079606          0.188431   \n",
       "PROM_CTD_TRX_6M         -0.005719  0.000080          0.292224   \n",
       "ANT_CLIENTE             -0.058181  0.282630          0.086854   \n",
       "CTD_RECLAMOS_M1          0.006251 -0.008569         -0.002471   \n",
       "\n",
       "                    FLG_ADEL_SUELDO_M1  FREC_AGENTE  FLG_CONV_SF  FREC_KIOSKO  \\\n",
       "TARGET_MODEL2                 0.039464     0.072230    -0.022393     0.069696   \n",
       "EDAD                         -0.059054    -0.118727     0.082007    -0.088276   \n",
       "INGRESO_BRUTO_M1             -0.013553    -0.045131     0.028268     0.036599   \n",
       "FLG_ADEL_SUELDO_M1            1.000000     0.092001     0.016854     0.172604   \n",
       "FREC_AGENTE                   0.092001     1.000000    -0.020157     0.152102   \n",
       "FLG_CONV_SF                   0.016854    -0.020157     1.000000     0.000723   \n",
       "FREC_KIOSKO                   0.172604     0.152102     0.000723     1.000000   \n",
       "FREC_BPI_TD                   0.057773     0.093756    -0.012079     0.048628   \n",
       "PROM_CTD_TRX_6M               0.034367     0.006795    -0.003327     0.117037   \n",
       "ANT_CLIENTE                  -0.047011    -0.073852     0.015504    -0.046667   \n",
       "CTD_RECLAMOS_M1              -0.001098     0.001594    -0.001443     0.003109   \n",
       "\n",
       "                    FREC_BPI_TD  PROM_CTD_TRX_6M  ANT_CLIENTE  CTD_RECLAMOS_M1  \n",
       "TARGET_MODEL2          0.019426        -0.005719    -0.058181         0.006251  \n",
       "EDAD                  -0.079606         0.000080     0.282630        -0.008569  \n",
       "INGRESO_BRUTO_M1       0.188431         0.292224     0.086854        -0.002471  \n",
       "FLG_ADEL_SUELDO_M1     0.057773         0.034367    -0.047011        -0.001098  \n",
       "FREC_AGENTE            0.093756         0.006795    -0.073852         0.001594  \n",
       "FLG_CONV_SF           -0.012079        -0.003327     0.015504        -0.001443  \n",
       "FREC_KIOSKO            0.048628         0.117037    -0.046667         0.003109  \n",
       "FREC_BPI_TD            1.000000         0.205060    -0.012054         0.000316  \n",
       "PROM_CTD_TRX_6M        0.205060         1.000000     0.039526        -0.001252  \n",
       "ANT_CLIENTE           -0.012054         0.039526     1.000000        -0.006866  \n",
       "CTD_RECLAMOS_M1        0.000316        -0.001252    -0.006866         1.000000  "
      ]
     },
     "execution_count": 27,
     "metadata": {},
     "output_type": "execute_result"
    }
   ],
   "source": [
    "df_train_fuga.corr() \n",
    "#Evaluamos la correlacion existente entre variables"
   ]
  },
  {
   "cell_type": "code",
   "execution_count": 28,
   "metadata": {},
   "outputs": [],
   "source": [
    "# Entre las variables con mas correlacion tenemos :[ANT_CLIENTE - EDAD(0.28)]\n",
    "#[PROM_CTD_TRX_6M - INGRESO_BRUTO_M1 (0.29)] [PROM_CTD_TRX_6M - FREC_BPI_TD (0.205)]"
   ]
  },
  {
   "cell_type": "code",
   "execution_count": 29,
   "metadata": {},
   "outputs": [],
   "source": [
    "variables=['EDAD', 'SEXO', 'DEPARTAMENTO', 'INGRESO_BRUTO_M1',\n",
    "       'SEGMENTO', 'FLG_ADEL_SUELDO_M1', 'FREC_AGENTE', 'FLG_CONV_SF',\n",
    "       'FREC_KIOSKO', 'FREC_BPI_TD', 'PROM_CTD_TRX_6M', 'ANT_CLIENTE',\n",
    "       'CTD_RECLAMOS_M1']"
   ]
  },
  {
   "cell_type": "code",
   "execution_count": 30,
   "metadata": {
    "scrolled": true
   },
   "outputs": [
    {
     "data": {
      "image/png": "[encoded data removed]",
      "text/plain": [
       "<Figure size 432x288 with 2 Axes>"
      ]
     },
     "metadata": {
      "needs_background": "light"
     },
     "output_type": "display_data"
    }
   ],
   "source": [
    "# PARA PODER VISUALIZAR MEJOR LAS CORRELACIONES DESARROLLAMOS LA GRÁFICA SIGUIENTE\n",
    "corr=df_train_fuga[variables].corr()\n",
    "sm.graphics.plot_corr(corr, xnames=list(corr.columns))\n",
    "plt.show() #LAS CORRELACIONES TIENDEN A SER MUY BAJAS <0.4"
   ]
  },
  {
   "cell_type": "code",
   "execution_count": 31,
   "metadata": {},
   "outputs": [],
   "source": [
    "#Graficamos algunas variables con mayor correlacion entre ellas\n",
    "var=['EDAD', 'ANT_CLIENTE','INGRESO_BRUTO_M1','PROM_CTD_TRX_6M','FREC_BPI_TD']"
   ]
  },
  {
   "cell_type": "code",
   "execution_count": 32,
   "metadata": {
    "scrolled": true
   },
   "outputs": [
    {
     "data": {
      "text/plain": [
       "<seaborn.axisgrid.PairGrid at 0x29a1f6e6610>"
      ]
     },
     "execution_count": 32,
     "metadata": {},
     "output_type": "execute_result"
    },
    {
     "data": {
      "image/png": "[encoded data removed]",
      "text/plain": [
       "<Figure size 900x900 with 30 Axes>"
      ]
     },
     "metadata": {
      "needs_background": "light"
     },
     "output_type": "display_data"
    }
   ],
   "source": [
    "sns.pairplot(data=df_train_fuga[var])"
   ]
  },
  {
   "cell_type": "code",
   "execution_count": 33,
   "metadata": {
    "scrolled": true
   },
   "outputs": [
    {
     "data": {
      "text/plain": [
       "<matplotlib.axes._subplots.AxesSubplot at 0x29a30867fd0>"
      ]
     },
     "execution_count": 33,
     "metadata": {},
     "output_type": "execute_result"
    },
    {
     "data": {
      "image/png": "[encoded data removed]",
      "text/plain": [
       "<Figure size 432x288 with 1 Axes>"
      ]
     },
     "metadata": {
      "needs_background": "light"
     },
     "output_type": "display_data"
    }
   ],
   "source": [
    "sns.barplot(x='SEXO', y='INGRESO_BRUTO_M1', data=df_train_fuga) \n",
    "#Los hombres obtuvieron un ingreso bruto mayor al de las mujeres en el mes anterior"
   ]
  },
  {
   "cell_type": "markdown",
   "metadata": {},
   "source": [
    "## **_2.Realizar un análisis exploratorio sobre presencia de outliers. (2 puntos)_**"
   ]
  },
  {
   "cell_type": "code",
   "execution_count": 34,
   "metadata": {},
   "outputs": [],
   "source": [
    "variables=['EDAD',  'INGRESO_BRUTO_M1'\n",
    "       , 'FLG_ADEL_SUELDO_M1', 'FREC_AGENTE', 'FLG_CONV_SF',\n",
    "       'FREC_KIOSKO', 'FREC_BPI_TD', 'PROM_CTD_TRX_6M', 'ANT_CLIENTE',\n",
    "       'CTD_RECLAMOS_M1']\n",
    "#NOS QUEDAMOS CON LAS VARIABLES CUANTITATIVAS"
   ]
  },
  {
   "cell_type": "code",
   "execution_count": 35,
   "metadata": {},
   "outputs": [
    {
     "name": "stdout",
     "output_type": "stream",
     "text": [
      "[[4.28441250e-01 4.71536291e-16 2.65956222e-01 ... 2.12897170e-01\n",
      "  7.48516882e-01 1.38486109e-02]\n",
      " [9.36281871e-01 7.44073772e-01 2.65956222e-01 ... 2.12897170e-01\n",
      "  1.11858759e-01 1.38486109e-02]\n",
      " [2.65024396e+00 4.71536291e-16 2.65956222e-01 ... 2.12897170e-01\n",
      "  1.00065871e+00 1.38486109e-02]\n",
      " ...\n",
      " [3.96799758e-01 1.53455189e+00 2.65956222e-01 ... 1.89140650e-01\n",
      "  2.72657533e-01 1.38486109e-02]\n",
      " [5.87239990e-01 5.52766594e-01 2.65956222e-01 ... 2.12897170e-01\n",
      "  6.00441914e-01 1.38486109e-02]\n",
      " [1.42879447e-01 8.25299115e-01 2.65956222e-01 ... 9.93216290e-01\n",
      "  3.41996537e-01 1.38486109e-02]]\n"
     ]
    }
   ],
   "source": [
    "z = np.abs(stats.zscore(df_train_fuga[variables])) \n",
    "#valor absoluto de las z-score\n",
    "print(z)"
   ]
  },
  {
   "cell_type": "code",
   "execution_count": 36,
   "metadata": {},
   "outputs": [
    {
     "name": "stdout",
     "output_type": "stream",
     "text": [
      "(array([     1,      7,      8, ..., 787488, 787490, 787491], dtype=int64), array([4, 6, 8, ..., 2, 4, 7], dtype=int64))\n"
     ]
    }
   ],
   "source": [
    "#Iniciamos evaluando la presencia de outliers con un K=3\n",
    "k = 3\n",
    "print(np.where(z > k))"
   ]
  },
  {
   "cell_type": "code",
   "execution_count": 37,
   "metadata": {},
   "outputs": [
    {
     "data": {
      "text/html": [
       "<div>\n",
       "<style scoped>\n",
       "    .dataframe tbody tr th:only-of-type {\n",
       "        vertical-align: middle;\n",
       "    }\n",
       "\n",
       "    .dataframe tbody tr th {\n",
       "        vertical-align: top;\n",
       "    }\n",
       "\n",
       "    .dataframe thead th {\n",
       "        text-align: right;\n",
       "    }\n",
       "</style>\n",
       "<table border=\"1\" class=\"dataframe\">\n",
       "  <thead>\n",
       "    <tr style=\"text-align: right;\">\n",
       "      <th></th>\n",
       "      <th>TARGET_MODEL2</th>\n",
       "      <th>EDAD</th>\n",
       "      <th>SEXO</th>\n",
       "      <th>DEPARTAMENTO</th>\n",
       "      <th>INGRESO_BRUTO_M1</th>\n",
       "      <th>SEGMENTO</th>\n",
       "      <th>FLG_ADEL_SUELDO_M1</th>\n",
       "      <th>FREC_AGENTE</th>\n",
       "      <th>FLG_CONV_SF</th>\n",
       "      <th>FREC_KIOSKO</th>\n",
       "      <th>FREC_BPI_TD</th>\n",
       "      <th>PROM_CTD_TRX_6M</th>\n",
       "      <th>ANT_CLIENTE</th>\n",
       "      <th>CTD_RECLAMOS_M1</th>\n",
       "    </tr>\n",
       "  </thead>\n",
       "  <tbody>\n",
       "    <tr>\n",
       "      <th>0</th>\n",
       "      <td>0</td>\n",
       "      <td>46</td>\n",
       "      <td>F</td>\n",
       "      <td>PIURA</td>\n",
       "      <td>2565.256405</td>\n",
       "      <td>2</td>\n",
       "      <td>0</td>\n",
       "      <td>0</td>\n",
       "      <td>0.0</td>\n",
       "      <td>0</td>\n",
       "      <td>0</td>\n",
       "      <td>0.0</td>\n",
       "      <td>224.0</td>\n",
       "      <td>0</td>\n",
       "    </tr>\n",
       "    <tr>\n",
       "      <th>2</th>\n",
       "      <td>0</td>\n",
       "      <td>81</td>\n",
       "      <td>M</td>\n",
       "      <td>LIMA</td>\n",
       "      <td>2565.256405</td>\n",
       "      <td>6</td>\n",
       "      <td>0</td>\n",
       "      <td>0</td>\n",
       "      <td>0.0</td>\n",
       "      <td>0</td>\n",
       "      <td>0</td>\n",
       "      <td>0.0</td>\n",
       "      <td>264.0</td>\n",
       "      <td>0</td>\n",
       "    </tr>\n",
       "    <tr>\n",
       "      <th>3</th>\n",
       "      <td>0</td>\n",
       "      <td>42</td>\n",
       "      <td>M</td>\n",
       "      <td>PIURA</td>\n",
       "      <td>936.000000</td>\n",
       "      <td>2</td>\n",
       "      <td>0</td>\n",
       "      <td>0</td>\n",
       "      <td>0.0</td>\n",
       "      <td>0</td>\n",
       "      <td>0</td>\n",
       "      <td>0.0</td>\n",
       "      <td>263.0</td>\n",
       "      <td>0</td>\n",
       "    </tr>\n",
       "    <tr>\n",
       "      <th>4</th>\n",
       "      <td>0</td>\n",
       "      <td>52</td>\n",
       "      <td>M</td>\n",
       "      <td>MOQUEGUA</td>\n",
       "      <td>5844.000000</td>\n",
       "      <td>1BC</td>\n",
       "      <td>0</td>\n",
       "      <td>0</td>\n",
       "      <td>0.0</td>\n",
       "      <td>0</td>\n",
       "      <td>0</td>\n",
       "      <td>0.0</td>\n",
       "      <td>263.0</td>\n",
       "      <td>0</td>\n",
       "    </tr>\n",
       "    <tr>\n",
       "      <th>5</th>\n",
       "      <td>0</td>\n",
       "      <td>74</td>\n",
       "      <td>M</td>\n",
       "      <td>LA LIBERTAD</td>\n",
       "      <td>2565.256405</td>\n",
       "      <td>6</td>\n",
       "      <td>0</td>\n",
       "      <td>0</td>\n",
       "      <td>0.0</td>\n",
       "      <td>0</td>\n",
       "      <td>0</td>\n",
       "      <td>0.0</td>\n",
       "      <td>256.0</td>\n",
       "      <td>0</td>\n",
       "    </tr>\n",
       "  </tbody>\n",
       "</table>\n",
       "</div>"
      ],
      "text/plain": [
       "   TARGET_MODEL2  EDAD SEXO DEPARTAMENTO  INGRESO_BRUTO_M1 SEGMENTO  \\\n",
       "0              0    46    F        PIURA       2565.256405        2   \n",
       "2              0    81    M         LIMA       2565.256405        6   \n",
       "3              0    42    M        PIURA        936.000000        2   \n",
       "4              0    52    M     MOQUEGUA       5844.000000      1BC   \n",
       "5              0    74    M  LA LIBERTAD       2565.256405        6   \n",
       "\n",
       "   FLG_ADEL_SUELDO_M1  FREC_AGENTE  FLG_CONV_SF  FREC_KIOSKO  FREC_BPI_TD  \\\n",
       "0                   0            0          0.0            0            0   \n",
       "2                   0            0          0.0            0            0   \n",
       "3                   0            0          0.0            0            0   \n",
       "4                   0            0          0.0            0            0   \n",
       "5                   0            0          0.0            0            0   \n",
       "\n",
       "   PROM_CTD_TRX_6M  ANT_CLIENTE  CTD_RECLAMOS_M1  \n",
       "0              0.0        224.0                0  \n",
       "2              0.0        264.0                0  \n",
       "3              0.0        263.0                0  \n",
       "4              0.0        263.0                0  \n",
       "5              0.0        256.0                0  "
      ]
     },
     "execution_count": 37,
     "metadata": {},
     "output_type": "execute_result"
    }
   ],
   "source": [
    "df_train_fuga_o = df_train_fuga[(z < 3).all(axis=1)]\n",
    "df_train_fuga_o.head()"
   ]
  },
  {
   "cell_type": "code",
   "execution_count": 38,
   "metadata": {},
   "outputs": [
    {
     "data": {
      "text/plain": [
       "787495"
      ]
     },
     "execution_count": 38,
     "metadata": {},
     "output_type": "execute_result"
    }
   ],
   "source": [
    "len(df_train_fuga) \n",
    "#TAMAÑO TOTAL DEL DATAFRAME"
   ]
  },
  {
   "cell_type": "code",
   "execution_count": 39,
   "metadata": {},
   "outputs": [
    {
     "data": {
      "text/plain": [
       "566103"
      ]
     },
     "execution_count": 39,
     "metadata": {},
     "output_type": "execute_result"
    }
   ],
   "source": [
    "len(df_train_fuga_o) \n",
    "# CANTIDAD DE DATA SIN LA PRESENCIA DE OUTLIERS"
   ]
  },
  {
   "cell_type": "code",
   "execution_count": 40,
   "metadata": {},
   "outputs": [
    {
     "data": {
      "text/plain": [
       "221392"
      ]
     },
     "execution_count": 40,
     "metadata": {},
     "output_type": "execute_result"
    }
   ],
   "source": [
    "len(df_train_fuga)-len(df_train_fuga_o) \n",
    "#DETECTAMOS 221392 VALORES FUERA DEL RANGO ESTABLECIDO (OUTLIERS)"
   ]
  },
  {
   "cell_type": "code",
   "execution_count": 41,
   "metadata": {
    "scrolled": true
   },
   "outputs": [
    {
     "data": {
      "text/plain": [
       "<matplotlib.axes._subplots.AxesSubplot at 0x29a308a0d00>"
      ]
     },
     "execution_count": 41,
     "metadata": {},
     "output_type": "execute_result"
    },
    {
     "data": {
      "image/png": "[encoded data removed]",
      "text/plain": [
       "<Figure size 432x288 with 1 Axes>"
      ]
     },
     "metadata": {
      "needs_background": "light"
     },
     "output_type": "display_data"
    }
   ],
   "source": [
    "sns.boxplot (x = df_train_fuga_o ['INGRESO_BRUTO_M1']) \n",
    "#GRAFICA BOXPLOT PARA INGRESO_BRUTO_M1"
   ]
  },
  {
   "cell_type": "code",
   "execution_count": 42,
   "metadata": {},
   "outputs": [
    {
     "data": {
      "text/plain": [
       "<matplotlib.axes._subplots.AxesSubplot at 0x29a30902190>"
      ]
     },
     "execution_count": 42,
     "metadata": {},
     "output_type": "execute_result"
    },
    {
     "data": {
      "image/png": "[encoded data removed]",
      "text/plain": [
       "<Figure size 432x288 with 1 Axes>"
      ]
     },
     "metadata": {
      "needs_background": "light"
     },
     "output_type": "display_data"
    }
   ],
   "source": [
    "sns.boxplot (x = df_train_fuga_o ['ANT_CLIENTE']) #GRAFICA BOXPLOT PARA ANT_CLIENTE"
   ]
  },
  {
   "cell_type": "code",
   "execution_count": 43,
   "metadata": {},
   "outputs": [
    {
     "data": {
      "text/plain": [
       "2"
      ]
     },
     "execution_count": 43,
     "metadata": {},
     "output_type": "execute_result"
    }
   ],
   "source": [
    "#Evaluamos la presencia de outliers con un K=2\n",
    "k = 2\n",
    "len(np.where(z > k))\n"
   ]
  },
  {
   "cell_type": "code",
   "execution_count": 44,
   "metadata": {},
   "outputs": [
    {
     "data": {
      "text/html": [
       "<div>\n",
       "<style scoped>\n",
       "    .dataframe tbody tr th:only-of-type {\n",
       "        vertical-align: middle;\n",
       "    }\n",
       "\n",
       "    .dataframe tbody tr th {\n",
       "        vertical-align: top;\n",
       "    }\n",
       "\n",
       "    .dataframe thead th {\n",
       "        text-align: right;\n",
       "    }\n",
       "</style>\n",
       "<table border=\"1\" class=\"dataframe\">\n",
       "  <thead>\n",
       "    <tr style=\"text-align: right;\">\n",
       "      <th></th>\n",
       "      <th>TARGET_MODEL2</th>\n",
       "      <th>EDAD</th>\n",
       "      <th>SEXO</th>\n",
       "      <th>DEPARTAMENTO</th>\n",
       "      <th>INGRESO_BRUTO_M1</th>\n",
       "      <th>SEGMENTO</th>\n",
       "      <th>FLG_ADEL_SUELDO_M1</th>\n",
       "      <th>FREC_AGENTE</th>\n",
       "      <th>FLG_CONV_SF</th>\n",
       "      <th>FREC_KIOSKO</th>\n",
       "      <th>FREC_BPI_TD</th>\n",
       "      <th>PROM_CTD_TRX_6M</th>\n",
       "      <th>ANT_CLIENTE</th>\n",
       "      <th>CTD_RECLAMOS_M1</th>\n",
       "    </tr>\n",
       "  </thead>\n",
       "  <tbody>\n",
       "    <tr>\n",
       "      <th>0</th>\n",
       "      <td>0</td>\n",
       "      <td>46</td>\n",
       "      <td>F</td>\n",
       "      <td>PIURA</td>\n",
       "      <td>2565.256405</td>\n",
       "      <td>2</td>\n",
       "      <td>0</td>\n",
       "      <td>0</td>\n",
       "      <td>0.0</td>\n",
       "      <td>0</td>\n",
       "      <td>0</td>\n",
       "      <td>0.0</td>\n",
       "      <td>224.0</td>\n",
       "      <td>0</td>\n",
       "    </tr>\n",
       "    <tr>\n",
       "      <th>3</th>\n",
       "      <td>0</td>\n",
       "      <td>42</td>\n",
       "      <td>M</td>\n",
       "      <td>PIURA</td>\n",
       "      <td>936.000000</td>\n",
       "      <td>2</td>\n",
       "      <td>0</td>\n",
       "      <td>0</td>\n",
       "      <td>0.0</td>\n",
       "      <td>0</td>\n",
       "      <td>0</td>\n",
       "      <td>0.0</td>\n",
       "      <td>263.0</td>\n",
       "      <td>0</td>\n",
       "    </tr>\n",
       "    <tr>\n",
       "      <th>4</th>\n",
       "      <td>0</td>\n",
       "      <td>52</td>\n",
       "      <td>M</td>\n",
       "      <td>MOQUEGUA</td>\n",
       "      <td>5844.000000</td>\n",
       "      <td>1BC</td>\n",
       "      <td>0</td>\n",
       "      <td>0</td>\n",
       "      <td>0.0</td>\n",
       "      <td>0</td>\n",
       "      <td>0</td>\n",
       "      <td>0.0</td>\n",
       "      <td>263.0</td>\n",
       "      <td>0</td>\n",
       "    </tr>\n",
       "    <tr>\n",
       "      <th>6</th>\n",
       "      <td>0</td>\n",
       "      <td>66</td>\n",
       "      <td>M</td>\n",
       "      <td>LA LIBERTAD</td>\n",
       "      <td>4232.000000</td>\n",
       "      <td>1BC</td>\n",
       "      <td>0</td>\n",
       "      <td>0</td>\n",
       "      <td>0.0</td>\n",
       "      <td>0</td>\n",
       "      <td>0</td>\n",
       "      <td>0.0</td>\n",
       "      <td>85.0</td>\n",
       "      <td>0</td>\n",
       "    </tr>\n",
       "    <tr>\n",
       "      <th>9</th>\n",
       "      <td>0</td>\n",
       "      <td>63</td>\n",
       "      <td>M</td>\n",
       "      <td>ANCASH</td>\n",
       "      <td>936.000000</td>\n",
       "      <td>2</td>\n",
       "      <td>0</td>\n",
       "      <td>0</td>\n",
       "      <td>0.0</td>\n",
       "      <td>0</td>\n",
       "      <td>0</td>\n",
       "      <td>0.0</td>\n",
       "      <td>272.0</td>\n",
       "      <td>0</td>\n",
       "    </tr>\n",
       "  </tbody>\n",
       "</table>\n",
       "</div>"
      ],
      "text/plain": [
       "   TARGET_MODEL2  EDAD SEXO DEPARTAMENTO  INGRESO_BRUTO_M1 SEGMENTO  \\\n",
       "0              0    46    F        PIURA       2565.256405        2   \n",
       "3              0    42    M        PIURA        936.000000        2   \n",
       "4              0    52    M     MOQUEGUA       5844.000000      1BC   \n",
       "6              0    66    M  LA LIBERTAD       4232.000000      1BC   \n",
       "9              0    63    M       ANCASH        936.000000        2   \n",
       "\n",
       "   FLG_ADEL_SUELDO_M1  FREC_AGENTE  FLG_CONV_SF  FREC_KIOSKO  FREC_BPI_TD  \\\n",
       "0                   0            0          0.0            0            0   \n",
       "3                   0            0          0.0            0            0   \n",
       "4                   0            0          0.0            0            0   \n",
       "6                   0            0          0.0            0            0   \n",
       "9                   0            0          0.0            0            0   \n",
       "\n",
       "   PROM_CTD_TRX_6M  ANT_CLIENTE  CTD_RECLAMOS_M1  \n",
       "0              0.0        224.0                0  \n",
       "3              0.0        263.0                0  \n",
       "4              0.0        263.0                0  \n",
       "6              0.0         85.0                0  \n",
       "9              0.0        272.0                0  "
      ]
     },
     "execution_count": 44,
     "metadata": {},
     "output_type": "execute_result"
    }
   ],
   "source": [
    "df_train_fuga_o = df_train_fuga[(z < 2).all(axis=1)]\n",
    "df_train_fuga_o.head()"
   ]
  },
  {
   "cell_type": "code",
   "execution_count": 45,
   "metadata": {
    "scrolled": true
   },
   "outputs": [
    {
     "data": {
      "text/plain": [
       "<matplotlib.axes._subplots.AxesSubplot at 0x29a3264f1f0>"
      ]
     },
     "execution_count": 45,
     "metadata": {},
     "output_type": "execute_result"
    },
    {
     "data": {
      "image/png": "[encoded data removed]",
      "text/plain": [
       "<Figure size 432x288 with 1 Axes>"
      ]
     },
     "metadata": {
      "needs_background": "light"
     },
     "output_type": "display_data"
    }
   ],
   "source": [
    "sns.boxplot (x = df_train_fuga_o ['INGRESO_BRUTO_M1'])"
   ]
  },
  {
   "cell_type": "code",
   "execution_count": 46,
   "metadata": {},
   "outputs": [
    {
     "data": {
      "text/plain": [
       "<matplotlib.axes._subplots.AxesSubplot at 0x29a326ab460>"
      ]
     },
     "execution_count": 46,
     "metadata": {},
     "output_type": "execute_result"
    },
    {
     "data": {
      "image/png": "[encoded data removed]",
      "text/plain": [
       "<Figure size 432x288 with 1 Axes>"
      ]
     },
     "metadata": {
      "needs_background": "light"
     },
     "output_type": "display_data"
    }
   ],
   "source": [
    "sns.boxplot (x = df_train_fuga_o ['ANT_CLIENTE'])"
   ]
  },
  {
   "cell_type": "code",
   "execution_count": 47,
   "metadata": {},
   "outputs": [
    {
     "data": {
      "text/plain": [
       "515569"
      ]
     },
     "execution_count": 47,
     "metadata": {},
     "output_type": "execute_result"
    }
   ],
   "source": [
    "len(df_train_fuga_o)"
   ]
  },
  {
   "cell_type": "code",
   "execution_count": 48,
   "metadata": {},
   "outputs": [
    {
     "data": {
      "text/plain": [
       "271926"
      ]
     },
     "execution_count": 48,
     "metadata": {},
     "output_type": "execute_result"
    }
   ],
   "source": [
    "len(df_train_fuga)-len(df_train_fuga_o) \n",
    "#DETECTAMOS 271926 VALORES FUERA DEL RANGO ESTABLECIDO (OUTLIERS)"
   ]
  },
  {
   "cell_type": "code",
   "execution_count": 49,
   "metadata": {},
   "outputs": [],
   "source": [
    "#CON K=3 -- 221392\n",
    "#CON K=2 -- 271926"
   ]
  },
  {
   "cell_type": "markdown",
   "metadata": {},
   "source": [
    "## **_3. Realizar una discretización de las variables : INGRESO_BRUTO_M1 y EDAD teniendo en cuenta al menos dos técnicas de discretización no supervisada y agregar las variables discretizadas a nuestro conjunto de datos original (2 puntos)_**"
   ]
  },
  {
   "cell_type": "markdown",
   "metadata": {},
   "source": [
    "**_Para la variable INGRESO_BRUTO_M1_**"
   ]
  },
  {
   "cell_type": "markdown",
   "metadata": {},
   "source": [
    "**1era Discretizacion No supervisada por strategy=Uniform**"
   ]
  },
  {
   "cell_type": "code",
   "execution_count": 50,
   "metadata": {},
   "outputs": [],
   "source": [
    "#Creando una instancia de KBinsDiscretizer\n",
    "amplitud=KBinsDiscretizer(n_bins=3,\n",
    "                         encode='ordinal',\n",
    "                         strategy='uniform')# uniform por ser intervalos de igual amplitud"
   ]
  },
  {
   "cell_type": "code",
   "execution_count": 51,
   "metadata": {},
   "outputs": [],
   "source": [
    "nuevo_amplitud=amplitud.fit_transform(df_train_fuga[[\"INGRESO_BRUTO_M1\"]])"
   ]
  },
  {
   "cell_type": "code",
   "execution_count": 52,
   "metadata": {},
   "outputs": [
    {
     "data": {
      "text/html": [
       "<div>\n",
       "<style scoped>\n",
       "    .dataframe tbody tr th:only-of-type {\n",
       "        vertical-align: middle;\n",
       "    }\n",
       "\n",
       "    .dataframe tbody tr th {\n",
       "        vertical-align: top;\n",
       "    }\n",
       "\n",
       "    .dataframe thead th {\n",
       "        text-align: right;\n",
       "    }\n",
       "</style>\n",
       "<table border=\"1\" class=\"dataframe\">\n",
       "  <thead>\n",
       "    <tr style=\"text-align: right;\">\n",
       "      <th></th>\n",
       "      <th>TARGET_MODEL2</th>\n",
       "      <th>EDAD</th>\n",
       "      <th>SEXO</th>\n",
       "      <th>DEPARTAMENTO</th>\n",
       "      <th>INGRESO_BRUTO_M1</th>\n",
       "      <th>SEGMENTO</th>\n",
       "      <th>FLG_ADEL_SUELDO_M1</th>\n",
       "      <th>FREC_AGENTE</th>\n",
       "      <th>FLG_CONV_SF</th>\n",
       "      <th>FREC_KIOSKO</th>\n",
       "      <th>FREC_BPI_TD</th>\n",
       "      <th>PROM_CTD_TRX_6M</th>\n",
       "      <th>ANT_CLIENTE</th>\n",
       "      <th>CTD_RECLAMOS_M1</th>\n",
       "      <th>INGRESO_BRUTO_M1_Discr_Uniform</th>\n",
       "    </tr>\n",
       "  </thead>\n",
       "  <tbody>\n",
       "    <tr>\n",
       "      <th>0</th>\n",
       "      <td>0</td>\n",
       "      <td>46</td>\n",
       "      <td>F</td>\n",
       "      <td>PIURA</td>\n",
       "      <td>2565.256405</td>\n",
       "      <td>2</td>\n",
       "      <td>0</td>\n",
       "      <td>0</td>\n",
       "      <td>0.0</td>\n",
       "      <td>0</td>\n",
       "      <td>0</td>\n",
       "      <td>0.0</td>\n",
       "      <td>224.0</td>\n",
       "      <td>0</td>\n",
       "      <td>0.0</td>\n",
       "    </tr>\n",
       "    <tr>\n",
       "      <th>1</th>\n",
       "      <td>0</td>\n",
       "      <td>54</td>\n",
       "      <td>M</td>\n",
       "      <td>LORETO</td>\n",
       "      <td>4718.000000</td>\n",
       "      <td>1BC</td>\n",
       "      <td>0</td>\n",
       "      <td>0</td>\n",
       "      <td>1.0</td>\n",
       "      <td>0</td>\n",
       "      <td>0</td>\n",
       "      <td>0.0</td>\n",
       "      <td>123.0</td>\n",
       "      <td>0</td>\n",
       "      <td>0.0</td>\n",
       "    </tr>\n",
       "    <tr>\n",
       "      <th>2</th>\n",
       "      <td>0</td>\n",
       "      <td>81</td>\n",
       "      <td>M</td>\n",
       "      <td>LIMA</td>\n",
       "      <td>2565.256405</td>\n",
       "      <td>6</td>\n",
       "      <td>0</td>\n",
       "      <td>0</td>\n",
       "      <td>0.0</td>\n",
       "      <td>0</td>\n",
       "      <td>0</td>\n",
       "      <td>0.0</td>\n",
       "      <td>264.0</td>\n",
       "      <td>0</td>\n",
       "      <td>0.0</td>\n",
       "    </tr>\n",
       "    <tr>\n",
       "      <th>3</th>\n",
       "      <td>0</td>\n",
       "      <td>42</td>\n",
       "      <td>M</td>\n",
       "      <td>PIURA</td>\n",
       "      <td>936.000000</td>\n",
       "      <td>2</td>\n",
       "      <td>0</td>\n",
       "      <td>0</td>\n",
       "      <td>0.0</td>\n",
       "      <td>0</td>\n",
       "      <td>0</td>\n",
       "      <td>0.0</td>\n",
       "      <td>263.0</td>\n",
       "      <td>0</td>\n",
       "      <td>0.0</td>\n",
       "    </tr>\n",
       "    <tr>\n",
       "      <th>4</th>\n",
       "      <td>0</td>\n",
       "      <td>52</td>\n",
       "      <td>M</td>\n",
       "      <td>MOQUEGUA</td>\n",
       "      <td>5844.000000</td>\n",
       "      <td>1BC</td>\n",
       "      <td>0</td>\n",
       "      <td>0</td>\n",
       "      <td>0.0</td>\n",
       "      <td>0</td>\n",
       "      <td>0</td>\n",
       "      <td>0.0</td>\n",
       "      <td>263.0</td>\n",
       "      <td>0</td>\n",
       "      <td>0.0</td>\n",
       "    </tr>\n",
       "  </tbody>\n",
       "</table>\n",
       "</div>"
      ],
      "text/plain": [
       "   TARGET_MODEL2  EDAD SEXO DEPARTAMENTO  INGRESO_BRUTO_M1 SEGMENTO  \\\n",
       "0              0    46    F        PIURA       2565.256405        2   \n",
       "1              0    54    M       LORETO       4718.000000      1BC   \n",
       "2              0    81    M         LIMA       2565.256405        6   \n",
       "3              0    42    M        PIURA        936.000000        2   \n",
       "4              0    52    M     MOQUEGUA       5844.000000      1BC   \n",
       "\n",
       "   FLG_ADEL_SUELDO_M1  FREC_AGENTE  FLG_CONV_SF  FREC_KIOSKO  FREC_BPI_TD  \\\n",
       "0                   0            0          0.0            0            0   \n",
       "1                   0            0          1.0            0            0   \n",
       "2                   0            0          0.0            0            0   \n",
       "3                   0            0          0.0            0            0   \n",
       "4                   0            0          0.0            0            0   \n",
       "\n",
       "   PROM_CTD_TRX_6M  ANT_CLIENTE  CTD_RECLAMOS_M1  \\\n",
       "0              0.0        224.0                0   \n",
       "1              0.0        123.0                0   \n",
       "2              0.0        264.0                0   \n",
       "3              0.0        263.0                0   \n",
       "4              0.0        263.0                0   \n",
       "\n",
       "   INGRESO_BRUTO_M1_Discr_Uniform  \n",
       "0                             0.0  \n",
       "1                             0.0  \n",
       "2                             0.0  \n",
       "3                             0.0  \n",
       "4                             0.0  "
      ]
     },
     "execution_count": 52,
     "metadata": {},
     "output_type": "execute_result"
    }
   ],
   "source": [
    "df_train_fuga['INGRESO_BRUTO_M1_Discr_Uniform']=nuevo_amplitud\n",
    "df_train_fuga.head()"
   ]
  },
  {
   "cell_type": "code",
   "execution_count": 53,
   "metadata": {},
   "outputs": [
    {
     "data": {
      "image/png": "[encoded data removed]",
      "text/plain": [
       "<Figure size 432x288 with 1 Axes>"
      ]
     },
     "metadata": {
      "needs_background": "light"
     },
     "output_type": "display_data"
    }
   ],
   "source": [
    "#Esta discretizacion no nos ayuda nada ya que \"0.0\" contiene todo el conjunto de datos, \n",
    "#esto debido a que todos los intervalos tienen el mismo ancho\n",
    "#y ya con el ancho obtenido en el primer intervalo se incluye toda la data de INGRESO_BRUTO_M1.\n",
    "\n",
    "df_train_fuga.groupby(df_train_fuga.INGRESO_BRUTO_M1_Discr_Uniform).size().plot(kind='bar',rot=0)\n",
    "plt.title('Distribucion de frecuencias - INGRESO_BRUTO_M1_Discr_Uniform')\n",
    "plt.ylabel('Frecuencias')\n",
    "plt.show() "
   ]
  },
  {
   "cell_type": "code",
   "execution_count": 54,
   "metadata": {},
   "outputs": [],
   "source": [
    "#ELiminamos la variable INGRESO_BRUTO_M1_Discr_Uniform ya que no nos ayuda\n",
    "del df_train_fuga['INGRESO_BRUTO_M1_Discr_Uniform']"
   ]
  },
  {
   "cell_type": "markdown",
   "metadata": {},
   "source": [
    "**2da Discretizacion No supervisada por strategy=Kmeans**"
   ]
  },
  {
   "cell_type": "code",
   "execution_count": 55,
   "metadata": {},
   "outputs": [],
   "source": [
    "estkmeas = KBinsDiscretizer(n_bins=3, encode='ordinal', strategy='kmeans')\n",
    "ingresokmeas = estkmeas.fit_transform(df_train_fuga[[\"INGRESO_BRUTO_M1\"]])"
   ]
  },
  {
   "cell_type": "code",
   "execution_count": 56,
   "metadata": {},
   "outputs": [
    {
     "data": {
      "text/html": [
       "<div>\n",
       "<style scoped>\n",
       "    .dataframe tbody tr th:only-of-type {\n",
       "        vertical-align: middle;\n",
       "    }\n",
       "\n",
       "    .dataframe tbody tr th {\n",
       "        vertical-align: top;\n",
       "    }\n",
       "\n",
       "    .dataframe thead th {\n",
       "        text-align: right;\n",
       "    }\n",
       "</style>\n",
       "<table border=\"1\" class=\"dataframe\">\n",
       "  <thead>\n",
       "    <tr style=\"text-align: right;\">\n",
       "      <th></th>\n",
       "      <th>TARGET_MODEL2</th>\n",
       "      <th>EDAD</th>\n",
       "      <th>SEXO</th>\n",
       "      <th>DEPARTAMENTO</th>\n",
       "      <th>INGRESO_BRUTO_M1</th>\n",
       "      <th>SEGMENTO</th>\n",
       "      <th>FLG_ADEL_SUELDO_M1</th>\n",
       "      <th>FREC_AGENTE</th>\n",
       "      <th>FLG_CONV_SF</th>\n",
       "      <th>FREC_KIOSKO</th>\n",
       "      <th>FREC_BPI_TD</th>\n",
       "      <th>PROM_CTD_TRX_6M</th>\n",
       "      <th>ANT_CLIENTE</th>\n",
       "      <th>CTD_RECLAMOS_M1</th>\n",
       "      <th>INGRESO_BRUTO_M1_Discr_Kmeans</th>\n",
       "    </tr>\n",
       "  </thead>\n",
       "  <tbody>\n",
       "    <tr>\n",
       "      <th>0</th>\n",
       "      <td>0</td>\n",
       "      <td>46</td>\n",
       "      <td>F</td>\n",
       "      <td>PIURA</td>\n",
       "      <td>2565.256405</td>\n",
       "      <td>2</td>\n",
       "      <td>0</td>\n",
       "      <td>0</td>\n",
       "      <td>0.0</td>\n",
       "      <td>0</td>\n",
       "      <td>0</td>\n",
       "      <td>0.0</td>\n",
       "      <td>224.0</td>\n",
       "      <td>0</td>\n",
       "      <td>0.0</td>\n",
       "    </tr>\n",
       "    <tr>\n",
       "      <th>1</th>\n",
       "      <td>0</td>\n",
       "      <td>54</td>\n",
       "      <td>M</td>\n",
       "      <td>LORETO</td>\n",
       "      <td>4718.000000</td>\n",
       "      <td>1BC</td>\n",
       "      <td>0</td>\n",
       "      <td>0</td>\n",
       "      <td>1.0</td>\n",
       "      <td>0</td>\n",
       "      <td>0</td>\n",
       "      <td>0.0</td>\n",
       "      <td>123.0</td>\n",
       "      <td>0</td>\n",
       "      <td>0.0</td>\n",
       "    </tr>\n",
       "    <tr>\n",
       "      <th>2</th>\n",
       "      <td>0</td>\n",
       "      <td>81</td>\n",
       "      <td>M</td>\n",
       "      <td>LIMA</td>\n",
       "      <td>2565.256405</td>\n",
       "      <td>6</td>\n",
       "      <td>0</td>\n",
       "      <td>0</td>\n",
       "      <td>0.0</td>\n",
       "      <td>0</td>\n",
       "      <td>0</td>\n",
       "      <td>0.0</td>\n",
       "      <td>264.0</td>\n",
       "      <td>0</td>\n",
       "      <td>0.0</td>\n",
       "    </tr>\n",
       "    <tr>\n",
       "      <th>3</th>\n",
       "      <td>0</td>\n",
       "      <td>42</td>\n",
       "      <td>M</td>\n",
       "      <td>PIURA</td>\n",
       "      <td>936.000000</td>\n",
       "      <td>2</td>\n",
       "      <td>0</td>\n",
       "      <td>0</td>\n",
       "      <td>0.0</td>\n",
       "      <td>0</td>\n",
       "      <td>0</td>\n",
       "      <td>0.0</td>\n",
       "      <td>263.0</td>\n",
       "      <td>0</td>\n",
       "      <td>0.0</td>\n",
       "    </tr>\n",
       "    <tr>\n",
       "      <th>4</th>\n",
       "      <td>0</td>\n",
       "      <td>52</td>\n",
       "      <td>M</td>\n",
       "      <td>MOQUEGUA</td>\n",
       "      <td>5844.000000</td>\n",
       "      <td>1BC</td>\n",
       "      <td>0</td>\n",
       "      <td>0</td>\n",
       "      <td>0.0</td>\n",
       "      <td>0</td>\n",
       "      <td>0</td>\n",
       "      <td>0.0</td>\n",
       "      <td>263.0</td>\n",
       "      <td>0</td>\n",
       "      <td>1.0</td>\n",
       "    </tr>\n",
       "  </tbody>\n",
       "</table>\n",
       "</div>"
      ],
      "text/plain": [
       "   TARGET_MODEL2  EDAD SEXO DEPARTAMENTO  INGRESO_BRUTO_M1 SEGMENTO  \\\n",
       "0              0    46    F        PIURA       2565.256405        2   \n",
       "1              0    54    M       LORETO       4718.000000      1BC   \n",
       "2              0    81    M         LIMA       2565.256405        6   \n",
       "3              0    42    M        PIURA        936.000000        2   \n",
       "4              0    52    M     MOQUEGUA       5844.000000      1BC   \n",
       "\n",
       "   FLG_ADEL_SUELDO_M1  FREC_AGENTE  FLG_CONV_SF  FREC_KIOSKO  FREC_BPI_TD  \\\n",
       "0                   0            0          0.0            0            0   \n",
       "1                   0            0          1.0            0            0   \n",
       "2                   0            0          0.0            0            0   \n",
       "3                   0            0          0.0            0            0   \n",
       "4                   0            0          0.0            0            0   \n",
       "\n",
       "   PROM_CTD_TRX_6M  ANT_CLIENTE  CTD_RECLAMOS_M1  \\\n",
       "0              0.0        224.0                0   \n",
       "1              0.0        123.0                0   \n",
       "2              0.0        264.0                0   \n",
       "3              0.0        263.0                0   \n",
       "4              0.0        263.0                0   \n",
       "\n",
       "   INGRESO_BRUTO_M1_Discr_Kmeans  \n",
       "0                            0.0  \n",
       "1                            0.0  \n",
       "2                            0.0  \n",
       "3                            0.0  \n",
       "4                            1.0  "
      ]
     },
     "execution_count": 56,
     "metadata": {},
     "output_type": "execute_result"
    }
   ],
   "source": [
    "df_train_fuga['INGRESO_BRUTO_M1_Discr_Kmeans']=ingresokmeas\n",
    "df_train_fuga.head()"
   ]
  },
  {
   "cell_type": "code",
   "execution_count": 57,
   "metadata": {
    "scrolled": true
   },
   "outputs": [
    {
     "data": {
      "image/png": "[encoded data removed]",
      "text/plain": [
       "<Figure size 432x288 with 1 Axes>"
      ]
     },
     "metadata": {
      "needs_background": "light"
     },
     "output_type": "display_data"
    }
   ],
   "source": [
    "#En este caso KMeans nos ayuda mejor que Uniform debido que ya se visualiza que \n",
    "#los 3 intervalos contienen datos, esto debido a que KMeans agrupa los datos de cada intervalo\n",
    "#según su centroide más cercano. Por defecto toma el valor de quantile. \n",
    "df_train_fuga.groupby(df_train_fuga.INGRESO_BRUTO_M1_Discr_Kmeans).size().plot(kind='bar',rot=0)\n",
    "plt.title('Distribucion de frecuencias - INGRESO_BRUTO_M1_Discr_Kmeans')\n",
    "plt.ylabel('Frecuencias')\n",
    "plt.show()"
   ]
  },
  {
   "cell_type": "markdown",
   "metadata": {},
   "source": [
    "**3ra Discretizacion No supervisada por strategy=quantile**"
   ]
  },
  {
   "cell_type": "code",
   "execution_count": 58,
   "metadata": {},
   "outputs": [],
   "source": [
    "#Creando una instancia de KBinsDiscretizer\n",
    "cuantil=KBinsDiscretizer(n_bins=3,\n",
    "                         encode='ordinal',\n",
    "                         strategy='quantile')"
   ]
  },
  {
   "cell_type": "code",
   "execution_count": 59,
   "metadata": {
    "scrolled": true
   },
   "outputs": [],
   "source": [
    "ingreso_cuantil=cuantil.fit_transform(df_train_fuga[[\"INGRESO_BRUTO_M1\"]])"
   ]
  },
  {
   "cell_type": "code",
   "execution_count": 60,
   "metadata": {},
   "outputs": [],
   "source": [
    "df_train_fuga['INGRESO_Discr_Quantil']=ingreso_cuantil"
   ]
  },
  {
   "cell_type": "code",
   "execution_count": 61,
   "metadata": {},
   "outputs": [
    {
     "data": {
      "image/png": "[encoded data removed]",
      "text/plain": [
       "<Figure size 432x288 with 1 Axes>"
      ]
     },
     "metadata": {
      "needs_background": "light"
     },
     "output_type": "display_data"
    }
   ],
   "source": [
    "df_train_fuga.groupby(df_train_fuga['INGRESO_Discr_Quantil']).size().plot(kind='bar',rot=0)\n",
    "plt.title('Distribucion de frecuencias - Ingreso_Discr_Quantil')\n",
    "plt.ylabel('Frecuencias')\n",
    "plt.show()\n",
    "#Como esta discretización usa valores quantilados es por eso \n",
    "#que cada contenedor tiene aproximadamente el mismo número de muestras"
   ]
  },
  {
   "cell_type": "markdown",
   "metadata": {},
   "source": [
    "**_Para la variable EDAD_**"
   ]
  },
  {
   "cell_type": "markdown",
   "metadata": {},
   "source": [
    "**1era Discretizacion No supervisada por strategy=Quantile**"
   ]
  },
  {
   "cell_type": "code",
   "execution_count": 62,
   "metadata": {},
   "outputs": [],
   "source": [
    "#Creando una instancia de KBinsDiscretizer usando como strategy = quantile\n",
    "cuantil=KBinsDiscretizer(n_bins=3,\n",
    "                         encode='ordinal',\n",
    "                         strategy='quantile')"
   ]
  },
  {
   "cell_type": "code",
   "execution_count": 63,
   "metadata": {},
   "outputs": [],
   "source": [
    "nuevo_cuantil=cuantil.fit_transform(df_train_fuga[['EDAD']])"
   ]
  },
  {
   "cell_type": "code",
   "execution_count": 64,
   "metadata": {},
   "outputs": [
    {
     "data": {
      "text/html": [
       "<div>\n",
       "<style scoped>\n",
       "    .dataframe tbody tr th:only-of-type {\n",
       "        vertical-align: middle;\n",
       "    }\n",
       "\n",
       "    .dataframe tbody tr th {\n",
       "        vertical-align: top;\n",
       "    }\n",
       "\n",
       "    .dataframe thead th {\n",
       "        text-align: right;\n",
       "    }\n",
       "</style>\n",
       "<table border=\"1\" class=\"dataframe\">\n",
       "  <thead>\n",
       "    <tr style=\"text-align: right;\">\n",
       "      <th></th>\n",
       "      <th>TARGET_MODEL2</th>\n",
       "      <th>EDAD</th>\n",
       "      <th>SEXO</th>\n",
       "      <th>DEPARTAMENTO</th>\n",
       "      <th>INGRESO_BRUTO_M1</th>\n",
       "      <th>SEGMENTO</th>\n",
       "      <th>FLG_ADEL_SUELDO_M1</th>\n",
       "      <th>FREC_AGENTE</th>\n",
       "      <th>FLG_CONV_SF</th>\n",
       "      <th>FREC_KIOSKO</th>\n",
       "      <th>FREC_BPI_TD</th>\n",
       "      <th>PROM_CTD_TRX_6M</th>\n",
       "      <th>ANT_CLIENTE</th>\n",
       "      <th>CTD_RECLAMOS_M1</th>\n",
       "      <th>INGRESO_BRUTO_M1_Discr_Kmeans</th>\n",
       "      <th>INGRESO_Discr_Quantil</th>\n",
       "      <th>EDAD_Discr_Quantil</th>\n",
       "    </tr>\n",
       "  </thead>\n",
       "  <tbody>\n",
       "    <tr>\n",
       "      <th>0</th>\n",
       "      <td>0</td>\n",
       "      <td>46</td>\n",
       "      <td>F</td>\n",
       "      <td>PIURA</td>\n",
       "      <td>2565.256405</td>\n",
       "      <td>2</td>\n",
       "      <td>0</td>\n",
       "      <td>0</td>\n",
       "      <td>0.0</td>\n",
       "      <td>0</td>\n",
       "      <td>0</td>\n",
       "      <td>0.0</td>\n",
       "      <td>224.0</td>\n",
       "      <td>0</td>\n",
       "      <td>0.0</td>\n",
       "      <td>2.0</td>\n",
       "      <td>2.0</td>\n",
       "    </tr>\n",
       "    <tr>\n",
       "      <th>1</th>\n",
       "      <td>0</td>\n",
       "      <td>54</td>\n",
       "      <td>M</td>\n",
       "      <td>LORETO</td>\n",
       "      <td>4718.000000</td>\n",
       "      <td>1BC</td>\n",
       "      <td>0</td>\n",
       "      <td>0</td>\n",
       "      <td>1.0</td>\n",
       "      <td>0</td>\n",
       "      <td>0</td>\n",
       "      <td>0.0</td>\n",
       "      <td>123.0</td>\n",
       "      <td>0</td>\n",
       "      <td>0.0</td>\n",
       "      <td>2.0</td>\n",
       "      <td>2.0</td>\n",
       "    </tr>\n",
       "    <tr>\n",
       "      <th>2</th>\n",
       "      <td>0</td>\n",
       "      <td>81</td>\n",
       "      <td>M</td>\n",
       "      <td>LIMA</td>\n",
       "      <td>2565.256405</td>\n",
       "      <td>6</td>\n",
       "      <td>0</td>\n",
       "      <td>0</td>\n",
       "      <td>0.0</td>\n",
       "      <td>0</td>\n",
       "      <td>0</td>\n",
       "      <td>0.0</td>\n",
       "      <td>264.0</td>\n",
       "      <td>0</td>\n",
       "      <td>0.0</td>\n",
       "      <td>2.0</td>\n",
       "      <td>2.0</td>\n",
       "    </tr>\n",
       "    <tr>\n",
       "      <th>3</th>\n",
       "      <td>0</td>\n",
       "      <td>42</td>\n",
       "      <td>M</td>\n",
       "      <td>PIURA</td>\n",
       "      <td>936.000000</td>\n",
       "      <td>2</td>\n",
       "      <td>0</td>\n",
       "      <td>0</td>\n",
       "      <td>0.0</td>\n",
       "      <td>0</td>\n",
       "      <td>0</td>\n",
       "      <td>0.0</td>\n",
       "      <td>263.0</td>\n",
       "      <td>0</td>\n",
       "      <td>0.0</td>\n",
       "      <td>0.0</td>\n",
       "      <td>2.0</td>\n",
       "    </tr>\n",
       "    <tr>\n",
       "      <th>4</th>\n",
       "      <td>0</td>\n",
       "      <td>52</td>\n",
       "      <td>M</td>\n",
       "      <td>MOQUEGUA</td>\n",
       "      <td>5844.000000</td>\n",
       "      <td>1BC</td>\n",
       "      <td>0</td>\n",
       "      <td>0</td>\n",
       "      <td>0.0</td>\n",
       "      <td>0</td>\n",
       "      <td>0</td>\n",
       "      <td>0.0</td>\n",
       "      <td>263.0</td>\n",
       "      <td>0</td>\n",
       "      <td>1.0</td>\n",
       "      <td>2.0</td>\n",
       "      <td>2.0</td>\n",
       "    </tr>\n",
       "  </tbody>\n",
       "</table>\n",
       "</div>"
      ],
      "text/plain": [
       "   TARGET_MODEL2  EDAD SEXO DEPARTAMENTO  INGRESO_BRUTO_M1 SEGMENTO  \\\n",
       "0              0    46    F        PIURA       2565.256405        2   \n",
       "1              0    54    M       LORETO       4718.000000      1BC   \n",
       "2              0    81    M         LIMA       2565.256405        6   \n",
       "3              0    42    M        PIURA        936.000000        2   \n",
       "4              0    52    M     MOQUEGUA       5844.000000      1BC   \n",
       "\n",
       "   FLG_ADEL_SUELDO_M1  FREC_AGENTE  FLG_CONV_SF  FREC_KIOSKO  FREC_BPI_TD  \\\n",
       "0                   0            0          0.0            0            0   \n",
       "1                   0            0          1.0            0            0   \n",
       "2                   0            0          0.0            0            0   \n",
       "3                   0            0          0.0            0            0   \n",
       "4                   0            0          0.0            0            0   \n",
       "\n",
       "   PROM_CTD_TRX_6M  ANT_CLIENTE  CTD_RECLAMOS_M1  \\\n",
       "0              0.0        224.0                0   \n",
       "1              0.0        123.0                0   \n",
       "2              0.0        264.0                0   \n",
       "3              0.0        263.0                0   \n",
       "4              0.0        263.0                0   \n",
       "\n",
       "   INGRESO_BRUTO_M1_Discr_Kmeans  INGRESO_Discr_Quantil  EDAD_Discr_Quantil  \n",
       "0                            0.0                    2.0                 2.0  \n",
       "1                            0.0                    2.0                 2.0  \n",
       "2                            0.0                    2.0                 2.0  \n",
       "3                            0.0                    0.0                 2.0  \n",
       "4                            1.0                    2.0                 2.0  "
      ]
     },
     "execution_count": 64,
     "metadata": {},
     "output_type": "execute_result"
    }
   ],
   "source": [
    "df_train_fuga['EDAD_Discr_Quantil']=nuevo_cuantil\n",
    "df_train_fuga.head()"
   ]
  },
  {
   "cell_type": "code",
   "execution_count": 65,
   "metadata": {},
   "outputs": [
    {
     "data": {
      "image/png": "[encoded data removed]",
      "text/plain": [
       "<Figure size 432x288 with 1 Axes>"
      ]
     },
     "metadata": {
      "needs_background": "light"
     },
     "output_type": "display_data"
    }
   ],
   "source": [
    "df_train_fuga.groupby(df_train_fuga.EDAD_Discr_Quantil).size().plot(kind='bar',rot=0)\n",
    "plt.title('Distribucion de frecuencias - EDAD_Discr_Quantil')\n",
    "plt.ylabel('Frecuencias')\n",
    "plt.show()"
   ]
  },
  {
   "cell_type": "markdown",
   "metadata": {},
   "source": [
    "**2da Discretizacion No supervisada por strategy=KMeans**"
   ]
  },
  {
   "cell_type": "code",
   "execution_count": 66,
   "metadata": {},
   "outputs": [],
   "source": [
    "#Creando una instancia de KBinsDiscretizer\n",
    "kmeans=KBinsDiscretizer(n_bins=3,\n",
    "                         encode='ordinal',\n",
    "                         strategy='kmeans')"
   ]
  },
  {
   "cell_type": "code",
   "execution_count": 67,
   "metadata": {},
   "outputs": [],
   "source": [
    "edad_kmeans=kmeans.fit_transform(df_train_fuga[['EDAD']])"
   ]
  },
  {
   "cell_type": "code",
   "execution_count": 68,
   "metadata": {},
   "outputs": [
    {
     "data": {
      "text/html": [
       "<div>\n",
       "<style scoped>\n",
       "    .dataframe tbody tr th:only-of-type {\n",
       "        vertical-align: middle;\n",
       "    }\n",
       "\n",
       "    .dataframe tbody tr th {\n",
       "        vertical-align: top;\n",
       "    }\n",
       "\n",
       "    .dataframe thead th {\n",
       "        text-align: right;\n",
       "    }\n",
       "</style>\n",
       "<table border=\"1\" class=\"dataframe\">\n",
       "  <thead>\n",
       "    <tr style=\"text-align: right;\">\n",
       "      <th></th>\n",
       "      <th>TARGET_MODEL2</th>\n",
       "      <th>EDAD</th>\n",
       "      <th>SEXO</th>\n",
       "      <th>DEPARTAMENTO</th>\n",
       "      <th>INGRESO_BRUTO_M1</th>\n",
       "      <th>SEGMENTO</th>\n",
       "      <th>FLG_ADEL_SUELDO_M1</th>\n",
       "      <th>FREC_AGENTE</th>\n",
       "      <th>FLG_CONV_SF</th>\n",
       "      <th>FREC_KIOSKO</th>\n",
       "      <th>FREC_BPI_TD</th>\n",
       "      <th>PROM_CTD_TRX_6M</th>\n",
       "      <th>ANT_CLIENTE</th>\n",
       "      <th>CTD_RECLAMOS_M1</th>\n",
       "      <th>INGRESO_BRUTO_M1_Discr_Kmeans</th>\n",
       "      <th>INGRESO_Discr_Quantil</th>\n",
       "      <th>EDAD_Discr_Quantil</th>\n",
       "      <th>EDAD_Discr_KMeans</th>\n",
       "    </tr>\n",
       "  </thead>\n",
       "  <tbody>\n",
       "    <tr>\n",
       "      <th>0</th>\n",
       "      <td>0</td>\n",
       "      <td>46</td>\n",
       "      <td>F</td>\n",
       "      <td>PIURA</td>\n",
       "      <td>2565.256405</td>\n",
       "      <td>2</td>\n",
       "      <td>0</td>\n",
       "      <td>0</td>\n",
       "      <td>0.0</td>\n",
       "      <td>0</td>\n",
       "      <td>0</td>\n",
       "      <td>0.0</td>\n",
       "      <td>224.0</td>\n",
       "      <td>0</td>\n",
       "      <td>0.0</td>\n",
       "      <td>2.0</td>\n",
       "      <td>2.0</td>\n",
       "      <td>1.0</td>\n",
       "    </tr>\n",
       "    <tr>\n",
       "      <th>1</th>\n",
       "      <td>0</td>\n",
       "      <td>54</td>\n",
       "      <td>M</td>\n",
       "      <td>LORETO</td>\n",
       "      <td>4718.000000</td>\n",
       "      <td>1BC</td>\n",
       "      <td>0</td>\n",
       "      <td>0</td>\n",
       "      <td>1.0</td>\n",
       "      <td>0</td>\n",
       "      <td>0</td>\n",
       "      <td>0.0</td>\n",
       "      <td>123.0</td>\n",
       "      <td>0</td>\n",
       "      <td>0.0</td>\n",
       "      <td>2.0</td>\n",
       "      <td>2.0</td>\n",
       "      <td>1.0</td>\n",
       "    </tr>\n",
       "    <tr>\n",
       "      <th>2</th>\n",
       "      <td>0</td>\n",
       "      <td>81</td>\n",
       "      <td>M</td>\n",
       "      <td>LIMA</td>\n",
       "      <td>2565.256405</td>\n",
       "      <td>6</td>\n",
       "      <td>0</td>\n",
       "      <td>0</td>\n",
       "      <td>0.0</td>\n",
       "      <td>0</td>\n",
       "      <td>0</td>\n",
       "      <td>0.0</td>\n",
       "      <td>264.0</td>\n",
       "      <td>0</td>\n",
       "      <td>0.0</td>\n",
       "      <td>2.0</td>\n",
       "      <td>2.0</td>\n",
       "      <td>2.0</td>\n",
       "    </tr>\n",
       "    <tr>\n",
       "      <th>3</th>\n",
       "      <td>0</td>\n",
       "      <td>42</td>\n",
       "      <td>M</td>\n",
       "      <td>PIURA</td>\n",
       "      <td>936.000000</td>\n",
       "      <td>2</td>\n",
       "      <td>0</td>\n",
       "      <td>0</td>\n",
       "      <td>0.0</td>\n",
       "      <td>0</td>\n",
       "      <td>0</td>\n",
       "      <td>0.0</td>\n",
       "      <td>263.0</td>\n",
       "      <td>0</td>\n",
       "      <td>0.0</td>\n",
       "      <td>0.0</td>\n",
       "      <td>2.0</td>\n",
       "      <td>1.0</td>\n",
       "    </tr>\n",
       "    <tr>\n",
       "      <th>4</th>\n",
       "      <td>0</td>\n",
       "      <td>52</td>\n",
       "      <td>M</td>\n",
       "      <td>MOQUEGUA</td>\n",
       "      <td>5844.000000</td>\n",
       "      <td>1BC</td>\n",
       "      <td>0</td>\n",
       "      <td>0</td>\n",
       "      <td>0.0</td>\n",
       "      <td>0</td>\n",
       "      <td>0</td>\n",
       "      <td>0.0</td>\n",
       "      <td>263.0</td>\n",
       "      <td>0</td>\n",
       "      <td>1.0</td>\n",
       "      <td>2.0</td>\n",
       "      <td>2.0</td>\n",
       "      <td>1.0</td>\n",
       "    </tr>\n",
       "  </tbody>\n",
       "</table>\n",
       "</div>"
      ],
      "text/plain": [
       "   TARGET_MODEL2  EDAD SEXO DEPARTAMENTO  INGRESO_BRUTO_M1 SEGMENTO  \\\n",
       "0              0    46    F        PIURA       2565.256405        2   \n",
       "1              0    54    M       LORETO       4718.000000      1BC   \n",
       "2              0    81    M         LIMA       2565.256405        6   \n",
       "3              0    42    M        PIURA        936.000000        2   \n",
       "4              0    52    M     MOQUEGUA       5844.000000      1BC   \n",
       "\n",
       "   FLG_ADEL_SUELDO_M1  FREC_AGENTE  FLG_CONV_SF  FREC_KIOSKO  FREC_BPI_TD  \\\n",
       "0                   0            0          0.0            0            0   \n",
       "1                   0            0          1.0            0            0   \n",
       "2                   0            0          0.0            0            0   \n",
       "3                   0            0          0.0            0            0   \n",
       "4                   0            0          0.0            0            0   \n",
       "\n",
       "   PROM_CTD_TRX_6M  ANT_CLIENTE  CTD_RECLAMOS_M1  \\\n",
       "0              0.0        224.0                0   \n",
       "1              0.0        123.0                0   \n",
       "2              0.0        264.0                0   \n",
       "3              0.0        263.0                0   \n",
       "4              0.0        263.0                0   \n",
       "\n",
       "   INGRESO_BRUTO_M1_Discr_Kmeans  INGRESO_Discr_Quantil  EDAD_Discr_Quantil  \\\n",
       "0                            0.0                    2.0                 2.0   \n",
       "1                            0.0                    2.0                 2.0   \n",
       "2                            0.0                    2.0                 2.0   \n",
       "3                            0.0                    0.0                 2.0   \n",
       "4                            1.0                    2.0                 2.0   \n",
       "\n",
       "   EDAD_Discr_KMeans  \n",
       "0                1.0  \n",
       "1                1.0  \n",
       "2                2.0  \n",
       "3                1.0  \n",
       "4                1.0  "
      ]
     },
     "execution_count": 68,
     "metadata": {},
     "output_type": "execute_result"
    }
   ],
   "source": [
    "df_train_fuga['EDAD_Discr_KMeans']=edad_kmeans\n",
    "df_train_fuga.head()"
   ]
  },
  {
   "cell_type": "code",
   "execution_count": 69,
   "metadata": {},
   "outputs": [
    {
     "data": {
      "image/png": "[encoded data removed]",
      "text/plain": [
       "<Figure size 432x288 with 1 Axes>"
      ]
     },
     "metadata": {
      "needs_background": "light"
     },
     "output_type": "display_data"
    }
   ],
   "source": [
    "df_train_fuga.groupby(df_train_fuga.EDAD_Discr_KMeans).size().plot(kind='bar',rot=0)\n",
    "plt.title('Distribucion de frecuencias - EDAD_Discr_KMeans')\n",
    "plt.ylabel('Frecuencias')\n",
    "plt.show()"
   ]
  },
  {
   "cell_type": "markdown",
   "metadata": {},
   "source": [
    "## **_4. Aplicar dos técnicas de balanceo de datos a nuestra variable TARGET (objetivo) y agregarlas a nuestro conjunto de datos original_**"
   ]
  },
  {
   "cell_type": "code",
   "execution_count": 70,
   "metadata": {},
   "outputs": [
    {
     "data": {
      "text/html": [
       "<div>\n",
       "<style scoped>\n",
       "    .dataframe tbody tr th:only-of-type {\n",
       "        vertical-align: middle;\n",
       "    }\n",
       "\n",
       "    .dataframe tbody tr th {\n",
       "        vertical-align: top;\n",
       "    }\n",
       "\n",
       "    .dataframe thead th {\n",
       "        text-align: right;\n",
       "    }\n",
       "</style>\n",
       "<table border=\"1\" class=\"dataframe\">\n",
       "  <thead>\n",
       "    <tr style=\"text-align: right;\">\n",
       "      <th></th>\n",
       "      <th>TARGET_MODEL2</th>\n",
       "      <th>EDAD</th>\n",
       "      <th>SEXO</th>\n",
       "      <th>DEPARTAMENTO</th>\n",
       "      <th>INGRESO_BRUTO_M1</th>\n",
       "      <th>SEGMENTO</th>\n",
       "      <th>FLG_ADEL_SUELDO_M1</th>\n",
       "      <th>FREC_AGENTE</th>\n",
       "      <th>FLG_CONV_SF</th>\n",
       "      <th>FREC_KIOSKO</th>\n",
       "      <th>FREC_BPI_TD</th>\n",
       "      <th>PROM_CTD_TRX_6M</th>\n",
       "      <th>ANT_CLIENTE</th>\n",
       "      <th>CTD_RECLAMOS_M1</th>\n",
       "      <th>INGRESO_BRUTO_M1_Discr_Kmeans</th>\n",
       "      <th>INGRESO_Discr_Quantil</th>\n",
       "      <th>EDAD_Discr_Quantil</th>\n",
       "      <th>EDAD_Discr_KMeans</th>\n",
       "    </tr>\n",
       "  </thead>\n",
       "  <tbody>\n",
       "    <tr>\n",
       "      <th>0</th>\n",
       "      <td>0</td>\n",
       "      <td>46</td>\n",
       "      <td>F</td>\n",
       "      <td>PIURA</td>\n",
       "      <td>2565.256405</td>\n",
       "      <td>2</td>\n",
       "      <td>0</td>\n",
       "      <td>0</td>\n",
       "      <td>0.0</td>\n",
       "      <td>0</td>\n",
       "      <td>0</td>\n",
       "      <td>0.0</td>\n",
       "      <td>224.0</td>\n",
       "      <td>0</td>\n",
       "      <td>0.0</td>\n",
       "      <td>2.0</td>\n",
       "      <td>2.0</td>\n",
       "      <td>1.0</td>\n",
       "    </tr>\n",
       "    <tr>\n",
       "      <th>1</th>\n",
       "      <td>0</td>\n",
       "      <td>54</td>\n",
       "      <td>M</td>\n",
       "      <td>LORETO</td>\n",
       "      <td>4718.000000</td>\n",
       "      <td>1BC</td>\n",
       "      <td>0</td>\n",
       "      <td>0</td>\n",
       "      <td>1.0</td>\n",
       "      <td>0</td>\n",
       "      <td>0</td>\n",
       "      <td>0.0</td>\n",
       "      <td>123.0</td>\n",
       "      <td>0</td>\n",
       "      <td>0.0</td>\n",
       "      <td>2.0</td>\n",
       "      <td>2.0</td>\n",
       "      <td>1.0</td>\n",
       "    </tr>\n",
       "    <tr>\n",
       "      <th>2</th>\n",
       "      <td>0</td>\n",
       "      <td>81</td>\n",
       "      <td>M</td>\n",
       "      <td>LIMA</td>\n",
       "      <td>2565.256405</td>\n",
       "      <td>6</td>\n",
       "      <td>0</td>\n",
       "      <td>0</td>\n",
       "      <td>0.0</td>\n",
       "      <td>0</td>\n",
       "      <td>0</td>\n",
       "      <td>0.0</td>\n",
       "      <td>264.0</td>\n",
       "      <td>0</td>\n",
       "      <td>0.0</td>\n",
       "      <td>2.0</td>\n",
       "      <td>2.0</td>\n",
       "      <td>2.0</td>\n",
       "    </tr>\n",
       "    <tr>\n",
       "      <th>3</th>\n",
       "      <td>0</td>\n",
       "      <td>42</td>\n",
       "      <td>M</td>\n",
       "      <td>PIURA</td>\n",
       "      <td>936.000000</td>\n",
       "      <td>2</td>\n",
       "      <td>0</td>\n",
       "      <td>0</td>\n",
       "      <td>0.0</td>\n",
       "      <td>0</td>\n",
       "      <td>0</td>\n",
       "      <td>0.0</td>\n",
       "      <td>263.0</td>\n",
       "      <td>0</td>\n",
       "      <td>0.0</td>\n",
       "      <td>0.0</td>\n",
       "      <td>2.0</td>\n",
       "      <td>1.0</td>\n",
       "    </tr>\n",
       "    <tr>\n",
       "      <th>4</th>\n",
       "      <td>0</td>\n",
       "      <td>52</td>\n",
       "      <td>M</td>\n",
       "      <td>MOQUEGUA</td>\n",
       "      <td>5844.000000</td>\n",
       "      <td>1BC</td>\n",
       "      <td>0</td>\n",
       "      <td>0</td>\n",
       "      <td>0.0</td>\n",
       "      <td>0</td>\n",
       "      <td>0</td>\n",
       "      <td>0.0</td>\n",
       "      <td>263.0</td>\n",
       "      <td>0</td>\n",
       "      <td>1.0</td>\n",
       "      <td>2.0</td>\n",
       "      <td>2.0</td>\n",
       "      <td>1.0</td>\n",
       "    </tr>\n",
       "  </tbody>\n",
       "</table>\n",
       "</div>"
      ],
      "text/plain": [
       "   TARGET_MODEL2  EDAD SEXO DEPARTAMENTO  INGRESO_BRUTO_M1 SEGMENTO  \\\n",
       "0              0    46    F        PIURA       2565.256405        2   \n",
       "1              0    54    M       LORETO       4718.000000      1BC   \n",
       "2              0    81    M         LIMA       2565.256405        6   \n",
       "3              0    42    M        PIURA        936.000000        2   \n",
       "4              0    52    M     MOQUEGUA       5844.000000      1BC   \n",
       "\n",
       "   FLG_ADEL_SUELDO_M1  FREC_AGENTE  FLG_CONV_SF  FREC_KIOSKO  FREC_BPI_TD  \\\n",
       "0                   0            0          0.0            0            0   \n",
       "1                   0            0          1.0            0            0   \n",
       "2                   0            0          0.0            0            0   \n",
       "3                   0            0          0.0            0            0   \n",
       "4                   0            0          0.0            0            0   \n",
       "\n",
       "   PROM_CTD_TRX_6M  ANT_CLIENTE  CTD_RECLAMOS_M1  \\\n",
       "0              0.0        224.0                0   \n",
       "1              0.0        123.0                0   \n",
       "2              0.0        264.0                0   \n",
       "3              0.0        263.0                0   \n",
       "4              0.0        263.0                0   \n",
       "\n",
       "   INGRESO_BRUTO_M1_Discr_Kmeans  INGRESO_Discr_Quantil  EDAD_Discr_Quantil  \\\n",
       "0                            0.0                    2.0                 2.0   \n",
       "1                            0.0                    2.0                 2.0   \n",
       "2                            0.0                    2.0                 2.0   \n",
       "3                            0.0                    0.0                 2.0   \n",
       "4                            1.0                    2.0                 2.0   \n",
       "\n",
       "   EDAD_Discr_KMeans  \n",
       "0                1.0  \n",
       "1                1.0  \n",
       "2                2.0  \n",
       "3                1.0  \n",
       "4                1.0  "
      ]
     },
     "execution_count": 70,
     "metadata": {},
     "output_type": "execute_result"
    }
   ],
   "source": [
    "#Refrescando la data\n",
    "df_train_fuga.head()"
   ]
  },
  {
   "cell_type": "code",
   "execution_count": 71,
   "metadata": {},
   "outputs": [
    {
     "name": "stdout",
     "output_type": "stream",
     "text": [
      "<class 'pandas.core.frame.DataFrame'>\n",
      "RangeIndex: 787495 entries, 0 to 787494\n",
      "Data columns (total 18 columns):\n",
      " #   Column                         Non-Null Count   Dtype  \n",
      "---  ------                         --------------   -----  \n",
      " 0   TARGET_MODEL2                  787495 non-null  int64  \n",
      " 1   EDAD                           787495 non-null  int64  \n",
      " 2   SEXO                           787495 non-null  object \n",
      " 3   DEPARTAMENTO                   787495 non-null  object \n",
      " 4   INGRESO_BRUTO_M1               787495 non-null  float64\n",
      " 5   SEGMENTO                       787495 non-null  object \n",
      " 6   FLG_ADEL_SUELDO_M1             787495 non-null  int64  \n",
      " 7   FREC_AGENTE                    787495 non-null  int64  \n",
      " 8   FLG_CONV_SF                    787495 non-null  float64\n",
      " 9   FREC_KIOSKO                    787495 non-null  int64  \n",
      " 10  FREC_BPI_TD                    787495 non-null  int64  \n",
      " 11  PROM_CTD_TRX_6M                787495 non-null  float64\n",
      " 12  ANT_CLIENTE                    787495 non-null  float64\n",
      " 13  CTD_RECLAMOS_M1                787495 non-null  int64  \n",
      " 14  INGRESO_BRUTO_M1_Discr_Kmeans  787495 non-null  float64\n",
      " 15  INGRESO_Discr_Quantil          787495 non-null  float64\n",
      " 16  EDAD_Discr_Quantil             787495 non-null  float64\n",
      " 17  EDAD_Discr_KMeans              787495 non-null  float64\n",
      "dtypes: float64(8), int64(7), object(3)\n",
      "memory usage: 108.1+ MB\n"
     ]
    }
   ],
   "source": [
    "df_train_fuga.info()"
   ]
  },
  {
   "cell_type": "code",
   "execution_count": 72,
   "metadata": {
    "scrolled": true
   },
   "outputs": [
    {
     "data": {
      "text/plain": [
       "Index(['TARGET_MODEL2', 'EDAD', 'SEXO', 'DEPARTAMENTO', 'INGRESO_BRUTO_M1',\n",
       "       'SEGMENTO', 'FLG_ADEL_SUELDO_M1', 'FREC_AGENTE', 'FLG_CONV_SF',\n",
       "       'FREC_KIOSKO', 'FREC_BPI_TD', 'PROM_CTD_TRX_6M', 'ANT_CLIENTE',\n",
       "       'CTD_RECLAMOS_M1', 'INGRESO_BRUTO_M1_Discr_Kmeans',\n",
       "       'INGRESO_Discr_Quantil', 'EDAD_Discr_Quantil', 'EDAD_Discr_KMeans'],\n",
       "      dtype='object')"
      ]
     },
     "execution_count": 72,
     "metadata": {},
     "output_type": "execute_result"
    }
   ],
   "source": [
    "df_train_fuga.columns"
   ]
  },
  {
   "cell_type": "code",
   "execution_count": 73,
   "metadata": {},
   "outputs": [],
   "source": [
    "columnas_xy=['EDAD','INGRESO_BRUTO_M1','FLG_ADEL_SUELDO_M1', 'FREC_AGENTE', 'FLG_CONV_SF',\n",
    "            'FREC_KIOSKO', 'FREC_BPI_TD', 'PROM_CTD_TRX_6M', 'ANT_CLIENTE','CTD_RECLAMOS_M1',\n",
    "            'TARGET_MODEL2']\n",
    "\n",
    "df_train_fuga_T=df_train_fuga[columnas_xy] \n",
    "#INGRESAMOS SOLO LAS VARIABLES A EVALUAR EN EL BALANCEO DE DATOS"
   ]
  },
  {
   "cell_type": "code",
   "execution_count": 74,
   "metadata": {},
   "outputs": [
    {
     "data": {
      "text/html": [
       "<div>\n",
       "<style scoped>\n",
       "    .dataframe tbody tr th:only-of-type {\n",
       "        vertical-align: middle;\n",
       "    }\n",
       "\n",
       "    .dataframe tbody tr th {\n",
       "        vertical-align: top;\n",
       "    }\n",
       "\n",
       "    .dataframe thead th {\n",
       "        text-align: right;\n",
       "    }\n",
       "</style>\n",
       "<table border=\"1\" class=\"dataframe\">\n",
       "  <thead>\n",
       "    <tr style=\"text-align: right;\">\n",
       "      <th></th>\n",
       "      <th>EDAD</th>\n",
       "      <th>INGRESO_BRUTO_M1</th>\n",
       "      <th>FLG_ADEL_SUELDO_M1</th>\n",
       "      <th>FREC_AGENTE</th>\n",
       "      <th>FLG_CONV_SF</th>\n",
       "      <th>FREC_KIOSKO</th>\n",
       "      <th>FREC_BPI_TD</th>\n",
       "      <th>PROM_CTD_TRX_6M</th>\n",
       "      <th>ANT_CLIENTE</th>\n",
       "      <th>CTD_RECLAMOS_M1</th>\n",
       "      <th>TARGET_MODEL2</th>\n",
       "    </tr>\n",
       "  </thead>\n",
       "  <tbody>\n",
       "    <tr>\n",
       "      <th>0</th>\n",
       "      <td>46</td>\n",
       "      <td>2565.256405</td>\n",
       "      <td>0</td>\n",
       "      <td>0</td>\n",
       "      <td>0.0</td>\n",
       "      <td>0</td>\n",
       "      <td>0</td>\n",
       "      <td>0.0</td>\n",
       "      <td>224.0</td>\n",
       "      <td>0</td>\n",
       "      <td>0</td>\n",
       "    </tr>\n",
       "    <tr>\n",
       "      <th>1</th>\n",
       "      <td>54</td>\n",
       "      <td>4718.000000</td>\n",
       "      <td>0</td>\n",
       "      <td>0</td>\n",
       "      <td>1.0</td>\n",
       "      <td>0</td>\n",
       "      <td>0</td>\n",
       "      <td>0.0</td>\n",
       "      <td>123.0</td>\n",
       "      <td>0</td>\n",
       "      <td>0</td>\n",
       "    </tr>\n",
       "    <tr>\n",
       "      <th>2</th>\n",
       "      <td>81</td>\n",
       "      <td>2565.256405</td>\n",
       "      <td>0</td>\n",
       "      <td>0</td>\n",
       "      <td>0.0</td>\n",
       "      <td>0</td>\n",
       "      <td>0</td>\n",
       "      <td>0.0</td>\n",
       "      <td>264.0</td>\n",
       "      <td>0</td>\n",
       "      <td>0</td>\n",
       "    </tr>\n",
       "    <tr>\n",
       "      <th>3</th>\n",
       "      <td>42</td>\n",
       "      <td>936.000000</td>\n",
       "      <td>0</td>\n",
       "      <td>0</td>\n",
       "      <td>0.0</td>\n",
       "      <td>0</td>\n",
       "      <td>0</td>\n",
       "      <td>0.0</td>\n",
       "      <td>263.0</td>\n",
       "      <td>0</td>\n",
       "      <td>0</td>\n",
       "    </tr>\n",
       "    <tr>\n",
       "      <th>4</th>\n",
       "      <td>52</td>\n",
       "      <td>5844.000000</td>\n",
       "      <td>0</td>\n",
       "      <td>0</td>\n",
       "      <td>0.0</td>\n",
       "      <td>0</td>\n",
       "      <td>0</td>\n",
       "      <td>0.0</td>\n",
       "      <td>263.0</td>\n",
       "      <td>0</td>\n",
       "      <td>0</td>\n",
       "    </tr>\n",
       "  </tbody>\n",
       "</table>\n",
       "</div>"
      ],
      "text/plain": [
       "   EDAD  INGRESO_BRUTO_M1  FLG_ADEL_SUELDO_M1  FREC_AGENTE  FLG_CONV_SF  \\\n",
       "0    46       2565.256405                   0            0          0.0   \n",
       "1    54       4718.000000                   0            0          1.0   \n",
       "2    81       2565.256405                   0            0          0.0   \n",
       "3    42        936.000000                   0            0          0.0   \n",
       "4    52       5844.000000                   0            0          0.0   \n",
       "\n",
       "   FREC_KIOSKO  FREC_BPI_TD  PROM_CTD_TRX_6M  ANT_CLIENTE  CTD_RECLAMOS_M1  \\\n",
       "0            0            0              0.0        224.0                0   \n",
       "1            0            0              0.0        123.0                0   \n",
       "2            0            0              0.0        264.0                0   \n",
       "3            0            0              0.0        263.0                0   \n",
       "4            0            0              0.0        263.0                0   \n",
       "\n",
       "   TARGET_MODEL2  \n",
       "0              0  \n",
       "1              0  \n",
       "2              0  \n",
       "3              0  \n",
       "4              0  "
      ]
     },
     "execution_count": 74,
     "metadata": {},
     "output_type": "execute_result"
    }
   ],
   "source": [
    "df_train_fuga_T.head()"
   ]
  },
  {
   "cell_type": "code",
   "execution_count": 75,
   "metadata": {},
   "outputs": [],
   "source": [
    "X, y = df_train_fuga_T.iloc[:, 0:10].values, df_train_fuga_T.iloc[:, 10].values\n",
    "\n",
    "X_train, X_test, y_train, y_test =\\\n",
    "    train_test_split(X, #valores de los predictores\n",
    "                     y, #los valores del target\n",
    "                     test_size=0.3, #proporción para datos de testeo\n",
    "                     random_state=0, #semilla\n",
    "                     stratify=y) #la variable de estratificación"
   ]
  },
  {
   "cell_type": "code",
   "execution_count": 76,
   "metadata": {},
   "outputs": [],
   "source": [
    "columnas_x=['EDAD','INGRESO_BRUTO_M1','FLG_ADEL_SUELDO_M1', 'FREC_AGENTE', 'FLG_CONV_SF',\n",
    "           'FREC_KIOSKO', 'FREC_BPI_TD', 'PROM_CTD_TRX_6M', 'ANT_CLIENTE','CTD_RECLAMOS_M1']\n",
    "#VARIABLES SIN LA TARGET"
   ]
  },
  {
   "cell_type": "code",
   "execution_count": 77,
   "metadata": {},
   "outputs": [
    {
     "data": {
      "text/html": [
       "<div>\n",
       "<style scoped>\n",
       "    .dataframe tbody tr th:only-of-type {\n",
       "        vertical-align: middle;\n",
       "    }\n",
       "\n",
       "    .dataframe tbody tr th {\n",
       "        vertical-align: top;\n",
       "    }\n",
       "\n",
       "    .dataframe thead th {\n",
       "        text-align: right;\n",
       "    }\n",
       "</style>\n",
       "<table border=\"1\" class=\"dataframe\">\n",
       "  <thead>\n",
       "    <tr style=\"text-align: right;\">\n",
       "      <th></th>\n",
       "      <th>EDAD</th>\n",
       "      <th>INGRESO_BRUTO_M1</th>\n",
       "      <th>FLG_ADEL_SUELDO_M1</th>\n",
       "      <th>FREC_AGENTE</th>\n",
       "      <th>FLG_CONV_SF</th>\n",
       "      <th>FREC_KIOSKO</th>\n",
       "      <th>FREC_BPI_TD</th>\n",
       "      <th>PROM_CTD_TRX_6M</th>\n",
       "      <th>ANT_CLIENTE</th>\n",
       "      <th>CTD_RECLAMOS_M1</th>\n",
       "      <th>TARGET_MODEL2</th>\n",
       "    </tr>\n",
       "  </thead>\n",
       "  <tbody>\n",
       "    <tr>\n",
       "      <th>0</th>\n",
       "      <td>41.0</td>\n",
       "      <td>3387.000000</td>\n",
       "      <td>1.0</td>\n",
       "      <td>0.0</td>\n",
       "      <td>0.0</td>\n",
       "      <td>0.0</td>\n",
       "      <td>0.0</td>\n",
       "      <td>0.0</td>\n",
       "      <td>49.0</td>\n",
       "      <td>0.0</td>\n",
       "      <td>0</td>\n",
       "    </tr>\n",
       "    <tr>\n",
       "      <th>1</th>\n",
       "      <td>42.0</td>\n",
       "      <td>2270.000000</td>\n",
       "      <td>0.0</td>\n",
       "      <td>0.0</td>\n",
       "      <td>0.0</td>\n",
       "      <td>2.0</td>\n",
       "      <td>6.0</td>\n",
       "      <td>0.0</td>\n",
       "      <td>143.0</td>\n",
       "      <td>0.0</td>\n",
       "      <td>0</td>\n",
       "    </tr>\n",
       "    <tr>\n",
       "      <th>2</th>\n",
       "      <td>37.0</td>\n",
       "      <td>1743.000000</td>\n",
       "      <td>0.0</td>\n",
       "      <td>0.0</td>\n",
       "      <td>0.0</td>\n",
       "      <td>0.0</td>\n",
       "      <td>0.0</td>\n",
       "      <td>0.0</td>\n",
       "      <td>781.0</td>\n",
       "      <td>0.0</td>\n",
       "      <td>0</td>\n",
       "    </tr>\n",
       "    <tr>\n",
       "      <th>3</th>\n",
       "      <td>64.0</td>\n",
       "      <td>1301.000000</td>\n",
       "      <td>0.0</td>\n",
       "      <td>0.0</td>\n",
       "      <td>0.0</td>\n",
       "      <td>0.0</td>\n",
       "      <td>0.0</td>\n",
       "      <td>0.0</td>\n",
       "      <td>34.0</td>\n",
       "      <td>0.0</td>\n",
       "      <td>0</td>\n",
       "    </tr>\n",
       "    <tr>\n",
       "      <th>4</th>\n",
       "      <td>32.0</td>\n",
       "      <td>2565.256405</td>\n",
       "      <td>0.0</td>\n",
       "      <td>0.0</td>\n",
       "      <td>0.0</td>\n",
       "      <td>0.0</td>\n",
       "      <td>0.0</td>\n",
       "      <td>0.0</td>\n",
       "      <td>66.0</td>\n",
       "      <td>0.0</td>\n",
       "      <td>0</td>\n",
       "    </tr>\n",
       "  </tbody>\n",
       "</table>\n",
       "</div>"
      ],
      "text/plain": [
       "   EDAD  INGRESO_BRUTO_M1  FLG_ADEL_SUELDO_M1  FREC_AGENTE  FLG_CONV_SF  \\\n",
       "0  41.0       3387.000000                 1.0          0.0          0.0   \n",
       "1  42.0       2270.000000                 0.0          0.0          0.0   \n",
       "2  37.0       1743.000000                 0.0          0.0          0.0   \n",
       "3  64.0       1301.000000                 0.0          0.0          0.0   \n",
       "4  32.0       2565.256405                 0.0          0.0          0.0   \n",
       "\n",
       "   FREC_KIOSKO  FREC_BPI_TD  PROM_CTD_TRX_6M  ANT_CLIENTE  CTD_RECLAMOS_M1  \\\n",
       "0          0.0          0.0              0.0         49.0              0.0   \n",
       "1          2.0          6.0              0.0        143.0              0.0   \n",
       "2          0.0          0.0              0.0        781.0              0.0   \n",
       "3          0.0          0.0              0.0         34.0              0.0   \n",
       "4          0.0          0.0              0.0         66.0              0.0   \n",
       "\n",
       "   TARGET_MODEL2  \n",
       "0              0  \n",
       "1              0  \n",
       "2              0  \n",
       "3              0  \n",
       "4              0  "
      ]
     },
     "execution_count": 77,
     "metadata": {},
     "output_type": "execute_result"
    }
   ],
   "source": [
    "#Datos de entrenamiento\n",
    "x_t= pd.DataFrame(X_train, columns=columnas_x)\n",
    "y_t= pd.DataFrame(y_train, columns=['TARGET_MODEL2'])\n",
    "\n",
    "df_train_fuga_entrenamiento = pd.concat([x_t, y_t], axis=1)\n",
    "df_train_fuga_entrenamiento.head()"
   ]
  },
  {
   "cell_type": "code",
   "execution_count": 78,
   "metadata": {},
   "outputs": [
    {
     "data": {
      "text/plain": [
       "0    520624\n",
       "1     30622\n",
       "Name: TARGET_MODEL2, dtype: int64"
      ]
     },
     "execution_count": 78,
     "metadata": {},
     "output_type": "execute_result"
    }
   ],
   "source": [
    "count_classes = pd.value_counts(df_train_fuga_entrenamiento['TARGET_MODEL2'], sort = True)\n",
    "count_classes"
   ]
  },
  {
   "cell_type": "code",
   "execution_count": 79,
   "metadata": {},
   "outputs": [
    {
     "data": {
      "image/png": "[encoded data removed]",
      "text/plain": [
       "<Figure size 432x288 with 1 Axes>"
      ]
     },
     "metadata": {
      "needs_background": "light"
     },
     "output_type": "display_data"
    }
   ],
   "source": [
    "\n",
    "count_classes.plot(kind = 'bar', #bar: gráfico de barras\n",
    "                   rot=90)#0 = no rotación de las etiquetas del eje x\n",
    "plt.xticks(range(2))\n",
    "plt.title(\"Frecuencia de número de observaciones\")\n",
    "plt.xlabel(\"ocurrencia de fuga\")\n",
    "plt.ylabel(\"número de observaciones\")\n",
    "plt.show()\n",
    "# GRAFICA DE BARRAS PARA MOSTRAR EL DESBALANCEO EXISTENTE EN LA DATA"
   ]
  },
  {
   "cell_type": "markdown",
   "metadata": {},
   "source": [
    "### **_Uso de UNDERSAMPLING_**"
   ]
  },
  {
   "cell_type": "code",
   "execution_count": 80,
   "metadata": {},
   "outputs": [],
   "source": [
    "#Primero creamos una instancia de NearMiss\n",
    "under=NearMiss(sampling_strategy=0.8, #proporcion de balanceo final\n",
    "              n_neighbors=11) #numero de vecinos a considerar en la aleatoriedad"
   ]
  },
  {
   "cell_type": "code",
   "execution_count": 81,
   "metadata": {},
   "outputs": [],
   "source": [
    "#fit_resample me brinda la data ya balanceada y me incluye en\n",
    "#las variables xtrain_under, ytrain_under\n",
    "xtrain_under,ytrain_under= under.fit_resample(x_t,y_t)"
   ]
  },
  {
   "cell_type": "code",
   "execution_count": 82,
   "metadata": {},
   "outputs": [
    {
     "data": {
      "text/html": [
       "<div>\n",
       "<style scoped>\n",
       "    .dataframe tbody tr th:only-of-type {\n",
       "        vertical-align: middle;\n",
       "    }\n",
       "\n",
       "    .dataframe tbody tr th {\n",
       "        vertical-align: top;\n",
       "    }\n",
       "\n",
       "    .dataframe thead th {\n",
       "        text-align: right;\n",
       "    }\n",
       "</style>\n",
       "<table border=\"1\" class=\"dataframe\">\n",
       "  <thead>\n",
       "    <tr style=\"text-align: right;\">\n",
       "      <th></th>\n",
       "      <th>EDAD</th>\n",
       "      <th>INGRESO_BRUTO_M1</th>\n",
       "      <th>FLG_ADEL_SUELDO_M1</th>\n",
       "      <th>FREC_AGENTE</th>\n",
       "      <th>FLG_CONV_SF</th>\n",
       "      <th>FREC_KIOSKO</th>\n",
       "      <th>FREC_BPI_TD</th>\n",
       "      <th>PROM_CTD_TRX_6M</th>\n",
       "      <th>ANT_CLIENTE</th>\n",
       "      <th>CTD_RECLAMOS_M1</th>\n",
       "      <th>TARGET_MODEL2</th>\n",
       "    </tr>\n",
       "  </thead>\n",
       "  <tbody>\n",
       "    <tr>\n",
       "      <th>0</th>\n",
       "      <td>22.0</td>\n",
       "      <td>2565.256405</td>\n",
       "      <td>0.0</td>\n",
       "      <td>0.0</td>\n",
       "      <td>0.0</td>\n",
       "      <td>0.0</td>\n",
       "      <td>0.0</td>\n",
       "      <td>0.0</td>\n",
       "      <td>3.0</td>\n",
       "      <td>0.0</td>\n",
       "      <td>0</td>\n",
       "    </tr>\n",
       "    <tr>\n",
       "      <th>1</th>\n",
       "      <td>22.0</td>\n",
       "      <td>2565.256405</td>\n",
       "      <td>0.0</td>\n",
       "      <td>0.0</td>\n",
       "      <td>0.0</td>\n",
       "      <td>0.0</td>\n",
       "      <td>0.0</td>\n",
       "      <td>0.0</td>\n",
       "      <td>3.0</td>\n",
       "      <td>0.0</td>\n",
       "      <td>0</td>\n",
       "    </tr>\n",
       "    <tr>\n",
       "      <th>2</th>\n",
       "      <td>25.0</td>\n",
       "      <td>2565.256405</td>\n",
       "      <td>0.0</td>\n",
       "      <td>0.0</td>\n",
       "      <td>0.0</td>\n",
       "      <td>0.0</td>\n",
       "      <td>0.0</td>\n",
       "      <td>0.0</td>\n",
       "      <td>0.0</td>\n",
       "      <td>0.0</td>\n",
       "      <td>0</td>\n",
       "    </tr>\n",
       "    <tr>\n",
       "      <th>3</th>\n",
       "      <td>21.0</td>\n",
       "      <td>2565.256405</td>\n",
       "      <td>0.0</td>\n",
       "      <td>0.0</td>\n",
       "      <td>0.0</td>\n",
       "      <td>0.0</td>\n",
       "      <td>0.0</td>\n",
       "      <td>0.0</td>\n",
       "      <td>2.0</td>\n",
       "      <td>0.0</td>\n",
       "      <td>0</td>\n",
       "    </tr>\n",
       "    <tr>\n",
       "      <th>4</th>\n",
       "      <td>24.0</td>\n",
       "      <td>2565.256405</td>\n",
       "      <td>0.0</td>\n",
       "      <td>0.0</td>\n",
       "      <td>0.0</td>\n",
       "      <td>0.0</td>\n",
       "      <td>0.0</td>\n",
       "      <td>0.0</td>\n",
       "      <td>0.0</td>\n",
       "      <td>0.0</td>\n",
       "      <td>0</td>\n",
       "    </tr>\n",
       "  </tbody>\n",
       "</table>\n",
       "</div>"
      ],
      "text/plain": [
       "   EDAD  INGRESO_BRUTO_M1  FLG_ADEL_SUELDO_M1  FREC_AGENTE  FLG_CONV_SF  \\\n",
       "0  22.0       2565.256405                 0.0          0.0          0.0   \n",
       "1  22.0       2565.256405                 0.0          0.0          0.0   \n",
       "2  25.0       2565.256405                 0.0          0.0          0.0   \n",
       "3  21.0       2565.256405                 0.0          0.0          0.0   \n",
       "4  24.0       2565.256405                 0.0          0.0          0.0   \n",
       "\n",
       "   FREC_KIOSKO  FREC_BPI_TD  PROM_CTD_TRX_6M  ANT_CLIENTE  CTD_RECLAMOS_M1  \\\n",
       "0          0.0          0.0              0.0          3.0              0.0   \n",
       "1          0.0          0.0              0.0          3.0              0.0   \n",
       "2          0.0          0.0              0.0          0.0              0.0   \n",
       "3          0.0          0.0              0.0          2.0              0.0   \n",
       "4          0.0          0.0              0.0          0.0              0.0   \n",
       "\n",
       "   TARGET_MODEL2  \n",
       "0              0  \n",
       "1              0  \n",
       "2              0  \n",
       "3              0  \n",
       "4              0  "
      ]
     },
     "execution_count": 82,
     "metadata": {},
     "output_type": "execute_result"
    }
   ],
   "source": [
    "x_t_unds= pd.DataFrame(xtrain_under, columns=columnas_x)\n",
    "y_t_unds= pd.DataFrame(ytrain_under, columns=['TARGET_MODEL2'])\n",
    "\n",
    "df_train_fuga_entrenamiento_unds = pd.concat([x_t_unds, y_t_unds], axis=1)\n",
    "df_train_fuga_entrenamiento_unds.head()"
   ]
  },
  {
   "cell_type": "code",
   "execution_count": 83,
   "metadata": {
    "scrolled": true
   },
   "outputs": [
    {
     "data": {
      "text/plain": [
       "0    38277\n",
       "1    30622\n",
       "Name: TARGET_MODEL2, dtype: int64"
      ]
     },
     "execution_count": 83,
     "metadata": {},
     "output_type": "execute_result"
    }
   ],
   "source": [
    "count_classes = pd.value_counts(df_train_fuga_entrenamiento_unds['TARGET_MODEL2'], sort = True)\n",
    "count_classes"
   ]
  },
  {
   "cell_type": "code",
   "execution_count": 84,
   "metadata": {},
   "outputs": [
    {
     "data": {
      "image/png": "[encoded data removed]",
      "text/plain": [
       "<Figure size 432x288 with 1 Axes>"
      ]
     },
     "metadata": {
      "needs_background": "light"
     },
     "output_type": "display_data"
    }
   ],
   "source": [
    "count_classes.plot(kind = 'bar', rot=0)\n",
    "plt.xticks(range(2))\n",
    "plt.title(\"Desbalanceo de la Target - Training-UnderSampling\")\n",
    "plt.xlabel(\"ocurrencia de Fuga\")\n",
    "plt.ylabel(\"número de observaciones\")\n",
    "plt.show()\n",
    "# GRAFICA DE BARRAS DE LA DATA BALANCEADA POR EL METODO UNDERSAMPLING"
   ]
  },
  {
   "cell_type": "markdown",
   "metadata": {},
   "source": [
    "### **_Uso de OVERSAMPLING_**"
   ]
  },
  {
   "cell_type": "code",
   "execution_count": 85,
   "metadata": {},
   "outputs": [],
   "source": [
    "#Creamos una instancia de RandomOverSampler\n",
    "over=RandomOverSampler(sampling_strategy=0.8,\n",
    "                      random_state=2020)"
   ]
  },
  {
   "cell_type": "code",
   "execution_count": 86,
   "metadata": {},
   "outputs": [],
   "source": [
    "xtrain_over,ytrain_over=over.fit_resample(x_t,y_t) "
   ]
  },
  {
   "cell_type": "code",
   "execution_count": 87,
   "metadata": {},
   "outputs": [
    {
     "data": {
      "text/html": [
       "<div>\n",
       "<style scoped>\n",
       "    .dataframe tbody tr th:only-of-type {\n",
       "        vertical-align: middle;\n",
       "    }\n",
       "\n",
       "    .dataframe tbody tr th {\n",
       "        vertical-align: top;\n",
       "    }\n",
       "\n",
       "    .dataframe thead th {\n",
       "        text-align: right;\n",
       "    }\n",
       "</style>\n",
       "<table border=\"1\" class=\"dataframe\">\n",
       "  <thead>\n",
       "    <tr style=\"text-align: right;\">\n",
       "      <th></th>\n",
       "      <th>EDAD</th>\n",
       "      <th>INGRESO_BRUTO_M1</th>\n",
       "      <th>FLG_ADEL_SUELDO_M1</th>\n",
       "      <th>FREC_AGENTE</th>\n",
       "      <th>FLG_CONV_SF</th>\n",
       "      <th>FREC_KIOSKO</th>\n",
       "      <th>FREC_BPI_TD</th>\n",
       "      <th>PROM_CTD_TRX_6M</th>\n",
       "      <th>ANT_CLIENTE</th>\n",
       "      <th>CTD_RECLAMOS_M1</th>\n",
       "      <th>TARGET_MODEL2</th>\n",
       "    </tr>\n",
       "  </thead>\n",
       "  <tbody>\n",
       "    <tr>\n",
       "      <th>0</th>\n",
       "      <td>41.0</td>\n",
       "      <td>3387.000000</td>\n",
       "      <td>1.0</td>\n",
       "      <td>0.0</td>\n",
       "      <td>0.0</td>\n",
       "      <td>0.0</td>\n",
       "      <td>0.0</td>\n",
       "      <td>0.0</td>\n",
       "      <td>49.0</td>\n",
       "      <td>0.0</td>\n",
       "      <td>0</td>\n",
       "    </tr>\n",
       "    <tr>\n",
       "      <th>1</th>\n",
       "      <td>42.0</td>\n",
       "      <td>2270.000000</td>\n",
       "      <td>0.0</td>\n",
       "      <td>0.0</td>\n",
       "      <td>0.0</td>\n",
       "      <td>2.0</td>\n",
       "      <td>6.0</td>\n",
       "      <td>0.0</td>\n",
       "      <td>143.0</td>\n",
       "      <td>0.0</td>\n",
       "      <td>0</td>\n",
       "    </tr>\n",
       "    <tr>\n",
       "      <th>2</th>\n",
       "      <td>37.0</td>\n",
       "      <td>1743.000000</td>\n",
       "      <td>0.0</td>\n",
       "      <td>0.0</td>\n",
       "      <td>0.0</td>\n",
       "      <td>0.0</td>\n",
       "      <td>0.0</td>\n",
       "      <td>0.0</td>\n",
       "      <td>781.0</td>\n",
       "      <td>0.0</td>\n",
       "      <td>0</td>\n",
       "    </tr>\n",
       "    <tr>\n",
       "      <th>3</th>\n",
       "      <td>64.0</td>\n",
       "      <td>1301.000000</td>\n",
       "      <td>0.0</td>\n",
       "      <td>0.0</td>\n",
       "      <td>0.0</td>\n",
       "      <td>0.0</td>\n",
       "      <td>0.0</td>\n",
       "      <td>0.0</td>\n",
       "      <td>34.0</td>\n",
       "      <td>0.0</td>\n",
       "      <td>0</td>\n",
       "    </tr>\n",
       "    <tr>\n",
       "      <th>4</th>\n",
       "      <td>32.0</td>\n",
       "      <td>2565.256405</td>\n",
       "      <td>0.0</td>\n",
       "      <td>0.0</td>\n",
       "      <td>0.0</td>\n",
       "      <td>0.0</td>\n",
       "      <td>0.0</td>\n",
       "      <td>0.0</td>\n",
       "      <td>66.0</td>\n",
       "      <td>0.0</td>\n",
       "      <td>0</td>\n",
       "    </tr>\n",
       "  </tbody>\n",
       "</table>\n",
       "</div>"
      ],
      "text/plain": [
       "   EDAD  INGRESO_BRUTO_M1  FLG_ADEL_SUELDO_M1  FREC_AGENTE  FLG_CONV_SF  \\\n",
       "0  41.0       3387.000000                 1.0          0.0          0.0   \n",
       "1  42.0       2270.000000                 0.0          0.0          0.0   \n",
       "2  37.0       1743.000000                 0.0          0.0          0.0   \n",
       "3  64.0       1301.000000                 0.0          0.0          0.0   \n",
       "4  32.0       2565.256405                 0.0          0.0          0.0   \n",
       "\n",
       "   FREC_KIOSKO  FREC_BPI_TD  PROM_CTD_TRX_6M  ANT_CLIENTE  CTD_RECLAMOS_M1  \\\n",
       "0          0.0          0.0              0.0         49.0              0.0   \n",
       "1          2.0          6.0              0.0        143.0              0.0   \n",
       "2          0.0          0.0              0.0        781.0              0.0   \n",
       "3          0.0          0.0              0.0         34.0              0.0   \n",
       "4          0.0          0.0              0.0         66.0              0.0   \n",
       "\n",
       "   TARGET_MODEL2  \n",
       "0              0  \n",
       "1              0  \n",
       "2              0  \n",
       "3              0  \n",
       "4              0  "
      ]
     },
     "execution_count": 87,
     "metadata": {},
     "output_type": "execute_result"
    }
   ],
   "source": [
    "x_t_over= pd.DataFrame(xtrain_over, columns=columnas_x)\n",
    "y_t_over= pd.DataFrame(ytrain_over, columns=['TARGET_MODEL2'])\n",
    "\n",
    "df_train_fuga_entrenamiento_over = pd.concat([x_t_over, y_t_over], axis=1)\n",
    "df_train_fuga_entrenamiento_over.head()"
   ]
  },
  {
   "cell_type": "code",
   "execution_count": 88,
   "metadata": {},
   "outputs": [
    {
     "data": {
      "text/plain": [
       "0    520624\n",
       "1    416499\n",
       "Name: TARGET_MODEL2, dtype: int64"
      ]
     },
     "execution_count": 88,
     "metadata": {},
     "output_type": "execute_result"
    }
   ],
   "source": [
    "#Calculando las frecuencias por categoria\n",
    "count_classes_over=pd.value_counts(df_train_fuga_entrenamiento_over.TARGET_MODEL2)\n",
    "count_classes_over"
   ]
  },
  {
   "cell_type": "code",
   "execution_count": 89,
   "metadata": {},
   "outputs": [
    {
     "data": {
      "text/plain": [
       "80.0"
      ]
     },
     "execution_count": 89,
     "metadata": {},
     "output_type": "execute_result"
    }
   ],
   "source": [
    "#Verificando la proporcion \n",
    "prop=round(count_classes_over[1]*100/count_classes_over[0],1)\n",
    "prop"
   ]
  },
  {
   "cell_type": "code",
   "execution_count": 90,
   "metadata": {
    "scrolled": true
   },
   "outputs": [
    {
     "data": {
      "image/png": "[encoded data removed]",
      "text/plain": [
       "<Figure size 432x288 with 1 Axes>"
      ]
     },
     "metadata": {
      "needs_background": "light"
     },
     "output_type": "display_data"
    }
   ],
   "source": [
    "#Graficando el Desbalanceo de la Target en el Training Set\n",
    "count_classes_over.plot(kind='bar',rot=0)\n",
    "plt.title('Desbalanceo de la Target - Training-OverSampling')\n",
    "plt.xlabel('Ocurrencia de Fugas')\n",
    "plt.ylabel('Número de Observaciones')\n",
    "plt.show()\n",
    "# SE MUESTRA EL BALANCEO REALIZADO CON EL METODO OVERSAMPLING"
   ]
  },
  {
   "cell_type": "code",
   "execution_count": 91,
   "metadata": {},
   "outputs": [],
   "source": [
    "df_train_fuga['TARGET_MODEL2_UnderSampling']=df_train_fuga_entrenamiento_unds.TARGET_MODEL2\n",
    "df_train_fuga['TARGET_MODEL2_OverSampling']=df_train_fuga_entrenamiento_over.TARGET_MODEL2\n",
    "#SE INCLUYE AMBOS BALANCEOS DE LA VARIABLE TARGET \n",
    "#EN LA DATA ORIGINAL df_train_fuga"
   ]
  },
  {
   "cell_type": "code",
   "execution_count": 92,
   "metadata": {
    "scrolled": true
   },
   "outputs": [
    {
     "data": {
      "text/html": [
       "<div>\n",
       "<style scoped>\n",
       "    .dataframe tbody tr th:only-of-type {\n",
       "        vertical-align: middle;\n",
       "    }\n",
       "\n",
       "    .dataframe tbody tr th {\n",
       "        vertical-align: top;\n",
       "    }\n",
       "\n",
       "    .dataframe thead th {\n",
       "        text-align: right;\n",
       "    }\n",
       "</style>\n",
       "<table border=\"1\" class=\"dataframe\">\n",
       "  <thead>\n",
       "    <tr style=\"text-align: right;\">\n",
       "      <th></th>\n",
       "      <th>TARGET_MODEL2</th>\n",
       "      <th>EDAD</th>\n",
       "      <th>SEXO</th>\n",
       "      <th>DEPARTAMENTO</th>\n",
       "      <th>INGRESO_BRUTO_M1</th>\n",
       "      <th>SEGMENTO</th>\n",
       "      <th>FLG_ADEL_SUELDO_M1</th>\n",
       "      <th>FREC_AGENTE</th>\n",
       "      <th>FLG_CONV_SF</th>\n",
       "      <th>FREC_KIOSKO</th>\n",
       "      <th>FREC_BPI_TD</th>\n",
       "      <th>PROM_CTD_TRX_6M</th>\n",
       "      <th>ANT_CLIENTE</th>\n",
       "      <th>CTD_RECLAMOS_M1</th>\n",
       "      <th>INGRESO_BRUTO_M1_Discr_Kmeans</th>\n",
       "      <th>INGRESO_Discr_Quantil</th>\n",
       "      <th>EDAD_Discr_Quantil</th>\n",
       "      <th>EDAD_Discr_KMeans</th>\n",
       "      <th>TARGET_MODEL2_UnderSampling</th>\n",
       "      <th>TARGET_MODEL2_OverSampling</th>\n",
       "    </tr>\n",
       "  </thead>\n",
       "  <tbody>\n",
       "    <tr>\n",
       "      <th>0</th>\n",
       "      <td>0</td>\n",
       "      <td>46</td>\n",
       "      <td>F</td>\n",
       "      <td>PIURA</td>\n",
       "      <td>2565.256405</td>\n",
       "      <td>2</td>\n",
       "      <td>0</td>\n",
       "      <td>0</td>\n",
       "      <td>0.0</td>\n",
       "      <td>0</td>\n",
       "      <td>0</td>\n",
       "      <td>0.0</td>\n",
       "      <td>224.0</td>\n",
       "      <td>0</td>\n",
       "      <td>0.0</td>\n",
       "      <td>2.0</td>\n",
       "      <td>2.0</td>\n",
       "      <td>1.0</td>\n",
       "      <td>0.0</td>\n",
       "      <td>0</td>\n",
       "    </tr>\n",
       "    <tr>\n",
       "      <th>1</th>\n",
       "      <td>0</td>\n",
       "      <td>54</td>\n",
       "      <td>M</td>\n",
       "      <td>LORETO</td>\n",
       "      <td>4718.000000</td>\n",
       "      <td>1BC</td>\n",
       "      <td>0</td>\n",
       "      <td>0</td>\n",
       "      <td>1.0</td>\n",
       "      <td>0</td>\n",
       "      <td>0</td>\n",
       "      <td>0.0</td>\n",
       "      <td>123.0</td>\n",
       "      <td>0</td>\n",
       "      <td>0.0</td>\n",
       "      <td>2.0</td>\n",
       "      <td>2.0</td>\n",
       "      <td>1.0</td>\n",
       "      <td>0.0</td>\n",
       "      <td>0</td>\n",
       "    </tr>\n",
       "    <tr>\n",
       "      <th>2</th>\n",
       "      <td>0</td>\n",
       "      <td>81</td>\n",
       "      <td>M</td>\n",
       "      <td>LIMA</td>\n",
       "      <td>2565.256405</td>\n",
       "      <td>6</td>\n",
       "      <td>0</td>\n",
       "      <td>0</td>\n",
       "      <td>0.0</td>\n",
       "      <td>0</td>\n",
       "      <td>0</td>\n",
       "      <td>0.0</td>\n",
       "      <td>264.0</td>\n",
       "      <td>0</td>\n",
       "      <td>0.0</td>\n",
       "      <td>2.0</td>\n",
       "      <td>2.0</td>\n",
       "      <td>2.0</td>\n",
       "      <td>0.0</td>\n",
       "      <td>0</td>\n",
       "    </tr>\n",
       "    <tr>\n",
       "      <th>3</th>\n",
       "      <td>0</td>\n",
       "      <td>42</td>\n",
       "      <td>M</td>\n",
       "      <td>PIURA</td>\n",
       "      <td>936.000000</td>\n",
       "      <td>2</td>\n",
       "      <td>0</td>\n",
       "      <td>0</td>\n",
       "      <td>0.0</td>\n",
       "      <td>0</td>\n",
       "      <td>0</td>\n",
       "      <td>0.0</td>\n",
       "      <td>263.0</td>\n",
       "      <td>0</td>\n",
       "      <td>0.0</td>\n",
       "      <td>0.0</td>\n",
       "      <td>2.0</td>\n",
       "      <td>1.0</td>\n",
       "      <td>0.0</td>\n",
       "      <td>0</td>\n",
       "    </tr>\n",
       "    <tr>\n",
       "      <th>4</th>\n",
       "      <td>0</td>\n",
       "      <td>52</td>\n",
       "      <td>M</td>\n",
       "      <td>MOQUEGUA</td>\n",
       "      <td>5844.000000</td>\n",
       "      <td>1BC</td>\n",
       "      <td>0</td>\n",
       "      <td>0</td>\n",
       "      <td>0.0</td>\n",
       "      <td>0</td>\n",
       "      <td>0</td>\n",
       "      <td>0.0</td>\n",
       "      <td>263.0</td>\n",
       "      <td>0</td>\n",
       "      <td>1.0</td>\n",
       "      <td>2.0</td>\n",
       "      <td>2.0</td>\n",
       "      <td>1.0</td>\n",
       "      <td>0.0</td>\n",
       "      <td>0</td>\n",
       "    </tr>\n",
       "  </tbody>\n",
       "</table>\n",
       "</div>"
      ],
      "text/plain": [
       "   TARGET_MODEL2  EDAD SEXO DEPARTAMENTO  INGRESO_BRUTO_M1 SEGMENTO  \\\n",
       "0              0    46    F        PIURA       2565.256405        2   \n",
       "1              0    54    M       LORETO       4718.000000      1BC   \n",
       "2              0    81    M         LIMA       2565.256405        6   \n",
       "3              0    42    M        PIURA        936.000000        2   \n",
       "4              0    52    M     MOQUEGUA       5844.000000      1BC   \n",
       "\n",
       "   FLG_ADEL_SUELDO_M1  FREC_AGENTE  FLG_CONV_SF  FREC_KIOSKO  FREC_BPI_TD  \\\n",
       "0                   0            0          0.0            0            0   \n",
       "1                   0            0          1.0            0            0   \n",
       "2                   0            0          0.0            0            0   \n",
       "3                   0            0          0.0            0            0   \n",
       "4                   0            0          0.0            0            0   \n",
       "\n",
       "   PROM_CTD_TRX_6M  ANT_CLIENTE  CTD_RECLAMOS_M1  \\\n",
       "0              0.0        224.0                0   \n",
       "1              0.0        123.0                0   \n",
       "2              0.0        264.0                0   \n",
       "3              0.0        263.0                0   \n",
       "4              0.0        263.0                0   \n",
       "\n",
       "   INGRESO_BRUTO_M1_Discr_Kmeans  INGRESO_Discr_Quantil  EDAD_Discr_Quantil  \\\n",
       "0                            0.0                    2.0                 2.0   \n",
       "1                            0.0                    2.0                 2.0   \n",
       "2                            0.0                    2.0                 2.0   \n",
       "3                            0.0                    0.0                 2.0   \n",
       "4                            1.0                    2.0                 2.0   \n",
       "\n",
       "   EDAD_Discr_KMeans  TARGET_MODEL2_UnderSampling  TARGET_MODEL2_OverSampling  \n",
       "0                1.0                          0.0                           0  \n",
       "1                1.0                          0.0                           0  \n",
       "2                2.0                          0.0                           0  \n",
       "3                1.0                          0.0                           0  \n",
       "4                1.0                          0.0                           0  "
      ]
     },
     "execution_count": 92,
     "metadata": {},
     "output_type": "execute_result"
    }
   ],
   "source": [
    "df_train_fuga.head()"
   ]
  },
  {
   "cell_type": "markdown",
   "metadata": {},
   "source": [
    "## **_CASO 2_**"
   ]
  },
  {
   "cell_type": "markdown",
   "metadata": {},
   "source": [
    "### 1. Realizar un análisis de componentes principales para reducción de la dimensionalidad "
   ]
  },
  {
   "cell_type": "code",
   "execution_count": 93,
   "metadata": {},
   "outputs": [
    {
     "name": "stdout",
     "output_type": "stream",
     "text": [
      "<class 'pandas.core.frame.DataFrame'>\n",
      "RangeIndex: 1833 entries, 0 to 1832\n",
      "Data columns (total 16 columns):\n",
      " #   Column                   Non-Null Count  Dtype   \n",
      "---  ------                   --------------  -----   \n",
      " 0   ubigeo                   1833 non-null   object  \n",
      " 1   departamento             1833 non-null   object  \n",
      " 2   dom_Geo                  1833 non-null   object  \n",
      " 3   provincia                1833 non-null   object  \n",
      " 4   distrito                 1833 non-null   object  \n",
      " 5   total_electoral          1833 non-null   float64 \n",
      " 6   total_ausentismo         1833 non-null   float64 \n",
      " 7   porc_Ausentismo          1833 non-null   float64 \n",
      " 8   ord_Ausentismo           1833 non-null   category\n",
      " 9   dic_Ausentismo           1833 non-null   category\n",
      " 10  porc_hogares_sin_medios  1832 non-null   float64 \n",
      " 11  IDH                      1833 non-null   float64 \n",
      " 12  alfabetismo              1833 non-null   float64 \n",
      " 13  partidoGanador           1833 non-null   object  \n",
      " 14  porc_2_NBI               1832 non-null   float64 \n",
      " 15  GINI                     1832 non-null   float64 \n",
      "dtypes: category(2), float64(8), object(6)\n",
      "memory usage: 204.5+ KB\n"
     ]
    }
   ],
   "source": [
    "# OBTENEMOS LA DATA CON LA QUE SE TRABAJARÁ\n",
    "miArchivo=\"AusentismoPres2011.sav\"\n",
    "poblacion=pd.read_spss(miArchivo)\n",
    "poblacion.info()"
   ]
  },
  {
   "cell_type": "code",
   "execution_count": 94,
   "metadata": {},
   "outputs": [],
   "source": [
    "columns=['ubigeo', 'departamento', 'dom_Geo', 'provincia', 'distrito',\n",
    "       'total_electoral', 'total_ausentismo', 'porc_Ausentismo',\n",
    "       'ord_Ausentismo', 'dic_Ausentismo', 'porc_hogares_sin_medios', 'IDH',\n",
    "       'alfabetismo', 'partidoGanador', 'porc_2_NBI', 'GINI']"
   ]
  },
  {
   "cell_type": "code",
   "execution_count": 95,
   "metadata": {},
   "outputs": [
    {
     "data": {
      "text/html": [
       "<div>\n",
       "<style scoped>\n",
       "    .dataframe tbody tr th:only-of-type {\n",
       "        vertical-align: middle;\n",
       "    }\n",
       "\n",
       "    .dataframe tbody tr th {\n",
       "        vertical-align: top;\n",
       "    }\n",
       "\n",
       "    .dataframe thead th {\n",
       "        text-align: right;\n",
       "    }\n",
       "</style>\n",
       "<table border=\"1\" class=\"dataframe\">\n",
       "  <thead>\n",
       "    <tr style=\"text-align: right;\">\n",
       "      <th></th>\n",
       "      <th>ubigeo</th>\n",
       "      <th>departamento</th>\n",
       "      <th>dom_Geo</th>\n",
       "      <th>provincia</th>\n",
       "      <th>distrito</th>\n",
       "      <th>total_electoral</th>\n",
       "      <th>total_ausentismo</th>\n",
       "      <th>porc_Ausentismo</th>\n",
       "      <th>ord_Ausentismo</th>\n",
       "      <th>dic_Ausentismo</th>\n",
       "      <th>porc_hogares_sin_medios</th>\n",
       "      <th>IDH</th>\n",
       "      <th>alfabetismo</th>\n",
       "      <th>partidoGanador</th>\n",
       "      <th>porc_2_NBI</th>\n",
       "      <th>GINI</th>\n",
       "    </tr>\n",
       "  </thead>\n",
       "  <tbody>\n",
       "    <tr>\n",
       "      <th>0</th>\n",
       "      <td>010102</td>\n",
       "      <td>Amazonas</td>\n",
       "      <td>Norte</td>\n",
       "      <td>Chachapoyas</td>\n",
       "      <td>Asunción</td>\n",
       "      <td>234.0</td>\n",
       "      <td>59.0</td>\n",
       "      <td>25.213675</td>\n",
       "      <td>Ausentismo Grave</td>\n",
       "      <td>Ausentismo Fuerte</td>\n",
       "      <td>100.00</td>\n",
       "      <td>0.581463</td>\n",
       "      <td>86.893200</td>\n",
       "      <td>PERU POSIBLE</td>\n",
       "      <td>51.11</td>\n",
       "      <td>0.30</td>\n",
       "    </tr>\n",
       "    <tr>\n",
       "      <th>1</th>\n",
       "      <td>010103</td>\n",
       "      <td>Amazonas</td>\n",
       "      <td>Norte</td>\n",
       "      <td>Chachapoyas</td>\n",
       "      <td>Balsas</td>\n",
       "      <td>848.0</td>\n",
       "      <td>208.0</td>\n",
       "      <td>24.528301</td>\n",
       "      <td>Ausentismo Grave</td>\n",
       "      <td>Ausentismo Fuerte</td>\n",
       "      <td>94.87</td>\n",
       "      <td>0.562141</td>\n",
       "      <td>86.527290</td>\n",
       "      <td>FUERZA 2011</td>\n",
       "      <td>20.23</td>\n",
       "      <td>0.31</td>\n",
       "    </tr>\n",
       "    <tr>\n",
       "      <th>2</th>\n",
       "      <td>010104</td>\n",
       "      <td>Amazonas</td>\n",
       "      <td>Norte</td>\n",
       "      <td>Chachapoyas</td>\n",
       "      <td>Cheto</td>\n",
       "      <td>478.0</td>\n",
       "      <td>51.0</td>\n",
       "      <td>10.669457</td>\n",
       "      <td>Ausentismo Bajo</td>\n",
       "      <td>Ausentismo Leve</td>\n",
       "      <td>99.40</td>\n",
       "      <td>0.599150</td>\n",
       "      <td>92.838196</td>\n",
       "      <td>GANA PERU</td>\n",
       "      <td>16.87</td>\n",
       "      <td>0.28</td>\n",
       "    </tr>\n",
       "    <tr>\n",
       "      <th>3</th>\n",
       "      <td>010105</td>\n",
       "      <td>Amazonas</td>\n",
       "      <td>Norte</td>\n",
       "      <td>Chachapoyas</td>\n",
       "      <td>Chiliquín</td>\n",
       "      <td>638.0</td>\n",
       "      <td>197.0</td>\n",
       "      <td>30.877743</td>\n",
       "      <td>Ausentismo Grave</td>\n",
       "      <td>Ausentismo Fuerte</td>\n",
       "      <td>99.60</td>\n",
       "      <td>0.545484</td>\n",
       "      <td>86.541740</td>\n",
       "      <td>FUERZA 2011</td>\n",
       "      <td>31.73</td>\n",
       "      <td>0.29</td>\n",
       "    </tr>\n",
       "    <tr>\n",
       "      <th>4</th>\n",
       "      <td>010106</td>\n",
       "      <td>Amazonas</td>\n",
       "      <td>Norte</td>\n",
       "      <td>Chachapoyas</td>\n",
       "      <td>Chuquibamba</td>\n",
       "      <td>1161.0</td>\n",
       "      <td>333.0</td>\n",
       "      <td>28.682170</td>\n",
       "      <td>Ausentismo Grave</td>\n",
       "      <td>Ausentismo Fuerte</td>\n",
       "      <td>99.62</td>\n",
       "      <td>0.584659</td>\n",
       "      <td>92.598430</td>\n",
       "      <td>FUERZA 2011</td>\n",
       "      <td>17.55</td>\n",
       "      <td>0.31</td>\n",
       "    </tr>\n",
       "  </tbody>\n",
       "</table>\n",
       "</div>"
      ],
      "text/plain": [
       "   ubigeo departamento dom_Geo    provincia     distrito  total_electoral  \\\n",
       "0  010102     Amazonas   Norte  Chachapoyas     Asunción            234.0   \n",
       "1  010103     Amazonas   Norte  Chachapoyas       Balsas            848.0   \n",
       "2  010104     Amazonas   Norte  Chachapoyas        Cheto            478.0   \n",
       "3  010105     Amazonas   Norte  Chachapoyas    Chiliquín            638.0   \n",
       "4  010106     Amazonas   Norte  Chachapoyas  Chuquibamba           1161.0   \n",
       "\n",
       "   total_ausentismo  porc_Ausentismo    ord_Ausentismo     dic_Ausentismo  \\\n",
       "0              59.0        25.213675  Ausentismo Grave  Ausentismo Fuerte   \n",
       "1             208.0        24.528301  Ausentismo Grave  Ausentismo Fuerte   \n",
       "2              51.0        10.669457   Ausentismo Bajo    Ausentismo Leve   \n",
       "3             197.0        30.877743  Ausentismo Grave  Ausentismo Fuerte   \n",
       "4             333.0        28.682170  Ausentismo Grave  Ausentismo Fuerte   \n",
       "\n",
       "   porc_hogares_sin_medios       IDH  alfabetismo partidoGanador  porc_2_NBI  \\\n",
       "0                   100.00  0.581463    86.893200   PERU POSIBLE       51.11   \n",
       "1                    94.87  0.562141    86.527290    FUERZA 2011       20.23   \n",
       "2                    99.40  0.599150    92.838196      GANA PERU       16.87   \n",
       "3                    99.60  0.545484    86.541740    FUERZA 2011       31.73   \n",
       "4                    99.62  0.584659    92.598430    FUERZA 2011       17.55   \n",
       "\n",
       "   GINI  \n",
       "0  0.30  \n",
       "1  0.31  \n",
       "2  0.28  \n",
       "3  0.29  \n",
       "4  0.31  "
      ]
     },
     "execution_count": 95,
     "metadata": {},
     "output_type": "execute_result"
    }
   ],
   "source": [
    "#Creacion del dataframe\n",
    "df_poblacion=pd.DataFrame(poblacion, columns=columns)\n",
    "df_poblacion.head()"
   ]
  },
  {
   "cell_type": "code",
   "execution_count": 96,
   "metadata": {},
   "outputs": [
    {
     "data": {
      "text/plain": [
       "ubigeo                     0\n",
       "departamento               0\n",
       "dom_Geo                    0\n",
       "provincia                  0\n",
       "distrito                   0\n",
       "total_electoral            0\n",
       "total_ausentismo           0\n",
       "porc_Ausentismo            0\n",
       "ord_Ausentismo             0\n",
       "dic_Ausentismo             0\n",
       "porc_hogares_sin_medios    1\n",
       "IDH                        0\n",
       "alfabetismo                0\n",
       "partidoGanador             0\n",
       "porc_2_NBI                 1\n",
       "GINI                       1\n",
       "dtype: int64"
      ]
     },
     "execution_count": 96,
     "metadata": {},
     "output_type": "execute_result"
    }
   ],
   "source": [
    "#Verificamos si la data contiene valores NaN\n",
    "df_poblacion.isnull().sum()"
   ]
  },
  {
   "cell_type": "code",
   "execution_count": 97,
   "metadata": {},
   "outputs": [
    {
     "data": {
      "text/html": [
       "<div>\n",
       "<style scoped>\n",
       "    .dataframe tbody tr th:only-of-type {\n",
       "        vertical-align: middle;\n",
       "    }\n",
       "\n",
       "    .dataframe tbody tr th {\n",
       "        vertical-align: top;\n",
       "    }\n",
       "\n",
       "    .dataframe thead th {\n",
       "        text-align: right;\n",
       "    }\n",
       "</style>\n",
       "<table border=\"1\" class=\"dataframe\">\n",
       "  <thead>\n",
       "    <tr style=\"text-align: right;\">\n",
       "      <th></th>\n",
       "      <th>ubigeo</th>\n",
       "      <th>departamento</th>\n",
       "      <th>dom_Geo</th>\n",
       "      <th>provincia</th>\n",
       "      <th>distrito</th>\n",
       "      <th>total_electoral</th>\n",
       "      <th>total_ausentismo</th>\n",
       "      <th>porc_Ausentismo</th>\n",
       "      <th>ord_Ausentismo</th>\n",
       "      <th>dic_Ausentismo</th>\n",
       "      <th>porc_hogares_sin_medios</th>\n",
       "      <th>IDH</th>\n",
       "      <th>alfabetismo</th>\n",
       "      <th>partidoGanador</th>\n",
       "      <th>porc_2_NBI</th>\n",
       "      <th>GINI</th>\n",
       "    </tr>\n",
       "  </thead>\n",
       "  <tbody>\n",
       "    <tr>\n",
       "      <th>440</th>\n",
       "      <td>050104</td>\n",
       "      <td>Ayacucho</td>\n",
       "      <td>Sur</td>\n",
       "      <td>Huamanga</td>\n",
       "      <td>Carmen Alto</td>\n",
       "      <td>10817.0</td>\n",
       "      <td>1579.0</td>\n",
       "      <td>14.597393</td>\n",
       "      <td>Ausentismo Moderado</td>\n",
       "      <td>Ausentismo Leve</td>\n",
       "      <td>NaN</td>\n",
       "      <td>0.589203</td>\n",
       "      <td>85.7693</td>\n",
       "      <td>GANA PERU</td>\n",
       "      <td>NaN</td>\n",
       "      <td>NaN</td>\n",
       "    </tr>\n",
       "  </tbody>\n",
       "</table>\n",
       "</div>"
      ],
      "text/plain": [
       "     ubigeo departamento dom_Geo provincia     distrito  total_electoral  \\\n",
       "440  050104     Ayacucho     Sur  Huamanga  Carmen Alto          10817.0   \n",
       "\n",
       "     total_ausentismo  porc_Ausentismo       ord_Ausentismo   dic_Ausentismo  \\\n",
       "440            1579.0        14.597393  Ausentismo Moderado  Ausentismo Leve   \n",
       "\n",
       "     porc_hogares_sin_medios       IDH  alfabetismo partidoGanador  \\\n",
       "440                      NaN  0.589203      85.7693      GANA PERU   \n",
       "\n",
       "     porc_2_NBI  GINI  \n",
       "440         NaN   NaN  "
      ]
     },
     "execution_count": 97,
     "metadata": {},
     "output_type": "execute_result"
    }
   ],
   "source": [
    "#Identificamos la fila del dataframe que contiene los valores NaN\n",
    "df_poblacion.loc[df_poblacion.porc_hogares_sin_medios.isna()]"
   ]
  },
  {
   "cell_type": "code",
   "execution_count": 98,
   "metadata": {
    "scrolled": true
   },
   "outputs": [],
   "source": [
    "#Eliminamos la fila\n",
    "df_poblacion.drop(index=440,inplace=True)"
   ]
  },
  {
   "cell_type": "code",
   "execution_count": 99,
   "metadata": {},
   "outputs": [
    {
     "data": {
      "text/plain": [
       "ubigeo                     0\n",
       "departamento               0\n",
       "dom_Geo                    0\n",
       "provincia                  0\n",
       "distrito                   0\n",
       "total_electoral            0\n",
       "total_ausentismo           0\n",
       "porc_Ausentismo            0\n",
       "ord_Ausentismo             0\n",
       "dic_Ausentismo             0\n",
       "porc_hogares_sin_medios    0\n",
       "IDH                        0\n",
       "alfabetismo                0\n",
       "partidoGanador             0\n",
       "porc_2_NBI                 0\n",
       "GINI                       0\n",
       "dtype: int64"
      ]
     },
     "execution_count": 99,
     "metadata": {},
     "output_type": "execute_result"
    }
   ],
   "source": [
    "#Data sin valores NaN\n",
    "df_poblacion.isnull().sum()"
   ]
  },
  {
   "cell_type": "code",
   "execution_count": 100,
   "metadata": {},
   "outputs": [
    {
     "data": {
      "text/plain": [
       "0.290    234\n",
       "0.280    226\n",
       "0.300    183\n",
       "0.270    171\n",
       "0.310    152\n",
       "0.260    132\n",
       "0.330    106\n",
       "0.250     95\n",
       "0.320     95\n",
       "0.340     74\n",
       "0.240     69\n",
       "0.230     62\n",
       "0.350     50\n",
       "0.220     47\n",
       "0.210     41\n",
       "0.360     35\n",
       "0.200     18\n",
       "0.380     14\n",
       "0.370     14\n",
       "0.400      5\n",
       "0.390      3\n",
       "0.410      2\n",
       "0.442      1\n",
       "0.190      1\n",
       "0.420      1\n",
       "0.430      1\n",
       "Name: GINI, dtype: int64"
      ]
     },
     "execution_count": 100,
     "metadata": {},
     "output_type": "execute_result"
    }
   ],
   "source": [
    "#Evaluamos la variable GINI (posible target)\n",
    "pd.value_counts(df_poblacion.GINI)"
   ]
  },
  {
   "cell_type": "code",
   "execution_count": 101,
   "metadata": {},
   "outputs": [],
   "source": [
    "#DISCRETIZAREMOS LA VARIABLE GINI PARA PODER OBTENER UNA COLUMNA ADICIONAL EN LA \n",
    "#DATA QUE SERVIA COMO TARGET (con valores 0 y 1)\n",
    "#Creando una instancia de KBinsDiscretizer\n",
    "kmeans=KBinsDiscretizer(n_bins=2,\n",
    "                         encode='ordinal',\n",
    "                         strategy='kmeans')"
   ]
  },
  {
   "cell_type": "code",
   "execution_count": 102,
   "metadata": {},
   "outputs": [],
   "source": [
    "gini_discretizer=kmeans.fit_transform(df_poblacion[['GINI']])\n",
    "#Elijo Kmeans debido a que esta strategy agrupa los datos de cada intervalo \n",
    "#según su centroide más cercano, la cual nos ayudará a discriminar la data en \n",
    "#dos grupos en los cuales valores con poco valor GINI se agruparan y tambien lo\n",
    "#haran los de mayor valor GINI APROXIMADAMENTE EL VALOR < 0.3 (BRINDA VALOR DISCRETIZADO 0) \n",
    "#Y VALOR>0.3 (BRINDA VALOR DISCRETIZADO 1)"
   ]
  },
  {
   "cell_type": "code",
   "execution_count": 103,
   "metadata": {},
   "outputs": [],
   "source": [
    "df_poblacion['TARGET_GINI']=gini_discretizer"
   ]
  },
  {
   "cell_type": "code",
   "execution_count": 104,
   "metadata": {
    "scrolled": true
   },
   "outputs": [
    {
     "data": {
      "text/plain": [
       "0.0    1279\n",
       "1.0     553\n",
       "Name: TARGET_GINI, dtype: int64"
      ]
     },
     "execution_count": 104,
     "metadata": {},
     "output_type": "execute_result"
    }
   ],
   "source": [
    "pd.value_counts(df_poblacion.TARGET_GINI) "
   ]
  },
  {
   "cell_type": "code",
   "execution_count": 105,
   "metadata": {},
   "outputs": [
    {
     "data": {
      "text/html": [
       "<div>\n",
       "<style scoped>\n",
       "    .dataframe tbody tr th:only-of-type {\n",
       "        vertical-align: middle;\n",
       "    }\n",
       "\n",
       "    .dataframe tbody tr th {\n",
       "        vertical-align: top;\n",
       "    }\n",
       "\n",
       "    .dataframe thead th {\n",
       "        text-align: right;\n",
       "    }\n",
       "</style>\n",
       "<table border=\"1\" class=\"dataframe\">\n",
       "  <thead>\n",
       "    <tr style=\"text-align: right;\">\n",
       "      <th></th>\n",
       "      <th>ubigeo</th>\n",
       "      <th>departamento</th>\n",
       "      <th>dom_Geo</th>\n",
       "      <th>provincia</th>\n",
       "      <th>distrito</th>\n",
       "      <th>total_electoral</th>\n",
       "      <th>total_ausentismo</th>\n",
       "      <th>porc_Ausentismo</th>\n",
       "      <th>ord_Ausentismo</th>\n",
       "      <th>dic_Ausentismo</th>\n",
       "      <th>porc_hogares_sin_medios</th>\n",
       "      <th>IDH</th>\n",
       "      <th>alfabetismo</th>\n",
       "      <th>partidoGanador</th>\n",
       "      <th>porc_2_NBI</th>\n",
       "      <th>GINI</th>\n",
       "      <th>TARGET_GINI</th>\n",
       "    </tr>\n",
       "  </thead>\n",
       "  <tbody>\n",
       "    <tr>\n",
       "      <th>0</th>\n",
       "      <td>010102</td>\n",
       "      <td>Amazonas</td>\n",
       "      <td>Norte</td>\n",
       "      <td>Chachapoyas</td>\n",
       "      <td>Asunción</td>\n",
       "      <td>234.0</td>\n",
       "      <td>59.0</td>\n",
       "      <td>25.213675</td>\n",
       "      <td>Ausentismo Grave</td>\n",
       "      <td>Ausentismo Fuerte</td>\n",
       "      <td>100.00</td>\n",
       "      <td>0.581463</td>\n",
       "      <td>86.893200</td>\n",
       "      <td>PERU POSIBLE</td>\n",
       "      <td>51.11</td>\n",
       "      <td>0.30</td>\n",
       "      <td>0.0</td>\n",
       "    </tr>\n",
       "    <tr>\n",
       "      <th>1</th>\n",
       "      <td>010103</td>\n",
       "      <td>Amazonas</td>\n",
       "      <td>Norte</td>\n",
       "      <td>Chachapoyas</td>\n",
       "      <td>Balsas</td>\n",
       "      <td>848.0</td>\n",
       "      <td>208.0</td>\n",
       "      <td>24.528301</td>\n",
       "      <td>Ausentismo Grave</td>\n",
       "      <td>Ausentismo Fuerte</td>\n",
       "      <td>94.87</td>\n",
       "      <td>0.562141</td>\n",
       "      <td>86.527290</td>\n",
       "      <td>FUERZA 2011</td>\n",
       "      <td>20.23</td>\n",
       "      <td>0.31</td>\n",
       "      <td>1.0</td>\n",
       "    </tr>\n",
       "    <tr>\n",
       "      <th>2</th>\n",
       "      <td>010104</td>\n",
       "      <td>Amazonas</td>\n",
       "      <td>Norte</td>\n",
       "      <td>Chachapoyas</td>\n",
       "      <td>Cheto</td>\n",
       "      <td>478.0</td>\n",
       "      <td>51.0</td>\n",
       "      <td>10.669457</td>\n",
       "      <td>Ausentismo Bajo</td>\n",
       "      <td>Ausentismo Leve</td>\n",
       "      <td>99.40</td>\n",
       "      <td>0.599150</td>\n",
       "      <td>92.838196</td>\n",
       "      <td>GANA PERU</td>\n",
       "      <td>16.87</td>\n",
       "      <td>0.28</td>\n",
       "      <td>0.0</td>\n",
       "    </tr>\n",
       "    <tr>\n",
       "      <th>3</th>\n",
       "      <td>010105</td>\n",
       "      <td>Amazonas</td>\n",
       "      <td>Norte</td>\n",
       "      <td>Chachapoyas</td>\n",
       "      <td>Chiliquín</td>\n",
       "      <td>638.0</td>\n",
       "      <td>197.0</td>\n",
       "      <td>30.877743</td>\n",
       "      <td>Ausentismo Grave</td>\n",
       "      <td>Ausentismo Fuerte</td>\n",
       "      <td>99.60</td>\n",
       "      <td>0.545484</td>\n",
       "      <td>86.541740</td>\n",
       "      <td>FUERZA 2011</td>\n",
       "      <td>31.73</td>\n",
       "      <td>0.29</td>\n",
       "      <td>0.0</td>\n",
       "    </tr>\n",
       "    <tr>\n",
       "      <th>4</th>\n",
       "      <td>010106</td>\n",
       "      <td>Amazonas</td>\n",
       "      <td>Norte</td>\n",
       "      <td>Chachapoyas</td>\n",
       "      <td>Chuquibamba</td>\n",
       "      <td>1161.0</td>\n",
       "      <td>333.0</td>\n",
       "      <td>28.682170</td>\n",
       "      <td>Ausentismo Grave</td>\n",
       "      <td>Ausentismo Fuerte</td>\n",
       "      <td>99.62</td>\n",
       "      <td>0.584659</td>\n",
       "      <td>92.598430</td>\n",
       "      <td>FUERZA 2011</td>\n",
       "      <td>17.55</td>\n",
       "      <td>0.31</td>\n",
       "      <td>1.0</td>\n",
       "    </tr>\n",
       "  </tbody>\n",
       "</table>\n",
       "</div>"
      ],
      "text/plain": [
       "   ubigeo departamento dom_Geo    provincia     distrito  total_electoral  \\\n",
       "0  010102     Amazonas   Norte  Chachapoyas     Asunción            234.0   \n",
       "1  010103     Amazonas   Norte  Chachapoyas       Balsas            848.0   \n",
       "2  010104     Amazonas   Norte  Chachapoyas        Cheto            478.0   \n",
       "3  010105     Amazonas   Norte  Chachapoyas    Chiliquín            638.0   \n",
       "4  010106     Amazonas   Norte  Chachapoyas  Chuquibamba           1161.0   \n",
       "\n",
       "   total_ausentismo  porc_Ausentismo    ord_Ausentismo     dic_Ausentismo  \\\n",
       "0              59.0        25.213675  Ausentismo Grave  Ausentismo Fuerte   \n",
       "1             208.0        24.528301  Ausentismo Grave  Ausentismo Fuerte   \n",
       "2              51.0        10.669457   Ausentismo Bajo    Ausentismo Leve   \n",
       "3             197.0        30.877743  Ausentismo Grave  Ausentismo Fuerte   \n",
       "4             333.0        28.682170  Ausentismo Grave  Ausentismo Fuerte   \n",
       "\n",
       "   porc_hogares_sin_medios       IDH  alfabetismo partidoGanador  porc_2_NBI  \\\n",
       "0                   100.00  0.581463    86.893200   PERU POSIBLE       51.11   \n",
       "1                    94.87  0.562141    86.527290    FUERZA 2011       20.23   \n",
       "2                    99.40  0.599150    92.838196      GANA PERU       16.87   \n",
       "3                    99.60  0.545484    86.541740    FUERZA 2011       31.73   \n",
       "4                    99.62  0.584659    92.598430    FUERZA 2011       17.55   \n",
       "\n",
       "   GINI  TARGET_GINI  \n",
       "0  0.30          0.0  \n",
       "1  0.31          1.0  \n",
       "2  0.28          0.0  \n",
       "3  0.29          0.0  \n",
       "4  0.31          1.0  "
      ]
     },
     "execution_count": 105,
     "metadata": {},
     "output_type": "execute_result"
    }
   ],
   "source": [
    "df_poblacion.head()"
   ]
  },
  {
   "cell_type": "code",
   "execution_count": 106,
   "metadata": {},
   "outputs": [],
   "source": [
    "columnasObject=['total_electoral','total_ausentismo','porc_Ausentismo','ubigeo','departamento','dom_Geo','provincia','distrito','partidoGanador','ord_Ausentismo','dic_Ausentismo']\n",
    "#las columnas que se encuentran en columnasObject son aquellas que no influiran en la evaluacion de la data  \n",
    "df_poblacion.drop(columnasObject,axis=1, inplace=True)"
   ]
  },
  {
   "cell_type": "code",
   "execution_count": 107,
   "metadata": {},
   "outputs": [],
   "source": [
    "#GENERAMOS NUESTRAS DATA DE ENTRENAMIENTO Y DE TESTEO\n",
    "X, y = df_poblacion.iloc[:, 0:5].values, df_poblacion.iloc[:,5].values\n",
    "X_train, X_test, y_train, y_test = train_test_split(X, #valor de los predictores \n",
    "                                                     y, #valor del target o variable objetivo\n",
    "                                                     test_size=0.3, #proporción de datos para datos de entrenamiento\n",
    "                                                     stratify=y, #estratificación\n",
    "                                                     random_state=0) #semilla"
   ]
  },
  {
   "cell_type": "code",
   "execution_count": 108,
   "metadata": {},
   "outputs": [],
   "source": [
    "sc = StandardScaler() #estamos instanciando la función StandardScaler() en el objeto sc\n",
    "X_train_std = sc.fit_transform(X_train)#entrenamiento\n",
    "#fit_transform()- aplicar la función y aprender de los datos de entrenamiento\n",
    "X_test_std = sc.transform(X_test)#testeo\n",
    "#transform() - los parámetros de los datos de entrenamiento los aplica a los de testeo\n",
    "#con el objetivo trazado por la función (en nuestro caso estandarizar datos)"
   ]
  },
  {
   "cell_type": "code",
   "execution_count": 109,
   "metadata": {},
   "outputs": [
    {
     "data": {
      "text/plain": [
       "Index(['porc_hogares_sin_medios', 'IDH', 'alfabetismo', 'porc_2_NBI', 'GINI',\n",
       "       'TARGET_GINI'],\n",
       "      dtype='object')"
      ]
     },
     "execution_count": 109,
     "metadata": {},
     "output_type": "execute_result"
    }
   ],
   "source": [
    "df_poblacion.columns"
   ]
  },
  {
   "cell_type": "code",
   "execution_count": 110,
   "metadata": {},
   "outputs": [
    {
     "data": {
      "text/html": [
       "<div>\n",
       "<style scoped>\n",
       "    .dataframe tbody tr th:only-of-type {\n",
       "        vertical-align: middle;\n",
       "    }\n",
       "\n",
       "    .dataframe tbody tr th {\n",
       "        vertical-align: top;\n",
       "    }\n",
       "\n",
       "    .dataframe thead th {\n",
       "        text-align: right;\n",
       "    }\n",
       "</style>\n",
       "<table border=\"1\" class=\"dataframe\">\n",
       "  <thead>\n",
       "    <tr style=\"text-align: right;\">\n",
       "      <th></th>\n",
       "      <th>porc_hogares_sin_medios</th>\n",
       "      <th>IDH</th>\n",
       "      <th>alfabetismo</th>\n",
       "      <th>porc_2_NBI</th>\n",
       "      <th>GINI</th>\n",
       "    </tr>\n",
       "  </thead>\n",
       "  <tbody>\n",
       "    <tr>\n",
       "      <th>0</th>\n",
       "      <td>0.406746</td>\n",
       "      <td>-0.699813</td>\n",
       "      <td>-0.920505</td>\n",
       "      <td>-0.070670</td>\n",
       "      <td>0.580304</td>\n",
       "    </tr>\n",
       "    <tr>\n",
       "      <th>1</th>\n",
       "      <td>0.632474</td>\n",
       "      <td>-0.382147</td>\n",
       "      <td>0.165970</td>\n",
       "      <td>-0.322286</td>\n",
       "      <td>-1.265725</td>\n",
       "    </tr>\n",
       "    <tr>\n",
       "      <th>2</th>\n",
       "      <td>0.716862</td>\n",
       "      <td>0.484334</td>\n",
       "      <td>1.178961</td>\n",
       "      <td>-1.000816</td>\n",
       "      <td>-0.474570</td>\n",
       "    </tr>\n",
       "    <tr>\n",
       "      <th>3</th>\n",
       "      <td>-0.820004</td>\n",
       "      <td>0.046992</td>\n",
       "      <td>0.337023</td>\n",
       "      <td>0.822452</td>\n",
       "      <td>0.052867</td>\n",
       "    </tr>\n",
       "    <tr>\n",
       "      <th>4</th>\n",
       "      <td>0.122402</td>\n",
       "      <td>-0.528052</td>\n",
       "      <td>-1.366385</td>\n",
       "      <td>-0.651728</td>\n",
       "      <td>0.844022</td>\n",
       "    </tr>\n",
       "  </tbody>\n",
       "</table>\n",
       "</div>"
      ],
      "text/plain": [
       "   porc_hogares_sin_medios       IDH  alfabetismo  porc_2_NBI      GINI\n",
       "0                 0.406746 -0.699813    -0.920505   -0.070670  0.580304\n",
       "1                 0.632474 -0.382147     0.165970   -0.322286 -1.265725\n",
       "2                 0.716862  0.484334     1.178961   -1.000816 -0.474570\n",
       "3                -0.820004  0.046992     0.337023    0.822452  0.052867\n",
       "4                 0.122402 -0.528052    -1.366385   -0.651728  0.844022"
      ]
     },
     "execution_count": 110,
     "metadata": {},
     "output_type": "execute_result"
    }
   ],
   "source": [
    "df_poblacion_std=pd.DataFrame(X_train_std,\n",
    "                     columns=['porc_hogares_sin_medios', 'IDH', 'alfabetismo', 'porc_2_NBI', 'GINI'])\n",
    "df_poblacion_std.head()\n",
    "# CREACION DEL DATAFRAME CON VALORES ESTANDARIZADOS Y SIN LA VARIABLE TARGET"
   ]
  },
  {
   "cell_type": "code",
   "execution_count": 111,
   "metadata": {},
   "outputs": [],
   "source": [
    "#APLICANDO CRITERIO DE KEISER"
   ]
  },
  {
   "cell_type": "code",
   "execution_count": 112,
   "metadata": {},
   "outputs": [],
   "source": [
    "cov_mat = np.cov(X_train_std.T)"
   ]
  },
  {
   "cell_type": "code",
   "execution_count": 113,
   "metadata": {},
   "outputs": [],
   "source": [
    "autovalores, autovectores = np.linalg.eig(cov_mat)\n",
    "# OBTENEMOS LOS AUTOVALORES Y AUTOVECTORES"
   ]
  },
  {
   "cell_type": "code",
   "execution_count": 114,
   "metadata": {},
   "outputs": [
    {
     "data": {
      "text/plain": [
       "2"
      ]
     },
     "execution_count": 114,
     "metadata": {},
     "output_type": "execute_result"
    }
   ],
   "source": [
    "(autovalores>1).sum() \n",
    "#AUTOVALORES A USAR SEGUN CRITERIO DE KEISER"
   ]
  },
  {
   "cell_type": "code",
   "execution_count": 115,
   "metadata": {},
   "outputs": [
    {
     "name": "stdout",
     "output_type": "stream",
     "text": [
      "\n",
      "Autovalores \n",
      "[2.68585797 0.0877485  0.38713447 1.00756114 0.83560113]\n"
     ]
    }
   ],
   "source": [
    "print('\\nAutovalores \\n%s' % autovalores)"
   ]
  },
  {
   "cell_type": "code",
   "execution_count": 116,
   "metadata": {},
   "outputs": [
    {
     "data": {
      "text/plain": [
       "53.67525831588205"
      ]
     },
     "execution_count": 116,
     "metadata": {},
     "output_type": "execute_result"
    }
   ],
   "source": [
    "(autovalores[0]/sum(autovalores))*100"
   ]
  },
  {
   "cell_type": "code",
   "execution_count": 117,
   "metadata": {},
   "outputs": [
    {
     "data": {
      "text/plain": [
       "0.5367525831588205"
      ]
     },
     "execution_count": 117,
     "metadata": {},
     "output_type": "execute_result"
    }
   ],
   "source": [
    "cp1 = autovalores[0]/sum(autovalores)\n",
    "cp1"
   ]
  },
  {
   "cell_type": "code",
   "execution_count": 118,
   "metadata": {},
   "outputs": [
    {
     "data": {
      "text/plain": [
       "array([0.53675258, 0.20135504, 0.16698987, 0.0773665 , 0.01753601])"
      ]
     },
     "execution_count": 118,
     "metadata": {},
     "output_type": "execute_result"
    }
   ],
   "source": [
    "#función PCA() la instanciamos en el objeto pca\n",
    "pca = PCA() \n",
    "X_train_pca = pca.fit_transform(X_train_std)\n",
    "#fit_transform\n",
    "pca.explained_variance_ratio_"
   ]
  },
  {
   "cell_type": "code",
   "execution_count": 119,
   "metadata": {},
   "outputs": [
    {
     "data": {
      "image/png": "[encoded data removed]",
      "text/plain": [
       "<Figure size 432x288 with 1 Axes>"
      ]
     },
     "metadata": {
      "needs_background": "light"
     },
     "output_type": "display_data"
    }
   ],
   "source": [
    "# GENERAMOS LA GRÁFICA DE COMPONENTES PRINCIPALES\n",
    "plt.bar(range(1, 6), pca.explained_variance_ratio_, alpha=0.5, align='center')\n",
    "plt.step(range(1, 6), np.cumsum(pca.explained_variance_ratio_), where='mid')\n",
    "plt.ylabel('Relación de varianza explicada')\n",
    "plt.xlabel('Componentes principales')\n",
    "\n",
    "plt.show()"
   ]
  },
  {
   "cell_type": "code",
   "execution_count": 120,
   "metadata": {},
   "outputs": [],
   "source": [
    "#n_components es el número de componentes que nos indicó Keiser\n",
    "pca = PCA(n_components=2) \n",
    "#fit_transform: ajuste el modelo con X y la reducción de dimensionalidad en X.\n",
    "X_std = pca.fit_transform(X_train_std)"
   ]
  },
  {
   "cell_type": "code",
   "execution_count": 121,
   "metadata": {},
   "outputs": [
    {
     "data": {
      "text/html": [
       "<div>\n",
       "<style scoped>\n",
       "    .dataframe tbody tr th:only-of-type {\n",
       "        vertical-align: middle;\n",
       "    }\n",
       "\n",
       "    .dataframe tbody tr th {\n",
       "        vertical-align: top;\n",
       "    }\n",
       "\n",
       "    .dataframe thead th {\n",
       "        text-align: right;\n",
       "    }\n",
       "</style>\n",
       "<table border=\"1\" class=\"dataframe\">\n",
       "  <thead>\n",
       "    <tr style=\"text-align: right;\">\n",
       "      <th></th>\n",
       "      <th>PC1</th>\n",
       "      <th>PC2</th>\n",
       "    </tr>\n",
       "  </thead>\n",
       "  <tbody>\n",
       "    <tr>\n",
       "      <th>0</th>\n",
       "      <td>-0.990126</td>\n",
       "      <td>0.887781</td>\n",
       "    </tr>\n",
       "    <tr>\n",
       "      <th>1</th>\n",
       "      <td>-0.531219</td>\n",
       "      <td>-1.110393</td>\n",
       "    </tr>\n",
       "    <tr>\n",
       "      <th>2</th>\n",
       "      <td>0.767478</td>\n",
       "      <td>-0.651175</td>\n",
       "    </tr>\n",
       "    <tr>\n",
       "      <th>3</th>\n",
       "      <td>0.368991</td>\n",
       "      <td>-0.195138</td>\n",
       "    </tr>\n",
       "    <tr>\n",
       "      <th>4</th>\n",
       "      <td>-0.740935</td>\n",
       "      <td>1.386000</td>\n",
       "    </tr>\n",
       "  </tbody>\n",
       "</table>\n",
       "</div>"
      ],
      "text/plain": [
       "        PC1       PC2\n",
       "0 -0.990126  0.887781\n",
       "1 -0.531219 -1.110393\n",
       "2  0.767478 -0.651175\n",
       "3  0.368991 -0.195138\n",
       "4 -0.740935  1.386000"
      ]
     },
     "execution_count": 121,
     "metadata": {},
     "output_type": "execute_result"
    }
   ],
   "source": [
    "df_x =pd.DataFrame(X_std)\n",
    "df_x.columns = ['PC1', 'PC2']\n",
    "df_x.head()\n",
    "#CREAMOS EL DATAFRAME CON SOLO LOS COMPONENTES PRINCIPALES"
   ]
  },
  {
   "cell_type": "code",
   "execution_count": 122,
   "metadata": {},
   "outputs": [
    {
     "data": {
      "text/html": [
       "<div>\n",
       "<style scoped>\n",
       "    .dataframe tbody tr th:only-of-type {\n",
       "        vertical-align: middle;\n",
       "    }\n",
       "\n",
       "    .dataframe tbody tr th {\n",
       "        vertical-align: top;\n",
       "    }\n",
       "\n",
       "    .dataframe thead th {\n",
       "        text-align: right;\n",
       "    }\n",
       "</style>\n",
       "<table border=\"1\" class=\"dataframe\">\n",
       "  <thead>\n",
       "    <tr style=\"text-align: right;\">\n",
       "      <th></th>\n",
       "      <th>TRAIN_GINI</th>\n",
       "    </tr>\n",
       "  </thead>\n",
       "  <tbody>\n",
       "    <tr>\n",
       "      <th>0</th>\n",
       "      <td>1.0</td>\n",
       "    </tr>\n",
       "    <tr>\n",
       "      <th>1</th>\n",
       "      <td>0.0</td>\n",
       "    </tr>\n",
       "    <tr>\n",
       "      <th>2</th>\n",
       "      <td>0.0</td>\n",
       "    </tr>\n",
       "    <tr>\n",
       "      <th>3</th>\n",
       "      <td>0.0</td>\n",
       "    </tr>\n",
       "    <tr>\n",
       "      <th>4</th>\n",
       "      <td>1.0</td>\n",
       "    </tr>\n",
       "  </tbody>\n",
       "</table>\n",
       "</div>"
      ],
      "text/plain": [
       "   TRAIN_GINI\n",
       "0         1.0\n",
       "1         0.0\n",
       "2         0.0\n",
       "3         0.0\n",
       "4         1.0"
      ]
     },
     "execution_count": 122,
     "metadata": {},
     "output_type": "execute_result"
    }
   ],
   "source": [
    "df_y = pd.DataFrame(y_train)\n",
    "df_y.columns = ['TRAIN_GINI']\n",
    "df_y.head()\n",
    "# DATAFRAME CON SOLO LA VARIABLE TRAIN_GINI (NUESTRA TARGET)"
   ]
  },
  {
   "cell_type": "code",
   "execution_count": 123,
   "metadata": {
    "scrolled": true
   },
   "outputs": [
    {
     "data": {
      "text/html": [
       "<div>\n",
       "<style scoped>\n",
       "    .dataframe tbody tr th:only-of-type {\n",
       "        vertical-align: middle;\n",
       "    }\n",
       "\n",
       "    .dataframe tbody tr th {\n",
       "        vertical-align: top;\n",
       "    }\n",
       "\n",
       "    .dataframe thead th {\n",
       "        text-align: right;\n",
       "    }\n",
       "</style>\n",
       "<table border=\"1\" class=\"dataframe\">\n",
       "  <thead>\n",
       "    <tr style=\"text-align: right;\">\n",
       "      <th></th>\n",
       "      <th>PC1</th>\n",
       "      <th>PC2</th>\n",
       "      <th>TRAIN_GINI</th>\n",
       "    </tr>\n",
       "  </thead>\n",
       "  <tbody>\n",
       "    <tr>\n",
       "      <th>0</th>\n",
       "      <td>-0.990126</td>\n",
       "      <td>0.887781</td>\n",
       "      <td>1.0</td>\n",
       "    </tr>\n",
       "    <tr>\n",
       "      <th>1</th>\n",
       "      <td>-0.531219</td>\n",
       "      <td>-1.110393</td>\n",
       "      <td>0.0</td>\n",
       "    </tr>\n",
       "    <tr>\n",
       "      <th>2</th>\n",
       "      <td>0.767478</td>\n",
       "      <td>-0.651175</td>\n",
       "      <td>0.0</td>\n",
       "    </tr>\n",
       "    <tr>\n",
       "      <th>3</th>\n",
       "      <td>0.368991</td>\n",
       "      <td>-0.195138</td>\n",
       "      <td>0.0</td>\n",
       "    </tr>\n",
       "    <tr>\n",
       "      <th>4</th>\n",
       "      <td>-0.740935</td>\n",
       "      <td>1.386000</td>\n",
       "      <td>1.0</td>\n",
       "    </tr>\n",
       "    <tr>\n",
       "      <th>5</th>\n",
       "      <td>-2.284845</td>\n",
       "      <td>2.325120</td>\n",
       "      <td>1.0</td>\n",
       "    </tr>\n",
       "    <tr>\n",
       "      <th>6</th>\n",
       "      <td>-0.199311</td>\n",
       "      <td>0.907641</td>\n",
       "      <td>1.0</td>\n",
       "    </tr>\n",
       "    <tr>\n",
       "      <th>7</th>\n",
       "      <td>-0.737763</td>\n",
       "      <td>1.163626</td>\n",
       "      <td>1.0</td>\n",
       "    </tr>\n",
       "    <tr>\n",
       "      <th>8</th>\n",
       "      <td>3.278222</td>\n",
       "      <td>-0.249513</td>\n",
       "      <td>0.0</td>\n",
       "    </tr>\n",
       "    <tr>\n",
       "      <th>9</th>\n",
       "      <td>3.511603</td>\n",
       "      <td>1.113054</td>\n",
       "      <td>1.0</td>\n",
       "    </tr>\n",
       "  </tbody>\n",
       "</table>\n",
       "</div>"
      ],
      "text/plain": [
       "        PC1       PC2  TRAIN_GINI\n",
       "0 -0.990126  0.887781         1.0\n",
       "1 -0.531219 -1.110393         0.0\n",
       "2  0.767478 -0.651175         0.0\n",
       "3  0.368991 -0.195138         0.0\n",
       "4 -0.740935  1.386000         1.0\n",
       "5 -2.284845  2.325120         1.0\n",
       "6 -0.199311  0.907641         1.0\n",
       "7 -0.737763  1.163626         1.0\n",
       "8  3.278222 -0.249513         0.0\n",
       "9  3.511603  1.113054         1.0"
      ]
     },
     "execution_count": 123,
     "metadata": {},
     "output_type": "execute_result"
    }
   ],
   "source": [
    "df_rd = pd.concat([df_x, df_y], axis=1)\n",
    "df_rd.head(10)\n",
    "#DATAFRAME CON UN LOS COMPONENTES Y LA VARIABLE TARGET"
   ]
  },
  {
   "cell_type": "code",
   "execution_count": 124,
   "metadata": {},
   "outputs": [
    {
     "data": {
      "text/plain": [
       "(1282, 3)"
      ]
     },
     "execution_count": 124,
     "metadata": {},
     "output_type": "execute_result"
    }
   ],
   "source": [
    "df_rd.shape"
   ]
  },
  {
   "cell_type": "markdown",
   "metadata": {},
   "source": [
    "### 2. Realizar un análisis factorial para reducción de la dimensionalidad"
   ]
  },
  {
   "cell_type": "markdown",
   "metadata": {},
   "source": [
    "**_Reingresamos la data_**"
   ]
  },
  {
   "cell_type": "code",
   "execution_count": 125,
   "metadata": {},
   "outputs": [],
   "source": [
    "#OBTENEMOS EL DATAFRAME A TRABAJAR\n",
    "df_poblacion=pd.DataFrame(poblacion, columns=columns)\n",
    "df_poblacion.drop(index=440,inplace=True) # ELIMINAMOS LA FILA CON VALORES NaN"
   ]
  },
  {
   "cell_type": "code",
   "execution_count": 126,
   "metadata": {},
   "outputs": [],
   "source": [
    "df_poblacion['TARGET_GINI']=gini_discretizer\n",
    "columnasObject=['total_electoral','total_ausentismo','porc_Ausentismo','ubigeo','departamento','dom_Geo','provincia','distrito','partidoGanador','ord_Ausentismo','dic_Ausentismo']\n",
    "df_poblacion.drop(columnasObject,axis=1, inplace=True)\n",
    "# SOLO NOS QUEDAMOS CON LAS VARIABLES DEFINIDAS PARA LA REDUCCIÓN DE DIMENSIONALIDAD"
   ]
  },
  {
   "cell_type": "code",
   "execution_count": 127,
   "metadata": {},
   "outputs": [
    {
     "data": {
      "text/html": [
       "<div>\n",
       "<style scoped>\n",
       "    .dataframe tbody tr th:only-of-type {\n",
       "        vertical-align: middle;\n",
       "    }\n",
       "\n",
       "    .dataframe tbody tr th {\n",
       "        vertical-align: top;\n",
       "    }\n",
       "\n",
       "    .dataframe thead th {\n",
       "        text-align: right;\n",
       "    }\n",
       "</style>\n",
       "<table border=\"1\" class=\"dataframe\">\n",
       "  <thead>\n",
       "    <tr style=\"text-align: right;\">\n",
       "      <th></th>\n",
       "      <th>porc_hogares_sin_medios</th>\n",
       "      <th>IDH</th>\n",
       "      <th>alfabetismo</th>\n",
       "      <th>porc_2_NBI</th>\n",
       "      <th>GINI</th>\n",
       "      <th>TARGET_GINI</th>\n",
       "    </tr>\n",
       "  </thead>\n",
       "  <tbody>\n",
       "    <tr>\n",
       "      <th>0</th>\n",
       "      <td>100.00</td>\n",
       "      <td>0.581463</td>\n",
       "      <td>86.893200</td>\n",
       "      <td>51.11</td>\n",
       "      <td>0.30</td>\n",
       "      <td>0.0</td>\n",
       "    </tr>\n",
       "    <tr>\n",
       "      <th>1</th>\n",
       "      <td>94.87</td>\n",
       "      <td>0.562141</td>\n",
       "      <td>86.527290</td>\n",
       "      <td>20.23</td>\n",
       "      <td>0.31</td>\n",
       "      <td>1.0</td>\n",
       "    </tr>\n",
       "    <tr>\n",
       "      <th>2</th>\n",
       "      <td>99.40</td>\n",
       "      <td>0.599150</td>\n",
       "      <td>92.838196</td>\n",
       "      <td>16.87</td>\n",
       "      <td>0.28</td>\n",
       "      <td>0.0</td>\n",
       "    </tr>\n",
       "    <tr>\n",
       "      <th>3</th>\n",
       "      <td>99.60</td>\n",
       "      <td>0.545484</td>\n",
       "      <td>86.541740</td>\n",
       "      <td>31.73</td>\n",
       "      <td>0.29</td>\n",
       "      <td>0.0</td>\n",
       "    </tr>\n",
       "    <tr>\n",
       "      <th>4</th>\n",
       "      <td>99.62</td>\n",
       "      <td>0.584659</td>\n",
       "      <td>92.598430</td>\n",
       "      <td>17.55</td>\n",
       "      <td>0.31</td>\n",
       "      <td>1.0</td>\n",
       "    </tr>\n",
       "  </tbody>\n",
       "</table>\n",
       "</div>"
      ],
      "text/plain": [
       "   porc_hogares_sin_medios       IDH  alfabetismo  porc_2_NBI  GINI  \\\n",
       "0                   100.00  0.581463    86.893200       51.11  0.30   \n",
       "1                    94.87  0.562141    86.527290       20.23  0.31   \n",
       "2                    99.40  0.599150    92.838196       16.87  0.28   \n",
       "3                    99.60  0.545484    86.541740       31.73  0.29   \n",
       "4                    99.62  0.584659    92.598430       17.55  0.31   \n",
       "\n",
       "   TARGET_GINI  \n",
       "0          0.0  \n",
       "1          1.0  \n",
       "2          0.0  \n",
       "3          0.0  \n",
       "4          1.0  "
      ]
     },
     "execution_count": 127,
     "metadata": {},
     "output_type": "execute_result"
    }
   ],
   "source": [
    "df_poblacion.head()"
   ]
  },
  {
   "cell_type": "code",
   "execution_count": 128,
   "metadata": {},
   "outputs": [],
   "source": [
    "#DIVIDIMOS LA DATA EN ENTRENAMIENTO Y TESTEO\n",
    "x, y = df_poblacion.iloc[:, 0:5].values, df_poblacion.iloc[:,5].values\n",
    "xtrain, xtest, ytrain, ytest = \\\n",
    "    train_test_split(x, #valor de los predictores \n",
    "                     y, #valor del target o variable objetivo\n",
    "                     test_size=0.3, #proporción de datos para datos de entrenamiento\n",
    "                     stratify=y, #estratificación\n",
    "                     random_state=0) #semilla"
   ]
  },
  {
   "cell_type": "code",
   "execution_count": 129,
   "metadata": {},
   "outputs": [],
   "source": [
    "#Instanciando un objeto de la clase StandardScaler\n",
    "sc = StandardScaler()\n",
    "#Aprendiendo y transformando XTRAIN_STD\n",
    "xtrain_std=sc.fit_transform(xtrain)\n",
    "#Con lo aprendido de xtrain se debe realizar la transformacion para el Xtest\n",
    "xtest_std=sc.transform(xtest)"
   ]
  },
  {
   "cell_type": "code",
   "execution_count": 130,
   "metadata": {},
   "outputs": [],
   "source": [
    "#Instanciando un objeto de la clase FactorAnalysis\n",
    "FA=FactorAnalysis()\n",
    "xtrainFA=FA.fit(xtrain_std)"
   ]
  },
  {
   "cell_type": "code",
   "execution_count": 131,
   "metadata": {},
   "outputs": [
    {
     "data": {
      "text/plain": [
       "array([[-0.77659305,  0.87156675,  0.76904907, -0.41868291,  0.1473104 ],\n",
       "       [ 0.11042226,  0.05273623,  0.17269153,  0.28029074, -0.23123843],\n",
       "       [-0.        ,  0.        ,  0.        ,  0.        ,  0.        ],\n",
       "       [-0.        , -0.        , -0.        ,  0.        , -0.        ],\n",
       "       [ 0.        ,  0.        , -0.        ,  0.        ,  0.        ]])"
      ]
     },
     "execution_count": 131,
     "metadata": {},
     "output_type": "execute_result"
    }
   ],
   "source": [
    "xtrainFA.components_\n",
    "#OBSERVAMOS QUE DE LAS 5 COLUMNAS SOLO 2 NOS SIRVEN "
   ]
  },
  {
   "cell_type": "code",
   "execution_count": 132,
   "metadata": {},
   "outputs": [
    {
     "data": {
      "text/html": [
       "<div>\n",
       "<style scoped>\n",
       "    .dataframe tbody tr th:only-of-type {\n",
       "        vertical-align: middle;\n",
       "    }\n",
       "\n",
       "    .dataframe tbody tr th {\n",
       "        vertical-align: top;\n",
       "    }\n",
       "\n",
       "    .dataframe thead th {\n",
       "        text-align: right;\n",
       "    }\n",
       "</style>\n",
       "<table border=\"1\" class=\"dataframe\">\n",
       "  <thead>\n",
       "    <tr style=\"text-align: right;\">\n",
       "      <th></th>\n",
       "      <th>F1</th>\n",
       "      <th>F2</th>\n",
       "    </tr>\n",
       "  </thead>\n",
       "  <tbody>\n",
       "    <tr>\n",
       "      <th>0</th>\n",
       "      <td>-0.743071</td>\n",
       "      <td>0.466660</td>\n",
       "    </tr>\n",
       "    <tr>\n",
       "      <th>1</th>\n",
       "      <td>-0.281492</td>\n",
       "      <td>-0.720984</td>\n",
       "    </tr>\n",
       "    <tr>\n",
       "      <th>2</th>\n",
       "      <td>0.547616</td>\n",
       "      <td>-1.368214</td>\n",
       "    </tr>\n",
       "    <tr>\n",
       "      <th>3</th>\n",
       "      <td>0.212289</td>\n",
       "      <td>0.134432</td>\n",
       "    </tr>\n",
       "    <tr>\n",
       "      <th>4</th>\n",
       "      <td>-0.705090</td>\n",
       "      <td>1.228203</td>\n",
       "    </tr>\n",
       "  </tbody>\n",
       "</table>\n",
       "</div>"
      ],
      "text/plain": [
       "         F1        F2\n",
       "0 -0.743071  0.466660\n",
       "1 -0.281492 -0.720984\n",
       "2  0.547616 -1.368214\n",
       "3  0.212289  0.134432\n",
       "4 -0.705090  1.228203"
      ]
     },
     "execution_count": 132,
     "metadata": {},
     "output_type": "execute_result"
    }
   ],
   "source": [
    "#n_components es el número de componentes que nos indicó xtrainFA.components_\n",
    "FA=FactorAnalysis(n_components=2,\n",
    "                  random_state=2020)\n",
    "xtrain_F2=FA.fit_transform(xtrain_std)#Aprendiendo y transformando xtrain_std\n",
    "#CREAMOS EL DATAFRAME CON LOS FACTORES OBTENIDOS\n",
    "xtrain_F2=pd.DataFrame(xtrain_F2, columns=['F1','F2'])\n",
    "xtrain_F2.head()"
   ]
  },
  {
   "cell_type": "code",
   "execution_count": 133,
   "metadata": {},
   "outputs": [
    {
     "data": {
      "text/html": [
       "<div>\n",
       "<style scoped>\n",
       "    .dataframe tbody tr th:only-of-type {\n",
       "        vertical-align: middle;\n",
       "    }\n",
       "\n",
       "    .dataframe tbody tr th {\n",
       "        vertical-align: top;\n",
       "    }\n",
       "\n",
       "    .dataframe thead th {\n",
       "        text-align: right;\n",
       "    }\n",
       "</style>\n",
       "<table border=\"1\" class=\"dataframe\">\n",
       "  <thead>\n",
       "    <tr style=\"text-align: right;\">\n",
       "      <th></th>\n",
       "      <th>TARGET_GINI</th>\n",
       "    </tr>\n",
       "  </thead>\n",
       "  <tbody>\n",
       "    <tr>\n",
       "      <th>0</th>\n",
       "      <td>1.0</td>\n",
       "    </tr>\n",
       "    <tr>\n",
       "      <th>1</th>\n",
       "      <td>0.0</td>\n",
       "    </tr>\n",
       "    <tr>\n",
       "      <th>2</th>\n",
       "      <td>0.0</td>\n",
       "    </tr>\n",
       "    <tr>\n",
       "      <th>3</th>\n",
       "      <td>0.0</td>\n",
       "    </tr>\n",
       "    <tr>\n",
       "      <th>4</th>\n",
       "      <td>1.0</td>\n",
       "    </tr>\n",
       "  </tbody>\n",
       "</table>\n",
       "</div>"
      ],
      "text/plain": [
       "   TARGET_GINI\n",
       "0          1.0\n",
       "1          0.0\n",
       "2          0.0\n",
       "3          0.0\n",
       "4          1.0"
      ]
     },
     "execution_count": 133,
     "metadata": {},
     "output_type": "execute_result"
    }
   ],
   "source": [
    "df_y = pd.DataFrame(y_train)\n",
    "df_y.columns = ['TARGET_GINI']\n",
    "df_y.head() \n",
    "#USAMOS EL DF DE VALORES DE LA TARGET (TARGET_GINI)"
   ]
  },
  {
   "cell_type": "code",
   "execution_count": 134,
   "metadata": {},
   "outputs": [
    {
     "data": {
      "text/html": [
       "<div>\n",
       "<style scoped>\n",
       "    .dataframe tbody tr th:only-of-type {\n",
       "        vertical-align: middle;\n",
       "    }\n",
       "\n",
       "    .dataframe tbody tr th {\n",
       "        vertical-align: top;\n",
       "    }\n",
       "\n",
       "    .dataframe thead th {\n",
       "        text-align: right;\n",
       "    }\n",
       "</style>\n",
       "<table border=\"1\" class=\"dataframe\">\n",
       "  <thead>\n",
       "    <tr style=\"text-align: right;\">\n",
       "      <th></th>\n",
       "      <th>F1</th>\n",
       "      <th>F2</th>\n",
       "      <th>TARGET_GINI</th>\n",
       "    </tr>\n",
       "  </thead>\n",
       "  <tbody>\n",
       "    <tr>\n",
       "      <th>0</th>\n",
       "      <td>-0.743071</td>\n",
       "      <td>0.466660</td>\n",
       "      <td>1.0</td>\n",
       "    </tr>\n",
       "    <tr>\n",
       "      <th>1</th>\n",
       "      <td>-0.281492</td>\n",
       "      <td>-0.720984</td>\n",
       "      <td>0.0</td>\n",
       "    </tr>\n",
       "    <tr>\n",
       "      <th>2</th>\n",
       "      <td>0.547616</td>\n",
       "      <td>-1.368214</td>\n",
       "      <td>0.0</td>\n",
       "    </tr>\n",
       "    <tr>\n",
       "      <th>3</th>\n",
       "      <td>0.212289</td>\n",
       "      <td>0.134432</td>\n",
       "      <td>0.0</td>\n",
       "    </tr>\n",
       "    <tr>\n",
       "      <th>4</th>\n",
       "      <td>-0.705090</td>\n",
       "      <td>1.228203</td>\n",
       "      <td>1.0</td>\n",
       "    </tr>\n",
       "    <tr>\n",
       "      <th>5</th>\n",
       "      <td>-1.607614</td>\n",
       "      <td>1.058168</td>\n",
       "      <td>1.0</td>\n",
       "    </tr>\n",
       "    <tr>\n",
       "      <th>6</th>\n",
       "      <td>-0.352688</td>\n",
       "      <td>0.727863</td>\n",
       "      <td>1.0</td>\n",
       "    </tr>\n",
       "    <tr>\n",
       "      <th>7</th>\n",
       "      <td>-0.540559</td>\n",
       "      <td>-0.230510</td>\n",
       "      <td>1.0</td>\n",
       "    </tr>\n",
       "    <tr>\n",
       "      <th>8</th>\n",
       "      <td>1.915331</td>\n",
       "      <td>0.958100</td>\n",
       "      <td>0.0</td>\n",
       "    </tr>\n",
       "    <tr>\n",
       "      <th>9</th>\n",
       "      <td>1.807175</td>\n",
       "      <td>1.225175</td>\n",
       "      <td>1.0</td>\n",
       "    </tr>\n",
       "  </tbody>\n",
       "</table>\n",
       "</div>"
      ],
      "text/plain": [
       "         F1        F2  TARGET_GINI\n",
       "0 -0.743071  0.466660          1.0\n",
       "1 -0.281492 -0.720984          0.0\n",
       "2  0.547616 -1.368214          0.0\n",
       "3  0.212289  0.134432          0.0\n",
       "4 -0.705090  1.228203          1.0\n",
       "5 -1.607614  1.058168          1.0\n",
       "6 -0.352688  0.727863          1.0\n",
       "7 -0.540559 -0.230510          1.0\n",
       "8  1.915331  0.958100          0.0\n",
       "9  1.807175  1.225175          1.0"
      ]
     },
     "execution_count": 134,
     "metadata": {},
     "output_type": "execute_result"
    }
   ],
   "source": [
    "df_FA = pd.concat([xtrain_F2, df_y], axis=1)\n",
    "df_FA.head(10) \n",
    "#DATAFRAME FINAL CON LOS FACTORES OBTENIDOS Y LA TARGET_GINI"
   ]
  },
  {
   "cell_type": "code",
   "execution_count": 135,
   "metadata": {},
   "outputs": [
    {
     "data": {
      "text/plain": [
       "(1282, 3)"
      ]
     },
     "execution_count": 135,
     "metadata": {},
     "output_type": "execute_result"
    }
   ],
   "source": [
    "df_FA.shape \n",
    "#DIMENSIONALIDAD OBTENIDO LUEGO DEL ANALISIS FACTORIAL"
   ]
  }
 ],
 "metadata": {
  "kernelspec": {
   "display_name": "Python 3",
   "language": "python",
   "name": "python3"
  },
  "language_info": {
   "codemirror_mode": {
    "name": "ipython",
    "version": 3
   },
   "file_extension": ".py",
   "mimetype": "text/x-python",
   "name": "python",
   "nbconvert_exporter": "python",
   "pygments_lexer": "ipython3",
   "version": "3.8.3"
  }
 },
 "nbformat": 4,
 "nbformat_minor": 4
}
