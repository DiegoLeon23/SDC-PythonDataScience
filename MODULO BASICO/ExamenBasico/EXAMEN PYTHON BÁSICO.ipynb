{
 "cells": [
  {
   "cell_type": "markdown",
   "metadata": {},
   "source": [
    "<center><img src=\"https://media-exp1.licdn.com/dms/image/C4E22AQEbIXZiRVkJPQ/feedshare-shrink_2048_1536/0?e=1598486400&v=beta&t=DSWeH9gVxZecLFd10nv-rGomMSJEJP7D2pXl60V1-9A\" width=\"1000\"></center>"
   ]
  },
  {
   "cell_type": "markdown",
   "metadata": {},
   "source": [
    "# EXAMEN PYTHON BÁSICO\n",
    "### INDICACIONES GENERALES:\n",
    "\n",
    "**Materiales para utilizar:** Está permitido el uso de apuntes. Debe usar Python para resolver los ejercicios planteados (incluir el código y programas usados para resolver las preguntas).<br>\n",
    "**Formato:** el archivo notebook de Jupyter y el pdf debe ser guardado con su apellido paterno y materno sin espacios.<br>\n",
    "**Asunto:**  Examen_Python_Básico_ApellidoPaterno_ApellidoMaterno_Nombres<br>\n",
    "**Puntaje:** Total: 20 puntos<br>\n",
    "\n",
    "**Link de la data :** https://www.dropbox.com/s/tr8jf1dqlv4hsl8/TRAIN_FUGA.csv?dl=0\n"
   ]
  },
  {
   "cell_type": "markdown",
   "metadata": {},
   "source": [
    "## CASO 1:\n",
    "Teniendo en cuenta la base de datos TRAIN_FUGA.csv que corresponde a los datos de entrenamiento de una data que analiza la fuga de clientes de una entidad bancaria realizar las siguientes tareas:\n",
    "\n",
    "1.\tAnálisis exploratorio de las variables: medidas y visualización. (5 puntos)\n",
    "2.\tRealizar un análisis exploratorio sobre presencia de outliers. (2 puntos)\n",
    "3.\tRealizar una discretización de las variables : INGRESO_BRUTO_M1 y EDAD teniendo en cuenta al menos dos técnicas de discretización no supervisada y agregar las variables discretizadas a nuestro conjunto de datos original (2 puntos)\n",
    "4.\tAplicar dos técnicas de balanceo de datos a nuestra variable TARGET (objetivo) y agregarlas a nuestro conjunto de datos original. Use los parámetros vistos en clase. (3 puntos)\n",
    "\n",
    "Nota: revisar el diccionario de variables del caso.\n"
   ]
  },
  {
   "cell_type": "code",
   "execution_count": null,
   "metadata": {},
   "outputs": [],
   "source": []
  },
  {
   "cell_type": "markdown",
   "metadata": {},
   "source": [
    "# CASO 2:\n",
    "La presente aplicación captura datos socioeconómicos a nivel distrital para la realización de un ejemplo de reducción de dimensiones haciendo uso del análisis de componentes principales y factorial.\n",
    "Las variables a reducir son: porcentaje de hogares sin medios de comunicación (porc_hogares_sin_medios), porcentaje de alfabetismo (alfabetismo), porcentaje de hogares con 2 o más necesidades básicas incubiertas (porc_2_nbi), índice de desarrollo humano (IDH) y el coeficiente de desigualdad de GINI (GINI).\n",
    "1.\tRealizar un análisis de componentes principales para reducción de la dimensionalidad (4 puntos)\n",
    "2.\tRealizar un análisis factorial para reducción de la dimensionalidad (4 puntos)\n"
   ]
  },
  {
   "cell_type": "code",
   "execution_count": null,
   "metadata": {},
   "outputs": [],
   "source": []
  }
 ],
 "metadata": {
  "kernelspec": {
   "display_name": "Python 3",
   "language": "python",
   "name": "python3"
  },
  "language_info": {
   "codemirror_mode": {
    "name": "ipython",
    "version": 3
   },
   "file_extension": ".py",
   "mimetype": "text/x-python",
   "name": "python",
   "nbconvert_exporter": "python",
   "pygments_lexer": "ipython3",
   "version": "3.7.6"
  }
 },
 "nbformat": 4,
 "nbformat_minor": 4
}