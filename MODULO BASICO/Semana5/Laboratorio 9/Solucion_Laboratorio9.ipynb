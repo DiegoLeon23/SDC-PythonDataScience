{
 "cells": [
  {
   "cell_type": "markdown",
   "metadata": {},
   "source": [
    "# **_DESARROLLO LABORATORIO 9_**"
   ]
  },
  {
   "cell_type": "code",
   "execution_count": 1,
   "metadata": {},
   "outputs": [],
   "source": [
    "#Importando librerias necesarias\n",
    "import os \n",
    "import pandas as pd\n",
    "import numpy as np\n",
    "import matplotlib.pyplot as plt\n",
    "import seaborn as sns\n",
    "import math as math\n",
    "import scipy.stats as stats #Para calculo de probabilidades\n",
    "\n",
    "from sklearn.model_selection import train_test_split #Particionamiento\n",
    "from sklearn.preprocessing import MinMaxScaler #Utilizar la normalizacion\n",
    "from sklearn.preprocessing import StandardScaler #Utilizar la estandarizacion \n",
    "from sklearn.decomposition import PCA #Para la descomposicion de la varianza en el PCA"
   ]
  },
  {
   "cell_type": "code",
   "execution_count": 2,
   "metadata": {},
   "outputs": [],
   "source": [
    "os.chdir(\"D:\\Social Data Consulting\\Python for Data Science\\data\")"
   ]
  },
  {
   "cell_type": "code",
   "execution_count": 4,
   "metadata": {},
   "outputs": [
    {
     "name": "stdout",
     "output_type": "stream",
     "text": [
      "<class 'pandas.core.frame.DataFrame'>\n",
      "RangeIndex: 1329 entries, 0 to 1328\n",
      "Data columns (total 21 columns):\n",
      " #   Column       Non-Null Count  Dtype  \n",
      "---  ------       --------------  -----  \n",
      " 0   Name         1329 non-null   object \n",
      " 1   GP           1329 non-null   int64  \n",
      " 2   MIN          1329 non-null   float64\n",
      " 3   PTS          1329 non-null   float64\n",
      " 4   FGM          1329 non-null   float64\n",
      " 5   FGA          1329 non-null   float64\n",
      " 6   FG%          1329 non-null   float64\n",
      " 7   3P Made      1329 non-null   float64\n",
      " 8   3PA          1329 non-null   float64\n",
      " 9   3P%          1329 non-null   float64\n",
      " 10  FTM          1329 non-null   float64\n",
      " 11  FTA          1329 non-null   float64\n",
      " 12  FT%          1329 non-null   float64\n",
      " 13  OREB         1329 non-null   float64\n",
      " 14  DREB         1329 non-null   float64\n",
      " 15  REB          1329 non-null   float64\n",
      " 16  AST          1329 non-null   float64\n",
      " 17  STL          1329 non-null   float64\n",
      " 18  BLK          1329 non-null   float64\n",
      " 19  TOV          1329 non-null   float64\n",
      " 20  TARGET_5Yrs  1329 non-null   int64  \n",
      "dtypes: float64(18), int64(2), object(1)\n",
      "memory usage: 218.2+ KB\n"
     ]
    }
   ],
   "source": [
    "miarchivo=\"nba_logreg2.csv\"\n",
    "df_arrest=pd.read_csv(miarchivo,sep=\";\")\n",
    "df_arrest[\"TARGET_5Yrs\"]=df_arrest[\"TARGET_5Yrs\"].astype('int64')\n",
    "df_arrest.info()"
   ]
  },
  {
   "cell_type": "markdown",
   "metadata": {},
   "source": [
    "**_1. Estandarizar solo las variables continuas_**"
   ]
  },
  {
   "cell_type": "code",
   "execution_count": 10,
   "metadata": {},
   "outputs": [],
   "source": [
    "#Separando las variables continuas\n",
    "continuas = ['GP','MIN','PTS','FGM','FGA','FG%','3P Made','3PA','3P%','FTM','FTA','FT%','OREB'\n",
    "            ,'DREB','REB','AST','STL','BLK','TOV'\n",
    "            ]\n",
    "x = df_arrest.loc[:, continuas].values\n",
    "#Separando las variable target\n",
    "y = df_arrest['TARGET_5Yrs'].values"
   ]
  },
  {
   "cell_type": "code",
   "execution_count": 12,
   "metadata": {},
   "outputs": [],
   "source": [
    "#Particionando los datos\n",
    "xtrain,xtest,ytrain,ytest=train_test_split(x,y,test_size=0.3,random_state=0,stratify=y)"
   ]
  },
  {
   "cell_type": "markdown",
   "metadata": {},
   "source": [
    "**_Estandarizacion (X - Xmean)/(DesvX)_**"
   ]
  },
  {
   "cell_type": "code",
   "execution_count": 13,
   "metadata": {},
   "outputs": [],
   "source": [
    "#Instanciando un objeto de la clase MinMaxScaler\n",
    "sc=StandardScaler()\n",
    "#Aprendiendo y transformando \n",
    "xtrain_std=sc.fit_transform(xtrain)"
   ]
  },
  {
   "cell_type": "code",
   "execution_count": 14,
   "metadata": {},
   "outputs": [],
   "source": [
    "#Ojo: Con lo aprendido de xtrain se debe realizar la transformacion para el Xtest\n",
    "xtest_std=sc.transform(xtest)"
   ]
  },
  {
   "cell_type": "code",
   "execution_count": 15,
   "metadata": {},
   "outputs": [
    {
     "data": {
      "text/html": [
       "<div>\n",
       "<style scoped>\n",
       "    .dataframe tbody tr th:only-of-type {\n",
       "        vertical-align: middle;\n",
       "    }\n",
       "\n",
       "    .dataframe tbody tr th {\n",
       "        vertical-align: top;\n",
       "    }\n",
       "\n",
       "    .dataframe thead th {\n",
       "        text-align: right;\n",
       "    }\n",
       "</style>\n",
       "<table border=\"1\" class=\"dataframe\">\n",
       "  <thead>\n",
       "    <tr style=\"text-align: right;\">\n",
       "      <th></th>\n",
       "      <th>GP</th>\n",
       "      <th>MIN</th>\n",
       "      <th>PTS</th>\n",
       "      <th>FGM</th>\n",
       "      <th>FGA</th>\n",
       "      <th>FG%</th>\n",
       "      <th>3P Made</th>\n",
       "      <th>3PA</th>\n",
       "      <th>3P%</th>\n",
       "      <th>FTM</th>\n",
       "      <th>FTA</th>\n",
       "      <th>FT%</th>\n",
       "      <th>OREB</th>\n",
       "      <th>DREB</th>\n",
       "      <th>REB</th>\n",
       "      <th>AST</th>\n",
       "      <th>STL</th>\n",
       "      <th>BLK</th>\n",
       "      <th>TOV</th>\n",
       "    </tr>\n",
       "  </thead>\n",
       "  <tbody>\n",
       "    <tr>\n",
       "      <th>0</th>\n",
       "      <td>-0.719662</td>\n",
       "      <td>-0.995681</td>\n",
       "      <td>-1.118599</td>\n",
       "      <td>-1.139285</td>\n",
       "      <td>-0.943118</td>\n",
       "      <td>-2.419002</td>\n",
       "      <td>-0.652122</td>\n",
       "      <td>-0.739133</td>\n",
       "      <td>-1.194836</td>\n",
       "      <td>-0.808896</td>\n",
       "      <td>-0.772801</td>\n",
       "      <td>-1.065002</td>\n",
       "      <td>-0.408200</td>\n",
       "      <td>-0.463069</td>\n",
       "      <td>-0.458849</td>\n",
       "      <td>-0.941404</td>\n",
       "      <td>-1.035153</td>\n",
       "      <td>0.068181</td>\n",
       "      <td>-0.983208</td>\n",
       "    </tr>\n",
       "    <tr>\n",
       "      <th>1</th>\n",
       "      <td>-2.848945</td>\n",
       "      <td>-0.842179</td>\n",
       "      <td>-1.005949</td>\n",
       "      <td>-0.906612</td>\n",
       "      <td>-1.134714</td>\n",
       "      <td>2.561225</td>\n",
       "      <td>-0.652122</td>\n",
       "      <td>-0.739133</td>\n",
       "      <td>-1.194836</td>\n",
       "      <td>-1.112395</td>\n",
       "      <td>-0.999118</td>\n",
       "      <td>-3.511972</td>\n",
       "      <td>0.590160</td>\n",
       "      <td>-0.177347</td>\n",
       "      <td>0.153456</td>\n",
       "      <td>-0.802534</td>\n",
       "      <td>-0.556797</td>\n",
       "      <td>0.068181</td>\n",
       "      <td>-0.842078</td>\n",
       "    </tr>\n",
       "    <tr>\n",
       "      <th>2</th>\n",
       "      <td>0.143561</td>\n",
       "      <td>-0.440712</td>\n",
       "      <td>-0.487761</td>\n",
       "      <td>-0.441266</td>\n",
       "      <td>-0.477813</td>\n",
       "      <td>0.394503</td>\n",
       "      <td>-0.652122</td>\n",
       "      <td>-0.739133</td>\n",
       "      <td>-1.194836</td>\n",
       "      <td>-0.404230</td>\n",
       "      <td>-0.320169</td>\n",
       "      <td>-0.769842</td>\n",
       "      <td>0.590160</td>\n",
       "      <td>0.108375</td>\n",
       "      <td>0.247657</td>\n",
       "      <td>-0.802534</td>\n",
       "      <td>-0.556797</td>\n",
       "      <td>0.068181</td>\n",
       "      <td>-0.136426</td>\n",
       "    </tr>\n",
       "    <tr>\n",
       "      <th>3</th>\n",
       "      <td>-0.489469</td>\n",
       "      <td>-0.606022</td>\n",
       "      <td>-0.915829</td>\n",
       "      <td>-0.906612</td>\n",
       "      <td>-1.079972</td>\n",
       "      <td>1.494033</td>\n",
       "      <td>-0.652122</td>\n",
       "      <td>-0.739133</td>\n",
       "      <td>-1.194836</td>\n",
       "      <td>-0.606563</td>\n",
       "      <td>-0.471046</td>\n",
       "      <td>-0.998353</td>\n",
       "      <td>1.214134</td>\n",
       "      <td>0.036944</td>\n",
       "      <td>0.483159</td>\n",
       "      <td>-0.802534</td>\n",
       "      <td>-0.795975</td>\n",
       "      <td>-0.608780</td>\n",
       "      <td>-1.124338</td>\n",
       "    </tr>\n",
       "    <tr>\n",
       "      <th>4</th>\n",
       "      <td>-0.662114</td>\n",
       "      <td>-1.007489</td>\n",
       "      <td>-1.118599</td>\n",
       "      <td>-1.139285</td>\n",
       "      <td>-1.079972</td>\n",
       "      <td>-1.853067</td>\n",
       "      <td>-0.390259</td>\n",
       "      <td>-0.176618</td>\n",
       "      <td>0.133145</td>\n",
       "      <td>-0.808896</td>\n",
       "      <td>-0.772801</td>\n",
       "      <td>-0.503246</td>\n",
       "      <td>-1.032175</td>\n",
       "      <td>-0.963083</td>\n",
       "      <td>-1.071154</td>\n",
       "      <td>0.100121</td>\n",
       "      <td>-0.317618</td>\n",
       "      <td>-0.608780</td>\n",
       "      <td>-0.842078</td>\n",
       "    </tr>\n",
       "  </tbody>\n",
       "</table>\n",
       "</div>"
      ],
      "text/plain": [
       "         GP       MIN       PTS       FGM       FGA       FG%   3P Made  \\\n",
       "0 -0.719662 -0.995681 -1.118599 -1.139285 -0.943118 -2.419002 -0.652122   \n",
       "1 -2.848945 -0.842179 -1.005949 -0.906612 -1.134714  2.561225 -0.652122   \n",
       "2  0.143561 -0.440712 -0.487761 -0.441266 -0.477813  0.394503 -0.652122   \n",
       "3 -0.489469 -0.606022 -0.915829 -0.906612 -1.079972  1.494033 -0.652122   \n",
       "4 -0.662114 -1.007489 -1.118599 -1.139285 -1.079972 -1.853067 -0.390259   \n",
       "\n",
       "        3PA       3P%       FTM       FTA       FT%      OREB      DREB  \\\n",
       "0 -0.739133 -1.194836 -0.808896 -0.772801 -1.065002 -0.408200 -0.463069   \n",
       "1 -0.739133 -1.194836 -1.112395 -0.999118 -3.511972  0.590160 -0.177347   \n",
       "2 -0.739133 -1.194836 -0.404230 -0.320169 -0.769842  0.590160  0.108375   \n",
       "3 -0.739133 -1.194836 -0.606563 -0.471046 -0.998353  1.214134  0.036944   \n",
       "4 -0.176618  0.133145 -0.808896 -0.772801 -0.503246 -1.032175 -0.963083   \n",
       "\n",
       "        REB       AST       STL       BLK       TOV  \n",
       "0 -0.458849 -0.941404 -1.035153  0.068181 -0.983208  \n",
       "1  0.153456 -0.802534 -0.556797  0.068181 -0.842078  \n",
       "2  0.247657 -0.802534 -0.556797  0.068181 -0.136426  \n",
       "3  0.483159 -0.802534 -0.795975 -0.608780 -1.124338  \n",
       "4 -1.071154  0.100121 -0.317618 -0.608780 -0.842078  "
      ]
     },
     "execution_count": 15,
     "metadata": {},
     "output_type": "execute_result"
    }
   ],
   "source": [
    "#Creando un nuevo dataframe con los datos estandarizados\n",
    "df_arrest_std=pd.DataFrame(xtrain_std,columns=continuas)\n",
    "df_arrest_std.head()"
   ]
  },
  {
   "cell_type": "markdown",
   "metadata": {},
   "source": [
    "**_2. Grafico PCA_**"
   ]
  },
  {
   "cell_type": "code",
   "execution_count": 22,
   "metadata": {},
   "outputs": [],
   "source": [
    "#Instanciando un objeto de la clase PCA\n",
    "pca=PCA() #Tantos PCA como variables originales\n",
    "xtrain_pca=pca.fit_transform(xtrain_std)"
   ]
  },
  {
   "cell_type": "code",
   "execution_count": 23,
   "metadata": {},
   "outputs": [
    {
     "data": {
      "text/plain": [
       "array([5.06237548e-01, 2.04386335e-01, 6.03482329e-02, 4.63957625e-02,\n",
       "       3.89997749e-02, 3.00314594e-02, 2.65342538e-02, 2.40831740e-02,\n",
       "       2.22500582e-02, 1.31671650e-02, 1.24505682e-02, 5.52761017e-03,\n",
       "       5.33545087e-03, 2.80618679e-03, 7.53505411e-04, 4.17559902e-04,\n",
       "       2.48009128e-04, 1.83875727e-05, 8.95851200e-06])"
      ]
     },
     "execution_count": 23,
     "metadata": {},
     "output_type": "execute_result"
    }
   ],
   "source": [
    "varianzaexplicada=pca.explained_variance_ratio_\n",
    "varianzaexplicada"
   ]
  },
  {
   "cell_type": "code",
   "execution_count": 24,
   "metadata": {},
   "outputs": [
    {
     "data": {
      "text/plain": [
       "array([0.50623755, 0.71062388, 0.77097212, 0.81736788, 0.85636765,\n",
       "       0.88639911, 0.91293337, 0.93701654, 0.9592666 , 0.97243376,\n",
       "       0.98488433, 0.99041194, 0.99574739, 0.99855358, 0.99930708,\n",
       "       0.99972464, 0.99997265, 0.99999104, 1.        ])"
      ]
     },
     "execution_count": 24,
     "metadata": {},
     "output_type": "execute_result"
    }
   ],
   "source": [
    "varianzaacumulada=np.cumsum(varianzaexplicada)\n",
    "varianzaacumulada"
   ]
  },
  {
   "cell_type": "code",
   "execution_count": 26,
   "metadata": {},
   "outputs": [
    {
     "data": {
      "image/png": "[encoded data removed]",
      "text/plain": [
       "<Figure size 432x288 with 1 Axes>"
      ]
     },
     "metadata": {
      "needs_background": "light"
     },
     "output_type": "display_data"
    }
   ],
   "source": [
    "plt.bar(range(1,len(df_arrest_std.columns)+1),varianzaexplicada)\n",
    "plt.step(range(1,len(df_arrest_std.columns)+1),varianzaacumulada)\n",
    "plt.ylabel('Relacion de varianza explicada')\n",
    "plt.xlabel('Componentes principales')\n",
    "plt.title('Grafico de Sedimentacion')\n",
    "plt.show()"
   ]
  },
  {
   "cell_type": "markdown",
   "metadata": {},
   "source": [
    "**_3. Kriterio de keiser con la varianza explicada de los 3 primeros componentes_**"
   ]
  },
  {
   "cell_type": "code",
   "execution_count": 27,
   "metadata": {},
   "outputs": [],
   "source": [
    "#Construyendo la matriz varianza-covarianza\n",
    "cov_mat=np.cov(xtrain_std.T) #T es la transpuesta"
   ]
  },
  {
   "cell_type": "code",
   "execution_count": 28,
   "metadata": {},
   "outputs": [
    {
     "name": "stdout",
     "output_type": "stream",
     "text": [
      "[9.62886703e+00 3.88752049e+00 1.14785067e+00 8.82468378e-01\n",
      " 7.41793351e-01 5.71211935e-01 5.04693504e-01 4.58072858e-01\n",
      " 4.23206166e-01 2.50445431e-01 2.36815437e-01 1.01482688e-01\n",
      " 1.05137644e-01 5.33749414e-02 1.43320136e-02 7.94217812e-03\n",
      " 4.71724574e-03 3.49739946e-04 1.70394948e-04]\n"
     ]
    }
   ],
   "source": [
    "autovalores, autovectores= np.linalg.eig(cov_mat)\n",
    "print(autovalores)"
   ]
  },
  {
   "cell_type": "code",
   "execution_count": 29,
   "metadata": {},
   "outputs": [
    {
     "data": {
      "text/plain": [
       "3"
      ]
     },
     "execution_count": 29,
     "metadata": {},
     "output_type": "execute_result"
    }
   ],
   "source": [
    "(autovalores>1).sum()"
   ]
  },
  {
   "cell_type": "code",
   "execution_count": 30,
   "metadata": {},
   "outputs": [
    {
     "name": "stdout",
     "output_type": "stream",
     "text": [
      "[9.628867026676302, 3.887520493559118, 1.1478506728557742, 0.8824683781411236, 0.7417933510107256, 0.5712119347980711, 0.504693503942002, 0.4580728583326961, 0.4232061658743858, 0.25044543096814414, 0.2368154369967461, 0.10513764444673529, 0.101482687672345, 0.05337494142536764, 0.014332013579656059, 0.007942178120910469, 0.004717245737088714, 0.0003497399456975399, 0.00017039494828880104]\n"
     ]
    }
   ],
   "source": [
    "print(sorted(autovalores, reverse=True)) #Para ordenar de mayor a menor"
   ]
  },
  {
   "cell_type": "code",
   "execution_count": 32,
   "metadata": {},
   "outputs": [
    {
     "name": "stdout",
     "output_type": "stream",
     "text": [
      "[[-3.39152988 -0.8649925  -0.32035074]\n",
      " [-2.91035782 -3.29191977 -1.12642946]\n",
      " [-1.00792929 -1.97089674  0.05954907]\n",
      " ...\n",
      " [ 0.20599633 -3.00522598  0.17790079]\n",
      " [-2.0766519   1.87580784 -2.03432183]\n",
      " [-3.56626731  0.16420025 -0.20608985]]\n"
     ]
    }
   ],
   "source": [
    "pca=PCA(n_components=3)\n",
    "x3comp=pca.fit_transform(xtrain_std)\n",
    "print(x3comp)"
   ]
  },
  {
   "cell_type": "code",
   "execution_count": 34,
   "metadata": {},
   "outputs": [
    {
     "data": {
      "text/html": [
       "<div>\n",
       "<style scoped>\n",
       "    .dataframe tbody tr th:only-of-type {\n",
       "        vertical-align: middle;\n",
       "    }\n",
       "\n",
       "    .dataframe tbody tr th {\n",
       "        vertical-align: top;\n",
       "    }\n",
       "\n",
       "    .dataframe thead th {\n",
       "        text-align: right;\n",
       "    }\n",
       "</style>\n",
       "<table border=\"1\" class=\"dataframe\">\n",
       "  <thead>\n",
       "    <tr style=\"text-align: right;\">\n",
       "      <th></th>\n",
       "      <th>PC1</th>\n",
       "      <th>PC2</th>\n",
       "      <th>PC3</th>\n",
       "      <th>TARGET_5Yrs</th>\n",
       "    </tr>\n",
       "  </thead>\n",
       "  <tbody>\n",
       "    <tr>\n",
       "      <th>0</th>\n",
       "      <td>-3.391530</td>\n",
       "      <td>-0.864992</td>\n",
       "      <td>-0.320351</td>\n",
       "      <td>0</td>\n",
       "    </tr>\n",
       "    <tr>\n",
       "      <th>1</th>\n",
       "      <td>-2.910358</td>\n",
       "      <td>-3.291920</td>\n",
       "      <td>-1.126429</td>\n",
       "      <td>0</td>\n",
       "    </tr>\n",
       "    <tr>\n",
       "      <th>2</th>\n",
       "      <td>-1.007929</td>\n",
       "      <td>-1.970897</td>\n",
       "      <td>0.059549</td>\n",
       "      <td>1</td>\n",
       "    </tr>\n",
       "    <tr>\n",
       "      <th>3</th>\n",
       "      <td>-1.918537</td>\n",
       "      <td>-2.614837</td>\n",
       "      <td>-0.269468</td>\n",
       "      <td>0</td>\n",
       "    </tr>\n",
       "    <tr>\n",
       "      <th>4</th>\n",
       "      <td>-3.354599</td>\n",
       "      <td>0.922713</td>\n",
       "      <td>0.362722</td>\n",
       "      <td>1</td>\n",
       "    </tr>\n",
       "    <tr>\n",
       "      <th>5</th>\n",
       "      <td>-1.726465</td>\n",
       "      <td>2.121716</td>\n",
       "      <td>-1.083185</td>\n",
       "      <td>0</td>\n",
       "    </tr>\n",
       "    <tr>\n",
       "      <th>6</th>\n",
       "      <td>0.030791</td>\n",
       "      <td>-2.792813</td>\n",
       "      <td>-0.359632</td>\n",
       "      <td>1</td>\n",
       "    </tr>\n",
       "    <tr>\n",
       "      <th>7</th>\n",
       "      <td>-4.168896</td>\n",
       "      <td>-0.926062</td>\n",
       "      <td>-0.169455</td>\n",
       "      <td>1</td>\n",
       "    </tr>\n",
       "    <tr>\n",
       "      <th>8</th>\n",
       "      <td>-0.659899</td>\n",
       "      <td>-2.469046</td>\n",
       "      <td>0.034732</td>\n",
       "      <td>1</td>\n",
       "    </tr>\n",
       "    <tr>\n",
       "      <th>9</th>\n",
       "      <td>0.788681</td>\n",
       "      <td>-2.029191</td>\n",
       "      <td>-0.268183</td>\n",
       "      <td>1</td>\n",
       "    </tr>\n",
       "  </tbody>\n",
       "</table>\n",
       "</div>"
      ],
      "text/plain": [
       "        PC1       PC2       PC3  TARGET_5Yrs\n",
       "0 -3.391530 -0.864992 -0.320351            0\n",
       "1 -2.910358 -3.291920 -1.126429            0\n",
       "2 -1.007929 -1.970897  0.059549            1\n",
       "3 -1.918537 -2.614837 -0.269468            0\n",
       "4 -3.354599  0.922713  0.362722            1\n",
       "5 -1.726465  2.121716 -1.083185            0\n",
       "6  0.030791 -2.792813 -0.359632            1\n",
       "7 -4.168896 -0.926062 -0.169455            1\n",
       "8 -0.659899 -2.469046  0.034732            1\n",
       "9  0.788681 -2.029191 -0.268183            1"
      ]
     },
     "execution_count": 34,
     "metadata": {},
     "output_type": "execute_result"
    }
   ],
   "source": [
    "df_arrest_x=pd.DataFrame(x3comp,columns=['PC1','PC2','PC3'])\n",
    "df_arrest_x['TARGET_5Yrs']=ytrain\n",
    "df_arrest_x.head(10)"
   ]
  }
 ],
 "metadata": {
  "kernelspec": {
   "display_name": "Python 3",
   "language": "python",
   "name": "python3"
  },
  "language_info": {
   "codemirror_mode": {
    "name": "ipython",
    "version": 3
   },
   "file_extension": ".py",
   "mimetype": "text/x-python",
   "name": "python",
   "nbconvert_exporter": "python",
   "pygments_lexer": "ipython3",
   "version": "3.8.3"
  }
 },
 "nbformat": 4,
 "nbformat_minor": 4
}