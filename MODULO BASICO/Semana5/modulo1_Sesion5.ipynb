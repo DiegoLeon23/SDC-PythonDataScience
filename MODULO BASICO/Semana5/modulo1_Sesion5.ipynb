{
 "cells": [
  {
   "cell_type": "markdown",
   "metadata": {},
   "source": [
    "# _TEMA 9. ANALISIS DE COMPONENTES PRINCIPALES_"
   ]
  },
  {
   "cell_type": "code",
   "execution_count": 20,
   "metadata": {},
   "outputs": [],
   "source": [
    "#Importando librerias necesarias\n",
    "import os \n",
    "import pandas as pd\n",
    "import numpy as np\n",
    "import matplotlib.pyplot as plt\n",
    "import seaborn as sns\n",
    "import math as math\n",
    "import scipy.stats as stats #Para calculo de probabilidades\n",
    "\n",
    "from sklearn.model_selection import train_test_split #Particionamiento\n",
    "from sklearn.preprocessing import MinMaxScaler #Utilizar la normalizacion\n",
    "from sklearn.preprocessing import StandardScaler #Utilizar la estandarizacion \n",
    "from sklearn.decomposition import PCA #Para la descomposicion de la varianza en el PCA"
   ]
  },
  {
   "cell_type": "code",
   "execution_count": 2,
   "metadata": {},
   "outputs": [],
   "source": [
    "#Estableciendo nuestro directorio de trabajo\n",
    "os.chdir(\"D:\\Social Data Consulting\\Python for Data Science\\data\")"
   ]
  },
  {
   "cell_type": "code",
   "execution_count": 3,
   "metadata": {
    "scrolled": true
   },
   "outputs": [
    {
     "data": {
      "text/html": [
       "<div>\n",
       "<style scoped>\n",
       "    .dataframe tbody tr th:only-of-type {\n",
       "        vertical-align: middle;\n",
       "    }\n",
       "\n",
       "    .dataframe tbody tr th {\n",
       "        vertical-align: top;\n",
       "    }\n",
       "\n",
       "    .dataframe thead th {\n",
       "        text-align: right;\n",
       "    }\n",
       "</style>\n",
       "<table border=\"1\" class=\"dataframe\">\n",
       "  <thead>\n",
       "    <tr style=\"text-align: right;\">\n",
       "      <th></th>\n",
       "      <th>duration</th>\n",
       "      <th>chist</th>\n",
       "      <th>reason</th>\n",
       "      <th>camt</th>\n",
       "      <th>telephne</th>\n",
       "      <th>lenemp</th>\n",
       "      <th>instrate</th>\n",
       "      <th>perstat</th>\n",
       "      <th>residlen</th>\n",
       "      <th>prpownr</th>\n",
       "      <th>age</th>\n",
       "      <th>housng</th>\n",
       "      <th>numcred</th>\n",
       "      <th>emptype</th>\n",
       "      <th>numliab</th>\n",
       "      <th>customer</th>\n",
       "    </tr>\n",
       "  </thead>\n",
       "  <tbody>\n",
       "    <tr>\n",
       "      <th>0</th>\n",
       "      <td>6.0</td>\n",
       "      <td>5.0</td>\n",
       "      <td>4.0</td>\n",
       "      <td>1169.0</td>\n",
       "      <td>0.0</td>\n",
       "      <td>4.0</td>\n",
       "      <td>4.0</td>\n",
       "      <td>3.0</td>\n",
       "      <td>4.0</td>\n",
       "      <td>1.0</td>\n",
       "      <td>67.0</td>\n",
       "      <td>2.0</td>\n",
       "      <td>2.0</td>\n",
       "      <td>3.0</td>\n",
       "      <td>1.0</td>\n",
       "      <td>1.0</td>\n",
       "    </tr>\n",
       "    <tr>\n",
       "      <th>1</th>\n",
       "      <td>48.0</td>\n",
       "      <td>3.0</td>\n",
       "      <td>4.0</td>\n",
       "      <td>5951.0</td>\n",
       "      <td>1.0</td>\n",
       "      <td>2.0</td>\n",
       "      <td>2.0</td>\n",
       "      <td>2.0</td>\n",
       "      <td>2.0</td>\n",
       "      <td>1.0</td>\n",
       "      <td>22.0</td>\n",
       "      <td>2.0</td>\n",
       "      <td>1.0</td>\n",
       "      <td>3.0</td>\n",
       "      <td>1.0</td>\n",
       "      <td>2.0</td>\n",
       "    </tr>\n",
       "    <tr>\n",
       "      <th>2</th>\n",
       "      <td>12.0</td>\n",
       "      <td>5.0</td>\n",
       "      <td>7.0</td>\n",
       "      <td>2096.0</td>\n",
       "      <td>1.0</td>\n",
       "      <td>3.0</td>\n",
       "      <td>2.0</td>\n",
       "      <td>3.0</td>\n",
       "      <td>3.0</td>\n",
       "      <td>1.0</td>\n",
       "      <td>49.0</td>\n",
       "      <td>2.0</td>\n",
       "      <td>1.0</td>\n",
       "      <td>2.0</td>\n",
       "      <td>2.0</td>\n",
       "      <td>1.0</td>\n",
       "    </tr>\n",
       "    <tr>\n",
       "      <th>3</th>\n",
       "      <td>42.0</td>\n",
       "      <td>3.0</td>\n",
       "      <td>3.0</td>\n",
       "      <td>7882.0</td>\n",
       "      <td>1.0</td>\n",
       "      <td>3.0</td>\n",
       "      <td>2.0</td>\n",
       "      <td>3.0</td>\n",
       "      <td>4.0</td>\n",
       "      <td>2.0</td>\n",
       "      <td>45.0</td>\n",
       "      <td>3.0</td>\n",
       "      <td>1.0</td>\n",
       "      <td>3.0</td>\n",
       "      <td>2.0</td>\n",
       "      <td>1.0</td>\n",
       "    </tr>\n",
       "    <tr>\n",
       "      <th>4</th>\n",
       "      <td>24.0</td>\n",
       "      <td>4.0</td>\n",
       "      <td>1.0</td>\n",
       "      <td>4870.0</td>\n",
       "      <td>1.0</td>\n",
       "      <td>2.0</td>\n",
       "      <td>3.0</td>\n",
       "      <td>3.0</td>\n",
       "      <td>4.0</td>\n",
       "      <td>4.0</td>\n",
       "      <td>53.0</td>\n",
       "      <td>3.0</td>\n",
       "      <td>2.0</td>\n",
       "      <td>3.0</td>\n",
       "      <td>2.0</td>\n",
       "      <td>2.0</td>\n",
       "    </tr>\n",
       "  </tbody>\n",
       "</table>\n",
       "</div>"
      ],
      "text/plain": [
       "   duration  chist  reason    camt  telephne  lenemp  instrate  perstat  \\\n",
       "0       6.0    5.0     4.0  1169.0       0.0     4.0       4.0      3.0   \n",
       "1      48.0    3.0     4.0  5951.0       1.0     2.0       2.0      2.0   \n",
       "2      12.0    5.0     7.0  2096.0       1.0     3.0       2.0      3.0   \n",
       "3      42.0    3.0     3.0  7882.0       1.0     3.0       2.0      3.0   \n",
       "4      24.0    4.0     1.0  4870.0       1.0     2.0       3.0      3.0   \n",
       "\n",
       "   residlen  prpownr   age  housng  numcred  emptype  numliab  customer  \n",
       "0       4.0      1.0  67.0     2.0      2.0      3.0      1.0       1.0  \n",
       "1       2.0      1.0  22.0     2.0      1.0      3.0      1.0       2.0  \n",
       "2       3.0      1.0  49.0     2.0      1.0      2.0      2.0       1.0  \n",
       "3       4.0      2.0  45.0     3.0      1.0      3.0      2.0       1.0  \n",
       "4       4.0      4.0  53.0     3.0      2.0      3.0      2.0       2.0  "
      ]
     },
     "execution_count": 3,
     "metadata": {},
     "output_type": "execute_result"
    }
   ],
   "source": [
    "miarchivo=\"data_credit.csv\"\n",
    "df=pd.read_csv(miarchivo,sep=\",\", encoding='ISO-8859-1')\n",
    "df.head()"
   ]
  },
  {
   "cell_type": "code",
   "execution_count": 7,
   "metadata": {},
   "outputs": [],
   "source": [
    "#Estableciendo nuestra matriz de datos X y la target Y\n",
    "x=df.iloc[:,0:len(df.columns)-1].values\n",
    "y=df.iloc[:,len(df.columns)-1].values\n",
    "\n",
    "#Particionando los datos\n",
    "xtrain,xtest,ytrain,ytest=train_test_split(x,y,test_size=0.3,random_state=0,stratify=y)"
   ]
  },
  {
   "cell_type": "markdown",
   "metadata": {},
   "source": [
    "**_Escalamiento de Variables_**"
   ]
  },
  {
   "cell_type": "markdown",
   "metadata": {},
   "source": [
    "**_Normalizacion (X - Xmin)/(Xmax - Xmin)_**"
   ]
  },
  {
   "cell_type": "code",
   "execution_count": 10,
   "metadata": {},
   "outputs": [],
   "source": [
    "#Instanciando un objeto de la clase MinMaxScaler\n",
    "mms=MinMaxScaler()\n",
    "#Aprendiendo y transformando \n",
    "xtrain=mms.fit_transform(xtrain)"
   ]
  },
  {
   "cell_type": "markdown",
   "metadata": {},
   "source": [
    "**_Estandarizacion (X - Xmean)/(DesvX)_**"
   ]
  },
  {
   "cell_type": "code",
   "execution_count": 11,
   "metadata": {},
   "outputs": [],
   "source": [
    "#Instanciando un objeto de la clase StandardScaler\n",
    "sc=StandardScaler()\n",
    "#Aprendiendo y transformando \n",
    "xtrain_std=sc.fit_transform(xtrain)"
   ]
  },
  {
   "cell_type": "code",
   "execution_count": 12,
   "metadata": {},
   "outputs": [],
   "source": [
    "#Ojo: Con lo aprendido de xtrain se debe realizar la transformacion para el Xtest\n",
    "xtest_std=sc.transform(xtest)"
   ]
  },
  {
   "cell_type": "code",
   "execution_count": 15,
   "metadata": {},
   "outputs": [
    {
     "data": {
      "text/html": [
       "<div>\n",
       "<style scoped>\n",
       "    .dataframe tbody tr th:only-of-type {\n",
       "        vertical-align: middle;\n",
       "    }\n",
       "\n",
       "    .dataframe tbody tr th {\n",
       "        vertical-align: top;\n",
       "    }\n",
       "\n",
       "    .dataframe thead th {\n",
       "        text-align: right;\n",
       "    }\n",
       "</style>\n",
       "<table border=\"1\" class=\"dataframe\">\n",
       "  <thead>\n",
       "    <tr style=\"text-align: right;\">\n",
       "      <th></th>\n",
       "      <th>duration</th>\n",
       "      <th>chist</th>\n",
       "      <th>reason</th>\n",
       "      <th>camt</th>\n",
       "      <th>telephne</th>\n",
       "      <th>lenemp</th>\n",
       "      <th>instrate</th>\n",
       "      <th>perstat</th>\n",
       "      <th>residlen</th>\n",
       "      <th>prpownr</th>\n",
       "      <th>age</th>\n",
       "      <th>housng</th>\n",
       "      <th>numcred</th>\n",
       "      <th>emptype</th>\n",
       "      <th>numliab</th>\n",
       "    </tr>\n",
       "  </thead>\n",
       "  <tbody>\n",
       "    <tr>\n",
       "      <th>0</th>\n",
       "      <td>0.273431</td>\n",
       "      <td>1.377803</td>\n",
       "      <td>-0.744406</td>\n",
       "      <td>-0.277224</td>\n",
       "      <td>-1.199593</td>\n",
       "      <td>0.228874</td>\n",
       "      <td>0.933475</td>\n",
       "      <td>1.851752</td>\n",
       "      <td>0.121235</td>\n",
       "      <td>-0.339904</td>\n",
       "      <td>-0.769416</td>\n",
       "      <td>0.132827</td>\n",
       "      <td>0.986832</td>\n",
       "      <td>0.147072</td>\n",
       "      <td>-0.445679</td>\n",
       "    </tr>\n",
       "    <tr>\n",
       "      <th>1</th>\n",
       "      <td>-0.241782</td>\n",
       "      <td>1.377803</td>\n",
       "      <td>-0.744406</td>\n",
       "      <td>0.276215</td>\n",
       "      <td>-1.199593</td>\n",
       "      <td>1.063310</td>\n",
       "      <td>-1.759240</td>\n",
       "      <td>-0.997097</td>\n",
       "      <td>1.033756</td>\n",
       "      <td>-1.287844</td>\n",
       "      <td>-0.250958</td>\n",
       "      <td>-1.726746</td>\n",
       "      <td>2.679927</td>\n",
       "      <td>0.147072</td>\n",
       "      <td>-0.445679</td>\n",
       "    </tr>\n",
       "    <tr>\n",
       "      <th>2</th>\n",
       "      <td>0.273431</td>\n",
       "      <td>-0.502240</td>\n",
       "      <td>-0.276016</td>\n",
       "      <td>1.658889</td>\n",
       "      <td>-1.199593</td>\n",
       "      <td>-1.439999</td>\n",
       "      <td>-1.759240</td>\n",
       "      <td>-0.997097</td>\n",
       "      <td>-0.791286</td>\n",
       "      <td>-0.339904</td>\n",
       "      <td>-0.510187</td>\n",
       "      <td>0.132827</td>\n",
       "      <td>-0.706262</td>\n",
       "      <td>0.147072</td>\n",
       "      <td>-0.445679</td>\n",
       "    </tr>\n",
       "    <tr>\n",
       "      <th>3</th>\n",
       "      <td>0.273431</td>\n",
       "      <td>-2.382283</td>\n",
       "      <td>1.363351</td>\n",
       "      <td>0.377476</td>\n",
       "      <td>-1.199593</td>\n",
       "      <td>-0.605562</td>\n",
       "      <td>-1.759240</td>\n",
       "      <td>0.427327</td>\n",
       "      <td>1.033756</td>\n",
       "      <td>-1.287844</td>\n",
       "      <td>0.008271</td>\n",
       "      <td>0.132827</td>\n",
       "      <td>2.679927</td>\n",
       "      <td>-1.366903</td>\n",
       "      <td>-0.445679</td>\n",
       "    </tr>\n",
       "    <tr>\n",
       "      <th>4</th>\n",
       "      <td>0.273431</td>\n",
       "      <td>-0.502240</td>\n",
       "      <td>-0.744406</td>\n",
       "      <td>-0.641395</td>\n",
       "      <td>-1.199593</td>\n",
       "      <td>-1.439999</td>\n",
       "      <td>0.933475</td>\n",
       "      <td>1.851752</td>\n",
       "      <td>0.121235</td>\n",
       "      <td>-1.287844</td>\n",
       "      <td>-0.250958</td>\n",
       "      <td>0.132827</td>\n",
       "      <td>-0.706262</td>\n",
       "      <td>0.147072</td>\n",
       "      <td>-0.445679</td>\n",
       "    </tr>\n",
       "  </tbody>\n",
       "</table>\n",
       "</div>"
      ],
      "text/plain": [
       "   duration     chist    reason      camt  telephne    lenemp  instrate  \\\n",
       "0  0.273431  1.377803 -0.744406 -0.277224 -1.199593  0.228874  0.933475   \n",
       "1 -0.241782  1.377803 -0.744406  0.276215 -1.199593  1.063310 -1.759240   \n",
       "2  0.273431 -0.502240 -0.276016  1.658889 -1.199593 -1.439999 -1.759240   \n",
       "3  0.273431 -2.382283  1.363351  0.377476 -1.199593 -0.605562 -1.759240   \n",
       "4  0.273431 -0.502240 -0.744406 -0.641395 -1.199593 -1.439999  0.933475   \n",
       "\n",
       "    perstat  residlen   prpownr       age    housng   numcred   emptype  \\\n",
       "0  1.851752  0.121235 -0.339904 -0.769416  0.132827  0.986832  0.147072   \n",
       "1 -0.997097  1.033756 -1.287844 -0.250958 -1.726746  2.679927  0.147072   \n",
       "2 -0.997097 -0.791286 -0.339904 -0.510187  0.132827 -0.706262  0.147072   \n",
       "3  0.427327  1.033756 -1.287844  0.008271  0.132827  2.679927 -1.366903   \n",
       "4  1.851752  0.121235 -1.287844 -0.250958  0.132827 -0.706262  0.147072   \n",
       "\n",
       "    numliab  \n",
       "0 -0.445679  \n",
       "1 -0.445679  \n",
       "2 -0.445679  \n",
       "3 -0.445679  \n",
       "4 -0.445679  "
      ]
     },
     "execution_count": 15,
     "metadata": {},
     "output_type": "execute_result"
    }
   ],
   "source": [
    "#Creando un nuevo dataframe con los datos estandarizados\n",
    "df_std=pd.DataFrame(xtrain_std,columns=['duration','chist','reason','camt','telephne','lenemp',\n",
    "                                        'instrate','perstat','residlen','prpownr','age','housng','numcred',\n",
    "                                        'emptype','numliab'])\n",
    "df_std.head()"
   ]
  },
  {
   "cell_type": "code",
   "execution_count": 16,
   "metadata": {},
   "outputs": [],
   "source": [
    "#columnas=list(df.columns)\n",
    "#columnas=columnas.pop()"
   ]
  },
  {
   "cell_type": "markdown",
   "metadata": {},
   "source": [
    "# Realizamos la Prueba de Esfericidad de Bartlett"
   ]
  },
  {
   "cell_type": "code",
   "execution_count": 17,
   "metadata": {},
   "outputs": [],
   "source": [
    "n=df_std.shape[0]\n",
    "p=df_std.shape[1]"
   ]
  },
  {
   "cell_type": "code",
   "execution_count": 18,
   "metadata": {},
   "outputs": [
    {
     "data": {
      "text/html": [
       "<div>\n",
       "<style scoped>\n",
       "    .dataframe tbody tr th:only-of-type {\n",
       "        vertical-align: middle;\n",
       "    }\n",
       "\n",
       "    .dataframe tbody tr th {\n",
       "        vertical-align: top;\n",
       "    }\n",
       "\n",
       "    .dataframe thead th {\n",
       "        text-align: right;\n",
       "    }\n",
       "</style>\n",
       "<table border=\"1\" class=\"dataframe\">\n",
       "  <thead>\n",
       "    <tr style=\"text-align: right;\">\n",
       "      <th></th>\n",
       "      <th>duration</th>\n",
       "      <th>chist</th>\n",
       "      <th>reason</th>\n",
       "      <th>camt</th>\n",
       "      <th>telephne</th>\n",
       "      <th>lenemp</th>\n",
       "      <th>instrate</th>\n",
       "      <th>perstat</th>\n",
       "      <th>residlen</th>\n",
       "      <th>prpownr</th>\n",
       "      <th>age</th>\n",
       "      <th>housng</th>\n",
       "      <th>numcred</th>\n",
       "      <th>emptype</th>\n",
       "      <th>numliab</th>\n",
       "    </tr>\n",
       "  </thead>\n",
       "  <tbody>\n",
       "    <tr>\n",
       "      <th>duration</th>\n",
       "      <td>1.000000</td>\n",
       "      <td>-0.076000</td>\n",
       "      <td>0.171482</td>\n",
       "      <td>0.615645</td>\n",
       "      <td>-0.180049</td>\n",
       "      <td>0.099967</td>\n",
       "      <td>0.106123</td>\n",
       "      <td>0.003897</td>\n",
       "      <td>0.041850</td>\n",
       "      <td>0.314577</td>\n",
       "      <td>-0.018861</td>\n",
       "      <td>0.153928</td>\n",
       "      <td>-0.007308</td>\n",
       "      <td>0.252479</td>\n",
       "      <td>0.001114</td>\n",
       "    </tr>\n",
       "    <tr>\n",
       "      <th>chist</th>\n",
       "      <td>-0.076000</td>\n",
       "      <td>1.000000</td>\n",
       "      <td>-0.086105</td>\n",
       "      <td>-0.060558</td>\n",
       "      <td>-0.020915</td>\n",
       "      <td>0.130637</td>\n",
       "      <td>0.019237</td>\n",
       "      <td>0.048204</td>\n",
       "      <td>0.013098</td>\n",
       "      <td>-0.063783</td>\n",
       "      <td>0.154075</td>\n",
       "      <td>0.081694</td>\n",
       "      <td>0.436512</td>\n",
       "      <td>0.025071</td>\n",
       "      <td>0.028976</td>\n",
       "    </tr>\n",
       "    <tr>\n",
       "      <th>reason</th>\n",
       "      <td>0.171482</td>\n",
       "      <td>-0.086105</td>\n",
       "      <td>1.000000</td>\n",
       "      <td>0.141879</td>\n",
       "      <td>-0.116151</td>\n",
       "      <td>0.024089</td>\n",
       "      <td>0.023723</td>\n",
       "      <td>-0.007387</td>\n",
       "      <td>0.006902</td>\n",
       "      <td>0.055240</td>\n",
       "      <td>0.037755</td>\n",
       "      <td>0.094522</td>\n",
       "      <td>0.074690</td>\n",
       "      <td>0.034516</td>\n",
       "      <td>0.009255</td>\n",
       "    </tr>\n",
       "    <tr>\n",
       "      <th>camt</th>\n",
       "      <td>0.615645</td>\n",
       "      <td>-0.060558</td>\n",
       "      <td>0.141879</td>\n",
       "      <td>1.000000</td>\n",
       "      <td>-0.301887</td>\n",
       "      <td>0.088360</td>\n",
       "      <td>-0.279371</td>\n",
       "      <td>-0.026608</td>\n",
       "      <td>0.027859</td>\n",
       "      <td>0.300961</td>\n",
       "      <td>0.050640</td>\n",
       "      <td>0.126361</td>\n",
       "      <td>0.038134</td>\n",
       "      <td>0.282926</td>\n",
       "      <td>0.044728</td>\n",
       "    </tr>\n",
       "    <tr>\n",
       "      <th>telephne</th>\n",
       "      <td>-0.180049</td>\n",
       "      <td>-0.020915</td>\n",
       "      <td>-0.116151</td>\n",
       "      <td>-0.301887</td>\n",
       "      <td>1.000000</td>\n",
       "      <td>-0.137472</td>\n",
       "      <td>-0.006466</td>\n",
       "      <td>0.007861</td>\n",
       "      <td>-0.087811</td>\n",
       "      <td>-0.192984</td>\n",
       "      <td>-0.125610</td>\n",
       "      <td>-0.126930</td>\n",
       "      <td>-0.065308</td>\n",
       "      <td>-0.373257</td>\n",
       "      <td>-0.019061</td>\n",
       "    </tr>\n",
       "    <tr>\n",
       "      <th>lenemp</th>\n",
       "      <td>0.099967</td>\n",
       "      <td>0.130637</td>\n",
       "      <td>0.024089</td>\n",
       "      <td>0.088360</td>\n",
       "      <td>-0.137472</td>\n",
       "      <td>1.000000</td>\n",
       "      <td>0.052770</td>\n",
       "      <td>0.060109</td>\n",
       "      <td>0.295321</td>\n",
       "      <td>0.181755</td>\n",
       "      <td>0.359757</td>\n",
       "      <td>0.215654</td>\n",
       "      <td>0.115225</td>\n",
       "      <td>0.139594</td>\n",
       "      <td>0.050709</td>\n",
       "    </tr>\n",
       "    <tr>\n",
       "      <th>instrate</th>\n",
       "      <td>0.106123</td>\n",
       "      <td>0.019237</td>\n",
       "      <td>0.023723</td>\n",
       "      <td>-0.279371</td>\n",
       "      <td>-0.006466</td>\n",
       "      <td>0.052770</td>\n",
       "      <td>1.000000</td>\n",
       "      <td>0.149039</td>\n",
       "      <td>0.058831</td>\n",
       "      <td>0.015850</td>\n",
       "      <td>0.040698</td>\n",
       "      <td>0.052457</td>\n",
       "      <td>0.044896</td>\n",
       "      <td>0.113138</td>\n",
       "      <td>-0.059866</td>\n",
       "    </tr>\n",
       "    <tr>\n",
       "      <th>perstat</th>\n",
       "      <td>0.003897</td>\n",
       "      <td>0.048204</td>\n",
       "      <td>-0.007387</td>\n",
       "      <td>-0.026608</td>\n",
       "      <td>0.007861</td>\n",
       "      <td>0.060109</td>\n",
       "      <td>0.149039</td>\n",
       "      <td>1.000000</td>\n",
       "      <td>0.005756</td>\n",
       "      <td>-0.010995</td>\n",
       "      <td>0.000158</td>\n",
       "      <td>0.105953</td>\n",
       "      <td>0.060637</td>\n",
       "      <td>-0.010475</td>\n",
       "      <td>0.113833</td>\n",
       "    </tr>\n",
       "    <tr>\n",
       "      <th>residlen</th>\n",
       "      <td>0.041850</td>\n",
       "      <td>0.013098</td>\n",
       "      <td>0.006902</td>\n",
       "      <td>0.027859</td>\n",
       "      <td>-0.087811</td>\n",
       "      <td>0.295321</td>\n",
       "      <td>0.058831</td>\n",
       "      <td>0.005756</td>\n",
       "      <td>1.000000</td>\n",
       "      <td>0.131417</td>\n",
       "      <td>0.265400</td>\n",
       "      <td>0.054197</td>\n",
       "      <td>0.061345</td>\n",
       "      <td>-0.011909</td>\n",
       "      <td>0.061044</td>\n",
       "    </tr>\n",
       "    <tr>\n",
       "      <th>prpownr</th>\n",
       "      <td>0.314577</td>\n",
       "      <td>-0.063783</td>\n",
       "      <td>0.055240</td>\n",
       "      <td>0.300961</td>\n",
       "      <td>-0.192984</td>\n",
       "      <td>0.181755</td>\n",
       "      <td>0.015850</td>\n",
       "      <td>-0.010995</td>\n",
       "      <td>0.131417</td>\n",
       "      <td>1.000000</td>\n",
       "      <td>0.058511</td>\n",
       "      <td>0.354891</td>\n",
       "      <td>-0.019954</td>\n",
       "      <td>0.277565</td>\n",
       "      <td>0.026972</td>\n",
       "    </tr>\n",
       "    <tr>\n",
       "      <th>age</th>\n",
       "      <td>-0.018861</td>\n",
       "      <td>0.154075</td>\n",
       "      <td>0.037755</td>\n",
       "      <td>0.050640</td>\n",
       "      <td>-0.125610</td>\n",
       "      <td>0.359757</td>\n",
       "      <td>0.040698</td>\n",
       "      <td>0.000158</td>\n",
       "      <td>0.265400</td>\n",
       "      <td>0.058511</td>\n",
       "      <td>1.000000</td>\n",
       "      <td>0.306957</td>\n",
       "      <td>0.137929</td>\n",
       "      <td>0.013174</td>\n",
       "      <td>0.131171</td>\n",
       "    </tr>\n",
       "    <tr>\n",
       "      <th>housng</th>\n",
       "      <td>0.153928</td>\n",
       "      <td>0.081694</td>\n",
       "      <td>0.094522</td>\n",
       "      <td>0.126361</td>\n",
       "      <td>-0.126930</td>\n",
       "      <td>0.215654</td>\n",
       "      <td>0.052457</td>\n",
       "      <td>0.105953</td>\n",
       "      <td>0.054197</td>\n",
       "      <td>0.354891</td>\n",
       "      <td>0.306957</td>\n",
       "      <td>1.000000</td>\n",
       "      <td>0.039837</td>\n",
       "      <td>0.133298</td>\n",
       "      <td>0.109210</td>\n",
       "    </tr>\n",
       "    <tr>\n",
       "      <th>numcred</th>\n",
       "      <td>-0.007308</td>\n",
       "      <td>0.436512</td>\n",
       "      <td>0.074690</td>\n",
       "      <td>0.038134</td>\n",
       "      <td>-0.065308</td>\n",
       "      <td>0.115225</td>\n",
       "      <td>0.044896</td>\n",
       "      <td>0.060637</td>\n",
       "      <td>0.061345</td>\n",
       "      <td>-0.019954</td>\n",
       "      <td>0.137929</td>\n",
       "      <td>0.039837</td>\n",
       "      <td>1.000000</td>\n",
       "      <td>-0.013308</td>\n",
       "      <td>0.095047</td>\n",
       "    </tr>\n",
       "    <tr>\n",
       "      <th>emptype</th>\n",
       "      <td>0.252479</td>\n",
       "      <td>0.025071</td>\n",
       "      <td>0.034516</td>\n",
       "      <td>0.282926</td>\n",
       "      <td>-0.373257</td>\n",
       "      <td>0.139594</td>\n",
       "      <td>0.113138</td>\n",
       "      <td>-0.010475</td>\n",
       "      <td>-0.011909</td>\n",
       "      <td>0.277565</td>\n",
       "      <td>0.013174</td>\n",
       "      <td>0.133298</td>\n",
       "      <td>-0.013308</td>\n",
       "      <td>1.000000</td>\n",
       "      <td>-0.056606</td>\n",
       "    </tr>\n",
       "    <tr>\n",
       "      <th>numliab</th>\n",
       "      <td>0.001114</td>\n",
       "      <td>0.028976</td>\n",
       "      <td>0.009255</td>\n",
       "      <td>0.044728</td>\n",
       "      <td>-0.019061</td>\n",
       "      <td>0.050709</td>\n",
       "      <td>-0.059866</td>\n",
       "      <td>0.113833</td>\n",
       "      <td>0.061044</td>\n",
       "      <td>0.026972</td>\n",
       "      <td>0.131171</td>\n",
       "      <td>0.109210</td>\n",
       "      <td>0.095047</td>\n",
       "      <td>-0.056606</td>\n",
       "      <td>1.000000</td>\n",
       "    </tr>\n",
       "  </tbody>\n",
       "</table>\n",
       "</div>"
      ],
      "text/plain": [
       "          duration     chist    reason      camt  telephne    lenemp  \\\n",
       "duration  1.000000 -0.076000  0.171482  0.615645 -0.180049  0.099967   \n",
       "chist    -0.076000  1.000000 -0.086105 -0.060558 -0.020915  0.130637   \n",
       "reason    0.171482 -0.086105  1.000000  0.141879 -0.116151  0.024089   \n",
       "camt      0.615645 -0.060558  0.141879  1.000000 -0.301887  0.088360   \n",
       "telephne -0.180049 -0.020915 -0.116151 -0.301887  1.000000 -0.137472   \n",
       "lenemp    0.099967  0.130637  0.024089  0.088360 -0.137472  1.000000   \n",
       "instrate  0.106123  0.019237  0.023723 -0.279371 -0.006466  0.052770   \n",
       "perstat   0.003897  0.048204 -0.007387 -0.026608  0.007861  0.060109   \n",
       "residlen  0.041850  0.013098  0.006902  0.027859 -0.087811  0.295321   \n",
       "prpownr   0.314577 -0.063783  0.055240  0.300961 -0.192984  0.181755   \n",
       "age      -0.018861  0.154075  0.037755  0.050640 -0.125610  0.359757   \n",
       "housng    0.153928  0.081694  0.094522  0.126361 -0.126930  0.215654   \n",
       "numcred  -0.007308  0.436512  0.074690  0.038134 -0.065308  0.115225   \n",
       "emptype   0.252479  0.025071  0.034516  0.282926 -0.373257  0.139594   \n",
       "numliab   0.001114  0.028976  0.009255  0.044728 -0.019061  0.050709   \n",
       "\n",
       "          instrate   perstat  residlen   prpownr       age    housng  \\\n",
       "duration  0.106123  0.003897  0.041850  0.314577 -0.018861  0.153928   \n",
       "chist     0.019237  0.048204  0.013098 -0.063783  0.154075  0.081694   \n",
       "reason    0.023723 -0.007387  0.006902  0.055240  0.037755  0.094522   \n",
       "camt     -0.279371 -0.026608  0.027859  0.300961  0.050640  0.126361   \n",
       "telephne -0.006466  0.007861 -0.087811 -0.192984 -0.125610 -0.126930   \n",
       "lenemp    0.052770  0.060109  0.295321  0.181755  0.359757  0.215654   \n",
       "instrate  1.000000  0.149039  0.058831  0.015850  0.040698  0.052457   \n",
       "perstat   0.149039  1.000000  0.005756 -0.010995  0.000158  0.105953   \n",
       "residlen  0.058831  0.005756  1.000000  0.131417  0.265400  0.054197   \n",
       "prpownr   0.015850 -0.010995  0.131417  1.000000  0.058511  0.354891   \n",
       "age       0.040698  0.000158  0.265400  0.058511  1.000000  0.306957   \n",
       "housng    0.052457  0.105953  0.054197  0.354891  0.306957  1.000000   \n",
       "numcred   0.044896  0.060637  0.061345 -0.019954  0.137929  0.039837   \n",
       "emptype   0.113138 -0.010475 -0.011909  0.277565  0.013174  0.133298   \n",
       "numliab  -0.059866  0.113833  0.061044  0.026972  0.131171  0.109210   \n",
       "\n",
       "           numcred   emptype   numliab  \n",
       "duration -0.007308  0.252479  0.001114  \n",
       "chist     0.436512  0.025071  0.028976  \n",
       "reason    0.074690  0.034516  0.009255  \n",
       "camt      0.038134  0.282926  0.044728  \n",
       "telephne -0.065308 -0.373257 -0.019061  \n",
       "lenemp    0.115225  0.139594  0.050709  \n",
       "instrate  0.044896  0.113138 -0.059866  \n",
       "perstat   0.060637 -0.010475  0.113833  \n",
       "residlen  0.061345 -0.011909  0.061044  \n",
       "prpownr  -0.019954  0.277565  0.026972  \n",
       "age       0.137929  0.013174  0.131171  \n",
       "housng    0.039837  0.133298  0.109210  \n",
       "numcred   1.000000 -0.013308  0.095047  \n",
       "emptype  -0.013308  1.000000 -0.056606  \n",
       "numliab   0.095047 -0.056606  1.000000  "
      ]
     },
     "execution_count": 18,
     "metadata": {},
     "output_type": "execute_result"
    }
   ],
   "source": [
    "df_corr=df_std.corr(method='pearson')\n",
    "df_corr"
   ]
  },
  {
   "cell_type": "code",
   "execution_count": 22,
   "metadata": {},
   "outputs": [
    {
     "data": {
      "text/plain": [
       "1570.825700088016"
      ]
     },
     "execution_count": 22,
     "metadata": {},
     "output_type": "execute_result"
    }
   ],
   "source": [
    "chi2 = -(n-1-(2*p+5)/6)*math.log(np.linalg.det(df_corr))\n",
    "chi2"
   ]
  },
  {
   "cell_type": "code",
   "execution_count": 23,
   "metadata": {},
   "outputs": [
    {
     "data": {
      "text/plain": [
       "105.0"
      ]
     },
     "execution_count": 23,
     "metadata": {},
     "output_type": "execute_result"
    }
   ],
   "source": [
    "gl=p*(p-1)/2\n",
    "gl"
   ]
  },
  {
   "cell_type": "code",
   "execution_count": 24,
   "metadata": {},
   "outputs": [
    {
     "data": {
      "text/plain": [
       "4.450897368743657e-260"
      ]
     },
     "execution_count": 24,
     "metadata": {},
     "output_type": "execute_result"
    }
   ],
   "source": [
    "pvalue=stats.chi2.pdf(chi2,gl)\n",
    "pvalue"
   ]
  },
  {
   "cell_type": "markdown",
   "metadata": {},
   "source": [
    "**_El p-value es menor al 0.05 por lo que rechazo H0 , por lo tanto las variables estan correlacionadas_**"
   ]
  },
  {
   "cell_type": "markdown",
   "metadata": {},
   "source": [
    "## **_Determinacion del numero de PCs_**"
   ]
  },
  {
   "cell_type": "code",
   "execution_count": 26,
   "metadata": {},
   "outputs": [],
   "source": [
    "#Construyendo la matriz varianza-covarianza\n",
    "cov_mat=np.cov(xtrain_std.T) #T es la transpuesta\n"
   ]
  },
  {
   "cell_type": "code",
   "execution_count": 27,
   "metadata": {},
   "outputs": [
    {
     "name": "stdout",
     "output_type": "stream",
     "text": [
      "[2.60578196 1.85372185 0.25381197 1.29084417 1.23590266 1.13647209\n",
      " 1.02547872 0.94670645 0.92180491 0.81141704 0.73721234 0.65968383\n",
      " 0.46793695 0.52060445 0.55407982]\n"
     ]
    }
   ],
   "source": [
    "autovalores, autovectores= np.linalg.eig(cov_mat)\n",
    "print(autovalores)"
   ]
  },
  {
   "cell_type": "code",
   "execution_count": 28,
   "metadata": {},
   "outputs": [
    {
     "data": {
      "text/plain": [
       "6"
      ]
     },
     "execution_count": 28,
     "metadata": {},
     "output_type": "execute_result"
    }
   ],
   "source": [
    "(autovalores>1).sum()"
   ]
  },
  {
   "cell_type": "code",
   "execution_count": 38,
   "metadata": {},
   "outputs": [
    {
     "name": "stdout",
     "output_type": "stream",
     "text": [
      "[2.6057819591643065, 1.8537218450626183, 1.2908441727878959, 1.2359026613221862, 1.1364720923711211, 1.0254787172833246, 0.9467064549049782, 0.9218049121494087, 0.8114170423145851, 0.7372123412746207, 0.6596838329100336, 0.5540798228410407, 0.5206044520296951, 0.4679369496192144, 0.25381197143276457]\n"
     ]
    }
   ],
   "source": [
    "print(sorted(autovalores, reverse=True)) #Para ordenar de mayor a menor"
   ]
  },
  {
   "cell_type": "code",
   "execution_count": 30,
   "metadata": {},
   "outputs": [
    {
     "data": {
      "text/plain": [
       "17.35"
      ]
     },
     "execution_count": 30,
     "metadata": {},
     "output_type": "execute_result"
    }
   ],
   "source": [
    "#Variabilidad PC1\n",
    "cp1=round(autovalores[0]*100/sum(autovalores),2)\n",
    "cp1"
   ]
  },
  {
   "cell_type": "markdown",
   "metadata": {},
   "source": [
    "**_Varianza Total y Explicada_**"
   ]
  },
  {
   "cell_type": "code",
   "execution_count": 32,
   "metadata": {},
   "outputs": [],
   "source": [
    "#Instanciando un objeto de la clase PCA\n",
    "pca=PCA() #Tantos PCA como variables originales\n",
    "xtrain_pca=pca.fit_transform(xtrain_std)"
   ]
  },
  {
   "cell_type": "code",
   "execution_count": 33,
   "metadata": {},
   "outputs": [
    {
     "data": {
      "text/plain": [
       "array([0.17347063, 0.12340491, 0.08593334, 0.08227581, 0.07565657,\n",
       "       0.06826758, 0.0630236 , 0.06136587, 0.05401719, 0.04907728,\n",
       "       0.0439161 , 0.03688589, 0.03465738, 0.03115123, 0.01689663])"
      ]
     },
     "execution_count": 33,
     "metadata": {},
     "output_type": "execute_result"
    }
   ],
   "source": [
    "varianzaexplicada=pca.explained_variance_ratio_\n",
    "varianzaexplicada"
   ]
  },
  {
   "cell_type": "code",
   "execution_count": 34,
   "metadata": {},
   "outputs": [
    {
     "data": {
      "text/plain": [
       "array([0.17347063, 0.29687554, 0.38280888, 0.46508469, 0.54074126,\n",
       "       0.60900884, 0.67203244, 0.73339831, 0.7874155 , 0.83649278,\n",
       "       0.88040888, 0.91729476, 0.95195214, 0.98310337, 1.        ])"
      ]
     },
     "execution_count": 34,
     "metadata": {},
     "output_type": "execute_result"
    }
   ],
   "source": [
    "varianzaacumulada=np.cumsum(varianzaexplicada)\n",
    "varianzaacumulada"
   ]
  },
  {
   "cell_type": "markdown",
   "metadata": {},
   "source": [
    "**_Grafico de Sedimentacion_**"
   ]
  },
  {
   "cell_type": "code",
   "execution_count": 36,
   "metadata": {},
   "outputs": [
    {
     "data": {
      "image/png": "[encoded data removed]",
      "text/plain": [
       "<Figure size 432x288 with 1 Axes>"
      ]
     },
     "metadata": {
      "needs_background": "light"
     },
     "output_type": "display_data"
    }
   ],
   "source": [
    "plt.bar(range(1,len(df_std.columns)+1),varianzaexplicada)\n",
    "plt.step(range(1,len(df_std.columns)+1),varianzaacumulada)\n",
    "plt.ylabel('Relacion de varianza explicada')\n",
    "plt.xlabel('Componentes principales')\n",
    "plt.title('Grafico de Sedimentacion')\n",
    "plt.show()"
   ]
  },
  {
   "cell_type": "markdown",
   "metadata": {},
   "source": [
    "## **_Generacion de Componentes Principales Scores_**"
   ]
  },
  {
   "cell_type": "code",
   "execution_count": 37,
   "metadata": {},
   "outputs": [
    {
     "name": "stdout",
     "output_type": "stream",
     "text": [
      "[[ 0.35795795  1.10780385 -0.89486923 -2.10952592  0.1728588  -0.55375747]\n",
      " [-0.03613045  1.37438029 -3.01414447  1.10505702 -2.31343319  0.41893548]\n",
      " [ 0.23539438 -2.47863684 -1.24410155  1.2967285  -0.4498906  -0.67519729]\n",
      " ...\n",
      " [-0.26722313  1.55996284 -1.11611171 -1.03340679 -1.49747433  0.28789643]\n",
      " [ 0.26367733  0.58187419 -0.58542376 -1.18396572 -0.7085735   0.23943327]\n",
      " [ 0.07236464  0.70268548  0.18042947 -1.17604042 -0.3782888   0.55785812]]\n"
     ]
    }
   ],
   "source": [
    "pca=PCA(n_components=6)\n",
    "x6comp=pca.fit_transform(xtrain_std)\n",
    "print(x6comp)"
   ]
  },
  {
   "cell_type": "code",
   "execution_count": 39,
   "metadata": {},
   "outputs": [
    {
     "data": {
      "text/html": [
       "<div>\n",
       "<style scoped>\n",
       "    .dataframe tbody tr th:only-of-type {\n",
       "        vertical-align: middle;\n",
       "    }\n",
       "\n",
       "    .dataframe tbody tr th {\n",
       "        vertical-align: top;\n",
       "    }\n",
       "\n",
       "    .dataframe thead th {\n",
       "        text-align: right;\n",
       "    }\n",
       "</style>\n",
       "<table border=\"1\" class=\"dataframe\">\n",
       "  <thead>\n",
       "    <tr style=\"text-align: right;\">\n",
       "      <th></th>\n",
       "      <th>PC1</th>\n",
       "      <th>PC2</th>\n",
       "      <th>PC3</th>\n",
       "      <th>PC4</th>\n",
       "      <th>PC5</th>\n",
       "      <th>PC6</th>\n",
       "      <th>Customer</th>\n",
       "    </tr>\n",
       "  </thead>\n",
       "  <tbody>\n",
       "    <tr>\n",
       "      <th>0</th>\n",
       "      <td>0.357958</td>\n",
       "      <td>1.107804</td>\n",
       "      <td>-0.894869</td>\n",
       "      <td>-2.109526</td>\n",
       "      <td>0.172859</td>\n",
       "      <td>-0.553757</td>\n",
       "      <td>1.0</td>\n",
       "    </tr>\n",
       "    <tr>\n",
       "      <th>1</th>\n",
       "      <td>-0.036130</td>\n",
       "      <td>1.374380</td>\n",
       "      <td>-3.014144</td>\n",
       "      <td>1.105057</td>\n",
       "      <td>-2.313433</td>\n",
       "      <td>0.418935</td>\n",
       "      <td>2.0</td>\n",
       "    </tr>\n",
       "    <tr>\n",
       "      <th>2</th>\n",
       "      <td>0.235394</td>\n",
       "      <td>-2.478637</td>\n",
       "      <td>-1.244102</td>\n",
       "      <td>1.296728</td>\n",
       "      <td>-0.449891</td>\n",
       "      <td>-0.675197</td>\n",
       "      <td>1.0</td>\n",
       "    </tr>\n",
       "    <tr>\n",
       "      <th>3</th>\n",
       "      <td>0.071459</td>\n",
       "      <td>-0.197860</td>\n",
       "      <td>-1.056150</td>\n",
       "      <td>1.563974</td>\n",
       "      <td>0.717678</td>\n",
       "      <td>2.345540</td>\n",
       "      <td>2.0</td>\n",
       "    </tr>\n",
       "    <tr>\n",
       "      <th>4</th>\n",
       "      <td>-0.765311</td>\n",
       "      <td>-0.414793</td>\n",
       "      <td>0.667308</td>\n",
       "      <td>-1.717680</td>\n",
       "      <td>0.566614</td>\n",
       "      <td>-0.350221</td>\n",
       "      <td>1.0</td>\n",
       "    </tr>\n",
       "    <tr>\n",
       "      <th>5</th>\n",
       "      <td>0.697097</td>\n",
       "      <td>-0.596313</td>\n",
       "      <td>2.116030</td>\n",
       "      <td>-0.464408</td>\n",
       "      <td>0.083032</td>\n",
       "      <td>0.387817</td>\n",
       "      <td>2.0</td>\n",
       "    </tr>\n",
       "    <tr>\n",
       "      <th>6</th>\n",
       "      <td>-0.488380</td>\n",
       "      <td>1.573986</td>\n",
       "      <td>-0.216953</td>\n",
       "      <td>-0.525241</td>\n",
       "      <td>-1.227563</td>\n",
       "      <td>-0.261965</td>\n",
       "      <td>1.0</td>\n",
       "    </tr>\n",
       "    <tr>\n",
       "      <th>7</th>\n",
       "      <td>-0.444082</td>\n",
       "      <td>-1.067414</td>\n",
       "      <td>1.180356</td>\n",
       "      <td>-0.938877</td>\n",
       "      <td>-0.241765</td>\n",
       "      <td>0.542838</td>\n",
       "      <td>1.0</td>\n",
       "    </tr>\n",
       "    <tr>\n",
       "      <th>8</th>\n",
       "      <td>2.047943</td>\n",
       "      <td>0.365126</td>\n",
       "      <td>2.088276</td>\n",
       "      <td>-0.651831</td>\n",
       "      <td>-0.242252</td>\n",
       "      <td>-0.788406</td>\n",
       "      <td>1.0</td>\n",
       "    </tr>\n",
       "    <tr>\n",
       "      <th>9</th>\n",
       "      <td>-2.583473</td>\n",
       "      <td>-0.380457</td>\n",
       "      <td>0.404785</td>\n",
       "      <td>0.411982</td>\n",
       "      <td>-0.091772</td>\n",
       "      <td>0.307833</td>\n",
       "      <td>2.0</td>\n",
       "    </tr>\n",
       "  </tbody>\n",
       "</table>\n",
       "</div>"
      ],
      "text/plain": [
       "        PC1       PC2       PC3       PC4       PC5       PC6  Customer\n",
       "0  0.357958  1.107804 -0.894869 -2.109526  0.172859 -0.553757       1.0\n",
       "1 -0.036130  1.374380 -3.014144  1.105057 -2.313433  0.418935       2.0\n",
       "2  0.235394 -2.478637 -1.244102  1.296728 -0.449891 -0.675197       1.0\n",
       "3  0.071459 -0.197860 -1.056150  1.563974  0.717678  2.345540       2.0\n",
       "4 -0.765311 -0.414793  0.667308 -1.717680  0.566614 -0.350221       1.0\n",
       "5  0.697097 -0.596313  2.116030 -0.464408  0.083032  0.387817       2.0\n",
       "6 -0.488380  1.573986 -0.216953 -0.525241 -1.227563 -0.261965       1.0\n",
       "7 -0.444082 -1.067414  1.180356 -0.938877 -0.241765  0.542838       1.0\n",
       "8  2.047943  0.365126  2.088276 -0.651831 -0.242252 -0.788406       1.0\n",
       "9 -2.583473 -0.380457  0.404785  0.411982 -0.091772  0.307833       2.0"
      ]
     },
     "execution_count": 39,
     "metadata": {},
     "output_type": "execute_result"
    }
   ],
   "source": [
    "df_x=pd.DataFrame(x6comp,columns=['PC1','PC2','PC3','PC4','PC5','PC6'])\n",
    "df_x['Customer']=ytrain\n",
    "df_x.head(10)"
   ]
  },
  {
   "cell_type": "markdown",
   "metadata": {},
   "source": [
    "# **_TEMA 10. ANALISIS FACTORIAL_**"
   ]
  },
  {
   "cell_type": "markdown",
   "metadata": {},
   "source": [
    "Trata de detectar si hay variables latentes no observadas que explican el comportamiento de los datos por detras, \n",
    "la diferencia con el analisis de componentes es que en el analisis factorial existe un modelo por detras"
   ]
  },
  {
   "cell_type": "code",
   "execution_count": 40,
   "metadata": {},
   "outputs": [],
   "source": [
    "from sklearn.decomposition import FactorAnalysis"
   ]
  },
  {
   "cell_type": "code",
   "execution_count": 41,
   "metadata": {},
   "outputs": [
    {
     "data": {
      "text/html": [
       "<div>\n",
       "<style scoped>\n",
       "    .dataframe tbody tr th:only-of-type {\n",
       "        vertical-align: middle;\n",
       "    }\n",
       "\n",
       "    .dataframe tbody tr th {\n",
       "        vertical-align: top;\n",
       "    }\n",
       "\n",
       "    .dataframe thead th {\n",
       "        text-align: right;\n",
       "    }\n",
       "</style>\n",
       "<table border=\"1\" class=\"dataframe\">\n",
       "  <thead>\n",
       "    <tr style=\"text-align: right;\">\n",
       "      <th></th>\n",
       "      <th>Class label</th>\n",
       "      <th>Alcohol</th>\n",
       "      <th>Malic acid</th>\n",
       "      <th>Ash</th>\n",
       "      <th>Alcalinity of ash</th>\n",
       "      <th>Magnesium</th>\n",
       "      <th>Total phenols</th>\n",
       "      <th>Flavanoids</th>\n",
       "      <th>Nonflavanoid phenols</th>\n",
       "      <th>Proanthocyanins</th>\n",
       "      <th>Color intensity</th>\n",
       "      <th>Hue</th>\n",
       "      <th>OD280/OD315 of diluted wines</th>\n",
       "      <th>Proline</th>\n",
       "    </tr>\n",
       "  </thead>\n",
       "  <tbody>\n",
       "    <tr>\n",
       "      <th>0</th>\n",
       "      <td>1</td>\n",
       "      <td>14.23</td>\n",
       "      <td>1.71</td>\n",
       "      <td>2.43</td>\n",
       "      <td>15.6</td>\n",
       "      <td>127</td>\n",
       "      <td>2.80</td>\n",
       "      <td>3.06</td>\n",
       "      <td>0.28</td>\n",
       "      <td>2.29</td>\n",
       "      <td>5.64</td>\n",
       "      <td>1.04</td>\n",
       "      <td>3.92</td>\n",
       "      <td>1065</td>\n",
       "    </tr>\n",
       "    <tr>\n",
       "      <th>1</th>\n",
       "      <td>1</td>\n",
       "      <td>13.20</td>\n",
       "      <td>1.78</td>\n",
       "      <td>2.14</td>\n",
       "      <td>11.2</td>\n",
       "      <td>100</td>\n",
       "      <td>2.65</td>\n",
       "      <td>2.76</td>\n",
       "      <td>0.26</td>\n",
       "      <td>1.28</td>\n",
       "      <td>4.38</td>\n",
       "      <td>1.05</td>\n",
       "      <td>3.40</td>\n",
       "      <td>1050</td>\n",
       "    </tr>\n",
       "    <tr>\n",
       "      <th>2</th>\n",
       "      <td>1</td>\n",
       "      <td>13.16</td>\n",
       "      <td>2.36</td>\n",
       "      <td>2.67</td>\n",
       "      <td>18.6</td>\n",
       "      <td>101</td>\n",
       "      <td>2.80</td>\n",
       "      <td>3.24</td>\n",
       "      <td>0.30</td>\n",
       "      <td>2.81</td>\n",
       "      <td>5.68</td>\n",
       "      <td>1.03</td>\n",
       "      <td>3.17</td>\n",
       "      <td>1185</td>\n",
       "    </tr>\n",
       "    <tr>\n",
       "      <th>3</th>\n",
       "      <td>1</td>\n",
       "      <td>14.37</td>\n",
       "      <td>1.95</td>\n",
       "      <td>2.50</td>\n",
       "      <td>16.8</td>\n",
       "      <td>113</td>\n",
       "      <td>3.85</td>\n",
       "      <td>3.49</td>\n",
       "      <td>0.24</td>\n",
       "      <td>2.18</td>\n",
       "      <td>7.80</td>\n",
       "      <td>0.86</td>\n",
       "      <td>3.45</td>\n",
       "      <td>1480</td>\n",
       "    </tr>\n",
       "    <tr>\n",
       "      <th>4</th>\n",
       "      <td>1</td>\n",
       "      <td>13.24</td>\n",
       "      <td>2.59</td>\n",
       "      <td>2.87</td>\n",
       "      <td>21.0</td>\n",
       "      <td>118</td>\n",
       "      <td>2.80</td>\n",
       "      <td>2.69</td>\n",
       "      <td>0.39</td>\n",
       "      <td>1.82</td>\n",
       "      <td>4.32</td>\n",
       "      <td>1.04</td>\n",
       "      <td>2.93</td>\n",
       "      <td>735</td>\n",
       "    </tr>\n",
       "  </tbody>\n",
       "</table>\n",
       "</div>"
      ],
      "text/plain": [
       "   Class label  Alcohol  Malic acid   Ash  Alcalinity of ash  Magnesium  \\\n",
       "0            1    14.23        1.71  2.43               15.6        127   \n",
       "1            1    13.20        1.78  2.14               11.2        100   \n",
       "2            1    13.16        2.36  2.67               18.6        101   \n",
       "3            1    14.37        1.95  2.50               16.8        113   \n",
       "4            1    13.24        2.59  2.87               21.0        118   \n",
       "\n",
       "   Total phenols  Flavanoids  Nonflavanoid phenols  Proanthocyanins  \\\n",
       "0           2.80        3.06                  0.28             2.29   \n",
       "1           2.65        2.76                  0.26             1.28   \n",
       "2           2.80        3.24                  0.30             2.81   \n",
       "3           3.85        3.49                  0.24             2.18   \n",
       "4           2.80        2.69                  0.39             1.82   \n",
       "\n",
       "   Color intensity   Hue  OD280/OD315 of diluted wines  Proline  \n",
       "0             5.64  1.04                          3.92     1065  \n",
       "1             4.38  1.05                          3.40     1050  \n",
       "2             5.68  1.03                          3.17     1185  \n",
       "3             7.80  0.86                          3.45     1480  \n",
       "4             4.32  1.04                          2.93      735  "
      ]
     },
     "execution_count": 41,
     "metadata": {},
     "output_type": "execute_result"
    }
   ],
   "source": [
    "#Cargando la data y colocando el  nombre de las columnas \n",
    "miArchivo=\"wine.data\"\n",
    "df_wine=pd.read_csv(miArchivo,header=None)\n",
    "df_wine.columns = ['Class label', 'Alcohol', 'Malic acid', 'Ash',\n",
    "                   'Alcalinity of ash', 'Magnesium', 'Total phenols',\n",
    "                   'Flavanoids', 'Nonflavanoid phenols', 'Proanthocyanins',\n",
    "                   'Color intensity', 'Hue',\n",
    "                   'OD280/OD315 of diluted wines', 'Proline']\n",
    "df_wine.head()"
   ]
  },
  {
   "cell_type": "code",
   "execution_count": 45,
   "metadata": {},
   "outputs": [],
   "source": [
    "#Estableciendo nuestra matriz de datos X y target Y\n",
    "x=df_wine.iloc[:,1:].values\n",
    "y=df_wine.iloc[:,0].values\n",
    "\n",
    "#Dividir o particionar los datos\n",
    "xtrain,xtest,ytrain,ytest=train_test_split(x,y,test_size=0.3,random_state=0,stratify=y)\n"
   ]
  },
  {
   "cell_type": "code",
   "execution_count": 46,
   "metadata": {},
   "outputs": [],
   "source": [
    "#Escalamiento de las Variables\n",
    "sc=StandardScaler()\n",
    "xtrain_std=sc.fit_transform(xtrain)\n",
    "xtest_std=sc.transform(xtest)"
   ]
  },
  {
   "cell_type": "code",
   "execution_count": 49,
   "metadata": {},
   "outputs": [],
   "source": [
    "FA=FactorAnalysis()\n",
    "xtrainFA=FA.fit(xtrain_std)"
   ]
  },
  {
   "cell_type": "code",
   "execution_count": 50,
   "metadata": {},
   "outputs": [
    {
     "data": {
      "text/plain": [
       "array([[-2.68398795e-01,  4.78267922e-01, -8.23434764e-02,\n",
       "         3.89619362e-01, -2.80493395e-01, -8.48027518e-01,\n",
       "        -8.96695560e-01,  6.10593544e-01, -6.34124632e-01,\n",
       "         1.77666823e-01, -6.72551278e-01, -7.98880917e-01,\n",
       "        -5.95473936e-01],\n",
       "       [ 7.01476029e-01,  1.78412796e-01,  2.63041773e-01,\n",
       "        -2.28848343e-01,  3.51196978e-01,  7.72534972e-02,\n",
       "        -1.90598515e-02,  1.00562271e-01,  2.22408351e-02,\n",
       "         7.52555988e-01, -2.59878489e-01, -3.41463147e-01,\n",
       "         5.52834465e-01],\n",
       "       [-7.61801772e-02,  1.62225043e-01,  6.55477450e-01,\n",
       "         6.00167810e-01,  1.51567033e-01,  1.33712377e-01,\n",
       "         9.11337260e-02,  1.81671002e-01,  2.64162505e-02,\n",
       "         2.06370030e-02, -3.92249922e-02,  7.33103165e-02,\n",
       "        -6.73110647e-02],\n",
       "       [-4.73323851e-02,  2.70658477e-01, -1.34998350e-01,\n",
       "        -1.92209263e-02, -1.63701363e-01,  1.18296185e-01,\n",
       "         7.84306206e-02, -4.09230845e-02,  2.85458651e-01,\n",
       "         1.14959202e-01, -2.98859200e-01,  3.87892038e-02,\n",
       "        -1.47433193e-01],\n",
       "       [-1.10134236e-01, -4.54221971e-02, -1.04796743e-02,\n",
       "         3.70167644e-02,  2.95922846e-01, -4.94769201e-02,\n",
       "        -3.33950713e-02, -2.36901930e-01,  6.59707340e-02,\n",
       "         1.99064358e-02, -7.67972096e-02, -2.27760852e-02,\n",
       "        -8.04604503e-03],\n",
       "       [-5.16441000e-02, -1.13917847e-01, -3.80534963e-05,\n",
       "        -4.27717043e-03, -3.72694575e-03,  1.17930866e-02,\n",
       "         7.72980315e-03,  5.96149653e-02,  5.93641555e-02,\n",
       "         5.26704143e-02,  5.97280992e-03, -3.31776396e-02,\n",
       "        -1.60664871e-02],\n",
       "       [-0.00000000e+00,  0.00000000e+00, -0.00000000e+00,\n",
       "        -0.00000000e+00,  0.00000000e+00,  0.00000000e+00,\n",
       "        -0.00000000e+00,  0.00000000e+00,  0.00000000e+00,\n",
       "        -0.00000000e+00,  0.00000000e+00, -0.00000000e+00,\n",
       "         0.00000000e+00],\n",
       "       [-0.00000000e+00, -0.00000000e+00,  0.00000000e+00,\n",
       "        -0.00000000e+00,  0.00000000e+00,  0.00000000e+00,\n",
       "         0.00000000e+00,  0.00000000e+00, -0.00000000e+00,\n",
       "        -0.00000000e+00, -0.00000000e+00,  0.00000000e+00,\n",
       "        -0.00000000e+00],\n",
       "       [ 0.00000000e+00, -0.00000000e+00, -0.00000000e+00,\n",
       "         0.00000000e+00,  0.00000000e+00,  0.00000000e+00,\n",
       "        -0.00000000e+00,  0.00000000e+00, -0.00000000e+00,\n",
       "         0.00000000e+00,  0.00000000e+00,  0.00000000e+00,\n",
       "        -0.00000000e+00],\n",
       "       [-0.00000000e+00,  0.00000000e+00, -0.00000000e+00,\n",
       "         0.00000000e+00, -0.00000000e+00,  0.00000000e+00,\n",
       "        -0.00000000e+00,  0.00000000e+00, -0.00000000e+00,\n",
       "         0.00000000e+00, -0.00000000e+00,  0.00000000e+00,\n",
       "         0.00000000e+00],\n",
       "       [ 0.00000000e+00, -0.00000000e+00,  0.00000000e+00,\n",
       "        -0.00000000e+00,  0.00000000e+00, -0.00000000e+00,\n",
       "        -0.00000000e+00,  0.00000000e+00,  0.00000000e+00,\n",
       "        -0.00000000e+00, -0.00000000e+00,  0.00000000e+00,\n",
       "         0.00000000e+00],\n",
       "       [-0.00000000e+00,  0.00000000e+00, -0.00000000e+00,\n",
       "        -0.00000000e+00,  0.00000000e+00, -0.00000000e+00,\n",
       "         0.00000000e+00,  0.00000000e+00, -0.00000000e+00,\n",
       "         0.00000000e+00,  0.00000000e+00,  0.00000000e+00,\n",
       "        -0.00000000e+00],\n",
       "       [ 0.00000000e+00, -0.00000000e+00, -0.00000000e+00,\n",
       "         0.00000000e+00,  0.00000000e+00, -0.00000000e+00,\n",
       "         0.00000000e+00,  0.00000000e+00, -0.00000000e+00,\n",
       "        -0.00000000e+00, -0.00000000e+00, -0.00000000e+00,\n",
       "         0.00000000e+00]])"
      ]
     },
     "execution_count": 50,
     "metadata": {},
     "output_type": "execute_result"
    }
   ],
   "source": [
    "xtrainFA.components_"
   ]
  },
  {
   "cell_type": "code",
   "execution_count": 51,
   "metadata": {},
   "outputs": [
    {
     "data": {
      "text/html": [
       "<div>\n",
       "<style scoped>\n",
       "    .dataframe tbody tr th:only-of-type {\n",
       "        vertical-align: middle;\n",
       "    }\n",
       "\n",
       "    .dataframe tbody tr th {\n",
       "        vertical-align: top;\n",
       "    }\n",
       "\n",
       "    .dataframe thead th {\n",
       "        text-align: right;\n",
       "    }\n",
       "</style>\n",
       "<table border=\"1\" class=\"dataframe\">\n",
       "  <thead>\n",
       "    <tr style=\"text-align: right;\">\n",
       "      <th></th>\n",
       "      <th>F1</th>\n",
       "      <th>F2</th>\n",
       "      <th>F3</th>\n",
       "      <th>F4</th>\n",
       "      <th>F5</th>\n",
       "      <th>F6</th>\n",
       "    </tr>\n",
       "  </thead>\n",
       "  <tbody>\n",
       "    <tr>\n",
       "      <th>0</th>\n",
       "      <td>0.926144</td>\n",
       "      <td>0.438051</td>\n",
       "      <td>-0.298116</td>\n",
       "      <td>-0.832909</td>\n",
       "      <td>0.049138</td>\n",
       "      <td>1.303291</td>\n",
       "    </tr>\n",
       "    <tr>\n",
       "      <th>1</th>\n",
       "      <td>-0.827139</td>\n",
       "      <td>1.044580</td>\n",
       "      <td>0.840598</td>\n",
       "      <td>-1.669089</td>\n",
       "      <td>-0.187766</td>\n",
       "      <td>-0.579737</td>\n",
       "    </tr>\n",
       "    <tr>\n",
       "      <th>2</th>\n",
       "      <td>-1.157387</td>\n",
       "      <td>0.913191</td>\n",
       "      <td>0.678383</td>\n",
       "      <td>-0.221260</td>\n",
       "      <td>0.421297</td>\n",
       "      <td>-0.492270</td>\n",
       "    </tr>\n",
       "    <tr>\n",
       "      <th>3</th>\n",
       "      <td>-0.618607</td>\n",
       "      <td>0.510692</td>\n",
       "      <td>0.416441</td>\n",
       "      <td>-0.365276</td>\n",
       "      <td>1.150223</td>\n",
       "      <td>-0.062673</td>\n",
       "    </tr>\n",
       "    <tr>\n",
       "      <th>4</th>\n",
       "      <td>1.562971</td>\n",
       "      <td>0.171224</td>\n",
       "      <td>-0.429065</td>\n",
       "      <td>-0.732824</td>\n",
       "      <td>-1.136277</td>\n",
       "      <td>-1.038941</td>\n",
       "    </tr>\n",
       "  </tbody>\n",
       "</table>\n",
       "</div>"
      ],
      "text/plain": [
       "         F1        F2        F3        F4        F5        F6\n",
       "0  0.926144  0.438051 -0.298116 -0.832909  0.049138  1.303291\n",
       "1 -0.827139  1.044580  0.840598 -1.669089 -0.187766 -0.579737\n",
       "2 -1.157387  0.913191  0.678383 -0.221260  0.421297 -0.492270\n",
       "3 -0.618607  0.510692  0.416441 -0.365276  1.150223 -0.062673\n",
       "4  1.562971  0.171224 -0.429065 -0.732824 -1.136277 -1.038941"
      ]
     },
     "execution_count": 51,
     "metadata": {},
     "output_type": "execute_result"
    }
   ],
   "source": [
    "FA=FactorAnalysis(n_components=6, \n",
    "                  random_state=2020)\n",
    "xtrain_F6=FA.fit_transform(xtrain_std)\n",
    "xtrain_F6=pd.DataFrame(xtrain_F6, columns=['F1','F2','F3','F4','F5','F6'])\n",
    "xtrain_F6.head()"
   ]
  },
  {
   "cell_type": "markdown",
   "metadata": {},
   "source": [
    "## Trabajando con Factor_Analyzer"
   ]
  },
  {
   "cell_type": "code",
   "execution_count": 53,
   "metadata": {},
   "outputs": [],
   "source": [
    "#pip install factor_analyzer"
   ]
  },
  {
   "cell_type": "code",
   "execution_count": 54,
   "metadata": {},
   "outputs": [],
   "source": [
    "from factor_analyzer import FactorAnalyzer\n",
    "from factor_analyzer.factor_analyzer import calculate_bartlett_sphericity\n",
    "from factor_analyzer.factor_analyzer import calculate_kmo"
   ]
  },
  {
   "cell_type": "code",
   "execution_count": 55,
   "metadata": {},
   "outputs": [
    {
     "data": {
      "text/html": [
       "<div>\n",
       "<style scoped>\n",
       "    .dataframe tbody tr th:only-of-type {\n",
       "        vertical-align: middle;\n",
       "    }\n",
       "\n",
       "    .dataframe tbody tr th {\n",
       "        vertical-align: top;\n",
       "    }\n",
       "\n",
       "    .dataframe thead th {\n",
       "        text-align: right;\n",
       "    }\n",
       "</style>\n",
       "<table border=\"1\" class=\"dataframe\">\n",
       "  <thead>\n",
       "    <tr style=\"text-align: right;\">\n",
       "      <th></th>\n",
       "      <th>Name</th>\n",
       "      <th>GP</th>\n",
       "      <th>MIN</th>\n",
       "      <th>PTS</th>\n",
       "      <th>FGM</th>\n",
       "      <th>FGA</th>\n",
       "      <th>FG%</th>\n",
       "      <th>3P Made</th>\n",
       "      <th>3PA</th>\n",
       "      <th>3P%</th>\n",
       "      <th>...</th>\n",
       "      <th>FTA</th>\n",
       "      <th>FT%</th>\n",
       "      <th>OREB</th>\n",
       "      <th>DREB</th>\n",
       "      <th>REB</th>\n",
       "      <th>AST</th>\n",
       "      <th>STL</th>\n",
       "      <th>BLK</th>\n",
       "      <th>TOV</th>\n",
       "      <th>TARGET_5Yrs</th>\n",
       "    </tr>\n",
       "  </thead>\n",
       "  <tbody>\n",
       "    <tr>\n",
       "      <th>0</th>\n",
       "      <td>Brandon Ingram</td>\n",
       "      <td>36</td>\n",
       "      <td>27.4</td>\n",
       "      <td>7.4</td>\n",
       "      <td>2.6</td>\n",
       "      <td>7.6</td>\n",
       "      <td>34.7</td>\n",
       "      <td>0.5</td>\n",
       "      <td>2.1</td>\n",
       "      <td>25.0</td>\n",
       "      <td>...</td>\n",
       "      <td>2.3</td>\n",
       "      <td>69.9</td>\n",
       "      <td>0.7</td>\n",
       "      <td>3.4</td>\n",
       "      <td>4.1</td>\n",
       "      <td>1.9</td>\n",
       "      <td>0.4</td>\n",
       "      <td>0.4</td>\n",
       "      <td>1.3</td>\n",
       "      <td>0.0</td>\n",
       "    </tr>\n",
       "    <tr>\n",
       "      <th>1</th>\n",
       "      <td>Andrew Harrison</td>\n",
       "      <td>35</td>\n",
       "      <td>26.9</td>\n",
       "      <td>7.2</td>\n",
       "      <td>2.0</td>\n",
       "      <td>6.7</td>\n",
       "      <td>29.6</td>\n",
       "      <td>0.7</td>\n",
       "      <td>2.8</td>\n",
       "      <td>23.5</td>\n",
       "      <td>...</td>\n",
       "      <td>3.4</td>\n",
       "      <td>76.5</td>\n",
       "      <td>0.5</td>\n",
       "      <td>2.0</td>\n",
       "      <td>2.4</td>\n",
       "      <td>3.7</td>\n",
       "      <td>1.1</td>\n",
       "      <td>0.5</td>\n",
       "      <td>1.6</td>\n",
       "      <td>0.0</td>\n",
       "    </tr>\n",
       "    <tr>\n",
       "      <th>2</th>\n",
       "      <td>JaKarr Sampson</td>\n",
       "      <td>74</td>\n",
       "      <td>15.3</td>\n",
       "      <td>5.2</td>\n",
       "      <td>2.0</td>\n",
       "      <td>4.7</td>\n",
       "      <td>42.2</td>\n",
       "      <td>0.4</td>\n",
       "      <td>1.7</td>\n",
       "      <td>24.4</td>\n",
       "      <td>...</td>\n",
       "      <td>1.3</td>\n",
       "      <td>67.0</td>\n",
       "      <td>0.5</td>\n",
       "      <td>1.7</td>\n",
       "      <td>2.2</td>\n",
       "      <td>1.0</td>\n",
       "      <td>0.5</td>\n",
       "      <td>0.3</td>\n",
       "      <td>1.0</td>\n",
       "      <td>0.0</td>\n",
       "    </tr>\n",
       "    <tr>\n",
       "      <th>3</th>\n",
       "      <td>Malik Sealy</td>\n",
       "      <td>58</td>\n",
       "      <td>11.6</td>\n",
       "      <td>5.7</td>\n",
       "      <td>2.3</td>\n",
       "      <td>5.5</td>\n",
       "      <td>42.6</td>\n",
       "      <td>0.1</td>\n",
       "      <td>0.5</td>\n",
       "      <td>22.6</td>\n",
       "      <td>...</td>\n",
       "      <td>1.3</td>\n",
       "      <td>68.9</td>\n",
       "      <td>1.0</td>\n",
       "      <td>0.9</td>\n",
       "      <td>1.9</td>\n",
       "      <td>0.8</td>\n",
       "      <td>0.6</td>\n",
       "      <td>0.1</td>\n",
       "      <td>1.0</td>\n",
       "      <td>1.0</td>\n",
       "    </tr>\n",
       "    <tr>\n",
       "      <th>4</th>\n",
       "      <td>Matt Geiger</td>\n",
       "      <td>48</td>\n",
       "      <td>11.5</td>\n",
       "      <td>4.5</td>\n",
       "      <td>1.6</td>\n",
       "      <td>3.0</td>\n",
       "      <td>52.4</td>\n",
       "      <td>0.0</td>\n",
       "      <td>0.1</td>\n",
       "      <td>0.0</td>\n",
       "      <td>...</td>\n",
       "      <td>1.9</td>\n",
       "      <td>67.4</td>\n",
       "      <td>1.0</td>\n",
       "      <td>1.5</td>\n",
       "      <td>2.5</td>\n",
       "      <td>0.3</td>\n",
       "      <td>0.3</td>\n",
       "      <td>0.4</td>\n",
       "      <td>0.8</td>\n",
       "      <td>1.0</td>\n",
       "    </tr>\n",
       "  </tbody>\n",
       "</table>\n",
       "<p>5 rows × 21 columns</p>\n",
       "</div>"
      ],
      "text/plain": [
       "              Name  GP   MIN  PTS  FGM  FGA   FG%  3P Made  3PA   3P%  ...  \\\n",
       "0   Brandon Ingram  36  27.4  7.4  2.6  7.6  34.7      0.5  2.1  25.0  ...   \n",
       "1  Andrew Harrison  35  26.9  7.2  2.0  6.7  29.6      0.7  2.8  23.5  ...   \n",
       "2   JaKarr Sampson  74  15.3  5.2  2.0  4.7  42.2      0.4  1.7  24.4  ...   \n",
       "3      Malik Sealy  58  11.6  5.7  2.3  5.5  42.6      0.1  0.5  22.6  ...   \n",
       "4      Matt Geiger  48  11.5  4.5  1.6  3.0  52.4      0.0  0.1   0.0  ...   \n",
       "\n",
       "   FTA   FT%  OREB  DREB  REB  AST  STL  BLK  TOV  TARGET_5Yrs  \n",
       "0  2.3  69.9   0.7   3.4  4.1  1.9  0.4  0.4  1.3          0.0  \n",
       "1  3.4  76.5   0.5   2.0  2.4  3.7  1.1  0.5  1.6          0.0  \n",
       "2  1.3  67.0   0.5   1.7  2.2  1.0  0.5  0.3  1.0          0.0  \n",
       "3  1.3  68.9   1.0   0.9  1.9  0.8  0.6  0.1  1.0          1.0  \n",
       "4  1.9  67.4   1.0   1.5  2.5  0.3  0.3  0.4  0.8          1.0  \n",
       "\n",
       "[5 rows x 21 columns]"
      ]
     },
     "execution_count": 55,
     "metadata": {},
     "output_type": "execute_result"
    }
   ],
   "source": [
    "#Importando un archivo de trabajo \n",
    "miarchivo=\"nba_logreg2.csv\"\n",
    "df_nba=pd.read_csv(miarchivo, sep=';')\n",
    "df_nba.head()"
   ]
  },
  {
   "cell_type": "code",
   "execution_count": 56,
   "metadata": {},
   "outputs": [
    {
     "name": "stdout",
     "output_type": "stream",
     "text": [
      "<class 'pandas.core.frame.DataFrame'>\n",
      "RangeIndex: 1329 entries, 0 to 1328\n",
      "Data columns (total 21 columns):\n",
      " #   Column       Non-Null Count  Dtype  \n",
      "---  ------       --------------  -----  \n",
      " 0   Name         1329 non-null   object \n",
      " 1   GP           1329 non-null   int64  \n",
      " 2   MIN          1329 non-null   float64\n",
      " 3   PTS          1329 non-null   float64\n",
      " 4   FGM          1329 non-null   float64\n",
      " 5   FGA          1329 non-null   float64\n",
      " 6   FG%          1329 non-null   float64\n",
      " 7   3P Made      1329 non-null   float64\n",
      " 8   3PA          1329 non-null   float64\n",
      " 9   3P%          1329 non-null   float64\n",
      " 10  FTM          1329 non-null   float64\n",
      " 11  FTA          1329 non-null   float64\n",
      " 12  FT%          1329 non-null   float64\n",
      " 13  OREB         1329 non-null   float64\n",
      " 14  DREB         1329 non-null   float64\n",
      " 15  REB          1329 non-null   float64\n",
      " 16  AST          1329 non-null   float64\n",
      " 17  STL          1329 non-null   float64\n",
      " 18  BLK          1329 non-null   float64\n",
      " 19  TOV          1329 non-null   float64\n",
      " 20  TARGET_5Yrs  1329 non-null   float64\n",
      "dtypes: float64(19), int64(1), object(1)\n",
      "memory usage: 218.2+ KB\n"
     ]
    }
   ],
   "source": [
    "df_nba.info()"
   ]
  },
  {
   "cell_type": "code",
   "execution_count": 57,
   "metadata": {},
   "outputs": [],
   "source": [
    "#Cambiando el tipo de variable para el dtarget\n",
    "df_nba['TARGET_5Yrs']=df_nba['TARGET_5Yrs'].astype(\"int64\")"
   ]
  },
  {
   "cell_type": "code",
   "execution_count": 58,
   "metadata": {},
   "outputs": [
    {
     "data": {
      "text/plain": [
       "Index(['Name', 'GP', 'MIN', 'PTS', 'FGM', 'FGA', 'FG%', '3P Made', '3PA',\n",
       "       '3P%', 'FTM', 'FTA', 'FT%', 'OREB', 'DREB', 'REB', 'AST', 'STL', 'BLK',\n",
       "       'TOV', 'TARGET_5Yrs'],\n",
       "      dtype='object')"
      ]
     },
     "execution_count": 58,
     "metadata": {},
     "output_type": "execute_result"
    }
   ],
   "source": [
    "df_nba.columns"
   ]
  },
  {
   "cell_type": "code",
   "execution_count": 69,
   "metadata": {},
   "outputs": [],
   "source": [
    "variables= ['GP', 'MIN', 'PTS', 'FGM', 'FGA', 'FG%', '3P Made', '3PA',\n",
    "       '3P%', 'FTM', 'FTA', 'FT%', 'OREB', 'DREB', 'REB', 'AST', 'STL', 'BLK',\n",
    "       'TOV']"
   ]
  },
  {
   "cell_type": "code",
   "execution_count": 70,
   "metadata": {},
   "outputs": [],
   "source": [
    "x=df_nba.loc[:,variables]\n",
    "y=df_nba['TARGET_5Yrs']\n",
    "\n",
    "#Dividir o particionar los datos\n",
    "xtrain,xtest,ytrain,ytest=train_test_split(x,y,test_size=0.3,random_state=0,stratify=y)\n"
   ]
  },
  {
   "cell_type": "code",
   "execution_count": 71,
   "metadata": {},
   "outputs": [],
   "source": [
    "#Escalamiento de las Variables\n",
    "sc=StandardScaler()\n",
    "xtrain_std=sc.fit_transform(xtrain)\n",
    "xtest_std=sc.transform(xtest)"
   ]
  },
  {
   "cell_type": "code",
   "execution_count": 72,
   "metadata": {},
   "outputs": [
    {
     "data": {
      "text/html": [
       "<div>\n",
       "<style scoped>\n",
       "    .dataframe tbody tr th:only-of-type {\n",
       "        vertical-align: middle;\n",
       "    }\n",
       "\n",
       "    .dataframe tbody tr th {\n",
       "        vertical-align: top;\n",
       "    }\n",
       "\n",
       "    .dataframe thead th {\n",
       "        text-align: right;\n",
       "    }\n",
       "</style>\n",
       "<table border=\"1\" class=\"dataframe\">\n",
       "  <thead>\n",
       "    <tr style=\"text-align: right;\">\n",
       "      <th></th>\n",
       "      <th>GP</th>\n",
       "      <th>MIN</th>\n",
       "      <th>PTS</th>\n",
       "      <th>FGM</th>\n",
       "      <th>FGA</th>\n",
       "      <th>FG%</th>\n",
       "      <th>3P Made</th>\n",
       "      <th>3PA</th>\n",
       "      <th>3P%</th>\n",
       "      <th>FTM</th>\n",
       "      <th>FTA</th>\n",
       "      <th>FT%</th>\n",
       "      <th>OREB</th>\n",
       "      <th>DREB</th>\n",
       "      <th>REB</th>\n",
       "      <th>AST</th>\n",
       "      <th>STL</th>\n",
       "      <th>BLK</th>\n",
       "      <th>TOV</th>\n",
       "    </tr>\n",
       "  </thead>\n",
       "  <tbody>\n",
       "    <tr>\n",
       "      <th>0</th>\n",
       "      <td>-0.719662</td>\n",
       "      <td>-0.995681</td>\n",
       "      <td>-1.118599</td>\n",
       "      <td>-1.139285</td>\n",
       "      <td>-0.943118</td>\n",
       "      <td>-2.419002</td>\n",
       "      <td>-0.652122</td>\n",
       "      <td>-0.739133</td>\n",
       "      <td>-1.194836</td>\n",
       "      <td>-0.808896</td>\n",
       "      <td>-0.772801</td>\n",
       "      <td>-1.065002</td>\n",
       "      <td>-0.408200</td>\n",
       "      <td>-0.463069</td>\n",
       "      <td>-0.458849</td>\n",
       "      <td>-0.941404</td>\n",
       "      <td>-1.035153</td>\n",
       "      <td>0.068181</td>\n",
       "      <td>-0.983208</td>\n",
       "    </tr>\n",
       "    <tr>\n",
       "      <th>1</th>\n",
       "      <td>-2.848945</td>\n",
       "      <td>-0.842179</td>\n",
       "      <td>-1.005949</td>\n",
       "      <td>-0.906612</td>\n",
       "      <td>-1.134714</td>\n",
       "      <td>2.561225</td>\n",
       "      <td>-0.652122</td>\n",
       "      <td>-0.739133</td>\n",
       "      <td>-1.194836</td>\n",
       "      <td>-1.112395</td>\n",
       "      <td>-0.999118</td>\n",
       "      <td>-3.511972</td>\n",
       "      <td>0.590160</td>\n",
       "      <td>-0.177347</td>\n",
       "      <td>0.153456</td>\n",
       "      <td>-0.802534</td>\n",
       "      <td>-0.556797</td>\n",
       "      <td>0.068181</td>\n",
       "      <td>-0.842078</td>\n",
       "    </tr>\n",
       "    <tr>\n",
       "      <th>2</th>\n",
       "      <td>0.143561</td>\n",
       "      <td>-0.440712</td>\n",
       "      <td>-0.487761</td>\n",
       "      <td>-0.441266</td>\n",
       "      <td>-0.477813</td>\n",
       "      <td>0.394503</td>\n",
       "      <td>-0.652122</td>\n",
       "      <td>-0.739133</td>\n",
       "      <td>-1.194836</td>\n",
       "      <td>-0.404230</td>\n",
       "      <td>-0.320169</td>\n",
       "      <td>-0.769842</td>\n",
       "      <td>0.590160</td>\n",
       "      <td>0.108375</td>\n",
       "      <td>0.247657</td>\n",
       "      <td>-0.802534</td>\n",
       "      <td>-0.556797</td>\n",
       "      <td>0.068181</td>\n",
       "      <td>-0.136426</td>\n",
       "    </tr>\n",
       "    <tr>\n",
       "      <th>3</th>\n",
       "      <td>-0.489469</td>\n",
       "      <td>-0.606022</td>\n",
       "      <td>-0.915829</td>\n",
       "      <td>-0.906612</td>\n",
       "      <td>-1.079972</td>\n",
       "      <td>1.494033</td>\n",
       "      <td>-0.652122</td>\n",
       "      <td>-0.739133</td>\n",
       "      <td>-1.194836</td>\n",
       "      <td>-0.606563</td>\n",
       "      <td>-0.471046</td>\n",
       "      <td>-0.998353</td>\n",
       "      <td>1.214134</td>\n",
       "      <td>0.036944</td>\n",
       "      <td>0.483159</td>\n",
       "      <td>-0.802534</td>\n",
       "      <td>-0.795975</td>\n",
       "      <td>-0.608780</td>\n",
       "      <td>-1.124338</td>\n",
       "    </tr>\n",
       "    <tr>\n",
       "      <th>4</th>\n",
       "      <td>-0.662114</td>\n",
       "      <td>-1.007489</td>\n",
       "      <td>-1.118599</td>\n",
       "      <td>-1.139285</td>\n",
       "      <td>-1.079972</td>\n",
       "      <td>-1.853067</td>\n",
       "      <td>-0.390259</td>\n",
       "      <td>-0.176618</td>\n",
       "      <td>0.133145</td>\n",
       "      <td>-0.808896</td>\n",
       "      <td>-0.772801</td>\n",
       "      <td>-0.503246</td>\n",
       "      <td>-1.032175</td>\n",
       "      <td>-0.963083</td>\n",
       "      <td>-1.071154</td>\n",
       "      <td>0.100121</td>\n",
       "      <td>-0.317618</td>\n",
       "      <td>-0.608780</td>\n",
       "      <td>-0.842078</td>\n",
       "    </tr>\n",
       "  </tbody>\n",
       "</table>\n",
       "</div>"
      ],
      "text/plain": [
       "         GP       MIN       PTS       FGM       FGA       FG%   3P Made  \\\n",
       "0 -0.719662 -0.995681 -1.118599 -1.139285 -0.943118 -2.419002 -0.652122   \n",
       "1 -2.848945 -0.842179 -1.005949 -0.906612 -1.134714  2.561225 -0.652122   \n",
       "2  0.143561 -0.440712 -0.487761 -0.441266 -0.477813  0.394503 -0.652122   \n",
       "3 -0.489469 -0.606022 -0.915829 -0.906612 -1.079972  1.494033 -0.652122   \n",
       "4 -0.662114 -1.007489 -1.118599 -1.139285 -1.079972 -1.853067 -0.390259   \n",
       "\n",
       "        3PA       3P%       FTM       FTA       FT%      OREB      DREB  \\\n",
       "0 -0.739133 -1.194836 -0.808896 -0.772801 -1.065002 -0.408200 -0.463069   \n",
       "1 -0.739133 -1.194836 -1.112395 -0.999118 -3.511972  0.590160 -0.177347   \n",
       "2 -0.739133 -1.194836 -0.404230 -0.320169 -0.769842  0.590160  0.108375   \n",
       "3 -0.739133 -1.194836 -0.606563 -0.471046 -0.998353  1.214134  0.036944   \n",
       "4 -0.176618  0.133145 -0.808896 -0.772801 -0.503246 -1.032175 -0.963083   \n",
       "\n",
       "        REB       AST       STL       BLK       TOV  \n",
       "0 -0.458849 -0.941404 -1.035153  0.068181 -0.983208  \n",
       "1  0.153456 -0.802534 -0.556797  0.068181 -0.842078  \n",
       "2  0.247657 -0.802534 -0.556797  0.068181 -0.136426  \n",
       "3  0.483159 -0.802534 -0.795975 -0.608780 -1.124338  \n",
       "4 -1.071154  0.100121 -0.317618 -0.608780 -0.842078  "
      ]
     },
     "execution_count": 72,
     "metadata": {},
     "output_type": "execute_result"
    }
   ],
   "source": [
    "df_xtrain_std=pd.DataFrame(xtrain_std,columns=variables)\n",
    "df_xtrain_std.head()"
   ]
  },
  {
   "cell_type": "code",
   "execution_count": 73,
   "metadata": {},
   "outputs": [
    {
     "data": {
      "text/plain": [
       "(37755.91180622378, 0.0)"
      ]
     },
     "execution_count": 73,
     "metadata": {},
     "output_type": "execute_result"
    }
   ],
   "source": [
    "chi_square_value,p_value=calculate_bartlett_sphericity(df_xtrain_std)\n",
    "chi_square_value,p_value"
   ]
  },
  {
   "cell_type": "code",
   "execution_count": 74,
   "metadata": {},
   "outputs": [
    {
     "name": "stderr",
     "output_type": "stream",
     "text": [
      "D:\\Anaconda\\lib\\site-packages\\factor_analyzer\\utils.py:248: UserWarning: The inverse of the variance-covariance matrix was calculated using the Moore-Penrose generalized matrix inversion, due to its determinant being at or very close to zero.\n",
      "  warnings.warn('The inverse of the variance-covariance matrix '\n"
     ]
    },
    {
     "data": {
      "text/plain": [
       "0.8319674408090705"
      ]
     },
     "execution_count": 74,
     "metadata": {},
     "output_type": "execute_result"
    }
   ],
   "source": [
    "kmo_all,kmo_model=calculate_kmo(df_xtrain_std)\n",
    "kmo_model"
   ]
  },
  {
   "cell_type": "code",
   "execution_count": 75,
   "metadata": {},
   "outputs": [],
   "source": [
    "#Instanciamos un objeto de la clase FactorAnalyzer\n",
    "fa=FactorAnalyzer()"
   ]
  },
  {
   "cell_type": "code",
   "execution_count": 78,
   "metadata": {},
   "outputs": [
    {
     "data": {
      "text/plain": [
       "FactorAnalyzer(rotation_kwargs={})"
      ]
     },
     "execution_count": 78,
     "metadata": {},
     "output_type": "execute_result"
    }
   ],
   "source": [
    "#Aprendiendo de los datos\n",
    "fa.fit(df_xtrain_std)"
   ]
  },
  {
   "cell_type": "code",
   "execution_count": 79,
   "metadata": {},
   "outputs": [
    {
     "data": {
      "text/plain": [
       "array([9.62, 3.88, 1.15, 0.88, 0.74, 0.57, 0.5 , 0.46, 0.42, 0.25, 0.24,\n",
       "       0.11, 0.1 , 0.05, 0.01, 0.01, 0.  , 0.  , 0.  ])"
      ]
     },
     "execution_count": 79,
     "metadata": {},
     "output_type": "execute_result"
    }
   ],
   "source": [
    "ev,v=fa.get_eigenvalues()\n",
    "ev.round(2)"
   ]
  },
  {
   "cell_type": "code",
   "execution_count": 80,
   "metadata": {},
   "outputs": [
    {
     "data": {
      "text/plain": [
       "FactorAnalyzer(rotation='varimax', rotation_kwargs={})"
      ]
     },
     "execution_count": 80,
     "metadata": {},
     "output_type": "execute_result"
    }
   ],
   "source": [
    "fa3=FactorAnalyzer(n_factors=3, rotation='varimax')\n",
    "fa3.fit(df_xtrain_std)"
   ]
  },
  {
   "cell_type": "code",
   "execution_count": 81,
   "metadata": {},
   "outputs": [
    {
     "data": {
      "text/plain": [
       "array([[ 0.50273011,  0.31114658,  0.01354104],\n",
       "       [ 0.7589412 ,  0.52820124,  0.26674508],\n",
       "       [ 0.78720073,  0.53164499,  0.21819037],\n",
       "       [ 0.7666778 ,  0.54511982,  0.16768926],\n",
       "       [ 0.79042323,  0.45405311,  0.28090947],\n",
       "       [ 0.08350769,  0.47272895, -0.3524417 ],\n",
       "       [ 0.21368394, -0.02511964,  0.94890956],\n",
       "       [ 0.24127587, -0.05083696,  0.95533478],\n",
       "       [ 0.14513081, -0.22800746,  0.57850748],\n",
       "       [ 0.75143107,  0.49411374,  0.04044473],\n",
       "       [ 0.70952   ,  0.56606201, -0.02345885],\n",
       "       [ 0.32146327, -0.13280663,  0.268352  ],\n",
       "       [ 0.245135  ,  0.86120925, -0.25058736],\n",
       "       [ 0.35628805,  0.87221386, -0.01633978],\n",
       "       [ 0.31773141,  0.92471966, -0.10119401],\n",
       "       [ 0.78495845, -0.14909171,  0.24470341],\n",
       "       [ 0.75928788,  0.15273428,  0.18826175],\n",
       "       [ 0.11247855,  0.70110513, -0.17194604],\n",
       "       [ 0.88510287,  0.28535419,  0.10864593]])"
      ]
     },
     "execution_count": 81,
     "metadata": {},
     "output_type": "execute_result"
    }
   ],
   "source": [
    "fa3.loadings_ #Obtengo mi matriz de carga"
   ]
  },
  {
   "cell_type": "code",
   "execution_count": 82,
   "metadata": {},
   "outputs": [
    {
     "data": {
      "text/plain": [
       "array([0.34973312, 0.92614124, 0.94993843, 0.91307016, 0.90984324,\n",
       "       0.35466135, 0.94672117, 0.97346298, 0.40772125, 0.81043282,\n",
       "       0.82439515, 0.19298903, 0.86456657, 0.88796518, 0.96629993,\n",
       "       0.69826786, 0.63528833, 0.53376527, 0.87663805])"
      ]
     },
     "execution_count": 82,
     "metadata": {},
     "output_type": "execute_result"
    }
   ],
   "source": [
    "#Comunalidades ---Mcarga*McargaT \n",
    "#explicada por los factores comunes\n",
    "fa3.get_communalities()"
   ]
  },
  {
   "cell_type": "code",
   "execution_count": 83,
   "metadata": {},
   "outputs": [
    {
     "data": {
      "text/plain": [
       "array([0.65026688, 0.07385876, 0.05006157, 0.08692984, 0.09015676,\n",
       "       0.64533865, 0.05327883, 0.02653702, 0.59227875, 0.18956718,\n",
       "       0.17560485, 0.80701097, 0.13543343, 0.11203482, 0.03370007,\n",
       "       0.30173214, 0.36471167, 0.46623473, 0.12336195])"
      ]
     },
     "execution_count": 83,
     "metadata": {},
     "output_type": "execute_result"
    }
   ],
   "source": [
    "#Especificidades \n",
    "fa3.get_uniquenesses()"
   ]
  },
  {
   "cell_type": "code",
   "execution_count": null,
   "metadata": {},
   "outputs": [],
   "source": [
    "# Las comuninalidades + especificidades deben sumar 1 "
   ]
  }
 ],
 "metadata": {
  "kernelspec": {
   "display_name": "Python 3",
   "language": "python",
   "name": "python3"
  },
  "language_info": {
   "codemirror_mode": {
    "name": "ipython",
    "version": 3
   },
   "file_extension": ".py",
   "mimetype": "text/x-python",
   "name": "python",
   "nbconvert_exporter": "python",
   "pygments_lexer": "ipython3",
   "version": "3.8.3"
  }
 },
 "nbformat": 4,
 "nbformat_minor": 4
}