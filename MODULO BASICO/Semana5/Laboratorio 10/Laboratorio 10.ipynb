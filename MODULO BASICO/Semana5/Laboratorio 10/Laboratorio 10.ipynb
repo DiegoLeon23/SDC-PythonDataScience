{
 "cells": [
  {
   "cell_type": "markdown",
   "metadata": {},
   "source": [
    "## Laboratorio 10\n",
    "\n",
    "Este es un proyecto de clasificación binaria que tiene como objetivo predecir si la carrera de un jugador de la NBA durará más de 5 años o no. Los datos incluyen las métricas de rendimiento de los jugadores de la NBA en su carrera, mediante las cuales se deben hacer las predicciones."
   ]
  },
  {
   "cell_type": "markdown",
   "metadata": {},
   "source": [
    "### Información de atributos\n",
    "* Name    :Nombre\n",
    "* GP   :Juegos jugados\n",
    "* MIN  :Minutos jugados\n",
    "* PTS :Puntos por partido\n",
    "* FGM     :Objetivos de campo realizados\n",
    "* FGA   :Objetivos de campo intentados\n",
    "* FG%   :Porcentaje de gol de campo\n",
    "* 3P Mode   :3 puntos hechos\n",
    "* 3PA   :Intentos de 3 puntos\n",
    "* 3P%   :3 puntos por ciento\n",
    "* FTM   :Tiro libre hecho\n",
    "* FTA   :Intentos de lanzamiento libre\n",
    "* FT%   :Porcentaje de lanzamiento libre\n",
    "* OREB   :Rebotes ofensivos\n",
    "* DREB   :Rebotes defensivos\n",
    "* REB   :Rebotes\n",
    "* AST   :Asistencias\n",
    "* STL   :Roba\n",
    "* BLK   :Bloques\n",
    "* TOV   :Pérdidas de balón\n",
    "* TARGET_5Yrs   :Variable predictora (1-Si la duración de la carrera>= 5 años) y (0-si<5)"
   ]
  },
  {
   "cell_type": "markdown",
   "metadata": {},
   "source": [
    "Actividades:\n",
    "\n",
    "1. Encontrar el numero de factores adecuados segun el Analisis Factorial.\n",
    "2. Crear un data frame a partir de los factores sin el target\n",
    "3. Encontrar el numero de registros finales despues de aplicar el Z-score con umbral de 3\n",
    "2. Encontrar el numero de registros finales despues de aplicar el IQR score"
   ]
  },
  {
   "cell_type": "code",
   "execution_count": 33,
   "metadata": {},
   "outputs": [
    {
     "name": "stdout",
     "output_type": "stream",
     "text": [
      "<class 'pandas.core.frame.DataFrame'>\n",
      "RangeIndex: 1329 entries, 0 to 1328\n",
      "Data columns (total 21 columns):\n",
      "Name           1329 non-null object\n",
      "GP             1329 non-null int64\n",
      "MIN            1329 non-null float64\n",
      "PTS            1329 non-null float64\n",
      "FGM            1329 non-null float64\n",
      "FGA            1329 non-null float64\n",
      "FG%            1329 non-null float64\n",
      "3P Made        1329 non-null float64\n",
      "3PA            1329 non-null float64\n",
      "3P%            1329 non-null float64\n",
      "FTM            1329 non-null float64\n",
      "FTA            1329 non-null float64\n",
      "FT%            1329 non-null float64\n",
      "OREB           1329 non-null float64\n",
      "DREB           1329 non-null float64\n",
      "REB            1329 non-null float64\n",
      "AST            1329 non-null float64\n",
      "STL            1329 non-null float64\n",
      "BLK            1329 non-null float64\n",
      "TOV            1329 non-null float64\n",
      "TARGET_5Yrs    1329 non-null int64\n",
      "dtypes: float64(18), int64(2), object(1)\n",
      "memory usage: 218.1+ KB\n"
     ]
    }
   ],
   "source": [
    "import numpy as np\n",
    "import pandas as pd\n",
    "\n",
    "df_arrest = pd.read_csv('datos/nba_logreg2.csv',  sep=';')\n",
    "\n",
    "df_arrest[\"TARGET_5Yrs\"]=df_arrest[\"TARGET_5Yrs\"].astype('int64')\n",
    "df_arrest.info()"
   ]
  },
  {
   "cell_type": "code",
   "execution_count": 34,
   "metadata": {},
   "outputs": [],
   "source": [
    "from sklearn.preprocessing import StandardScaler\n",
    "#Separando las variables continuas\n",
    "continuas = ['GP','MIN','PTS','FGM','FGA','FG%','3P Made','3PA','3P%','FTM','FTA','FT%','OREB'\n",
    "            ,'DREB','REB','AST','STL','BLK','TOV'\n",
    "            ]\n",
    "x = df_arrest.loc[:, continuas].values\n",
    "#Separando las variable target\n",
    "y = df_arrest['TARGET_5Yrs'].tolist()"
   ]
  },
  {
   "cell_type": "code",
   "execution_count": 35,
   "metadata": {},
   "outputs": [],
   "source": [
    "#Estandarizando las variables continuas\n",
    "X_std = StandardScaler().fit_transform(x)"
   ]
  }
 ],
 "metadata": {
  "kernelspec": {
   "display_name": "Python 3",
   "language": "python",
   "name": "python3"
  },
  "language_info": {
   "codemirror_mode": {
    "name": "ipython",
    "version": 3
   },
   "file_extension": ".py",
   "mimetype": "text/x-python",
   "name": "python",
   "nbconvert_exporter": "python",
   "pygments_lexer": "ipython3",
   "version": "3.7.6"
  }
 },
 "nbformat": 4,
 "nbformat_minor": 2
}
