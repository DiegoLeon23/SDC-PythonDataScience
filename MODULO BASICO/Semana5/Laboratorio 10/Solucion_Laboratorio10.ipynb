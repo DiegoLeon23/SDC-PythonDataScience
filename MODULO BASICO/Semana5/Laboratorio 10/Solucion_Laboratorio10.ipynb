{
 "cells": [
  {
   "cell_type": "markdown",
   "metadata": {},
   "source": [
    "# DESARROLLO LABORATORIO 10 "
   ]
  },
  {
   "cell_type": "code",
   "execution_count": null,
   "metadata": {},
   "outputs": [],
   "source": [
    "#Importando librerias necesarias\n",
    "import os \n",
    "import pandas as pd\n",
    "import numpy as np\n",
    "import matplotlib.pyplot as plt\n",
    "import seaborn as sns\n",
    "import math as math\n",
    "import scipy.stats as stats #Para calculo de probabilidades\n",
    "\n",
    "from sklearn.decomposition import FactorAnalysis\n",
    "from sklearn.model_selection import train_test_split #Particionamiento\n",
    "from sklearn.preprocessing import MinMaxScaler #Utilizar la normalizacion\n",
    "from sklearn.preprocessing import StandardScaler #Utilizar la estandarizacion \n",
    "from sklearn.decomposition import PCA #Para la descomposicion de la varianza en el PCA"
   ]
  },
  {
   "cell_type": "code",
   "execution_count": 2,
   "metadata": {},
   "outputs": [],
   "source": [
    "os.chdir(\"D:\\Social Data Consulting\\Python for Data Science\\data\")"
   ]
  },
  {
   "cell_type": "code",
   "execution_count": 3,
   "metadata": {},
   "outputs": [
    {
     "name": "stdout",
     "output_type": "stream",
     "text": [
      "<class 'pandas.core.frame.DataFrame'>\n",
      "RangeIndex: 1329 entries, 0 to 1328\n",
      "Data columns (total 21 columns):\n",
      " #   Column       Non-Null Count  Dtype  \n",
      "---  ------       --------------  -----  \n",
      " 0   Name         1329 non-null   object \n",
      " 1   GP           1329 non-null   int64  \n",
      " 2   MIN          1329 non-null   float64\n",
      " 3   PTS          1329 non-null   float64\n",
      " 4   FGM          1329 non-null   float64\n",
      " 5   FGA          1329 non-null   float64\n",
      " 6   FG%          1329 non-null   float64\n",
      " 7   3P Made      1329 non-null   float64\n",
      " 8   3PA          1329 non-null   float64\n",
      " 9   3P%          1329 non-null   float64\n",
      " 10  FTM          1329 non-null   float64\n",
      " 11  FTA          1329 non-null   float64\n",
      " 12  FT%          1329 non-null   float64\n",
      " 13  OREB         1329 non-null   float64\n",
      " 14  DREB         1329 non-null   float64\n",
      " 15  REB          1329 non-null   float64\n",
      " 16  AST          1329 non-null   float64\n",
      " 17  STL          1329 non-null   float64\n",
      " 18  BLK          1329 non-null   float64\n",
      " 19  TOV          1329 non-null   float64\n",
      " 20  TARGET_5Yrs  1329 non-null   int64  \n",
      "dtypes: float64(18), int64(2), object(1)\n",
      "memory usage: 218.2+ KB\n"
     ]
    }
   ],
   "source": [
    "miarchivo=\"nba_logreg2.csv\"\n",
    "df_arrest=pd.read_csv(miarchivo,sep=\";\")\n",
    "df_arrest[\"TARGET_5Yrs\"]=df_arrest[\"TARGET_5Yrs\"].astype('int64')\n",
    "df_arrest.info()"
   ]
  },
  {
   "cell_type": "markdown",
   "metadata": {},
   "source": [
    "**_1. Encontrar el numero de factores adecuados segun el Analisis Factorial._**"
   ]
  },
  {
   "cell_type": "code",
   "execution_count": 4,
   "metadata": {},
   "outputs": [],
   "source": [
    "#Separando las variables continuas\n",
    "continuas = ['GP','MIN','PTS','FGM','FGA','FG%','3P Made','3PA','3P%','FTM','FTA','FT%','OREB'\n",
    "            ,'DREB','REB','AST','STL','BLK','TOV'\n",
    "            ]\n",
    "x = df_arrest.loc[:, continuas].values\n",
    "#Separando las variable target\n",
    "y = df_arrest['TARGET_5Yrs'].values"
   ]
  },
  {
   "cell_type": "code",
   "execution_count": 5,
   "metadata": {},
   "outputs": [],
   "source": [
    "X_train, X_test, y_train, y_test = train_test_split(x, #predictores\n",
    "                                                    y, #target\n",
    "                                                    test_size=0.3, #tamaño de los datos de testeo\n",
    "                                                    stratify=y, # variable de estratificación\n",
    "                                                    random_state=0) #semilla"
   ]
  },
  {
   "cell_type": "code",
   "execution_count": 6,
   "metadata": {},
   "outputs": [],
   "source": [
    "sc = StandardScaler()\n",
    "X_train_std = sc.fit_transform(X_train)\n",
    "X_test_std = sc.transform(X_test)"
   ]
  },
  {
   "cell_type": "code",
   "execution_count": 7,
   "metadata": {},
   "outputs": [],
   "source": [
    "fa = FactorAnalysis()\n",
    "X_train_fa = fa.fit(X_train_std)"
   ]
  },
  {
   "cell_type": "code",
   "execution_count": 8,
   "metadata": {},
   "outputs": [
    {
     "data": {
      "text/plain": [
       "array([[ 5.79636841e-01,  9.38900118e-01,  9.65353599e-01,\n",
       "         9.55727187e-01,  9.38483162e-01,  2.99375439e-01,\n",
       "         2.94708405e-01,  3.01805885e-01,  6.71180967e-02,\n",
       "         8.93810593e-01,  8.94227980e-01,  2.14814278e-01,\n",
       "         6.72280875e-01,  7.95085949e-01,  7.79112044e-01,\n",
       "         5.42579872e-01,  7.05298842e-01,  4.90845322e-01,\n",
       "         8.65495838e-01],\n",
       "       [-1.79270054e-02,  1.14052616e-01,  9.92892903e-02,\n",
       "         5.50970434e-02,  1.88725470e-01, -5.26897483e-01,\n",
       "         7.29842257e-01,  7.51203208e-01,  6.16641230e-01,\n",
       "        -2.49439249e-02, -1.20783388e-01,  3.92570461e-01,\n",
       "        -6.04376787e-01, -4.12835096e-01, -5.01476323e-01,\n",
       "         5.08545964e-01,  2.87879539e-01, -5.16367159e-01,\n",
       "         1.85858677e-01],\n",
       "       [ 6.47927583e-02, -7.76258286e-02,  2.61412946e-02,\n",
       "         2.83778711e-02,  1.14102825e-02,  4.12068962e-02,\n",
       "        -4.00732452e-01, -3.74512017e-01, -2.32008092e-01,\n",
       "         1.72647235e-01,  1.58625006e-01,  7.13489303e-02,\n",
       "        -1.34737134e-01, -2.37170731e-01, -2.06791248e-01,\n",
       "         2.53481098e-01,  1.42896697e-01, -1.77011320e-01,\n",
       "         2.11109423e-01],\n",
       "       [ 2.00135479e-01,  1.25733504e-01, -1.01491511e-01,\n",
       "        -7.74203420e-02, -7.33959888e-02,  2.80754711e-02,\n",
       "        -3.52609956e-02, -2.91273059e-02, -7.27779799e-02,\n",
       "        -1.73175585e-01, -1.51204540e-01, -1.13950560e-01,\n",
       "         3.88165188e-02,  9.19872241e-02,  7.47917741e-02,\n",
       "         3.12399543e-01,  3.03135908e-01, -2.95613354e-02,\n",
       "         1.01515862e-01],\n",
       "       [-2.19588485e-01, -1.80426515e-02, -3.51046244e-02,\n",
       "        -6.93046322e-02, -3.77919604e-02, -2.35936256e-01,\n",
       "         2.81556853e-02,  4.78763220e-02, -3.74977603e-02,\n",
       "         7.19241380e-02,  9.78427130e-02, -2.01532717e-01,\n",
       "        -7.06940573e-03,  3.64595235e-02,  2.17533661e-02,\n",
       "         5.10571211e-02,  4.17118104e-02,  1.01923723e-01,\n",
       "         7.12305928e-02],\n",
       "       [-1.08873882e-01,  2.23427217e-04,  2.65187914e-02,\n",
       "         5.25716985e-02,  4.96537975e-02,  4.46321360e-02,\n",
       "         4.82883617e-03,  9.38539811e-03, -1.05288229e-01,\n",
       "        -6.54574007e-02, -3.99283874e-02, -2.15875137e-01,\n",
       "         2.72507364e-03, -3.33511203e-02, -2.08311023e-02,\n",
       "        -1.72669462e-02,  1.23629972e-02, -4.15203640e-02,\n",
       "        -1.27406458e-03],\n",
       "       [-2.63573648e-02,  2.53875356e-03,  6.64802844e-04,\n",
       "         6.57069527e-03,  1.35871787e-02, -5.96238821e-02,\n",
       "        -2.60395472e-02, -2.08628480e-02,  2.95769244e-02,\n",
       "        -1.01744259e-02, -1.30159900e-02,  2.08308749e-02,\n",
       "         1.46837914e-02,  6.52508860e-03,  9.81631326e-03,\n",
       "        -2.15263134e-03,  8.98321449e-04, -3.24992157e-02,\n",
       "        -4.85966863e-03],\n",
       "       [ 0.00000000e+00,  0.00000000e+00,  0.00000000e+00,\n",
       "         0.00000000e+00,  0.00000000e+00, -0.00000000e+00,\n",
       "        -0.00000000e+00, -0.00000000e+00, -0.00000000e+00,\n",
       "        -0.00000000e+00, -0.00000000e+00,  0.00000000e+00,\n",
       "        -0.00000000e+00,  0.00000000e+00, -0.00000000e+00,\n",
       "        -0.00000000e+00, -0.00000000e+00,  0.00000000e+00,\n",
       "         0.00000000e+00],\n",
       "       [ 0.00000000e+00, -0.00000000e+00,  0.00000000e+00,\n",
       "         0.00000000e+00,  0.00000000e+00,  0.00000000e+00,\n",
       "        -0.00000000e+00, -0.00000000e+00,  0.00000000e+00,\n",
       "        -0.00000000e+00,  0.00000000e+00, -0.00000000e+00,\n",
       "        -0.00000000e+00, -0.00000000e+00, -0.00000000e+00,\n",
       "        -0.00000000e+00,  0.00000000e+00,  0.00000000e+00,\n",
       "         0.00000000e+00],\n",
       "       [-0.00000000e+00,  0.00000000e+00,  0.00000000e+00,\n",
       "         0.00000000e+00, -0.00000000e+00,  0.00000000e+00,\n",
       "        -0.00000000e+00, -0.00000000e+00,  0.00000000e+00,\n",
       "        -0.00000000e+00, -0.00000000e+00,  0.00000000e+00,\n",
       "        -0.00000000e+00,  0.00000000e+00, -0.00000000e+00,\n",
       "         0.00000000e+00,  0.00000000e+00,  0.00000000e+00,\n",
       "        -0.00000000e+00],\n",
       "       [ 0.00000000e+00,  0.00000000e+00,  0.00000000e+00,\n",
       "        -0.00000000e+00,  0.00000000e+00, -0.00000000e+00,\n",
       "        -0.00000000e+00,  0.00000000e+00, -0.00000000e+00,\n",
       "         0.00000000e+00,  0.00000000e+00,  0.00000000e+00,\n",
       "         0.00000000e+00, -0.00000000e+00, -0.00000000e+00,\n",
       "        -0.00000000e+00,  0.00000000e+00,  0.00000000e+00,\n",
       "        -0.00000000e+00],\n",
       "       [-0.00000000e+00, -0.00000000e+00,  0.00000000e+00,\n",
       "         0.00000000e+00, -0.00000000e+00,  0.00000000e+00,\n",
       "         0.00000000e+00,  0.00000000e+00,  0.00000000e+00,\n",
       "        -0.00000000e+00, -0.00000000e+00,  0.00000000e+00,\n",
       "         0.00000000e+00, -0.00000000e+00,  0.00000000e+00,\n",
       "        -0.00000000e+00,  0.00000000e+00,  0.00000000e+00,\n",
       "         0.00000000e+00],\n",
       "       [ 0.00000000e+00, -0.00000000e+00,  0.00000000e+00,\n",
       "         0.00000000e+00,  0.00000000e+00,  0.00000000e+00,\n",
       "        -0.00000000e+00,  0.00000000e+00, -0.00000000e+00,\n",
       "        -0.00000000e+00, -0.00000000e+00,  0.00000000e+00,\n",
       "        -0.00000000e+00,  0.00000000e+00,  0.00000000e+00,\n",
       "        -0.00000000e+00,  0.00000000e+00, -0.00000000e+00,\n",
       "         0.00000000e+00],\n",
       "       [ 0.00000000e+00, -0.00000000e+00,  0.00000000e+00,\n",
       "         0.00000000e+00,  0.00000000e+00, -0.00000000e+00,\n",
       "         0.00000000e+00,  0.00000000e+00, -0.00000000e+00,\n",
       "         0.00000000e+00,  0.00000000e+00, -0.00000000e+00,\n",
       "         0.00000000e+00,  0.00000000e+00,  0.00000000e+00,\n",
       "         0.00000000e+00,  0.00000000e+00,  0.00000000e+00,\n",
       "        -0.00000000e+00],\n",
       "       [-0.00000000e+00,  0.00000000e+00,  0.00000000e+00,\n",
       "         0.00000000e+00, -0.00000000e+00, -0.00000000e+00,\n",
       "         0.00000000e+00, -0.00000000e+00, -0.00000000e+00,\n",
       "        -0.00000000e+00, -0.00000000e+00, -0.00000000e+00,\n",
       "        -0.00000000e+00, -0.00000000e+00, -0.00000000e+00,\n",
       "        -0.00000000e+00,  0.00000000e+00, -0.00000000e+00,\n",
       "         0.00000000e+00],\n",
       "       [-0.00000000e+00,  0.00000000e+00, -0.00000000e+00,\n",
       "         0.00000000e+00, -0.00000000e+00, -0.00000000e+00,\n",
       "         0.00000000e+00,  0.00000000e+00, -0.00000000e+00,\n",
       "        -0.00000000e+00,  0.00000000e+00,  0.00000000e+00,\n",
       "        -0.00000000e+00, -0.00000000e+00, -0.00000000e+00,\n",
       "         0.00000000e+00, -0.00000000e+00, -0.00000000e+00,\n",
       "        -0.00000000e+00],\n",
       "       [-0.00000000e+00, -0.00000000e+00, -0.00000000e+00,\n",
       "        -0.00000000e+00,  0.00000000e+00,  0.00000000e+00,\n",
       "         0.00000000e+00, -0.00000000e+00,  0.00000000e+00,\n",
       "        -0.00000000e+00,  0.00000000e+00,  0.00000000e+00,\n",
       "        -0.00000000e+00,  0.00000000e+00,  0.00000000e+00,\n",
       "         0.00000000e+00,  0.00000000e+00,  0.00000000e+00,\n",
       "        -0.00000000e+00],\n",
       "       [-0.00000000e+00, -0.00000000e+00, -0.00000000e+00,\n",
       "         0.00000000e+00,  0.00000000e+00,  0.00000000e+00,\n",
       "         0.00000000e+00, -0.00000000e+00,  0.00000000e+00,\n",
       "         0.00000000e+00,  0.00000000e+00, -0.00000000e+00,\n",
       "         0.00000000e+00,  0.00000000e+00, -0.00000000e+00,\n",
       "         0.00000000e+00,  0.00000000e+00, -0.00000000e+00,\n",
       "        -0.00000000e+00],\n",
       "       [-0.00000000e+00,  0.00000000e+00,  0.00000000e+00,\n",
       "        -0.00000000e+00, -0.00000000e+00, -0.00000000e+00,\n",
       "        -0.00000000e+00, -0.00000000e+00, -0.00000000e+00,\n",
       "        -0.00000000e+00, -0.00000000e+00, -0.00000000e+00,\n",
       "         0.00000000e+00,  0.00000000e+00, -0.00000000e+00,\n",
       "         0.00000000e+00, -0.00000000e+00, -0.00000000e+00,\n",
       "        -0.00000000e+00]])"
      ]
     },
     "execution_count": 8,
     "metadata": {},
     "output_type": "execute_result"
    }
   ],
   "source": [
    "X_train_fa.components_"
   ]
  },
  {
   "cell_type": "markdown",
   "metadata": {},
   "source": [
    "Los factores resultantes deben ser un máximo de 7, no 19, porque los 7 factores tienen conexiones significativas con las características originales."
   ]
  },
  {
   "cell_type": "markdown",
   "metadata": {},
   "source": [
    "**_2. Crear un data frame a partir de los factores sin el target_**"
   ]
  },
  {
   "cell_type": "code",
   "execution_count": 10,
   "metadata": {
    "scrolled": true
   },
   "outputs": [
    {
     "data": {
      "text/html": [
       "<div>\n",
       "<style scoped>\n",
       "    .dataframe tbody tr th:only-of-type {\n",
       "        vertical-align: middle;\n",
       "    }\n",
       "\n",
       "    .dataframe tbody tr th {\n",
       "        vertical-align: top;\n",
       "    }\n",
       "\n",
       "    .dataframe thead th {\n",
       "        text-align: right;\n",
       "    }\n",
       "</style>\n",
       "<table border=\"1\" class=\"dataframe\">\n",
       "  <thead>\n",
       "    <tr style=\"text-align: right;\">\n",
       "      <th></th>\n",
       "      <th>FACT1</th>\n",
       "      <th>FACT2</th>\n",
       "      <th>FACT3</th>\n",
       "      <th>FACT4</th>\n",
       "      <th>FACT5</th>\n",
       "      <th>FACT6</th>\n",
       "      <th>FACT7</th>\n",
       "    </tr>\n",
       "  </thead>\n",
       "  <tbody>\n",
       "    <tr>\n",
       "      <th>0</th>\n",
       "      <td>-1.032383</td>\n",
       "      <td>0.586029</td>\n",
       "      <td>0.293037</td>\n",
       "      <td>-0.143571</td>\n",
       "      <td>1.454930</td>\n",
       "      <td>-0.896071</td>\n",
       "      <td>0.337433</td>\n",
       "    </tr>\n",
       "    <tr>\n",
       "      <th>1</th>\n",
       "      <td>-0.821369</td>\n",
       "      <td>1.295543</td>\n",
       "      <td>-0.601320</td>\n",
       "      <td>0.177825</td>\n",
       "      <td>-1.042699</td>\n",
       "      <td>0.322726</td>\n",
       "      <td>1.391791</td>\n",
       "    </tr>\n",
       "    <tr>\n",
       "      <th>2</th>\n",
       "      <td>-0.355213</td>\n",
       "      <td>0.867851</td>\n",
       "      <td>0.006115</td>\n",
       "      <td>0.199696</td>\n",
       "      <td>0.236346</td>\n",
       "      <td>-0.281901</td>\n",
       "      <td>0.248473</td>\n",
       "    </tr>\n",
       "    <tr>\n",
       "      <th>3</th>\n",
       "      <td>-0.670436</td>\n",
       "      <td>1.641298</td>\n",
       "      <td>0.069191</td>\n",
       "      <td>-0.527535</td>\n",
       "      <td>-0.448241</td>\n",
       "      <td>0.065023</td>\n",
       "      <td>0.228539</td>\n",
       "    </tr>\n",
       "    <tr>\n",
       "      <th>4</th>\n",
       "      <td>-1.162351</td>\n",
       "      <td>-0.236358</td>\n",
       "      <td>0.472900</td>\n",
       "      <td>-0.119226</td>\n",
       "      <td>0.485008</td>\n",
       "      <td>0.421424</td>\n",
       "      <td>0.458227</td>\n",
       "    </tr>\n",
       "  </tbody>\n",
       "</table>\n",
       "</div>"
      ],
      "text/plain": [
       "      FACT1     FACT2     FACT3     FACT4     FACT5     FACT6     FACT7\n",
       "0 -1.032383  0.586029  0.293037 -0.143571  1.454930 -0.896071  0.337433\n",
       "1 -0.821369  1.295543 -0.601320  0.177825 -1.042699  0.322726  1.391791\n",
       "2 -0.355213  0.867851  0.006115  0.199696  0.236346 -0.281901  0.248473\n",
       "3 -0.670436  1.641298  0.069191 -0.527535 -0.448241  0.065023  0.228539\n",
       "4 -1.162351 -0.236358  0.472900 -0.119226  0.485008  0.421424  0.458227"
      ]
     },
     "execution_count": 10,
     "metadata": {},
     "output_type": "execute_result"
    }
   ],
   "source": [
    "transformer = FactorAnalysis(n_components=7, #n componentes\n",
    "                             random_state=0) #semilla\n",
    "#generamos el objeto transformer de tipo función\n",
    "df_factores = transformer.fit_transform(X_train_std) #fit_transform aplica a los datos de \n",
    "#entrenamiento\n",
    "df_factores = pd.DataFrame(df_factores)\n",
    "df_factores.columns = ['FACT1', 'FACT2', 'FACT3', 'FACT4', 'FACT5', 'FACT6','FACT7']\n",
    "df_factores.head()"
   ]
  },
  {
   "cell_type": "markdown",
   "metadata": {},
   "source": [
    "**_3. Encontrar el numero de registros finales despues de aplicar el Z-score con umbral de 3_**"
   ]
  },
  {
   "cell_type": "code",
   "execution_count": 11,
   "metadata": {},
   "outputs": [
    {
     "name": "stdout",
     "output_type": "stream",
     "text": [
      "[[1.03240156e+00 5.86117837e-01 2.93494268e-01 ... 1.49002085e+00\n",
      "  9.58514356e-01 3.76599510e-01]\n",
      " [8.21384231e-01 1.29574061e+00 6.02257872e-01 ... 1.06784745e+00\n",
      "  3.45215868e-01 1.55333937e+00]\n",
      " [3.55219951e-01 8.67983231e-01 6.12451143e-03 ... 2.42046314e-01\n",
      "  3.01545310e-01 2.77313568e-01]\n",
      " ...\n",
      " [1.90989811e-01 2.39232189e+00 3.87583755e-01 ... 7.52392553e-01\n",
      "  1.20719887e+00 5.43719417e-01]\n",
      " [5.83105404e-01 3.74924893e-01 1.79550343e+00 ... 2.54558097e+00\n",
      "  1.06100955e+00 2.28058547e-01]\n",
      " [1.11363039e+00 6.12354385e-04 2.32510998e-01 ... 1.18861155e-01\n",
      "  4.75488939e-01 4.35795042e-01]]\n"
     ]
    }
   ],
   "source": [
    "z = np.abs(stats.zscore(df_factores)) #valor absoluto de las z-score\n",
    "print(z)"
   ]
  },
  {
   "cell_type": "code",
   "execution_count": 12,
   "metadata": {},
   "outputs": [
    {
     "name": "stdout",
     "output_type": "stream",
     "text": [
      "(array([ 18,  22,  25,  47,  47,  50,  83,  85,  85,  92, 109, 113, 121,\n",
      "       133, 136, 136, 138, 155, 161, 167, 169, 179, 198, 213, 213, 215,\n",
      "       240, 246, 253, 259, 268, 294, 352, 355, 355, 374, 384, 395, 396,\n",
      "       396, 398, 402, 410, 411, 415, 424, 429, 454, 460, 479, 504, 510,\n",
      "       539, 540, 555, 571, 592, 592, 632, 642, 677, 685, 695, 703, 712,\n",
      "       719, 722, 724, 739, 752, 760, 760, 771, 802, 806, 806, 834, 838,\n",
      "       841, 847, 849, 849, 853, 853, 882, 883, 908, 908, 909, 916, 925],\n",
      "      dtype=int64), array([3, 1, 3, 0, 6, 5, 3, 0, 6, 5, 2, 1, 5, 3, 0, 6, 4, 0, 2, 1, 4, 3,\n",
      "       0, 1, 3, 5, 3, 6, 2, 3, 2, 2, 5, 0, 3, 1, 5, 3, 3, 5, 2, 0, 6, 3,\n",
      "       6, 5, 6, 4, 1, 5, 4, 4, 0, 4, 6, 5, 0, 6, 5, 6, 0, 3, 1, 5, 0, 3,\n",
      "       0, 4, 2, 4, 0, 2, 4, 2, 2, 3, 3, 5, 2, 5, 2, 3, 0, 2, 4, 6, 0, 2,\n",
      "       5, 6, 3], dtype=int64))\n"
     ]
    }
   ],
   "source": [
    "k = 3\n",
    "print(np.where(z > k))"
   ]
  },
  {
   "cell_type": "code",
   "execution_count": 13,
   "metadata": {},
   "outputs": [
    {
     "data": {
      "text/html": [
       "<div>\n",
       "<style scoped>\n",
       "    .dataframe tbody tr th:only-of-type {\n",
       "        vertical-align: middle;\n",
       "    }\n",
       "\n",
       "    .dataframe tbody tr th {\n",
       "        vertical-align: top;\n",
       "    }\n",
       "\n",
       "    .dataframe thead th {\n",
       "        text-align: right;\n",
       "    }\n",
       "</style>\n",
       "<table border=\"1\" class=\"dataframe\">\n",
       "  <thead>\n",
       "    <tr style=\"text-align: right;\">\n",
       "      <th></th>\n",
       "      <th>FACT1</th>\n",
       "      <th>FACT2</th>\n",
       "      <th>FACT3</th>\n",
       "      <th>FACT4</th>\n",
       "      <th>FACT5</th>\n",
       "      <th>FACT6</th>\n",
       "      <th>FACT7</th>\n",
       "    </tr>\n",
       "  </thead>\n",
       "  <tbody>\n",
       "    <tr>\n",
       "      <th>0</th>\n",
       "      <td>-1.032383</td>\n",
       "      <td>0.586029</td>\n",
       "      <td>0.293037</td>\n",
       "      <td>-0.143571</td>\n",
       "      <td>1.454930</td>\n",
       "      <td>-0.896071</td>\n",
       "      <td>0.337433</td>\n",
       "    </tr>\n",
       "    <tr>\n",
       "      <th>1</th>\n",
       "      <td>-0.821369</td>\n",
       "      <td>1.295543</td>\n",
       "      <td>-0.601320</td>\n",
       "      <td>0.177825</td>\n",
       "      <td>-1.042699</td>\n",
       "      <td>0.322726</td>\n",
       "      <td>1.391791</td>\n",
       "    </tr>\n",
       "    <tr>\n",
       "      <th>2</th>\n",
       "      <td>-0.355213</td>\n",
       "      <td>0.867851</td>\n",
       "      <td>0.006115</td>\n",
       "      <td>0.199696</td>\n",
       "      <td>0.236346</td>\n",
       "      <td>-0.281901</td>\n",
       "      <td>0.248473</td>\n",
       "    </tr>\n",
       "    <tr>\n",
       "      <th>3</th>\n",
       "      <td>-0.670436</td>\n",
       "      <td>1.641298</td>\n",
       "      <td>0.069191</td>\n",
       "      <td>-0.527535</td>\n",
       "      <td>-0.448241</td>\n",
       "      <td>0.065023</td>\n",
       "      <td>0.228539</td>\n",
       "    </tr>\n",
       "    <tr>\n",
       "      <th>4</th>\n",
       "      <td>-1.162351</td>\n",
       "      <td>-0.236358</td>\n",
       "      <td>0.472900</td>\n",
       "      <td>-0.119226</td>\n",
       "      <td>0.485008</td>\n",
       "      <td>0.421424</td>\n",
       "      <td>0.458227</td>\n",
       "    </tr>\n",
       "  </tbody>\n",
       "</table>\n",
       "</div>"
      ],
      "text/plain": [
       "      FACT1     FACT2     FACT3     FACT4     FACT5     FACT6     FACT7\n",
       "0 -1.032383  0.586029  0.293037 -0.143571  1.454930 -0.896071  0.337433\n",
       "1 -0.821369  1.295543 -0.601320  0.177825 -1.042699  0.322726  1.391791\n",
       "2 -0.355213  0.867851  0.006115  0.199696  0.236346 -0.281901  0.248473\n",
       "3 -0.670436  1.641298  0.069191 -0.527535 -0.448241  0.065023  0.228539\n",
       "4 -1.162351 -0.236358  0.472900 -0.119226  0.485008  0.421424  0.458227"
      ]
     },
     "execution_count": 13,
     "metadata": {},
     "output_type": "execute_result"
    }
   ],
   "source": [
    "df_factores_o = df_factores[(z < 3).all(axis=1)]\n",
    "df_factores_o.head()"
   ]
  },
  {
   "cell_type": "code",
   "execution_count": 14,
   "metadata": {},
   "outputs": [
    {
     "data": {
      "text/plain": [
       "930"
      ]
     },
     "execution_count": 14,
     "metadata": {},
     "output_type": "execute_result"
    }
   ],
   "source": [
    "len(df_factores)"
   ]
  },
  {
   "cell_type": "code",
   "execution_count": 15,
   "metadata": {},
   "outputs": [
    {
     "data": {
      "text/plain": [
       "851"
      ]
     },
     "execution_count": 15,
     "metadata": {},
     "output_type": "execute_result"
    }
   ],
   "source": [
    "len(df_factores_o)"
   ]
  },
  {
   "cell_type": "markdown",
   "metadata": {},
   "source": [
    "**_4. Encontrar el numero de registros finales despues de aplicar el IQR score_**"
   ]
  },
  {
   "cell_type": "code",
   "execution_count": 16,
   "metadata": {},
   "outputs": [
    {
     "name": "stdout",
     "output_type": "stream",
     "text": [
      "FACT1    1.234631\n",
      "FACT2    1.180184\n",
      "FACT3    1.043966\n",
      "FACT4    0.989454\n",
      "FACT5    1.190952\n",
      "FACT6    0.957809\n",
      "FACT7    1.075705\n",
      "dtype: float64\n"
     ]
    }
   ],
   "source": [
    "Q1 = df_factores.quantile(0.25)\n",
    "Q3 = df_factores.quantile(0.75)\n",
    "IQR = Q3 - Q1\n",
    "print(IQR)"
   ]
  },
  {
   "cell_type": "code",
   "execution_count": 17,
   "metadata": {},
   "outputs": [
    {
     "name": "stdout",
     "output_type": "stream",
     "text": [
      "     FACT1  FACT2  FACT3  FACT4  FACT5  FACT6  FACT7\n",
      "0    False  False  False  False  False  False  False\n",
      "1    False  False  False  False  False  False  False\n",
      "2    False  False  False  False  False  False  False\n",
      "3    False  False  False  False  False  False  False\n",
      "4    False  False  False  False  False  False  False\n",
      "..     ...    ...    ...    ...    ...    ...    ...\n",
      "925  False   True   True   True  False  False  False\n",
      "926  False  False  False  False  False  False  False\n",
      "927  False   True  False  False  False  False  False\n",
      "928  False  False  False  False   True  False  False\n",
      "929  False  False  False  False  False  False  False\n",
      "\n",
      "[930 rows x 7 columns]\n"
     ]
    }
   ],
   "source": [
    "print((df_factores < (Q1 - 1.5 * IQR)) | (df_factores > (Q3 + 1.5 * IQR)))"
   ]
  },
  {
   "cell_type": "code",
   "execution_count": 18,
   "metadata": {},
   "outputs": [],
   "source": [
    "df_factores_out = df_factores[~((df_factores < (Q1 - 1.5 * IQR)) |(df_factores > (Q3 + 1.5 * IQR))).any(axis=1)]"
   ]
  },
  {
   "cell_type": "code",
   "execution_count": 19,
   "metadata": {},
   "outputs": [
    {
     "data": {
      "text/html": [
       "<div>\n",
       "<style scoped>\n",
       "    .dataframe tbody tr th:only-of-type {\n",
       "        vertical-align: middle;\n",
       "    }\n",
       "\n",
       "    .dataframe tbody tr th {\n",
       "        vertical-align: top;\n",
       "    }\n",
       "\n",
       "    .dataframe thead th {\n",
       "        text-align: right;\n",
       "    }\n",
       "</style>\n",
       "<table border=\"1\" class=\"dataframe\">\n",
       "  <thead>\n",
       "    <tr style=\"text-align: right;\">\n",
       "      <th></th>\n",
       "      <th>FACT1</th>\n",
       "      <th>FACT2</th>\n",
       "      <th>FACT3</th>\n",
       "      <th>FACT4</th>\n",
       "      <th>FACT5</th>\n",
       "      <th>FACT6</th>\n",
       "      <th>FACT7</th>\n",
       "    </tr>\n",
       "  </thead>\n",
       "  <tbody>\n",
       "    <tr>\n",
       "      <th>0</th>\n",
       "      <td>-1.032383</td>\n",
       "      <td>0.586029</td>\n",
       "      <td>0.293037</td>\n",
       "      <td>-0.143571</td>\n",
       "      <td>1.454930</td>\n",
       "      <td>-0.896071</td>\n",
       "      <td>0.337433</td>\n",
       "    </tr>\n",
       "    <tr>\n",
       "      <th>1</th>\n",
       "      <td>-0.821369</td>\n",
       "      <td>1.295543</td>\n",
       "      <td>-0.601320</td>\n",
       "      <td>0.177825</td>\n",
       "      <td>-1.042699</td>\n",
       "      <td>0.322726</td>\n",
       "      <td>1.391791</td>\n",
       "    </tr>\n",
       "    <tr>\n",
       "      <th>2</th>\n",
       "      <td>-0.355213</td>\n",
       "      <td>0.867851</td>\n",
       "      <td>0.006115</td>\n",
       "      <td>0.199696</td>\n",
       "      <td>0.236346</td>\n",
       "      <td>-0.281901</td>\n",
       "      <td>0.248473</td>\n",
       "    </tr>\n",
       "    <tr>\n",
       "      <th>3</th>\n",
       "      <td>-0.670436</td>\n",
       "      <td>1.641298</td>\n",
       "      <td>0.069191</td>\n",
       "      <td>-0.527535</td>\n",
       "      <td>-0.448241</td>\n",
       "      <td>0.065023</td>\n",
       "      <td>0.228539</td>\n",
       "    </tr>\n",
       "    <tr>\n",
       "      <th>4</th>\n",
       "      <td>-1.162351</td>\n",
       "      <td>-0.236358</td>\n",
       "      <td>0.472900</td>\n",
       "      <td>-0.119226</td>\n",
       "      <td>0.485008</td>\n",
       "      <td>0.421424</td>\n",
       "      <td>0.458227</td>\n",
       "    </tr>\n",
       "  </tbody>\n",
       "</table>\n",
       "</div>"
      ],
      "text/plain": [
       "      FACT1     FACT2     FACT3     FACT4     FACT5     FACT6     FACT7\n",
       "0 -1.032383  0.586029  0.293037 -0.143571  1.454930 -0.896071  0.337433\n",
       "1 -0.821369  1.295543 -0.601320  0.177825 -1.042699  0.322726  1.391791\n",
       "2 -0.355213  0.867851  0.006115  0.199696  0.236346 -0.281901  0.248473\n",
       "3 -0.670436  1.641298  0.069191 -0.527535 -0.448241  0.065023  0.228539\n",
       "4 -1.162351 -0.236358  0.472900 -0.119226  0.485008  0.421424  0.458227"
      ]
     },
     "execution_count": 19,
     "metadata": {},
     "output_type": "execute_result"
    }
   ],
   "source": [
    "df_factores_out.head()"
   ]
  },
  {
   "cell_type": "code",
   "execution_count": 20,
   "metadata": {},
   "outputs": [
    {
     "data": {
      "text/plain": [
       "930"
      ]
     },
     "execution_count": 20,
     "metadata": {},
     "output_type": "execute_result"
    }
   ],
   "source": [
    "len(df_factores)"
   ]
  }
 ],
 "metadata": {
  "kernelspec": {
   "display_name": "Python 3",
   "language": "python",
   "name": "python3"
  },
  "language_info": {
   "codemirror_mode": {
    "name": "ipython",
    "version": 3
   },
   "file_extension": ".py",
   "mimetype": "text/x-python",
   "name": "python",
   "nbconvert_exporter": "python",
   "pygments_lexer": "ipython3",
   "version": "3.7.5-final"
  }
 },
 "nbformat": 4,
 "nbformat_minor": 4
}