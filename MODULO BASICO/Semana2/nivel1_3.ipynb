{
 "cells": [
  {
   "cell_type": "markdown",
   "metadata": {},
   "source": [
    "<center><img src=\"https://media-exp1.licdn.com/dms/image/C4E22AQEbIXZiRVkJPQ/feedshare-shrink_2048_1536/0?e=1602115200&v=beta&t=XHE3KbzKbKy54WYDTfq7VFNUPfNjoIOrjBw6dzFPTfA\" width=\"1000\"></center>"
   ]
  },
  {
   "cell_type": "markdown",
   "metadata": {},
   "source": [
    "# SDC Certified Program in Python for Data Analysis\n",
    "\n",
    "## Tema 3. Importación y conexión de base de datos\n",
    "\n",
    "### Prof. Manuel Sigüeñas, M.Sc.(c) \n",
    "\n",
    "[Perfil](https://socialdata-peru.com/learning/teacher2.php)\n",
    "\n",
    "### Prof. Lenguajes de Programación para Ciencia de Datos / Agile Data Scientists / SCRUMStudy Certified Trainer\n",
    "\n",
    "\n",
    "[msiguenas@socialdata-peru.com](msiguenas@socialdata-peru.com)"
   ]
  },
  {
   "cell_type": "markdown",
   "metadata": {},
   "source": [
    "<a id='beginning'></a>\n",
    "\n",
    "En esta sección veremos diversas opciones para cargar y conectarnos a bases de datos en Python:\n",
    "\n",
    "1. [Importación de bases de datos: json, Excel, spss, stata, dbf, txt, csv, xml](#part1) \n",
    "2. [Conexión a base de datos: PostgreSQL, SQL Server y Oracle](#part2) \n",
    "3. [Laboratorio 3](#part3) "
   ]
  },
  {
   "cell_type": "markdown",
   "metadata": {},
   "source": [
    "<a id='part1'></a>\n",
    "## Importación de bases de datos"
   ]
  },
  {
   "cell_type": "markdown",
   "metadata": {},
   "source": [
    "La mejor recomendación es que sus datos esten almacenados en algun lugar de la web. Y si está en su computadora, que esté en la misma carpeta donde estás escribiendo el código."
   ]
  },
  {
   "cell_type": "markdown",
   "metadata": {},
   "source": [
    "### JSON"
   ]
  },
  {
   "cell_type": "markdown",
   "metadata": {},
   "source": [
    "En esta sección cargaremos los ficheros de subvenciones dados en formato JSON. En primer lugar, cargamos la biblioteca **json**"
   ]
  },
  {
   "cell_type": "code",
   "execution_count": 5,
   "metadata": {},
   "outputs": [],
   "source": [
    "#pip install json"
   ]
  },
  {
   "cell_type": "code",
   "execution_count": 4,
   "metadata": {},
   "outputs": [],
   "source": [
    "import json5"
   ]
  },
  {
   "cell_type": "code",
   "execution_count": 3,
   "metadata": {},
   "outputs": [],
   "source": [
    "import json\n",
    "import pandas as pd"
   ]
  },
  {
   "cell_type": "markdown",
   "metadata": {},
   "source": [
    "Los objetos JSON se cargan en Python como diccionarios, mientras que los *arrays* JSON se traducen como listas Python. Con esta información podemos usar **load** para cargar y visualizar el fichero:"
   ]
  },
  {
   "cell_type": "code",
   "execution_count": 8,
   "metadata": {},
   "outputs": [],
   "source": [
    "file= 'D:/Python/1. Nivel I/3/datos/subvenciones.json'"
   ]
  },
  {
   "cell_type": "code",
   "execution_count": 10,
   "metadata": {},
   "outputs": [],
   "source": [
    "with open(file, encoding='utf-8') as fichero:\n",
    "    datos = json.load(fichero)"
   ]
  },
  {
   "cell_type": "code",
   "execution_count": 12,
   "metadata": {},
   "outputs": [
    {
     "name": "stdout",
     "output_type": "stream",
     "text": [
      "[{'Asociación': 'AMPA ANTONIO MACHADO', 'Actividad Subvencionada': 'TALLER FIESTA DE CARNAVAL', 'Importe en euros': '94.56'}, {'Asociación': 'AMPA ANTONIO MACHADO', 'Actividad Subvencionada': 'TALLER DIA DEL PADRE', 'Importe en euros': '39.04 '}, {'Asociación': 'AMPA ANTONIO MACHADO', 'Actividad Subvencionada': 'TALLER DIA DE LA MADRE', 'Importe en euros': '43.64 '}]\n"
     ]
    }
   ],
   "source": [
    "print(datos[0:3])"
   ]
  },
  {
   "cell_type": "code",
   "execution_count": 13,
   "metadata": {},
   "outputs": [
    {
     "data": {
      "text/plain": [
       "list"
      ]
     },
     "execution_count": 13,
     "metadata": {},
     "output_type": "execute_result"
    }
   ],
   "source": [
    "type(datos)"
   ]
  },
  {
   "cell_type": "code",
   "execution_count": 14,
   "metadata": {},
   "outputs": [
    {
     "data": {
      "text/plain": [
       "dict"
      ]
     },
     "execution_count": 14,
     "metadata": {},
     "output_type": "execute_result"
    }
   ],
   "source": [
    "type(datos[0])"
   ]
  },
  {
   "cell_type": "markdown",
   "metadata": {},
   "source": [
    "Los datos usados fueron descargados de la [iniciativa de datos abiertos del Gobierno de España](http://datos.gob.es/) en marzo de 2018. Los ficheros en CSV, JSON, XML y XLS se refieren a las subvenciones asignadas en 2016 a asociaciones del ámbito educativo por el ayuntamiento de Alcobendas."
   ]
  },
  {
   "cell_type": "markdown",
   "metadata": {},
   "source": [
    "Como vemos, nuestro fichero JSON consiste en una lista de objetos donde cada uno de estos objetos se corresponde con una subvención, es decir, contiene 3 campos correspondientes a **\"Asociación\"**, **\"Actividad Subvencionada\"** e **\"Importe en euros\"**."
   ]
  },
  {
   "cell_type": "code",
   "execution_count": 15,
   "metadata": {},
   "outputs": [],
   "source": [
    "subvenciones=pd.DataFrame(datos)"
   ]
  },
  {
   "cell_type": "code",
   "execution_count": 16,
   "metadata": {},
   "outputs": [
    {
     "data": {
      "text/html": [
       "<div>\n",
       "<style scoped>\n",
       "    .dataframe tbody tr th:only-of-type {\n",
       "        vertical-align: middle;\n",
       "    }\n",
       "\n",
       "    .dataframe tbody tr th {\n",
       "        vertical-align: top;\n",
       "    }\n",
       "\n",
       "    .dataframe thead th {\n",
       "        text-align: right;\n",
       "    }\n",
       "</style>\n",
       "<table border=\"1\" class=\"dataframe\">\n",
       "  <thead>\n",
       "    <tr style=\"text-align: right;\">\n",
       "      <th></th>\n",
       "      <th>Asociación</th>\n",
       "      <th>Actividad Subvencionada</th>\n",
       "      <th>Importe en euros</th>\n",
       "    </tr>\n",
       "  </thead>\n",
       "  <tbody>\n",
       "    <tr>\n",
       "      <th>0</th>\n",
       "      <td>AMPA ANTONIO MACHADO</td>\n",
       "      <td>TALLER FIESTA DE CARNAVAL</td>\n",
       "      <td>94.56</td>\n",
       "    </tr>\n",
       "    <tr>\n",
       "      <th>1</th>\n",
       "      <td>AMPA ANTONIO MACHADO</td>\n",
       "      <td>TALLER DIA DEL PADRE</td>\n",
       "      <td>39.04</td>\n",
       "    </tr>\n",
       "    <tr>\n",
       "      <th>2</th>\n",
       "      <td>AMPA ANTONIO MACHADO</td>\n",
       "      <td>TALLER DIA DE LA MADRE</td>\n",
       "      <td>43.64</td>\n",
       "    </tr>\n",
       "    <tr>\n",
       "      <th>3</th>\n",
       "      <td>AMPA ANTONIO MACHADO</td>\n",
       "      <td>FIESTA FIN DE CURSO</td>\n",
       "      <td>921.00</td>\n",
       "    </tr>\n",
       "    <tr>\n",
       "      <th>4</th>\n",
       "      <td>AMPA ANTONIO MACHADO</td>\n",
       "      <td>CONCURSO LOGOTIPO AMPA</td>\n",
       "      <td>56.57</td>\n",
       "    </tr>\n",
       "    <tr>\n",
       "      <th>5</th>\n",
       "      <td>AMPA ANTONIO MACHADO</td>\n",
       "      <td>ASOCIACION FAPA ALCOBENDAS</td>\n",
       "      <td>80.00</td>\n",
       "    </tr>\n",
       "    <tr>\n",
       "      <th>6</th>\n",
       "      <td>AMPA ANTONIO MACHADO</td>\n",
       "      <td>ASOCIACION FAPA GINER DE LOS RIOS</td>\n",
       "      <td>86.79</td>\n",
       "    </tr>\n",
       "    <tr>\n",
       "      <th>7</th>\n",
       "      <td>AMPA ANTONIO MACHADO</td>\n",
       "      <td>FIESTA DE NAVIDAD</td>\n",
       "      <td>660.00</td>\n",
       "    </tr>\n",
       "    <tr>\n",
       "      <th>8</th>\n",
       "      <td>AMPA ANTONIO MACHADO</td>\n",
       "      <td>HALLOWEEN</td>\n",
       "      <td>168.39</td>\n",
       "    </tr>\n",
       "    <tr>\n",
       "      <th>9</th>\n",
       "      <td>AMPA ANTONIO MACHADO</td>\n",
       "      <td>SAN ISIDRO</td>\n",
       "      <td>195.00</td>\n",
       "    </tr>\n",
       "  </tbody>\n",
       "</table>\n",
       "</div>"
      ],
      "text/plain": [
       "             Asociación            Actividad Subvencionada Importe en euros\n",
       "0  AMPA ANTONIO MACHADO          TALLER FIESTA DE CARNAVAL            94.56\n",
       "1  AMPA ANTONIO MACHADO               TALLER DIA DEL PADRE           39.04 \n",
       "2  AMPA ANTONIO MACHADO             TALLER DIA DE LA MADRE           43.64 \n",
       "3  AMPA ANTONIO MACHADO                FIESTA FIN DE CURSO          921.00 \n",
       "4  AMPA ANTONIO MACHADO             CONCURSO LOGOTIPO AMPA           56.57 \n",
       "5  AMPA ANTONIO MACHADO         ASOCIACION FAPA ALCOBENDAS           80.00 \n",
       "6  AMPA ANTONIO MACHADO  ASOCIACION FAPA GINER DE LOS RIOS           86.79 \n",
       "7  AMPA ANTONIO MACHADO                  FIESTA DE NAVIDAD          660.00 \n",
       "8  AMPA ANTONIO MACHADO                          HALLOWEEN          168.39 \n",
       "9  AMPA ANTONIO MACHADO                         SAN ISIDRO          195.00 "
      ]
     },
     "execution_count": 16,
     "metadata": {},
     "output_type": "execute_result"
    }
   ],
   "source": [
    "subvenciones.head(10)"
   ]
  },
  {
   "cell_type": "markdown",
   "metadata": {},
   "source": [
    "### Excel"
   ]
  },
  {
   "cell_type": "markdown",
   "metadata": {},
   "source": [
    "Si tiene el archivo en Excel:"
   ]
  },
  {
   "cell_type": "code",
   "execution_count": 18,
   "metadata": {},
   "outputs": [],
   "source": [
    "#pip install xLrd"
   ]
  },
  {
   "cell_type": "code",
   "execution_count": 17,
   "metadata": {},
   "outputs": [],
   "source": [
    "#\n",
    "import pandas as pd"
   ]
  },
  {
   "cell_type": "code",
   "execution_count": 20,
   "metadata": {},
   "outputs": [],
   "source": [
    "#import xLrd"
   ]
  },
  {
   "cell_type": "code",
   "execution_count": 18,
   "metadata": {},
   "outputs": [],
   "source": [
    "file_xlsx = 'D:/Python/1. Nivel I/3/datos/subvenciones_df.xls'"
   ]
  },
  {
   "cell_type": "code",
   "execution_count": 19,
   "metadata": {},
   "outputs": [
    {
     "data": {
      "text/html": [
       "<div>\n",
       "<style scoped>\n",
       "    .dataframe tbody tr th:only-of-type {\n",
       "        vertical-align: middle;\n",
       "    }\n",
       "\n",
       "    .dataframe tbody tr th {\n",
       "        vertical-align: top;\n",
       "    }\n",
       "\n",
       "    .dataframe thead th {\n",
       "        text-align: right;\n",
       "    }\n",
       "</style>\n",
       "<table border=\"1\" class=\"dataframe\">\n",
       "  <thead>\n",
       "    <tr style=\"text-align: right;\">\n",
       "      <th></th>\n",
       "      <th>Unnamed: 0</th>\n",
       "      <th>Asociación</th>\n",
       "      <th>Actividad Subvencionada</th>\n",
       "      <th>Importe</th>\n",
       "    </tr>\n",
       "  </thead>\n",
       "  <tbody>\n",
       "    <tr>\n",
       "      <th>0</th>\n",
       "      <td>0</td>\n",
       "      <td>AMPA ANTONIO MACHADO</td>\n",
       "      <td>TALLER FIESTA DE CARNAVAL</td>\n",
       "      <td>94.56</td>\n",
       "    </tr>\n",
       "    <tr>\n",
       "      <th>1</th>\n",
       "      <td>1</td>\n",
       "      <td>AMPA ANTONIO MACHADO</td>\n",
       "      <td>TALLER DIA DEL PADRE</td>\n",
       "      <td>39.04</td>\n",
       "    </tr>\n",
       "    <tr>\n",
       "      <th>2</th>\n",
       "      <td>2</td>\n",
       "      <td>AMPA ANTONIO MACHADO</td>\n",
       "      <td>TALLER DIA DE LA MADRE</td>\n",
       "      <td>43.64</td>\n",
       "    </tr>\n",
       "    <tr>\n",
       "      <th>3</th>\n",
       "      <td>3</td>\n",
       "      <td>AMPA ANTONIO MACHADO</td>\n",
       "      <td>FIESTA FIN DE CURSO</td>\n",
       "      <td>921.00</td>\n",
       "    </tr>\n",
       "    <tr>\n",
       "      <th>4</th>\n",
       "      <td>4</td>\n",
       "      <td>AMPA ANTONIO MACHADO</td>\n",
       "      <td>CONCURSO LOGOTIPO AMPA</td>\n",
       "      <td>56.57</td>\n",
       "    </tr>\n",
       "    <tr>\n",
       "      <th>5</th>\n",
       "      <td>5</td>\n",
       "      <td>AMPA ANTONIO MACHADO</td>\n",
       "      <td>ASOCIACION FAPA ALCOBENDAS</td>\n",
       "      <td>80.00</td>\n",
       "    </tr>\n",
       "    <tr>\n",
       "      <th>6</th>\n",
       "      <td>6</td>\n",
       "      <td>AMPA ANTONIO MACHADO</td>\n",
       "      <td>ASOCIACION FAPA GINER DE LOS RIOS</td>\n",
       "      <td>86.79</td>\n",
       "    </tr>\n",
       "    <tr>\n",
       "      <th>7</th>\n",
       "      <td>7</td>\n",
       "      <td>AMPA ANTONIO MACHADO</td>\n",
       "      <td>FIESTA DE NAVIDAD</td>\n",
       "      <td>660.00</td>\n",
       "    </tr>\n",
       "    <tr>\n",
       "      <th>8</th>\n",
       "      <td>8</td>\n",
       "      <td>AMPA ANTONIO MACHADO</td>\n",
       "      <td>HALLOWEEN</td>\n",
       "      <td>168.39</td>\n",
       "    </tr>\n",
       "    <tr>\n",
       "      <th>9</th>\n",
       "      <td>9</td>\n",
       "      <td>AMPA ANTONIO MACHADO</td>\n",
       "      <td>SAN ISIDRO</td>\n",
       "      <td>195.00</td>\n",
       "    </tr>\n",
       "  </tbody>\n",
       "</table>\n",
       "</div>"
      ],
      "text/plain": [
       "   Unnamed: 0            Asociación           Actividad Subvencionada   \\\n",
       "0           0  AMPA ANTONIO MACHADO          TALLER FIESTA DE CARNAVAL   \n",
       "1           1  AMPA ANTONIO MACHADO               TALLER DIA DEL PADRE   \n",
       "2           2  AMPA ANTONIO MACHADO             TALLER DIA DE LA MADRE   \n",
       "3           3  AMPA ANTONIO MACHADO                FIESTA FIN DE CURSO   \n",
       "4           4  AMPA ANTONIO MACHADO             CONCURSO LOGOTIPO AMPA   \n",
       "5           5  AMPA ANTONIO MACHADO         ASOCIACION FAPA ALCOBENDAS   \n",
       "6           6  AMPA ANTONIO MACHADO  ASOCIACION FAPA GINER DE LOS RIOS   \n",
       "7           7  AMPA ANTONIO MACHADO                  FIESTA DE NAVIDAD   \n",
       "8           8  AMPA ANTONIO MACHADO                          HALLOWEEN   \n",
       "9           9  AMPA ANTONIO MACHADO                         SAN ISIDRO   \n",
       "\n",
       "   Importe  \n",
       "0    94.56  \n",
       "1    39.04  \n",
       "2    43.64  \n",
       "3   921.00  \n",
       "4    56.57  \n",
       "5    80.00  \n",
       "6    86.79  \n",
       "7   660.00  \n",
       "8   168.39  \n",
       "9   195.00  "
      ]
     },
     "execution_count": 19,
     "metadata": {},
     "output_type": "execute_result"
    }
   ],
   "source": [
    "dataExcel=pd.read_excel(file_xlsx,\n",
    "                        sheet_name='Hoja1') # no need for '0'\n",
    "dataExcel.head(10)"
   ]
  },
  {
   "cell_type": "markdown",
   "metadata": {},
   "source": [
    "### SPSS"
   ]
  },
  {
   "cell_type": "code",
   "execution_count": 5,
   "metadata": {},
   "outputs": [],
   "source": [
    "#import pandas.rpy.common as com"
   ]
  },
  {
   "cell_type": "code",
   "execution_count": null,
   "metadata": {},
   "outputs": [],
   "source": [
    "#pip install pyreadstat"
   ]
  },
  {
   "cell_type": "code",
   "execution_count": 21,
   "metadata": {},
   "outputs": [],
   "source": [
    "import pyreadstat"
   ]
  },
  {
   "cell_type": "code",
   "execution_count": 22,
   "metadata": {},
   "outputs": [],
   "source": [
    "filesav = 'D:/Python/1. Nivel I/3/datos/distritos.sav'\n",
    "df, meta = pyreadstat.read_sav(filesav)"
   ]
  },
  {
   "cell_type": "markdown",
   "metadata": {},
   "source": [
    "- distrito: nombre del distrito\n",
    "- ocu_vivi: hogares en cada vivienda\n",
    "- pobpjov: % de población en pueblos jóvenes\n",
    "- sinelect: % de población sin electricidad\n",
    "- sinagua: % de población sin agua\n",
    "- pea1619: PEA entre 16 y 19 años\n",
    "- pocprin: % de población de 6-19 con primaria completa\n",
    "- peam 15: PEA menores de 15 años"
   ]
  },
  {
   "cell_type": "code",
   "execution_count": 23,
   "metadata": {},
   "outputs": [
    {
     "data": {
      "text/html": [
       "<div>\n",
       "<style scoped>\n",
       "    .dataframe tbody tr th:only-of-type {\n",
       "        vertical-align: middle;\n",
       "    }\n",
       "\n",
       "    .dataframe tbody tr th {\n",
       "        vertical-align: top;\n",
       "    }\n",
       "\n",
       "    .dataframe thead th {\n",
       "        text-align: right;\n",
       "    }\n",
       "</style>\n",
       "<table border=\"1\" class=\"dataframe\">\n",
       "  <thead>\n",
       "    <tr style=\"text-align: right;\">\n",
       "      <th></th>\n",
       "      <th>distrito</th>\n",
       "      <th>ocu_vivi</th>\n",
       "      <th>pobpjov</th>\n",
       "      <th>sinelect</th>\n",
       "      <th>sinagua</th>\n",
       "      <th>pea1619</th>\n",
       "      <th>pocprin</th>\n",
       "      <th>peam15</th>\n",
       "    </tr>\n",
       "  </thead>\n",
       "  <tbody>\n",
       "    <tr>\n",
       "      <th>0</th>\n",
       "      <td>Ate</td>\n",
       "      <td>1.15</td>\n",
       "      <td>5.3</td>\n",
       "      <td>27.60</td>\n",
       "      <td>51.10</td>\n",
       "      <td>3.9</td>\n",
       "      <td>1.1</td>\n",
       "      <td>63.48</td>\n",
       "    </tr>\n",
       "    <tr>\n",
       "      <th>1</th>\n",
       "      <td>Barranco</td>\n",
       "      <td>1.09</td>\n",
       "      <td>4.5</td>\n",
       "      <td>1.59</td>\n",
       "      <td>8.32</td>\n",
       "      <td>0.8</td>\n",
       "      <td>3.9</td>\n",
       "      <td>33.48</td>\n",
       "    </tr>\n",
       "    <tr>\n",
       "      <th>2</th>\n",
       "      <td>Breña</td>\n",
       "      <td>1.08</td>\n",
       "      <td>4.4</td>\n",
       "      <td>2.20</td>\n",
       "      <td>23.15</td>\n",
       "      <td>0.9</td>\n",
       "      <td>4.0</td>\n",
       "      <td>37.89</td>\n",
       "    </tr>\n",
       "    <tr>\n",
       "      <th>3</th>\n",
       "      <td>Carabayllo</td>\n",
       "      <td>1.10</td>\n",
       "      <td>5.1</td>\n",
       "      <td>30.13</td>\n",
       "      <td>38.09</td>\n",
       "      <td>4.5</td>\n",
       "      <td>12.6</td>\n",
       "      <td>63.65</td>\n",
       "    </tr>\n",
       "    <tr>\n",
       "      <th>4</th>\n",
       "      <td>Comas</td>\n",
       "      <td>1.20</td>\n",
       "      <td>5.9</td>\n",
       "      <td>10.92</td>\n",
       "      <td>24.27</td>\n",
       "      <td>3.8</td>\n",
       "      <td>9.4</td>\n",
       "      <td>60.37</td>\n",
       "    </tr>\n",
       "    <tr>\n",
       "      <th>5</th>\n",
       "      <td>Chorrillos</td>\n",
       "      <td>1.15</td>\n",
       "      <td>5.5</td>\n",
       "      <td>16.77</td>\n",
       "      <td>37.11</td>\n",
       "      <td>3.2</td>\n",
       "      <td>10.6</td>\n",
       "      <td>18.78</td>\n",
       "    </tr>\n",
       "    <tr>\n",
       "      <th>6</th>\n",
       "      <td>Agustino</td>\n",
       "      <td>1.22</td>\n",
       "      <td>6.0</td>\n",
       "      <td>16.42</td>\n",
       "      <td>41.16</td>\n",
       "      <td>4.5</td>\n",
       "      <td>13.5</td>\n",
       "      <td>55.84</td>\n",
       "    </tr>\n",
       "    <tr>\n",
       "      <th>7</th>\n",
       "      <td>Independencia</td>\n",
       "      <td>1.19</td>\n",
       "      <td>5.9</td>\n",
       "      <td>9.61</td>\n",
       "      <td>21.58</td>\n",
       "      <td>4.0</td>\n",
       "      <td>10.5</td>\n",
       "      <td>60.16</td>\n",
       "    </tr>\n",
       "    <tr>\n",
       "      <th>8</th>\n",
       "      <td>Jesús María</td>\n",
       "      <td>1.03</td>\n",
       "      <td>4.2</td>\n",
       "      <td>0.57</td>\n",
       "      <td>14.78</td>\n",
       "      <td>0.3</td>\n",
       "      <td>3.1</td>\n",
       "      <td>23.52</td>\n",
       "    </tr>\n",
       "    <tr>\n",
       "      <th>9</th>\n",
       "      <td>La Victoria</td>\n",
       "      <td>1.06</td>\n",
       "      <td>4.7</td>\n",
       "      <td>3.09</td>\n",
       "      <td>25.79</td>\n",
       "      <td>1.7</td>\n",
       "      <td>7.8</td>\n",
       "      <td>49.21</td>\n",
       "    </tr>\n",
       "  </tbody>\n",
       "</table>\n",
       "</div>"
      ],
      "text/plain": [
       "        distrito  ocu_vivi  pobpjov  sinelect  sinagua  pea1619  pocprin  \\\n",
       "0            Ate      1.15      5.3     27.60    51.10      3.9      1.1   \n",
       "1       Barranco      1.09      4.5      1.59     8.32      0.8      3.9   \n",
       "2          Breña      1.08      4.4      2.20    23.15      0.9      4.0   \n",
       "3     Carabayllo      1.10      5.1     30.13    38.09      4.5     12.6   \n",
       "4          Comas      1.20      5.9     10.92    24.27      3.8      9.4   \n",
       "5     Chorrillos      1.15      5.5     16.77    37.11      3.2     10.6   \n",
       "6       Agustino      1.22      6.0     16.42    41.16      4.5     13.5   \n",
       "7  Independencia      1.19      5.9      9.61    21.58      4.0     10.5   \n",
       "8    Jesús María      1.03      4.2      0.57    14.78      0.3      3.1   \n",
       "9    La Victoria      1.06      4.7      3.09    25.79      1.7      7.8   \n",
       "\n",
       "   peam15  \n",
       "0   63.48  \n",
       "1   33.48  \n",
       "2   37.89  \n",
       "3   63.65  \n",
       "4   60.37  \n",
       "5   18.78  \n",
       "6   55.84  \n",
       "7   60.16  \n",
       "8   23.52  \n",
       "9   49.21  "
      ]
     },
     "execution_count": 23,
     "metadata": {},
     "output_type": "execute_result"
    }
   ],
   "source": [
    "df.head(10)"
   ]
  },
  {
   "cell_type": "markdown",
   "metadata": {},
   "source": [
    "### Stata"
   ]
  },
  {
   "cell_type": "code",
   "execution_count": 26,
   "metadata": {},
   "outputs": [],
   "source": [
    "import pandas as pd"
   ]
  },
  {
   "cell_type": "markdown",
   "metadata": {},
   "source": [
    "Vamos a descargar un archivo en stata, del American National Election Studies (ANES). Y me interesan unas variables en particular:"
   ]
  },
  {
   "cell_type": "code",
   "execution_count": 27,
   "metadata": {},
   "outputs": [],
   "source": [
    "varsOfInterest=[\"libcpre_self\",\"libcpo_self\"]"
   ]
  },
  {
   "cell_type": "markdown",
   "metadata": {},
   "source": [
    "Pandas se encargará:"
   ]
  },
  {
   "cell_type": "code",
   "execution_count": 28,
   "metadata": {},
   "outputs": [],
   "source": [
    "file= 'D:/Python/1. Nivel I/3/datos/anes_timeseries_2012.dta'"
   ]
  },
  {
   "cell_type": "code",
   "execution_count": 29,
   "metadata": {},
   "outputs": [],
   "source": [
    "dataStata=pd.read_stata(file,\n",
    "                        columns=varsOfInterest)"
   ]
  },
  {
   "cell_type": "code",
   "execution_count": 39,
   "metadata": {},
   "outputs": [
    {
     "data": {
      "text/html": [
       "<div>\n",
       "<style scoped>\n",
       "    .dataframe tbody tr th:only-of-type {\n",
       "        vertical-align: middle;\n",
       "    }\n",
       "\n",
       "    .dataframe tbody tr th {\n",
       "        vertical-align: top;\n",
       "    }\n",
       "\n",
       "    .dataframe thead th {\n",
       "        text-align: right;\n",
       "    }\n",
       "</style>\n",
       "<table border=\"1\" class=\"dataframe\">\n",
       "  <thead>\n",
       "    <tr style=\"text-align: right;\">\n",
       "      <th></th>\n",
       "      <th>libcpre_self</th>\n",
       "      <th>libcpo_self</th>\n",
       "    </tr>\n",
       "  </thead>\n",
       "  <tbody>\n",
       "    <tr>\n",
       "      <th>0</th>\n",
       "      <td>1. Extremely liberal</td>\n",
       "      <td>-6. Not asked, unit nonresponse (no post-elect...</td>\n",
       "    </tr>\n",
       "    <tr>\n",
       "      <th>1</th>\n",
       "      <td>1. Extremely liberal</td>\n",
       "      <td>2. Liberal</td>\n",
       "    </tr>\n",
       "    <tr>\n",
       "      <th>2</th>\n",
       "      <td>-2. Haven't thought much about this</td>\n",
       "      <td>2. Liberal</td>\n",
       "    </tr>\n",
       "    <tr>\n",
       "      <th>3</th>\n",
       "      <td>-2. Haven't thought much about this</td>\n",
       "      <td>-8. Don't know</td>\n",
       "    </tr>\n",
       "    <tr>\n",
       "      <th>4</th>\n",
       "      <td>2. Liberal</td>\n",
       "      <td>2. Liberal</td>\n",
       "    </tr>\n",
       "    <tr>\n",
       "      <th>5</th>\n",
       "      <td>-8. Don't know</td>\n",
       "      <td>4. Moderate; middle of the road</td>\n",
       "    </tr>\n",
       "    <tr>\n",
       "      <th>6</th>\n",
       "      <td>-2. Haven't thought much about this</td>\n",
       "      <td>-2. Haven't thought much {do not probe}</td>\n",
       "    </tr>\n",
       "    <tr>\n",
       "      <th>7</th>\n",
       "      <td>-2. Haven't thought much about this</td>\n",
       "      <td>-2. Haven't thought much {do not probe}</td>\n",
       "    </tr>\n",
       "    <tr>\n",
       "      <th>8</th>\n",
       "      <td>4. Moderate; middle of the road</td>\n",
       "      <td>4. Moderate; middle of the road</td>\n",
       "    </tr>\n",
       "    <tr>\n",
       "      <th>9</th>\n",
       "      <td>6. Conservative</td>\n",
       "      <td>6. Conservative</td>\n",
       "    </tr>\n",
       "  </tbody>\n",
       "</table>\n",
       "</div>"
      ],
      "text/plain": [
       "                          libcpre_self  \\\n",
       "0                 1. Extremely liberal   \n",
       "1                 1. Extremely liberal   \n",
       "2  -2. Haven't thought much about this   \n",
       "3  -2. Haven't thought much about this   \n",
       "4                           2. Liberal   \n",
       "5                       -8. Don't know   \n",
       "6  -2. Haven't thought much about this   \n",
       "7  -2. Haven't thought much about this   \n",
       "8      4. Moderate; middle of the road   \n",
       "9                      6. Conservative   \n",
       "\n",
       "                                         libcpo_self  \n",
       "0  -6. Not asked, unit nonresponse (no post-elect...  \n",
       "1                                         2. Liberal  \n",
       "2                                         2. Liberal  \n",
       "3                                     -8. Don't know  \n",
       "4                                         2. Liberal  \n",
       "5                    4. Moderate; middle of the road  \n",
       "6            -2. Haven't thought much {do not probe}  \n",
       "7            -2. Haven't thought much {do not probe}  \n",
       "8                    4. Moderate; middle of the road  \n",
       "9                                    6. Conservative  "
      ]
     },
     "execution_count": 39,
     "metadata": {},
     "output_type": "execute_result"
    }
   ],
   "source": [
    "dataStata.head(10)"
   ]
  },
  {
   "cell_type": "markdown",
   "metadata": {},
   "source": [
    "### CSV"
   ]
  },
  {
   "cell_type": "markdown",
   "metadata": {},
   "source": [
    "Los CSV son muy sencillos de cargar:"
   ]
  },
  {
   "cell_type": "code",
   "execution_count": 31,
   "metadata": {},
   "outputs": [
    {
     "data": {
      "text/html": [
       "<div>\n",
       "<style scoped>\n",
       "    .dataframe tbody tr th:only-of-type {\n",
       "        vertical-align: middle;\n",
       "    }\n",
       "\n",
       "    .dataframe tbody tr th {\n",
       "        vertical-align: top;\n",
       "    }\n",
       "\n",
       "    .dataframe thead th {\n",
       "        text-align: right;\n",
       "    }\n",
       "</style>\n",
       "<table border=\"1\" class=\"dataframe\">\n",
       "  <thead>\n",
       "    <tr style=\"text-align: right;\">\n",
       "      <th></th>\n",
       "      <th>treated</th>\n",
       "      <th>age</th>\n",
       "      <th>education</th>\n",
       "      <th>black</th>\n",
       "      <th>married</th>\n",
       "      <th>nodegree</th>\n",
       "      <th>re74</th>\n",
       "      <th>re75</th>\n",
       "      <th>re78</th>\n",
       "      <th>hispanic</th>\n",
       "      <th>u74</th>\n",
       "      <th>u75</th>\n",
       "    </tr>\n",
       "  </thead>\n",
       "  <tbody>\n",
       "    <tr>\n",
       "      <th>0</th>\n",
       "      <td>1</td>\n",
       "      <td>33</td>\n",
       "      <td>12</td>\n",
       "      <td>0</td>\n",
       "      <td>1</td>\n",
       "      <td>0</td>\n",
       "      <td>0.000000</td>\n",
       "      <td>0.000000</td>\n",
       "      <td>12418.070312</td>\n",
       "      <td>0</td>\n",
       "      <td>1</td>\n",
       "      <td>1</td>\n",
       "    </tr>\n",
       "    <tr>\n",
       "      <th>1</th>\n",
       "      <td>1</td>\n",
       "      <td>20</td>\n",
       "      <td>12</td>\n",
       "      <td>0</td>\n",
       "      <td>1</td>\n",
       "      <td>0</td>\n",
       "      <td>8644.156250</td>\n",
       "      <td>8644.156250</td>\n",
       "      <td>11656.505859</td>\n",
       "      <td>0</td>\n",
       "      <td>0</td>\n",
       "      <td>0</td>\n",
       "    </tr>\n",
       "    <tr>\n",
       "      <th>2</th>\n",
       "      <td>0</td>\n",
       "      <td>39</td>\n",
       "      <td>12</td>\n",
       "      <td>1</td>\n",
       "      <td>1</td>\n",
       "      <td>0</td>\n",
       "      <td>19785.320312</td>\n",
       "      <td>6608.137207</td>\n",
       "      <td>499.257202</td>\n",
       "      <td>0</td>\n",
       "      <td>0</td>\n",
       "      <td>0</td>\n",
       "    </tr>\n",
       "    <tr>\n",
       "      <th>3</th>\n",
       "      <td>1</td>\n",
       "      <td>49</td>\n",
       "      <td>8</td>\n",
       "      <td>0</td>\n",
       "      <td>1</td>\n",
       "      <td>1</td>\n",
       "      <td>9714.596680</td>\n",
       "      <td>7285.947754</td>\n",
       "      <td>16717.121094</td>\n",
       "      <td>0</td>\n",
       "      <td>0</td>\n",
       "      <td>0</td>\n",
       "    </tr>\n",
       "    <tr>\n",
       "      <th>4</th>\n",
       "      <td>0</td>\n",
       "      <td>26</td>\n",
       "      <td>8</td>\n",
       "      <td>0</td>\n",
       "      <td>1</td>\n",
       "      <td>1</td>\n",
       "      <td>37211.757812</td>\n",
       "      <td>36941.265625</td>\n",
       "      <td>30247.500000</td>\n",
       "      <td>0</td>\n",
       "      <td>0</td>\n",
       "      <td>0</td>\n",
       "    </tr>\n",
       "    <tr>\n",
       "      <th>5</th>\n",
       "      <td>0</td>\n",
       "      <td>38</td>\n",
       "      <td>10</td>\n",
       "      <td>1</td>\n",
       "      <td>1</td>\n",
       "      <td>1</td>\n",
       "      <td>14759.063477</td>\n",
       "      <td>14701.947266</td>\n",
       "      <td>4393.522949</td>\n",
       "      <td>0</td>\n",
       "      <td>0</td>\n",
       "      <td>0</td>\n",
       "    </tr>\n",
       "    <tr>\n",
       "      <th>6</th>\n",
       "      <td>0</td>\n",
       "      <td>28</td>\n",
       "      <td>12</td>\n",
       "      <td>0</td>\n",
       "      <td>0</td>\n",
       "      <td>0</td>\n",
       "      <td>0.000000</td>\n",
       "      <td>803.343018</td>\n",
       "      <td>16477.019531</td>\n",
       "      <td>0</td>\n",
       "      <td>1</td>\n",
       "      <td>0</td>\n",
       "    </tr>\n",
       "    <tr>\n",
       "      <th>7</th>\n",
       "      <td>0</td>\n",
       "      <td>27</td>\n",
       "      <td>12</td>\n",
       "      <td>1</td>\n",
       "      <td>1</td>\n",
       "      <td>0</td>\n",
       "      <td>0.000000</td>\n",
       "      <td>752.390076</td>\n",
       "      <td>0.000000</td>\n",
       "      <td>0</td>\n",
       "      <td>1</td>\n",
       "      <td>0</td>\n",
       "    </tr>\n",
       "    <tr>\n",
       "      <th>8</th>\n",
       "      <td>1</td>\n",
       "      <td>33</td>\n",
       "      <td>12</td>\n",
       "      <td>1</td>\n",
       "      <td>1</td>\n",
       "      <td>0</td>\n",
       "      <td>20279.949219</td>\n",
       "      <td>10941.349609</td>\n",
       "      <td>15952.599609</td>\n",
       "      <td>0</td>\n",
       "      <td>0</td>\n",
       "      <td>0</td>\n",
       "    </tr>\n",
       "    <tr>\n",
       "      <th>9</th>\n",
       "      <td>0</td>\n",
       "      <td>44</td>\n",
       "      <td>9</td>\n",
       "      <td>1</td>\n",
       "      <td>1</td>\n",
       "      <td>1</td>\n",
       "      <td>12260.780273</td>\n",
       "      <td>10857.240234</td>\n",
       "      <td>12359.309570</td>\n",
       "      <td>0</td>\n",
       "      <td>0</td>\n",
       "      <td>0</td>\n",
       "    </tr>\n",
       "  </tbody>\n",
       "</table>\n",
       "</div>"
      ],
      "text/plain": [
       "   treated  age  education  black  married  nodegree          re74  \\\n",
       "0        1   33         12      0        1         0      0.000000   \n",
       "1        1   20         12      0        1         0   8644.156250   \n",
       "2        0   39         12      1        1         0  19785.320312   \n",
       "3        1   49          8      0        1         1   9714.596680   \n",
       "4        0   26          8      0        1         1  37211.757812   \n",
       "5        0   38         10      1        1         1  14759.063477   \n",
       "6        0   28         12      0        0         0      0.000000   \n",
       "7        0   27         12      1        1         0      0.000000   \n",
       "8        1   33         12      1        1         0  20279.949219   \n",
       "9        0   44          9      1        1         1  12260.780273   \n",
       "\n",
       "           re75          re78  hispanic  u74  u75  \n",
       "0      0.000000  12418.070312         0    1    1  \n",
       "1   8644.156250  11656.505859         0    0    0  \n",
       "2   6608.137207    499.257202         0    0    0  \n",
       "3   7285.947754  16717.121094         0    0    0  \n",
       "4  36941.265625  30247.500000         0    0    0  \n",
       "5  14701.947266   4393.522949         0    0    0  \n",
       "6    803.343018  16477.019531         0    1    0  \n",
       "7    752.390076      0.000000         0    1    0  \n",
       "8  10941.349609  15952.599609         0    0    0  \n",
       "9  10857.240234  12359.309570         0    0    0  "
      ]
     },
     "execution_count": 31,
     "metadata": {},
     "output_type": "execute_result"
    }
   ],
   "source": [
    "FileCSV=\"D:/Python/1. Nivel I/3/datos/LL.csv\"\n",
    "dataCSV=pd.read_csv(FileCSV,\n",
    "                    sep=\",\")\n",
    "dataCSV.head(10)"
   ]
  },
  {
   "cell_type": "markdown",
   "metadata": {},
   "source": [
    "### TXT"
   ]
  },
  {
   "cell_type": "code",
   "execution_count": 33,
   "metadata": {},
   "outputs": [
    {
     "data": {
      "text/html": [
       "<div>\n",
       "<style scoped>\n",
       "    .dataframe tbody tr th:only-of-type {\n",
       "        vertical-align: middle;\n",
       "    }\n",
       "\n",
       "    .dataframe tbody tr th {\n",
       "        vertical-align: top;\n",
       "    }\n",
       "\n",
       "    .dataframe thead th {\n",
       "        text-align: right;\n",
       "    }\n",
       "</style>\n",
       "<table border=\"1\" class=\"dataframe\">\n",
       "  <thead>\n",
       "    <tr style=\"text-align: right;\">\n",
       "      <th></th>\n",
       "      <th>0</th>\n",
       "      <th>1</th>\n",
       "      <th>2</th>\n",
       "      <th>3</th>\n",
       "      <th>4</th>\n",
       "      <th>5</th>\n",
       "      <th>6</th>\n",
       "      <th>7</th>\n",
       "      <th>8</th>\n",
       "      <th>9</th>\n",
       "      <th>10</th>\n",
       "      <th>11</th>\n",
       "      <th>12</th>\n",
       "      <th>13</th>\n",
       "    </tr>\n",
       "  </thead>\n",
       "  <tbody>\n",
       "    <tr>\n",
       "      <th>0</th>\n",
       "      <td>0.00632</td>\n",
       "      <td>18.0</td>\n",
       "      <td>2.31</td>\n",
       "      <td>0</td>\n",
       "      <td>0.538</td>\n",
       "      <td>6.575</td>\n",
       "      <td>65.2</td>\n",
       "      <td>4.0900</td>\n",
       "      <td>1</td>\n",
       "      <td>296.0</td>\n",
       "      <td>15.3</td>\n",
       "      <td>396.90</td>\n",
       "      <td>4.98</td>\n",
       "      <td>24.0</td>\n",
       "    </tr>\n",
       "    <tr>\n",
       "      <th>1</th>\n",
       "      <td>0.02731</td>\n",
       "      <td>0.0</td>\n",
       "      <td>7.07</td>\n",
       "      <td>0</td>\n",
       "      <td>0.469</td>\n",
       "      <td>6.421</td>\n",
       "      <td>78.9</td>\n",
       "      <td>4.9671</td>\n",
       "      <td>2</td>\n",
       "      <td>242.0</td>\n",
       "      <td>17.8</td>\n",
       "      <td>396.90</td>\n",
       "      <td>9.14</td>\n",
       "      <td>21.6</td>\n",
       "    </tr>\n",
       "    <tr>\n",
       "      <th>2</th>\n",
       "      <td>0.02729</td>\n",
       "      <td>0.0</td>\n",
       "      <td>7.07</td>\n",
       "      <td>0</td>\n",
       "      <td>0.469</td>\n",
       "      <td>7.185</td>\n",
       "      <td>61.1</td>\n",
       "      <td>4.9671</td>\n",
       "      <td>2</td>\n",
       "      <td>242.0</td>\n",
       "      <td>17.8</td>\n",
       "      <td>392.83</td>\n",
       "      <td>4.03</td>\n",
       "      <td>34.7</td>\n",
       "    </tr>\n",
       "    <tr>\n",
       "      <th>3</th>\n",
       "      <td>0.03237</td>\n",
       "      <td>0.0</td>\n",
       "      <td>2.18</td>\n",
       "      <td>0</td>\n",
       "      <td>0.458</td>\n",
       "      <td>6.998</td>\n",
       "      <td>45.8</td>\n",
       "      <td>6.0622</td>\n",
       "      <td>3</td>\n",
       "      <td>222.0</td>\n",
       "      <td>18.7</td>\n",
       "      <td>394.63</td>\n",
       "      <td>2.94</td>\n",
       "      <td>33.4</td>\n",
       "    </tr>\n",
       "    <tr>\n",
       "      <th>4</th>\n",
       "      <td>0.06905</td>\n",
       "      <td>0.0</td>\n",
       "      <td>2.18</td>\n",
       "      <td>0</td>\n",
       "      <td>0.458</td>\n",
       "      <td>7.147</td>\n",
       "      <td>54.2</td>\n",
       "      <td>6.0622</td>\n",
       "      <td>3</td>\n",
       "      <td>222.0</td>\n",
       "      <td>18.7</td>\n",
       "      <td>396.90</td>\n",
       "      <td>5.33</td>\n",
       "      <td>36.2</td>\n",
       "    </tr>\n",
       "  </tbody>\n",
       "</table>\n",
       "</div>"
      ],
      "text/plain": [
       "        0     1     2   3      4      5     6       7   8      9     10  \\\n",
       "0  0.00632  18.0  2.31   0  0.538  6.575  65.2  4.0900   1  296.0  15.3   \n",
       "1  0.02731   0.0  7.07   0  0.469  6.421  78.9  4.9671   2  242.0  17.8   \n",
       "2  0.02729   0.0  7.07   0  0.469  7.185  61.1  4.9671   2  242.0  17.8   \n",
       "3  0.03237   0.0  2.18   0  0.458  6.998  45.8  6.0622   3  222.0  18.7   \n",
       "4  0.06905   0.0  2.18   0  0.458  7.147  54.2  6.0622   3  222.0  18.7   \n",
       "\n",
       "       11    12    13  \n",
       "0  396.90  4.98  24.0  \n",
       "1  396.90  9.14  21.6  \n",
       "2  392.83  4.03  34.7  \n",
       "3  394.63  2.94  33.4  \n",
       "4  396.90  5.33  36.2  "
      ]
     },
     "execution_count": 33,
     "metadata": {},
     "output_type": "execute_result"
    }
   ],
   "source": [
    "import pandas as pd\n",
    "\n",
    "df = pd.read_csv('D:/Python/2. Nivel II/5/datos/housing.data.txt', #ruta de archivo txt\n",
    "                 header=None, #header=None: no tiene encabezado\n",
    "                 sep='\\s+') #sep indica la opción de separación de las columnas\n",
    "\n",
    "df.head()"
   ]
  },
  {
   "cell_type": "code",
   "execution_count": 34,
   "metadata": {},
   "outputs": [
    {
     "data": {
      "text/html": [
       "<div>\n",
       "<style scoped>\n",
       "    .dataframe tbody tr th:only-of-type {\n",
       "        vertical-align: middle;\n",
       "    }\n",
       "\n",
       "    .dataframe tbody tr th {\n",
       "        vertical-align: top;\n",
       "    }\n",
       "\n",
       "    .dataframe thead th {\n",
       "        text-align: right;\n",
       "    }\n",
       "</style>\n",
       "<table border=\"1\" class=\"dataframe\">\n",
       "  <thead>\n",
       "    <tr style=\"text-align: right;\">\n",
       "      <th></th>\n",
       "      <th>CRIM</th>\n",
       "      <th>ZN</th>\n",
       "      <th>INDUS</th>\n",
       "      <th>CHAS</th>\n",
       "      <th>NOX</th>\n",
       "      <th>RM</th>\n",
       "      <th>AGE</th>\n",
       "      <th>DIS</th>\n",
       "      <th>RAD</th>\n",
       "      <th>TAX</th>\n",
       "      <th>PTRATIO</th>\n",
       "      <th>B</th>\n",
       "      <th>LSTAT</th>\n",
       "      <th>MEDV</th>\n",
       "    </tr>\n",
       "  </thead>\n",
       "  <tbody>\n",
       "    <tr>\n",
       "      <th>0</th>\n",
       "      <td>0.00632</td>\n",
       "      <td>18.0</td>\n",
       "      <td>2.31</td>\n",
       "      <td>0</td>\n",
       "      <td>0.538</td>\n",
       "      <td>6.575</td>\n",
       "      <td>65.2</td>\n",
       "      <td>4.0900</td>\n",
       "      <td>1</td>\n",
       "      <td>296.0</td>\n",
       "      <td>15.3</td>\n",
       "      <td>396.90</td>\n",
       "      <td>4.98</td>\n",
       "      <td>24.0</td>\n",
       "    </tr>\n",
       "    <tr>\n",
       "      <th>1</th>\n",
       "      <td>0.02731</td>\n",
       "      <td>0.0</td>\n",
       "      <td>7.07</td>\n",
       "      <td>0</td>\n",
       "      <td>0.469</td>\n",
       "      <td>6.421</td>\n",
       "      <td>78.9</td>\n",
       "      <td>4.9671</td>\n",
       "      <td>2</td>\n",
       "      <td>242.0</td>\n",
       "      <td>17.8</td>\n",
       "      <td>396.90</td>\n",
       "      <td>9.14</td>\n",
       "      <td>21.6</td>\n",
       "    </tr>\n",
       "    <tr>\n",
       "      <th>2</th>\n",
       "      <td>0.02729</td>\n",
       "      <td>0.0</td>\n",
       "      <td>7.07</td>\n",
       "      <td>0</td>\n",
       "      <td>0.469</td>\n",
       "      <td>7.185</td>\n",
       "      <td>61.1</td>\n",
       "      <td>4.9671</td>\n",
       "      <td>2</td>\n",
       "      <td>242.0</td>\n",
       "      <td>17.8</td>\n",
       "      <td>392.83</td>\n",
       "      <td>4.03</td>\n",
       "      <td>34.7</td>\n",
       "    </tr>\n",
       "    <tr>\n",
       "      <th>3</th>\n",
       "      <td>0.03237</td>\n",
       "      <td>0.0</td>\n",
       "      <td>2.18</td>\n",
       "      <td>0</td>\n",
       "      <td>0.458</td>\n",
       "      <td>6.998</td>\n",
       "      <td>45.8</td>\n",
       "      <td>6.0622</td>\n",
       "      <td>3</td>\n",
       "      <td>222.0</td>\n",
       "      <td>18.7</td>\n",
       "      <td>394.63</td>\n",
       "      <td>2.94</td>\n",
       "      <td>33.4</td>\n",
       "    </tr>\n",
       "    <tr>\n",
       "      <th>4</th>\n",
       "      <td>0.06905</td>\n",
       "      <td>0.0</td>\n",
       "      <td>2.18</td>\n",
       "      <td>0</td>\n",
       "      <td>0.458</td>\n",
       "      <td>7.147</td>\n",
       "      <td>54.2</td>\n",
       "      <td>6.0622</td>\n",
       "      <td>3</td>\n",
       "      <td>222.0</td>\n",
       "      <td>18.7</td>\n",
       "      <td>396.90</td>\n",
       "      <td>5.33</td>\n",
       "      <td>36.2</td>\n",
       "    </tr>\n",
       "  </tbody>\n",
       "</table>\n",
       "</div>"
      ],
      "text/plain": [
       "      CRIM    ZN  INDUS  CHAS    NOX     RM   AGE     DIS  RAD    TAX  \\\n",
       "0  0.00632  18.0   2.31     0  0.538  6.575  65.2  4.0900    1  296.0   \n",
       "1  0.02731   0.0   7.07     0  0.469  6.421  78.9  4.9671    2  242.0   \n",
       "2  0.02729   0.0   7.07     0  0.469  7.185  61.1  4.9671    2  242.0   \n",
       "3  0.03237   0.0   2.18     0  0.458  6.998  45.8  6.0622    3  222.0   \n",
       "4  0.06905   0.0   2.18     0  0.458  7.147  54.2  6.0622    3  222.0   \n",
       "\n",
       "   PTRATIO       B  LSTAT  MEDV  \n",
       "0     15.3  396.90   4.98  24.0  \n",
       "1     17.8  396.90   9.14  21.6  \n",
       "2     17.8  392.83   4.03  34.7  \n",
       "3     18.7  394.63   2.94  33.4  \n",
       "4     18.7  396.90   5.33  36.2  "
      ]
     },
     "execution_count": 34,
     "metadata": {},
     "output_type": "execute_result"
    }
   ],
   "source": [
    "df.columns = ['CRIM', 'ZN', 'INDUS', 'CHAS', \n",
    "              'NOX', 'RM', 'AGE', 'DIS', 'RAD', \n",
    "              'TAX', 'PTRATIO', 'B', 'LSTAT', 'MEDV']\n",
    "df.head()"
   ]
  },
  {
   "cell_type": "markdown",
   "metadata": {},
   "source": [
    "[Ir a Inicio](#beginning)\n",
    "\n",
    "_____"
   ]
  },
  {
   "cell_type": "markdown",
   "metadata": {},
   "source": [
    "<a id='part2'></a>\n",
    "## Conexión a bases de datos"
   ]
  },
  {
   "cell_type": "markdown",
   "metadata": {},
   "source": [
    "### Microsoft SQL Server "
   ]
  },
  {
   "cell_type": "code",
   "execution_count": 43,
   "metadata": {},
   "outputs": [],
   "source": [
    "#!pip install pandas"
   ]
  },
  {
   "cell_type": "code",
   "execution_count": 43,
   "metadata": {},
   "outputs": [],
   "source": [
    "import pandas.io.sql\n",
    "import pandas as pd\n",
    "import pyodbc\n",
    "import numpy as np\n",
    "import psycopg2"
   ]
  },
  {
   "cell_type": "code",
   "execution_count": 44,
   "metadata": {},
   "outputs": [],
   "source": [
    "conexion = pyodbc.connect('DRIVER={SQL Server};SERVER=69.164.192.245;DATABASE=NEPTUNO;UID=SA;PWD=SdC2019PERU!')\n",
    "# Parámetros\n",
    "#SERVER = '69.164.192.245'\n",
    "#DATABASE = 'NEPTUNO'\n",
    "#UID = 'SA'\n",
    "#PWD = 'SdC2019PERU!'\n",
    "\n",
    "#con = psycopg2.connect(\"dbname=profesor user=postgres password=sdc2019PERU host=69.164.192.245\")"
   ]
  },
  {
   "cell_type": "markdown",
   "metadata": {},
   "source": [
    "Tanto para ejecutar una sentencia **SQL** para actualizar, insertar o borrar datos, como para consultar datos, necesitamos un objeto específico llamado **cursor**. Así pues, antes de realizar cualquiera de estas operaciones, procedemos a la obtención del mismo:"
   ]
  },
  {
   "cell_type": "code",
   "execution_count": 45,
   "metadata": {},
   "outputs": [],
   "source": [
    "cursor = conexion.cursor()\n",
    "#SELECT * from tabla_resultados"
   ]
  },
  {
   "cell_type": "markdown",
   "metadata": {},
   "source": [
    "**Método fetchall()**\n",
    "\n",
    "extrae todos los registros que cumplen con la condición especificada, si asignamos su resultado a la variable **rows**, podemos iterar y obtener la información de todos los registros. En realidad, obtendremos una tupla donde cada uno de los valores se corresponder con el de los campos de la tabla. Así pues, si quisiéramos obtener solamente el valor correspondiente a los millones de habitantes de cada país, bastaría sustituir la sentencia *print(row)* de nuestro bucle, por *print(row[3])*."
   ]
  },
  {
   "cell_type": "code",
   "execution_count": 46,
   "metadata": {},
   "outputs": [
    {
     "name": "stdout",
     "output_type": "stream",
     "text": [
      "(1, 'Té Dharamsala', 1, 1, '10 cajas x 20 bolsas', Decimal('18'), 39, 0, 10, 0, 'Categoria D')\n",
      "(2, 'Cerveza tibetana Barley', 1, 1, '24 - bot. 12 l', Decimal('19'), 17, 40, 25, 0, 'Categoria D')\n",
      "(3, 'Sirope de regaliz', 1, 2, '12 - bot. 550 ml', Decimal('10'), 13, 70, 25, 0, 'Categoria D')\n",
      "(4, 'Especias Cajun del chef Anton', 2, 2, '48 - frascos 6 l', Decimal('22'), 53, 0, 0, 0, 'Categoria D')\n",
      "(5, 'Mezcla Gumbo del chef Anton', 2, 2, '36 cajas', Decimal('21'), 0, 0, 0, 1, 'Categoria D')\n",
      "(6, 'Mermelada de grosellas de la abuela', 3, 2, '12 - frascos 8 l', Decimal('25'), 120, 0, 25, 0, 'Categoria D')\n",
      "(7, 'Peras secas orgánicas del tío Bob', 3, 7, '12 - paq. 1 kg', Decimal('30'), 15, 0, 10, 0, 'Categoria D')\n",
      "(8, 'Salsa de arándanos Northwoods', 3, 2, '12 - frascos 12 l', Decimal('40'), 6, 0, 0, 0, 'Categoria D')\n",
      "(9, 'Buey Mishi Kobe', 4, 6, '18 - paq. 500 g', Decimal('97'), 29, 0, 0, 1, 'Categoria D')\n",
      "(10, 'Pez espada', 4, 8, '12 - frascos 200 ml', Decimal('31'), 31, 0, 0, 0, 'Categoria D')\n",
      "(11, 'Queso Cabrales', 5, 4, 'paq. 1 kg', Decimal('21'), 22, 30, 30, 0, 'Categoria D')\n",
      "(12, 'Queso Manchego La Pastora', 5, 4, '10 - paq. 500 g', Decimal('38'), 86, 0, 0, 0, 'Categoria D')\n",
      "(13, 'Algas Konbu', 6, 8, 'caja 2 kg', Decimal('6'), 24, 0, 5, 0, 'Categoria D')\n",
      "(14, 'Cuajada de judías', 6, 7, '40 - paq. 100 g', Decimal('23'), 35, 0, 0, 0, 'Categoria D')\n",
      "(15, 'Salsa de soja baja en sodio', 6, 2, '24 - bot. 250 ml', Decimal('16'), 39, 0, 5, 0, None)\n",
      "(16, 'Postre de merengue Pavlova', 7, 3, '32 - cajas 500 g', Decimal('17'), 29, 0, 10, 0, 'Categoria D')\n",
      "(17, 'Cordero Alice Springs', 7, 6, '20 - latas 1 kg', Decimal('39'), 0, 0, 0, 1, 'Categoria D')\n",
      "(18, 'Langostinos tigre Carnarvon', 7, 8, 'paq. 16 kg', Decimal('63'), 42, 0, 0, 0, 'Categoria D')\n",
      "(19, 'Pastas de té de chocolate', 8, 3, '10 cajas x 12 piezas', Decimal('9'), 25, 0, 5, 0, 'Categoria D')\n",
      "(20, \"Mermelada de Sir Rodney's\", 8, 3, '30 cajas regalo', Decimal('81'), 40, 0, 0, 0, 'Categoria D')\n",
      "(21, \"Bollos de Sir Rodney's\", 8, 3, '24 paq. x 4 piezas', Decimal('10'), 3, 40, 5, 0, 'Categoria D')\n",
      "(22, \"Pan de centeno crujiente estilo Gustaf's\", 9, 5, '24 - paq. 500 g', Decimal('21'), 104, 0, 25, 0, 'Categoria D')\n",
      "(23, 'Pan fino', 9, 5, '12 - paq. 250 g', Decimal('9'), 61, 0, 25, 0, 'Categoria D')\n",
      "(24, 'Refresco Guaraná Fantástica', 10, 1, '12 - latas 355 ml', Decimal('5'), 20, 0, 0, 1, 'Categoria D')\n",
      "(25, 'Crema de chocolate y nueces NuNuCa', 11, 3, '20 - vasos  450 g', Decimal('14'), 76, 0, 30, 0, 'Categoria D')\n",
      "(26, 'Ositos de goma Gumbär', 11, 3, '100 - bolsas 250 g', Decimal('31'), 15, 0, 0, 0, 'Categoria D')\n",
      "(27, 'Chocolate Schoggi', 11, 3, '100 - piezas 100 g', Decimal('44'), 49, 0, 30, 0, 'Categoria D')\n",
      "(28, 'Col fermentada Rössle', 12, 7, '25 - latas 825 g', Decimal('46'), 26, 0, 0, 1, 'Categoria D')\n",
      "(29, 'Salchicha Thüringer', 12, 6, '50 bolsas x 30 salch', Decimal('124'), 0, 0, 0, 1, 'Categoria B')\n",
      "(30, 'Arenque blanco del noroeste', 13, 8, '10 - vasos 200 g', Decimal('26'), 10, 0, 15, 0, 'Categoria D')\n",
      "(31, 'Queso gorgonzola Telino', 14, 4, '12 - paq. 100 g', Decimal('13'), 0, 70, 20, 0, 'Categoria D')\n",
      "(32, 'Queso Mascarpone Fabioli', 14, 4, '24 - paq. 200 g', Decimal('32'), 9, 40, 25, 0, 'Categoria D')\n",
      "(33, 'Queso de cabra', 15, 4, '500 g', Decimal('3'), 112, 0, 20, 0, 'Categoria D')\n",
      "(34, 'Cerveza Sasquatch', 16, 1, '24 - bot. 12 l', Decimal('14'), 111, 0, 15, 0, 'Categoria D')\n",
      "(35, 'Cerveza negra Steeleye', 16, 1, '24 - bot. 12 l', Decimal('18'), 20, 0, 15, 0, 'Categoria D')\n",
      "(36, 'Escabeche de arenque', 17, 8, '24 - frascos 250 g', Decimal('19'), 112, 0, 20, 0, 'Categoria D')\n",
      "(37, 'Salmón ahumado Gravad', 17, 8, '12 - paq. 500 g', Decimal('26'), 11, 50, 25, 0, 'Categoria D')\n",
      "(38, 'Vino Côte de Blaye', 18, 1, '12 - bot. 75 cl', Decimal('264'), 17, 0, 15, 0, 'Categoria A')\n",
      "(39, 'Licor verde Chartreuse', 18, 1, '750 cc por bot.', Decimal('18'), 69, 0, 5, 0, 'Categoria D')\n",
      "(40, 'Carne de cangrejo de Boston', 19, 8, '24 - latas 4 l', Decimal('18'), 123, 0, 30, 0, 'Categoria D')\n",
      "(41, 'Crema de almejas estilo Nueva Inglaterra', 19, 8, '12 - latas 12 l', Decimal('10'), 85, 0, 10, 0, 'Categoria D')\n",
      "(42, 'Tallarines de Singapur', 20, 5, '32 - 1 kg paq.', Decimal('14'), 26, 0, 0, 1, 'Categoria D')\n",
      "(43, 'Café de Malasia', 20, 1, '16 - latas 500 g', Decimal('46'), 17, 10, 25, 0, 'Categoria D')\n",
      "(44, 'Azúcar negra Malacca', 20, 2, '20 - bolsas 2 kg', Decimal('19'), 27, 0, 15, 0, 'Categoria D')\n",
      "(45, 'Arenque ahumado', 21, 8, 'paq. 1k', Decimal('10'), 5, 70, 15, 0, 'Categoria D')\n",
      "(46, 'Arenque salado', 21, 8, '4 - vasos 450 g', Decimal('12'), 95, 0, 0, 0, 'Categoria D')\n",
      "(47, 'Galletas Zaanse', 22, 3, '10 - cajas 4 l', Decimal('10'), 36, 0, 0, 0, 'Categoria D')\n",
      "(48, 'Chocolate holandés', 22, 3, '10 paq.', Decimal('13'), 15, 70, 25, 0, 'Categoria D')\n",
      "(49, 'Regaliz', 23, 3, '24 - paq. 50 g', Decimal('20'), 10, 60, 15, 0, 'Categoria D')\n",
      "(50, 'Chocolate blanco', 23, 3, '12 - barras 100 g', Decimal('16'), 65, 0, 30, 0, 'Categoria D')\n",
      "(51, 'Manzanas secas Manjimup', 24, 7, '50 - paq. 300 g', Decimal('53'), 20, 0, 10, 0, 'Categoria C')\n",
      "(52, 'Cereales para Filo', 24, 5, '16 - cajas 2 kg', Decimal('7'), 38, 0, 25, 0, 'Categoria D')\n",
      "(53, 'Empanada de carne', 24, 6, '48 porc.', Decimal('33'), 0, 0, 0, 1, 'Categoria D')\n",
      "(54, 'Empanada de cerdo', 25, 6, '16 tartas', Decimal('7'), 21, 0, 10, 0, 'Categoria D')\n",
      "(55, 'Paté chino', 25, 6, '24 cajas x 2 tartas', Decimal('24'), 115, 0, 20, 0, 'Categoria D')\n",
      "(56, 'Gnocchi de la abuela Alicia', 26, 5, '24 - paq. 250 g', Decimal('38'), 21, 10, 30, 0, 'Categoria D')\n",
      "(57, 'Raviolis Angelo', 26, 5, '24 - paq. 250 g', Decimal('20'), 36, 0, 20, 0, 'Categoria D')\n",
      "(58, 'Caracoles de Borgoña', 27, 8, '24 porc.', Decimal('13'), 62, 0, 20, 0, 'Categoria D')\n",
      "(59, 'Raclet de queso Courdavault', 28, 4, 'paq. 5 kg', Decimal('55'), 79, 0, 0, 0, 'Categoria C')\n",
      "(60, 'Camembert Pierrot', 28, 4, '15 - paq. 300 g', Decimal('34'), 19, 0, 0, 0, 'Categoria C')\n",
      "(61, 'Sirope de arce', 29, 2, '24 - bot. 500 ml', Decimal('29'), 113, 0, 25, 0, 'Categoria D')\n",
      "(62, 'Tarta de azúcar', 29, 3, '48 tartas', Decimal('49'), 17, 0, 0, 0, 'Categoria C')\n",
      "(63, 'Sandwich de vegetales', 7, 2, '15 - frascos 625 g', Decimal('44'), 24, 0, 5, 0, 'Categoria D')\n",
      "(64, 'Bollos de pan de Wimmer', 12, 5, '20 bolsas x 4 porc.', Decimal('33'), 22, 80, 30, 0, 'Categoria D')\n",
      "(65, 'Salsa de pimiento picante de Luisiana', 2, 2, '32 - bot. 8 l', Decimal('21'), 76, 0, 0, 0, 'Categoria D')\n",
      "(66, 'Especias picantes de Luisiana', 2, 2, '24 - frascos 8 l', Decimal('17'), 4, 100, 20, 0, 'Categoria D')\n",
      "(67, 'Cerveza Laughing Lumberjack', 16, 1, '24 - bot. 12 l', Decimal('14'), 52, 0, 10, 0, 'Categoria D')\n",
      "(68, 'Barras de pan de Escocia', 8, 3, '10 cajas x 8 porc.', Decimal('13'), 6, 10, 15, 0, 'Categoria D')\n",
      "(69, 'Queso Gudbrandsdals', 15, 4, 'paq. 10 kg', Decimal('36'), 26, 0, 15, 0, 'Categoria D')\n",
      "(70, 'Cerveza Outback', 7, 1, '24 - bot. 355 ml', Decimal('15'), 15, 10, 30, 0, 'Categoria D')\n",
      "(71, 'Crema de queso Fløtemys', 15, 4, '10 - paq. 500 g', Decimal('22'), 26, 0, 0, 0, 'Categoria D')\n",
      "(72, 'Queso Mozzarella Giovanni', 14, 4, '24 - paq. 200 g', Decimal('35'), 14, 0, 0, 0, 'Categoria D')\n",
      "(73, 'Caviar rojo', 17, 8, '24 - frascos150 g', Decimal('15'), 101, 0, 5, 0, 'Categoria D')\n",
      "(74, 'Queso de soja Longlife', 4, 7, 'paq. 5 kg', Decimal('10'), 4, 20, 5, 0, 'Categoria D')\n",
      "(75, 'Cerveza Klosterbier Rhönbräu', 12, 1, '24 - bot. 0,5 l', Decimal('8'), 125, 0, 25, 0, 'Categoria D')\n",
      "(76, 'Licor Cloudberry', 23, 1, '500 ml', Decimal('18'), 57, 0, 20, 0, 'Categoria D')\n",
      "(77, 'Salsa verde original Frankfurter', 12, 2, '12 cajas', Decimal('13'), 32, 0, 15, 0, 'Categoria D')\n"
     ]
    }
   ],
   "source": [
    "sql = 'SELECT  * from productos' # sentencia SQL\n",
    "cursor.execute(sql) #ejecutar sentencia SQL mediante cursor\n",
    "rows = cursor.fetchall() #método fetchall\n",
    "for row in rows:\n",
    "    print(row)"
   ]
  },
  {
   "cell_type": "code",
   "execution_count": 47,
   "metadata": {},
   "outputs": [],
   "source": [
    "conexion.close() # cerrar la conexión"
   ]
  },
  {
   "cell_type": "markdown",
   "metadata": {},
   "source": [
    "#### Manera incorrecta de generar un data frame"
   ]
  },
  {
   "cell_type": "code",
   "execution_count": 48,
   "metadata": {},
   "outputs": [
    {
     "data": {
      "text/html": [
       "<div>\n",
       "<style scoped>\n",
       "    .dataframe tbody tr th:only-of-type {\n",
       "        vertical-align: middle;\n",
       "    }\n",
       "\n",
       "    .dataframe tbody tr th {\n",
       "        vertical-align: top;\n",
       "    }\n",
       "\n",
       "    .dataframe thead th {\n",
       "        text-align: right;\n",
       "    }\n",
       "</style>\n",
       "<table border=\"1\" class=\"dataframe\">\n",
       "  <thead>\n",
       "    <tr style=\"text-align: right;\">\n",
       "      <th></th>\n",
       "      <th>nombreProducto</th>\n",
       "    </tr>\n",
       "  </thead>\n",
       "  <tbody>\n",
       "    <tr>\n",
       "      <th>0</th>\n",
       "      <td>[1, Té Dharamsala, 1, 1, 10 cajas x 20 bolsas,...</td>\n",
       "    </tr>\n",
       "    <tr>\n",
       "      <th>1</th>\n",
       "      <td>[2, Cerveza tibetana Barley, 1, 1, 24 - bot. 1...</td>\n",
       "    </tr>\n",
       "    <tr>\n",
       "      <th>2</th>\n",
       "      <td>[3, Sirope de regaliz, 1, 2, 12 - bot. 550 ml,...</td>\n",
       "    </tr>\n",
       "    <tr>\n",
       "      <th>3</th>\n",
       "      <td>[4, Especias Cajun del chef Anton, 2, 2, 48 - ...</td>\n",
       "    </tr>\n",
       "    <tr>\n",
       "      <th>4</th>\n",
       "      <td>[5, Mezcla Gumbo del chef Anton, 2, 2, 36 caja...</td>\n",
       "    </tr>\n",
       "  </tbody>\n",
       "</table>\n",
       "</div>"
      ],
      "text/plain": [
       "                                      nombreProducto\n",
       "0  [1, Té Dharamsala, 1, 1, 10 cajas x 20 bolsas,...\n",
       "1  [2, Cerveza tibetana Barley, 1, 1, 24 - bot. 1...\n",
       "2  [3, Sirope de regaliz, 1, 2, 12 - bot. 550 ml,...\n",
       "3  [4, Especias Cajun del chef Anton, 2, 2, 48 - ...\n",
       "4  [5, Mezcla Gumbo del chef Anton, 2, 2, 36 caja..."
      ]
     },
     "execution_count": 48,
     "metadata": {},
     "output_type": "execute_result"
    }
   ],
   "source": [
    "#MANERA INCORRECTA DE CONVERSIÓN A FORMATO DATAFRAME\n",
    "#creandolo:\n",
    "DF_lists=pd.DataFrame(rows,columns=['nombreProducto'])\n",
    "DF_lists.head()"
   ]
  },
  {
   "cell_type": "markdown",
   "metadata": {},
   "source": [
    "#### Manera correcta de generar un data frame"
   ]
  },
  {
   "cell_type": "code",
   "execution_count": 49,
   "metadata": {},
   "outputs": [
    {
     "data": {
      "text/html": [
       "<div>\n",
       "<style scoped>\n",
       "    .dataframe tbody tr th:only-of-type {\n",
       "        vertical-align: middle;\n",
       "    }\n",
       "\n",
       "    .dataframe tbody tr th {\n",
       "        vertical-align: top;\n",
       "    }\n",
       "\n",
       "    .dataframe thead th {\n",
       "        text-align: right;\n",
       "    }\n",
       "</style>\n",
       "<table border=\"1\" class=\"dataframe\">\n",
       "  <thead>\n",
       "    <tr style=\"text-align: right;\">\n",
       "      <th></th>\n",
       "      <th>ID</th>\n",
       "      <th>nombreProducto</th>\n",
       "      <th>idProveedor</th>\n",
       "      <th>idCategoria</th>\n",
       "      <th>cantidadPorUnidad</th>\n",
       "      <th>precioUnidad</th>\n",
       "      <th>unidadesEnExistencia</th>\n",
       "      <th>unidadesEnPedido</th>\n",
       "      <th>nivelNuevoPedido</th>\n",
       "      <th>suspendido</th>\n",
       "      <th>categoriaProducto</th>\n",
       "    </tr>\n",
       "  </thead>\n",
       "  <tbody>\n",
       "    <tr>\n",
       "      <th>0</th>\n",
       "      <td>1</td>\n",
       "      <td>Té Dharamsala</td>\n",
       "      <td>1</td>\n",
       "      <td>1</td>\n",
       "      <td>10 cajas x 20 bolsas</td>\n",
       "      <td>18</td>\n",
       "      <td>39</td>\n",
       "      <td>0</td>\n",
       "      <td>10</td>\n",
       "      <td>0</td>\n",
       "      <td>Categoria D</td>\n",
       "    </tr>\n",
       "    <tr>\n",
       "      <th>1</th>\n",
       "      <td>2</td>\n",
       "      <td>Cerveza tibetana Barley</td>\n",
       "      <td>1</td>\n",
       "      <td>1</td>\n",
       "      <td>24 - bot. 12 l</td>\n",
       "      <td>19</td>\n",
       "      <td>17</td>\n",
       "      <td>40</td>\n",
       "      <td>25</td>\n",
       "      <td>0</td>\n",
       "      <td>Categoria D</td>\n",
       "    </tr>\n",
       "    <tr>\n",
       "      <th>2</th>\n",
       "      <td>3</td>\n",
       "      <td>Sirope de regaliz</td>\n",
       "      <td>1</td>\n",
       "      <td>2</td>\n",
       "      <td>12 - bot. 550 ml</td>\n",
       "      <td>10</td>\n",
       "      <td>13</td>\n",
       "      <td>70</td>\n",
       "      <td>25</td>\n",
       "      <td>0</td>\n",
       "      <td>Categoria D</td>\n",
       "    </tr>\n",
       "    <tr>\n",
       "      <th>3</th>\n",
       "      <td>4</td>\n",
       "      <td>Especias Cajun del chef Anton</td>\n",
       "      <td>2</td>\n",
       "      <td>2</td>\n",
       "      <td>48 - frascos 6 l</td>\n",
       "      <td>22</td>\n",
       "      <td>53</td>\n",
       "      <td>0</td>\n",
       "      <td>0</td>\n",
       "      <td>0</td>\n",
       "      <td>Categoria D</td>\n",
       "    </tr>\n",
       "    <tr>\n",
       "      <th>4</th>\n",
       "      <td>5</td>\n",
       "      <td>Mezcla Gumbo del chef Anton</td>\n",
       "      <td>2</td>\n",
       "      <td>2</td>\n",
       "      <td>36 cajas</td>\n",
       "      <td>21</td>\n",
       "      <td>0</td>\n",
       "      <td>0</td>\n",
       "      <td>0</td>\n",
       "      <td>1</td>\n",
       "      <td>Categoria D</td>\n",
       "    </tr>\n",
       "  </tbody>\n",
       "</table>\n",
       "</div>"
      ],
      "text/plain": [
       "  ID                 nombreProducto idProveedor idCategoria  \\\n",
       "0  1                  Té Dharamsala           1           1   \n",
       "1  2        Cerveza tibetana Barley           1           1   \n",
       "2  3              Sirope de regaliz           1           2   \n",
       "3  4  Especias Cajun del chef Anton           2           2   \n",
       "4  5    Mezcla Gumbo del chef Anton           2           2   \n",
       "\n",
       "      cantidadPorUnidad precioUnidad unidadesEnExistencia unidadesEnPedido  \\\n",
       "0  10 cajas x 20 bolsas           18                   39                0   \n",
       "1        24 - bot. 12 l           19                   17               40   \n",
       "2      12 - bot. 550 ml           10                   13               70   \n",
       "3      48 - frascos 6 l           22                   53                0   \n",
       "4              36 cajas           21                    0                0   \n",
       "\n",
       "  nivelNuevoPedido suspendido categoriaProducto  \n",
       "0               10          0       Categoria D  \n",
       "1               25          0       Categoria D  \n",
       "2               25          0       Categoria D  \n",
       "3                0          0       Categoria D  \n",
       "4                0          1       Categoria D  "
      ]
     },
     "execution_count": 49,
     "metadata": {},
     "output_type": "execute_result"
    }
   ],
   "source": [
    "df2 = pd.DataFrame(np.array(rows),\n",
    "                   columns=[\"ID\",'nombreProducto',\"idProveedor\",\"idCategoria\",\"cantidadPorUnidad\",\n",
    "                            'precioUnidad',\"unidadesEnExistencia\",\"unidadesEnPedido\",\n",
    "                            \"nivelNuevoPedido\",'suspendido','categoriaProducto'])\n",
    "df2.head()"
   ]
  },
  {
   "cell_type": "markdown",
   "metadata": {},
   "source": [
    "### PostgreSQL "
   ]
  },
  {
   "cell_type": "markdown",
   "metadata": {},
   "source": [
    "El módulo más popular para trabajar con bases de datos **PostgresSQL** es *psycopg2* y, al igual que en el caso de *pyodbc*, este no forma parte de la librería estándar de **Python**, por lo que hay que instalarlo para poder utilizarlo."
   ]
  },
  {
   "cell_type": "code",
   "execution_count": 26,
   "metadata": {},
   "outputs": [],
   "source": [
    "#pip install psycopg2"
   ]
  },
  {
   "cell_type": "code",
   "execution_count": 51,
   "metadata": {},
   "outputs": [],
   "source": [
    "import psycopg2\n",
    "import pandas as pd"
   ]
  },
  {
   "cell_type": "code",
   "execution_count": 52,
   "metadata": {},
   "outputs": [],
   "source": [
    "con = psycopg2.connect(\"dbname=profesor user=postgres password=sdc2019PERU host=69.164.192.245\")"
   ]
  },
  {
   "cell_type": "code",
   "execution_count": 53,
   "metadata": {},
   "outputs": [],
   "source": [
    "cursor= con.cursor()"
   ]
  },
  {
   "cell_type": "markdown",
   "metadata": {},
   "source": [
    "**Método fetchmany()**\n",
    "\n",
    "puede ser utilizado para obtener un determinado número de filas, basta con pasar como argumentos el número de las que necesitamos, tal como se muestra en el ejemplo:"
   ]
  },
  {
   "cell_type": "code",
   "execution_count": 54,
   "metadata": {},
   "outputs": [
    {
     "data": {
      "text/plain": [
       "[(85, 92, 45, 27, 31, 0.0, 1),\n",
       " (85, 64, 59, 32, 23, 0.0, 2),\n",
       " (86, 54, 33, 16, 54, 0.0, 2),\n",
       " (91, 78, 34, 24, 36, 0.0, 2),\n",
       " (87, 70, 12, 28, 10, 0.0, 2)]"
      ]
     },
     "execution_count": 54,
     "metadata": {},
     "output_type": "execute_result"
    }
   ],
   "source": [
    "sql = 'SELECT * FROM bupa' #sentencia SQL\n",
    "cursor.execute(sql) #ejecutamos la sentencia SQl\n",
    "select = cursor.fetchmany(5) #seleccionamos filas\n",
    "select\n"
   ]
  },
  {
   "cell_type": "code",
   "execution_count": 55,
   "metadata": {},
   "outputs": [
    {
     "data": {
      "text/plain": [
       "list"
      ]
     },
     "execution_count": 55,
     "metadata": {},
     "output_type": "execute_result"
    }
   ],
   "source": [
    "type(select)"
   ]
  },
  {
   "cell_type": "code",
   "execution_count": 56,
   "metadata": {
    "scrolled": false
   },
   "outputs": [],
   "source": [
    "sql = 'SELECT * FROM bupa' #seleccionamos tabla bupa del DB profesor - sentencia SQL\n",
    "cursor.execute(sql) #ejecutamos la sentencia\n",
    "rows = cursor.fetchall() #Utilizamos método fetchall para extraer todas las filas\n",
    "#for row in rows:\n",
    "#    print(row)"
   ]
  },
  {
   "cell_type": "code",
   "execution_count": 57,
   "metadata": {},
   "outputs": [
    {
     "data": {
      "text/plain": [
       "list"
      ]
     },
     "execution_count": 57,
     "metadata": {},
     "output_type": "execute_result"
    }
   ],
   "source": [
    "type(rows)"
   ]
  },
  {
   "cell_type": "code",
   "execution_count": 58,
   "metadata": {},
   "outputs": [],
   "source": [
    "con.close() # cerrar la conexión"
   ]
  },
  {
   "cell_type": "code",
   "execution_count": 60,
   "metadata": {},
   "outputs": [
    {
     "data": {
      "text/html": [
       "<div>\n",
       "<style scoped>\n",
       "    .dataframe tbody tr th:only-of-type {\n",
       "        vertical-align: middle;\n",
       "    }\n",
       "\n",
       "    .dataframe tbody tr th {\n",
       "        vertical-align: top;\n",
       "    }\n",
       "\n",
       "    .dataframe thead th {\n",
       "        text-align: right;\n",
       "    }\n",
       "</style>\n",
       "<table border=\"1\" class=\"dataframe\">\n",
       "  <thead>\n",
       "    <tr style=\"text-align: right;\">\n",
       "      <th></th>\n",
       "      <th>V1</th>\n",
       "      <th>V2</th>\n",
       "      <th>V3</th>\n",
       "      <th>V4</th>\n",
       "      <th>V5</th>\n",
       "      <th>V6</th>\n",
       "      <th>V7</th>\n",
       "    </tr>\n",
       "  </thead>\n",
       "  <tbody>\n",
       "    <tr>\n",
       "      <th>0</th>\n",
       "      <td>85</td>\n",
       "      <td>92</td>\n",
       "      <td>45</td>\n",
       "      <td>27</td>\n",
       "      <td>31</td>\n",
       "      <td>0.0</td>\n",
       "      <td>1</td>\n",
       "    </tr>\n",
       "    <tr>\n",
       "      <th>1</th>\n",
       "      <td>85</td>\n",
       "      <td>64</td>\n",
       "      <td>59</td>\n",
       "      <td>32</td>\n",
       "      <td>23</td>\n",
       "      <td>0.0</td>\n",
       "      <td>2</td>\n",
       "    </tr>\n",
       "    <tr>\n",
       "      <th>2</th>\n",
       "      <td>86</td>\n",
       "      <td>54</td>\n",
       "      <td>33</td>\n",
       "      <td>16</td>\n",
       "      <td>54</td>\n",
       "      <td>0.0</td>\n",
       "      <td>2</td>\n",
       "    </tr>\n",
       "    <tr>\n",
       "      <th>3</th>\n",
       "      <td>91</td>\n",
       "      <td>78</td>\n",
       "      <td>34</td>\n",
       "      <td>24</td>\n",
       "      <td>36</td>\n",
       "      <td>0.0</td>\n",
       "      <td>2</td>\n",
       "    </tr>\n",
       "    <tr>\n",
       "      <th>4</th>\n",
       "      <td>87</td>\n",
       "      <td>70</td>\n",
       "      <td>12</td>\n",
       "      <td>28</td>\n",
       "      <td>10</td>\n",
       "      <td>0.0</td>\n",
       "      <td>2</td>\n",
       "    </tr>\n",
       "    <tr>\n",
       "      <th>5</th>\n",
       "      <td>98</td>\n",
       "      <td>55</td>\n",
       "      <td>13</td>\n",
       "      <td>17</td>\n",
       "      <td>17</td>\n",
       "      <td>0.0</td>\n",
       "      <td>2</td>\n",
       "    </tr>\n",
       "    <tr>\n",
       "      <th>6</th>\n",
       "      <td>88</td>\n",
       "      <td>62</td>\n",
       "      <td>20</td>\n",
       "      <td>17</td>\n",
       "      <td>9</td>\n",
       "      <td>0.5</td>\n",
       "      <td>1</td>\n",
       "    </tr>\n",
       "    <tr>\n",
       "      <th>7</th>\n",
       "      <td>88</td>\n",
       "      <td>67</td>\n",
       "      <td>21</td>\n",
       "      <td>11</td>\n",
       "      <td>11</td>\n",
       "      <td>0.5</td>\n",
       "      <td>1</td>\n",
       "    </tr>\n",
       "    <tr>\n",
       "      <th>8</th>\n",
       "      <td>92</td>\n",
       "      <td>54</td>\n",
       "      <td>22</td>\n",
       "      <td>20</td>\n",
       "      <td>7</td>\n",
       "      <td>0.5</td>\n",
       "      <td>1</td>\n",
       "    </tr>\n",
       "    <tr>\n",
       "      <th>9</th>\n",
       "      <td>90</td>\n",
       "      <td>60</td>\n",
       "      <td>25</td>\n",
       "      <td>19</td>\n",
       "      <td>5</td>\n",
       "      <td>0.5</td>\n",
       "      <td>1</td>\n",
       "    </tr>\n",
       "  </tbody>\n",
       "</table>\n",
       "</div>"
      ],
      "text/plain": [
       "   V1  V2  V3  V4  V5   V6  V7\n",
       "0  85  92  45  27  31  0.0   1\n",
       "1  85  64  59  32  23  0.0   2\n",
       "2  86  54  33  16  54  0.0   2\n",
       "3  91  78  34  24  36  0.0   2\n",
       "4  87  70  12  28  10  0.0   2\n",
       "5  98  55  13  17  17  0.0   2\n",
       "6  88  62  20  17   9  0.5   1\n",
       "7  88  67  21  11  11  0.5   1\n",
       "8  92  54  22  20   7  0.5   1\n",
       "9  90  60  25  19   5  0.5   1"
      ]
     },
     "execution_count": 60,
     "metadata": {},
     "output_type": "execute_result"
    }
   ],
   "source": [
    "df2 = pd.DataFrame(rows,\n",
    "                   columns=['V1', 'V2', 'V3', 'V4', 'V5', 'V6', 'V7'])\n",
    "df2.head(10)"
   ]
  },
  {
   "cell_type": "code",
   "execution_count": 61,
   "metadata": {},
   "outputs": [
    {
     "data": {
      "text/plain": [
       "345"
      ]
     },
     "execution_count": 61,
     "metadata": {},
     "output_type": "execute_result"
    }
   ],
   "source": [
    "len(df2)"
   ]
  },
  {
   "cell_type": "markdown",
   "metadata": {},
   "source": [
    "[Ir a Inicio](#beginning)\n",
    "\n",
    "_____"
   ]
  },
  {
   "cell_type": "markdown",
   "metadata": {},
   "source": [
    "### Oracle"
   ]
  },
  {
   "cell_type": "code",
   "execution_count": null,
   "metadata": {},
   "outputs": [],
   "source": [
    "#pip install cx_Oracle"
   ]
  },
  {
   "cell_type": "code",
   "execution_count": null,
   "metadata": {},
   "outputs": [],
   "source": [
    "import cx_Oracle\n",
    "con = cx_Oracle.connect('system/Sdc_PERU-2020@140.238.185.47/cdb3_gru1fv')\n",
    "#user:system\n",
    "#pass:Sdc_PERU-2020\n",
    "#ip:140.238.185.47\n",
    "#ssid:cdb3_gru1fv"
   ]
  },
  {
   "cell_type": "markdown",
   "metadata": {},
   "source": [
    "Tambien es necesario instalar Oracle Instant Client Downloads\n",
    "\n",
    "https://www.oracle.com/database/technologies/instant-client/downloads.html"
   ]
  },
  {
   "cell_type": "markdown",
   "metadata": {},
   "source": [
    "[Ir a Inicio](#beginning)\n",
    "\n",
    "_____"
   ]
  },
  {
   "cell_type": "markdown",
   "metadata": {},
   "source": [
    "<a id='part3'></a>\n",
    "## 3. Laboratorio 3"
   ]
  },
  {
   "cell_type": "markdown",
   "metadata": {},
   "source": [
    "Usted labora en la Central de Telefonía de la Región del sur y le solicita se conecte a la base de datos para iniciar un proyecto sobre \"Modalamiento de los Reclamos de Señal\". Para dicha tarea le brindan los siguientes permisos:\n",
    "\n",
    "\n",
    "- IP: 69.164.192.245\n",
    "- Usuario: postgres\n",
    "- Contraseña: sdc2019PERU\n",
    "- Nombre de la base de datos: alumno\n",
    "- Nombre de la tabla: tabla_senal"
   ]
  },
  {
   "cell_type": "markdown",
   "metadata": {},
   "source": [
    "- Description\n",
    "- Col_name\n",
    "- Row_name\n",
    "- rsrp\n",
    "- incidentes\n",
    "- redireccion\n",
    "- best_server\n",
    "- cqi"
   ]
  },
  {
   "cell_type": "markdown",
   "metadata": {},
   "source": [
    "1. Realizar código de conexión.\n",
    "2. Exportar la data a formato csv"
   ]
  },
  {
   "cell_type": "markdown",
   "metadata": {},
   "source": [
    "[Ir a Inicio](#beginning)\n",
    "\n",
    "_____"
   ]
  }
 ],
 "metadata": {
  "anaconda-cloud": {},
  "hide_input": false,
  "kernelspec": {
   "display_name": "Python 3",
   "language": "python",
   "name": "python3"
  },
  "language_info": {
   "codemirror_mode": {
    "name": "ipython",
    "version": 3
   },
   "file_extension": ".py",
   "mimetype": "text/x-python",
   "name": "python",
   "nbconvert_exporter": "python",
   "pygments_lexer": "ipython3",
   "version": "3.7.6"
  }
 },
 "nbformat": 4,
 "nbformat_minor": 1
}