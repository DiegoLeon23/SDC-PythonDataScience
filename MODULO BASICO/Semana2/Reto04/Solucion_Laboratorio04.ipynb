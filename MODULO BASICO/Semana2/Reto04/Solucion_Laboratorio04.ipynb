{
 "cells": [
  {
   "cell_type": "markdown",
   "metadata": {},
   "source": [
    "# Reto 04 - Conexión al API de Twitter"
   ]
  },
  {
   "cell_type": "markdown",
   "metadata": {},
   "source": [
    "**_1. Conectarse a la cuenta de Twitter de la Municipalidad de Lima._**"
   ]
  },
  {
   "cell_type": "markdown",
   "metadata": {},
   "source": [
    "    Importamos las librerias"
   ]
  },
  {
   "cell_type": "code",
   "execution_count": 1,
   "metadata": {},
   "outputs": [],
   "source": [
    "import pandas as pd \n",
    "import numpy as np \n",
    "import tweepy\n",
    "from tweepy import OAuthHandler\n",
    "import json5"
   ]
  },
  {
   "cell_type": "code",
   "execution_count": 2,
   "metadata": {},
   "outputs": [],
   "source": [
    "# recovering security info\n",
    "#Almacenando mis credenciales\n",
    "consumer_key = 'eMcnfrsrAgghHJCCBdP8QStYj'\n",
    "consumer_secret = 'M2FwH7ARB8MK6hq0n8HTrVErWanAsTST0nkmw11VfvuMjn8fel'\n",
    "access_token = '587863980-j6aJNJaXotnCuYF5rBZ8myUYF8kCet61E5sgWWHC'\n",
    "access_token_secret = 'TbSQ6OVufSk0LH6iiRpSAJBwffggEOR2Ah1ToXRQghRIV'"
   ]
  },
  {
   "cell_type": "code",
   "execution_count": 3,
   "metadata": {},
   "outputs": [],
   "source": [
    "# using security info:\n",
    "#Utilizando las credenciales\n",
    "auth = tweepy.OAuthHandler(consumer_key, consumer_secret)\n",
    "auth.set_access_token(access_token, access_token_secret)\n",
    "api = tweepy.API (auth)"
   ]
  },
  {
   "cell_type": "markdown",
   "metadata": {},
   "source": [
    "__Usaremos tweepy.cursor para poder acceder a una cantidad mayor de tweets, usando .items(), estos datos lo almacenaremos en la lista tweets[ ]__"
   ]
  },
  {
   "cell_type": "code",
   "execution_count": 4,
   "metadata": {},
   "outputs": [],
   "source": [
    "tweets = [] \n",
    "for tweet in tweepy.Cursor(api.user_timeline, screen_name = 'MuniLima', exclude_replies = True, include_rts = False).items(1000):\n",
    "    tweets.append([tweet.text, tweet.created_at])"
   ]
  },
  {
   "cell_type": "markdown",
   "metadata": {},
   "source": [
    "**_2. Guardar los datos de tweets en un dataframe_**"
   ]
  },
  {
   "cell_type": "markdown",
   "metadata": {},
   "source": [
    "__Generamos el dataframe df de la lista tweets y con las columnas [text, created_at]__"
   ]
  },
  {
   "cell_type": "code",
   "execution_count": 5,
   "metadata": {},
   "outputs": [],
   "source": [
    "df= pd.DataFrame(tweets, columns=['text', 'created_at'])"
   ]
  },
  {
   "cell_type": "markdown",
   "metadata": {},
   "source": [
    "__Visualizamos df.created_at : tiene tipo de dato datetime64[ns]__"
   ]
  },
  {
   "cell_type": "code",
   "execution_count": 6,
   "metadata": {},
   "outputs": [
    {
     "data": {
      "text/plain": [
       "0     2021-02-28 19:30:00\n",
       "1     2021-02-28 19:00:00\n",
       "2     2021-02-28 18:00:01\n",
       "3     2021-02-28 17:23:17\n",
       "4     2021-02-28 16:41:33\n",
       "              ...        \n",
       "995   2020-12-02 22:40:15\n",
       "996   2020-12-02 19:30:00\n",
       "997   2020-12-02 18:58:03\n",
       "998   2020-12-02 16:59:32\n",
       "999   2020-12-02 16:07:37\n",
       "Name: created_at, Length: 1000, dtype: datetime64[ns]"
      ]
     },
     "execution_count": 6,
     "metadata": {},
     "output_type": "execute_result"
    }
   ],
   "source": [
    "df.created_at"
   ]
  },
  {
   "cell_type": "markdown",
   "metadata": {},
   "source": [
    "__Por comodidad transformamos la columna created_at en tipo string__"
   ]
  },
  {
   "cell_type": "code",
   "execution_count": 7,
   "metadata": {},
   "outputs": [],
   "source": [
    "df['created_at'] = df['created_at'].astype('string')"
   ]
  },
  {
   "cell_type": "markdown",
   "metadata": {},
   "source": [
    "__Restringimos los tweets para el mes de Enero del 2021__"
   ]
  },
  {
   "cell_type": "code",
   "execution_count": 8,
   "metadata": {},
   "outputs": [
    {
     "data": {
      "text/html": [
       "<div>\n",
       "<style scoped>\n",
       "    .dataframe tbody tr th:only-of-type {\n",
       "        vertical-align: middle;\n",
       "    }\n",
       "\n",
       "    .dataframe tbody tr th {\n",
       "        vertical-align: top;\n",
       "    }\n",
       "\n",
       "    .dataframe thead th {\n",
       "        text-align: right;\n",
       "    }\n",
       "</style>\n",
       "<table border=\"1\" class=\"dataframe\">\n",
       "  <thead>\n",
       "    <tr style=\"text-align: right;\">\n",
       "      <th></th>\n",
       "      <th>text</th>\n",
       "      <th>created_at</th>\n",
       "    </tr>\n",
       "  </thead>\n",
       "  <tbody>\n",
       "    <tr>\n",
       "      <th>433</th>\n",
       "      <td>🍎🥗 Cuidar tu alimentación también es una forma...</td>\n",
       "      <td>2021-01-31 21:30:00</td>\n",
       "    </tr>\n",
       "    <tr>\n",
       "      <th>434</th>\n",
       "      <td>¡Aprovecha esta oportunidad! 🤓\\n\\n🙌🏽 Ofrecemos...</td>\n",
       "      <td>2021-01-31 20:51:45</td>\n",
       "    </tr>\n",
       "    <tr>\n",
       "      <th>435</th>\n",
       "      <td>Desde la madrugada de este primer día de cuare...</td>\n",
       "      <td>2021-01-31 20:35:27</td>\n",
       "    </tr>\n",
       "    <tr>\n",
       "      <th>436</th>\n",
       "      <td>👩‍💻 ¡Atento emprendedor! Mercado De Lima es la...</td>\n",
       "      <td>2021-01-31 20:00:00</td>\n",
       "    </tr>\n",
       "    <tr>\n",
       "      <th>437</th>\n",
       "      <td>Durante el primer día de la cuarentena dictada...</td>\n",
       "      <td>2021-01-31 19:10:27</td>\n",
       "    </tr>\n",
       "    <tr>\n",
       "      <th>...</th>\n",
       "      <td>...</td>\n",
       "      <td>...</td>\n",
       "    </tr>\n",
       "    <tr>\n",
       "      <th>742</th>\n",
       "      <td>Nuestros dos albergues Casa de la Mujer han re...</td>\n",
       "      <td>2021-01-01 22:30:00</td>\n",
       "    </tr>\n",
       "    <tr>\n",
       "      <th>743</th>\n",
       "      <td>💪 A través de nuestro programa Escuela Segura,...</td>\n",
       "      <td>2021-01-01 22:10:00</td>\n",
       "    </tr>\n",
       "    <tr>\n",
       "      <th>744</th>\n",
       "      <td>Gracias a nuestra iniciativa #ManosALaOlla, se...</td>\n",
       "      <td>2021-01-01 21:47:20</td>\n",
       "    </tr>\n",
       "    <tr>\n",
       "      <th>745</th>\n",
       "      <td>En el marco de la campaña #LimaSinPirotecnia 🚫...</td>\n",
       "      <td>2021-01-01 21:29:52</td>\n",
       "    </tr>\n",
       "    <tr>\n",
       "      <th>746</th>\n",
       "      <td>🤝✅ Repasa estas indicaciones y asegúrate de es...</td>\n",
       "      <td>2021-01-01 15:00:00</td>\n",
       "    </tr>\n",
       "  </tbody>\n",
       "</table>\n",
       "<p>314 rows × 2 columns</p>\n",
       "</div>"
      ],
      "text/plain": [
       "                                                  text           created_at\n",
       "433  🍎🥗 Cuidar tu alimentación también es una forma...  2021-01-31 21:30:00\n",
       "434  ¡Aprovecha esta oportunidad! 🤓\\n\\n🙌🏽 Ofrecemos...  2021-01-31 20:51:45\n",
       "435  Desde la madrugada de este primer día de cuare...  2021-01-31 20:35:27\n",
       "436  👩‍💻 ¡Atento emprendedor! Mercado De Lima es la...  2021-01-31 20:00:00\n",
       "437  Durante el primer día de la cuarentena dictada...  2021-01-31 19:10:27\n",
       "..                                                 ...                  ...\n",
       "742  Nuestros dos albergues Casa de la Mujer han re...  2021-01-01 22:30:00\n",
       "743  💪 A través de nuestro programa Escuela Segura,...  2021-01-01 22:10:00\n",
       "744  Gracias a nuestra iniciativa #ManosALaOlla, se...  2021-01-01 21:47:20\n",
       "745  En el marco de la campaña #LimaSinPirotecnia 🚫...  2021-01-01 21:29:52\n",
       "746  🤝✅ Repasa estas indicaciones y asegúrate de es...  2021-01-01 15:00:00\n",
       "\n",
       "[314 rows x 2 columns]"
      ]
     },
     "execution_count": 8,
     "metadata": {},
     "output_type": "execute_result"
    }
   ],
   "source": [
    "df=df[df.created_at.str.contains('2021-01')]\n",
    "df"
   ]
  },
  {
   "cell_type": "markdown",
   "metadata": {},
   "source": [
    "__Se obtuvo los tweets de la Municipalidad de Lima solo del mes de Enero__"
   ]
  }
 ],
 "metadata": {
  "kernelspec": {
   "display_name": "Python 3",
   "language": "python",
   "name": "python3"
  },
  "language_info": {
   "codemirror_mode": {
    "name": "ipython",
    "version": 3
   },
   "file_extension": ".py",
   "mimetype": "text/x-python",
   "name": "python",
   "nbconvert_exporter": "python",
   "pygments_lexer": "ipython3",
   "version": "3.8.3"
  }
 },
 "nbformat": 4,
 "nbformat_minor": 4
}
