{
 "cells": [
  {
   "cell_type": "markdown",
   "metadata": {},
   "source": [
    "<a id='part5'></a>\n",
    "\n",
    "## Laboratorio 5"
   ]
  },
  {
   "cell_type": "markdown",
   "metadata": {},
   "source": [
    "### Descripción"
   ]
  },
  {
   "cell_type": "markdown",
   "metadata": {},
   "source": [
    "Este conjunto de datos es un subconjunto de la Encuesta nacional de prevalencia de anticonceptivos de Indonesia de 1987. Las muestras son mujeres casadas que no estaban embarazadas o no saben si estaban en el momento de la entrevista. El problema es predecir la elección actual del método anticonceptivo (sin uso, métodos a largo plazo o métodos a corto plazo) de una mujer en función de sus características demográficas y socioeconómicas."
   ]
  },
  {
   "cell_type": "markdown",
   "metadata": {},
   "source": [
    "### Información del atributo:"
   ]
  },
  {
   "cell_type": "markdown",
   "metadata": {},
   "source": [
    "1. Edad de la esposa (numérica)\n",
    "\n",
    "2. Educación de la esposa (categórica) 1 = baja, 2, 3, 4 = alta\n",
    "\n",
    "3. Educación del esposo (categórica) 1 = baja, 2, 3, 4 = alta\n",
    "\n",
    "4. Número de hijos nacidos (numérico)\n",
    "\n",
    "5. Religión de la esposa (binaria) 0 = No Islam, 1 = Islam\n",
    "\n",
    "6. ¿La esposa ahora está trabajando? (binario) 0 = Sí, 1 = No\n",
    "\n",
    "7. Ocupación del esposo (categórica) 1, 2, 3, 4\n",
    "\n",
    "8. Índice de nivel de vida (categórico) 1 = bajo, 2, 3, 4 = alto\n",
    "\n",
    "9. Exposición a los medios (binario) 0 = Bueno, 1 = No bueno\n",
    "\n",
    "10. Método anticonceptivo utilizado (atributo de clase) 1 = Sin uso, 2 = A largo plazo, 3 = A corto plazo"
   ]
  },
  {
   "cell_type": "markdown",
   "metadata": {},
   "source": [
    "Actividades:\n",
    "\n",
    "1-Graficar el numero y porcentaje de religion de la esposa.\n",
    "\n",
    "2-Segmentacion de la edad de la esposa.\n",
    "\n",
    "3-Grafica de boxplot de la edad de la esposa.\n",
    "\n",
    "4-Graficar el diagrama de dispersion y el histrograma para mostrar la relacion entre las variables edad de la esposa y número de hijos nacidos.\n"
   ]
  },
  {
   "cell_type": "code",
   "execution_count": 56,
   "metadata": {},
   "outputs": [],
   "source": [
    "import numpy as np\n",
    "import pandas as pd\n",
    "import matplotlib.pyplot as plt\n",
    "import seaborn as sns"
   ]
  },
  {
   "cell_type": "code",
   "execution_count": 57,
   "metadata": {},
   "outputs": [],
   "source": [
    "\n",
    "df_metodoanticonceptivo = pd.read_csv('https://query.data.world/s/kmtzduntrfduzq7ock75atyluguk6z')\n"
   ]
  },
  {
   "cell_type": "code",
   "execution_count": 58,
   "metadata": {
    "scrolled": true
   },
   "outputs": [
    {
     "data": {
      "text/html": [
       "<div>\n",
       "<style scoped>\n",
       "    .dataframe tbody tr th:only-of-type {\n",
       "        vertical-align: middle;\n",
       "    }\n",
       "\n",
       "    .dataframe tbody tr th {\n",
       "        vertical-align: top;\n",
       "    }\n",
       "\n",
       "    .dataframe thead th {\n",
       "        text-align: right;\n",
       "    }\n",
       "</style>\n",
       "<table border=\"1\" class=\"dataframe\">\n",
       "  <thead>\n",
       "    <tr style=\"text-align: right;\">\n",
       "      <th></th>\n",
       "      <th>edad_esposa</th>\n",
       "      <th>educacion_esposa</th>\n",
       "      <th>educacion_esposo</th>\n",
       "      <th>numero_hijos_nacidos</th>\n",
       "      <th>religion_esposa</th>\n",
       "      <th>trabaja_esposa</th>\n",
       "      <th>ocupacion_esposo</th>\n",
       "      <th>ind_nivel_vida</th>\n",
       "      <th>expo_medios</th>\n",
       "      <th>metodo_anticonceptivo</th>\n",
       "    </tr>\n",
       "  </thead>\n",
       "  <tbody>\n",
       "    <tr>\n",
       "      <th>0</th>\n",
       "      <td>45</td>\n",
       "      <td>1</td>\n",
       "      <td>3</td>\n",
       "      <td>10</td>\n",
       "      <td>1</td>\n",
       "      <td>1</td>\n",
       "      <td>3</td>\n",
       "      <td>4</td>\n",
       "      <td>0</td>\n",
       "      <td>1</td>\n",
       "    </tr>\n",
       "    <tr>\n",
       "      <th>1</th>\n",
       "      <td>43</td>\n",
       "      <td>2</td>\n",
       "      <td>3</td>\n",
       "      <td>7</td>\n",
       "      <td>1</td>\n",
       "      <td>1</td>\n",
       "      <td>3</td>\n",
       "      <td>4</td>\n",
       "      <td>0</td>\n",
       "      <td>1</td>\n",
       "    </tr>\n",
       "    <tr>\n",
       "      <th>2</th>\n",
       "      <td>42</td>\n",
       "      <td>3</td>\n",
       "      <td>2</td>\n",
       "      <td>9</td>\n",
       "      <td>1</td>\n",
       "      <td>1</td>\n",
       "      <td>3</td>\n",
       "      <td>3</td>\n",
       "      <td>0</td>\n",
       "      <td>1</td>\n",
       "    </tr>\n",
       "    <tr>\n",
       "      <th>3</th>\n",
       "      <td>36</td>\n",
       "      <td>3</td>\n",
       "      <td>3</td>\n",
       "      <td>8</td>\n",
       "      <td>1</td>\n",
       "      <td>1</td>\n",
       "      <td>3</td>\n",
       "      <td>2</td>\n",
       "      <td>0</td>\n",
       "      <td>1</td>\n",
       "    </tr>\n",
       "    <tr>\n",
       "      <th>4</th>\n",
       "      <td>19</td>\n",
       "      <td>4</td>\n",
       "      <td>4</td>\n",
       "      <td>0</td>\n",
       "      <td>1</td>\n",
       "      <td>1</td>\n",
       "      <td>3</td>\n",
       "      <td>3</td>\n",
       "      <td>0</td>\n",
       "      <td>1</td>\n",
       "    </tr>\n",
       "  </tbody>\n",
       "</table>\n",
       "</div>"
      ],
      "text/plain": [
       "   edad_esposa  educacion_esposa  educacion_esposo  numero_hijos_nacidos  \\\n",
       "0           45                 1                 3                    10   \n",
       "1           43                 2                 3                     7   \n",
       "2           42                 3                 2                     9   \n",
       "3           36                 3                 3                     8   \n",
       "4           19                 4                 4                     0   \n",
       "\n",
       "   religion_esposa  trabaja_esposa  ocupacion_esposo  ind_nivel_vida  \\\n",
       "0                1               1                 3               4   \n",
       "1                1               1                 3               4   \n",
       "2                1               1                 3               3   \n",
       "3                1               1                 3               2   \n",
       "4                1               1                 3               3   \n",
       "\n",
       "   expo_medios  metodo_anticonceptivo  \n",
       "0            0                      1  \n",
       "1            0                      1  \n",
       "2            0                      1  \n",
       "3            0                      1  \n",
       "4            0                      1  "
      ]
     },
     "execution_count": 58,
     "metadata": {},
     "output_type": "execute_result"
    }
   ],
   "source": [
    "df_metodoanticonceptivo.columns = ['edad_esposa', 'educacion_esposa', 'educacion_esposo', 'numero_hijos_nacidos',\n",
    "                   'religion_esposa', 'trabaja_esposa', 'ocupacion_esposo',\n",
    "                   'ind_nivel_vida', 'expo_medios', 'metodo_anticonceptivo']\n",
    "df_metodoanticonceptivo.head()"
   ]
  }
 ],
 "metadata": {
  "kernelspec": {
   "display_name": "Python 3",
   "language": "python",
   "name": "python3"
  },
  "language_info": {
   "codemirror_mode": {
    "name": "ipython",
    "version": 3
   },
   "file_extension": ".py",
   "mimetype": "text/x-python",
   "name": "python",
   "nbconvert_exporter": "python",
   "pygments_lexer": "ipython3",
   "version": "3.7.6"
  }
 },
 "nbformat": 4,
 "nbformat_minor": 2
}
