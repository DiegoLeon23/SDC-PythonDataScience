{
 "cells": [
  {
   "cell_type": "markdown",
   "metadata": {},
   "source": [
    "# DESARROLLO-LABORATORIO 14: APROBACIÓN PRESIDENCIAL"
   ]
  },
  {
   "cell_type": "code",
   "execution_count": 1,
   "metadata": {},
   "outputs": [],
   "source": [
    "import os   #Cambiar directorio de trabajo\n",
    "\n",
    "#Manipulación de Datos\n",
    "import numpy as np\n",
    "import pandas as pd\n",
    "\n",
    "#Gráficos\n",
    "import matplotlib.pyplot as plt\n",
    "import seaborn as sns\n",
    "\n",
    "#Preprocesado y modelado\n",
    "from scipy import stats    #Contiene a la función de pearsonr\n",
    "from scipy import special  #Contiene la función softmax\n",
    "from sklearn.model_selection import train_test_split #Particionamiento de datos\n",
    "from sklearn.linear_model import LinearRegression #Para Análisis de Regresión Lineal\n",
    "from sklearn.linear_model import RANSACRegressor #Para Análisis de Regresión RANSAC\n",
    "from sklearn.metrics import r2_score #Calcula el coeficiente de determinación r2\n",
    "from sklearn.metrics import mean_squared_error #Calcula el error cuadratico medio\n",
    "import statsmodels.api as sm \n",
    "import statsmodels.formula.api as smf\n",
    "import math as m\n",
    "\n",
    "#Just In Case\n",
    "import warnings\n",
    "warnings.filterwarnings('ignore')"
   ]
  },
  {
   "cell_type": "code",
   "execution_count": 2,
   "metadata": {},
   "outputs": [],
   "source": [
    "#Estableciendo directorio\n",
    "os.chdir(\"D:\\Social Data Consulting\\Python for Data Science\\data\")"
   ]
  },
  {
   "cell_type": "code",
   "execution_count": 3,
   "metadata": {
    "scrolled": true
   },
   "outputs": [
    {
     "data": {
      "text/html": [
       "<div>\n",
       "<style scoped>\n",
       "    .dataframe tbody tr th:only-of-type {\n",
       "        vertical-align: middle;\n",
       "    }\n",
       "\n",
       "    .dataframe tbody tr th {\n",
       "        vertical-align: top;\n",
       "    }\n",
       "\n",
       "    .dataframe thead th {\n",
       "        text-align: right;\n",
       "    }\n",
       "</style>\n",
       "<table border=\"1\" class=\"dataframe\">\n",
       "  <thead>\n",
       "    <tr style=\"text-align: right;\">\n",
       "      <th></th>\n",
       "      <th>Año</th>\n",
       "      <th>Mes</th>\n",
       "      <th>IPC</th>\n",
       "      <th>Inflación</th>\n",
       "      <th>SalariosReales</th>\n",
       "      <th>CrisisDeGabinete</th>\n",
       "      <th>LunaDeMiel1</th>\n",
       "      <th>LunaDeMiel2</th>\n",
       "      <th>AñoElectoral</th>\n",
       "      <th>Aprobaciónn</th>\n",
       "      <th>Desaprobación</th>\n",
       "      <th>No precisa</th>\n",
       "      <th>T-1</th>\n",
       "    </tr>\n",
       "  </thead>\n",
       "  <tbody>\n",
       "    <tr>\n",
       "      <th>0</th>\n",
       "      <td>2006</td>\n",
       "      <td>Agosto</td>\n",
       "      <td>90.261885</td>\n",
       "      <td>0.139281</td>\n",
       "      <td>247.00</td>\n",
       "      <td>0</td>\n",
       "      <td>1</td>\n",
       "      <td>0</td>\n",
       "      <td>0</td>\n",
       "      <td>63</td>\n",
       "      <td>16</td>\n",
       "      <td>21</td>\n",
       "      <td>63</td>\n",
       "    </tr>\n",
       "    <tr>\n",
       "      <th>1</th>\n",
       "      <td>2006</td>\n",
       "      <td>Septiembre</td>\n",
       "      <td>90.286647</td>\n",
       "      <td>0.027433</td>\n",
       "      <td>246.93</td>\n",
       "      <td>0</td>\n",
       "      <td>1</td>\n",
       "      <td>0</td>\n",
       "      <td>0</td>\n",
       "      <td>58</td>\n",
       "      <td>21</td>\n",
       "      <td>21</td>\n",
       "      <td>63</td>\n",
       "    </tr>\n",
       "    <tr>\n",
       "      <th>2</th>\n",
       "      <td>2006</td>\n",
       "      <td>Octubre</td>\n",
       "      <td>90.326182</td>\n",
       "      <td>0.043789</td>\n",
       "      <td>246.82</td>\n",
       "      <td>0</td>\n",
       "      <td>1</td>\n",
       "      <td>0</td>\n",
       "      <td>0</td>\n",
       "      <td>57</td>\n",
       "      <td>24</td>\n",
       "      <td>19</td>\n",
       "      <td>58</td>\n",
       "    </tr>\n",
       "    <tr>\n",
       "      <th>3</th>\n",
       "      <td>2006</td>\n",
       "      <td>Noviembre</td>\n",
       "      <td>90.071323</td>\n",
       "      <td>-0.282155</td>\n",
       "      <td>247.52</td>\n",
       "      <td>0</td>\n",
       "      <td>1</td>\n",
       "      <td>0</td>\n",
       "      <td>0</td>\n",
       "      <td>55</td>\n",
       "      <td>22</td>\n",
       "      <td>23</td>\n",
       "      <td>57</td>\n",
       "    </tr>\n",
       "    <tr>\n",
       "      <th>4</th>\n",
       "      <td>2006</td>\n",
       "      <td>Diciembre</td>\n",
       "      <td>90.094572</td>\n",
       "      <td>0.025811</td>\n",
       "      <td>247.45</td>\n",
       "      <td>0</td>\n",
       "      <td>1</td>\n",
       "      <td>0</td>\n",
       "      <td>0</td>\n",
       "      <td>52</td>\n",
       "      <td>30</td>\n",
       "      <td>18</td>\n",
       "      <td>55</td>\n",
       "    </tr>\n",
       "  </tbody>\n",
       "</table>\n",
       "</div>"
      ],
      "text/plain": [
       "    Año         Mes        IPC  Inflación  SalariosReales  CrisisDeGabinete  \\\n",
       "0  2006      Agosto  90.261885   0.139281          247.00                 0   \n",
       "1  2006  Septiembre  90.286647   0.027433          246.93                 0   \n",
       "2  2006     Octubre  90.326182   0.043789          246.82                 0   \n",
       "3  2006   Noviembre  90.071323  -0.282155          247.52                 0   \n",
       "4  2006   Diciembre  90.094572   0.025811          247.45                 0   \n",
       "\n",
       "   LunaDeMiel1  LunaDeMiel2  AñoElectoral  Aprobaciónn  Desaprobación  \\\n",
       "0            1            0             0           63             16   \n",
       "1            1            0             0           58             21   \n",
       "2            1            0             0           57             24   \n",
       "3            1            0             0           55             22   \n",
       "4            1            0             0           52             30   \n",
       "\n",
       "   No precisa   T-1  \n",
       "0           21   63  \n",
       "1           21   63  \n",
       "2           19   58  \n",
       "3           23   57  \n",
       "4           18   55  "
      ]
     },
     "execution_count": 3,
     "metadata": {},
     "output_type": "execute_result"
    }
   ],
   "source": [
    "miArchivo='Aprobacion.csv'\n",
    "df=pd.read_csv(miArchivo, encoding=\"latin_1\", sep=\";\")\n",
    "df.head()"
   ]
  },
  {
   "cell_type": "code",
   "execution_count": 4,
   "metadata": {},
   "outputs": [],
   "source": [
    "df['Aprobación']=df['Aprobaciónn']"
   ]
  },
  {
   "cell_type": "code",
   "execution_count": 5,
   "metadata": {
    "scrolled": true
   },
   "outputs": [
    {
     "data": {
      "text/html": [
       "<div>\n",
       "<style scoped>\n",
       "    .dataframe tbody tr th:only-of-type {\n",
       "        vertical-align: middle;\n",
       "    }\n",
       "\n",
       "    .dataframe tbody tr th {\n",
       "        vertical-align: top;\n",
       "    }\n",
       "\n",
       "    .dataframe thead th {\n",
       "        text-align: right;\n",
       "    }\n",
       "</style>\n",
       "<table border=\"1\" class=\"dataframe\">\n",
       "  <thead>\n",
       "    <tr style=\"text-align: right;\">\n",
       "      <th></th>\n",
       "      <th>Año</th>\n",
       "      <th>Mes</th>\n",
       "      <th>IPC</th>\n",
       "      <th>Inflación</th>\n",
       "      <th>SalariosReales</th>\n",
       "      <th>CrisisDeGabinete</th>\n",
       "      <th>LunaDeMiel1</th>\n",
       "      <th>LunaDeMiel2</th>\n",
       "      <th>AñoElectoral</th>\n",
       "      <th>Aprobaciónn</th>\n",
       "      <th>Desaprobación</th>\n",
       "      <th>No precisa</th>\n",
       "      <th>T-1</th>\n",
       "      <th>Aprobación</th>\n",
       "    </tr>\n",
       "  </thead>\n",
       "  <tbody>\n",
       "    <tr>\n",
       "      <th>0</th>\n",
       "      <td>2006</td>\n",
       "      <td>Agosto</td>\n",
       "      <td>90.261885</td>\n",
       "      <td>0.139281</td>\n",
       "      <td>247.00</td>\n",
       "      <td>0</td>\n",
       "      <td>1</td>\n",
       "      <td>0</td>\n",
       "      <td>0</td>\n",
       "      <td>63</td>\n",
       "      <td>16</td>\n",
       "      <td>21</td>\n",
       "      <td>63</td>\n",
       "      <td>63</td>\n",
       "    </tr>\n",
       "    <tr>\n",
       "      <th>1</th>\n",
       "      <td>2006</td>\n",
       "      <td>Septiembre</td>\n",
       "      <td>90.286647</td>\n",
       "      <td>0.027433</td>\n",
       "      <td>246.93</td>\n",
       "      <td>0</td>\n",
       "      <td>1</td>\n",
       "      <td>0</td>\n",
       "      <td>0</td>\n",
       "      <td>58</td>\n",
       "      <td>21</td>\n",
       "      <td>21</td>\n",
       "      <td>63</td>\n",
       "      <td>58</td>\n",
       "    </tr>\n",
       "    <tr>\n",
       "      <th>2</th>\n",
       "      <td>2006</td>\n",
       "      <td>Octubre</td>\n",
       "      <td>90.326182</td>\n",
       "      <td>0.043789</td>\n",
       "      <td>246.82</td>\n",
       "      <td>0</td>\n",
       "      <td>1</td>\n",
       "      <td>0</td>\n",
       "      <td>0</td>\n",
       "      <td>57</td>\n",
       "      <td>24</td>\n",
       "      <td>19</td>\n",
       "      <td>58</td>\n",
       "      <td>57</td>\n",
       "    </tr>\n",
       "    <tr>\n",
       "      <th>3</th>\n",
       "      <td>2006</td>\n",
       "      <td>Noviembre</td>\n",
       "      <td>90.071323</td>\n",
       "      <td>-0.282155</td>\n",
       "      <td>247.52</td>\n",
       "      <td>0</td>\n",
       "      <td>1</td>\n",
       "      <td>0</td>\n",
       "      <td>0</td>\n",
       "      <td>55</td>\n",
       "      <td>22</td>\n",
       "      <td>23</td>\n",
       "      <td>57</td>\n",
       "      <td>55</td>\n",
       "    </tr>\n",
       "    <tr>\n",
       "      <th>4</th>\n",
       "      <td>2006</td>\n",
       "      <td>Diciembre</td>\n",
       "      <td>90.094572</td>\n",
       "      <td>0.025811</td>\n",
       "      <td>247.45</td>\n",
       "      <td>0</td>\n",
       "      <td>1</td>\n",
       "      <td>0</td>\n",
       "      <td>0</td>\n",
       "      <td>52</td>\n",
       "      <td>30</td>\n",
       "      <td>18</td>\n",
       "      <td>55</td>\n",
       "      <td>52</td>\n",
       "    </tr>\n",
       "  </tbody>\n",
       "</table>\n",
       "</div>"
      ],
      "text/plain": [
       "    Año         Mes        IPC  Inflación  SalariosReales  CrisisDeGabinete  \\\n",
       "0  2006      Agosto  90.261885   0.139281          247.00                 0   \n",
       "1  2006  Septiembre  90.286647   0.027433          246.93                 0   \n",
       "2  2006     Octubre  90.326182   0.043789          246.82                 0   \n",
       "3  2006   Noviembre  90.071323  -0.282155          247.52                 0   \n",
       "4  2006   Diciembre  90.094572   0.025811          247.45                 0   \n",
       "\n",
       "   LunaDeMiel1  LunaDeMiel2  AñoElectoral  Aprobaciónn  Desaprobación  \\\n",
       "0            1            0             0           63             16   \n",
       "1            1            0             0           58             21   \n",
       "2            1            0             0           57             24   \n",
       "3            1            0             0           55             22   \n",
       "4            1            0             0           52             30   \n",
       "\n",
       "   No precisa   T-1  Aprobación  \n",
       "0           21   63          63  \n",
       "1           21   63          58  \n",
       "2           19   58          57  \n",
       "3           23   57          55  \n",
       "4           18   55          52  "
      ]
     },
     "execution_count": 5,
     "metadata": {},
     "output_type": "execute_result"
    }
   ],
   "source": [
    "df.head()"
   ]
  },
  {
   "cell_type": "code",
   "execution_count": 6,
   "metadata": {},
   "outputs": [],
   "source": [
    "del df['Aprobaciónn']"
   ]
  },
  {
   "cell_type": "code",
   "execution_count": 7,
   "metadata": {},
   "outputs": [
    {
     "data": {
      "text/html": [
       "<div>\n",
       "<style scoped>\n",
       "    .dataframe tbody tr th:only-of-type {\n",
       "        vertical-align: middle;\n",
       "    }\n",
       "\n",
       "    .dataframe tbody tr th {\n",
       "        vertical-align: top;\n",
       "    }\n",
       "\n",
       "    .dataframe thead th {\n",
       "        text-align: right;\n",
       "    }\n",
       "</style>\n",
       "<table border=\"1\" class=\"dataframe\">\n",
       "  <thead>\n",
       "    <tr style=\"text-align: right;\">\n",
       "      <th></th>\n",
       "      <th>Año</th>\n",
       "      <th>Mes</th>\n",
       "      <th>IPC</th>\n",
       "      <th>Inflación</th>\n",
       "      <th>SalariosReales</th>\n",
       "      <th>CrisisDeGabinete</th>\n",
       "      <th>LunaDeMiel1</th>\n",
       "      <th>LunaDeMiel2</th>\n",
       "      <th>AñoElectoral</th>\n",
       "      <th>Desaprobación</th>\n",
       "      <th>No precisa</th>\n",
       "      <th>T-1</th>\n",
       "      <th>Aprobación</th>\n",
       "    </tr>\n",
       "  </thead>\n",
       "  <tbody>\n",
       "    <tr>\n",
       "      <th>0</th>\n",
       "      <td>2006</td>\n",
       "      <td>Agosto</td>\n",
       "      <td>90.261885</td>\n",
       "      <td>0.139281</td>\n",
       "      <td>247.00</td>\n",
       "      <td>0</td>\n",
       "      <td>1</td>\n",
       "      <td>0</td>\n",
       "      <td>0</td>\n",
       "      <td>16</td>\n",
       "      <td>21</td>\n",
       "      <td>63</td>\n",
       "      <td>63</td>\n",
       "    </tr>\n",
       "    <tr>\n",
       "      <th>1</th>\n",
       "      <td>2006</td>\n",
       "      <td>Septiembre</td>\n",
       "      <td>90.286647</td>\n",
       "      <td>0.027433</td>\n",
       "      <td>246.93</td>\n",
       "      <td>0</td>\n",
       "      <td>1</td>\n",
       "      <td>0</td>\n",
       "      <td>0</td>\n",
       "      <td>21</td>\n",
       "      <td>21</td>\n",
       "      <td>63</td>\n",
       "      <td>58</td>\n",
       "    </tr>\n",
       "    <tr>\n",
       "      <th>2</th>\n",
       "      <td>2006</td>\n",
       "      <td>Octubre</td>\n",
       "      <td>90.326182</td>\n",
       "      <td>0.043789</td>\n",
       "      <td>246.82</td>\n",
       "      <td>0</td>\n",
       "      <td>1</td>\n",
       "      <td>0</td>\n",
       "      <td>0</td>\n",
       "      <td>24</td>\n",
       "      <td>19</td>\n",
       "      <td>58</td>\n",
       "      <td>57</td>\n",
       "    </tr>\n",
       "    <tr>\n",
       "      <th>3</th>\n",
       "      <td>2006</td>\n",
       "      <td>Noviembre</td>\n",
       "      <td>90.071323</td>\n",
       "      <td>-0.282155</td>\n",
       "      <td>247.52</td>\n",
       "      <td>0</td>\n",
       "      <td>1</td>\n",
       "      <td>0</td>\n",
       "      <td>0</td>\n",
       "      <td>22</td>\n",
       "      <td>23</td>\n",
       "      <td>57</td>\n",
       "      <td>55</td>\n",
       "    </tr>\n",
       "    <tr>\n",
       "      <th>4</th>\n",
       "      <td>2006</td>\n",
       "      <td>Diciembre</td>\n",
       "      <td>90.094572</td>\n",
       "      <td>0.025811</td>\n",
       "      <td>247.45</td>\n",
       "      <td>0</td>\n",
       "      <td>1</td>\n",
       "      <td>0</td>\n",
       "      <td>0</td>\n",
       "      <td>30</td>\n",
       "      <td>18</td>\n",
       "      <td>55</td>\n",
       "      <td>52</td>\n",
       "    </tr>\n",
       "    <tr>\n",
       "      <th>...</th>\n",
       "      <td>...</td>\n",
       "      <td>...</td>\n",
       "      <td>...</td>\n",
       "      <td>...</td>\n",
       "      <td>...</td>\n",
       "      <td>...</td>\n",
       "      <td>...</td>\n",
       "      <td>...</td>\n",
       "      <td>...</td>\n",
       "      <td>...</td>\n",
       "      <td>...</td>\n",
       "      <td>...</td>\n",
       "      <td>...</td>\n",
       "    </tr>\n",
       "    <tr>\n",
       "      <th>115</th>\n",
       "      <td>2016</td>\n",
       "      <td>Marzo</td>\n",
       "      <td>123.174724</td>\n",
       "      <td>0.598118</td>\n",
       "      <td>271.50</td>\n",
       "      <td>0</td>\n",
       "      <td>0</td>\n",
       "      <td>0</td>\n",
       "      <td>1</td>\n",
       "      <td>77</td>\n",
       "      <td>8</td>\n",
       "      <td>17</td>\n",
       "      <td>15</td>\n",
       "    </tr>\n",
       "    <tr>\n",
       "      <th>116</th>\n",
       "      <td>2016</td>\n",
       "      <td>Abril</td>\n",
       "      <td>123.188774</td>\n",
       "      <td>0.011407</td>\n",
       "      <td>271.47</td>\n",
       "      <td>0</td>\n",
       "      <td>0</td>\n",
       "      <td>0</td>\n",
       "      <td>1</td>\n",
       "      <td>75</td>\n",
       "      <td>8</td>\n",
       "      <td>15</td>\n",
       "      <td>17</td>\n",
       "    </tr>\n",
       "    <tr>\n",
       "      <th>117</th>\n",
       "      <td>2016</td>\n",
       "      <td>Mayo</td>\n",
       "      <td>123.446933</td>\n",
       "      <td>0.209564</td>\n",
       "      <td>307.02</td>\n",
       "      <td>0</td>\n",
       "      <td>0</td>\n",
       "      <td>0</td>\n",
       "      <td>1</td>\n",
       "      <td>76</td>\n",
       "      <td>7</td>\n",
       "      <td>17</td>\n",
       "      <td>17</td>\n",
       "    </tr>\n",
       "    <tr>\n",
       "      <th>118</th>\n",
       "      <td>2016</td>\n",
       "      <td>Junio</td>\n",
       "      <td>123.619152</td>\n",
       "      <td>0.139509</td>\n",
       "      <td>306.59</td>\n",
       "      <td>0</td>\n",
       "      <td>0</td>\n",
       "      <td>0</td>\n",
       "      <td>0</td>\n",
       "      <td>70</td>\n",
       "      <td>11</td>\n",
       "      <td>17</td>\n",
       "      <td>19</td>\n",
       "    </tr>\n",
       "    <tr>\n",
       "      <th>119</th>\n",
       "      <td>2016</td>\n",
       "      <td>Julio</td>\n",
       "      <td>123.720207</td>\n",
       "      <td>0.081747</td>\n",
       "      <td>306.34</td>\n",
       "      <td>0</td>\n",
       "      <td>0</td>\n",
       "      <td>0</td>\n",
       "      <td>0</td>\n",
       "      <td>68</td>\n",
       "      <td>7</td>\n",
       "      <td>19</td>\n",
       "      <td>25</td>\n",
       "    </tr>\n",
       "  </tbody>\n",
       "</table>\n",
       "<p>120 rows × 13 columns</p>\n",
       "</div>"
      ],
      "text/plain": [
       "      Año         Mes         IPC  Inflación  SalariosReales  \\\n",
       "0    2006      Agosto   90.261885   0.139281          247.00   \n",
       "1    2006  Septiembre   90.286647   0.027433          246.93   \n",
       "2    2006     Octubre   90.326182   0.043789          246.82   \n",
       "3    2006   Noviembre   90.071323  -0.282155          247.52   \n",
       "4    2006   Diciembre   90.094572   0.025811          247.45   \n",
       "..    ...         ...         ...        ...             ...   \n",
       "115  2016      Marzo   123.174724   0.598118          271.50   \n",
       "116  2016       Abril  123.188774   0.011407          271.47   \n",
       "117  2016        Mayo  123.446933   0.209564          307.02   \n",
       "118  2016       Junio  123.619152   0.139509          306.59   \n",
       "119  2016       Julio  123.720207   0.081747          306.34   \n",
       "\n",
       "     CrisisDeGabinete  LunaDeMiel1  LunaDeMiel2  AñoElectoral  Desaprobación  \\\n",
       "0                   0            1            0             0             16   \n",
       "1                   0            1            0             0             21   \n",
       "2                   0            1            0             0             24   \n",
       "3                   0            1            0             0             22   \n",
       "4                   0            1            0             0             30   \n",
       "..                ...          ...          ...           ...            ...   \n",
       "115                 0            0            0             1             77   \n",
       "116                 0            0            0             1             75   \n",
       "117                 0            0            0             1             76   \n",
       "118                 0            0            0             0             70   \n",
       "119                 0            0            0             0             68   \n",
       "\n",
       "     No precisa   T-1  Aprobación  \n",
       "0             21   63          63  \n",
       "1             21   63          58  \n",
       "2             19   58          57  \n",
       "3             23   57          55  \n",
       "4             18   55          52  \n",
       "..           ...  ...         ...  \n",
       "115            8   17          15  \n",
       "116            8   15          17  \n",
       "117            7   17          17  \n",
       "118           11   17          19  \n",
       "119            7   19          25  \n",
       "\n",
       "[120 rows x 13 columns]"
      ]
     },
     "execution_count": 7,
     "metadata": {},
     "output_type": "execute_result"
    }
   ],
   "source": [
    "df"
   ]
  },
  {
   "cell_type": "markdown",
   "metadata": {},
   "source": [
    "Descripción de Variables\n",
    "    TARGET: Aprobacion---\n",
    "    X1: Salarios Reales---\n",
    "    X2: Inflación---\n",
    "    X3: IPC (índice de precio al consumidor)"
   ]
  },
  {
   "cell_type": "markdown",
   "metadata": {},
   "source": [
    "## **_1. Realizar un análisis exploratorio de las variables predictoras con respecto al target (matriz de dispersión y mapa de calor de las correlaciones)._**"
   ]
  },
  {
   "cell_type": "code",
   "execution_count": 8,
   "metadata": {},
   "outputs": [],
   "source": [
    "columnas=['SalariosReales','Inflación','IPC','Aprobación']"
   ]
  },
  {
   "cell_type": "code",
   "execution_count": 9,
   "metadata": {
    "scrolled": true
   },
   "outputs": [],
   "source": [
    "df=df[columnas]"
   ]
  },
  {
   "cell_type": "code",
   "execution_count": 10,
   "metadata": {},
   "outputs": [
    {
     "data": {
      "text/html": [
       "<div>\n",
       "<style scoped>\n",
       "    .dataframe tbody tr th:only-of-type {\n",
       "        vertical-align: middle;\n",
       "    }\n",
       "\n",
       "    .dataframe tbody tr th {\n",
       "        vertical-align: top;\n",
       "    }\n",
       "\n",
       "    .dataframe thead th {\n",
       "        text-align: right;\n",
       "    }\n",
       "</style>\n",
       "<table border=\"1\" class=\"dataframe\">\n",
       "  <thead>\n",
       "    <tr style=\"text-align: right;\">\n",
       "      <th></th>\n",
       "      <th>SalariosReales</th>\n",
       "      <th>Inflación</th>\n",
       "      <th>IPC</th>\n",
       "      <th>Aprobación</th>\n",
       "    </tr>\n",
       "  </thead>\n",
       "  <tbody>\n",
       "    <tr>\n",
       "      <th>0</th>\n",
       "      <td>247.00</td>\n",
       "      <td>0.139281</td>\n",
       "      <td>90.261885</td>\n",
       "      <td>63</td>\n",
       "    </tr>\n",
       "    <tr>\n",
       "      <th>1</th>\n",
       "      <td>246.93</td>\n",
       "      <td>0.027433</td>\n",
       "      <td>90.286647</td>\n",
       "      <td>58</td>\n",
       "    </tr>\n",
       "    <tr>\n",
       "      <th>2</th>\n",
       "      <td>246.82</td>\n",
       "      <td>0.043789</td>\n",
       "      <td>90.326182</td>\n",
       "      <td>57</td>\n",
       "    </tr>\n",
       "    <tr>\n",
       "      <th>3</th>\n",
       "      <td>247.52</td>\n",
       "      <td>-0.282155</td>\n",
       "      <td>90.071323</td>\n",
       "      <td>55</td>\n",
       "    </tr>\n",
       "    <tr>\n",
       "      <th>4</th>\n",
       "      <td>247.45</td>\n",
       "      <td>0.025811</td>\n",
       "      <td>90.094572</td>\n",
       "      <td>52</td>\n",
       "    </tr>\n",
       "  </tbody>\n",
       "</table>\n",
       "</div>"
      ],
      "text/plain": [
       "   SalariosReales  Inflación        IPC  Aprobación\n",
       "0          247.00   0.139281  90.261885          63\n",
       "1          246.93   0.027433  90.286647          58\n",
       "2          246.82   0.043789  90.326182          57\n",
       "3          247.52  -0.282155  90.071323          55\n",
       "4          247.45   0.025811  90.094572          52"
      ]
     },
     "execution_count": 10,
     "metadata": {},
     "output_type": "execute_result"
    }
   ],
   "source": [
    "df.head()"
   ]
  },
  {
   "cell_type": "code",
   "execution_count": 11,
   "metadata": {},
   "outputs": [
    {
     "data": {
      "text/plain": [
       "SalariosReales    0\n",
       "Inflación         0\n",
       "IPC               0\n",
       "Aprobación        0\n",
       "dtype: int64"
      ]
     },
     "execution_count": 11,
     "metadata": {},
     "output_type": "execute_result"
    }
   ],
   "source": [
    "df.isnull().sum() # Sin valores nulos"
   ]
  },
  {
   "cell_type": "code",
   "execution_count": 12,
   "metadata": {
    "scrolled": false
   },
   "outputs": [
    {
     "data": {
      "image/png": "[encoded data removed]",
      "text/plain": [
       "<Figure size 720x720 with 20 Axes>"
      ]
     },
     "metadata": {
      "needs_background": "light"
     },
     "output_type": "display_data"
    }
   ],
   "source": [
    "#Con sns.pairplot podemos observar histogramas y las graficas de dispersión\n",
    "sns.pairplot(df)\n",
    "plt.show()"
   ]
  },
  {
   "cell_type": "code",
   "execution_count": 13,
   "metadata": {},
   "outputs": [
    {
     "data": {
      "text/plain": [
       "array([[ 1.        ,  0.0164041 ,  0.75247404,  0.04432866],\n",
       "       [ 0.0164041 ,  1.        ,  0.02742033, -0.06338763],\n",
       "       [ 0.75247404,  0.02742033,  1.        , -0.42896134],\n",
       "       [ 0.04432866, -0.06338763, -0.42896134,  1.        ]])"
      ]
     },
     "execution_count": 13,
     "metadata": {},
     "output_type": "execute_result"
    }
   ],
   "source": [
    "#Generando la matriz de correlaciones\n",
    "cormat=np.corrcoef(df.values.T)\n",
    "cormat"
   ]
  },
  {
   "cell_type": "code",
   "execution_count": 14,
   "metadata": {},
   "outputs": [
    {
     "data": {
      "image/png": "[encoded data removed]",
      "text/plain": [
       "<Figure size 432x288 with 2 Axes>"
      ]
     },
     "metadata": {
      "needs_background": "light"
     },
     "output_type": "display_data"
    }
   ],
   "source": [
    "#Usando HeatMap para visualizar mejor la correlación entre variables\n",
    "hm=sns.heatmap(data=cormat,\n",
    "               annot=True, #Muestra los valores de las correlaciones en las celdas\n",
    "               cbar=True, #barra de color a modo de saturación\n",
    "               xticklabels=columnas,\n",
    "               yticklabels=columnas)\n",
    "plt.title('Heatmap para correlaciones')\n",
    "plt.show()"
   ]
  },
  {
   "cell_type": "code",
   "execution_count": 15,
   "metadata": {},
   "outputs": [
    {
     "name": "stdout",
     "output_type": "stream",
     "text": [
      "(0.04432865519545246, 0.6306943167137045)\n",
      "El p-value es: 0.6306943167137045\n"
     ]
    }
   ],
   "source": [
    "#Correlación lineal entre dos variables ('SalariosReales'-'Aprobaciónn')\n",
    "cor_test=stats.pearsonr(df['SalariosReales'],df['Aprobación'])\n",
    "print(cor_test)\n",
    "print('El p-value es:', cor_test[1]) #El p-value es mayor a 0.5, nos da una correlación no significativa"
   ]
  },
  {
   "cell_type": "code",
   "execution_count": 16,
   "metadata": {},
   "outputs": [
    {
     "name": "stdout",
     "output_type": "stream",
     "text": [
      "(-0.06338762678425294, 0.4915782274933316)\n",
      "El p-value es: 0.4915782274933316\n"
     ]
    }
   ],
   "source": [
    "#Correlación lineal entre dos variables ('Inflación'-'Aprobaciónn')\n",
    "cor_test=stats.pearsonr(df['Inflación'],df['Aprobación'])\n",
    "print(cor_test)\n",
    "print('El p-value es:', cor_test[1]) #El p-value es un poco menor a 0.5, nos da una correlación no significativa"
   ]
  },
  {
   "cell_type": "code",
   "execution_count": 17,
   "metadata": {
    "scrolled": true
   },
   "outputs": [
    {
     "name": "stdout",
     "output_type": "stream",
     "text": [
      "(-0.42896133654330026, 1.0170266803445158e-06)\n",
      "El p-value es: 1.0170266803445158e-06\n"
     ]
    }
   ],
   "source": [
    "#Correlación lineal entre dos variables ('IPC'-'Aprobaciónn')\n",
    "cor_test=stats.pearsonr(df['IPC'],df['Aprobación'])\n",
    "print(cor_test)\n",
    "print('El p-value es:', cor_test[1])  #El p-value es muy pequeño, tiende a 0 , nos da una correlación significativa"
   ]
  },
  {
   "cell_type": "markdown",
   "metadata": {},
   "source": [
    "## **_2.Construir los datos de entrenamiento y de prueba, teniendo en cuenta que 70% de los datos es para entrenamiento y 30% de prueba._**"
   ]
  },
  {
   "cell_type": "markdown",
   "metadata": {},
   "source": [
    "**Caso Regresion lineal Simple**"
   ]
  },
  {
   "cell_type": "code",
   "execution_count": 18,
   "metadata": {},
   "outputs": [],
   "source": [
    "#Establecer nuestra matriz de datos X y variable target Y (Para regresion lineal simple)\n",
    "Xrls=df[['SalariosReales']]\n",
    "yrls=df[['Aprobación']]"
   ]
  },
  {
   "cell_type": "code",
   "execution_count": 19,
   "metadata": {},
   "outputs": [],
   "source": [
    "X_trainrls,X_testrls,y_trainrls,y_testrls=train_test_split(Xrls,\n",
    "                                                           yrls,\n",
    "                                                           test_size=0.3,\n",
    "                                                           random_state=2020)"
   ]
  },
  {
   "cell_type": "markdown",
   "metadata": {},
   "source": [
    "**Caso Regresion Lineal Multiple**"
   ]
  },
  {
   "cell_type": "code",
   "execution_count": 20,
   "metadata": {},
   "outputs": [],
   "source": [
    "#Establecer nuestra matriz de datos X y variable target Y (Para regresion lineal multiple)\n",
    "Xrlm=df.iloc[:,:3].values\n",
    "yrlm=df.iloc[:,3].values"
   ]
  },
  {
   "cell_type": "code",
   "execution_count": 21,
   "metadata": {},
   "outputs": [],
   "source": [
    "X_trainrlm,X_testrlm,y_trainrlm,y_testrlm=train_test_split(Xrlm,\n",
    "                                                           yrlm,\n",
    "                                                           test_size=0.3,\n",
    "                                                           random_state=2020)"
   ]
  },
  {
   "cell_type": "markdown",
   "metadata": {},
   "source": [
    "## **_3.Realizar un modelo de regresión lineal simple: TARGET ~ X1_**"
   ]
  },
  {
   "cell_type": "code",
   "execution_count": 22,
   "metadata": {},
   "outputs": [],
   "source": [
    "#Creando una instancia LinearRegression()\n",
    "modelorls=LinearRegression()"
   ]
  },
  {
   "cell_type": "code",
   "execution_count": 23,
   "metadata": {},
   "outputs": [
    {
     "data": {
      "text/plain": [
       "LinearRegression()"
      ]
     },
     "execution_count": 23,
     "metadata": {},
     "output_type": "execute_result"
    }
   ],
   "source": [
    "#Hacemos que el modelo aprenda de los datos\n",
    "modelorls.fit(X_trainrls,y_trainrls)"
   ]
  },
  {
   "cell_type": "code",
   "execution_count": 24,
   "metadata": {},
   "outputs": [
    {
     "name": "stdout",
     "output_type": "stream",
     "text": [
      "El interceptor del modelo es : [38.336]\n",
      "La pendiente del modelo es: [-0.018]\n",
      "El coeficiente de determinacion R2 es: 0.11 %\n"
     ]
    }
   ],
   "source": [
    "#Información del Modelo\n",
    "#=====================================\n",
    "print(\"El interceptor del modelo es :\",modelorls.intercept_.round(3))\n",
    "print(\"La pendiente del modelo es:\",modelorls.coef_[0].round(3))\n",
    "print(\"El coeficiente de determinacion R2 es:\", (modelorls.score(X_trainrls,y_trainrls)*100).round(2), \"%\")"
   ]
  },
  {
   "cell_type": "code",
   "execution_count": 25,
   "metadata": {},
   "outputs": [],
   "source": [
    "#Estimacion de la variable Dependiente o YPredicho\n",
    "ytrainrls_pred=modelorls.predict(X_trainrls)\n",
    "ytestrls_pred=modelorls.predict(X_testrls)"
   ]
  },
  {
   "cell_type": "markdown",
   "metadata": {},
   "source": [
    "#### _Evaluacion de Modelos (RMSE)_"
   ]
  },
  {
   "cell_type": "code",
   "execution_count": 26,
   "metadata": {},
   "outputs": [
    {
     "data": {
      "text/plain": [
       "12.256"
      ]
     },
     "execution_count": 26,
     "metadata": {},
     "output_type": "execute_result"
    }
   ],
   "source": [
    "#para data de entrenamiento\n",
    "round(m.sqrt(mean_squared_error(y_trainrls,ytrainrls_pred)),3)"
   ]
  },
  {
   "cell_type": "code",
   "execution_count": 27,
   "metadata": {},
   "outputs": [
    {
     "data": {
      "text/plain": [
       "13.447"
      ]
     },
     "execution_count": 27,
     "metadata": {},
     "output_type": "execute_result"
    }
   ],
   "source": [
    "#para data de testing\n",
    "round(m.sqrt(mean_squared_error(y_testrls,ytestrls_pred)),3)"
   ]
  },
  {
   "cell_type": "markdown",
   "metadata": {},
   "source": [
    "#### _Evaluacion de Modelos (R2)_"
   ]
  },
  {
   "cell_type": "code",
   "execution_count": 28,
   "metadata": {},
   "outputs": [
    {
     "data": {
      "text/plain": [
       "0.001"
      ]
     },
     "execution_count": 28,
     "metadata": {},
     "output_type": "execute_result"
    }
   ],
   "source": [
    "#para data de entrenamiento\n",
    "round(r2_score(y_trainrls,ytrainrls_pred),3)"
   ]
  },
  {
   "cell_type": "code",
   "execution_count": 29,
   "metadata": {},
   "outputs": [
    {
     "data": {
      "text/plain": [
       "-0.014"
      ]
     },
     "execution_count": 29,
     "metadata": {},
     "output_type": "execute_result"
    }
   ],
   "source": [
    "#para data de testing\n",
    "round(r2_score(y_testrls,ytestrls_pred),3)"
   ]
  },
  {
   "cell_type": "markdown",
   "metadata": {},
   "source": [
    "**Resumen de metricas del modelo**"
   ]
  },
  {
   "cell_type": "code",
   "execution_count": 30,
   "metadata": {},
   "outputs": [
    {
     "data": {
      "text/html": [
       "<table class=\"simpletable\">\n",
       "<caption>OLS Regression Results</caption>\n",
       "<tr>\n",
       "  <th>Dep. Variable:</th>       <td>Aprobación</td>    <th>  R-squared:         </th> <td>   0.002</td>\n",
       "</tr>\n",
       "<tr>\n",
       "  <th>Model:</th>                   <td>OLS</td>       <th>  Adj. R-squared:    </th> <td>  -0.006</td>\n",
       "</tr>\n",
       "<tr>\n",
       "  <th>Method:</th>             <td>Least Squares</td>  <th>  F-statistic:       </th> <td>  0.2323</td>\n",
       "</tr>\n",
       "<tr>\n",
       "  <th>Date:</th>             <td>Wed, 28 Apr 2021</td> <th>  Prob (F-statistic):</th>  <td> 0.631</td> \n",
       "</tr>\n",
       "<tr>\n",
       "  <th>Time:</th>                 <td>15:28:37</td>     <th>  Log-Likelihood:    </th> <td> -474.20</td>\n",
       "</tr>\n",
       "<tr>\n",
       "  <th>No. Observations:</th>      <td>   120</td>      <th>  AIC:               </th> <td>   952.4</td>\n",
       "</tr>\n",
       "<tr>\n",
       "  <th>Df Residuals:</th>          <td>   118</td>      <th>  BIC:               </th> <td>   958.0</td>\n",
       "</tr>\n",
       "<tr>\n",
       "  <th>Df Model:</th>              <td>     1</td>      <th>                     </th>     <td> </td>   \n",
       "</tr>\n",
       "<tr>\n",
       "  <th>Covariance Type:</th>      <td>nonrobust</td>    <th>                     </th>     <td> </td>   \n",
       "</tr>\n",
       "</table>\n",
       "<table class=\"simpletable\">\n",
       "<tr>\n",
       "         <td></td>           <th>coef</th>     <th>std err</th>      <th>t</th>      <th>P>|t|</th>  <th>[0.025</th>    <th>0.975]</th>  \n",
       "</tr>\n",
       "<tr>\n",
       "  <th>const</th>          <td>   26.7838</td> <td>   13.810</td> <td>    1.939</td> <td> 0.055</td> <td>   -0.563</td> <td>   54.131</td>\n",
       "</tr>\n",
       "<tr>\n",
       "  <th>SalariosReales</th> <td>    0.0247</td> <td>    0.051</td> <td>    0.482</td> <td> 0.631</td> <td>   -0.077</td> <td>    0.126</td>\n",
       "</tr>\n",
       "</table>\n",
       "<table class=\"simpletable\">\n",
       "<tr>\n",
       "  <th>Omnibus:</th>       <td> 9.781</td> <th>  Durbin-Watson:     </th> <td>   0.116</td>\n",
       "</tr>\n",
       "<tr>\n",
       "  <th>Prob(Omnibus):</th> <td> 0.008</td> <th>  Jarque-Bera (JB):  </th> <td>  10.028</td>\n",
       "</tr>\n",
       "<tr>\n",
       "  <th>Skew:</th>          <td> 0.666</td> <th>  Prob(JB):          </th> <td> 0.00664</td>\n",
       "</tr>\n",
       "<tr>\n",
       "  <th>Kurtosis:</th>      <td> 2.521</td> <th>  Cond. No.          </th> <td>3.21e+03</td>\n",
       "</tr>\n",
       "</table><br/><br/>Warnings:<br/>[1] Standard Errors assume that the covariance matrix of the errors is correctly specified.<br/>[2] The condition number is large, 3.21e+03. This might indicate that there are<br/>strong multicollinearity or other numerical problems."
      ],
      "text/plain": [
       "<class 'statsmodels.iolib.summary.Summary'>\n",
       "\"\"\"\n",
       "                            OLS Regression Results                            \n",
       "==============================================================================\n",
       "Dep. Variable:             Aprobación   R-squared:                       0.002\n",
       "Model:                            OLS   Adj. R-squared:                 -0.006\n",
       "Method:                 Least Squares   F-statistic:                    0.2323\n",
       "Date:                Wed, 28 Apr 2021   Prob (F-statistic):              0.631\n",
       "Time:                        15:28:37   Log-Likelihood:                -474.20\n",
       "No. Observations:                 120   AIC:                             952.4\n",
       "Df Residuals:                     118   BIC:                             958.0\n",
       "Df Model:                           1                                         \n",
       "Covariance Type:            nonrobust                                         \n",
       "==================================================================================\n",
       "                     coef    std err          t      P>|t|      [0.025      0.975]\n",
       "----------------------------------------------------------------------------------\n",
       "const             26.7838     13.810      1.939      0.055      -0.563      54.131\n",
       "SalariosReales     0.0247      0.051      0.482      0.631      -0.077       0.126\n",
       "==============================================================================\n",
       "Omnibus:                        9.781   Durbin-Watson:                   0.116\n",
       "Prob(Omnibus):                  0.008   Jarque-Bera (JB):               10.028\n",
       "Skew:                           0.666   Prob(JB):                      0.00664\n",
       "Kurtosis:                       2.521   Cond. No.                     3.21e+03\n",
       "==============================================================================\n",
       "\n",
       "Warnings:\n",
       "[1] Standard Errors assume that the covariance matrix of the errors is correctly specified.\n",
       "[2] The condition number is large, 3.21e+03. This might indicate that there are\n",
       "strong multicollinearity or other numerical problems.\n",
       "\"\"\""
      ]
     },
     "execution_count": 30,
     "metadata": {},
     "output_type": "execute_result"
    }
   ],
   "source": [
    "X_constant=sm.add_constant(Xrls)\n",
    "lin_reg= sm.OLS(yrls,X_constant).fit()\n",
    "lin_reg.summary()"
   ]
  },
  {
   "cell_type": "code",
   "execution_count": 31,
   "metadata": {},
   "outputs": [],
   "source": [
    "#Creando una función para visualizar los datos y la recta de regresión\n",
    "def lin_regplot(X,y,model):\n",
    "    plt.scatter(X,y,c='blue')\n",
    "    plt.plot(X,model.predict(X),color='red')\n",
    "    return"
   ]
  },
  {
   "cell_type": "markdown",
   "metadata": {},
   "source": [
    "### _Graficando mis datos de entrenamiento_"
   ]
  },
  {
   "cell_type": "code",
   "execution_count": 32,
   "metadata": {},
   "outputs": [
    {
     "data": {
      "image/png": "[encoded data removed]",
      "text/plain": [
       "<Figure size 432x288 with 1 Axes>"
      ]
     },
     "metadata": {
      "needs_background": "light"
     },
     "output_type": "display_data"
    }
   ],
   "source": [
    "lin_regplot(X_trainrls,y_trainrls,modelorls)\n",
    "plt.title('Datos de Entrenamiento')\n",
    "plt.xlabel('Salario Promedio')\n",
    "plt.ylabel('Cantidad de Aprobacion')\n",
    "plt.show()"
   ]
  },
  {
   "cell_type": "code",
   "execution_count": 33,
   "metadata": {},
   "outputs": [
    {
     "data": {
      "image/png": "[encoded data removed]",
      "text/plain": [
       "<Figure size 432x288 with 1 Axes>"
      ]
     },
     "metadata": {
      "needs_background": "light"
     },
     "output_type": "display_data"
    }
   ],
   "source": [
    "lin_regplot(X_testrls,y_testrls,modelorls)\n",
    "plt.title('Datos de Entrenamiento')\n",
    "plt.xlabel('Salario Promedio')\n",
    "plt.ylabel('Cantidad de Aprobacion')\n",
    "plt.show()"
   ]
  },
  {
   "cell_type": "markdown",
   "metadata": {},
   "source": [
    "## **_4.Realizar un modelo de regresión lineal múltiple: TARGET ~ X1 +X2 +X3_**"
   ]
  },
  {
   "cell_type": "code",
   "execution_count": 34,
   "metadata": {},
   "outputs": [
    {
     "data": {
      "text/plain": [
       "LinearRegression()"
      ]
     },
     "execution_count": 34,
     "metadata": {},
     "output_type": "execute_result"
    }
   ],
   "source": [
    "#Instnanciar un objeto de clase LinearRegression()\n",
    "modelorlm=LinearRegression()\n",
    "#Hacer que nuestro modelo aprenda de los datos\n",
    "modelorlm.fit(X_trainrlm,y_trainrlm)"
   ]
  },
  {
   "cell_type": "code",
   "execution_count": 35,
   "metadata": {},
   "outputs": [],
   "source": [
    "#Estimar los valores de Ypredicho\n",
    "y_trainrlm_pred=modelorlm.predict(X_trainrlm)\n",
    "y_testrlm_pred=modelorlm.predict(X_testrlm)"
   ]
  },
  {
   "cell_type": "code",
   "execution_count": 36,
   "metadata": {},
   "outputs": [
    {
     "name": "stdout",
     "output_type": "stream",
     "text": [
      "Coeficiente de Determinacion-Training 0.46\n",
      "Coeficiente de Determinacion-Testing 0.56\n"
     ]
    }
   ],
   "source": [
    "#Evaluando el coeficiente de determinacon R2\n",
    "print(\"Coeficiente de Determinacion-Training\",r2_score(y_trainrlm,y_trainrlm_pred).round(2))\n",
    "print(\"Coeficiente de Determinacion-Testing\",r2_score(y_testrlm,y_testrlm_pred).round(2))"
   ]
  },
  {
   "cell_type": "code",
   "execution_count": 37,
   "metadata": {},
   "outputs": [
    {
     "name": "stdout",
     "output_type": "stream",
     "text": [
      "RMSE-Training 8.98\n",
      "RMSE-Testing 8.87\n"
     ]
    }
   ],
   "source": [
    "#Evaluando el MSE\n",
    "print(\"RMSE-Training\",round(m.sqrt(mean_squared_error(y_trainrlm,y_trainrlm_pred)),2))\n",
    "print(\"RMSE-Testing\",round(m.sqrt(mean_squared_error(y_testrlm,y_testrlm_pred)),2))"
   ]
  },
  {
   "cell_type": "markdown",
   "metadata": {},
   "source": [
    "**Resumen de metricas del modelo**"
   ]
  },
  {
   "cell_type": "code",
   "execution_count": 38,
   "metadata": {},
   "outputs": [
    {
     "data": {
      "text/html": [
       "<table class=\"simpletable\">\n",
       "<caption>OLS Regression Results</caption>\n",
       "<tr>\n",
       "  <th>Dep. Variable:</th>            <td>y</td>        <th>  R-squared:         </th> <td>   0.497</td>\n",
       "</tr>\n",
       "<tr>\n",
       "  <th>Model:</th>                   <td>OLS</td>       <th>  Adj. R-squared:    </th> <td>   0.484</td>\n",
       "</tr>\n",
       "<tr>\n",
       "  <th>Method:</th>             <td>Least Squares</td>  <th>  F-statistic:       </th> <td>   38.21</td>\n",
       "</tr>\n",
       "<tr>\n",
       "  <th>Date:</th>             <td>Wed, 28 Apr 2021</td> <th>  Prob (F-statistic):</th> <td>3.02e-17</td>\n",
       "</tr>\n",
       "<tr>\n",
       "  <th>Time:</th>                 <td>15:28:38</td>     <th>  Log-Likelihood:    </th> <td> -433.09</td>\n",
       "</tr>\n",
       "<tr>\n",
       "  <th>No. Observations:</th>      <td>   120</td>      <th>  AIC:               </th> <td>   874.2</td>\n",
       "</tr>\n",
       "<tr>\n",
       "  <th>Df Residuals:</th>          <td>   116</td>      <th>  BIC:               </th> <td>   885.3</td>\n",
       "</tr>\n",
       "<tr>\n",
       "  <th>Df Model:</th>              <td>     3</td>      <th>                     </th>     <td> </td>   \n",
       "</tr>\n",
       "<tr>\n",
       "  <th>Covariance Type:</th>      <td>nonrobust</td>    <th>                     </th>     <td> </td>   \n",
       "</tr>\n",
       "</table>\n",
       "<table class=\"simpletable\">\n",
       "<tr>\n",
       "    <td></td>       <th>coef</th>     <th>std err</th>      <th>t</th>      <th>P>|t|</th>  <th>[0.025</th>    <th>0.975]</th>  \n",
       "</tr>\n",
       "<tr>\n",
       "  <th>const</th> <td>   54.1743</td> <td>   10.224</td> <td>    5.299</td> <td> 0.000</td> <td>   33.924</td> <td>   74.424</td>\n",
       "</tr>\n",
       "<tr>\n",
       "  <th>x1</th>    <td>    0.4711</td> <td>    0.056</td> <td>    8.460</td> <td> 0.000</td> <td>    0.361</td> <td>    0.581</td>\n",
       "</tr>\n",
       "<tr>\n",
       "  <th>x2</th>    <td>   -2.2769</td> <td>    3.119</td> <td>   -0.730</td> <td> 0.467</td> <td>   -8.455</td> <td>    3.901</td>\n",
       "</tr>\n",
       "<tr>\n",
       "  <th>x3</th>    <td>   -1.3834</td> <td>    0.130</td> <td>  -10.640</td> <td> 0.000</td> <td>   -1.641</td> <td>   -1.126</td>\n",
       "</tr>\n",
       "</table>\n",
       "<table class=\"simpletable\">\n",
       "<tr>\n",
       "  <th>Omnibus:</th>       <td> 8.474</td> <th>  Durbin-Watson:     </th> <td>   0.338</td>\n",
       "</tr>\n",
       "<tr>\n",
       "  <th>Prob(Omnibus):</th> <td> 0.014</td> <th>  Jarque-Bera (JB):  </th> <td>   8.593</td>\n",
       "</tr>\n",
       "<tr>\n",
       "  <th>Skew:</th>          <td> 0.653</td> <th>  Prob(JB):          </th> <td>  0.0136</td>\n",
       "</tr>\n",
       "<tr>\n",
       "  <th>Kurtosis:</th>      <td> 3.117</td> <th>  Cond. No.          </th> <td>3.57e+03</td>\n",
       "</tr>\n",
       "</table><br/><br/>Warnings:<br/>[1] Standard Errors assume that the covariance matrix of the errors is correctly specified.<br/>[2] The condition number is large, 3.57e+03. This might indicate that there are<br/>strong multicollinearity or other numerical problems."
      ],
      "text/plain": [
       "<class 'statsmodels.iolib.summary.Summary'>\n",
       "\"\"\"\n",
       "                            OLS Regression Results                            \n",
       "==============================================================================\n",
       "Dep. Variable:                      y   R-squared:                       0.497\n",
       "Model:                            OLS   Adj. R-squared:                  0.484\n",
       "Method:                 Least Squares   F-statistic:                     38.21\n",
       "Date:                Wed, 28 Apr 2021   Prob (F-statistic):           3.02e-17\n",
       "Time:                        15:28:38   Log-Likelihood:                -433.09\n",
       "No. Observations:                 120   AIC:                             874.2\n",
       "Df Residuals:                     116   BIC:                             885.3\n",
       "Df Model:                           3                                         \n",
       "Covariance Type:            nonrobust                                         \n",
       "==============================================================================\n",
       "                 coef    std err          t      P>|t|      [0.025      0.975]\n",
       "------------------------------------------------------------------------------\n",
       "const         54.1743     10.224      5.299      0.000      33.924      74.424\n",
       "x1             0.4711      0.056      8.460      0.000       0.361       0.581\n",
       "x2            -2.2769      3.119     -0.730      0.467      -8.455       3.901\n",
       "x3            -1.3834      0.130    -10.640      0.000      -1.641      -1.126\n",
       "==============================================================================\n",
       "Omnibus:                        8.474   Durbin-Watson:                   0.338\n",
       "Prob(Omnibus):                  0.014   Jarque-Bera (JB):                8.593\n",
       "Skew:                           0.653   Prob(JB):                       0.0136\n",
       "Kurtosis:                       3.117   Cond. No.                     3.57e+03\n",
       "==============================================================================\n",
       "\n",
       "Warnings:\n",
       "[1] Standard Errors assume that the covariance matrix of the errors is correctly specified.\n",
       "[2] The condition number is large, 3.57e+03. This might indicate that there are\n",
       "strong multicollinearity or other numerical problems.\n",
       "\"\"\""
      ]
     },
     "execution_count": 38,
     "metadata": {},
     "output_type": "execute_result"
    }
   ],
   "source": [
    "X_constant=sm.add_constant(Xrlm)\n",
    "lin_reg= sm.OLS(yrlm,X_constant).fit()\n",
    "lin_reg.summary()\n",
    "#X1: Salarios Reales\n",
    "#X2: Inflación\n",
    "#X3: IPC (índice de precio al consumidor)"
   ]
  },
  {
   "cell_type": "markdown",
   "metadata": {},
   "source": [
    "**Grafica**"
   ]
  },
  {
   "cell_type": "code",
   "execution_count": 39,
   "metadata": {
    "scrolled": false
   },
   "outputs": [
    {
     "data": {
      "image/png": "[encoded data removed]",
      "text/plain": [
       "<Figure size 1080x180 with 3 Axes>"
      ]
     },
     "metadata": {
      "needs_background": "light"
     },
     "output_type": "display_data"
    }
   ],
   "source": [
    "sns.pairplot(df,x_vars=['SalariosReales','Inflación','IPC'],y_vars=['Aprobación'],kind='reg',aspect=2,palette=['red','green'])\n",
    "plt.show()"
   ]
  },
  {
   "cell_type": "code",
   "execution_count": null,
   "metadata": {},
   "outputs": [],
   "source": []
  }
 ],
 "metadata": {
  "kernelspec": {
   "display_name": "Python 3",
   "language": "python",
   "name": "python3"
  },
  "language_info": {
   "codemirror_mode": {
    "name": "ipython",
    "version": 3
   },
   "file_extension": ".py",
   "mimetype": "text/x-python",
   "name": "python",
   "nbconvert_exporter": "python",
   "pygments_lexer": "ipython3",
   "version": "3.8.3"
  }
 },
 "nbformat": 4,
 "nbformat_minor": 4
}
