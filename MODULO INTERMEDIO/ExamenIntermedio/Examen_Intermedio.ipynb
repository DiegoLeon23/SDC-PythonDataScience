{
 "cells": [
  {
   "cell_type": "markdown",
   "metadata": {},
   "source": [
    "# **_DESARROLLO EXÁMEN MÓDULO INTERMEDIO - Python for Data Science_**"
   ]
  },
  {
   "cell_type": "code",
   "execution_count": 1,
   "metadata": {},
   "outputs": [],
   "source": [
    "#Instalando las librerías necesarias\n",
    "\n",
    "import os   #Cambiar directorio de trabajo\n",
    "import scipy\n",
    "#Manipulación de Datos\n",
    "import numpy as np\n",
    "import pandas as pd\n",
    "\n",
    "#Gráficos\n",
    "import matplotlib.pyplot as plt\n",
    "import seaborn as sns\n",
    "\n",
    "#Preprocesado y modelado\n",
    "from sklearn.model_selection import train_test_split #Para particionamiento en Datos de Entrenamiento y Prueba\n",
    "from sklearn.linear_model import LogisticRegression  #Para Análisis de Regresión Logística \n",
    "from sklearn.metrics import r2_score                 #Calcula el coeficiente de determinación r2\n",
    "from sklearn.metrics import mean_squared_error       #Calcula el error cuadratico medio\n",
    "from sklearn.metrics import classification_report    #Para construir un reporte de clasificación\n",
    "from sklearn.metrics import confusion_matrix         #Para construir la matriz de confusión\n",
    "from sklearn.feature_selection import RFE            #Para medir la importancia de las variables incluidas\n",
    "from sklearn.model_selection import cross_val_score  #Para llevar a cabo CrossValidation\n",
    "from sklearn import metrics    \n",
    "from sklearn.metrics import roc_curve,auc\n",
    "from imblearn.under_sampling import RandomUnderSampler\n",
    "\n",
    "#Para distintas métricas de evaluación\n",
    "import statsmodels.api as sm \n",
    "import statsmodels.formula.api as smf\n",
    "import math as m\n",
    "\n",
    "from sklearn.discriminant_analysis import LinearDiscriminantAnalysis, QuadraticDiscriminantAnalysis\n",
    "from sklearn.metrics import confusion_matrix, classification_report, precision_score\n",
    "\n",
    "#Just In Case\n",
    "import warnings\n",
    "warnings.filterwarnings('ignore')"
   ]
  },
  {
   "cell_type": "code",
   "execution_count": 2,
   "metadata": {},
   "outputs": [],
   "source": [
    "#Estableciendo directorio\n",
    "os.chdir(\"D:\\Social Data Consulting\\Python for Data Science\\data\")"
   ]
  },
  {
   "cell_type": "code",
   "execution_count": 3,
   "metadata": {},
   "outputs": [
    {
     "name": "stdout",
     "output_type": "stream",
     "text": [
      "<class 'pandas.core.frame.DataFrame'>\n",
      "RangeIndex: 6497 entries, 0 to 6496\n",
      "Data columns (total 12 columns):\n",
      " #   Column                Non-Null Count  Dtype  \n",
      "---  ------                --------------  -----  \n",
      " 0   fixed acidity         6497 non-null   float64\n",
      " 1   volatile acidity      6497 non-null   float64\n",
      " 2   citric acid           6497 non-null   float64\n",
      " 3   residual sugar        6497 non-null   float64\n",
      " 4   chlorides             6497 non-null   float64\n",
      " 5   free sulfur dioxide   6497 non-null   float64\n",
      " 6   total sulfur dioxide  6497 non-null   float64\n",
      " 7   density               6497 non-null   float64\n",
      " 8   pH                    6497 non-null   float64\n",
      " 9   sulphates             6497 non-null   float64\n",
      " 10  alcohol               6497 non-null   float64\n",
      " 11  wine_type             6497 non-null   object \n",
      "dtypes: float64(11), object(1)\n",
      "memory usage: 609.2+ KB\n"
     ]
    }
   ],
   "source": [
    "wines='wines_types.csv'\n",
    "df_wines = pd.read_csv(wines)\n",
    "df_wines.info()"
   ]
  },
  {
   "cell_type": "code",
   "execution_count": 4,
   "metadata": {},
   "outputs": [
    {
     "data": {
      "text/html": [
       "<div>\n",
       "<style scoped>\n",
       "    .dataframe tbody tr th:only-of-type {\n",
       "        vertical-align: middle;\n",
       "    }\n",
       "\n",
       "    .dataframe tbody tr th {\n",
       "        vertical-align: top;\n",
       "    }\n",
       "\n",
       "    .dataframe thead th {\n",
       "        text-align: right;\n",
       "    }\n",
       "</style>\n",
       "<table border=\"1\" class=\"dataframe\">\n",
       "  <thead>\n",
       "    <tr style=\"text-align: right;\">\n",
       "      <th></th>\n",
       "      <th>fixed acidity</th>\n",
       "      <th>volatile acidity</th>\n",
       "      <th>citric acid</th>\n",
       "      <th>residual sugar</th>\n",
       "      <th>chlorides</th>\n",
       "      <th>free sulfur dioxide</th>\n",
       "      <th>total sulfur dioxide</th>\n",
       "      <th>density</th>\n",
       "      <th>pH</th>\n",
       "      <th>sulphates</th>\n",
       "      <th>alcohol</th>\n",
       "      <th>wine_type</th>\n",
       "    </tr>\n",
       "  </thead>\n",
       "  <tbody>\n",
       "    <tr>\n",
       "      <th>0</th>\n",
       "      <td>7.0</td>\n",
       "      <td>0.17</td>\n",
       "      <td>0.74</td>\n",
       "      <td>12.8</td>\n",
       "      <td>0.045</td>\n",
       "      <td>24.0</td>\n",
       "      <td>126.0</td>\n",
       "      <td>0.99420</td>\n",
       "      <td>3.26</td>\n",
       "      <td>0.38</td>\n",
       "      <td>12.2</td>\n",
       "      <td>white</td>\n",
       "    </tr>\n",
       "    <tr>\n",
       "      <th>1</th>\n",
       "      <td>7.7</td>\n",
       "      <td>0.64</td>\n",
       "      <td>0.21</td>\n",
       "      <td>2.2</td>\n",
       "      <td>0.077</td>\n",
       "      <td>32.0</td>\n",
       "      <td>133.0</td>\n",
       "      <td>0.99560</td>\n",
       "      <td>3.27</td>\n",
       "      <td>0.45</td>\n",
       "      <td>9.9</td>\n",
       "      <td>red</td>\n",
       "    </tr>\n",
       "    <tr>\n",
       "      <th>2</th>\n",
       "      <td>6.8</td>\n",
       "      <td>0.39</td>\n",
       "      <td>0.34</td>\n",
       "      <td>7.4</td>\n",
       "      <td>0.020</td>\n",
       "      <td>38.0</td>\n",
       "      <td>133.0</td>\n",
       "      <td>0.99212</td>\n",
       "      <td>3.18</td>\n",
       "      <td>0.44</td>\n",
       "      <td>12.0</td>\n",
       "      <td>white</td>\n",
       "    </tr>\n",
       "    <tr>\n",
       "      <th>3</th>\n",
       "      <td>6.3</td>\n",
       "      <td>0.28</td>\n",
       "      <td>0.47</td>\n",
       "      <td>11.2</td>\n",
       "      <td>0.040</td>\n",
       "      <td>61.0</td>\n",
       "      <td>183.0</td>\n",
       "      <td>0.99592</td>\n",
       "      <td>3.12</td>\n",
       "      <td>0.51</td>\n",
       "      <td>9.5</td>\n",
       "      <td>white</td>\n",
       "    </tr>\n",
       "    <tr>\n",
       "      <th>4</th>\n",
       "      <td>7.4</td>\n",
       "      <td>0.35</td>\n",
       "      <td>0.20</td>\n",
       "      <td>13.9</td>\n",
       "      <td>0.054</td>\n",
       "      <td>63.0</td>\n",
       "      <td>229.0</td>\n",
       "      <td>0.99888</td>\n",
       "      <td>3.11</td>\n",
       "      <td>0.50</td>\n",
       "      <td>8.9</td>\n",
       "      <td>white</td>\n",
       "    </tr>\n",
       "  </tbody>\n",
       "</table>\n",
       "</div>"
      ],
      "text/plain": [
       "   fixed acidity  volatile acidity  citric acid  residual sugar  chlorides  \\\n",
       "0            7.0              0.17         0.74            12.8      0.045   \n",
       "1            7.7              0.64         0.21             2.2      0.077   \n",
       "2            6.8              0.39         0.34             7.4      0.020   \n",
       "3            6.3              0.28         0.47            11.2      0.040   \n",
       "4            7.4              0.35         0.20            13.9      0.054   \n",
       "\n",
       "   free sulfur dioxide  total sulfur dioxide  density    pH  sulphates  \\\n",
       "0                 24.0                 126.0  0.99420  3.26       0.38   \n",
       "1                 32.0                 133.0  0.99560  3.27       0.45   \n",
       "2                 38.0                 133.0  0.99212  3.18       0.44   \n",
       "3                 61.0                 183.0  0.99592  3.12       0.51   \n",
       "4                 63.0                 229.0  0.99888  3.11       0.50   \n",
       "\n",
       "   alcohol wine_type  \n",
       "0     12.2     white  \n",
       "1      9.9       red  \n",
       "2     12.0     white  \n",
       "3      9.5     white  \n",
       "4      8.9     white  "
      ]
     },
     "execution_count": 4,
     "metadata": {},
     "output_type": "execute_result"
    }
   ],
   "source": [
    "df_wines.head()"
   ]
  },
  {
   "cell_type": "code",
   "execution_count": 5,
   "metadata": {},
   "outputs": [],
   "source": [
    "columns=df_wines.columns.to_list()\n",
    "target=['wine_type']\n",
    "x=[x for x in columns if x not in target]"
   ]
  },
  {
   "cell_type": "markdown",
   "metadata": {},
   "source": [
    "### **1. Codificar las variable wine_type (white= 1 y red=2) y particionar los datos en entrenamiento (75%) y prueba (25%)**"
   ]
  },
  {
   "cell_type": "code",
   "execution_count": 6,
   "metadata": {},
   "outputs": [],
   "source": [
    "#Codificacion de la variable wine_type (white=1 y red=2)\n",
    "df_wines.wine_type=np.where(df_wines.wine_type==\"red\",2,1)\n",
    "\n",
    "#Particionamiento de la data, definimos X e y\n",
    "X=df_wines.iloc[:,0:df_wines.shape[1]-1].values\n",
    "y=df_wines.iloc[:,df_wines.shape[1]-1].values\n",
    "\n",
    "# Generamos nuestra data de entrenamiento y testeo\n",
    "X_train,X_test,y_train,y_test=train_test_split(X,\n",
    "                                               y,\n",
    "                                              test_size=0.25,\n",
    "                                              stratify=y,\n",
    "                                              random_state=2020)"
   ]
  },
  {
   "cell_type": "code",
   "execution_count": 7,
   "metadata": {},
   "outputs": [
    {
     "data": {
      "text/plain": [
       "1    4898\n",
       "2    1599\n",
       "Name: wine_type, dtype: int64"
      ]
     },
     "execution_count": 7,
     "metadata": {},
     "output_type": "execute_result"
    }
   ],
   "source": [
    "pd.value_counts(df_wines['wine_type'])"
   ]
  },
  {
   "cell_type": "code",
   "execution_count": 8,
   "metadata": {
    "scrolled": true
   },
   "outputs": [
    {
     "data": {
      "image/png": "[encoded data removed]",
      "text/plain": [
       "<Figure size 432x288 with 1 Axes>"
      ]
     },
     "metadata": {
      "needs_background": "light"
     },
     "output_type": "display_data"
    }
   ],
   "source": [
    "frecuencias=pd.value_counts(df_wines['wine_type'],sort=True)*100/len(df_wines)\n",
    "frecuencias.plot(kind='bar')\n",
    "plt.title('Distribución Tipos de vino')\n",
    "plt.show()"
   ]
  },
  {
   "cell_type": "markdown",
   "metadata": {},
   "source": [
    "### **_BALANCEO DE DATOS_**"
   ]
  },
  {
   "cell_type": "code",
   "execution_count": 11,
   "metadata": {},
   "outputs": [],
   "source": [
    "rus=RandomUnderSampler(sampling_strategy=0.8,random_state=2020)\n",
    "x_train_us,y_train_us=rus.fit_sample(X_train,y_train)"
   ]
  },
  {
   "cell_type": "code",
   "execution_count": 14,
   "metadata": {},
   "outputs": [],
   "source": [
    "x_train_us_df=pd.DataFrame(x_train_us,columns=x)\n",
    "y_train_us_df=pd.DataFrame(y_train_us,columns=target)\n",
    "\n",
    "xtest_df=pd.DataFrame(X_test,columns=x)\n",
    "ytest_df=pd.DataFrame(y_test,columns=target)\n",
    "\n",
    "df_wines_train_us=pd.concat([x_train_us_df,y_train_us_df],axis=1)\n",
    "df_wines_test=pd.concat([xtest_df,ytest_df],axis=1)"
   ]
  },
  {
   "cell_type": "code",
   "execution_count": 15,
   "metadata": {
    "scrolled": true
   },
   "outputs": [
    {
     "data": {
      "image/png": "[encoded data removed]",
      "text/plain": [
       "<Figure size 432x288 with 1 Axes>"
      ]
     },
     "metadata": {
      "needs_background": "light"
     },
     "output_type": "display_data"
    }
   ],
   "source": [
    "frecuencias=pd.value_counts(df_wines_train_us['wine_type'],sort=True)*100/len(df_wines_train_us)\n",
    "frecuencias.plot(kind='bar')\n",
    "plt.title('Distribución Tipos de vino')\n",
    "plt.show()"
   ]
  },
  {
   "cell_type": "markdown",
   "metadata": {},
   "source": [
    "### **2. Modelar el tipo de vino (wine_type) en función a las variables predictoras haciendo uso del modelo de regresión logístico. Considerar para las predicciones un punto de corte de 0.6**"
   ]
  },
  {
   "cell_type": "code",
   "execution_count": 16,
   "metadata": {},
   "outputs": [
    {
     "data": {
      "text/plain": [
       "LogisticRegression(max_iter=1000)"
      ]
     },
     "execution_count": 16,
     "metadata": {},
     "output_type": "execute_result"
    }
   ],
   "source": [
    "logistic_model=LogisticRegression(max_iter=1000)\n",
    "logistic_model.fit(x_train_us,y_train_us)"
   ]
  },
  {
   "cell_type": "markdown",
   "metadata": {},
   "source": [
    "##### Usando Cross Validation para evaluar la estabilidad de los datos"
   ]
  },
  {
   "cell_type": "code",
   "execution_count": 17,
   "metadata": {},
   "outputs": [],
   "source": [
    "score=cross_val_score(estimator=logistic_model,\n",
    "                     X=x_train_us,\n",
    "                     y=y_train_us,\n",
    "                     scoring=\"accuracy\",\n",
    "                     cv=10) #numero de particiones"
   ]
  },
  {
   "cell_type": "code",
   "execution_count": 18,
   "metadata": {},
   "outputs": [
    {
     "name": "stdout",
     "output_type": "stream",
     "text": [
      "La media de accuracy es:  0.98\n"
     ]
    }
   ],
   "source": [
    "print('La media de accuracy es: ', score.mean().round(2))"
   ]
  },
  {
   "cell_type": "code",
   "execution_count": 19,
   "metadata": {},
   "outputs": [
    {
     "data": {
      "image/png": "[encoded data removed]",
      "text/plain": [
       "<Figure size 432x288 with 1 Axes>"
      ]
     },
     "metadata": {
      "needs_background": "light"
     },
     "output_type": "display_data"
    }
   ],
   "source": [
    "plt.plot(list(range(1,11)),score)\n",
    "plt.ylim([0.6,1.5])\n",
    "plt.hlines(score.mean(),xmin=1,xmax=10,color='red')\n",
    "plt.title('Convergencia(CrossValidation) del Accuracy -Regresion Logistica')\n",
    "plt.show()"
   ]
  },
  {
   "cell_type": "code",
   "execution_count": 20,
   "metadata": {},
   "outputs": [],
   "source": [
    "prob_train=logistic_model.predict_proba(x_train_us)\n",
    "prob_df_train_log=pd.DataFrame(prob_train[:,1],columns=['prob y=2'])"
   ]
  },
  {
   "cell_type": "markdown",
   "metadata": {},
   "source": [
    "#### **Punto de Corte**"
   ]
  },
  {
   "cell_type": "code",
   "execution_count": 21,
   "metadata": {},
   "outputs": [
    {
     "data": {
      "text/html": [
       "<div>\n",
       "<style scoped>\n",
       "    .dataframe tbody tr th:only-of-type {\n",
       "        vertical-align: middle;\n",
       "    }\n",
       "\n",
       "    .dataframe tbody tr th {\n",
       "        vertical-align: top;\n",
       "    }\n",
       "\n",
       "    .dataframe thead th {\n",
       "        text-align: right;\n",
       "    }\n",
       "</style>\n",
       "<table border=\"1\" class=\"dataframe\">\n",
       "  <thead>\n",
       "    <tr style=\"text-align: right;\">\n",
       "      <th></th>\n",
       "      <th>prob y=2</th>\n",
       "      <th>prediccion</th>\n",
       "    </tr>\n",
       "  </thead>\n",
       "  <tbody>\n",
       "    <tr>\n",
       "      <th>0</th>\n",
       "      <td>0.000194</td>\n",
       "      <td>1</td>\n",
       "    </tr>\n",
       "    <tr>\n",
       "      <th>1</th>\n",
       "      <td>0.002831</td>\n",
       "      <td>1</td>\n",
       "    </tr>\n",
       "    <tr>\n",
       "      <th>2</th>\n",
       "      <td>0.003950</td>\n",
       "      <td>1</td>\n",
       "    </tr>\n",
       "    <tr>\n",
       "      <th>3</th>\n",
       "      <td>0.075573</td>\n",
       "      <td>1</td>\n",
       "    </tr>\n",
       "    <tr>\n",
       "      <th>4</th>\n",
       "      <td>0.042408</td>\n",
       "      <td>1</td>\n",
       "    </tr>\n",
       "  </tbody>\n",
       "</table>\n",
       "</div>"
      ],
      "text/plain": [
       "   prob y=2  prediccion\n",
       "0  0.000194           1\n",
       "1  0.002831           1\n",
       "2  0.003950           1\n",
       "3  0.075573           1\n",
       "4  0.042408           1"
      ]
     },
     "execution_count": 21,
     "metadata": {},
     "output_type": "execute_result"
    }
   ],
   "source": [
    "punto_corte=0.6\n",
    "prob_df_train_log['prediccion']=np.where(prob_df_train_log['prob y=2']>punto_corte,2,1)\n",
    "prob_df_train_log.head()"
   ]
  },
  {
   "cell_type": "markdown",
   "metadata": {},
   "source": [
    "### **3. Aplicar los parámetros del modelo de entrenamiento a los datos de testeo, considerar para las predicciones un punto de corte de 0.6**"
   ]
  },
  {
   "cell_type": "code",
   "execution_count": 22,
   "metadata": {},
   "outputs": [],
   "source": [
    "prob_test=logistic_model.predict_proba(X_test)\n",
    "prob_df_test_log=pd.DataFrame(prob_test[:,1],columns=['prob y=2'])"
   ]
  },
  {
   "cell_type": "markdown",
   "metadata": {},
   "source": [
    "#### **Punto de Corte**"
   ]
  },
  {
   "cell_type": "code",
   "execution_count": 23,
   "metadata": {},
   "outputs": [
    {
     "data": {
      "text/html": [
       "<div>\n",
       "<style scoped>\n",
       "    .dataframe tbody tr th:only-of-type {\n",
       "        vertical-align: middle;\n",
       "    }\n",
       "\n",
       "    .dataframe tbody tr th {\n",
       "        vertical-align: top;\n",
       "    }\n",
       "\n",
       "    .dataframe thead th {\n",
       "        text-align: right;\n",
       "    }\n",
       "</style>\n",
       "<table border=\"1\" class=\"dataframe\">\n",
       "  <thead>\n",
       "    <tr style=\"text-align: right;\">\n",
       "      <th></th>\n",
       "      <th>prob y=2</th>\n",
       "      <th>prediccion</th>\n",
       "    </tr>\n",
       "  </thead>\n",
       "  <tbody>\n",
       "    <tr>\n",
       "      <th>0</th>\n",
       "      <td>0.030373</td>\n",
       "      <td>1</td>\n",
       "    </tr>\n",
       "    <tr>\n",
       "      <th>1</th>\n",
       "      <td>0.534858</td>\n",
       "      <td>1</td>\n",
       "    </tr>\n",
       "    <tr>\n",
       "      <th>2</th>\n",
       "      <td>0.009609</td>\n",
       "      <td>1</td>\n",
       "    </tr>\n",
       "    <tr>\n",
       "      <th>3</th>\n",
       "      <td>0.002654</td>\n",
       "      <td>1</td>\n",
       "    </tr>\n",
       "    <tr>\n",
       "      <th>4</th>\n",
       "      <td>0.006526</td>\n",
       "      <td>1</td>\n",
       "    </tr>\n",
       "  </tbody>\n",
       "</table>\n",
       "</div>"
      ],
      "text/plain": [
       "   prob y=2  prediccion\n",
       "0  0.030373           1\n",
       "1  0.534858           1\n",
       "2  0.009609           1\n",
       "3  0.002654           1\n",
       "4  0.006526           1"
      ]
     },
     "execution_count": 23,
     "metadata": {},
     "output_type": "execute_result"
    }
   ],
   "source": [
    "punto_corte=0.6\n",
    "prob_df_test_log['prediccion']=np.where(prob_df_test_log['prob y=2']>punto_corte,2,1)\n",
    "prob_df_test_log.head()"
   ]
  },
  {
   "cell_type": "markdown",
   "metadata": {},
   "source": [
    "### **4. Evaluar el modelo de regresión logístico haciendo uso de las métricas de accuracy, sensibilidad. especificidad, auc y curva ROC**"
   ]
  },
  {
   "cell_type": "markdown",
   "metadata": {},
   "source": [
    "#### **_Metricas para data de entrenamiento_**"
   ]
  },
  {
   "cell_type": "code",
   "execution_count": 24,
   "metadata": {},
   "outputs": [
    {
     "data": {
      "text/html": [
       "<div>\n",
       "<style scoped>\n",
       "    .dataframe tbody tr th:only-of-type {\n",
       "        vertical-align: middle;\n",
       "    }\n",
       "\n",
       "    .dataframe tbody tr th {\n",
       "        vertical-align: top;\n",
       "    }\n",
       "\n",
       "    .dataframe thead th {\n",
       "        text-align: right;\n",
       "    }\n",
       "</style>\n",
       "<table border=\"1\" class=\"dataframe\">\n",
       "  <thead>\n",
       "    <tr style=\"text-align: right;\">\n",
       "      <th>prediccion</th>\n",
       "      <th>1</th>\n",
       "      <th>2</th>\n",
       "    </tr>\n",
       "    <tr>\n",
       "      <th>row_0</th>\n",
       "      <th></th>\n",
       "      <th></th>\n",
       "    </tr>\n",
       "  </thead>\n",
       "  <tbody>\n",
       "    <tr>\n",
       "      <th>1</th>\n",
       "      <td>1489</td>\n",
       "      <td>9</td>\n",
       "    </tr>\n",
       "    <tr>\n",
       "      <th>2</th>\n",
       "      <td>49</td>\n",
       "      <td>1150</td>\n",
       "    </tr>\n",
       "  </tbody>\n",
       "</table>\n",
       "</div>"
      ],
      "text/plain": [
       "prediccion     1     2\n",
       "row_0                 \n",
       "1           1489     9\n",
       "2             49  1150"
      ]
     },
     "execution_count": 24,
     "metadata": {},
     "output_type": "execute_result"
    }
   ],
   "source": [
    "cm_train=pd.crosstab(y_train_us,prob_df_train_log['prediccion'])\n",
    "cm_train"
   ]
  },
  {
   "cell_type": "code",
   "execution_count": 25,
   "metadata": {},
   "outputs": [],
   "source": [
    "VP_train=cm_train[2][2]\n",
    "VN_train=cm_train[1][1]\n",
    "FP_train=cm_train[2][1]\n",
    "FN_train=cm_train[1][2]"
   ]
  },
  {
   "cell_type": "code",
   "execution_count": 26,
   "metadata": {},
   "outputs": [
    {
     "name": "stdout",
     "output_type": "stream",
     "text": [
      "El Accuracy para la Data de Entrenamiento es: 0.978\n"
     ]
    }
   ],
   "source": [
    "accuracy_train_log=(VP_train+VN_train)/(VP_train+VN_train+FN_train+FP_train)\n",
    "print('El Accuracy para la Data de Entrenamiento es:',accuracy_train_log.round(3))"
   ]
  },
  {
   "cell_type": "code",
   "execution_count": 27,
   "metadata": {},
   "outputs": [
    {
     "name": "stdout",
     "output_type": "stream",
     "text": [
      "La Sensibilidad para la Data de Entrenamiento es: 0.959\n"
     ]
    }
   ],
   "source": [
    "sensibilidad_train_log=(VP_train)/(VP_train+FN_train)\n",
    "print('La Sensibilidad para la Data de Entrenamiento es:',sensibilidad_train_log.round(3))"
   ]
  },
  {
   "cell_type": "code",
   "execution_count": 28,
   "metadata": {},
   "outputs": [
    {
     "name": "stdout",
     "output_type": "stream",
     "text": [
      "La Especificidad para la Data de Entrenamiento es: 0.994\n"
     ]
    }
   ],
   "source": [
    "especificidad_train_log=(VN_train)/(VN_train+FP_train)\n",
    "print('La Especificidad para la Data de Entrenamiento es:',especificidad_train_log.round(3))"
   ]
  },
  {
   "cell_type": "code",
   "execution_count": 29,
   "metadata": {},
   "outputs": [
    {
     "name": "stdout",
     "output_type": "stream",
     "text": [
      "El area Bajo la Curva(AUC) para Data de Entrenamiento es:  0.977\n"
     ]
    }
   ],
   "source": [
    "#Para calcular de la curva ROC y AUC, la función roc_curve exige que las categorias sean 0 y 1\n",
    "y_train_us_cat=np.where(y_train_us==1,0,1)\n",
    "prob_df_train_log['prediccion_cat']=np.where(prob_df_train_log['prediccion']==1,0,1)\n",
    "\n",
    "fpr,tpr,thresholds=roc_curve(y_train_us_cat,prob_df_train_log['prediccion_cat'])\n",
    "auc_train_log=auc(fpr,tpr)\n",
    "print('El area Bajo la Curva(AUC) para Data de Entrenamiento es: ',auc_train_log.round(3))"
   ]
  },
  {
   "cell_type": "markdown",
   "metadata": {},
   "source": [
    "#### GRÁFICA CURVA ROC data entrenamiento"
   ]
  },
  {
   "cell_type": "code",
   "execution_count": 30,
   "metadata": {},
   "outputs": [
    {
     "data": {
      "image/png": "[encoded data removed]",
      "text/plain": [
       "<Figure size 500x500 with 1 Axes>"
      ]
     },
     "metadata": {
      "needs_background": "light"
     },
     "output_type": "display_data"
    }
   ],
   "source": [
    "plt.figure(figsize=(5,5),dpi=100)\n",
    "plt.plot(fpr,tpr,linestyle='-',label='Logistic(auc=%0.3f)'%auc_train_log)\n",
    "plt.title('Curva ROC para data entrenamiento')\n",
    "plt.xlabel('Ratio False positivo')\n",
    "plt.ylabel('Ratio Verdarero positivo')\n",
    "plt.legend()\n",
    "\n",
    "x=[i*0.01 for i in range(100)]\n",
    "y=[i*0.01 for i in range(100)]\n",
    "plt.plot(x,y)\n",
    "plt.show()"
   ]
  },
  {
   "cell_type": "markdown",
   "metadata": {},
   "source": [
    "#### **_Metricas para data de testeo_**"
   ]
  },
  {
   "cell_type": "code",
   "execution_count": 31,
   "metadata": {},
   "outputs": [
    {
     "data": {
      "text/html": [
       "<div>\n",
       "<style scoped>\n",
       "    .dataframe tbody tr th:only-of-type {\n",
       "        vertical-align: middle;\n",
       "    }\n",
       "\n",
       "    .dataframe tbody tr th {\n",
       "        vertical-align: top;\n",
       "    }\n",
       "\n",
       "    .dataframe thead th {\n",
       "        text-align: right;\n",
       "    }\n",
       "</style>\n",
       "<table border=\"1\" class=\"dataframe\">\n",
       "  <thead>\n",
       "    <tr style=\"text-align: right;\">\n",
       "      <th>prediccion</th>\n",
       "      <th>1</th>\n",
       "      <th>2</th>\n",
       "    </tr>\n",
       "    <tr>\n",
       "      <th>row_0</th>\n",
       "      <th></th>\n",
       "      <th></th>\n",
       "    </tr>\n",
       "  </thead>\n",
       "  <tbody>\n",
       "    <tr>\n",
       "      <th>1</th>\n",
       "      <td>1214</td>\n",
       "      <td>11</td>\n",
       "    </tr>\n",
       "    <tr>\n",
       "      <th>2</th>\n",
       "      <td>13</td>\n",
       "      <td>387</td>\n",
       "    </tr>\n",
       "  </tbody>\n",
       "</table>\n",
       "</div>"
      ],
      "text/plain": [
       "prediccion     1    2\n",
       "row_0                \n",
       "1           1214   11\n",
       "2             13  387"
      ]
     },
     "execution_count": 31,
     "metadata": {},
     "output_type": "execute_result"
    }
   ],
   "source": [
    "cm_test=pd.crosstab(y_test,prob_df_test_log['prediccion'])\n",
    "cm_test"
   ]
  },
  {
   "cell_type": "code",
   "execution_count": 32,
   "metadata": {},
   "outputs": [],
   "source": [
    "VP_test=cm_test[2][2]\n",
    "VN_test=cm_test[1][1]\n",
    "FP_test=cm_test[2][1]\n",
    "FN_test=cm_test[1][2]"
   ]
  },
  {
   "cell_type": "code",
   "execution_count": 33,
   "metadata": {},
   "outputs": [
    {
     "name": "stdout",
     "output_type": "stream",
     "text": [
      "El Accuracy para la Data de Entrenamiento es: 0.985\n"
     ]
    }
   ],
   "source": [
    "accuracy_test_log=(VP_test+VN_test)/(VP_test+VN_test+FN_test+FP_test)\n",
    "print('El Accuracy para la Data de Entrenamiento es:',accuracy_test_log.round(3))"
   ]
  },
  {
   "cell_type": "code",
   "execution_count": 34,
   "metadata": {},
   "outputs": [
    {
     "name": "stdout",
     "output_type": "stream",
     "text": [
      "La Sensibilidad para la Data de Entrenamiento es: 0.968\n"
     ]
    }
   ],
   "source": [
    "sensibilidad_test_log=(VP_test)/(VP_test+FN_test)\n",
    "print('La Sensibilidad para la Data de Entrenamiento es:',sensibilidad_test_log.round(3))"
   ]
  },
  {
   "cell_type": "code",
   "execution_count": 35,
   "metadata": {},
   "outputs": [
    {
     "name": "stdout",
     "output_type": "stream",
     "text": [
      "La Especificidad para la Data de Entrenamiento es: 0.991\n"
     ]
    }
   ],
   "source": [
    "especificidad_test_log=(VN_test)/(VN_test+FP_test)\n",
    "print('La Especificidad para la Data de Entrenamiento es:',especificidad_test_log.round(3))"
   ]
  },
  {
   "cell_type": "code",
   "execution_count": 36,
   "metadata": {},
   "outputs": [
    {
     "name": "stdout",
     "output_type": "stream",
     "text": [
      "El area Bajo la Curva(AUC) para Data de Testeo es:  0.979\n"
     ]
    }
   ],
   "source": [
    "#Para calcular de la curva ROC y AUC, la función roc_curve exige que las categorias sean 0 y 1\n",
    "y_test_cat=np.where(y_test==1,0,1)\n",
    "prob_df_test_log['prediccion_cat']=np.where(prob_df_test_log['prediccion']==1,0,1)\n",
    "\n",
    "fpr,tpr,thresholds=roc_curve(y_test_cat,prob_df_test_log['prediccion_cat'])\n",
    "auc_test_log=auc(fpr,tpr)\n",
    "print('El area Bajo la Curva(AUC) para Data de Testeo es: ',auc_test_log.round(3))"
   ]
  },
  {
   "cell_type": "markdown",
   "metadata": {},
   "source": [
    "#### GRÁFICA CURVA ROC data testeo"
   ]
  },
  {
   "cell_type": "code",
   "execution_count": 37,
   "metadata": {},
   "outputs": [
    {
     "data": {
      "image/png": "[encoded data removed]",
      "text/plain": [
       "<Figure size 500x500 with 1 Axes>"
      ]
     },
     "metadata": {
      "needs_background": "light"
     },
     "output_type": "display_data"
    }
   ],
   "source": [
    "plt.figure(figsize=(5,5),dpi=100)\n",
    "plt.plot(fpr,tpr,linestyle='-',label='Logistic(auc=%0.3f)'%auc_test_log)\n",
    "plt.title('Curva ROC para data Testeo')\n",
    "plt.xlabel('Ratio False positivo')\n",
    "plt.ylabel('Ratio Verdarero positivo')\n",
    "plt.legend()\n",
    "\n",
    "x=[i*0.01 for i in range(100)]\n",
    "y=[i*0.01 for i in range(100)]\n",
    "plt.plot(x,y)\n",
    "plt.show()"
   ]
  },
  {
   "cell_type": "markdown",
   "metadata": {},
   "source": [
    "### **5. Modelar el tipo de vino (wine_type) en función a las variables predictoras haciendo uso del modelo de análisis discriminante lineal. Considerar para las predicciones un punto de corte de 0.6.**"
   ]
  },
  {
   "cell_type": "code",
   "execution_count": 38,
   "metadata": {},
   "outputs": [
    {
     "data": {
      "text/plain": [
       "LinearDiscriminantAnalysis()"
      ]
     },
     "execution_count": 38,
     "metadata": {},
     "output_type": "execute_result"
    }
   ],
   "source": [
    "#Creamos el objeto de clase LinearDiscriminantAnalysis()\n",
    "lda_model=LinearDiscriminantAnalysis()\n",
    "#Ajustamos el modelo para aprender con la data balanceada\n",
    "lda_model.fit(x_train_us,y_train_us)"
   ]
  },
  {
   "cell_type": "markdown",
   "metadata": {},
   "source": [
    "##### Usando Cross Validation para evaluar la estabilidad de los datos"
   ]
  },
  {
   "cell_type": "code",
   "execution_count": 39,
   "metadata": {},
   "outputs": [],
   "source": [
    "score=cross_val_score(estimator=lda_model,\n",
    "                     X=x_train_us,\n",
    "                     y=y_train_us,\n",
    "                     scoring=\"accuracy\",\n",
    "                     cv=10) #numero de particiones"
   ]
  },
  {
   "cell_type": "code",
   "execution_count": 40,
   "metadata": {},
   "outputs": [
    {
     "name": "stdout",
     "output_type": "stream",
     "text": [
      "La media de accuracy es:  0.99\n"
     ]
    }
   ],
   "source": [
    "print('La media de accuracy es: ', score.mean().round(2))"
   ]
  },
  {
   "cell_type": "code",
   "execution_count": 41,
   "metadata": {},
   "outputs": [
    {
     "data": {
      "image/png": "[encoded data removed]",
      "text/plain": [
       "<Figure size 432x288 with 1 Axes>"
      ]
     },
     "metadata": {
      "needs_background": "light"
     },
     "output_type": "display_data"
    }
   ],
   "source": [
    "plt.plot(list(range(1,11)),score)\n",
    "plt.ylim([0.6,1.2])\n",
    "plt.hlines(score.mean(),xmin=1,xmax=10,color='red')\n",
    "plt.title('Convergencia(CrossValidation) del Accuracy -Analisis Discriminante Lineal')\n",
    "plt.show()"
   ]
  },
  {
   "cell_type": "code",
   "execution_count": 42,
   "metadata": {},
   "outputs": [],
   "source": [
    "prob_train=lda_model.predict_proba(x_train_us)\n",
    "prob_df_train_lda=pd.DataFrame(prob_train[:,1],columns=['prob y=2'])"
   ]
  },
  {
   "cell_type": "markdown",
   "metadata": {},
   "source": [
    "#### **Punto de Corte 0.6**"
   ]
  },
  {
   "cell_type": "code",
   "execution_count": 43,
   "metadata": {},
   "outputs": [
    {
     "data": {
      "text/html": [
       "<div>\n",
       "<style scoped>\n",
       "    .dataframe tbody tr th:only-of-type {\n",
       "        vertical-align: middle;\n",
       "    }\n",
       "\n",
       "    .dataframe tbody tr th {\n",
       "        vertical-align: top;\n",
       "    }\n",
       "\n",
       "    .dataframe thead th {\n",
       "        text-align: right;\n",
       "    }\n",
       "</style>\n",
       "<table border=\"1\" class=\"dataframe\">\n",
       "  <thead>\n",
       "    <tr style=\"text-align: right;\">\n",
       "      <th></th>\n",
       "      <th>prob y=2</th>\n",
       "      <th>prediccion</th>\n",
       "    </tr>\n",
       "  </thead>\n",
       "  <tbody>\n",
       "    <tr>\n",
       "      <th>0</th>\n",
       "      <td>5.759352e-09</td>\n",
       "      <td>1</td>\n",
       "    </tr>\n",
       "    <tr>\n",
       "      <th>1</th>\n",
       "      <td>3.777151e-08</td>\n",
       "      <td>1</td>\n",
       "    </tr>\n",
       "    <tr>\n",
       "      <th>2</th>\n",
       "      <td>1.061875e-07</td>\n",
       "      <td>1</td>\n",
       "    </tr>\n",
       "    <tr>\n",
       "      <th>3</th>\n",
       "      <td>3.969924e-05</td>\n",
       "      <td>1</td>\n",
       "    </tr>\n",
       "    <tr>\n",
       "      <th>4</th>\n",
       "      <td>4.883100e-07</td>\n",
       "      <td>1</td>\n",
       "    </tr>\n",
       "  </tbody>\n",
       "</table>\n",
       "</div>"
      ],
      "text/plain": [
       "       prob y=2  prediccion\n",
       "0  5.759352e-09           1\n",
       "1  3.777151e-08           1\n",
       "2  1.061875e-07           1\n",
       "3  3.969924e-05           1\n",
       "4  4.883100e-07           1"
      ]
     },
     "execution_count": 43,
     "metadata": {},
     "output_type": "execute_result"
    }
   ],
   "source": [
    "punto_corte=0.6\n",
    "prob_df_train_lda['prediccion']=np.where(prob_df_train_lda['prob y=2']>punto_corte,2,1)\n",
    "prob_df_train_lda.head()"
   ]
  },
  {
   "cell_type": "markdown",
   "metadata": {},
   "source": [
    "### **6. Aplicar los parámetros del modelo de entrenamiento a los datos de testeo, considerar para las predicciones un punto de corte de 0.6.**"
   ]
  },
  {
   "cell_type": "code",
   "execution_count": 44,
   "metadata": {},
   "outputs": [],
   "source": [
    "prob_test=lda_model.predict_proba(X_test)\n",
    "prob_df_test_lda=pd.DataFrame(prob_test[:,1],columns=['prob y=2'])"
   ]
  },
  {
   "cell_type": "markdown",
   "metadata": {},
   "source": [
    "#### **Punto de Corte 0.6**"
   ]
  },
  {
   "cell_type": "code",
   "execution_count": 45,
   "metadata": {},
   "outputs": [
    {
     "data": {
      "text/html": [
       "<div>\n",
       "<style scoped>\n",
       "    .dataframe tbody tr th:only-of-type {\n",
       "        vertical-align: middle;\n",
       "    }\n",
       "\n",
       "    .dataframe tbody tr th {\n",
       "        vertical-align: top;\n",
       "    }\n",
       "\n",
       "    .dataframe thead th {\n",
       "        text-align: right;\n",
       "    }\n",
       "</style>\n",
       "<table border=\"1\" class=\"dataframe\">\n",
       "  <thead>\n",
       "    <tr style=\"text-align: right;\">\n",
       "      <th></th>\n",
       "      <th>prob y=2</th>\n",
       "      <th>prediccion</th>\n",
       "    </tr>\n",
       "  </thead>\n",
       "  <tbody>\n",
       "    <tr>\n",
       "      <th>0</th>\n",
       "      <td>1.020520e-06</td>\n",
       "      <td>1</td>\n",
       "    </tr>\n",
       "    <tr>\n",
       "      <th>1</th>\n",
       "      <td>9.174025e-06</td>\n",
       "      <td>1</td>\n",
       "    </tr>\n",
       "    <tr>\n",
       "      <th>2</th>\n",
       "      <td>3.164813e-09</td>\n",
       "      <td>1</td>\n",
       "    </tr>\n",
       "    <tr>\n",
       "      <th>3</th>\n",
       "      <td>4.063813e-08</td>\n",
       "      <td>1</td>\n",
       "    </tr>\n",
       "    <tr>\n",
       "      <th>4</th>\n",
       "      <td>4.755967e-09</td>\n",
       "      <td>1</td>\n",
       "    </tr>\n",
       "  </tbody>\n",
       "</table>\n",
       "</div>"
      ],
      "text/plain": [
       "       prob y=2  prediccion\n",
       "0  1.020520e-06           1\n",
       "1  9.174025e-06           1\n",
       "2  3.164813e-09           1\n",
       "3  4.063813e-08           1\n",
       "4  4.755967e-09           1"
      ]
     },
     "execution_count": 45,
     "metadata": {},
     "output_type": "execute_result"
    }
   ],
   "source": [
    "punto_corte=0.6\n",
    "prob_df_test_lda['prediccion']=np.where(prob_df_test_lda['prob y=2']>punto_corte,2,1)\n",
    "prob_df_test_lda.head()"
   ]
  },
  {
   "cell_type": "markdown",
   "metadata": {},
   "source": [
    "### **7. Modelar el tipo de vino (wine_type) en función a las variables predictoras haciendo uso del modelo de análisis discriminante cuadrático. Considerar para las predicciones un punto de corte de 0.6.**"
   ]
  },
  {
   "cell_type": "code",
   "execution_count": 47,
   "metadata": {},
   "outputs": [
    {
     "data": {
      "text/plain": [
       "QuadraticDiscriminantAnalysis()"
      ]
     },
     "execution_count": 47,
     "metadata": {},
     "output_type": "execute_result"
    }
   ],
   "source": [
    "cda_model=QuadraticDiscriminantAnalysis()\n",
    "cda_model.fit(x_train_us,y_train_us)"
   ]
  },
  {
   "cell_type": "markdown",
   "metadata": {},
   "source": [
    "##### Usando Cross Validation para evaluar la estabilidad de los datos"
   ]
  },
  {
   "cell_type": "code",
   "execution_count": 48,
   "metadata": {},
   "outputs": [],
   "source": [
    "score=cross_val_score(estimator=cda_model,\n",
    "                     X=x_train_us,\n",
    "                     y=y_train_us,\n",
    "                     scoring=\"accuracy\",\n",
    "                     cv=10) #numero de particiones"
   ]
  },
  {
   "cell_type": "code",
   "execution_count": 50,
   "metadata": {},
   "outputs": [
    {
     "name": "stdout",
     "output_type": "stream",
     "text": [
      "La media de accuracy es:  0.986\n"
     ]
    }
   ],
   "source": [
    "print('La media de accuracy es: ', score.mean().round(3))"
   ]
  },
  {
   "cell_type": "code",
   "execution_count": 53,
   "metadata": {},
   "outputs": [
    {
     "data": {
      "image/png": "[encoded data removed]",
      "text/plain": [
       "<Figure size 432x288 with 1 Axes>"
      ]
     },
     "metadata": {
      "needs_background": "light"
     },
     "output_type": "display_data"
    }
   ],
   "source": [
    "plt.plot(list(range(1,11)),score)\n",
    "plt.ylim([0.6,1.2])\n",
    "plt.hlines(score.mean(),xmin=1,xmax=10,color='red')\n",
    "plt.title('Convergencia(CrossValidation) del Accuracy -Analisis Discriminante Cuadratico(QDA)')\n",
    "plt.show()"
   ]
  },
  {
   "cell_type": "code",
   "execution_count": 54,
   "metadata": {},
   "outputs": [],
   "source": [
    "prob_train=cda_model.predict_proba(x_train_us)\n",
    "prob_df_train_cda=pd.DataFrame(prob_train[:,1],columns=['prob y=2'])"
   ]
  },
  {
   "cell_type": "markdown",
   "metadata": {},
   "source": [
    "#### **Punto de Corte 0.6**"
   ]
  },
  {
   "cell_type": "code",
   "execution_count": 57,
   "metadata": {
    "scrolled": true
   },
   "outputs": [
    {
     "data": {
      "text/html": [
       "<div>\n",
       "<style scoped>\n",
       "    .dataframe tbody tr th:only-of-type {\n",
       "        vertical-align: middle;\n",
       "    }\n",
       "\n",
       "    .dataframe tbody tr th {\n",
       "        vertical-align: top;\n",
       "    }\n",
       "\n",
       "    .dataframe thead th {\n",
       "        text-align: right;\n",
       "    }\n",
       "</style>\n",
       "<table border=\"1\" class=\"dataframe\">\n",
       "  <thead>\n",
       "    <tr style=\"text-align: right;\">\n",
       "      <th></th>\n",
       "      <th>prob y=2</th>\n",
       "      <th>prediccion</th>\n",
       "    </tr>\n",
       "  </thead>\n",
       "  <tbody>\n",
       "    <tr>\n",
       "      <th>0</th>\n",
       "      <td>4.612838e-31</td>\n",
       "      <td>1</td>\n",
       "    </tr>\n",
       "    <tr>\n",
       "      <th>1</th>\n",
       "      <td>2.084180e-09</td>\n",
       "      <td>1</td>\n",
       "    </tr>\n",
       "    <tr>\n",
       "      <th>2</th>\n",
       "      <td>4.206718e-24</td>\n",
       "      <td>1</td>\n",
       "    </tr>\n",
       "    <tr>\n",
       "      <th>3</th>\n",
       "      <td>1.341687e-04</td>\n",
       "      <td>1</td>\n",
       "    </tr>\n",
       "    <tr>\n",
       "      <th>4</th>\n",
       "      <td>7.487312e-05</td>\n",
       "      <td>1</td>\n",
       "    </tr>\n",
       "  </tbody>\n",
       "</table>\n",
       "</div>"
      ],
      "text/plain": [
       "       prob y=2  prediccion\n",
       "0  4.612838e-31           1\n",
       "1  2.084180e-09           1\n",
       "2  4.206718e-24           1\n",
       "3  1.341687e-04           1\n",
       "4  7.487312e-05           1"
      ]
     },
     "execution_count": 57,
     "metadata": {},
     "output_type": "execute_result"
    }
   ],
   "source": [
    "punto_corte=0.6\n",
    "prob_df_train_cda['prediccion']=np.where(prob_df_train_cda['prob y=2']>punto_corte,2,1)\n",
    "prob_df_train_cda.head()"
   ]
  },
  {
   "cell_type": "markdown",
   "metadata": {},
   "source": [
    "### **8. Aplicar los parámetros del modelo de entrenamiento a los datos de testeo, considerar para las predicciones un punto de corte de 0.6.**"
   ]
  },
  {
   "cell_type": "code",
   "execution_count": 56,
   "metadata": {},
   "outputs": [],
   "source": [
    "prob_test=cda_model.predict_proba(X_test)\n",
    "prob_df_test_cda=pd.DataFrame(prob_test[:,1],columns=['prob y=2'])"
   ]
  },
  {
   "cell_type": "markdown",
   "metadata": {},
   "source": [
    "#### **Punto de Corte 0.6**"
   ]
  },
  {
   "cell_type": "code",
   "execution_count": 58,
   "metadata": {},
   "outputs": [
    {
     "data": {
      "text/html": [
       "<div>\n",
       "<style scoped>\n",
       "    .dataframe tbody tr th:only-of-type {\n",
       "        vertical-align: middle;\n",
       "    }\n",
       "\n",
       "    .dataframe tbody tr th {\n",
       "        vertical-align: top;\n",
       "    }\n",
       "\n",
       "    .dataframe thead th {\n",
       "        text-align: right;\n",
       "    }\n",
       "</style>\n",
       "<table border=\"1\" class=\"dataframe\">\n",
       "  <thead>\n",
       "    <tr style=\"text-align: right;\">\n",
       "      <th></th>\n",
       "      <th>prob y=2</th>\n",
       "      <th>prediccion</th>\n",
       "    </tr>\n",
       "  </thead>\n",
       "  <tbody>\n",
       "    <tr>\n",
       "      <th>0</th>\n",
       "      <td>6.903395e-06</td>\n",
       "      <td>1</td>\n",
       "    </tr>\n",
       "    <tr>\n",
       "      <th>1</th>\n",
       "      <td>8.425247e-08</td>\n",
       "      <td>1</td>\n",
       "    </tr>\n",
       "    <tr>\n",
       "      <th>2</th>\n",
       "      <td>1.564088e-06</td>\n",
       "      <td>1</td>\n",
       "    </tr>\n",
       "    <tr>\n",
       "      <th>3</th>\n",
       "      <td>8.814704e-06</td>\n",
       "      <td>1</td>\n",
       "    </tr>\n",
       "    <tr>\n",
       "      <th>4</th>\n",
       "      <td>7.519831e-10</td>\n",
       "      <td>1</td>\n",
       "    </tr>\n",
       "  </tbody>\n",
       "</table>\n",
       "</div>"
      ],
      "text/plain": [
       "       prob y=2  prediccion\n",
       "0  6.903395e-06           1\n",
       "1  8.425247e-08           1\n",
       "2  1.564088e-06           1\n",
       "3  8.814704e-06           1\n",
       "4  7.519831e-10           1"
      ]
     },
     "execution_count": 58,
     "metadata": {},
     "output_type": "execute_result"
    }
   ],
   "source": [
    "punto_corte=0.6\n",
    "prob_df_test_cda['prediccion']=np.where(prob_df_test_cda['prob y=2']>punto_corte,2,1)\n",
    "prob_df_test_cda.head()"
   ]
  },
  {
   "cell_type": "markdown",
   "metadata": {},
   "source": [
    "### **9. Evaluar los modelos de analisis discriminante lineal y cuadrático haciendo uso de las métricas de accuracy, sensibilidad. especificidad, auc y curva ROC**"
   ]
  },
  {
   "cell_type": "markdown",
   "metadata": {},
   "source": [
    "### **_Modelo discriminante Lineal (LDA)_**"
   ]
  },
  {
   "cell_type": "markdown",
   "metadata": {},
   "source": [
    "#### **_Métricas para Data de Entrenamiento_**"
   ]
  },
  {
   "cell_type": "code",
   "execution_count": 59,
   "metadata": {},
   "outputs": [
    {
     "data": {
      "text/html": [
       "<div>\n",
       "<style scoped>\n",
       "    .dataframe tbody tr th:only-of-type {\n",
       "        vertical-align: middle;\n",
       "    }\n",
       "\n",
       "    .dataframe tbody tr th {\n",
       "        vertical-align: top;\n",
       "    }\n",
       "\n",
       "    .dataframe thead th {\n",
       "        text-align: right;\n",
       "    }\n",
       "</style>\n",
       "<table border=\"1\" class=\"dataframe\">\n",
       "  <thead>\n",
       "    <tr style=\"text-align: right;\">\n",
       "      <th>prediccion</th>\n",
       "      <th>1</th>\n",
       "      <th>2</th>\n",
       "    </tr>\n",
       "    <tr>\n",
       "      <th>row_0</th>\n",
       "      <th></th>\n",
       "      <th></th>\n",
       "    </tr>\n",
       "  </thead>\n",
       "  <tbody>\n",
       "    <tr>\n",
       "      <th>1</th>\n",
       "      <td>1492</td>\n",
       "      <td>6</td>\n",
       "    </tr>\n",
       "    <tr>\n",
       "      <th>2</th>\n",
       "      <td>13</td>\n",
       "      <td>1186</td>\n",
       "    </tr>\n",
       "  </tbody>\n",
       "</table>\n",
       "</div>"
      ],
      "text/plain": [
       "prediccion     1     2\n",
       "row_0                 \n",
       "1           1492     6\n",
       "2             13  1186"
      ]
     },
     "execution_count": 59,
     "metadata": {},
     "output_type": "execute_result"
    }
   ],
   "source": [
    "cm_train=pd.crosstab(y_train_us,prob_df_train_lda[\"prediccion\"])\n",
    "cm_train"
   ]
  },
  {
   "cell_type": "code",
   "execution_count": 60,
   "metadata": {},
   "outputs": [],
   "source": [
    "VP_train=cm_train[2][2]\n",
    "VN_train=cm_train[1][1]\n",
    "FP_train=cm_train[2][1]\n",
    "FN_train=cm_train[1][2]"
   ]
  },
  {
   "cell_type": "code",
   "execution_count": 61,
   "metadata": {},
   "outputs": [
    {
     "name": "stdout",
     "output_type": "stream",
     "text": [
      "El Accuracy para la Data de Entrenamiento es: 0.993\n"
     ]
    }
   ],
   "source": [
    "accuracy_train_lda=(VP_train+VN_train)/(VP_train+VN_train+FN_train+FP_train)\n",
    "print('El Accuracy para la Data de Entrenamiento es:',accuracy_train_lda.round(3))"
   ]
  },
  {
   "cell_type": "code",
   "execution_count": 62,
   "metadata": {},
   "outputs": [
    {
     "name": "stdout",
     "output_type": "stream",
     "text": [
      "La Sensibilidad para la Data de Entrenamiento es: 0.989\n"
     ]
    }
   ],
   "source": [
    "sensibilidad_train_lda=(VP_train)/(VP_train+FN_train)\n",
    "print('La Sensibilidad para la Data de Entrenamiento es:',sensibilidad_train_lda.round(3))"
   ]
  },
  {
   "cell_type": "code",
   "execution_count": 63,
   "metadata": {},
   "outputs": [
    {
     "name": "stdout",
     "output_type": "stream",
     "text": [
      "La Especificidad para la Data de Entrenamiento es: 0.996\n"
     ]
    }
   ],
   "source": [
    "especificidad_train_lda=(VN_train)/(VN_train+FP_train)\n",
    "print('La Especificidad para la Data de Entrenamiento es:',especificidad_train_lda.round(3))"
   ]
  },
  {
   "cell_type": "code",
   "execution_count": 64,
   "metadata": {},
   "outputs": [
    {
     "name": "stdout",
     "output_type": "stream",
     "text": [
      "El area Bajo la Curva(AUC) para Data de Entrenamiento es:  0.993\n"
     ]
    }
   ],
   "source": [
    "#Para calcular de la curva ROC y AUC, la función roc_curve exige que las categorias sean 0 y 1\n",
    "y_train_us_cat=np.where(y_train_us==1,0,1)\n",
    "prob_df_train_lda['prediccion_cat']=np.where(prob_df_train_lda['prediccion']==1,0,1)\n",
    "\n",
    "fpr,tpr,thresholds=roc_curve(y_train_us_cat,prob_df_train_lda['prediccion_cat'])\n",
    "auc_train_lda=auc(fpr,tpr)\n",
    "print('El area Bajo la Curva(AUC) para Data de Entrenamiento es: ',auc_train_lda.round(3))"
   ]
  },
  {
   "cell_type": "markdown",
   "metadata": {},
   "source": [
    "#### GRÁFICA CURVA ROC data entrenamiento"
   ]
  },
  {
   "cell_type": "code",
   "execution_count": 65,
   "metadata": {},
   "outputs": [
    {
     "data": {
      "image/png": "[encoded data removed]",
      "text/plain": [
       "<Figure size 500x500 with 1 Axes>"
      ]
     },
     "metadata": {
      "needs_background": "light"
     },
     "output_type": "display_data"
    }
   ],
   "source": [
    "plt.figure(figsize=(5,5),dpi=100)\n",
    "plt.plot(fpr,tpr,linestyle='-',label='Logistic(auc=%0.3f)'%auc_train_lda)\n",
    "plt.title('Curva ROC para data entrenamiento')\n",
    "plt.xlabel('Ratio Falso positivo')\n",
    "plt.ylabel('Ratio Verdarero positivo')\n",
    "plt.legend()\n",
    "\n",
    "x=[i*0.01 for i in range(100)]\n",
    "y=[i*0.01 for i in range(100)]\n",
    "plt.plot(x,y)\n",
    "plt.show()"
   ]
  },
  {
   "cell_type": "markdown",
   "metadata": {},
   "source": [
    "#### **_Métricas para Data de Testeo_**"
   ]
  },
  {
   "cell_type": "code",
   "execution_count": 66,
   "metadata": {},
   "outputs": [
    {
     "data": {
      "text/html": [
       "<div>\n",
       "<style scoped>\n",
       "    .dataframe tbody tr th:only-of-type {\n",
       "        vertical-align: middle;\n",
       "    }\n",
       "\n",
       "    .dataframe tbody tr th {\n",
       "        vertical-align: top;\n",
       "    }\n",
       "\n",
       "    .dataframe thead th {\n",
       "        text-align: right;\n",
       "    }\n",
       "</style>\n",
       "<table border=\"1\" class=\"dataframe\">\n",
       "  <thead>\n",
       "    <tr style=\"text-align: right;\">\n",
       "      <th>prediccion</th>\n",
       "      <th>1</th>\n",
       "      <th>2</th>\n",
       "    </tr>\n",
       "    <tr>\n",
       "      <th>row_0</th>\n",
       "      <th></th>\n",
       "      <th></th>\n",
       "    </tr>\n",
       "  </thead>\n",
       "  <tbody>\n",
       "    <tr>\n",
       "      <th>1</th>\n",
       "      <td>1219</td>\n",
       "      <td>6</td>\n",
       "    </tr>\n",
       "    <tr>\n",
       "      <th>2</th>\n",
       "      <td>5</td>\n",
       "      <td>395</td>\n",
       "    </tr>\n",
       "  </tbody>\n",
       "</table>\n",
       "</div>"
      ],
      "text/plain": [
       "prediccion     1    2\n",
       "row_0                \n",
       "1           1219    6\n",
       "2              5  395"
      ]
     },
     "execution_count": 66,
     "metadata": {},
     "output_type": "execute_result"
    }
   ],
   "source": [
    "cm_test=pd.crosstab(y_test,prob_df_test_lda[\"prediccion\"])\n",
    "cm_test"
   ]
  },
  {
   "cell_type": "code",
   "execution_count": 67,
   "metadata": {},
   "outputs": [],
   "source": [
    "VP_test=cm_test[2][2]\n",
    "VN_test=cm_test[1][1]\n",
    "FP_test=cm_test[2][1]\n",
    "FN_test=cm_test[1][2]"
   ]
  },
  {
   "cell_type": "code",
   "execution_count": 68,
   "metadata": {},
   "outputs": [
    {
     "name": "stdout",
     "output_type": "stream",
     "text": [
      "El Accuracy para la Data de Entrenamiento es: 0.993\n"
     ]
    }
   ],
   "source": [
    "accuracy_test_lda=(VP_test+VN_test)/(VP_test+VN_test+FN_test+FP_test)\n",
    "print('El Accuracy para la Data de Entrenamiento es:',accuracy_test_lda.round(3))"
   ]
  },
  {
   "cell_type": "code",
   "execution_count": 69,
   "metadata": {},
   "outputs": [
    {
     "name": "stdout",
     "output_type": "stream",
     "text": [
      "La Sensibilidad para la Data de Entrenamiento es: 0.988\n"
     ]
    }
   ],
   "source": [
    "sensibilidad_test_lda=(VP_test)/(VP_test+FN_test)\n",
    "print('La Sensibilidad para la Data de Entrenamiento es:',sensibilidad_test_lda.round(3))"
   ]
  },
  {
   "cell_type": "code",
   "execution_count": 70,
   "metadata": {},
   "outputs": [
    {
     "name": "stdout",
     "output_type": "stream",
     "text": [
      "La Especificidad para la Data de Entrenamiento es: 0.995\n"
     ]
    }
   ],
   "source": [
    "especificidad_test_lda=(VN_test)/(VN_test+FP_test)\n",
    "print('La Especificidad para la Data de Entrenamiento es:',especificidad_test_lda.round(3))"
   ]
  },
  {
   "cell_type": "code",
   "execution_count": 71,
   "metadata": {},
   "outputs": [
    {
     "name": "stdout",
     "output_type": "stream",
     "text": [
      "El area Bajo la Curva(AUC) para Data de Testeo es:  0.991\n"
     ]
    }
   ],
   "source": [
    "#Para calcular de la curva ROC y AUC, la función roc_curve exige que las categorias sean 0 y 1\n",
    "y_test_cat=np.where(y_test==1,0,1)\n",
    "prob_df_test_lda['prediccion_cat']=np.where(prob_df_test_lda['prediccion']==1,0,1)\n",
    "\n",
    "fpr,tpr,thresholds=roc_curve(y_test_cat,prob_df_test_lda['prediccion_cat'])\n",
    "auc_test_lda=auc(fpr,tpr)\n",
    "print('El area Bajo la Curva(AUC) para Data de Testeo es: ',auc_test_lda.round(3))"
   ]
  },
  {
   "cell_type": "markdown",
   "metadata": {},
   "source": [
    "#### GRÁFICA CURVA ROC data testeo"
   ]
  },
  {
   "cell_type": "code",
   "execution_count": 72,
   "metadata": {},
   "outputs": [
    {
     "data": {
      "image/png": "[encoded data removed]",
      "text/plain": [
       "<Figure size 500x500 with 1 Axes>"
      ]
     },
     "metadata": {
      "needs_background": "light"
     },
     "output_type": "display_data"
    }
   ],
   "source": [
    "plt.figure(figsize=(5,5),dpi=100)\n",
    "plt.plot(fpr,tpr,linestyle='-',label='Logistic(auc=%0.3f)'%auc_test_lda)\n",
    "plt.title('Curva ROC para data Testeo')\n",
    "plt.xlabel('Ratio False positivo')\n",
    "plt.ylabel('Ratio Verdarero positivo')\n",
    "plt.legend()\n",
    "\n",
    "x=[i*0.01 for i in range(100)]\n",
    "y=[i*0.01 for i in range(100)]\n",
    "plt.plot(x,y)\n",
    "plt.show()"
   ]
  },
  {
   "cell_type": "markdown",
   "metadata": {},
   "source": [
    "### **_Modelo discriminante Cuadrático (QDA)_**"
   ]
  },
  {
   "cell_type": "markdown",
   "metadata": {},
   "source": [
    "#### **_Métricas para Data de Entrenamiento_**"
   ]
  },
  {
   "cell_type": "code",
   "execution_count": 73,
   "metadata": {},
   "outputs": [
    {
     "data": {
      "text/html": [
       "<div>\n",
       "<style scoped>\n",
       "    .dataframe tbody tr th:only-of-type {\n",
       "        vertical-align: middle;\n",
       "    }\n",
       "\n",
       "    .dataframe tbody tr th {\n",
       "        vertical-align: top;\n",
       "    }\n",
       "\n",
       "    .dataframe thead th {\n",
       "        text-align: right;\n",
       "    }\n",
       "</style>\n",
       "<table border=\"1\" class=\"dataframe\">\n",
       "  <thead>\n",
       "    <tr style=\"text-align: right;\">\n",
       "      <th>prediccion</th>\n",
       "      <th>1</th>\n",
       "      <th>2</th>\n",
       "    </tr>\n",
       "    <tr>\n",
       "      <th>row_0</th>\n",
       "      <th></th>\n",
       "      <th></th>\n",
       "    </tr>\n",
       "  </thead>\n",
       "  <tbody>\n",
       "    <tr>\n",
       "      <th>1</th>\n",
       "      <td>1474</td>\n",
       "      <td>24</td>\n",
       "    </tr>\n",
       "    <tr>\n",
       "      <th>2</th>\n",
       "      <td>13</td>\n",
       "      <td>1186</td>\n",
       "    </tr>\n",
       "  </tbody>\n",
       "</table>\n",
       "</div>"
      ],
      "text/plain": [
       "prediccion     1     2\n",
       "row_0                 \n",
       "1           1474    24\n",
       "2             13  1186"
      ]
     },
     "execution_count": 73,
     "metadata": {},
     "output_type": "execute_result"
    }
   ],
   "source": [
    "cm_train=pd.crosstab(y_train_us,prob_df_train_cda[\"prediccion\"])\n",
    "cm_train"
   ]
  },
  {
   "cell_type": "code",
   "execution_count": 74,
   "metadata": {},
   "outputs": [],
   "source": [
    "VP_train=cm_train[2][2]\n",
    "VN_train=cm_train[1][1]\n",
    "FP_train=cm_train[2][1]\n",
    "FN_train=cm_train[1][2]"
   ]
  },
  {
   "cell_type": "code",
   "execution_count": 75,
   "metadata": {},
   "outputs": [
    {
     "name": "stdout",
     "output_type": "stream",
     "text": [
      "El Accuracy para la Data de Entrenamiento es: 0.986\n"
     ]
    }
   ],
   "source": [
    "accuracy_train_cda=(VP_train+VN_train)/(VP_train+VN_train+FN_train+FP_train)\n",
    "print('El Accuracy para la Data de Entrenamiento es:',accuracy_train_cda.round(3))"
   ]
  },
  {
   "cell_type": "code",
   "execution_count": 76,
   "metadata": {},
   "outputs": [
    {
     "name": "stdout",
     "output_type": "stream",
     "text": [
      "La Sensibilidad para la Data de Entrenamiento es: 0.989\n"
     ]
    }
   ],
   "source": [
    "sensibilidad_train_cda=(VP_train)/(VP_train+FN_train)\n",
    "print('La Sensibilidad para la Data de Entrenamiento es:',sensibilidad_train_cda.round(3))"
   ]
  },
  {
   "cell_type": "code",
   "execution_count": 77,
   "metadata": {},
   "outputs": [
    {
     "name": "stdout",
     "output_type": "stream",
     "text": [
      "La Especificidad para la Data de Entrenamiento es: 0.984\n"
     ]
    }
   ],
   "source": [
    "especificidad_train_cda=(VN_train)/(VN_train+FP_train)\n",
    "print('La Especificidad para la Data de Entrenamiento es:',especificidad_train_cda.round(3))"
   ]
  },
  {
   "cell_type": "code",
   "execution_count": 78,
   "metadata": {},
   "outputs": [
    {
     "name": "stdout",
     "output_type": "stream",
     "text": [
      "El area Bajo la Curva(AUC) para Data de Entrenamiento es:  0.987\n"
     ]
    }
   ],
   "source": [
    "#Para calcular de la curva ROC y AUC, la función roc_curve exige que las categorias sean 0 y 1\n",
    "y_train_us_cat=np.where(y_train_us==1,0,1)\n",
    "prob_df_train_cda['prediccion_cat']=np.where(prob_df_train_cda['prediccion']==1,0,1)\n",
    "\n",
    "fpr,tpr,thresholds=roc_curve(y_train_us_cat,prob_df_train_cda['prediccion_cat'])\n",
    "auc_train_cda=auc(fpr,tpr)\n",
    "print('El area Bajo la Curva(AUC) para Data de Entrenamiento es: ',auc_train_cda.round(3))"
   ]
  },
  {
   "cell_type": "markdown",
   "metadata": {},
   "source": [
    "#### GRÁFICA CURVA ROC data entrenamiento"
   ]
  },
  {
   "cell_type": "code",
   "execution_count": 79,
   "metadata": {},
   "outputs": [
    {
     "data": {
      "image/png": "[encoded data removed]",
      "text/plain": [
       "<Figure size 500x500 with 1 Axes>"
      ]
     },
     "metadata": {
      "needs_background": "light"
     },
     "output_type": "display_data"
    }
   ],
   "source": [
    "plt.figure(figsize=(5,5),dpi=100)\n",
    "plt.plot(fpr,tpr,linestyle='-',label='Logistic(auc=%0.3f)'%auc_train_cda)\n",
    "plt.title('Curva ROC para data entrenamiento')\n",
    "plt.xlabel('Ratio Falso positivo')\n",
    "plt.ylabel('Ratio Verdarero positivo')\n",
    "plt.legend()\n",
    "\n",
    "x=[i*0.01 for i in range(100)]\n",
    "y=[i*0.01 for i in range(100)]\n",
    "plt.plot(x,y)\n",
    "plt.show()"
   ]
  },
  {
   "cell_type": "markdown",
   "metadata": {},
   "source": [
    "#### **_Métricas para Data de Testeo_**"
   ]
  },
  {
   "cell_type": "code",
   "execution_count": 80,
   "metadata": {},
   "outputs": [
    {
     "data": {
      "text/html": [
       "<div>\n",
       "<style scoped>\n",
       "    .dataframe tbody tr th:only-of-type {\n",
       "        vertical-align: middle;\n",
       "    }\n",
       "\n",
       "    .dataframe tbody tr th {\n",
       "        vertical-align: top;\n",
       "    }\n",
       "\n",
       "    .dataframe thead th {\n",
       "        text-align: right;\n",
       "    }\n",
       "</style>\n",
       "<table border=\"1\" class=\"dataframe\">\n",
       "  <thead>\n",
       "    <tr style=\"text-align: right;\">\n",
       "      <th>prediccion</th>\n",
       "      <th>1</th>\n",
       "      <th>2</th>\n",
       "    </tr>\n",
       "    <tr>\n",
       "      <th>row_0</th>\n",
       "      <th></th>\n",
       "      <th></th>\n",
       "    </tr>\n",
       "  </thead>\n",
       "  <tbody>\n",
       "    <tr>\n",
       "      <th>1</th>\n",
       "      <td>1201</td>\n",
       "      <td>24</td>\n",
       "    </tr>\n",
       "    <tr>\n",
       "      <th>2</th>\n",
       "      <td>4</td>\n",
       "      <td>396</td>\n",
       "    </tr>\n",
       "  </tbody>\n",
       "</table>\n",
       "</div>"
      ],
      "text/plain": [
       "prediccion     1    2\n",
       "row_0                \n",
       "1           1201   24\n",
       "2              4  396"
      ]
     },
     "execution_count": 80,
     "metadata": {},
     "output_type": "execute_result"
    }
   ],
   "source": [
    "cm_test=pd.crosstab(y_test,prob_df_test_cda[\"prediccion\"])\n",
    "cm_test"
   ]
  },
  {
   "cell_type": "code",
   "execution_count": 81,
   "metadata": {},
   "outputs": [],
   "source": [
    "VP_test=cm_test[2][2]\n",
    "VN_test=cm_test[1][1]\n",
    "FP_test=cm_test[2][1]\n",
    "FN_test=cm_test[1][2]"
   ]
  },
  {
   "cell_type": "code",
   "execution_count": 82,
   "metadata": {},
   "outputs": [
    {
     "name": "stdout",
     "output_type": "stream",
     "text": [
      "El Accuracy para la Data de Entrenamiento es: 0.983\n"
     ]
    }
   ],
   "source": [
    "accuracy_test_cda=(VP_test+VN_test)/(VP_test+VN_test+FN_test+FP_test)\n",
    "print('El Accuracy para la Data de Entrenamiento es:',accuracy_test_cda.round(3))"
   ]
  },
  {
   "cell_type": "code",
   "execution_count": 83,
   "metadata": {},
   "outputs": [
    {
     "name": "stdout",
     "output_type": "stream",
     "text": [
      "La Sensibilidad para la Data de Entrenamiento es: 0.99\n"
     ]
    }
   ],
   "source": [
    "sensibilidad_test_cda=(VP_test)/(VP_test+FN_test)\n",
    "print('La Sensibilidad para la Data de Entrenamiento es:',sensibilidad_test_cda.round(3))"
   ]
  },
  {
   "cell_type": "code",
   "execution_count": 84,
   "metadata": {},
   "outputs": [
    {
     "name": "stdout",
     "output_type": "stream",
     "text": [
      "La Especificidad para la Data de Entrenamiento es: 0.98\n"
     ]
    }
   ],
   "source": [
    "especificidad_test_cda=(VN_test)/(VN_test+FP_test)\n",
    "print('La Especificidad para la Data de Entrenamiento es:',especificidad_test_cda.round(3))"
   ]
  },
  {
   "cell_type": "code",
   "execution_count": 85,
   "metadata": {},
   "outputs": [
    {
     "name": "stdout",
     "output_type": "stream",
     "text": [
      "El area Bajo la Curva(AUC) para Data de Testeo es:  0.985\n"
     ]
    }
   ],
   "source": [
    "#Para calcular de la curva ROC y AUC, la función roc_curve exige que las categorias sean 0 y 1\n",
    "y_test_cat=np.where(y_test==1,0,1)\n",
    "prob_df_test_cda['prediccion_cat']=np.where(prob_df_test_cda['prediccion']==1,0,1)\n",
    "\n",
    "fpr,tpr,thresholds=roc_curve(y_test_cat,prob_df_test_cda['prediccion_cat'])\n",
    "auc_test_cda=auc(fpr,tpr)\n",
    "print('El area Bajo la Curva(AUC) para Data de Testeo es: ',auc_test_cda.round(3))"
   ]
  },
  {
   "cell_type": "markdown",
   "metadata": {},
   "source": [
    "#### GRÁFICA CURVA ROC data testeo"
   ]
  },
  {
   "cell_type": "code",
   "execution_count": 86,
   "metadata": {},
   "outputs": [
    {
     "data": {
      "image/png": "[encoded data removed]",
      "text/plain": [
       "<Figure size 500x500 with 1 Axes>"
      ]
     },
     "metadata": {
      "needs_background": "light"
     },
     "output_type": "display_data"
    }
   ],
   "source": [
    "plt.figure(figsize=(5,5),dpi=100)\n",
    "plt.plot(fpr,tpr,linestyle='-',label='Logistic(auc=%0.3f)'%auc_test_cda)\n",
    "plt.title('Curva ROC para data Testeo')\n",
    "plt.xlabel('Ratio False positivo')\n",
    "plt.ylabel('Ratio Verdarero positivo')\n",
    "plt.legend()\n",
    "\n",
    "x=[i*0.01 for i in range(100)]\n",
    "y=[i*0.01 for i in range(100)]\n",
    "plt.plot(x,y)\n",
    "plt.show()"
   ]
  },
  {
   "cell_type": "markdown",
   "metadata": {},
   "source": [
    "### **10. Realice una evaluación comentada de los tres modelos y seleccione uno de ellos (el de mejor performance) y estime la probabilidad de que el tipo de vino sea rojo teniendo en cuenta los siguientes valores para la variables:**"
   ]
  },
  {
   "cell_type": "markdown",
   "metadata": {},
   "source": [
    "- fixed acidity(acidez fija): 7.2\n",
    "- volatile acidity(acidez volátil): 0.35\n",
    "- citric acid(ácido cítrico): 0.74\n",
    "- residual sugar(azúcar residual): 2.2\n",
    "- chlorides(cloruros): 0.051\n",
    "- free sulfur dioxide(dióxido de azufre libre): 32.0\n",
    "- total sulfur dioxide(dióxido de azufre total): 183\n",
    "- density(densidad): 0.98720\n",
    "- pH: 3.15\n",
    "- sulphates(sulfatos): 0.38\n",
    "- alcohol: 12.0"
   ]
  },
  {
   "cell_type": "markdown",
   "metadata": {},
   "source": [
    "**_RESUMEN DE MODELOS PARA DATA ENTRENAMIENTO_**"
   ]
  },
  {
   "cell_type": "code",
   "execution_count": 87,
   "metadata": {},
   "outputs": [
    {
     "data": {
      "text/html": [
       "<div>\n",
       "<style scoped>\n",
       "    .dataframe tbody tr th:only-of-type {\n",
       "        vertical-align: middle;\n",
       "    }\n",
       "\n",
       "    .dataframe tbody tr th {\n",
       "        vertical-align: top;\n",
       "    }\n",
       "\n",
       "    .dataframe thead th {\n",
       "        text-align: right;\n",
       "    }\n",
       "</style>\n",
       "<table border=\"1\" class=\"dataframe\">\n",
       "  <thead>\n",
       "    <tr style=\"text-align: right;\">\n",
       "      <th></th>\n",
       "      <th>Reg.Logistica</th>\n",
       "      <th>Discriminante Lineal</th>\n",
       "      <th>Discriminante Cuadrático</th>\n",
       "    </tr>\n",
       "  </thead>\n",
       "  <tbody>\n",
       "    <tr>\n",
       "      <th>Accuracy</th>\n",
       "      <td>0.978495</td>\n",
       "      <td>0.992955</td>\n",
       "      <td>0.986281</td>\n",
       "    </tr>\n",
       "    <tr>\n",
       "      <th>Sensibilidad</th>\n",
       "      <td>0.959133</td>\n",
       "      <td>0.989158</td>\n",
       "      <td>0.989158</td>\n",
       "    </tr>\n",
       "    <tr>\n",
       "      <th>Especificidad</th>\n",
       "      <td>0.993992</td>\n",
       "      <td>0.995995</td>\n",
       "      <td>0.983979</td>\n",
       "    </tr>\n",
       "    <tr>\n",
       "      <th>AUC</th>\n",
       "      <td>0.976562</td>\n",
       "      <td>0.992576</td>\n",
       "      <td>0.986568</td>\n",
       "    </tr>\n",
       "  </tbody>\n",
       "</table>\n",
       "</div>"
      ],
      "text/plain": [
       "               Reg.Logistica  Discriminante Lineal  Discriminante Cuadrático\n",
       "Accuracy            0.978495              0.992955                  0.986281\n",
       "Sensibilidad        0.959133              0.989158                  0.989158\n",
       "Especificidad       0.993992              0.995995                  0.983979\n",
       "AUC                 0.976562              0.992576                  0.986568"
      ]
     },
     "execution_count": 87,
     "metadata": {},
     "output_type": "execute_result"
    }
   ],
   "source": [
    "accuracy=[accuracy_train_log,accuracy_train_lda,accuracy_train_cda]\n",
    "sensibilidad=[sensibilidad_train_log,sensibilidad_train_lda,sensibilidad_train_cda]\n",
    "especificidad=[especificidad_train_log,especificidad_train_lda,especificidad_train_cda]\n",
    "auc=[auc_train_log,auc_train_lda,auc_train_cda]\n",
    "\n",
    "resumen_train=pd.DataFrame([accuracy,sensibilidad,especificidad,auc],\n",
    "                          columns=['Reg.Logistica','Discriminante Lineal','Discriminante Cuadrático'],\n",
    "                          index=['Accuracy','Sensibilidad','Especificidad','AUC'])\n",
    "resumen_train.head()"
   ]
  },
  {
   "cell_type": "code",
   "execution_count": 88,
   "metadata": {},
   "outputs": [
    {
     "name": "stdout",
     "output_type": "stream",
     "text": [
      "Modelo ganador por Accuracy     :  Discriminante Lineal\n",
      "Modelo ganador por Sensibilidad :  Discriminante Lineal\n",
      "Modelo ganador por Especificidad:  Discriminante Lineal\n",
      "Modelo ganador por AUC          :  Discriminante Lineal\n"
     ]
    }
   ],
   "source": [
    "best_accuracy=resumen_train.columns[resumen_train.loc['Accuracy',].argmax()]\n",
    "best_accuracy\n",
    "best_sensibilidad=resumen_train.columns[resumen_train.loc['Sensibilidad',].argmax()]\n",
    "best_sensibilidad\n",
    "best_especificidad=resumen_train.columns[resumen_train.loc['Especificidad',].argmax()]\n",
    "best_especificidad\n",
    "best_AUC=resumen_train.columns[resumen_train.loc['AUC',].argmax()]\n",
    "best_AUC\n",
    "\n",
    "print(\"Modelo ganador por Accuracy     : \",best_accuracy)\n",
    "print(\"Modelo ganador por Sensibilidad : \",best_sensibilidad)\n",
    "print(\"Modelo ganador por Especificidad: \",best_especificidad)\n",
    "print(\"Modelo ganador por AUC          : \",best_AUC)"
   ]
  },
  {
   "cell_type": "markdown",
   "metadata": {},
   "source": [
    "**_RESUMEN DE MODELOS PARA DATA TESTEO_**"
   ]
  },
  {
   "cell_type": "code",
   "execution_count": 89,
   "metadata": {},
   "outputs": [
    {
     "data": {
      "text/html": [
       "<div>\n",
       "<style scoped>\n",
       "    .dataframe tbody tr th:only-of-type {\n",
       "        vertical-align: middle;\n",
       "    }\n",
       "\n",
       "    .dataframe tbody tr th {\n",
       "        vertical-align: top;\n",
       "    }\n",
       "\n",
       "    .dataframe thead th {\n",
       "        text-align: right;\n",
       "    }\n",
       "</style>\n",
       "<table border=\"1\" class=\"dataframe\">\n",
       "  <thead>\n",
       "    <tr style=\"text-align: right;\">\n",
       "      <th></th>\n",
       "      <th>Reg.Logistica</th>\n",
       "      <th>Discriminante Lineal</th>\n",
       "      <th>Discriminante Cuadrático</th>\n",
       "    </tr>\n",
       "  </thead>\n",
       "  <tbody>\n",
       "    <tr>\n",
       "      <th>Accuracy</th>\n",
       "      <td>0.985231</td>\n",
       "      <td>0.993231</td>\n",
       "      <td>0.982769</td>\n",
       "    </tr>\n",
       "    <tr>\n",
       "      <th>Sensibilidad</th>\n",
       "      <td>0.967500</td>\n",
       "      <td>0.987500</td>\n",
       "      <td>0.990000</td>\n",
       "    </tr>\n",
       "    <tr>\n",
       "      <th>Especificidad</th>\n",
       "      <td>0.991020</td>\n",
       "      <td>0.995102</td>\n",
       "      <td>0.980408</td>\n",
       "    </tr>\n",
       "    <tr>\n",
       "      <th>AUC</th>\n",
       "      <td>0.979260</td>\n",
       "      <td>0.991301</td>\n",
       "      <td>0.985204</td>\n",
       "    </tr>\n",
       "  </tbody>\n",
       "</table>\n",
       "</div>"
      ],
      "text/plain": [
       "               Reg.Logistica  Discriminante Lineal  Discriminante Cuadrático\n",
       "Accuracy            0.985231              0.993231                  0.982769\n",
       "Sensibilidad        0.967500              0.987500                  0.990000\n",
       "Especificidad       0.991020              0.995102                  0.980408\n",
       "AUC                 0.979260              0.991301                  0.985204"
      ]
     },
     "execution_count": 89,
     "metadata": {},
     "output_type": "execute_result"
    }
   ],
   "source": [
    "accuracy=[accuracy_test_log,accuracy_test_lda,accuracy_test_cda]\n",
    "sensibilidad=[sensibilidad_test_log,sensibilidad_test_lda,sensibilidad_test_cda]\n",
    "especificidad=[especificidad_test_log,especificidad_test_lda,especificidad_test_cda]\n",
    "auc=[auc_test_log,auc_test_lda,auc_test_cda]\n",
    "\n",
    "resumen_test=pd.DataFrame([accuracy,sensibilidad,especificidad,auc],\n",
    "                          columns=['Reg.Logistica','Discriminante Lineal','Discriminante Cuadrático'],\n",
    "                          index=['Accuracy','Sensibilidad','Especificidad','AUC'])\n",
    "resumen_test.head()"
   ]
  },
  {
   "cell_type": "code",
   "execution_count": 90,
   "metadata": {},
   "outputs": [
    {
     "name": "stdout",
     "output_type": "stream",
     "text": [
      "Modelo ganador por Accuracy     :  Discriminante Lineal\n",
      "Modelo ganador por Sensibilidad :  Discriminante Cuadrático\n",
      "Modelo ganador por Especificidad:  Discriminante Lineal\n",
      "Modelo ganador por AUC          :  Discriminante Lineal\n"
     ]
    }
   ],
   "source": [
    "best_accuracy=resumen_test.columns[resumen_test.loc['Accuracy',].argmax()]\n",
    "best_accuracy\n",
    "best_sensibilidad=resumen_test.columns[resumen_test.loc['Sensibilidad',].argmax()]\n",
    "best_sensibilidad\n",
    "best_especificidad=resumen_test.columns[resumen_test.loc['Especificidad',].argmax()]\n",
    "best_especificidad\n",
    "best_AUC=resumen_test.columns[resumen_test.loc['AUC',].argmax()]\n",
    "best_AUC\n",
    "\n",
    "print(\"Modelo ganador por Accuracy     : \",best_accuracy)\n",
    "print(\"Modelo ganador por Sensibilidad : \",best_sensibilidad)\n",
    "print(\"Modelo ganador por Especificidad: \",best_especificidad)\n",
    "print(\"Modelo ganador por AUC          : \",best_AUC)"
   ]
  },
  {
   "cell_type": "markdown",
   "metadata": {},
   "source": [
    "Se puede observar que tanto para la data de entrenamiento como para la data de testeo, el modelo que más performance ha tenido a nivel de voto mayoritario bajo las métricas evaluadas es el **Modelo de Analisis Discriminante Lineal**. Procedemos a usar el modelo Discriminante Lineal para evaluar la probabilidad de que el vino sea rojo en base a los valores predeterminados."
   ]
  },
  {
   "cell_type": "code",
   "execution_count": 94,
   "metadata": {},
   "outputs": [
    {
     "name": "stdout",
     "output_type": "stream",
     "text": [
      "La probabilidad de que el tipo de vino sea rojo es:  [4.33628747e-18]\n"
     ]
    }
   ],
   "source": [
    "dato_evaluacion=np.array([[7.2,0.35,0.74,2.2,0.051,32.0,183,0.98720,3.15,0.38,12.0]])\n",
    "best_pred=lda_model.predict_proba(dato_evaluacion)\n",
    "print(\"La probabilidad de que el tipo de vino sea rojo es: \", best_pred[:,1])"
   ]
  }
 ],
 "metadata": {
  "kernelspec": {
   "display_name": "Python 3",
   "language": "python",
   "name": "python3"
  },
  "language_info": {
   "codemirror_mode": {
    "name": "ipython",
    "version": 3
   },
   "file_extension": ".py",
   "mimetype": "text/x-python",
   "name": "python",
   "nbconvert_exporter": "python",
   "pygments_lexer": "ipython3",
   "version": "3.8.3"
  }
 },
 "nbformat": 4,
 "nbformat_minor": 4
}
