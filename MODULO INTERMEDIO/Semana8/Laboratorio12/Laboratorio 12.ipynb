{
 "cells": [
  {
   "cell_type": "markdown",
   "metadata": {},
   "source": [
    "## CASO PRACTICO: índice democracias"
   ]
  },
  {
   "cell_type": "markdown",
   "metadata": {},
   "source": [
    "La Unidad de Inteligencia de The Economist (EIU, por sus siglas en inglés) publica desde 2006 el Índice de Democracia, una rigurosa y reconocida clasificación que pretende determinar con base en un estudio, el nivel y la calidad de la democracia en 165 estados independientes y dos territorios. Este índice se basa en cinco categorías como indicadores fundamentales: proceso electoral y pluralismo (ppelec); libertades civiles (libciv); funcionamiento del gobierno (fdelgob); participación política (partpk); y cultura política (cultpk). De acuerdo con los resultados obtenidos en su edición de 2010 (DATA CONSULTADA), se clasifica a cada país como “democracia completa”, “democracia defectuosa”, “régimen híbrido” o “régimen autoritario”.\n",
    "\n",
    "Nosotros tomamos la referente países de latinoamérica para realizar un análisis de conglomerados que nos permita agrupar a nuestros países en función a los indicadores medidos.\n"
   ]
  },
  {
   "cell_type": "markdown",
   "metadata": {},
   "source": [
    "Actividades:\n",
    "\n",
    "1. Número óptimo de clúster para cada una de las funciones de enlace.\n",
    "2. Data Frame donde se muestre la data incial y la etiqueta de clúster teniendo en cuenta como enlace \"Ward\", \"average\" y \"complete\". Cosiderar distancia coseno para \"average\" y \"complete\".\n",
    "3. Realizando un análisis de componentes principales, visualizar las etiquetas predichas.\n",
    "4. Teniendo en cuenta el enlace \"ward\" realizar un análisis clúster aglomerativo de k = 4 (k criterio de experto)."
   ]
  }
 ],
 "metadata": {
  "kernelspec": {
   "display_name": "Python 3",
   "language": "python",
   "name": "python3"
  },
  "language_info": {
   "codemirror_mode": {
    "name": "ipython",
    "version": 3
   },
   "file_extension": ".py",
   "mimetype": "text/x-python",
   "name": "python",
   "nbconvert_exporter": "python",
   "pygments_lexer": "ipython3",
   "version": "3.7.6"
  }
 },
 "nbformat": 4,
 "nbformat_minor": 2
}
