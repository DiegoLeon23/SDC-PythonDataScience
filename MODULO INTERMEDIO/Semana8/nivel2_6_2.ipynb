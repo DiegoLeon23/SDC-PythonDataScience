{
 "cells": [
  {
   "cell_type": "markdown",
   "metadata": {},
   "source": [
    "<center><img src=\"https://media-exp1.licdn.com/dms/image/C4E22AQEbIXZiRVkJPQ/feedshare-shrink_2048_1536/0?e=1605139200&v=beta&t=opmJLG_veDflQesF9uJvIhSXbmwPY3DGSlbZo1v-w2k\" width=\"1000\"></center>"
   ]
  },
  {
   "cell_type": "markdown",
   "metadata": {},
   "source": [
    "# SDC Certified Program in Python for Data Analysis\n",
    "\n",
    "## Tema 6: Regresión lineal con h2o\n",
    "### Caso Practico: conjunto de datos de la Nasa\n",
    "\n",
    "### Prof. Manuel Sigüeñas, M.Sc.(c) \n",
    "\n",
    "[Perfil](https://socialdata-peru.com/learning/teacher2.php)\n",
    "\n",
    "### Prof. Lenguajes de Programación para Ciencia de Datos / Agile Data Scientists / SCRUMStudy Certified Trainer\n",
    "\n",
    "\n",
    "[msiguenas@socialdata-peru.com](msiguenas@socialdata-peru.com)"
   ]
  },
  {
   "cell_type": "markdown",
   "metadata": {},
   "source": [
    "### Información del conjunto de datos:"
   ]
  },
  {
   "cell_type": "markdown",
   "metadata": {},
   "source": [
    "El conjunto de datos de la NASA comprende perfiles NACA 0012 de diferentes tamaños a varias velocidades de túnel de viento y ángulos de ataque. La duración del perfil y la posición del observador fueron las mismas en todos los experimentos."
   ]
  },
  {
   "cell_type": "markdown",
   "metadata": {},
   "source": [
    "### Información del atributo:"
   ]
  },
  {
   "cell_type": "markdown",
   "metadata": {},
   "source": [
    "1. Frecuencia, en hercios.\n",
    "\n",
    "2. Ángulo de ataque, en grados.\n",
    "\n",
    "3. Longitud del acorde, en metros.\n",
    "\n",
    "4. Velocidad de flujo libre, en metros por segundo.\n",
    "\n",
    "5. Espesor del desplazamiento del lado de succión, en metros.\n",
    " \n",
    "6. Nivel de presión acústica escalado, en decibelios(TARGET).\n"
   ]
  },
  {
   "cell_type": "markdown",
   "metadata": {},
   "source": [
    "Documentos relevantes:\n",
    "\n",
    "T.F. Brooks, D.S. Pope, and A.M. Marcolini.\n",
    "Airfoil self-noise and prediction.\n",
    "Technical report, NASA RP-1218, July 1989.\n",
    "\n",
    "K. Lau.\n",
    "A neural networks approach for aerofoil noise prediction.\n",
    "Masterâ€™s thesis, Department of Aeronautics.\n",
    "Imperial College of Science, Technology and Medicine (London, United Kingdom), 2006.\n",
    "\n",
    "R. Lopez.\n",
    "Neural Networks for Variational Problems in Engineering.\n",
    "PhD Thesis, Technical University of Catalonia, 2008.\n"
   ]
  },
  {
   "cell_type": "markdown",
   "metadata": {},
   "source": [
    "Fuente:\n",
    "http://archive.ics.uci.edu/ml/datasets/Airfoil+Self-Noise"
   ]
  },
  {
   "cell_type": "markdown",
   "metadata": {},
   "source": [
    "- **Paquetes necesarios**:"
   ]
  },
  {
   "cell_type": "code",
   "execution_count": 1,
   "metadata": {},
   "outputs": [],
   "source": [
    "import h2o"
   ]
  },
  {
   "cell_type": "code",
   "execution_count": 2,
   "metadata": {},
   "outputs": [
    {
     "name": "stdout",
     "output_type": "stream",
     "text": [
      "Checking whether there is an H2O instance running at http://localhost:54321 ..... not found.\n",
      "Attempting to start a local H2O server...\n",
      "; Java HotSpot(TM) 64-Bit Server VM (build 25.231-b11, mixed mode)\n",
      "  Starting server from C:\\ProgramData\\Anaconda3\\lib\\site-packages\\h2o\\backend\\bin\\h2o.jar\n",
      "  Ice root: C:\\Users\\SOCIAL~1\\AppData\\Local\\Temp\\tmpgavbrvnq\n",
      "  JVM stdout: C:\\Users\\SOCIAL~1\\AppData\\Local\\Temp\\tmpgavbrvnq\\h2o_SOCIAL_DATA_started_from_python.out\n",
      "  JVM stderr: C:\\Users\\SOCIAL~1\\AppData\\Local\\Temp\\tmpgavbrvnq\\h2o_SOCIAL_DATA_started_from_python.err\n",
      "  Server is running at http://127.0.0.1:54321\n",
      "Connecting to H2O server at http://127.0.0.1:54321 ... successful.\n",
      "Warning: Your H2O cluster version is too old (4 months and 11 days)! Please download and install the latest version from http://h2o.ai/download/\n"
     ]
    },
    {
     "data": {
      "text/html": [
       "<div style=\"overflow:auto\"><table style=\"width:50%\"><tr><td>H2O_cluster_uptime:</td>\n",
       "<td>03 secs</td></tr>\n",
       "<tr><td>H2O_cluster_timezone:</td>\n",
       "<td>America/Bogota</td></tr>\n",
       "<tr><td>H2O_data_parsing_timezone:</td>\n",
       "<td>UTC</td></tr>\n",
       "<tr><td>H2O_cluster_version:</td>\n",
       "<td>3.30.0.1</td></tr>\n",
       "<tr><td>H2O_cluster_version_age:</td>\n",
       "<td>4 months and 11 days !!!</td></tr>\n",
       "<tr><td>H2O_cluster_name:</td>\n",
       "<td>H2O_from_python_SOCIAL_DATA_iqxfff</td></tr>\n",
       "<tr><td>H2O_cluster_total_nodes:</td>\n",
       "<td>1</td></tr>\n",
       "<tr><td>H2O_cluster_free_memory:</td>\n",
       "<td>3.556 Gb</td></tr>\n",
       "<tr><td>H2O_cluster_total_cores:</td>\n",
       "<td>12</td></tr>\n",
       "<tr><td>H2O_cluster_allowed_cores:</td>\n",
       "<td>12</td></tr>\n",
       "<tr><td>H2O_cluster_status:</td>\n",
       "<td>accepting new members, healthy</td></tr>\n",
       "<tr><td>H2O_connection_url:</td>\n",
       "<td>http://127.0.0.1:54321</td></tr>\n",
       "<tr><td>H2O_connection_proxy:</td>\n",
       "<td>{\"http\": null, \"https\": null}</td></tr>\n",
       "<tr><td>H2O_internal_security:</td>\n",
       "<td>False</td></tr>\n",
       "<tr><td>H2O_API_Extensions:</td>\n",
       "<td>Amazon S3, Algos, AutoML, Core V3, TargetEncoder, Core V4</td></tr>\n",
       "<tr><td>Python_version:</td>\n",
       "<td>3.7.6 final</td></tr></table></div>"
      ],
      "text/plain": [
       "--------------------------  ---------------------------------------------------------\n",
       "H2O_cluster_uptime:         03 secs\n",
       "H2O_cluster_timezone:       America/Bogota\n",
       "H2O_data_parsing_timezone:  UTC\n",
       "H2O_cluster_version:        3.30.0.1\n",
       "H2O_cluster_version_age:    4 months and 11 days !!!\n",
       "H2O_cluster_name:           H2O_from_python_SOCIAL_DATA_iqxfff\n",
       "H2O_cluster_total_nodes:    1\n",
       "H2O_cluster_free_memory:    3.556 Gb\n",
       "H2O_cluster_total_cores:    12\n",
       "H2O_cluster_allowed_cores:  12\n",
       "H2O_cluster_status:         accepting new members, healthy\n",
       "H2O_connection_url:         http://127.0.0.1:54321\n",
       "H2O_connection_proxy:       {\"http\": null, \"https\": null}\n",
       "H2O_internal_security:      False\n",
       "H2O_API_Extensions:         Amazon S3, Algos, AutoML, Core V3, TargetEncoder, Core V4\n",
       "Python_version:             3.7.6 final\n",
       "--------------------------  ---------------------------------------------------------"
      ]
     },
     "metadata": {},
     "output_type": "display_data"
    }
   ],
   "source": [
    "h2o.init (nthreads = -1, max_mem_size = \"4g\")"
   ]
  },
  {
   "cell_type": "markdown",
   "metadata": {},
   "source": [
    "<a id='part1'></a>\n",
    "## Importar y preprocesar la data"
   ]
  },
  {
   "cell_type": "code",
   "execution_count": 3,
   "metadata": {},
   "outputs": [
    {
     "name": "stdout",
     "output_type": "stream",
     "text": [
      "Parse progress: |█████████████████████████████████████████████████████████| 100%\n"
     ]
    }
   ],
   "source": [
    "nasa = \"D:/Python/2. Nivel II/6/datos/airfoil_self_noise.dat\"\n",
    "nasa_df = h2o.import_file(path=nasa)"
   ]
  },
  {
   "cell_type": "code",
   "execution_count": 4,
   "metadata": {},
   "outputs": [
    {
     "data": {
      "text/html": [
       "<table>\n",
       "<thead>\n",
       "<tr><th style=\"text-align: right;\">  C1</th><th style=\"text-align: right;\">  C2</th><th style=\"text-align: right;\">    C3</th><th style=\"text-align: right;\">  C4</th><th style=\"text-align: right;\">        C5</th><th style=\"text-align: right;\">     C6</th></tr>\n",
       "</thead>\n",
       "<tbody>\n",
       "<tr><td style=\"text-align: right;\"> 800</td><td style=\"text-align: right;\">   0</td><td style=\"text-align: right;\">0.3048</td><td style=\"text-align: right;\">71.3</td><td style=\"text-align: right;\">0.00266337</td><td style=\"text-align: right;\">126.201</td></tr>\n",
       "<tr><td style=\"text-align: right;\">1000</td><td style=\"text-align: right;\">   0</td><td style=\"text-align: right;\">0.3048</td><td style=\"text-align: right;\">71.3</td><td style=\"text-align: right;\">0.00266337</td><td style=\"text-align: right;\">125.201</td></tr>\n",
       "<tr><td style=\"text-align: right;\">1250</td><td style=\"text-align: right;\">   0</td><td style=\"text-align: right;\">0.3048</td><td style=\"text-align: right;\">71.3</td><td style=\"text-align: right;\">0.00266337</td><td style=\"text-align: right;\">125.951</td></tr>\n",
       "<tr><td style=\"text-align: right;\">1600</td><td style=\"text-align: right;\">   0</td><td style=\"text-align: right;\">0.3048</td><td style=\"text-align: right;\">71.3</td><td style=\"text-align: right;\">0.00266337</td><td style=\"text-align: right;\">127.591</td></tr>\n",
       "<tr><td style=\"text-align: right;\">2000</td><td style=\"text-align: right;\">   0</td><td style=\"text-align: right;\">0.3048</td><td style=\"text-align: right;\">71.3</td><td style=\"text-align: right;\">0.00266337</td><td style=\"text-align: right;\">127.461</td></tr>\n",
       "<tr><td style=\"text-align: right;\">2500</td><td style=\"text-align: right;\">   0</td><td style=\"text-align: right;\">0.3048</td><td style=\"text-align: right;\">71.3</td><td style=\"text-align: right;\">0.00266337</td><td style=\"text-align: right;\">125.571</td></tr>\n",
       "</tbody>\n",
       "</table>"
      ]
     },
     "metadata": {},
     "output_type": "display_data"
    },
    {
     "data": {
      "text/plain": []
     },
     "execution_count": 4,
     "metadata": {},
     "output_type": "execute_result"
    }
   ],
   "source": [
    "nasa_df.head(6)"
   ]
  },
  {
   "cell_type": "markdown",
   "metadata": {},
   "source": [
    "## Construir data de entrenamiento y de prueba (test)  "
   ]
  },
  {
   "cell_type": "code",
   "execution_count": 8,
   "metadata": {},
   "outputs": [],
   "source": [
    "from h2o.estimators.glm import H2OGeneralizedLinearEstimator"
   ]
  },
  {
   "cell_type": "code",
   "execution_count": 9,
   "metadata": {},
   "outputs": [],
   "source": [
    "train,test,valid = nasa_df.split_frame(ratios=[.8,.15], \n",
    "                                       seed=1234)"
   ]
  },
  {
   "cell_type": "code",
   "execution_count": 10,
   "metadata": {},
   "outputs": [
    {
     "data": {
      "text/plain": [
       "['C1', 'C2', 'C3', 'C4', 'C5', 'C6']"
      ]
     },
     "execution_count": 10,
     "metadata": {},
     "output_type": "execute_result"
    }
   ],
   "source": [
    "name_columns = nasa_df.col_names\n",
    "name_columns"
   ]
  },
  {
   "cell_type": "markdown",
   "metadata": {},
   "source": [
    "## Entrenamiento del Modelo"
   ]
  },
  {
   "cell_type": "code",
   "execution_count": 11,
   "metadata": {},
   "outputs": [
    {
     "name": "stdout",
     "output_type": "stream",
     "text": [
      "glm Model Build progress: |███████████████████████████████████████████████| 100%\n"
     ]
    }
   ],
   "source": [
    "predictors = ['C1', 'C2', 'C3', 'C4', 'C5']\n",
    "\n",
    "response_col = 'C6'\n",
    "glm_model = H2OGeneralizedLinearEstimator(family=\"gaussian\")\n",
    "glm_model.train(predictors, #etiqutas de los predictores\n",
    "                response_col,  #etiqueta de la variable objetivo o target\n",
    "                training_frame= train, #data de entrenamiento\n",
    "                validation_frame=valid) #data de validación"
   ]
  },
  {
   "cell_type": "markdown",
   "metadata": {},
   "source": [
    "## Predicción del Modelo"
   ]
  },
  {
   "cell_type": "code",
   "execution_count": 12,
   "metadata": {},
   "outputs": [
    {
     "name": "stdout",
     "output_type": "stream",
     "text": [
      "\n",
      "ModelMetricsRegressionGLM: glm\n",
      "** Reported on test data. **\n",
      "\n",
      "MSE: 23.040493877083456\n",
      "RMSE: 4.800051445253838\n",
      "MAE: 3.7388851081349617\n",
      "RMSLE: 0.0381975160185315\n",
      "R^2: 0.5266532886807063\n",
      "Mean Residual Deviance: 23.040493877083456\n",
      "Null degrees of freedom: 1212\n",
      "Residual degrees of freedom: 1207\n",
      "Null deviance: 59043.653213554346\n",
      "Residual deviance: 27948.11907290223\n",
      "AIC: 7261.8330995628985\n"
     ]
    },
    {
     "data": {
      "text/plain": []
     },
     "execution_count": 12,
     "metadata": {},
     "output_type": "execute_result"
    }
   ],
   "source": [
    "#Performance para datos de entrenamiento\n",
    "predict = glm_model.model_performance(train)\n",
    "predict"
   ]
  },
  {
   "cell_type": "code",
   "execution_count": 13,
   "metadata": {},
   "outputs": [
    {
     "name": "stdout",
     "output_type": "stream",
     "text": [
      "\n",
      "ModelMetricsRegressionGLM: glm\n",
      "** Reported on test data. **\n",
      "\n",
      "MSE: 23.330953311385755\n",
      "RMSE: 4.830212553437556\n",
      "MAE: 3.678485184777442\n",
      "RMSLE: 0.038314622176245205\n",
      "R^2: 0.44546274108284356\n",
      "Mean Residual Deviance: 23.330953311385755\n",
      "Null degrees of freedom: 225\n",
      "Residual degrees of freedom: 220\n",
      "Null deviance: 9530.224811509119\n",
      "Residual deviance: 5272.795448373181\n",
      "AIC: 1367.2107110843428\n"
     ]
    },
    {
     "data": {
      "text/plain": []
     },
     "execution_count": 13,
     "metadata": {},
     "output_type": "execute_result"
    }
   ],
   "source": [
    "#Performance para datos de testeo\n",
    "predict2 = glm_model.model_performance(test)\n",
    "predict2"
   ]
  },
  {
   "cell_type": "code",
   "execution_count": 14,
   "metadata": {},
   "outputs": [
    {
     "name": "stdout",
     "output_type": "stream",
     "text": [
      "glm prediction progress: |████████████████████████████████████████████████| 100%\n"
     ]
    },
    {
     "data": {
      "text/html": [
       "<table>\n",
       "<thead>\n",
       "<tr><th style=\"text-align: right;\">  predict</th></tr>\n",
       "</thead>\n",
       "<tbody>\n",
       "<tr><td style=\"text-align: right;\">  120.642</td></tr>\n",
       "<tr><td style=\"text-align: right;\">  126.723</td></tr>\n",
       "<tr><td style=\"text-align: right;\">  126.062</td></tr>\n",
       "<tr><td style=\"text-align: right;\">  125.732</td></tr>\n",
       "<tr><td style=\"text-align: right;\">  125.269</td></tr>\n",
       "<tr><td style=\"text-align: right;\">  124.741</td></tr>\n",
       "<tr><td style=\"text-align: right;\">  124.08 </td></tr>\n",
       "<tr><td style=\"text-align: right;\">  125.509</td></tr>\n",
       "<tr><td style=\"text-align: right;\">  124.941</td></tr>\n",
       "<tr><td style=\"text-align: right;\">  123.659</td></tr>\n",
       "</tbody>\n",
       "</table>"
      ]
     },
     "metadata": {},
     "output_type": "display_data"
    },
    {
     "data": {
      "text/plain": []
     },
     "execution_count": 14,
     "metadata": {},
     "output_type": "execute_result"
    }
   ],
   "source": [
    "glm_model.predict(test)"
   ]
  },
  {
   "cell_type": "markdown",
   "metadata": {},
   "source": [
    "## Metricas de Regresión"
   ]
  },
  {
   "cell_type": "code",
   "execution_count": 15,
   "metadata": {},
   "outputs": [
    {
     "name": "stdout",
     "output_type": "stream",
     "text": [
      "MSE train: 23.256, test: 23.040\n"
     ]
    }
   ],
   "source": [
    "print('MSE train: %.3f, test: %.3f' % (\n",
    "        glm_model.mse(valid=True),\n",
    "        predict.mse()\n",
    "))"
   ]
  },
  {
   "cell_type": "code",
   "execution_count": 16,
   "metadata": {
    "scrolled": true
   },
   "outputs": [
    {
     "name": "stdout",
     "output_type": "stream",
     "text": [
      "R^2 train: 0.469, test: 0.527\n"
     ]
    }
   ],
   "source": [
    "print('R^2 train: %.3f, test: %.3f' % (\n",
    "        glm_model.r2(valid=True),\n",
    "        predict.r2()))"
   ]
  },
  {
   "cell_type": "code",
   "execution_count": 16,
   "metadata": {},
   "outputs": [
    {
     "name": "stderr",
     "output_type": "stream",
     "text": [
      "C:\\ProgramData\\Anaconda3\\lib\\site-packages\\ipykernel_launcher.py:1: DeprecationWarning: Deprecated, use ``h2o.cluster().shutdown()``.\n",
      "  \"\"\"Entry point for launching an IPython kernel.\n"
     ]
    },
    {
     "name": "stdout",
     "output_type": "stream",
     "text": [
      "H2O session _sid_b994 closed.\n"
     ]
    }
   ],
   "source": [
    "h2o.shutdown()#Cerramos la sesion del H2O"
   ]
  }
 ],
 "metadata": {
  "kernelspec": {
   "display_name": "Python 3",
   "language": "python",
   "name": "python3"
  },
  "language_info": {
   "codemirror_mode": {
    "name": "ipython",
    "version": 3
   },
   "file_extension": ".py",
   "mimetype": "text/x-python",
   "name": "python",
   "nbconvert_exporter": "python",
   "pygments_lexer": "ipython3",
   "version": "3.7.6"
  }
 },
 "nbformat": 4,
 "nbformat_minor": 2
}
