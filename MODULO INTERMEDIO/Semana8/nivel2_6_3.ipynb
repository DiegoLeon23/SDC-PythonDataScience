{
 "cells": [
  {
   "cell_type": "markdown",
   "metadata": {},
   "source": [
    "<center><img src=\"https://media-exp1.licdn.com/dms/image/C4E22AQEbIXZiRVkJPQ/feedshare-shrink_2048_1536/0?e=1605139200&v=beta&t=opmJLG_veDflQesF9uJvIhSXbmwPY3DGSlbZo1v-w2k\" width=\"1000\"></center>"
   ]
  },
  {
   "cell_type": "markdown",
   "metadata": {},
   "source": [
    "# Programa de Especialización en Python\n",
    "\n",
    "## Tema 6: Regresión lineal con h2o\n",
    "## Caso: conjunto de datos de resistencia a la compresión del hormigón\n",
    "\n",
    "### Manuel Sigüeñas, M.Sc.(c)\n",
    "### Prof. Lenguajes de Programación para Ciencia de Datos / Agile Data Scientists / SCRUMStudy Certified Trainer\n",
    "[msiguenas@socialdata-peru.com](msiguenas@socialdata-peru.com)"
   ]
  },
  {
   "cell_type": "markdown",
   "metadata": {},
   "source": [
    "### Información del conjunto de datos:"
   ]
  },
  {
   "cell_type": "markdown",
   "metadata": {},
   "source": [
    "Se proporcionan el nombre de la variable, el tipo de variable, la unidad de medida y una breve descripción. La resistencia a la compresión del hormigón."
   ]
  },
  {
   "cell_type": "markdown",
   "metadata": {},
   "source": [
    "### Información del atributo:"
   ]
  },
  {
   "cell_type": "markdown",
   "metadata": {},
   "source": [
    "**C1:** Cemento (componente 1) - cuantitativo - kg en una mezcla m3 - Variable de entrada\n",
    "\n",
    "**C2:** Escoria de alto horno (componente 2) - cuantitativa - kg en una mezcla m3 - Variable de entrada\n",
    "\n",
    "**C3:** Cenizas volantes (componente 3) - cuantitativo - kg en una mezcla m3 - Variable de entrada\n",
    "\n",
    "**C4:** Agua (componente 4) - cuantitativa - kg en una mezcla m3 - Variable de entrada\n",
    "\n",
    "**C5:** Superplastificante (componente 5) - cuantitativo - kg en una mezcla m3 - Variable de entrada\n",
    "\n",
    "**C6:** Agregado grueso (componente 6) - cuantitativo - kg en una mezcla m3 - Variable de entrada\n",
    "\n",
    "**C7:** Agregado fino (componente 7) - cuantitativo - kg en una mezcla m3 - Variable de entrada\n",
    "\n",
    "**C8:** Age - cuantitativa - Día (1 ~ 365)\n",
    "\n",
    "**C9:** Resistencia a la compresión del hormigón - cuantitativa - MPa - Variable de salida\n"
   ]
  },
  {
   "cell_type": "markdown",
   "metadata": {},
   "source": [
    "Documentos relevantes:\n",
    "\n",
    "I-Cheng Yeh, \"Modeling of strength of high performance concrete using artificial \n",
    "neural networks,\" Cement and Concrete Research, Vol. 28, No. 12, pp. 1797-1808 (1998).\n"
   ]
  },
  {
   "cell_type": "markdown",
   "metadata": {},
   "source": [
    "Fuente:\n",
    "http://archive.ics.uci.edu/ml/datasets/Concrete+Compressive+Strength"
   ]
  },
  {
   "cell_type": "markdown",
   "metadata": {},
   "source": [
    "- **Paquetes necesarios**:"
   ]
  },
  {
   "cell_type": "code",
   "execution_count": 13,
   "metadata": {},
   "outputs": [],
   "source": [
    "#!pip uninstall h2o"
   ]
  },
  {
   "cell_type": "code",
   "execution_count": 14,
   "metadata": {},
   "outputs": [],
   "source": [
    "#pip install http://h2o-release.s3.amazonaws.com/h2o/rel-zahradnik/1/Python/h2o-3.30.0.1-py2.py3-none-any.whl"
   ]
  },
  {
   "cell_type": "code",
   "execution_count": 1,
   "metadata": {},
   "outputs": [],
   "source": [
    "import h2o"
   ]
  },
  {
   "cell_type": "code",
   "execution_count": 2,
   "metadata": {},
   "outputs": [
    {
     "name": "stdout",
     "output_type": "stream",
     "text": [
      "Checking whether there is an H2O instance running at http://localhost:54321 ..... not found.\n",
      "Attempting to start a local H2O server...\n",
      "; Java HotSpot(TM) 64-Bit Server VM (build 25.231-b11, mixed mode)\n",
      "  Starting server from C:\\ProgramData\\Anaconda3\\lib\\site-packages\\h2o\\backend\\bin\\h2o.jar\n",
      "  Ice root: C:\\Users\\SOCIAL~1\\AppData\\Local\\Temp\\tmp4jjy1tct\n",
      "  JVM stdout: C:\\Users\\SOCIAL~1\\AppData\\Local\\Temp\\tmp4jjy1tct\\h2o_SOCIAL_DATA_started_from_python.out\n",
      "  JVM stderr: C:\\Users\\SOCIAL~1\\AppData\\Local\\Temp\\tmp4jjy1tct\\h2o_SOCIAL_DATA_started_from_python.err\n",
      "  Server is running at http://127.0.0.1:54321\n",
      "Connecting to H2O server at http://127.0.0.1:54321 ... successful.\n"
     ]
    },
    {
     "data": {
      "text/html": [
       "<div style=\"overflow:auto\"><table style=\"width:50%\"><tr><td>H2O_cluster_uptime:</td>\n",
       "<td>02 secs</td></tr>\n",
       "<tr><td>H2O_cluster_timezone:</td>\n",
       "<td>America/Bogota</td></tr>\n",
       "<tr><td>H2O_data_parsing_timezone:</td>\n",
       "<td>UTC</td></tr>\n",
       "<tr><td>H2O_cluster_version:</td>\n",
       "<td>3.30.0.1</td></tr>\n",
       "<tr><td>H2O_cluster_version_age:</td>\n",
       "<td>1 month and 25 days </td></tr>\n",
       "<tr><td>H2O_cluster_name:</td>\n",
       "<td>H2O_from_python_SOCIAL_DATA_0t16f8</td></tr>\n",
       "<tr><td>H2O_cluster_total_nodes:</td>\n",
       "<td>1</td></tr>\n",
       "<tr><td>H2O_cluster_free_memory:</td>\n",
       "<td>3.556 Gb</td></tr>\n",
       "<tr><td>H2O_cluster_total_cores:</td>\n",
       "<td>12</td></tr>\n",
       "<tr><td>H2O_cluster_allowed_cores:</td>\n",
       "<td>12</td></tr>\n",
       "<tr><td>H2O_cluster_status:</td>\n",
       "<td>accepting new members, healthy</td></tr>\n",
       "<tr><td>H2O_connection_url:</td>\n",
       "<td>http://127.0.0.1:54321</td></tr>\n",
       "<tr><td>H2O_connection_proxy:</td>\n",
       "<td>{\"http\": null, \"https\": null}</td></tr>\n",
       "<tr><td>H2O_internal_security:</td>\n",
       "<td>False</td></tr>\n",
       "<tr><td>H2O_API_Extensions:</td>\n",
       "<td>Amazon S3, Algos, AutoML, Core V3, TargetEncoder, Core V4</td></tr>\n",
       "<tr><td>Python_version:</td>\n",
       "<td>3.7.6 final</td></tr></table></div>"
      ],
      "text/plain": [
       "--------------------------  ---------------------------------------------------------\n",
       "H2O_cluster_uptime:         02 secs\n",
       "H2O_cluster_timezone:       America/Bogota\n",
       "H2O_data_parsing_timezone:  UTC\n",
       "H2O_cluster_version:        3.30.0.1\n",
       "H2O_cluster_version_age:    1 month and 25 days\n",
       "H2O_cluster_name:           H2O_from_python_SOCIAL_DATA_0t16f8\n",
       "H2O_cluster_total_nodes:    1\n",
       "H2O_cluster_free_memory:    3.556 Gb\n",
       "H2O_cluster_total_cores:    12\n",
       "H2O_cluster_allowed_cores:  12\n",
       "H2O_cluster_status:         accepting new members, healthy\n",
       "H2O_connection_url:         http://127.0.0.1:54321\n",
       "H2O_connection_proxy:       {\"http\": null, \"https\": null}\n",
       "H2O_internal_security:      False\n",
       "H2O_API_Extensions:         Amazon S3, Algos, AutoML, Core V3, TargetEncoder, Core V4\n",
       "Python_version:             3.7.6 final\n",
       "--------------------------  ---------------------------------------------------------"
      ]
     },
     "metadata": {},
     "output_type": "display_data"
    }
   ],
   "source": [
    "h2o.init (nthreads = -1, max_mem_size = \"4g\")"
   ]
  },
  {
   "cell_type": "markdown",
   "metadata": {},
   "source": [
    "<a id='part1'></a>\n",
    "## Importar y preprocesar la data"
   ]
  },
  {
   "cell_type": "code",
   "execution_count": 3,
   "metadata": {},
   "outputs": [
    {
     "name": "stdout",
     "output_type": "stream",
     "text": [
      "Parse progress: |█████████████████████████████████████████████████████████| 100%\n"
     ]
    }
   ],
   "source": [
    "cement = \"D:/Python/2. Nivel II/6/datos/Concrete.csv\"\n",
    "cement_df = h2o.import_file(path=cement)"
   ]
  },
  {
   "cell_type": "code",
   "execution_count": 4,
   "metadata": {},
   "outputs": [
    {
     "data": {
      "text/html": [
       "<table>\n",
       "<thead>\n",
       "<tr><th style=\"text-align: right;\">   C1</th><th style=\"text-align: right;\">   C2</th><th style=\"text-align: right;\">  C3</th><th style=\"text-align: right;\">  C4</th><th style=\"text-align: right;\">  C5</th><th style=\"text-align: right;\">    C6</th><th style=\"text-align: right;\">   C7</th><th style=\"text-align: right;\">  C8</th><th style=\"text-align: right;\">   C9</th></tr>\n",
       "</thead>\n",
       "<tbody>\n",
       "<tr><td style=\"text-align: right;\">540  </td><td style=\"text-align: right;\">  0  </td><td style=\"text-align: right;\">   0</td><td style=\"text-align: right;\"> 162</td><td style=\"text-align: right;\"> 2.5</td><td style=\"text-align: right;\">1040  </td><td style=\"text-align: right;\">676  </td><td style=\"text-align: right;\">  28</td><td style=\"text-align: right;\">79.99</td></tr>\n",
       "<tr><td style=\"text-align: right;\">540  </td><td style=\"text-align: right;\">  0  </td><td style=\"text-align: right;\">   0</td><td style=\"text-align: right;\"> 162</td><td style=\"text-align: right;\"> 2.5</td><td style=\"text-align: right;\">1055  </td><td style=\"text-align: right;\">676  </td><td style=\"text-align: right;\">  28</td><td style=\"text-align: right;\">61.89</td></tr>\n",
       "<tr><td style=\"text-align: right;\">332.5</td><td style=\"text-align: right;\">142.5</td><td style=\"text-align: right;\">   0</td><td style=\"text-align: right;\"> 228</td><td style=\"text-align: right;\"> 0  </td><td style=\"text-align: right;\"> 932  </td><td style=\"text-align: right;\">594  </td><td style=\"text-align: right;\"> 270</td><td style=\"text-align: right;\">40.27</td></tr>\n",
       "<tr><td style=\"text-align: right;\">332.5</td><td style=\"text-align: right;\">142.5</td><td style=\"text-align: right;\">   0</td><td style=\"text-align: right;\"> 228</td><td style=\"text-align: right;\"> 0  </td><td style=\"text-align: right;\"> 932  </td><td style=\"text-align: right;\">594  </td><td style=\"text-align: right;\"> 365</td><td style=\"text-align: right;\">41.05</td></tr>\n",
       "<tr><td style=\"text-align: right;\">198.6</td><td style=\"text-align: right;\">132.4</td><td style=\"text-align: right;\">   0</td><td style=\"text-align: right;\"> 192</td><td style=\"text-align: right;\"> 0  </td><td style=\"text-align: right;\"> 978.4</td><td style=\"text-align: right;\">825.5</td><td style=\"text-align: right;\"> 360</td><td style=\"text-align: right;\">44.3 </td></tr>\n",
       "<tr><td style=\"text-align: right;\">266  </td><td style=\"text-align: right;\">114  </td><td style=\"text-align: right;\">   0</td><td style=\"text-align: right;\"> 228</td><td style=\"text-align: right;\"> 0  </td><td style=\"text-align: right;\"> 932  </td><td style=\"text-align: right;\">670  </td><td style=\"text-align: right;\">  90</td><td style=\"text-align: right;\">47.03</td></tr>\n",
       "<tr><td style=\"text-align: right;\">380  </td><td style=\"text-align: right;\"> 95  </td><td style=\"text-align: right;\">   0</td><td style=\"text-align: right;\"> 228</td><td style=\"text-align: right;\"> 0  </td><td style=\"text-align: right;\"> 932  </td><td style=\"text-align: right;\">594  </td><td style=\"text-align: right;\"> 365</td><td style=\"text-align: right;\">43.7 </td></tr>\n",
       "<tr><td style=\"text-align: right;\">380  </td><td style=\"text-align: right;\"> 95  </td><td style=\"text-align: right;\">   0</td><td style=\"text-align: right;\"> 228</td><td style=\"text-align: right;\"> 0  </td><td style=\"text-align: right;\"> 932  </td><td style=\"text-align: right;\">594  </td><td style=\"text-align: right;\">  28</td><td style=\"text-align: right;\">36.45</td></tr>\n",
       "<tr><td style=\"text-align: right;\">266  </td><td style=\"text-align: right;\">114  </td><td style=\"text-align: right;\">   0</td><td style=\"text-align: right;\"> 228</td><td style=\"text-align: right;\"> 0  </td><td style=\"text-align: right;\"> 932  </td><td style=\"text-align: right;\">670  </td><td style=\"text-align: right;\">  28</td><td style=\"text-align: right;\">45.85</td></tr>\n",
       "<tr><td style=\"text-align: right;\">475  </td><td style=\"text-align: right;\">  0  </td><td style=\"text-align: right;\">   0</td><td style=\"text-align: right;\"> 228</td><td style=\"text-align: right;\"> 0  </td><td style=\"text-align: right;\"> 932  </td><td style=\"text-align: right;\">594  </td><td style=\"text-align: right;\">  28</td><td style=\"text-align: right;\">39.29</td></tr>\n",
       "</tbody>\n",
       "</table>"
      ]
     },
     "metadata": {},
     "output_type": "display_data"
    },
    {
     "data": {
      "text/plain": []
     },
     "execution_count": 4,
     "metadata": {},
     "output_type": "execute_result"
    }
   ],
   "source": [
    "cement_df"
   ]
  },
  {
   "cell_type": "markdown",
   "metadata": {},
   "source": [
    "## Construir data de entrenamiento y de prueba (test)  "
   ]
  },
  {
   "cell_type": "code",
   "execution_count": 8,
   "metadata": {},
   "outputs": [],
   "source": [
    "from h2o.estimators.glm import H2OGeneralizedLinearEstimator"
   ]
  },
  {
   "cell_type": "code",
   "execution_count": 9,
   "metadata": {},
   "outputs": [],
   "source": [
    "train,test,valid = cement_df.split_frame(ratios=[.8,.15], seed=1234)"
   ]
  },
  {
   "cell_type": "code",
   "execution_count": 10,
   "metadata": {},
   "outputs": [
    {
     "data": {
      "text/plain": [
       "['C1', 'C2', 'C3', 'C4', 'C5', 'C6', 'C7', 'C8', 'C9']"
      ]
     },
     "execution_count": 10,
     "metadata": {},
     "output_type": "execute_result"
    }
   ],
   "source": [
    "name_columns = cement_df.col_names\n",
    "name_columns"
   ]
  },
  {
   "cell_type": "markdown",
   "metadata": {},
   "source": [
    "## Entrenamiento del Modelo"
   ]
  },
  {
   "cell_type": "code",
   "execution_count": 12,
   "metadata": {},
   "outputs": [
    {
     "name": "stdout",
     "output_type": "stream",
     "text": [
      "glm Model Build progress: |███████████████████████████████████████████████| 100%\n"
     ]
    }
   ],
   "source": [
    "predictors = ['C1', 'C2', 'C3', 'C4', 'C5', 'C6', 'C7', 'C8']\n",
    "\n",
    "response_col = 'C9'\n",
    "glm_model = H2OGeneralizedLinearEstimator(family=\"gaussian\")\n",
    "glm_model.train(predictors, #etiquetas de predictores\n",
    "                response_col, #etiqueta de target (o variable objetivo)\n",
    "                training_frame= train, #datos de entrenamiento\n",
    "                validation_frame=valid) #datos de validación"
   ]
  },
  {
   "cell_type": "markdown",
   "metadata": {},
   "source": [
    "## Predicción del Modelo"
   ]
  },
  {
   "cell_type": "code",
   "execution_count": 13,
   "metadata": {},
   "outputs": [
    {
     "name": "stdout",
     "output_type": "stream",
     "text": [
      "\n",
      "ModelMetricsRegressionGLM: glm\n",
      "** Reported on test data. **\n",
      "\n",
      "MSE: 129.1799690194928\n",
      "RMSE: 11.365736624587639\n",
      "MAE: 9.116039346265797\n",
      "RMSLE: 0.38295105900532544\n",
      "R^2: 0.5271317313566728\n",
      "Mean Residual Deviance: 129.1799690194928\n",
      "Null degrees of freedom: 156\n",
      "Residual degrees of freedom: 148\n",
      "Null deviance: 44078.167578533365\n",
      "Residual deviance: 20281.255136060372\n",
      "AIC: 1228.7561263287218\n"
     ]
    },
    {
     "data": {
      "text/plain": []
     },
     "execution_count": 13,
     "metadata": {},
     "output_type": "execute_result"
    }
   ],
   "source": [
    "predict = glm_model.model_performance(test) #model_performance para realizar la evaluación por métricas\n",
    "\n",
    "predict"
   ]
  },
  {
   "cell_type": "code",
   "execution_count": 14,
   "metadata": {},
   "outputs": [
    {
     "name": "stdout",
     "output_type": "stream",
     "text": [
      "glm prediction progress: |████████████████████████████████████████████████| 100%\n"
     ]
    },
    {
     "data": {
      "text/html": [
       "<table>\n",
       "<thead>\n",
       "<tr><th style=\"text-align: right;\">  predict</th></tr>\n",
       "</thead>\n",
       "<tbody>\n",
       "<tr><td style=\"text-align: right;\">  31.7135</td></tr>\n",
       "<tr><td style=\"text-align: right;\">  20.6521</td></tr>\n",
       "<tr><td style=\"text-align: right;\">  61.4719</td></tr>\n",
       "<tr><td style=\"text-align: right;\">  37.5977</td></tr>\n",
       "<tr><td style=\"text-align: right;\">  49.8516</td></tr>\n",
       "<tr><td style=\"text-align: right;\">  49.0945</td></tr>\n",
       "<tr><td style=\"text-align: right;\">  24.5655</td></tr>\n",
       "<tr><td style=\"text-align: right;\">  29.2076</td></tr>\n",
       "<tr><td style=\"text-align: right;\">  59.0492</td></tr>\n",
       "<tr><td style=\"text-align: right;\">  39.1119</td></tr>\n",
       "</tbody>\n",
       "</table>"
      ]
     },
     "metadata": {},
     "output_type": "display_data"
    },
    {
     "data": {
      "text/plain": []
     },
     "execution_count": 14,
     "metadata": {},
     "output_type": "execute_result"
    }
   ],
   "source": [
    "glm_model.predict(test)"
   ]
  },
  {
   "cell_type": "markdown",
   "metadata": {},
   "source": [
    "## Metricas de Regresión"
   ]
  },
  {
   "cell_type": "code",
   "execution_count": 15,
   "metadata": {},
   "outputs": [
    {
     "name": "stdout",
     "output_type": "stream",
     "text": [
      "MSE train: 118.262, test: 129.180\n"
     ]
    }
   ],
   "source": [
    "print('MSE train: %.3f, test: %.3f' % (\n",
    "        glm_model.mse(valid=True),\n",
    "        predict.mse()\n",
    "))"
   ]
  },
  {
   "cell_type": "code",
   "execution_count": 16,
   "metadata": {},
   "outputs": [
    {
     "data": {
      "text/plain": [
       "10.874842194663989"
      ]
     },
     "execution_count": 16,
     "metadata": {},
     "output_type": "execute_result"
    }
   ],
   "source": [
    "#RMSE\n",
    "import math as m\n",
    "m.sqrt(glm_model.mse(valid=True))"
   ]
  },
  {
   "cell_type": "code",
   "execution_count": 17,
   "metadata": {},
   "outputs": [
    {
     "data": {
      "text/plain": [
       "11.365736624587639"
      ]
     },
     "execution_count": 17,
     "metadata": {},
     "output_type": "execute_result"
    }
   ],
   "source": [
    "m.sqrt(predict.mse())"
   ]
  },
  {
   "cell_type": "code",
   "execution_count": 18,
   "metadata": {},
   "outputs": [
    {
     "name": "stdout",
     "output_type": "stream",
     "text": [
      "R^2 train: 0.575, test: 0.527\n"
     ]
    }
   ],
   "source": [
    "print('R^2 train: %.3f, test: %.3f' % (\n",
    "        glm_model.r2(valid=True),\n",
    "        predict.r2()))"
   ]
  },
  {
   "cell_type": "code",
   "execution_count": 14,
   "metadata": {},
   "outputs": [
    {
     "name": "stderr",
     "output_type": "stream",
     "text": [
      "C:\\ProgramData\\Anaconda3\\lib\\site-packages\\ipykernel_launcher.py:1: DeprecationWarning: Deprecated, use ``h2o.cluster().shutdown()``.\n",
      "  \"\"\"Entry point for launching an IPython kernel.\n"
     ]
    },
    {
     "name": "stdout",
     "output_type": "stream",
     "text": [
      "H2O session _sid_905d closed.\n"
     ]
    }
   ],
   "source": [
    "h2o.shutdown()#Cerramos la sesion del H2O"
   ]
  },
  {
   "cell_type": "markdown",
   "metadata": {},
   "source": [
    "## CASO PRACTICO: aprobación presidencial"
   ]
  },
  {
   "cell_type": "code",
   "execution_count": 19,
   "metadata": {},
   "outputs": [
    {
     "data": {
      "text/html": [
       "<div>\n",
       "<style scoped>\n",
       "    .dataframe tbody tr th:only-of-type {\n",
       "        vertical-align: middle;\n",
       "    }\n",
       "\n",
       "    .dataframe tbody tr th {\n",
       "        vertical-align: top;\n",
       "    }\n",
       "\n",
       "    .dataframe thead th {\n",
       "        text-align: right;\n",
       "    }\n",
       "</style>\n",
       "<table border=\"1\" class=\"dataframe\">\n",
       "  <thead>\n",
       "    <tr style=\"text-align: right;\">\n",
       "      <th></th>\n",
       "      <th>Año</th>\n",
       "      <th>Mes</th>\n",
       "      <th>IPC</th>\n",
       "      <th>Inflación</th>\n",
       "      <th>SalariosReales</th>\n",
       "      <th>CrisisDeGabinete</th>\n",
       "      <th>LunaDeMiel1</th>\n",
       "      <th>LunaDeMiel2</th>\n",
       "      <th>AñoElectoral</th>\n",
       "      <th>Aprobaciónn</th>\n",
       "      <th>Desaprobación</th>\n",
       "      <th>No precisa</th>\n",
       "      <th>T-1</th>\n",
       "    </tr>\n",
       "  </thead>\n",
       "  <tbody>\n",
       "    <tr>\n",
       "      <th>0</th>\n",
       "      <td>2006</td>\n",
       "      <td>Agosto</td>\n",
       "      <td>90.261885</td>\n",
       "      <td>0.139281</td>\n",
       "      <td>247.00</td>\n",
       "      <td>0</td>\n",
       "      <td>1</td>\n",
       "      <td>0</td>\n",
       "      <td>0</td>\n",
       "      <td>63</td>\n",
       "      <td>16</td>\n",
       "      <td>21</td>\n",
       "      <td>63</td>\n",
       "    </tr>\n",
       "    <tr>\n",
       "      <th>1</th>\n",
       "      <td>2006</td>\n",
       "      <td>Septiembre</td>\n",
       "      <td>90.286647</td>\n",
       "      <td>0.027433</td>\n",
       "      <td>246.93</td>\n",
       "      <td>0</td>\n",
       "      <td>1</td>\n",
       "      <td>0</td>\n",
       "      <td>0</td>\n",
       "      <td>58</td>\n",
       "      <td>21</td>\n",
       "      <td>21</td>\n",
       "      <td>63</td>\n",
       "    </tr>\n",
       "    <tr>\n",
       "      <th>2</th>\n",
       "      <td>2006</td>\n",
       "      <td>Octubre</td>\n",
       "      <td>90.326182</td>\n",
       "      <td>0.043789</td>\n",
       "      <td>246.82</td>\n",
       "      <td>0</td>\n",
       "      <td>1</td>\n",
       "      <td>0</td>\n",
       "      <td>0</td>\n",
       "      <td>57</td>\n",
       "      <td>24</td>\n",
       "      <td>19</td>\n",
       "      <td>58</td>\n",
       "    </tr>\n",
       "    <tr>\n",
       "      <th>3</th>\n",
       "      <td>2006</td>\n",
       "      <td>Noviembre</td>\n",
       "      <td>90.071323</td>\n",
       "      <td>-0.282155</td>\n",
       "      <td>247.52</td>\n",
       "      <td>0</td>\n",
       "      <td>1</td>\n",
       "      <td>0</td>\n",
       "      <td>0</td>\n",
       "      <td>55</td>\n",
       "      <td>22</td>\n",
       "      <td>23</td>\n",
       "      <td>57</td>\n",
       "    </tr>\n",
       "    <tr>\n",
       "      <th>4</th>\n",
       "      <td>2006</td>\n",
       "      <td>Diciembre</td>\n",
       "      <td>90.094572</td>\n",
       "      <td>0.025811</td>\n",
       "      <td>247.45</td>\n",
       "      <td>0</td>\n",
       "      <td>1</td>\n",
       "      <td>0</td>\n",
       "      <td>0</td>\n",
       "      <td>52</td>\n",
       "      <td>30</td>\n",
       "      <td>18</td>\n",
       "      <td>55</td>\n",
       "    </tr>\n",
       "  </tbody>\n",
       "</table>\n",
       "</div>"
      ],
      "text/plain": [
       "    Año         Mes        IPC  Inflación  SalariosReales  CrisisDeGabinete  \\\n",
       "0  2006      Agosto  90.261885   0.139281          247.00                 0   \n",
       "1  2006  Septiembre  90.286647   0.027433          246.93                 0   \n",
       "2  2006     Octubre  90.326182   0.043789          246.82                 0   \n",
       "3  2006   Noviembre  90.071323  -0.282155          247.52                 0   \n",
       "4  2006   Diciembre  90.094572   0.025811          247.45                 0   \n",
       "\n",
       "   LunaDeMiel1  LunaDeMiel2  AñoElectoral  Aprobaciónn  Desaprobación  \\\n",
       "0            1            0             0           63             16   \n",
       "1            1            0             0           58             21   \n",
       "2            1            0             0           57             24   \n",
       "3            1            0             0           55             22   \n",
       "4            1            0             0           52             30   \n",
       "\n",
       "   No precisa   T-1  \n",
       "0           21   63  \n",
       "1           21   63  \n",
       "2           19   58  \n",
       "3           23   57  \n",
       "4           18   55  "
      ]
     },
     "execution_count": 19,
     "metadata": {},
     "output_type": "execute_result"
    }
   ],
   "source": [
    "import pandas as pd\n",
    "df = pd.read_csv('D:/Python/2. Nivel II/5/datos/Aprobacion.csv', encoding=\"latin_1\", sep=\";\")\n",
    "df.head()"
   ]
  },
  {
   "cell_type": "markdown",
   "metadata": {},
   "source": [
    "###### Descripción de variables:\n",
    "\n",
    "- TARGET: Aprobacion\n",
    "- X1: Salarios Reales\n",
    "- X2: Inflación\n",
    "- X3: IPC (índice de precio al consumidor)"
   ]
  },
  {
   "cell_type": "markdown",
   "metadata": {},
   "source": [
    "Ejercicio:\n",
    "\n",
    "- 1. realizar un análisis exploratorio de las variables predictoras con respecto al target (matriz de dispersión y mapa de calor de las correlaciones).\n",
    "- 2. Construir los datos de entrenamiento y de prueba, teniendo en cuenta que 70% de los datos es para entrenamoento y 30% de prueba.\n",
    "- 3. Realizar un modelo de regresión lineal simple: TARGET ~ X1\n",
    "- 4. Realizar un modelo de regresión lineal múltiple: TARGET ~ X1 +X2 +X3\n",
    "- Evaluar el modelo: Raíz cuadra del error cuadrático medio y $R^2$ tanto para el modelo lineal simple como para el múltiple."
   ]
  },
  {
   "cell_type": "markdown",
   "metadata": {},
   "source": [
    "- Enviar: python@socialdata-peru.con\n",
    "- Asunto: Laboratorio regresión lineal"
   ]
  }
 ],
 "metadata": {
  "kernelspec": {
   "display_name": "Python 3",
   "language": "python",
   "name": "python3"
  },
  "language_info": {
   "codemirror_mode": {
    "name": "ipython",
    "version": 3
   },
   "file_extension": ".py",
   "mimetype": "text/x-python",
   "name": "python",
   "nbconvert_exporter": "python",
   "pygments_lexer": "ipython3",
   "version": "3.7.6"
  }
 },
 "nbformat": 4,
 "nbformat_minor": 2
}
