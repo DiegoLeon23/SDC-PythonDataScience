{
 "cells": [
  {
   "cell_type": "markdown",
   "metadata": {},
   "source": [
    "# TEMA1. METODOS DE PARTICIONAMIENTO"
   ]
  },
  {
   "cell_type": "markdown",
   "metadata": {},
   "source": [
    "## CLUSTER POR K-MEDIAS"
   ]
  },
  {
   "cell_type": "code",
   "execution_count": 2,
   "metadata": {},
   "outputs": [],
   "source": [
    "import pandas as pd\n",
    "import numpy as np\n",
    "import matplotlib.pyplot as plt\n",
    "import os \n",
    "import scipy.stats as stats #Para calculo de p-values, prob estadisticas\n",
    "from sklearn.model_selection import train_test_split # Para particionamiento de datos\n",
    "from sklearn.preprocessing import StandardScaler #Para estandarizacion\n",
    "from sklearn.preprocessing import MinMaxScaler #Para normalizacion\n",
    "from sklearn.metrics import euclidean_distances, silhouette_score #Para obtener valores de silueta\n",
    "from sklearn.cluster import KMeans #Para utilizar el método KMeans"
   ]
  },
  {
   "cell_type": "code",
   "execution_count": 3,
   "metadata": {},
   "outputs": [],
   "source": [
    "os.chdir(\"D:\\Social Data Consulting\\Python for Data Science\\data\")"
   ]
  },
  {
   "cell_type": "markdown",
   "metadata": {},
   "source": [
    "#### Primero se ejemplificará una data simulada basada en 3 clusters"
   ]
  },
  {
   "cell_type": "code",
   "execution_count": 5,
   "metadata": {},
   "outputs": [],
   "source": [
    "from sklearn.datasets import make_blobs\n",
    "#Creando valores simulados agrupados en 3 clusters\n",
    "X,y=make_blobs(n_samples=150,#numero de registros\n",
    "              n_features=2,#numero de variables\n",
    "              centers=3,#numero clusters\n",
    "              cluster_std=0.5, #desviacion estandar de los clusters\n",
    "              shuffle=True,#realiza el proceso aleatorio\n",
    "              random_state=0) #semilla"
   ]
  },
  {
   "cell_type": "code",
   "execution_count": 6,
   "metadata": {},
   "outputs": [
    {
     "data": {
      "text/plain": [
       "array([[ 2.60509732,  1.22529553],\n",
       "       [ 0.5323772 ,  3.31338909],\n",
       "       [ 0.802314  ,  4.38196181],\n",
       "       [ 0.5285368 ,  4.49723858],\n",
       "       [ 2.61858548,  0.35769791],\n",
       "       [ 1.59141542,  4.90497725],\n",
       "       [ 1.74265969,  5.03846671],\n",
       "       [ 2.37533328,  0.08918564],\n",
       "       [-2.12133364,  2.66447408],\n",
       "       [ 1.72039618,  5.25173192]])"
      ]
     },
     "execution_count": 6,
     "metadata": {},
     "output_type": "execute_result"
    }
   ],
   "source": [
    "#Mostrando los 10 primeros registros\n",
    "X[0:10]"
   ]
  },
  {
   "cell_type": "code",
   "execution_count": 18,
   "metadata": {},
   "outputs": [
    {
     "data": {
      "image/png": "[encoded data removed]",
      "text/plain": [
       "<Figure size 432x288 with 1 Axes>"
      ]
     },
     "metadata": {
      "needs_background": "light"
     },
     "output_type": "display_data"
    }
   ],
   "source": [
    "#Ploteando la información simulada a partir de 3 clusters\n",
    "plt.scatter(X[:,0], #Elementos del eje x\n",
    "            X[:,1],#Elementos del eje y\n",
    "           c='red', marker='o',s=100,edgecolors='blue')\n",
    "plt.grid()\n",
    "plt.tight_layout() #Ajusta el diseño \n",
    "plt.show()"
   ]
  },
  {
   "cell_type": "markdown",
   "metadata": {},
   "source": [
    "## Escalamiento de los datos"
   ]
  },
  {
   "cell_type": "code",
   "execution_count": 21,
   "metadata": {},
   "outputs": [],
   "source": [
    "#Instanciando un objeto de clase \n",
    "sc=StandardScaler()\n",
    "X_Std=sc.fit_transform(X)"
   ]
  },
  {
   "cell_type": "code",
   "execution_count": 10,
   "metadata": {},
   "outputs": [
    {
     "data": {
      "text/plain": [
       "array([[ 1.32957823e+00, -1.03136394e+00],\n",
       "       [ 4.01618359e-02,  3.84826801e-01],\n",
       "       [ 2.08086551e-01,  1.10955620e+00],\n",
       "       [ 3.77727611e-02,  1.18773942e+00],\n",
       "       [ 1.33796907e+00, -1.61978762e+00],\n",
       "       [ 6.98977864e-01,  1.46427671e+00],\n",
       "       [ 7.93065260e-01,  1.55481218e+00],\n",
       "       [ 1.18664455e+00, -1.80189852e+00],\n",
       "       [-1.61068250e+00, -5.52815542e-02],\n",
       "       [ 7.79215375e-01,  1.69945331e+00],\n",
       "       [ 1.66039781e+00, -8.00339789e-01],\n",
       "       [-5.24273745e-01, -2.42877545e-01],\n",
       "       [-1.43916565e+00, -1.81338024e-02],\n",
       "       [ 1.57778203e-01,  9.07980762e-01],\n",
       "       [-1.90761522e-01,  1.21347107e+00],\n",
       "       [-1.53465918e+00, -2.24669209e-02],\n",
       "       [-1.21049755e+00,  3.14271385e-01],\n",
       "       [ 8.72703176e-01, -1.33474713e+00],\n",
       "       [-1.28222614e+00,  1.56012707e-02],\n",
       "       [ 9.75316453e-01, -1.64968432e+00],\n",
       "       [ 1.07137587e-01,  9.34608140e-01],\n",
       "       [ 1.22759637e+00, -9.74311769e-01],\n",
       "       [ 4.13680699e-01,  7.66903342e-01],\n",
       "       [ 3.61106673e-01,  1.54969660e+00],\n",
       "       [-1.07882000e+00, -7.86705834e-02],\n",
       "       [ 1.15029749e+00, -1.31174427e+00],\n",
       "       [ 1.17854117e+00, -9.40840666e-01],\n",
       "       [ 4.61144454e-01,  5.35579512e-01],\n",
       "       [-1.87252761e+00,  8.16677527e-01],\n",
       "       [ 6.30621341e-01, -1.40204060e+00],\n",
       "       [-1.28318077e+00,  5.02117712e-01],\n",
       "       [-1.42668625e+00,  3.59035543e-02],\n",
       "       [-9.96311378e-01, -4.15824023e-02],\n",
       "       [-1.38509335e+00,  2.79861050e-01],\n",
       "       [-7.33723973e-02,  1.32019203e+00],\n",
       "       [ 7.57498153e-01, -7.30317908e-01],\n",
       "       [ 1.56842910e+00, -9.46321381e-01],\n",
       "       [ 7.89758730e-01, -1.02418511e+00],\n",
       "       [ 1.19000312e-01,  9.33527053e-01],\n",
       "       [ 4.27148521e-01,  1.29614324e+00],\n",
       "       [-1.11677320e+00, -8.23631116e-01],\n",
       "       [-1.33701115e+00, -4.51765808e-01],\n",
       "       [-7.88746621e-02,  1.38526958e+00],\n",
       "       [ 8.77427297e-01, -1.71983206e+00],\n",
       "       [ 1.03937803e+00, -1.03822493e+00],\n",
       "       [ 1.25404761e+00, -1.47434094e+00],\n",
       "       [-1.02579504e+00,  3.52182449e-01],\n",
       "       [ 1.02229741e+00,  5.63345241e-01],\n",
       "       [-1.03361957e+00, -3.96497041e-02],\n",
       "       [ 6.11822491e-01,  1.00520967e+00],\n",
       "       [ 8.52183037e-01, -6.26465478e-01],\n",
       "       [-1.67490043e-02,  1.41411266e+00],\n",
       "       [ 3.81085499e-01,  1.38772553e+00],\n",
       "       [ 8.58881247e-01, -1.50704114e+00],\n",
       "       [ 1.19664875e+00, -1.11539627e+00],\n",
       "       [-1.19221387e+00,  1.95320544e-01],\n",
       "       [ 1.57419582e-01,  6.56171262e-01],\n",
       "       [ 1.58565570e+00, -7.51512276e-01],\n",
       "       [-1.02633022e+00,  5.58055712e-01],\n",
       "       [ 5.43082323e-01,  1.10027607e+00],\n",
       "       [-1.73325865e+00,  3.23571739e-01],\n",
       "       [-6.32518597e-01,  2.48870328e-01],\n",
       "       [-1.33759380e+00,  1.49614877e-01],\n",
       "       [-1.24618847e+00,  2.45159916e-01],\n",
       "       [ 3.71490138e-01,  9.20288240e-01],\n",
       "       [-5.38148739e-01,  1.02255553e-01],\n",
       "       [ 3.55778021e-01,  1.19285554e+00],\n",
       "       [ 7.19655643e-01, -6.05847117e-01],\n",
       "       [-4.77790735e-01,  1.27818577e+00],\n",
       "       [-2.14423250e-01,  1.71806582e+00],\n",
       "       [ 6.70707031e-01,  6.37793607e-01],\n",
       "       [ 6.06370176e-01, -9.67238314e-01],\n",
       "       [ 1.28217267e+00, -1.30613665e+00],\n",
       "       [-4.85908738e-02,  1.71563975e+00],\n",
       "       [ 6.65839607e-01, -1.02243488e+00],\n",
       "       [ 2.19396010e-01,  1.07558283e+00],\n",
       "       [ 6.82955617e-01,  9.95522070e-01],\n",
       "       [-1.49388685e+00, -3.80695114e-01],\n",
       "       [-1.15182874e+00,  3.23051019e-01],\n",
       "       [ 3.07536785e-01,  1.20178857e+00],\n",
       "       [ 7.77787690e-01, -1.24277695e+00],\n",
       "       [ 7.37638998e-01, -1.48740491e+00],\n",
       "       [-9.84392322e-03,  5.74992935e-01],\n",
       "       [ 4.54363930e-01,  1.16968916e+00],\n",
       "       [ 1.08030050e+00, -8.03779070e-01],\n",
       "       [ 1.72879924e+00, -9.33287711e-01],\n",
       "       [ 1.27396323e+00, -1.14548700e+00],\n",
       "       [-1.40974844e+00,  2.57672537e-01],\n",
       "       [-1.56601468e+00,  5.27298031e-01],\n",
       "       [ 1.18200996e+00, -1.79684631e+00],\n",
       "       [ 1.10462025e+00, -1.62638987e+00],\n",
       "       [ 3.30535647e-01,  9.93060459e-01],\n",
       "       [ 5.23687681e-01, -1.10456850e+00],\n",
       "       [ 1.90896739e-01,  1.47108104e+00],\n",
       "       [ 7.71493643e-01, -1.30431375e+00],\n",
       "       [ 9.02046383e-01,  5.99496710e-01],\n",
       "       [-1.53823580e+00, -7.40789325e-04],\n",
       "       [-1.60051856e+00,  3.81498237e-01],\n",
       "       [ 5.78229392e-01, -1.41009942e+00],\n",
       "       [ 9.66308981e-01, -6.72557778e-01],\n",
       "       [ 7.48056995e-01, -1.07070574e+00],\n",
       "       [ 1.28284728e+00, -1.22388145e+00],\n",
       "       [-1.64728236e+00,  6.78875666e-01],\n",
       "       [ 9.56912041e-01, -1.47856378e+00],\n",
       "       [ 6.44022791e-01, -1.23588129e+00],\n",
       "       [ 3.64498257e-01,  1.18477560e+00],\n",
       "       [-1.36514079e+00,  2.42075415e-01],\n",
       "       [ 7.81027794e-01,  9.86965139e-01],\n",
       "       [ 2.84197056e-01,  1.19577499e+00],\n",
       "       [-4.61107404e-02,  1.36201667e+00],\n",
       "       [-1.10830893e+00,  3.46132334e-01],\n",
       "       [ 1.95826835e-01,  9.54022381e-01],\n",
       "       [ 8.45844276e-01, -1.24764366e+00],\n",
       "       [-1.07794094e+00,  1.46570312e-01],\n",
       "       [ 3.19568686e-01,  1.66214477e+00],\n",
       "       [-1.84316356e+00,  1.80602302e-01],\n",
       "       [ 3.36992528e-01,  1.15910808e+00],\n",
       "       [ 5.85180839e-01,  8.04860274e-01],\n",
       "       [-1.08731870e+00,  7.72132996e-02],\n",
       "       [-1.42637457e+00,  9.87592701e-02],\n",
       "       [ 4.54460461e-02,  8.60242297e-01],\n",
       "       [ 1.35706529e+00, -1.14609233e+00],\n",
       "       [ 3.40925437e-02,  1.07415180e+00],\n",
       "       [-1.85691341e-01,  9.84393994e-01],\n",
       "       [ 8.32624901e-01, -5.99245610e-01],\n",
       "       [ 9.04174182e-01, -9.81449294e-01],\n",
       "       [-1.24846087e+00, -1.33688939e-01],\n",
       "       [ 7.55883264e-01, -1.53382538e+00],\n",
       "       [-1.72015081e+00,  1.38038249e-01],\n",
       "       [-1.19674062e+00,  8.29765610e-03],\n",
       "       [-1.15382536e+00,  8.33015445e-02],\n",
       "       [-9.57788222e-01,  2.24157582e-01],\n",
       "       [ 5.85399123e-01, -1.16301116e+00],\n",
       "       [-1.27764864e+00, -1.14070454e-01],\n",
       "       [-1.27527743e+00,  4.62537141e-01],\n",
       "       [-7.76043166e-01, -5.85369149e-01],\n",
       "       [ 6.33780313e-02,  4.71135237e-01],\n",
       "       [-1.44382247e+00, -1.59911506e-02],\n",
       "       [ 7.03606822e-01, -8.74778594e-01],\n",
       "       [-1.43625755e+00, -4.65361422e-02],\n",
       "       [ 5.53019312e-01,  1.09779788e+00],\n",
       "       [ 4.41448867e-01,  8.24309957e-01],\n",
       "       [ 7.87341191e-01, -2.00755136e+00],\n",
       "       [ 1.16688056e+00, -1.32420742e+00],\n",
       "       [-8.82467969e-01,  4.82695889e-01],\n",
       "       [-1.68384068e+00, -5.07047533e-02],\n",
       "       [-1.45615267e+00,  6.37587680e-01],\n",
       "       [-1.46658744e+00, -3.52528434e-01],\n",
       "       [ 1.11071087e+00, -1.62424015e+00],\n",
       "       [ 6.76423672e-01, -1.77741981e+00]])"
      ]
     },
     "execution_count": 10,
     "metadata": {},
     "output_type": "execute_result"
    }
   ],
   "source": [
    "X_Std[0:10]"
   ]
  },
  {
   "cell_type": "markdown",
   "metadata": {},
   "source": [
    "### K-Means "
   ]
  },
  {
   "cell_type": "code",
   "execution_count": 12,
   "metadata": {},
   "outputs": [],
   "source": [
    "#Creamos una instancia de K-Means \n",
    "km=KMeans(n_clusters=3,# numero de clusters\n",
    "         init='k-means++', #centroides iniciales\n",
    "         n_init=10, #numero de veces que se ejecutará el algoritmo\n",
    "         tol=0.0004,#tolerancia para declarar la convergencia\n",
    "         random_state=2020)#semilla"
   ]
  },
  {
   "cell_type": "code",
   "execution_count": 13,
   "metadata": {},
   "outputs": [
    {
     "data": {
      "text/plain": [
       "3"
      ]
     },
     "execution_count": 13,
     "metadata": {},
     "output_type": "execute_result"
    }
   ],
   "source": [
    "#Numero de clusters\n",
    "km.n_clusters"
   ]
  },
  {
   "cell_type": "code",
   "execution_count": 14,
   "metadata": {},
   "outputs": [
    {
     "data": {
      "text/plain": [
       "array([2, 1, 1, 1, 2, 1, 1, 2, 0, 1, 2, 0, 0, 1, 1, 0, 0, 2, 0, 2, 1, 2,\n",
       "       1, 1, 0, 2, 2, 1, 0, 2, 0, 0, 0, 0, 1, 2, 2, 2, 1, 1, 0, 0, 1, 2,\n",
       "       2, 2, 0, 1, 0, 1, 2, 1, 1, 2, 2, 0, 1, 2, 0, 1, 0, 0, 0, 0, 1, 0,\n",
       "       1, 2, 1, 1, 1, 2, 2, 1, 2, 1, 1, 0, 0, 1, 2, 2, 1, 1, 2, 2, 2, 0,\n",
       "       0, 2, 2, 1, 2, 1, 2, 1, 0, 0, 2, 2, 2, 2, 0, 2, 2, 1, 0, 1, 1, 1,\n",
       "       0, 1, 2, 0, 1, 0, 1, 1, 0, 0, 1, 2, 1, 1, 2, 2, 0, 2, 0, 0, 0, 0,\n",
       "       2, 0, 0, 0, 1, 0, 2, 0, 1, 1, 2, 2, 0, 0, 0, 0, 2, 2])"
      ]
     },
     "execution_count": 14,
     "metadata": {},
     "output_type": "execute_result"
    }
   ],
   "source": [
    "#Obteniendo las etiquetas de clusters\n",
    "y_km=km.fit_predict(X_Std)\n",
    "y_km"
   ]
  },
  {
   "cell_type": "code",
   "execution_count": 15,
   "metadata": {},
   "outputs": [
    {
     "data": {
      "text/plain": [
       "array([[-1.28308805,  0.11962887],\n",
       "       [ 0.28936316,  1.09073236],\n",
       "       [ 0.99372488, -1.21036123]])"
      ]
     },
     "execution_count": 15,
     "metadata": {},
     "output_type": "execute_result"
    }
   ],
   "source": [
    "#Los centros de clusters\n",
    "km.cluster_centers_"
   ]
  },
  {
   "cell_type": "markdown",
   "metadata": {},
   "source": [
    "### _Construyendo la funcion Grafico de Cluster_"
   ]
  },
  {
   "cell_type": "code",
   "execution_count": 16,
   "metadata": {},
   "outputs": [],
   "source": [
    "#Librerías a utilizar\n",
    "import random\n",
    "\n",
    "#Grafico_de_cluster\n",
    "def Grafico_de_cluster(X,n_clusters,init,n_init,max_iter,semilla,tol,name_colors_c_list,name_colors_edgecolor_list,name_makers_list):\n",
    "    km = KMeans(n_clusters=n_clusters,\n",
    "                    init=init, #elija k observaciones (filas) para los centroides iniciales\n",
    "                    n_init=n_init, #número de veces que el algoritmo se ejecutará\n",
    "                    max_iter=max_iter,#número máximo de iteraciones para una ejecución\n",
    "                    tol=tol, #tolerancia para declarar convergencia\n",
    "                    random_state=semilla) #semilla\n",
    "    y_km = km.fit_predict(X)\n",
    "    for i in range(0,km.n_clusters):\n",
    "            plt.scatter(X[y_km == i, 0], #primer clúster\n",
    "                        X[y_km == i, 1],\n",
    "                        s=50,\n",
    "                        c=name_colors_c_list[i],#El color de los puntos\n",
    "                        edgecolor=name_colors_edgecolor_list[i],#El punto de colors\n",
    "                        marker=name_makers_list[random.randint(0,1)],#El tipo de representación\n",
    "                        label='cluster '+str(i+1))\n",
    "    plt.scatter(km.cluster_centers_[:, 0], km.cluster_centers_[:, 1],\n",
    "                    s=250, marker='*', c='red', label='centroides')\n",
    "    plt.legend()\n",
    "    plt.grid()\n",
    "    plt.tight_layout()\n",
    "    plt.show()\n"
   ]
  },
  {
   "cell_type": "markdown",
   "metadata": {},
   "source": [
    "### _Ingresando los argumentos para la funcion Grafico de Clusters_"
   ]
  },
  {
   "cell_type": "code",
   "execution_count": 19,
   "metadata": {},
   "outputs": [
    {
     "data": {
      "image/png": "[encoded data removed]",
      "text/plain": [
       "<Figure size 432x288 with 1 Axes>"
      ]
     },
     "metadata": {
      "needs_background": "light"
     },
     "output_type": "display_data"
    }
   ],
   "source": [
    "#Defino el numero de cluster en un array\n",
    "name_colors_c_list=['lightgreen','orange','yellow']#Defino el color de los puntos\n",
    "name_colors_edgecolor_list=['black','blue','red']#Defino los puntos de color\n",
    "name_makers_list=['s','o','v']#Defino el tipo de representación del punto\n",
    "n_clusters=3 #Se define el numero de clusters\n",
    "init='k-means++' #elija k observaciones (filas) para los centroides iniciales\n",
    "n_init=10 #número de veces que el algoritmo se ejecutará\n",
    "max_iter=300#número máximo de iteraciones para una ejecución\n",
    "tol=1e-04 #tolerancia para declarar convergencia\n",
    "semilla = 2020\n",
    "Grafico_de_cluster(X_Std,n_clusters,init,n_init,max_iter,semilla,tol,name_colors_c_list,name_colors_edgecolor_list,name_makers_list)"
   ]
  },
  {
   "cell_type": "markdown",
   "metadata": {},
   "source": [
    "### _Obtencion del Numero Optimo de Clusters_"
   ]
  },
  {
   "cell_type": "code",
   "execution_count": null,
   "metadata": {},
   "outputs": [],
   "source": [
    "Nos brinda la suma de las distancias al cuadrado de las muestras de su centroide mas cercano"
   ]
  },
  {
   "cell_type": "markdown",
   "metadata": {},
   "source": [
    "### _Metodo del codo(Como funcion de la distancia de intra-cluster, el codo se forma donde NO se reduce considerablemente)_"
   ]
  },
  {
   "cell_type": "code",
   "execution_count": 23,
   "metadata": {},
   "outputs": [],
   "source": [
    "inercia=[]\n",
    "for i in range(2,11):\n",
    "    km=KMeans(n_clusters=i,\n",
    "             init='k-means++',\n",
    "             n_init=10,\n",
    "             tol=0.0004,\n",
    "             random_state=2020)\n",
    "    km.fit(X_Std)\n",
    "    inercia.append(km.inertia_)"
   ]
  },
  {
   "cell_type": "code",
   "execution_count": 24,
   "metadata": {},
   "outputs": [
    {
     "data": {
      "text/plain": [
       "[116.06524144078875,\n",
       " 30.674121776362227,\n",
       " 26.332543928594312,\n",
       " 22.308030294855328,\n",
       " 20.446925799139976,\n",
       " 16.817217513716596,\n",
       " 14.998565710710846,\n",
       " 13.047298364772281,\n",
       " 11.589401109225658]"
      ]
     },
     "execution_count": 24,
     "metadata": {},
     "output_type": "execute_result"
    }
   ],
   "source": [
    "inercia"
   ]
  },
  {
   "cell_type": "code",
   "execution_count": 25,
   "metadata": {},
   "outputs": [
    {
     "data": {
      "image/png": "[encoded data removed]",
      "text/plain": [
       "<Figure size 432x288 with 1 Axes>"
      ]
     },
     "metadata": {
      "needs_background": "light"
     },
     "output_type": "display_data"
    }
   ],
   "source": [
    "plt.plot(range(2,11),inercia,marker='o')\n",
    "plt.title('Metodo del Codo para Clusters')\n",
    "plt.xlabel('Numero de Clusters')\n",
    "plt.ylabel('Valores de inercia')\n",
    "plt.show()"
   ]
  },
  {
   "cell_type": "code",
   "execution_count": null,
   "metadata": {},
   "outputs": [],
   "source": []
  }
 ],
 "metadata": {
  "kernelspec": {
   "display_name": "Python 3",
   "language": "python",
   "name": "python3"
  },
  "language_info": {
   "codemirror_mode": {
    "name": "ipython",
    "version": 3
   },
   "file_extension": ".py",
   "mimetype": "text/x-python",
   "name": "python",
   "nbconvert_exporter": "python",
   "pygments_lexer": "ipython3",
   "version": "3.8.3"
  }
 },
 "nbformat": 4,
 "nbformat_minor": 4
}
