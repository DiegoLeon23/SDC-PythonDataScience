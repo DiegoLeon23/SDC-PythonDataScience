{
 "cells": [
  {
   "cell_type": "markdown",
   "metadata": {},
   "source": [
    "# TEMA1. METODOS DE PARTICIONAMIENTO"
   ]
  },
  {
   "cell_type": "markdown",
   "metadata": {},
   "source": [
    "## CLUSTER POR K-MEDIAS"
   ]
  },
  {
   "cell_type": "code",
   "execution_count": 7,
   "metadata": {},
   "outputs": [],
   "source": [
    "import pandas as pd\n",
    "import numpy as np\n",
    "import matplotlib.pyplot as plt\n",
    "import os \n",
    "import scipy.stats as stats #Para calculo de p-values, prob estadisticas\n",
    "from sklearn.model_selection import train_test_split # Para particionamiento de datos\n",
    "from sklearn.preprocessing import StandardScaler #Para estandarizacion\n",
    "from sklearn.preprocessing import MinMaxScaler #Para normalizacion\n",
    "from sklearn.metrics import euclidean_distances, silhouette_score #Para obtener valores de silueta\n",
    "from sklearn.cluster import KMeans #Para utilizar el método KMeans"
   ]
  },
  {
   "cell_type": "code",
   "execution_count": 8,
   "metadata": {},
   "outputs": [],
   "source": [
    "os.chdir(\"D:\\Social Data Consulting\\Python for Data Science\\data\")"
   ]
  },
  {
   "cell_type": "markdown",
   "metadata": {},
   "source": [
    "#### Primero se ejemplificará una data simulada basada en 3 clusters"
   ]
  },
  {
   "cell_type": "code",
   "execution_count": 3,
   "metadata": {},
   "outputs": [],
   "source": [
    "from sklearn.datasets import make_blobs\n",
    "#Creando valores simulados agrupados en 3 clusters\n",
    "X,y=make_blobs(n_samples=150,#numero de registros\n",
    "              n_features=2,#numero de variables\n",
    "              centers=3,#numero clusters\n",
    "              cluster_std=0.5, #desviacion estandar de los clusters\n",
    "              shuffle=True,#realiza el proceso aleatorio\n",
    "              random_state=0) #semilla"
   ]
  },
  {
   "cell_type": "code",
   "execution_count": 4,
   "metadata": {},
   "outputs": [
    {
     "data": {
      "text/plain": [
       "array([[ 2.60509732,  1.22529553],\n",
       "       [ 0.5323772 ,  3.31338909],\n",
       "       [ 0.802314  ,  4.38196181],\n",
       "       [ 0.5285368 ,  4.49723858],\n",
       "       [ 2.61858548,  0.35769791],\n",
       "       [ 1.59141542,  4.90497725],\n",
       "       [ 1.74265969,  5.03846671],\n",
       "       [ 2.37533328,  0.08918564],\n",
       "       [-2.12133364,  2.66447408],\n",
       "       [ 1.72039618,  5.25173192]])"
      ]
     },
     "execution_count": 4,
     "metadata": {},
     "output_type": "execute_result"
    }
   ],
   "source": [
    "#Mostrando los 10 primeros registros\n",
    "X[0:10]"
   ]
  },
  {
   "cell_type": "code",
   "execution_count": 5,
   "metadata": {},
   "outputs": [
    {
     "data": {
      "image/png": "[encoded data removed]",
      "text/plain": [
       "<Figure size 432x288 with 1 Axes>"
      ]
     },
     "metadata": {
      "needs_background": "light"
     },
     "output_type": "display_data"
    }
   ],
   "source": [
    "#Ploteando la información simulada a partir de 3 clusters\n",
    "plt.scatter(X[:,0], #Elementos del eje x\n",
    "            X[:,1],#Elementos del eje y\n",
    "           c='red', marker='o',s=100,edgecolors='blue')\n",
    "plt.grid()\n",
    "plt.tight_layout() #Ajusta el diseño \n",
    "plt.show()"
   ]
  },
  {
   "cell_type": "markdown",
   "metadata": {},
   "source": [
    "## Escalamiento de los datos"
   ]
  },
  {
   "cell_type": "code",
   "execution_count": 6,
   "metadata": {},
   "outputs": [],
   "source": [
    "#Instanciando un objeto de clase StandardScaler\n",
    "sc=StandardScaler()\n",
    "X_Std=sc.fit_transform(X)"
   ]
  },
  {
   "cell_type": "code",
   "execution_count": 7,
   "metadata": {},
   "outputs": [
    {
     "data": {
      "text/plain": [
       "array([[ 1.32957823, -1.03136394],\n",
       "       [ 0.04016184,  0.3848268 ],\n",
       "       [ 0.20808655,  1.1095562 ],\n",
       "       [ 0.03777276,  1.18773942],\n",
       "       [ 1.33796907, -1.61978762],\n",
       "       [ 0.69897786,  1.46427671],\n",
       "       [ 0.79306526,  1.55481218],\n",
       "       [ 1.18664455, -1.80189852],\n",
       "       [-1.6106825 , -0.05528155],\n",
       "       [ 0.77921537,  1.69945331]])"
      ]
     },
     "execution_count": 7,
     "metadata": {},
     "output_type": "execute_result"
    }
   ],
   "source": [
    "X_Std[0:10]"
   ]
  },
  {
   "cell_type": "markdown",
   "metadata": {},
   "source": [
    "### K-Means "
   ]
  },
  {
   "cell_type": "code",
   "execution_count": 8,
   "metadata": {},
   "outputs": [],
   "source": [
    "#Creamos una instancia de K-Means \n",
    "km=KMeans(n_clusters=3,# numero de clusters\n",
    "         init='k-means++', #centroides iniciales\n",
    "         n_init=10, #numero de veces que se ejecutará el algoritmo\n",
    "         tol=0.0004,#tolerancia para declarar la convergencia\n",
    "         random_state=2020)#semilla"
   ]
  },
  {
   "cell_type": "code",
   "execution_count": 9,
   "metadata": {},
   "outputs": [
    {
     "data": {
      "text/plain": [
       "3"
      ]
     },
     "execution_count": 9,
     "metadata": {},
     "output_type": "execute_result"
    }
   ],
   "source": [
    "#Numero de clusters\n",
    "km.n_clusters"
   ]
  },
  {
   "cell_type": "code",
   "execution_count": 10,
   "metadata": {},
   "outputs": [
    {
     "data": {
      "text/plain": [
       "array([2, 1, 1, 1, 2, 1, 1, 2, 0, 1, 2, 0, 0, 1, 1, 0, 0, 2, 0, 2, 1, 2,\n",
       "       1, 1, 0, 2, 2, 1, 0, 2, 0, 0, 0, 0, 1, 2, 2, 2, 1, 1, 0, 0, 1, 2,\n",
       "       2, 2, 0, 1, 0, 1, 2, 1, 1, 2, 2, 0, 1, 2, 0, 1, 0, 0, 0, 0, 1, 0,\n",
       "       1, 2, 1, 1, 1, 2, 2, 1, 2, 1, 1, 0, 0, 1, 2, 2, 1, 1, 2, 2, 2, 0,\n",
       "       0, 2, 2, 1, 2, 1, 2, 1, 0, 0, 2, 2, 2, 2, 0, 2, 2, 1, 0, 1, 1, 1,\n",
       "       0, 1, 2, 0, 1, 0, 1, 1, 0, 0, 1, 2, 1, 1, 2, 2, 0, 2, 0, 0, 0, 0,\n",
       "       2, 0, 0, 0, 1, 0, 2, 0, 1, 1, 2, 2, 0, 0, 0, 0, 2, 2])"
      ]
     },
     "execution_count": 10,
     "metadata": {},
     "output_type": "execute_result"
    }
   ],
   "source": [
    "#Obteniendo las etiquetas de clusters\n",
    "y_km=km.fit_predict(X_Std)\n",
    "y_km"
   ]
  },
  {
   "cell_type": "code",
   "execution_count": 11,
   "metadata": {},
   "outputs": [
    {
     "data": {
      "text/plain": [
       "array([[-1.28308805,  0.11962887],\n",
       "       [ 0.28936316,  1.09073236],\n",
       "       [ 0.99372488, -1.21036123]])"
      ]
     },
     "execution_count": 11,
     "metadata": {},
     "output_type": "execute_result"
    }
   ],
   "source": [
    "#Los centros de clusters\n",
    "km.cluster_centers_"
   ]
  },
  {
   "cell_type": "markdown",
   "metadata": {},
   "source": [
    "### _Construyendo la funcion Grafico de Cluster_"
   ]
  },
  {
   "cell_type": "code",
   "execution_count": 12,
   "metadata": {},
   "outputs": [],
   "source": [
    "#Librerías a utilizar\n",
    "import random\n",
    "\n",
    "#Grafico_de_cluster\n",
    "def Grafico_de_cluster(X,n_clusters,init,n_init,max_iter,semilla,tol,name_colors_c_list,name_colors_edgecolor_list,name_makers_list):\n",
    "    km = KMeans(n_clusters=n_clusters,\n",
    "                    init=init, #elija k observaciones (filas) para los centroides iniciales\n",
    "                    n_init=n_init, #número de veces que el algoritmo se ejecutará\n",
    "                    max_iter=max_iter,#número máximo de iteraciones para una ejecución\n",
    "                    tol=tol, #tolerancia para declarar convergencia\n",
    "                    random_state=semilla) #semilla\n",
    "    y_km = km.fit_predict(X)\n",
    "    for i in range(0,km.n_clusters):\n",
    "            plt.scatter(X[y_km == i, 0], #primer clúster\n",
    "                        X[y_km == i, 1],\n",
    "                        s=50,\n",
    "                        c=name_colors_c_list[i],#El color de los puntos\n",
    "                        edgecolor=name_colors_edgecolor_list[i],#El punto de colors\n",
    "                        marker=name_makers_list[random.randint(0,1)],#El tipo de representación\n",
    "                        label='cluster '+str(i+1))\n",
    "    plt.scatter(km.cluster_centers_[:, 0], km.cluster_centers_[:, 1],\n",
    "                    s=250, marker='*', c='red', label='centroides')\n",
    "    plt.legend()\n",
    "    plt.grid()\n",
    "    plt.tight_layout()\n",
    "    plt.show()\n"
   ]
  },
  {
   "cell_type": "markdown",
   "metadata": {},
   "source": [
    "### _Ingresando los argumentos para la funcion Grafico de Clusters_"
   ]
  },
  {
   "cell_type": "code",
   "execution_count": 13,
   "metadata": {},
   "outputs": [
    {
     "data": {
      "image/png": "[encoded data removed]",
      "text/plain": [
       "<Figure size 432x288 with 1 Axes>"
      ]
     },
     "metadata": {
      "needs_background": "light"
     },
     "output_type": "display_data"
    }
   ],
   "source": [
    "#Defino el numero de cluster en un array\n",
    "name_colors_c_list=['lightgreen','orange','yellow']#Defino el color de los puntos\n",
    "name_colors_edgecolor_list=['black','blue','red']#Defino los puntos de color\n",
    "name_makers_list=['s','o','v']#Defino el tipo de representación del punto\n",
    "n_clusters=3 #Se define el numero de clusters\n",
    "init='k-means++' #elija k observaciones (filas) para los centroides iniciales\n",
    "n_init=10 #número de veces que el algoritmo se ejecutará\n",
    "max_iter=300#número máximo de iteraciones para una ejecución\n",
    "tol=1e-04 #tolerancia para declarar convergencia\n",
    "semilla = 2020\n",
    "Grafico_de_cluster(X_Std,n_clusters,init,n_init,max_iter,semilla,tol,name_colors_c_list,name_colors_edgecolor_list,name_makers_list)"
   ]
  },
  {
   "cell_type": "markdown",
   "metadata": {},
   "source": [
    "### _Obtencion del Numero Optimo de Clusters_"
   ]
  },
  {
   "cell_type": "markdown",
   "metadata": {},
   "source": [
    "Nos brinda la suma de las distancias al cuadrado de las muestras de su centroide mas cercano"
   ]
  },
  {
   "cell_type": "markdown",
   "metadata": {},
   "source": [
    "### _Metodo del codo(Como funcion de la distancia de intra-cluster, el codo se forma donde NO se reduce considerablemente)_"
   ]
  },
  {
   "cell_type": "code",
   "execution_count": 15,
   "metadata": {},
   "outputs": [],
   "source": [
    "inercia=[]\n",
    "for i in range(2,11):\n",
    "    km=KMeans(n_clusters=i,\n",
    "             init='k-means++',\n",
    "             n_init=10,\n",
    "             tol=0.0004,\n",
    "             random_state=2020)\n",
    "    km.fit(X_Std)\n",
    "    inercia.append(km.inertia_)"
   ]
  },
  {
   "cell_type": "code",
   "execution_count": 16,
   "metadata": {},
   "outputs": [
    {
     "data": {
      "text/plain": [
       "[116.06524144078875,\n",
       " 30.674121776362227,\n",
       " 26.332543928594312,\n",
       " 22.308030294855328,\n",
       " 20.446925799139976,\n",
       " 16.817217513716596,\n",
       " 14.998565710710846,\n",
       " 13.047298364772281,\n",
       " 11.589401109225658]"
      ]
     },
     "execution_count": 16,
     "metadata": {},
     "output_type": "execute_result"
    }
   ],
   "source": [
    "inercia"
   ]
  },
  {
   "cell_type": "code",
   "execution_count": 17,
   "metadata": {},
   "outputs": [
    {
     "data": {
      "image/png": "[encoded data removed]",
      "text/plain": [
       "<Figure size 432x288 with 1 Axes>"
      ]
     },
     "metadata": {
      "needs_background": "light"
     },
     "output_type": "display_data"
    }
   ],
   "source": [
    "plt.plot(range(2,11),inercia,marker='o')\n",
    "plt.title('Metodo del Codo para Clusters')\n",
    "plt.xlabel('Numero de Clusters')\n",
    "plt.ylabel('Valores de inercia')\n",
    "plt.show()"
   ]
  },
  {
   "cell_type": "markdown",
   "metadata": {},
   "source": [
    "## METODO DE SILUTA PARA NUMERO OPTIMO DE CLUSTERS"
   ]
  },
  {
   "cell_type": "code",
   "execution_count": 28,
   "metadata": {},
   "outputs": [],
   "source": [
    "silueta = [] #crear un objeto vacío tipo lista\n",
    "\n",
    "for i in range(2,11):\n",
    "    kmeans = KMeans(n_clusters = i, \n",
    "                    init = 'k-means++', \n",
    "                    max_iter = 300, \n",
    "                    n_init = 10,\n",
    "                    random_state = 2020)\n",
    "    silueta.append(silhouette_score(X_Std, #datos\n",
    "                                kmeans.fit_predict(X_Std))) #etiquetas para cada observación"
   ]
  },
  {
   "cell_type": "code",
   "execution_count": 29,
   "metadata": {},
   "outputs": [
    {
     "data": {
      "text/plain": [
       "[0.5921764205499908,\n",
       " 0.7138041844334488,\n",
       " 0.5774583033780717,\n",
       " 0.4540750604087731,\n",
       " 0.4490745028501491,\n",
       " 0.32683906040784516,\n",
       " 0.3316202697839444,\n",
       " 0.34009610381187333,\n",
       " 0.35423133277996566]"
      ]
     },
     "execution_count": 29,
     "metadata": {},
     "output_type": "execute_result"
    }
   ],
   "source": [
    "silueta"
   ]
  },
  {
   "cell_type": "code",
   "execution_count": 30,
   "metadata": {},
   "outputs": [
    {
     "data": {
      "image/png": "[encoded data removed]",
      "text/plain": [
       "<Figure size 432x288 with 1 Axes>"
      ]
     },
     "metadata": {
      "needs_background": "light"
     },
     "output_type": "display_data"
    }
   ],
   "source": [
    "plt.plot(range(2, 11),\n",
    "         silueta)\n",
    "plt.ylabel(\"Silouette\")\n",
    "plt.xlabel(\"k\")\n",
    "plt.title(\"Método de Silouette para data simulada\")\n",
    "plt.tight_layout()\n",
    "plt.show()"
   ]
  },
  {
   "cell_type": "code",
   "execution_count": 48,
   "metadata": {},
   "outputs": [],
   "source": [
    "plt.rcParamsDefault #para visualizar los valores por defecto de matplotlib\n",
    "plt.rcParams['figure.figsize']=(6.4,4.8)"
   ]
  },
  {
   "cell_type": "code",
   "execution_count": null,
   "metadata": {},
   "outputs": [],
   "source": []
  },
  {
   "cell_type": "markdown",
   "metadata": {},
   "source": [
    "**Construyendo el grafico de Silueta**"
   ]
  },
  {
   "cell_type": "code",
   "execution_count": 31,
   "metadata": {},
   "outputs": [],
   "source": [
    "import numpy as np\n",
    "from matplotlib import cm\n",
    "from sklearn.metrics import silhouette_samples\n",
    "import matplotlib.pyplot as plt\n",
    "import warnings\n",
    "\n",
    "warnings.filterwarnings('ignore')\n",
    "\n",
    "plt.rcParams['figure.figsize'] = (14, 4)\n",
    "\n",
    "def Grafico_de_silueta(X,n_cluster_list,init,n_init,max_iter,tol,semilla):\n",
    "    cont=0\n",
    "    for i in n_cluster_list:\n",
    "        cont += 1\n",
    "        plt.subplot(1, 4, cont)\n",
    "        km = KMeans(n_clusters=i, \n",
    "                        init=init,  #elija k observaciones (filas) para los centroides iniciales\n",
    "                        n_init=n_init, #número de veces que el algoritmo se ejecutará\n",
    "                        max_iter=max_iter, #número máximo de iteraciones para una ejecución\n",
    "                        tol=tol, #tolerancia para declarar convergencia\n",
    "                        random_state=semilla) #semilla\n",
    "        y_km = km.fit_predict(X)\n",
    "        cluster_labels = np.unique(y_km) #valores de clúster\n",
    "        n_clusters = cluster_labels.shape[0] #núnero de clústers\n",
    "        silhouette_vals = silhouette_samples(X, y_km, metric='euclidean') #valores de silueta teniendo en cuenta la distancia euclideana\n",
    "\n",
    "        y_ax_lower, y_ax_upper = 0, 0\n",
    "        yticks = [] #objeto tipo lista vacío\n",
    "        for i, c in enumerate(cluster_labels):\n",
    "            c_silhouette_vals = silhouette_vals[y_km == c] #valores de silueta cuando y_km toma el valor c de los posibles n de clúster\n",
    "            c_silhouette_vals.sort() #se ordenan de menor a mayor los valores de silueta\n",
    "            y_ax_upper += len(c_silhouette_vals) #número de valores de silueta\n",
    "            color = cm.jet(float(i) / km.n_clusters) # definir el color\n",
    "            plt.barh(range(y_ax_lower, y_ax_upper), c_silhouette_vals, height=1.0, \n",
    "                     edgecolor='none', color=color) #visualización de los valores de silueta para k\n",
    "            yticks.append((y_ax_lower + y_ax_upper) / 2.)\n",
    "            y_ax_lower += len(c_silhouette_vals)\n",
    "        silhouette_avg = np.mean(silhouette_vals)#media de los valores de silueta\n",
    "        plt.axvline(silhouette_avg, color=\"red\", linestyle=\"--\") # mostrar una línea con los valores medios de silueta\n",
    "        plt.yticks(yticks, cluster_labels + 1)\n",
    "        plt.ylabel('Cluster')\n",
    "        plt.xlabel('Coeficiente de Silueta')\n",
    "        plt.title(\"Silouette para k= \" + str(km.n_clusters) + \"\\n\" + \"Coeficiente de Silueta= \"+str(round((silhouette_avg),2)))\n",
    "        plt.tight_layout()\n",
    "        plt.show()"
   ]
  },
  {
   "cell_type": "code",
   "execution_count": 32,
   "metadata": {},
   "outputs": [
    {
     "data": {
      "image/png": "[encoded data removed]",
      "text/plain": [
       "<Figure size 1008x288 with 1 Axes>"
      ]
     },
     "metadata": {
      "needs_background": "light"
     },
     "output_type": "display_data"
    },
    {
     "data": {
      "image/png": "[encoded data removed]",
      "text/plain": [
       "<Figure size 1008x288 with 1 Axes>"
      ]
     },
     "metadata": {
      "needs_background": "light"
     },
     "output_type": "display_data"
    },
    {
     "data": {
      "image/png": "[encoded data removed]",
      "text/plain": [
       "<Figure size 1008x288 with 1 Axes>"
      ]
     },
     "metadata": {
      "needs_background": "light"
     },
     "output_type": "display_data"
    },
    {
     "data": {
      "image/png": "[encoded data removed]",
      "text/plain": [
       "<Figure size 1008x288 with 1 Axes>"
      ]
     },
     "metadata": {
      "needs_background": "light"
     },
     "output_type": "display_data"
    }
   ],
   "source": [
    "#Defino el numero de cluster en un array\n",
    "n_cluster_list=[2,3,4,5]\n",
    "init='k-means++' #elija k observaciones (filas) para los centroides iniciales\n",
    "n_init=10 #número de veces que el algoritmo se ejecutará\n",
    "max_iter=300#número máximo de iteraciones para una ejecución\n",
    "tol=1e-04 #tolerancia para declarar convergencia\n",
    "semilla = 2020\n",
    "Grafico_de_silueta(X,n_cluster_list,init,n_init,max_iter,tol,semilla)"
   ]
  },
  {
   "cell_type": "code",
   "execution_count": 33,
   "metadata": {},
   "outputs": [],
   "source": [
    "# Nos quedariamos con K=3 por mayor coeficiente de silueta"
   ]
  },
  {
   "cell_type": "markdown",
   "metadata": {},
   "source": [
    "## CASO UBER"
   ]
  },
  {
   "cell_type": "code",
   "execution_count": 34,
   "metadata": {},
   "outputs": [],
   "source": [
    "os.chdir(\"D:\\Social Data Consulting\\Python for Data Science\\data\")"
   ]
  },
  {
   "cell_type": "code",
   "execution_count": 38,
   "metadata": {},
   "outputs": [],
   "source": [
    "miArchivo='uber-raw-data-apr14.csv'\n",
    "data=pd.read_csv(miArchivo)"
   ]
  },
  {
   "cell_type": "code",
   "execution_count": 39,
   "metadata": {},
   "outputs": [
    {
     "name": "stdout",
     "output_type": "stream",
     "text": [
      "<class 'pandas.core.frame.DataFrame'>\n",
      "RangeIndex: 564516 entries, 0 to 564515\n",
      "Data columns (total 4 columns):\n",
      " #   Column     Non-Null Count   Dtype  \n",
      "---  ------     --------------   -----  \n",
      " 0   Date/Time  564516 non-null  object \n",
      " 1   Lat        564516 non-null  float64\n",
      " 2   Lon        564516 non-null  float64\n",
      " 3   Base       564516 non-null  object \n",
      "dtypes: float64(2), object(2)\n",
      "memory usage: 17.2+ MB\n"
     ]
    }
   ],
   "source": [
    "#Informacion de las variables del dataframe\n",
    "data.info()"
   ]
  },
  {
   "cell_type": "code",
   "execution_count": 40,
   "metadata": {},
   "outputs": [
    {
     "data": {
      "text/plain": [
       "(564516, 4)"
      ]
     },
     "execution_count": 40,
     "metadata": {},
     "output_type": "execute_result"
    }
   ],
   "source": [
    "#Tamaño del dataframe\n",
    "data.shape"
   ]
  },
  {
   "cell_type": "code",
   "execution_count": 41,
   "metadata": {},
   "outputs": [
    {
     "data": {
      "text/html": [
       "<div>\n",
       "<style scoped>\n",
       "    .dataframe tbody tr th:only-of-type {\n",
       "        vertical-align: middle;\n",
       "    }\n",
       "\n",
       "    .dataframe tbody tr th {\n",
       "        vertical-align: top;\n",
       "    }\n",
       "\n",
       "    .dataframe thead th {\n",
       "        text-align: right;\n",
       "    }\n",
       "</style>\n",
       "<table border=\"1\" class=\"dataframe\">\n",
       "  <thead>\n",
       "    <tr style=\"text-align: right;\">\n",
       "      <th></th>\n",
       "      <th>Date/Time</th>\n",
       "      <th>Lat</th>\n",
       "      <th>Lon</th>\n",
       "      <th>Base</th>\n",
       "    </tr>\n",
       "  </thead>\n",
       "  <tbody>\n",
       "    <tr>\n",
       "      <th>0</th>\n",
       "      <td>4/1/2014 0:11:00</td>\n",
       "      <td>40.7690</td>\n",
       "      <td>-73.9549</td>\n",
       "      <td>B02512</td>\n",
       "    </tr>\n",
       "    <tr>\n",
       "      <th>1</th>\n",
       "      <td>4/1/2014 0:17:00</td>\n",
       "      <td>40.7267</td>\n",
       "      <td>-74.0345</td>\n",
       "      <td>B02512</td>\n",
       "    </tr>\n",
       "    <tr>\n",
       "      <th>2</th>\n",
       "      <td>4/1/2014 0:21:00</td>\n",
       "      <td>40.7316</td>\n",
       "      <td>-73.9873</td>\n",
       "      <td>B02512</td>\n",
       "    </tr>\n",
       "    <tr>\n",
       "      <th>3</th>\n",
       "      <td>4/1/2014 0:28:00</td>\n",
       "      <td>40.7588</td>\n",
       "      <td>-73.9776</td>\n",
       "      <td>B02512</td>\n",
       "    </tr>\n",
       "    <tr>\n",
       "      <th>4</th>\n",
       "      <td>4/1/2014 0:33:00</td>\n",
       "      <td>40.7594</td>\n",
       "      <td>-73.9722</td>\n",
       "      <td>B02512</td>\n",
       "    </tr>\n",
       "  </tbody>\n",
       "</table>\n",
       "</div>"
      ],
      "text/plain": [
       "          Date/Time      Lat      Lon    Base\n",
       "0  4/1/2014 0:11:00  40.7690 -73.9549  B02512\n",
       "1  4/1/2014 0:17:00  40.7267 -74.0345  B02512\n",
       "2  4/1/2014 0:21:00  40.7316 -73.9873  B02512\n",
       "3  4/1/2014 0:28:00  40.7588 -73.9776  B02512\n",
       "4  4/1/2014 0:33:00  40.7594 -73.9722  B02512"
      ]
     },
     "execution_count": 41,
     "metadata": {},
     "output_type": "execute_result"
    }
   ],
   "source": [
    "#Mostrando la cabecera de los datos\n",
    "data.head()"
   ]
  },
  {
   "cell_type": "code",
   "execution_count": 42,
   "metadata": {},
   "outputs": [],
   "source": [
    "data.drop([\"Date/Time\",\"Base\"],axis=1, inplace=True)"
   ]
  },
  {
   "cell_type": "markdown",
   "metadata": {},
   "source": [
    "**Escalamiento de los Datos**"
   ]
  },
  {
   "cell_type": "code",
   "execution_count": 43,
   "metadata": {},
   "outputs": [],
   "source": [
    "X=data\n",
    "cols=X.columns\n",
    "mms=MinMaxScaler()\n",
    "X_mms=mms.fit_transform(X)"
   ]
  },
  {
   "cell_type": "code",
   "execution_count": 44,
   "metadata": {},
   "outputs": [
    {
     "data": {
      "text/html": [
       "<div>\n",
       "<style scoped>\n",
       "    .dataframe tbody tr th:only-of-type {\n",
       "        vertical-align: middle;\n",
       "    }\n",
       "\n",
       "    .dataframe tbody tr th {\n",
       "        vertical-align: top;\n",
       "    }\n",
       "\n",
       "    .dataframe thead th {\n",
       "        text-align: right;\n",
       "    }\n",
       "</style>\n",
       "<table border=\"1\" class=\"dataframe\">\n",
       "  <thead>\n",
       "    <tr style=\"text-align: right;\">\n",
       "      <th></th>\n",
       "      <th>Lat</th>\n",
       "      <th>Lon</th>\n",
       "    </tr>\n",
       "  </thead>\n",
       "  <tbody>\n",
       "    <tr>\n",
       "      <th>0</th>\n",
       "      <td>0.340608</td>\n",
       "      <td>0.302361</td>\n",
       "    </tr>\n",
       "    <tr>\n",
       "      <th>1</th>\n",
       "      <td>0.319910</td>\n",
       "      <td>0.272952</td>\n",
       "    </tr>\n",
       "    <tr>\n",
       "      <th>2</th>\n",
       "      <td>0.322308</td>\n",
       "      <td>0.290391</td>\n",
       "    </tr>\n",
       "    <tr>\n",
       "      <th>3</th>\n",
       "      <td>0.335617</td>\n",
       "      <td>0.293974</td>\n",
       "    </tr>\n",
       "    <tr>\n",
       "      <th>4</th>\n",
       "      <td>0.335910</td>\n",
       "      <td>0.295969</td>\n",
       "    </tr>\n",
       "  </tbody>\n",
       "</table>\n",
       "</div>"
      ],
      "text/plain": [
       "        Lat       Lon\n",
       "0  0.340608  0.302361\n",
       "1  0.319910  0.272952\n",
       "2  0.322308  0.290391\n",
       "3  0.335617  0.293974\n",
       "4  0.335910  0.295969"
      ]
     },
     "execution_count": 44,
     "metadata": {},
     "output_type": "execute_result"
    }
   ],
   "source": [
    "X=pd.DataFrame(X_mms,columns=cols)\n",
    "X.head()"
   ]
  },
  {
   "cell_type": "markdown",
   "metadata": {},
   "source": [
    "### Numero optimo de cluster con el Metodo del Codo"
   ]
  },
  {
   "cell_type": "code",
   "execution_count": 46,
   "metadata": {},
   "outputs": [],
   "source": [
    "inercia=[]\n",
    "for i in range(2,11):\n",
    "    km=KMeans(n_clusters=i,\n",
    "             init='k-means++',\n",
    "             n_init=10,\n",
    "             tol=0.0004,\n",
    "             random_state=2020)\n",
    "    km.fit(X_mms)\n",
    "    inercia.append(km.inertia_)"
   ]
  },
  {
   "cell_type": "code",
   "execution_count": 49,
   "metadata": {},
   "outputs": [
    {
     "data": {
      "image/png": "[encoded data removed]",
      "text/plain": [
       "<Figure size 460.8x345.6 with 1 Axes>"
      ]
     },
     "metadata": {
      "needs_background": "light"
     },
     "output_type": "display_data"
    }
   ],
   "source": [
    "plt.plot(range(2,11),inercia,marker='o')\n",
    "plt.title('Metodo del Codo para Clusters')\n",
    "plt.xlabel('Numero de Clusters')\n",
    "plt.ylabel('Valores de inercia')\n",
    "plt.show()"
   ]
  },
  {
   "cell_type": "code",
   "execution_count": null,
   "metadata": {},
   "outputs": [],
   "source": [
    "#Clusters preferibles = 3"
   ]
  },
  {
   "cell_type": "markdown",
   "metadata": {},
   "source": [
    "## K-Means (Nro Optimo de k=3)"
   ]
  },
  {
   "cell_type": "code",
   "execution_count": 52,
   "metadata": {},
   "outputs": [],
   "source": [
    "km=KMeans(n_clusters=3,\n",
    "         init='k-means++',\n",
    "         n_init=10,\n",
    "         max_iter=300,\n",
    "         tol=0.0001,\n",
    "         random_state=2020)"
   ]
  },
  {
   "cell_type": "code",
   "execution_count": 53,
   "metadata": {},
   "outputs": [
    {
     "data": {
      "text/plain": [
       "array([1, 0, 0, ..., 0, 0, 0])"
      ]
     },
     "execution_count": 53,
     "metadata": {},
     "output_type": "execute_result"
    }
   ],
   "source": [
    "y_kmeans=km.fit_predict(X_mms)\n",
    "y_kmeans"
   ]
  },
  {
   "cell_type": "code",
   "execution_count": 54,
   "metadata": {},
   "outputs": [
    {
     "data": {
      "text/plain": [
       "array([[0.31715486, 0.28737899],\n",
       "       [0.33976451, 0.29772993],\n",
       "       [0.29186574, 0.3672821 ]])"
      ]
     },
     "execution_count": 54,
     "metadata": {},
     "output_type": "execute_result"
    }
   ],
   "source": [
    "km.cluster_centers_"
   ]
  },
  {
   "cell_type": "code",
   "execution_count": 58,
   "metadata": {},
   "outputs": [
    {
     "data": {
      "image/png": "[encoded data removed]",
      "text/plain": [
       "<Figure size 460.8x345.6 with 1 Axes>"
      ]
     },
     "metadata": {
      "needs_background": "light"
     },
     "output_type": "display_data"
    }
   ],
   "source": [
    "plt.scatter(X_mms[y_kmeans==0,0],X_mms[y_kmeans==0,1],s=50,c=\"red\",label=\"Ruta A\")\n",
    "plt.scatter(X_mms[y_kmeans==1,0],X_mms[y_kmeans==1,1],s=50,c=\"blue\",label=\"Ruta B\")\n",
    "plt.scatter(X_mms[y_kmeans==2,0],X_mms[y_kmeans==2,1],s=50,c=\"green\",label=\"Ruta C\")\n",
    "\n",
    "plt.scatter(km.cluster_centers_[:,0],km.cluster_centers_[:,1],s=100,c=\"yellow\", label=\"centroides\")\n",
    "plt.legend()\n",
    "plt.show()"
   ]
  },
  {
   "cell_type": "code",
   "execution_count": 59,
   "metadata": {},
   "outputs": [
    {
     "data": {
      "text/html": [
       "<div>\n",
       "<style scoped>\n",
       "    .dataframe tbody tr th:only-of-type {\n",
       "        vertical-align: middle;\n",
       "    }\n",
       "\n",
       "    .dataframe tbody tr th {\n",
       "        vertical-align: top;\n",
       "    }\n",
       "\n",
       "    .dataframe thead th {\n",
       "        text-align: right;\n",
       "    }\n",
       "</style>\n",
       "<table border=\"1\" class=\"dataframe\">\n",
       "  <thead>\n",
       "    <tr style=\"text-align: right;\">\n",
       "      <th></th>\n",
       "      <th>cluster_label</th>\n",
       "    </tr>\n",
       "  </thead>\n",
       "  <tbody>\n",
       "    <tr>\n",
       "      <th>0</th>\n",
       "      <td>1</td>\n",
       "    </tr>\n",
       "    <tr>\n",
       "      <th>1</th>\n",
       "      <td>0</td>\n",
       "    </tr>\n",
       "    <tr>\n",
       "      <th>2</th>\n",
       "      <td>0</td>\n",
       "    </tr>\n",
       "    <tr>\n",
       "      <th>3</th>\n",
       "      <td>1</td>\n",
       "    </tr>\n",
       "    <tr>\n",
       "      <th>4</th>\n",
       "      <td>1</td>\n",
       "    </tr>\n",
       "  </tbody>\n",
       "</table>\n",
       "</div>"
      ],
      "text/plain": [
       "   cluster_label\n",
       "0              1\n",
       "1              0\n",
       "2              0\n",
       "3              1\n",
       "4              1"
      ]
     },
     "execution_count": 59,
     "metadata": {},
     "output_type": "execute_result"
    }
   ],
   "source": [
    "y_kmeans=pd.DataFrame(y_kmeans,columns=[\"cluster_label\"])\n",
    "y_kmeans.head()"
   ]
  },
  {
   "cell_type": "code",
   "execution_count": 63,
   "metadata": {},
   "outputs": [
    {
     "data": {
      "text/html": [
       "<div>\n",
       "<style scoped>\n",
       "    .dataframe tbody tr th:only-of-type {\n",
       "        vertical-align: middle;\n",
       "    }\n",
       "\n",
       "    .dataframe tbody tr th {\n",
       "        vertical-align: top;\n",
       "    }\n",
       "\n",
       "    .dataframe thead th {\n",
       "        text-align: right;\n",
       "    }\n",
       "</style>\n",
       "<table border=\"1\" class=\"dataframe\">\n",
       "  <thead>\n",
       "    <tr style=\"text-align: right;\">\n",
       "      <th></th>\n",
       "      <th>Date/Time</th>\n",
       "      <th>Lat</th>\n",
       "      <th>Lon</th>\n",
       "      <th>Base</th>\n",
       "      <th>cluster_label</th>\n",
       "    </tr>\n",
       "  </thead>\n",
       "  <tbody>\n",
       "    <tr>\n",
       "      <th>0</th>\n",
       "      <td>4/1/2014 0:11:00</td>\n",
       "      <td>40.7690</td>\n",
       "      <td>-73.9549</td>\n",
       "      <td>B02512</td>\n",
       "      <td>1</td>\n",
       "    </tr>\n",
       "    <tr>\n",
       "      <th>1</th>\n",
       "      <td>4/1/2014 0:17:00</td>\n",
       "      <td>40.7267</td>\n",
       "      <td>-74.0345</td>\n",
       "      <td>B02512</td>\n",
       "      <td>0</td>\n",
       "    </tr>\n",
       "    <tr>\n",
       "      <th>2</th>\n",
       "      <td>4/1/2014 0:21:00</td>\n",
       "      <td>40.7316</td>\n",
       "      <td>-73.9873</td>\n",
       "      <td>B02512</td>\n",
       "      <td>0</td>\n",
       "    </tr>\n",
       "    <tr>\n",
       "      <th>3</th>\n",
       "      <td>4/1/2014 0:28:00</td>\n",
       "      <td>40.7588</td>\n",
       "      <td>-73.9776</td>\n",
       "      <td>B02512</td>\n",
       "      <td>1</td>\n",
       "    </tr>\n",
       "    <tr>\n",
       "      <th>4</th>\n",
       "      <td>4/1/2014 0:33:00</td>\n",
       "      <td>40.7594</td>\n",
       "      <td>-73.9722</td>\n",
       "      <td>B02512</td>\n",
       "      <td>1</td>\n",
       "    </tr>\n",
       "  </tbody>\n",
       "</table>\n",
       "</div>"
      ],
      "text/plain": [
       "          Date/Time      Lat      Lon    Base  cluster_label\n",
       "0  4/1/2014 0:11:00  40.7690 -73.9549  B02512              1\n",
       "1  4/1/2014 0:17:00  40.7267 -74.0345  B02512              0\n",
       "2  4/1/2014 0:21:00  40.7316 -73.9873  B02512              0\n",
       "3  4/1/2014 0:28:00  40.7588 -73.9776  B02512              1\n",
       "4  4/1/2014 0:33:00  40.7594 -73.9722  B02512              1"
      ]
     },
     "execution_count": 63,
     "metadata": {},
     "output_type": "execute_result"
    }
   ],
   "source": [
    "#Adicionando las etiquetas a mi data original\n",
    "miArchivo='uber-raw-data-apr14.csv'\n",
    "data=pd.read_csv(miArchivo)\n",
    "\n",
    "datafinal=pd.concat([data,y_kmeans],axis=1)\n",
    "datafinal.head()"
   ]
  },
  {
   "cell_type": "markdown",
   "metadata": {},
   "source": [
    "## CASO: Segmentación de Clientes"
   ]
  },
  {
   "cell_type": "code",
   "execution_count": 10,
   "metadata": {},
   "outputs": [
    {
     "name": "stdout",
     "output_type": "stream",
     "text": [
      "<class 'pandas.core.frame.DataFrame'>\n",
      "RangeIndex: 200 entries, 0 to 199\n",
      "Data columns (total 5 columns):\n",
      " #   Column                  Non-Null Count  Dtype \n",
      "---  ------                  --------------  ----- \n",
      " 0   CustomerID              200 non-null    int64 \n",
      " 1   Gender                  200 non-null    object\n",
      " 2   Age                     200 non-null    int64 \n",
      " 3   Annual Income (k$)      200 non-null    int64 \n",
      " 4   Spending Score (1-100)  200 non-null    int64 \n",
      "dtypes: int64(4), object(1)\n",
      "memory usage: 7.9+ KB\n"
     ]
    }
   ],
   "source": [
    "#Importando nuestro archivo de trabajo\n",
    "miarchivo=\"Mall_Customers.csv\"\n",
    "data=pd.read_csv(miarchivo)\n",
    "data.info()"
   ]
  },
  {
   "cell_type": "code",
   "execution_count": 11,
   "metadata": {},
   "outputs": [
    {
     "data": {
      "text/html": [
       "<div>\n",
       "<style scoped>\n",
       "    .dataframe tbody tr th:only-of-type {\n",
       "        vertical-align: middle;\n",
       "    }\n",
       "\n",
       "    .dataframe tbody tr th {\n",
       "        vertical-align: top;\n",
       "    }\n",
       "\n",
       "    .dataframe thead th {\n",
       "        text-align: right;\n",
       "    }\n",
       "</style>\n",
       "<table border=\"1\" class=\"dataframe\">\n",
       "  <thead>\n",
       "    <tr style=\"text-align: right;\">\n",
       "      <th></th>\n",
       "      <th>CustomerID</th>\n",
       "      <th>Gender</th>\n",
       "      <th>Age</th>\n",
       "      <th>Annual Income (k$)</th>\n",
       "      <th>Spending Score (1-100)</th>\n",
       "    </tr>\n",
       "  </thead>\n",
       "  <tbody>\n",
       "    <tr>\n",
       "      <th>0</th>\n",
       "      <td>1</td>\n",
       "      <td>Male</td>\n",
       "      <td>19</td>\n",
       "      <td>15</td>\n",
       "      <td>39</td>\n",
       "    </tr>\n",
       "    <tr>\n",
       "      <th>1</th>\n",
       "      <td>2</td>\n",
       "      <td>Male</td>\n",
       "      <td>21</td>\n",
       "      <td>15</td>\n",
       "      <td>81</td>\n",
       "    </tr>\n",
       "    <tr>\n",
       "      <th>2</th>\n",
       "      <td>3</td>\n",
       "      <td>Female</td>\n",
       "      <td>20</td>\n",
       "      <td>16</td>\n",
       "      <td>6</td>\n",
       "    </tr>\n",
       "    <tr>\n",
       "      <th>3</th>\n",
       "      <td>4</td>\n",
       "      <td>Female</td>\n",
       "      <td>23</td>\n",
       "      <td>16</td>\n",
       "      <td>77</td>\n",
       "    </tr>\n",
       "    <tr>\n",
       "      <th>4</th>\n",
       "      <td>5</td>\n",
       "      <td>Female</td>\n",
       "      <td>31</td>\n",
       "      <td>17</td>\n",
       "      <td>40</td>\n",
       "    </tr>\n",
       "  </tbody>\n",
       "</table>\n",
       "</div>"
      ],
      "text/plain": [
       "   CustomerID  Gender  Age  Annual Income (k$)  Spending Score (1-100)\n",
       "0           1    Male   19                  15                      39\n",
       "1           2    Male   21                  15                      81\n",
       "2           3  Female   20                  16                       6\n",
       "3           4  Female   23                  16                      77\n",
       "4           5  Female   31                  17                      40"
      ]
     },
     "execution_count": 11,
     "metadata": {},
     "output_type": "execute_result"
    }
   ],
   "source": [
    "#Mostrando la cabecera de los datos\n",
    "data.head()"
   ]
  },
  {
   "cell_type": "code",
   "execution_count": 12,
   "metadata": {},
   "outputs": [],
   "source": [
    "#Estableciendo nuestra matriz de datos X\n",
    "x=data.iloc[:,[3,4]].values"
   ]
  },
  {
   "cell_type": "code",
   "execution_count": 13,
   "metadata": {},
   "outputs": [],
   "source": [
    "#Escalamiento de nuestra matriz de datos X\n",
    "mms=MinMaxScaler()\n",
    "x_mms=mms.fit_transform(x)"
   ]
  },
  {
   "cell_type": "markdown",
   "metadata": {},
   "source": [
    "## Hallamos número optimo de cluster con el metodo silueta"
   ]
  },
  {
   "cell_type": "code",
   "execution_count": 14,
   "metadata": {},
   "outputs": [],
   "source": [
    "silueta=[]\n",
    "for i in range(2,11):\n",
    "    km=KMeans(n_clusters=i,\n",
    "             init='k-means++',\n",
    "             n_init=10,\n",
    "             tol=0.0004,\n",
    "             random_state=2020)\n",
    "    silueta.append(silhouette_score(x_mms,km.fit_predict(x_mms)))"
   ]
  },
  {
   "cell_type": "code",
   "execution_count": 15,
   "metadata": {},
   "outputs": [
    {
     "data": {
      "image/png": "[encoded data removed]",
      "text/plain": [
       "<Figure size 432x288 with 1 Axes>"
      ]
     },
     "metadata": {
      "needs_background": "light"
     },
     "output_type": "display_data"
    }
   ],
   "source": [
    "#Visualzando los valores de Silueta\n",
    "plt.plot(range(2,11),\n",
    "        silueta,\n",
    "        marker='v')\n",
    "plt.title('Método de Silueta para Clústers')\n",
    "plt.ylabel('Valores de Silueta Promedio')\n",
    "plt.xlabel('Número de Clústers')\n",
    "plt.show()"
   ]
  },
  {
   "cell_type": "code",
   "execution_count": 16,
   "metadata": {},
   "outputs": [],
   "source": [
    "km=KMeans(n_clusters=5,\n",
    "         init='k-means++',\n",
    "         n_init=10,\n",
    "         max_iter=300,\n",
    "         tol=0.0001,\n",
    "         random_state=0)\n",
    "y_kmeans=km.fit_predict(x_mms)"
   ]
  },
  {
   "cell_type": "code",
   "execution_count": 18,
   "metadata": {},
   "outputs": [
    {
     "data": {
      "image/png": "[encoded data removed]",
      "text/plain": [
       "<Figure size 432x288 with 1 Axes>"
      ]
     },
     "metadata": {
      "needs_background": "light"
     },
     "output_type": "display_data"
    }
   ],
   "source": [
    "plt.scatter(x_mms[y_kmeans==0,0],x_mms[y_kmeans==0,1],s=50,c=\"red\",label=\"Grupo A\")\n",
    "plt.scatter(x_mms[y_kmeans==1,0],x_mms[y_kmeans==1,1],s=50,c=\"blue\",label=\"Grupo B\")\n",
    "plt.scatter(x_mms[y_kmeans==2,0],x_mms[y_kmeans==2,1],s=50,c=\"green\",label=\"Grupo C\")\n",
    "plt.scatter(x_mms[y_kmeans==3,0],x_mms[y_kmeans==3,1],s=50,c=\"skyblue\",label=\"Grupo D\")\n",
    "plt.scatter(x_mms[y_kmeans==4,0],x_mms[y_kmeans==4,1],s=50,c=\"orange\",label=\"Grupo E\")\n",
    "\n",
    "\n",
    "plt.scatter(km.cluster_centers_[:,0],km.cluster_centers_[:,1],s=200,c=\"purple\", label=\"centroides\")\n",
    "plt.title('K-Means Clustering')\n",
    "plt.xlabel('Ingresos anuales')\n",
    "plt.ylabel('Score de gastos')\n",
    "plt.legend(bbox_to_anchor=(1.01,0.5),loc=2)\n",
    "plt.show()"
   ]
  },
  {
   "cell_type": "markdown",
   "metadata": {},
   "source": [
    "**Perfilamiento**"
   ]
  },
  {
   "cell_type": "code",
   "execution_count": 19,
   "metadata": {},
   "outputs": [
    {
     "data": {
      "text/html": [
       "<div>\n",
       "<style scoped>\n",
       "    .dataframe tbody tr th:only-of-type {\n",
       "        vertical-align: middle;\n",
       "    }\n",
       "\n",
       "    .dataframe tbody tr th {\n",
       "        vertical-align: top;\n",
       "    }\n",
       "\n",
       "    .dataframe thead th {\n",
       "        text-align: right;\n",
       "    }\n",
       "</style>\n",
       "<table border=\"1\" class=\"dataframe\">\n",
       "  <thead>\n",
       "    <tr style=\"text-align: right;\">\n",
       "      <th></th>\n",
       "      <th>cluster_label</th>\n",
       "    </tr>\n",
       "  </thead>\n",
       "  <tbody>\n",
       "    <tr>\n",
       "      <th>0</th>\n",
       "      <td>4</td>\n",
       "    </tr>\n",
       "    <tr>\n",
       "      <th>1</th>\n",
       "      <td>3</td>\n",
       "    </tr>\n",
       "    <tr>\n",
       "      <th>2</th>\n",
       "      <td>4</td>\n",
       "    </tr>\n",
       "    <tr>\n",
       "      <th>3</th>\n",
       "      <td>3</td>\n",
       "    </tr>\n",
       "    <tr>\n",
       "      <th>4</th>\n",
       "      <td>4</td>\n",
       "    </tr>\n",
       "  </tbody>\n",
       "</table>\n",
       "</div>"
      ],
      "text/plain": [
       "   cluster_label\n",
       "0              4\n",
       "1              3\n",
       "2              4\n",
       "3              3\n",
       "4              4"
      ]
     },
     "execution_count": 19,
     "metadata": {},
     "output_type": "execute_result"
    }
   ],
   "source": [
    "y_kmeans=pd.DataFrame(y_kmeans,columns=['cluster_label'])\n",
    "y_kmeans.head()"
   ]
  },
  {
   "cell_type": "code",
   "execution_count": 20,
   "metadata": {},
   "outputs": [
    {
     "data": {
      "text/html": [
       "<div>\n",
       "<style scoped>\n",
       "    .dataframe tbody tr th:only-of-type {\n",
       "        vertical-align: middle;\n",
       "    }\n",
       "\n",
       "    .dataframe tbody tr th {\n",
       "        vertical-align: top;\n",
       "    }\n",
       "\n",
       "    .dataframe thead th {\n",
       "        text-align: right;\n",
       "    }\n",
       "</style>\n",
       "<table border=\"1\" class=\"dataframe\">\n",
       "  <thead>\n",
       "    <tr style=\"text-align: right;\">\n",
       "      <th></th>\n",
       "      <th>Annual Income (k$)</th>\n",
       "      <th>Spending Score (1-100)</th>\n",
       "    </tr>\n",
       "  </thead>\n",
       "  <tbody>\n",
       "    <tr>\n",
       "      <th>0</th>\n",
       "      <td>15</td>\n",
       "      <td>39</td>\n",
       "    </tr>\n",
       "    <tr>\n",
       "      <th>1</th>\n",
       "      <td>15</td>\n",
       "      <td>81</td>\n",
       "    </tr>\n",
       "    <tr>\n",
       "      <th>2</th>\n",
       "      <td>16</td>\n",
       "      <td>6</td>\n",
       "    </tr>\n",
       "    <tr>\n",
       "      <th>3</th>\n",
       "      <td>16</td>\n",
       "      <td>77</td>\n",
       "    </tr>\n",
       "    <tr>\n",
       "      <th>4</th>\n",
       "      <td>17</td>\n",
       "      <td>40</td>\n",
       "    </tr>\n",
       "    <tr>\n",
       "      <th>...</th>\n",
       "      <td>...</td>\n",
       "      <td>...</td>\n",
       "    </tr>\n",
       "    <tr>\n",
       "      <th>195</th>\n",
       "      <td>120</td>\n",
       "      <td>79</td>\n",
       "    </tr>\n",
       "    <tr>\n",
       "      <th>196</th>\n",
       "      <td>126</td>\n",
       "      <td>28</td>\n",
       "    </tr>\n",
       "    <tr>\n",
       "      <th>197</th>\n",
       "      <td>126</td>\n",
       "      <td>74</td>\n",
       "    </tr>\n",
       "    <tr>\n",
       "      <th>198</th>\n",
       "      <td>137</td>\n",
       "      <td>18</td>\n",
       "    </tr>\n",
       "    <tr>\n",
       "      <th>199</th>\n",
       "      <td>137</td>\n",
       "      <td>83</td>\n",
       "    </tr>\n",
       "  </tbody>\n",
       "</table>\n",
       "<p>200 rows × 2 columns</p>\n",
       "</div>"
      ],
      "text/plain": [
       "     Annual Income (k$)  Spending Score (1-100)\n",
       "0                    15                      39\n",
       "1                    15                      81\n",
       "2                    16                       6\n",
       "3                    16                      77\n",
       "4                    17                      40\n",
       "..                  ...                     ...\n",
       "195                 120                      79\n",
       "196                 126                      28\n",
       "197                 126                      74\n",
       "198                 137                      18\n",
       "199                 137                      83\n",
       "\n",
       "[200 rows x 2 columns]"
      ]
     },
     "execution_count": 20,
     "metadata": {},
     "output_type": "execute_result"
    }
   ],
   "source": [
    "x_df=pd.DataFrame(x,columns=['Annual Income (k$)','Spending Score (1-100)'])\n",
    "x_df"
   ]
  },
  {
   "cell_type": "code",
   "execution_count": 21,
   "metadata": {},
   "outputs": [
    {
     "data": {
      "text/html": [
       "<div>\n",
       "<style scoped>\n",
       "    .dataframe tbody tr th:only-of-type {\n",
       "        vertical-align: middle;\n",
       "    }\n",
       "\n",
       "    .dataframe tbody tr th {\n",
       "        vertical-align: top;\n",
       "    }\n",
       "\n",
       "    .dataframe thead th {\n",
       "        text-align: right;\n",
       "    }\n",
       "</style>\n",
       "<table border=\"1\" class=\"dataframe\">\n",
       "  <thead>\n",
       "    <tr style=\"text-align: right;\">\n",
       "      <th></th>\n",
       "      <th>Annual Income (k$)</th>\n",
       "      <th>Spending Score (1-100)</th>\n",
       "      <th>cluster_label</th>\n",
       "    </tr>\n",
       "  </thead>\n",
       "  <tbody>\n",
       "    <tr>\n",
       "      <th>0</th>\n",
       "      <td>15</td>\n",
       "      <td>39</td>\n",
       "      <td>4</td>\n",
       "    </tr>\n",
       "    <tr>\n",
       "      <th>1</th>\n",
       "      <td>15</td>\n",
       "      <td>81</td>\n",
       "      <td>3</td>\n",
       "    </tr>\n",
       "    <tr>\n",
       "      <th>2</th>\n",
       "      <td>16</td>\n",
       "      <td>6</td>\n",
       "      <td>4</td>\n",
       "    </tr>\n",
       "    <tr>\n",
       "      <th>3</th>\n",
       "      <td>16</td>\n",
       "      <td>77</td>\n",
       "      <td>3</td>\n",
       "    </tr>\n",
       "    <tr>\n",
       "      <th>4</th>\n",
       "      <td>17</td>\n",
       "      <td>40</td>\n",
       "      <td>4</td>\n",
       "    </tr>\n",
       "  </tbody>\n",
       "</table>\n",
       "</div>"
      ],
      "text/plain": [
       "   Annual Income (k$)  Spending Score (1-100)  cluster_label\n",
       "0                  15                      39              4\n",
       "1                  15                      81              3\n",
       "2                  16                       6              4\n",
       "3                  16                      77              3\n",
       "4                  17                      40              4"
      ]
     },
     "execution_count": 21,
     "metadata": {},
     "output_type": "execute_result"
    }
   ],
   "source": [
    "datafinal=pd.concat([x_df,y_kmeans],axis=1)\n",
    "datafinal.head()"
   ]
  },
  {
   "cell_type": "code",
   "execution_count": 22,
   "metadata": {},
   "outputs": [
    {
     "data": {
      "text/html": [
       "<div>\n",
       "<style scoped>\n",
       "    .dataframe tbody tr th:only-of-type {\n",
       "        vertical-align: middle;\n",
       "    }\n",
       "\n",
       "    .dataframe tbody tr th {\n",
       "        vertical-align: top;\n",
       "    }\n",
       "\n",
       "    .dataframe thead th {\n",
       "        text-align: right;\n",
       "    }\n",
       "</style>\n",
       "<table border=\"1\" class=\"dataframe\">\n",
       "  <thead>\n",
       "    <tr style=\"text-align: right;\">\n",
       "      <th></th>\n",
       "      <th>Annual Income (k$)</th>\n",
       "      <th>Spending Score (1-100)</th>\n",
       "    </tr>\n",
       "    <tr>\n",
       "      <th>cluster_label</th>\n",
       "      <th></th>\n",
       "      <th></th>\n",
       "    </tr>\n",
       "  </thead>\n",
       "  <tbody>\n",
       "    <tr>\n",
       "      <th>0</th>\n",
       "      <td>88.2</td>\n",
       "      <td>17.1</td>\n",
       "    </tr>\n",
       "    <tr>\n",
       "      <th>1</th>\n",
       "      <td>55.3</td>\n",
       "      <td>49.5</td>\n",
       "    </tr>\n",
       "    <tr>\n",
       "      <th>2</th>\n",
       "      <td>86.5</td>\n",
       "      <td>82.1</td>\n",
       "    </tr>\n",
       "    <tr>\n",
       "      <th>3</th>\n",
       "      <td>25.7</td>\n",
       "      <td>79.4</td>\n",
       "    </tr>\n",
       "    <tr>\n",
       "      <th>4</th>\n",
       "      <td>26.3</td>\n",
       "      <td>20.9</td>\n",
       "    </tr>\n",
       "  </tbody>\n",
       "</table>\n",
       "</div>"
      ],
      "text/plain": [
       "               Annual Income (k$)  Spending Score (1-100)\n",
       "cluster_label                                            \n",
       "0                            88.2                    17.1\n",
       "1                            55.3                    49.5\n",
       "2                            86.5                    82.1\n",
       "3                            25.7                    79.4\n",
       "4                            26.3                    20.9"
      ]
     },
     "execution_count": 22,
     "metadata": {},
     "output_type": "execute_result"
    }
   ],
   "source": [
    "#Trabajando la media por clusters\n",
    "cluster_means=datafinal.groupby(['cluster_label']).mean().round(1)\n",
    "cluster_means"
   ]
  },
  {
   "cell_type": "markdown",
   "metadata": {},
   "source": [
    "# CLARANS"
   ]
  },
  {
   "cell_type": "code",
   "execution_count": 1,
   "metadata": {
    "scrolled": true
   },
   "outputs": [],
   "source": [
    "#pip install pyclustering"
   ]
  },
  {
   "cell_type": "code",
   "execution_count": 5,
   "metadata": {},
   "outputs": [],
   "source": [
    "from pyclustering.cluster.clarans import clarans\n",
    "from pyclustering.utils import timedcall"
   ]
  },
  {
   "cell_type": "code",
   "execution_count": 9,
   "metadata": {},
   "outputs": [],
   "source": [
    "miarchivo=\"democracias_latam.sav\"\n",
    "df=pd.read_spss(miarchivo)"
   ]
  },
  {
   "cell_type": "code",
   "execution_count": 23,
   "metadata": {},
   "outputs": [
    {
     "data": {
      "text/html": [
       "<div>\n",
       "<style scoped>\n",
       "    .dataframe tbody tr th:only-of-type {\n",
       "        vertical-align: middle;\n",
       "    }\n",
       "\n",
       "    .dataframe tbody tr th {\n",
       "        vertical-align: top;\n",
       "    }\n",
       "\n",
       "    .dataframe thead th {\n",
       "        text-align: right;\n",
       "    }\n",
       "</style>\n",
       "<table border=\"1\" class=\"dataframe\">\n",
       "  <thead>\n",
       "    <tr style=\"text-align: right;\">\n",
       "      <th></th>\n",
       "      <th>tipoddem</th>\n",
       "      <th>pais</th>\n",
       "      <th>posicion</th>\n",
       "      <th>puntaj</th>\n",
       "      <th>ppelec</th>\n",
       "      <th>fdelgob</th>\n",
       "      <th>partpk</th>\n",
       "      <th>cultpk</th>\n",
       "      <th>libciv</th>\n",
       "    </tr>\n",
       "  </thead>\n",
       "  <tbody>\n",
       "    <tr>\n",
       "      <th>0</th>\n",
       "      <td>Democracia plena</td>\n",
       "      <td>Costa Rica</td>\n",
       "      <td>25.0</td>\n",
       "      <td>8.04</td>\n",
       "      <td>9.58</td>\n",
       "      <td>8.21</td>\n",
       "      <td>6.11</td>\n",
       "      <td>6.88</td>\n",
       "      <td>9.41</td>\n",
       "    </tr>\n",
       "    <tr>\n",
       "      <th>1</th>\n",
       "      <td>Democracia plena</td>\n",
       "      <td>Uruguay</td>\n",
       "      <td>27.0</td>\n",
       "      <td>7.96</td>\n",
       "      <td>10.00</td>\n",
       "      <td>8.21</td>\n",
       "      <td>5.00</td>\n",
       "      <td>6.88</td>\n",
       "      <td>9.71</td>\n",
       "    </tr>\n",
       "    <tr>\n",
       "      <th>2</th>\n",
       "      <td>Democracia debil</td>\n",
       "      <td>Argentina</td>\n",
       "      <td>54.0</td>\n",
       "      <td>6.63</td>\n",
       "      <td>8.75</td>\n",
       "      <td>5.00</td>\n",
       "      <td>5.56</td>\n",
       "      <td>5.63</td>\n",
       "      <td>8.24</td>\n",
       "    </tr>\n",
       "    <tr>\n",
       "      <th>3</th>\n",
       "      <td>Democracia debil</td>\n",
       "      <td>Bolivia</td>\n",
       "      <td>81.0</td>\n",
       "      <td>5.98</td>\n",
       "      <td>8.33</td>\n",
       "      <td>5.71</td>\n",
       "      <td>4.44</td>\n",
       "      <td>3.75</td>\n",
       "      <td>7.65</td>\n",
       "    </tr>\n",
       "    <tr>\n",
       "      <th>4</th>\n",
       "      <td>Democracia debil</td>\n",
       "      <td>Brazil</td>\n",
       "      <td>42.0</td>\n",
       "      <td>7.38</td>\n",
       "      <td>9.58</td>\n",
       "      <td>7.86</td>\n",
       "      <td>4.44</td>\n",
       "      <td>5.63</td>\n",
       "      <td>9.41</td>\n",
       "    </tr>\n",
       "    <tr>\n",
       "      <th>5</th>\n",
       "      <td>Democracia debil</td>\n",
       "      <td>Chile</td>\n",
       "      <td>30.0</td>\n",
       "      <td>7.89</td>\n",
       "      <td>9.58</td>\n",
       "      <td>8.93</td>\n",
       "      <td>5.00</td>\n",
       "      <td>6.25</td>\n",
       "      <td>9.71</td>\n",
       "    </tr>\n",
       "    <tr>\n",
       "      <th>6</th>\n",
       "      <td>Democracia debil</td>\n",
       "      <td>Colombia</td>\n",
       "      <td>67.0</td>\n",
       "      <td>6.40</td>\n",
       "      <td>9.17</td>\n",
       "      <td>4.36</td>\n",
       "      <td>5.00</td>\n",
       "      <td>4.38</td>\n",
       "      <td>9.12</td>\n",
       "    </tr>\n",
       "    <tr>\n",
       "      <th>7</th>\n",
       "      <td>Democracia debil</td>\n",
       "      <td>Dom Rep</td>\n",
       "      <td>74.0</td>\n",
       "      <td>6.13</td>\n",
       "      <td>9.17</td>\n",
       "      <td>4.29</td>\n",
       "      <td>3.33</td>\n",
       "      <td>5.63</td>\n",
       "      <td>8.24</td>\n",
       "    </tr>\n",
       "    <tr>\n",
       "      <th>8</th>\n",
       "      <td>Democracia debil</td>\n",
       "      <td>El Salvador</td>\n",
       "      <td>70.0</td>\n",
       "      <td>6.22</td>\n",
       "      <td>9.17</td>\n",
       "      <td>5.43</td>\n",
       "      <td>3.89</td>\n",
       "      <td>4.38</td>\n",
       "      <td>8.24</td>\n",
       "    </tr>\n",
       "    <tr>\n",
       "      <th>9</th>\n",
       "      <td>Democracia debil</td>\n",
       "      <td>Guatemala</td>\n",
       "      <td>77.0</td>\n",
       "      <td>6.07</td>\n",
       "      <td>8.75</td>\n",
       "      <td>6.79</td>\n",
       "      <td>2.78</td>\n",
       "      <td>4.38</td>\n",
       "      <td>7.65</td>\n",
       "    </tr>\n",
       "  </tbody>\n",
       "</table>\n",
       "</div>"
      ],
      "text/plain": [
       "           tipoddem         pais  posicion  puntaj  ppelec  fdelgob  partpk  \\\n",
       "0  Democracia plena   Costa Rica      25.0    8.04    9.58     8.21    6.11   \n",
       "1  Democracia plena      Uruguay      27.0    7.96   10.00     8.21    5.00   \n",
       "2  Democracia debil    Argentina      54.0    6.63    8.75     5.00    5.56   \n",
       "3  Democracia debil      Bolivia      81.0    5.98    8.33     5.71    4.44   \n",
       "4  Democracia debil       Brazil      42.0    7.38    9.58     7.86    4.44   \n",
       "5  Democracia debil        Chile      30.0    7.89    9.58     8.93    5.00   \n",
       "6  Democracia debil     Colombia      67.0    6.40    9.17     4.36    5.00   \n",
       "7  Democracia debil      Dom Rep      74.0    6.13    9.17     4.29    3.33   \n",
       "8  Democracia debil  El Salvador      70.0    6.22    9.17     5.43    3.89   \n",
       "9  Democracia debil    Guatemala      77.0    6.07    8.75     6.79    2.78   \n",
       "\n",
       "   cultpk  libciv  \n",
       "0    6.88    9.41  \n",
       "1    6.88    9.71  \n",
       "2    5.63    8.24  \n",
       "3    3.75    7.65  \n",
       "4    5.63    9.41  \n",
       "5    6.25    9.71  \n",
       "6    4.38    9.12  \n",
       "7    5.63    8.24  \n",
       "8    4.38    8.24  \n",
       "9    4.38    7.65  "
      ]
     },
     "execution_count": 23,
     "metadata": {},
     "output_type": "execute_result"
    }
   ],
   "source": [
    "df.head(10)"
   ]
  },
  {
   "cell_type": "code",
   "execution_count": 24,
   "metadata": {},
   "outputs": [],
   "source": [
    "#Estableciendo nuestra matriz de datos\n",
    "X=df.iloc[:,4:].values"
   ]
  },
  {
   "cell_type": "code",
   "execution_count": 25,
   "metadata": {},
   "outputs": [],
   "source": [
    "mms=MinMaxScaler()\n",
    "X_mms=mms.fit_transform(X)"
   ]
  },
  {
   "cell_type": "code",
   "execution_count": 26,
   "metadata": {},
   "outputs": [],
   "source": [
    "#Estableciendo una semilla e instanciando un objeto de la clase clarans\n",
    "np.random.seed(2020)#semilla\n",
    "clarans_instance=clarans(X_mms, #data\n",
    "                         3, #numero de cluster\n",
    "                        30, #iteraciones\n",
    "                        4) #vecinos"
   ]
  },
  {
   "cell_type": "code",
   "execution_count": 27,
   "metadata": {},
   "outputs": [],
   "source": [
    "#Llamar al metodo de clarans para implementar el algoritmo por detrás\n",
    "np.random.seed(2020)#semilla\n",
    "(time,result)=timedcall(clarans_instance.process)"
   ]
  },
  {
   "cell_type": "code",
   "execution_count": 29,
   "metadata": {},
   "outputs": [
    {
     "data": {
      "text/plain": [
       "[[0, 1, 4, 5], [3, 7, 8, 9, 10, 13, 15, 16, 18, 19], [2, 6, 11, 12, 14, 17]]"
      ]
     },
     "execution_count": 29,
     "metadata": {},
     "output_type": "execute_result"
    }
   ],
   "source": [
    "#Obtener las observaciones pertenecientes a los clusters obtenidos por clarans\n",
    "np.random.seed(2020)\n",
    "clusters=clarans_instance.get_clusters()\n",
    "clusters"
   ]
  },
  {
   "cell_type": "code",
   "execution_count": 30,
   "metadata": {},
   "outputs": [
    {
     "data": {
      "text/plain": [
       "[5, 3, 2]"
      ]
     },
     "execution_count": 30,
     "metadata": {},
     "output_type": "execute_result"
    }
   ],
   "source": [
    "#Obteniendo los medoides\n",
    "clarans_instance.get_medoids()"
   ]
  },
  {
   "cell_type": "code",
   "execution_count": 31,
   "metadata": {},
   "outputs": [
    {
     "data": {
      "text/plain": [
       "[0, 1, 4, 5]"
      ]
     },
     "execution_count": 31,
     "metadata": {},
     "output_type": "execute_result"
    }
   ],
   "source": [
    "#Obteniendo el primer cluster\n",
    "clusters[0]"
   ]
  },
  {
   "cell_type": "code",
   "execution_count": 32,
   "metadata": {},
   "outputs": [
    {
     "data": {
      "text/plain": [
       "[3, 7, 8, 9, 10, 13, 15, 16, 18, 19]"
      ]
     },
     "execution_count": 32,
     "metadata": {},
     "output_type": "execute_result"
    }
   ],
   "source": [
    "#Obteniendo el segundo cluster\n",
    "clusters[1]"
   ]
  },
  {
   "cell_type": "code",
   "execution_count": 33,
   "metadata": {},
   "outputs": [
    {
     "data": {
      "text/plain": [
       "[2, 6, 11, 12, 14, 17]"
      ]
     },
     "execution_count": 33,
     "metadata": {},
     "output_type": "execute_result"
    }
   ],
   "source": [
    "#Obteniendo el tercer cluster\n",
    "clusters[2]"
   ]
  },
  {
   "cell_type": "code",
   "execution_count": 36,
   "metadata": {},
   "outputs": [],
   "source": [
    "#Creo un Dataframe vacio\n",
    "df_x=pd.DataFrame({},columns=[])\n",
    "#Para cada cluster voy a colocar los valores del cluster en una nueva columna Llamada cluster\n",
    "for i in range(0,len(clusters)):\n",
    "    df['cluster']=None\n",
    "    dfb=df.loc[clusters[i],]\n",
    "    dfb.cluster=i\n",
    "    df_x=pd.concat([df_x,dfb])"
   ]
  },
  {
   "cell_type": "code",
   "execution_count": 38,
   "metadata": {},
   "outputs": [
    {
     "data": {
      "text/html": [
       "<div>\n",
       "<style scoped>\n",
       "    .dataframe tbody tr th:only-of-type {\n",
       "        vertical-align: middle;\n",
       "    }\n",
       "\n",
       "    .dataframe tbody tr th {\n",
       "        vertical-align: top;\n",
       "    }\n",
       "\n",
       "    .dataframe thead th {\n",
       "        text-align: right;\n",
       "    }\n",
       "</style>\n",
       "<table border=\"1\" class=\"dataframe\">\n",
       "  <thead>\n",
       "    <tr style=\"text-align: right;\">\n",
       "      <th></th>\n",
       "      <th>tipoddem</th>\n",
       "      <th>pais</th>\n",
       "      <th>posicion</th>\n",
       "      <th>puntaj</th>\n",
       "      <th>ppelec</th>\n",
       "      <th>fdelgob</th>\n",
       "      <th>partpk</th>\n",
       "      <th>cultpk</th>\n",
       "      <th>libciv</th>\n",
       "      <th>cluster</th>\n",
       "    </tr>\n",
       "  </thead>\n",
       "  <tbody>\n",
       "    <tr>\n",
       "      <th>0</th>\n",
       "      <td>Democracia plena</td>\n",
       "      <td>Costa Rica</td>\n",
       "      <td>25.0</td>\n",
       "      <td>8.04</td>\n",
       "      <td>9.58</td>\n",
       "      <td>8.21</td>\n",
       "      <td>6.11</td>\n",
       "      <td>6.88</td>\n",
       "      <td>9.41</td>\n",
       "      <td>0</td>\n",
       "    </tr>\n",
       "    <tr>\n",
       "      <th>1</th>\n",
       "      <td>Democracia plena</td>\n",
       "      <td>Uruguay</td>\n",
       "      <td>27.0</td>\n",
       "      <td>7.96</td>\n",
       "      <td>10.00</td>\n",
       "      <td>8.21</td>\n",
       "      <td>5.00</td>\n",
       "      <td>6.88</td>\n",
       "      <td>9.71</td>\n",
       "      <td>0</td>\n",
       "    </tr>\n",
       "    <tr>\n",
       "      <th>4</th>\n",
       "      <td>Democracia debil</td>\n",
       "      <td>Brazil</td>\n",
       "      <td>42.0</td>\n",
       "      <td>7.38</td>\n",
       "      <td>9.58</td>\n",
       "      <td>7.86</td>\n",
       "      <td>4.44</td>\n",
       "      <td>5.63</td>\n",
       "      <td>9.41</td>\n",
       "      <td>0</td>\n",
       "    </tr>\n",
       "    <tr>\n",
       "      <th>5</th>\n",
       "      <td>Democracia debil</td>\n",
       "      <td>Chile</td>\n",
       "      <td>30.0</td>\n",
       "      <td>7.89</td>\n",
       "      <td>9.58</td>\n",
       "      <td>8.93</td>\n",
       "      <td>5.00</td>\n",
       "      <td>6.25</td>\n",
       "      <td>9.71</td>\n",
       "      <td>0</td>\n",
       "    </tr>\n",
       "    <tr>\n",
       "      <th>3</th>\n",
       "      <td>Democracia debil</td>\n",
       "      <td>Bolivia</td>\n",
       "      <td>81.0</td>\n",
       "      <td>5.98</td>\n",
       "      <td>8.33</td>\n",
       "      <td>5.71</td>\n",
       "      <td>4.44</td>\n",
       "      <td>3.75</td>\n",
       "      <td>7.65</td>\n",
       "      <td>1</td>\n",
       "    </tr>\n",
       "    <tr>\n",
       "      <th>7</th>\n",
       "      <td>Democracia debil</td>\n",
       "      <td>Dom Rep</td>\n",
       "      <td>74.0</td>\n",
       "      <td>6.13</td>\n",
       "      <td>9.17</td>\n",
       "      <td>4.29</td>\n",
       "      <td>3.33</td>\n",
       "      <td>5.63</td>\n",
       "      <td>8.24</td>\n",
       "      <td>1</td>\n",
       "    </tr>\n",
       "    <tr>\n",
       "      <th>8</th>\n",
       "      <td>Democracia debil</td>\n",
       "      <td>El Salvador</td>\n",
       "      <td>70.0</td>\n",
       "      <td>6.22</td>\n",
       "      <td>9.17</td>\n",
       "      <td>5.43</td>\n",
       "      <td>3.89</td>\n",
       "      <td>4.38</td>\n",
       "      <td>8.24</td>\n",
       "      <td>1</td>\n",
       "    </tr>\n",
       "    <tr>\n",
       "      <th>9</th>\n",
       "      <td>Democracia debil</td>\n",
       "      <td>Guatemala</td>\n",
       "      <td>77.0</td>\n",
       "      <td>6.07</td>\n",
       "      <td>8.75</td>\n",
       "      <td>6.79</td>\n",
       "      <td>2.78</td>\n",
       "      <td>4.38</td>\n",
       "      <td>7.65</td>\n",
       "      <td>1</td>\n",
       "    </tr>\n",
       "    <tr>\n",
       "      <th>10</th>\n",
       "      <td>Democracia debil</td>\n",
       "      <td>Honduras</td>\n",
       "      <td>69.0</td>\n",
       "      <td>6.25</td>\n",
       "      <td>8.33</td>\n",
       "      <td>6.43</td>\n",
       "      <td>4.44</td>\n",
       "      <td>5.00</td>\n",
       "      <td>7.06</td>\n",
       "      <td>1</td>\n",
       "    </tr>\n",
       "    <tr>\n",
       "      <th>13</th>\n",
       "      <td>Democracia debil</td>\n",
       "      <td>Paraguay</td>\n",
       "      <td>71.0</td>\n",
       "      <td>6.16</td>\n",
       "      <td>7.92</td>\n",
       "      <td>5.00</td>\n",
       "      <td>5.00</td>\n",
       "      <td>4.38</td>\n",
       "      <td>8.53</td>\n",
       "      <td>1</td>\n",
       "    </tr>\n",
       "  </tbody>\n",
       "</table>\n",
       "</div>"
      ],
      "text/plain": [
       "            tipoddem         pais  posicion  puntaj  ppelec  fdelgob  partpk  \\\n",
       "0   Democracia plena   Costa Rica      25.0    8.04    9.58     8.21    6.11   \n",
       "1   Democracia plena      Uruguay      27.0    7.96   10.00     8.21    5.00   \n",
       "4   Democracia debil       Brazil      42.0    7.38    9.58     7.86    4.44   \n",
       "5   Democracia debil        Chile      30.0    7.89    9.58     8.93    5.00   \n",
       "3   Democracia debil      Bolivia      81.0    5.98    8.33     5.71    4.44   \n",
       "7   Democracia debil      Dom Rep      74.0    6.13    9.17     4.29    3.33   \n",
       "8   Democracia debil  El Salvador      70.0    6.22    9.17     5.43    3.89   \n",
       "9   Democracia debil    Guatemala      77.0    6.07    8.75     6.79    2.78   \n",
       "10  Democracia debil     Honduras      69.0    6.25    8.33     6.43    4.44   \n",
       "13  Democracia debil     Paraguay      71.0    6.16    7.92     5.00    5.00   \n",
       "\n",
       "    cultpk  libciv  cluster  \n",
       "0     6.88    9.41        0  \n",
       "1     6.88    9.71        0  \n",
       "4     5.63    9.41        0  \n",
       "5     6.25    9.71        0  \n",
       "3     3.75    7.65        1  \n",
       "7     5.63    8.24        1  \n",
       "8     4.38    8.24        1  \n",
       "9     4.38    7.65        1  \n",
       "10    5.00    7.06        1  \n",
       "13    4.38    8.53        1  "
      ]
     },
     "execution_count": 38,
     "metadata": {},
     "output_type": "execute_result"
    }
   ],
   "source": [
    "df_x.head(10)"
   ]
  },
  {
   "cell_type": "code",
   "execution_count": 39,
   "metadata": {},
   "outputs": [
    {
     "data": {
      "text/html": [
       "<div>\n",
       "<style scoped>\n",
       "    .dataframe tbody tr th:only-of-type {\n",
       "        vertical-align: middle;\n",
       "    }\n",
       "\n",
       "    .dataframe tbody tr th {\n",
       "        vertical-align: top;\n",
       "    }\n",
       "\n",
       "    .dataframe thead th {\n",
       "        text-align: right;\n",
       "    }\n",
       "</style>\n",
       "<table border=\"1\" class=\"dataframe\">\n",
       "  <thead>\n",
       "    <tr style=\"text-align: right;\">\n",
       "      <th></th>\n",
       "      <th>tipoddem</th>\n",
       "      <th>pais</th>\n",
       "      <th>posicion</th>\n",
       "      <th>puntaj</th>\n",
       "      <th>ppelec</th>\n",
       "      <th>fdelgob</th>\n",
       "      <th>partpk</th>\n",
       "      <th>cultpk</th>\n",
       "      <th>libciv</th>\n",
       "      <th>cluster</th>\n",
       "    </tr>\n",
       "  </thead>\n",
       "  <tbody>\n",
       "    <tr>\n",
       "      <th>0</th>\n",
       "      <td>Democracia plena</td>\n",
       "      <td>Costa Rica</td>\n",
       "      <td>25.0</td>\n",
       "      <td>8.04</td>\n",
       "      <td>9.58</td>\n",
       "      <td>8.21</td>\n",
       "      <td>6.11</td>\n",
       "      <td>6.88</td>\n",
       "      <td>9.41</td>\n",
       "      <td>0</td>\n",
       "    </tr>\n",
       "    <tr>\n",
       "      <th>1</th>\n",
       "      <td>Democracia plena</td>\n",
       "      <td>Uruguay</td>\n",
       "      <td>27.0</td>\n",
       "      <td>7.96</td>\n",
       "      <td>10.00</td>\n",
       "      <td>8.21</td>\n",
       "      <td>5.00</td>\n",
       "      <td>6.88</td>\n",
       "      <td>9.71</td>\n",
       "      <td>0</td>\n",
       "    </tr>\n",
       "    <tr>\n",
       "      <th>2</th>\n",
       "      <td>Democracia debil</td>\n",
       "      <td>Argentina</td>\n",
       "      <td>54.0</td>\n",
       "      <td>6.63</td>\n",
       "      <td>8.75</td>\n",
       "      <td>5.00</td>\n",
       "      <td>5.56</td>\n",
       "      <td>5.63</td>\n",
       "      <td>8.24</td>\n",
       "      <td>2</td>\n",
       "    </tr>\n",
       "    <tr>\n",
       "      <th>3</th>\n",
       "      <td>Democracia debil</td>\n",
       "      <td>Bolivia</td>\n",
       "      <td>81.0</td>\n",
       "      <td>5.98</td>\n",
       "      <td>8.33</td>\n",
       "      <td>5.71</td>\n",
       "      <td>4.44</td>\n",
       "      <td>3.75</td>\n",
       "      <td>7.65</td>\n",
       "      <td>1</td>\n",
       "    </tr>\n",
       "    <tr>\n",
       "      <th>4</th>\n",
       "      <td>Democracia debil</td>\n",
       "      <td>Brazil</td>\n",
       "      <td>42.0</td>\n",
       "      <td>7.38</td>\n",
       "      <td>9.58</td>\n",
       "      <td>7.86</td>\n",
       "      <td>4.44</td>\n",
       "      <td>5.63</td>\n",
       "      <td>9.41</td>\n",
       "      <td>0</td>\n",
       "    </tr>\n",
       "    <tr>\n",
       "      <th>5</th>\n",
       "      <td>Democracia debil</td>\n",
       "      <td>Chile</td>\n",
       "      <td>30.0</td>\n",
       "      <td>7.89</td>\n",
       "      <td>9.58</td>\n",
       "      <td>8.93</td>\n",
       "      <td>5.00</td>\n",
       "      <td>6.25</td>\n",
       "      <td>9.71</td>\n",
       "      <td>0</td>\n",
       "    </tr>\n",
       "    <tr>\n",
       "      <th>6</th>\n",
       "      <td>Democracia debil</td>\n",
       "      <td>Colombia</td>\n",
       "      <td>67.0</td>\n",
       "      <td>6.40</td>\n",
       "      <td>9.17</td>\n",
       "      <td>4.36</td>\n",
       "      <td>5.00</td>\n",
       "      <td>4.38</td>\n",
       "      <td>9.12</td>\n",
       "      <td>2</td>\n",
       "    </tr>\n",
       "    <tr>\n",
       "      <th>7</th>\n",
       "      <td>Democracia debil</td>\n",
       "      <td>Dom Rep</td>\n",
       "      <td>74.0</td>\n",
       "      <td>6.13</td>\n",
       "      <td>9.17</td>\n",
       "      <td>4.29</td>\n",
       "      <td>3.33</td>\n",
       "      <td>5.63</td>\n",
       "      <td>8.24</td>\n",
       "      <td>1</td>\n",
       "    </tr>\n",
       "    <tr>\n",
       "      <th>8</th>\n",
       "      <td>Democracia debil</td>\n",
       "      <td>El Salvador</td>\n",
       "      <td>70.0</td>\n",
       "      <td>6.22</td>\n",
       "      <td>9.17</td>\n",
       "      <td>5.43</td>\n",
       "      <td>3.89</td>\n",
       "      <td>4.38</td>\n",
       "      <td>8.24</td>\n",
       "      <td>1</td>\n",
       "    </tr>\n",
       "    <tr>\n",
       "      <th>9</th>\n",
       "      <td>Democracia debil</td>\n",
       "      <td>Guatemala</td>\n",
       "      <td>77.0</td>\n",
       "      <td>6.07</td>\n",
       "      <td>8.75</td>\n",
       "      <td>6.79</td>\n",
       "      <td>2.78</td>\n",
       "      <td>4.38</td>\n",
       "      <td>7.65</td>\n",
       "      <td>1</td>\n",
       "    </tr>\n",
       "    <tr>\n",
       "      <th>10</th>\n",
       "      <td>Democracia debil</td>\n",
       "      <td>Honduras</td>\n",
       "      <td>69.0</td>\n",
       "      <td>6.25</td>\n",
       "      <td>8.33</td>\n",
       "      <td>6.43</td>\n",
       "      <td>4.44</td>\n",
       "      <td>5.00</td>\n",
       "      <td>7.06</td>\n",
       "      <td>1</td>\n",
       "    </tr>\n",
       "    <tr>\n",
       "      <th>11</th>\n",
       "      <td>Democracia debil</td>\n",
       "      <td>Mexico</td>\n",
       "      <td>53.0</td>\n",
       "      <td>6.67</td>\n",
       "      <td>8.75</td>\n",
       "      <td>6.07</td>\n",
       "      <td>5.00</td>\n",
       "      <td>5.00</td>\n",
       "      <td>8.53</td>\n",
       "      <td>2</td>\n",
       "    </tr>\n",
       "  </tbody>\n",
       "</table>\n",
       "</div>"
      ],
      "text/plain": [
       "            tipoddem         pais  posicion  puntaj  ppelec  fdelgob  partpk  \\\n",
       "0   Democracia plena   Costa Rica      25.0    8.04    9.58     8.21    6.11   \n",
       "1   Democracia plena      Uruguay      27.0    7.96   10.00     8.21    5.00   \n",
       "2   Democracia debil    Argentina      54.0    6.63    8.75     5.00    5.56   \n",
       "3   Democracia debil      Bolivia      81.0    5.98    8.33     5.71    4.44   \n",
       "4   Democracia debil       Brazil      42.0    7.38    9.58     7.86    4.44   \n",
       "5   Democracia debil        Chile      30.0    7.89    9.58     8.93    5.00   \n",
       "6   Democracia debil     Colombia      67.0    6.40    9.17     4.36    5.00   \n",
       "7   Democracia debil      Dom Rep      74.0    6.13    9.17     4.29    3.33   \n",
       "8   Democracia debil  El Salvador      70.0    6.22    9.17     5.43    3.89   \n",
       "9   Democracia debil    Guatemala      77.0    6.07    8.75     6.79    2.78   \n",
       "10  Democracia debil     Honduras      69.0    6.25    8.33     6.43    4.44   \n",
       "11  Democracia debil       Mexico      53.0    6.67    8.75     6.07    5.00   \n",
       "\n",
       "    cultpk  libciv  cluster  \n",
       "0     6.88    9.41        0  \n",
       "1     6.88    9.71        0  \n",
       "2     5.63    8.24        2  \n",
       "3     3.75    7.65        1  \n",
       "4     5.63    9.41        0  \n",
       "5     6.25    9.71        0  \n",
       "6     4.38    9.12        2  \n",
       "7     5.63    8.24        1  \n",
       "8     4.38    8.24        1  \n",
       "9     4.38    7.65        1  \n",
       "10    5.00    7.06        1  \n",
       "11    5.00    8.53        2  "
      ]
     },
     "execution_count": 39,
     "metadata": {},
     "output_type": "execute_result"
    }
   ],
   "source": [
    "#Ordenando los indices de mi df original completo\n",
    "df_x=df_x.sort_index()\n",
    "df_x.head(12)"
   ]
  },
  {
   "cell_type": "code",
   "execution_count": null,
   "metadata": {},
   "outputs": [],
   "source": []
  }
 ],
 "metadata": {
  "kernelspec": {
   "display_name": "Python 3",
   "language": "python",
   "name": "python3"
  },
  "language_info": {
   "codemirror_mode": {
    "name": "ipython",
    "version": 3
   },
   "file_extension": ".py",
   "mimetype": "text/x-python",
   "name": "python",
   "nbconvert_exporter": "python",
   "pygments_lexer": "ipython3",
   "version": "3.8.3"
  }
 },
 "nbformat": 4,
 "nbformat_minor": 4
}