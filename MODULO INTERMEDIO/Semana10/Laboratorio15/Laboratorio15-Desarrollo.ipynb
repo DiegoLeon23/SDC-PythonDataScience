{
 "cells": [
  {
   "cell_type": "markdown",
   "metadata": {},
   "source": [
    "# **_DESARROLLO DEL LABORATORIO N°15_**"
   ]
  },
  {
   "cell_type": "code",
   "execution_count": 47,
   "metadata": {},
   "outputs": [],
   "source": [
    "#Importando librerías necesarias\n",
    "import os\n",
    "import pandas as pd\n",
    "import numpy as np\n",
    "import seaborn as sns    #Librería Gráfica\n",
    "import matplotlib.pyplot as plt #Librería Gráfica\n",
    "\n",
    "from sklearn.model_selection import train_test_split\n",
    "from imblearn.under_sampling import NearMiss         #Para llevar a cabo UnderSampling\n",
    "\n",
    "from sklearn.linear_model import LogisticRegression \n",
    "from sklearn.feature_selection import RFE  \n",
    "import statsmodels.api as sm  #Para Análisis de Regresión Logística con librería stats\n",
    "\n",
    "import warnings\n",
    "warnings.filterwarnings('ignore')"
   ]
  },
  {
   "cell_type": "code",
   "execution_count": 2,
   "metadata": {},
   "outputs": [],
   "source": [
    "os.chdir(\"D:\\Social Data Consulting\\Python for Data Science\\data\")"
   ]
  },
  {
   "cell_type": "code",
   "execution_count": 8,
   "metadata": {
    "scrolled": false
   },
   "outputs": [],
   "source": [
    "miArchivo='creditcard.csv'\n",
    "df=pd.read_csv(miArchivo, sep=',')\n",
    "del df['Time']"
   ]
  },
  {
   "cell_type": "code",
   "execution_count": 9,
   "metadata": {},
   "outputs": [
    {
     "data": {
      "text/html": [
       "<div>\n",
       "<style scoped>\n",
       "    .dataframe tbody tr th:only-of-type {\n",
       "        vertical-align: middle;\n",
       "    }\n",
       "\n",
       "    .dataframe tbody tr th {\n",
       "        vertical-align: top;\n",
       "    }\n",
       "\n",
       "    .dataframe thead th {\n",
       "        text-align: right;\n",
       "    }\n",
       "</style>\n",
       "<table border=\"1\" class=\"dataframe\">\n",
       "  <thead>\n",
       "    <tr style=\"text-align: right;\">\n",
       "      <th></th>\n",
       "      <th>V1</th>\n",
       "      <th>V2</th>\n",
       "      <th>V3</th>\n",
       "      <th>V4</th>\n",
       "      <th>V5</th>\n",
       "      <th>V6</th>\n",
       "      <th>V7</th>\n",
       "      <th>V8</th>\n",
       "      <th>V9</th>\n",
       "      <th>V10</th>\n",
       "      <th>...</th>\n",
       "      <th>V21</th>\n",
       "      <th>V22</th>\n",
       "      <th>V23</th>\n",
       "      <th>V24</th>\n",
       "      <th>V25</th>\n",
       "      <th>V26</th>\n",
       "      <th>V27</th>\n",
       "      <th>V28</th>\n",
       "      <th>Amount</th>\n",
       "      <th>Class</th>\n",
       "    </tr>\n",
       "  </thead>\n",
       "  <tbody>\n",
       "    <tr>\n",
       "      <th>0</th>\n",
       "      <td>-1.359807</td>\n",
       "      <td>-0.072781</td>\n",
       "      <td>2.536347</td>\n",
       "      <td>1.378155</td>\n",
       "      <td>-0.338321</td>\n",
       "      <td>0.462388</td>\n",
       "      <td>0.239599</td>\n",
       "      <td>0.098698</td>\n",
       "      <td>0.363787</td>\n",
       "      <td>0.090794</td>\n",
       "      <td>...</td>\n",
       "      <td>-0.018307</td>\n",
       "      <td>0.277838</td>\n",
       "      <td>-0.110474</td>\n",
       "      <td>0.066928</td>\n",
       "      <td>0.128539</td>\n",
       "      <td>-0.189115</td>\n",
       "      <td>0.133558</td>\n",
       "      <td>-0.021053</td>\n",
       "      <td>149.62</td>\n",
       "      <td>0</td>\n",
       "    </tr>\n",
       "    <tr>\n",
       "      <th>1</th>\n",
       "      <td>1.191857</td>\n",
       "      <td>0.266151</td>\n",
       "      <td>0.166480</td>\n",
       "      <td>0.448154</td>\n",
       "      <td>0.060018</td>\n",
       "      <td>-0.082361</td>\n",
       "      <td>-0.078803</td>\n",
       "      <td>0.085102</td>\n",
       "      <td>-0.255425</td>\n",
       "      <td>-0.166974</td>\n",
       "      <td>...</td>\n",
       "      <td>-0.225775</td>\n",
       "      <td>-0.638672</td>\n",
       "      <td>0.101288</td>\n",
       "      <td>-0.339846</td>\n",
       "      <td>0.167170</td>\n",
       "      <td>0.125895</td>\n",
       "      <td>-0.008983</td>\n",
       "      <td>0.014724</td>\n",
       "      <td>2.69</td>\n",
       "      <td>0</td>\n",
       "    </tr>\n",
       "    <tr>\n",
       "      <th>2</th>\n",
       "      <td>-1.358354</td>\n",
       "      <td>-1.340163</td>\n",
       "      <td>1.773209</td>\n",
       "      <td>0.379780</td>\n",
       "      <td>-0.503198</td>\n",
       "      <td>1.800499</td>\n",
       "      <td>0.791461</td>\n",
       "      <td>0.247676</td>\n",
       "      <td>-1.514654</td>\n",
       "      <td>0.207643</td>\n",
       "      <td>...</td>\n",
       "      <td>0.247998</td>\n",
       "      <td>0.771679</td>\n",
       "      <td>0.909412</td>\n",
       "      <td>-0.689281</td>\n",
       "      <td>-0.327642</td>\n",
       "      <td>-0.139097</td>\n",
       "      <td>-0.055353</td>\n",
       "      <td>-0.059752</td>\n",
       "      <td>378.66</td>\n",
       "      <td>0</td>\n",
       "    </tr>\n",
       "    <tr>\n",
       "      <th>3</th>\n",
       "      <td>-0.966272</td>\n",
       "      <td>-0.185226</td>\n",
       "      <td>1.792993</td>\n",
       "      <td>-0.863291</td>\n",
       "      <td>-0.010309</td>\n",
       "      <td>1.247203</td>\n",
       "      <td>0.237609</td>\n",
       "      <td>0.377436</td>\n",
       "      <td>-1.387024</td>\n",
       "      <td>-0.054952</td>\n",
       "      <td>...</td>\n",
       "      <td>-0.108300</td>\n",
       "      <td>0.005274</td>\n",
       "      <td>-0.190321</td>\n",
       "      <td>-1.175575</td>\n",
       "      <td>0.647376</td>\n",
       "      <td>-0.221929</td>\n",
       "      <td>0.062723</td>\n",
       "      <td>0.061458</td>\n",
       "      <td>123.50</td>\n",
       "      <td>0</td>\n",
       "    </tr>\n",
       "    <tr>\n",
       "      <th>4</th>\n",
       "      <td>-1.158233</td>\n",
       "      <td>0.877737</td>\n",
       "      <td>1.548718</td>\n",
       "      <td>0.403034</td>\n",
       "      <td>-0.407193</td>\n",
       "      <td>0.095921</td>\n",
       "      <td>0.592941</td>\n",
       "      <td>-0.270533</td>\n",
       "      <td>0.817739</td>\n",
       "      <td>0.753074</td>\n",
       "      <td>...</td>\n",
       "      <td>-0.009431</td>\n",
       "      <td>0.798278</td>\n",
       "      <td>-0.137458</td>\n",
       "      <td>0.141267</td>\n",
       "      <td>-0.206010</td>\n",
       "      <td>0.502292</td>\n",
       "      <td>0.219422</td>\n",
       "      <td>0.215153</td>\n",
       "      <td>69.99</td>\n",
       "      <td>0</td>\n",
       "    </tr>\n",
       "  </tbody>\n",
       "</table>\n",
       "<p>5 rows × 30 columns</p>\n",
       "</div>"
      ],
      "text/plain": [
       "         V1        V2        V3        V4        V5        V6        V7  \\\n",
       "0 -1.359807 -0.072781  2.536347  1.378155 -0.338321  0.462388  0.239599   \n",
       "1  1.191857  0.266151  0.166480  0.448154  0.060018 -0.082361 -0.078803   \n",
       "2 -1.358354 -1.340163  1.773209  0.379780 -0.503198  1.800499  0.791461   \n",
       "3 -0.966272 -0.185226  1.792993 -0.863291 -0.010309  1.247203  0.237609   \n",
       "4 -1.158233  0.877737  1.548718  0.403034 -0.407193  0.095921  0.592941   \n",
       "\n",
       "         V8        V9       V10  ...       V21       V22       V23       V24  \\\n",
       "0  0.098698  0.363787  0.090794  ... -0.018307  0.277838 -0.110474  0.066928   \n",
       "1  0.085102 -0.255425 -0.166974  ... -0.225775 -0.638672  0.101288 -0.339846   \n",
       "2  0.247676 -1.514654  0.207643  ...  0.247998  0.771679  0.909412 -0.689281   \n",
       "3  0.377436 -1.387024 -0.054952  ... -0.108300  0.005274 -0.190321 -1.175575   \n",
       "4 -0.270533  0.817739  0.753074  ... -0.009431  0.798278 -0.137458  0.141267   \n",
       "\n",
       "        V25       V26       V27       V28  Amount  Class  \n",
       "0  0.128539 -0.189115  0.133558 -0.021053  149.62      0  \n",
       "1  0.167170  0.125895 -0.008983  0.014724    2.69      0  \n",
       "2 -0.327642 -0.139097 -0.055353 -0.059752  378.66      0  \n",
       "3  0.647376 -0.221929  0.062723  0.061458  123.50      0  \n",
       "4 -0.206010  0.502292  0.219422  0.215153   69.99      0  \n",
       "\n",
       "[5 rows x 30 columns]"
      ]
     },
     "execution_count": 9,
     "metadata": {},
     "output_type": "execute_result"
    }
   ],
   "source": [
    "df.head()"
   ]
  },
  {
   "cell_type": "markdown",
   "metadata": {},
   "source": [
    "### **1. Asignar el 60% y 40% a la data de entrenamiento y testeo respectivamente.**"
   ]
  },
  {
   "cell_type": "code",
   "execution_count": null,
   "metadata": {},
   "outputs": [],
   "source": [
    "#Dividimos la data (entrenamiento y testeo)"
   ]
  },
  {
   "cell_type": "code",
   "execution_count": 16,
   "metadata": {},
   "outputs": [],
   "source": [
    "X=df.iloc[:,:29]\n",
    "y=df.iloc[:,29]"
   ]
  },
  {
   "cell_type": "code",
   "execution_count": 17,
   "metadata": {},
   "outputs": [],
   "source": [
    "X_train,X_test,y_train,y_test=train_test_split(X,\n",
    "                                               y,\n",
    "                                               test_size=0.4,\n",
    "                                               random_state=2021,\n",
    "                                               stratify=y)"
   ]
  },
  {
   "cell_type": "markdown",
   "metadata": {},
   "source": [
    "### 2. Crear un dataframe a partir de la data de entrenamiento con la tecnica de balanceo de datos \"UnderSampling\" y parámetro de balanceo 0.7."
   ]
  },
  {
   "cell_type": "code",
   "execution_count": 31,
   "metadata": {},
   "outputs": [
    {
     "data": {
      "image/png": "[encoded data removed]",
      "text/plain": [
       "<Figure size 432x288 with 1 Axes>"
      ]
     },
     "metadata": {
      "needs_background": "light"
     },
     "output_type": "display_data"
    }
   ],
   "source": [
    "#Visualizamos el desbalanceo\n",
    "count_classes = pd.value_counts(df['Class'], sort = True)\n",
    "count_classes.plot(kind = 'bar', rot=0)\n",
    "#plt.xticks(range(2))\n",
    "plt.title(\"Frecuencia de número de observaciones\")\n",
    "plt.xlabel(\"Class\")\n",
    "plt.ylabel(\"número de observaciones\")\n",
    "plt.show()"
   ]
  },
  {
   "cell_type": "code",
   "execution_count": 18,
   "metadata": {},
   "outputs": [],
   "source": [
    "#Primero creamos una instancia de NearMiss\n",
    "under=NearMiss(sampling_strategy=0.7, \n",
    "               n_neighbors=11)"
   ]
  },
  {
   "cell_type": "code",
   "execution_count": 19,
   "metadata": {},
   "outputs": [],
   "source": [
    "#fit_resample me arroja 2 objetos ya balanceados\n",
    "xtrain_under,ytrain_under= under.fit_resample(X_train,y_train)"
   ]
  },
  {
   "cell_type": "code",
   "execution_count": 22,
   "metadata": {},
   "outputs": [],
   "source": [
    "#X_train.columns\n",
    "columns=['V1', 'V2', 'V3', 'V4', 'V5', 'V6', 'V7', 'V8', 'V9', 'V10', 'V11',\n",
    "       'V12', 'V13', 'V14', 'V15', 'V16', 'V17', 'V18', 'V19', 'V20', 'V21',\n",
    "       'V22', 'V23', 'V24', 'V25', 'V26', 'V27', 'V28', 'Amount']"
   ]
  },
  {
   "cell_type": "code",
   "execution_count": 23,
   "metadata": {},
   "outputs": [
    {
     "data": {
      "text/html": [
       "<div>\n",
       "<style scoped>\n",
       "    .dataframe tbody tr th:only-of-type {\n",
       "        vertical-align: middle;\n",
       "    }\n",
       "\n",
       "    .dataframe tbody tr th {\n",
       "        vertical-align: top;\n",
       "    }\n",
       "\n",
       "    .dataframe thead th {\n",
       "        text-align: right;\n",
       "    }\n",
       "</style>\n",
       "<table border=\"1\" class=\"dataframe\">\n",
       "  <thead>\n",
       "    <tr style=\"text-align: right;\">\n",
       "      <th></th>\n",
       "      <th>V1</th>\n",
       "      <th>V2</th>\n",
       "      <th>V3</th>\n",
       "      <th>V4</th>\n",
       "      <th>V5</th>\n",
       "      <th>V6</th>\n",
       "      <th>V7</th>\n",
       "      <th>V8</th>\n",
       "      <th>V9</th>\n",
       "      <th>V10</th>\n",
       "      <th>...</th>\n",
       "      <th>V21</th>\n",
       "      <th>V22</th>\n",
       "      <th>V23</th>\n",
       "      <th>V24</th>\n",
       "      <th>V25</th>\n",
       "      <th>V26</th>\n",
       "      <th>V27</th>\n",
       "      <th>V28</th>\n",
       "      <th>Amount</th>\n",
       "      <th>Class</th>\n",
       "    </tr>\n",
       "  </thead>\n",
       "  <tbody>\n",
       "    <tr>\n",
       "      <th>0</th>\n",
       "      <td>1.161523</td>\n",
       "      <td>1.173309</td>\n",
       "      <td>-1.602805</td>\n",
       "      <td>1.485067</td>\n",
       "      <td>1.046127</td>\n",
       "      <td>-1.044961</td>\n",
       "      <td>0.568273</td>\n",
       "      <td>-0.078050</td>\n",
       "      <td>-0.649025</td>\n",
       "      <td>-1.413683</td>\n",
       "      <td>...</td>\n",
       "      <td>-0.135894</td>\n",
       "      <td>-0.311787</td>\n",
       "      <td>-0.186780</td>\n",
       "      <td>-0.318052</td>\n",
       "      <td>0.741276</td>\n",
       "      <td>-0.280487</td>\n",
       "      <td>0.049991</td>\n",
       "      <td>0.082487</td>\n",
       "      <td>1.00</td>\n",
       "      <td>0</td>\n",
       "    </tr>\n",
       "    <tr>\n",
       "      <th>1</th>\n",
       "      <td>1.161685</td>\n",
       "      <td>1.168669</td>\n",
       "      <td>-1.604114</td>\n",
       "      <td>1.485647</td>\n",
       "      <td>1.040086</td>\n",
       "      <td>-1.046640</td>\n",
       "      <td>0.563452</td>\n",
       "      <td>-0.074108</td>\n",
       "      <td>-0.638580</td>\n",
       "      <td>-1.411608</td>\n",
       "      <td>...</td>\n",
       "      <td>-0.136753</td>\n",
       "      <td>-0.317371</td>\n",
       "      <td>-0.185857</td>\n",
       "      <td>-0.319944</td>\n",
       "      <td>0.738985</td>\n",
       "      <td>-0.280244</td>\n",
       "      <td>0.049561</td>\n",
       "      <td>0.082320</td>\n",
       "      <td>0.89</td>\n",
       "      <td>0</td>\n",
       "    </tr>\n",
       "    <tr>\n",
       "      <th>2</th>\n",
       "      <td>1.146649</td>\n",
       "      <td>1.141946</td>\n",
       "      <td>-1.527127</td>\n",
       "      <td>1.538383</td>\n",
       "      <td>0.900342</td>\n",
       "      <td>-1.174930</td>\n",
       "      <td>0.538144</td>\n",
       "      <td>-0.062330</td>\n",
       "      <td>-0.586083</td>\n",
       "      <td>-1.399037</td>\n",
       "      <td>...</td>\n",
       "      <td>-0.128206</td>\n",
       "      <td>-0.315543</td>\n",
       "      <td>-0.155217</td>\n",
       "      <td>-0.125748</td>\n",
       "      <td>0.696576</td>\n",
       "      <td>-0.291551</td>\n",
       "      <td>0.046934</td>\n",
       "      <td>0.083482</td>\n",
       "      <td>1.00</td>\n",
       "      <td>0</td>\n",
       "    </tr>\n",
       "    <tr>\n",
       "      <th>3</th>\n",
       "      <td>1.161938</td>\n",
       "      <td>1.193626</td>\n",
       "      <td>-1.596951</td>\n",
       "      <td>1.482299</td>\n",
       "      <td>1.070830</td>\n",
       "      <td>-1.038444</td>\n",
       "      <td>0.586824</td>\n",
       "      <td>-0.093678</td>\n",
       "      <td>-0.690740</td>\n",
       "      <td>-1.421726</td>\n",
       "      <td>...</td>\n",
       "      <td>-0.132792</td>\n",
       "      <td>-0.289159</td>\n",
       "      <td>-0.189991</td>\n",
       "      <td>-0.310513</td>\n",
       "      <td>0.750641</td>\n",
       "      <td>-0.281399</td>\n",
       "      <td>0.051813</td>\n",
       "      <td>0.083060</td>\n",
       "      <td>0.89</td>\n",
       "      <td>0</td>\n",
       "    </tr>\n",
       "    <tr>\n",
       "      <th>4</th>\n",
       "      <td>1.146760</td>\n",
       "      <td>1.132315</td>\n",
       "      <td>-1.529868</td>\n",
       "      <td>1.539633</td>\n",
       "      <td>0.888153</td>\n",
       "      <td>-1.178248</td>\n",
       "      <td>0.528649</td>\n",
       "      <td>-0.054473</td>\n",
       "      <td>-0.565206</td>\n",
       "      <td>-1.394939</td>\n",
       "      <td>...</td>\n",
       "      <td>-0.129857</td>\n",
       "      <td>-0.326769</td>\n",
       "      <td>-0.153466</td>\n",
       "      <td>-0.129527</td>\n",
       "      <td>0.691954</td>\n",
       "      <td>-0.291078</td>\n",
       "      <td>0.046054</td>\n",
       "      <td>0.083167</td>\n",
       "      <td>0.89</td>\n",
       "      <td>0</td>\n",
       "    </tr>\n",
       "  </tbody>\n",
       "</table>\n",
       "<p>5 rows × 30 columns</p>\n",
       "</div>"
      ],
      "text/plain": [
       "         V1        V2        V3        V4        V5        V6        V7  \\\n",
       "0  1.161523  1.173309 -1.602805  1.485067  1.046127 -1.044961  0.568273   \n",
       "1  1.161685  1.168669 -1.604114  1.485647  1.040086 -1.046640  0.563452   \n",
       "2  1.146649  1.141946 -1.527127  1.538383  0.900342 -1.174930  0.538144   \n",
       "3  1.161938  1.193626 -1.596951  1.482299  1.070830 -1.038444  0.586824   \n",
       "4  1.146760  1.132315 -1.529868  1.539633  0.888153 -1.178248  0.528649   \n",
       "\n",
       "         V8        V9       V10  ...       V21       V22       V23       V24  \\\n",
       "0 -0.078050 -0.649025 -1.413683  ... -0.135894 -0.311787 -0.186780 -0.318052   \n",
       "1 -0.074108 -0.638580 -1.411608  ... -0.136753 -0.317371 -0.185857 -0.319944   \n",
       "2 -0.062330 -0.586083 -1.399037  ... -0.128206 -0.315543 -0.155217 -0.125748   \n",
       "3 -0.093678 -0.690740 -1.421726  ... -0.132792 -0.289159 -0.189991 -0.310513   \n",
       "4 -0.054473 -0.565206 -1.394939  ... -0.129857 -0.326769 -0.153466 -0.129527   \n",
       "\n",
       "        V25       V26       V27       V28  Amount  Class  \n",
       "0  0.741276 -0.280487  0.049991  0.082487    1.00      0  \n",
       "1  0.738985 -0.280244  0.049561  0.082320    0.89      0  \n",
       "2  0.696576 -0.291551  0.046934  0.083482    1.00      0  \n",
       "3  0.750641 -0.281399  0.051813  0.083060    0.89      0  \n",
       "4  0.691954 -0.291078  0.046054  0.083167    0.89      0  \n",
       "\n",
       "[5 rows x 30 columns]"
      ]
     },
     "execution_count": 23,
     "metadata": {},
     "output_type": "execute_result"
    }
   ],
   "source": [
    "#Datos de Entrenamiento DF\n",
    "xtrain_under=pd.DataFrame(xtrain_under,columns=columns)\n",
    "ytrain_under=pd.DataFrame(ytrain_under,columns=[\"Class\"])\n",
    "\n",
    "df_entrenamiento_under=pd.concat([xtrain_under,ytrain_under],axis=1)\n",
    "df_entrenamiento_under.head()\n"
   ]
  },
  {
   "cell_type": "code",
   "execution_count": 30,
   "metadata": {},
   "outputs": [
    {
     "data": {
      "image/png": "[encoded data removed]",
      "text/plain": [
       "<Figure size 432x288 with 1 Axes>"
      ]
     },
     "metadata": {
      "needs_background": "light"
     },
     "output_type": "display_data"
    }
   ],
   "source": [
    "#Visualizamos el balanceo\n",
    "count_classes = pd.value_counts(df_entrenamiento_under['Class'], sort = True)\n",
    "count_classes.plot(kind = 'bar', rot=0)\n",
    "#plt.xticks(range(2))\n",
    "plt.title(\"Frecuencia de número de observaciones\")\n",
    "plt.xlabel(\"Class\")\n",
    "plt.ylabel(\"número de observaciones\")\n",
    "plt.show()"
   ]
  },
  {
   "cell_type": "markdown",
   "metadata": {},
   "source": [
    "### 3. Utilizar esa data balanceada para aplicar un modelo de regresión logística utilizando sólo 6 variables predictoras (utilice recursive feature elimination (RFE)) y tener en cuenta que el TARGET es Class"
   ]
  },
  {
   "cell_type": "code",
   "execution_count": 33,
   "metadata": {},
   "outputs": [],
   "source": [
    "#Instanciamos un objeto de clase LogisticRegression()\n",
    "logit=LogisticRegression()"
   ]
  },
  {
   "cell_type": "markdown",
   "metadata": {},
   "source": [
    "**Aplicando RFE(Recursive Feature Elimination)**"
   ]
  },
  {
   "cell_type": "code",
   "execution_count": 34,
   "metadata": {},
   "outputs": [],
   "source": [
    "#Numero de variables a quedarse\n",
    "n=6"
   ]
  },
  {
   "cell_type": "code",
   "execution_count": 35,
   "metadata": {},
   "outputs": [],
   "source": [
    "#Instanciando un objeto RFE\n",
    "RFE=RFE(estimator=logit,n_features_to_select=n)"
   ]
  },
  {
   "cell_type": "code",
   "execution_count": 38,
   "metadata": {},
   "outputs": [],
   "source": [
    "#Identificando las variales dentro del modelo\n",
    "df_vars=df_entrenamiento_under.columns.to_list()"
   ]
  },
  {
   "cell_type": "code",
   "execution_count": 39,
   "metadata": {},
   "outputs": [],
   "source": [
    "#Detectando las predictoras y target\n",
    "#target\n",
    "Y=['Class']\n",
    "#predictoras\n",
    "X=[v for v in df_vars if v not in Y]"
   ]
  },
  {
   "cell_type": "code",
   "execution_count": 40,
   "metadata": {},
   "outputs": [],
   "source": [
    "#Aprendiendo de los datos de entrenamiento\n",
    "selector=RFE.fit(df_entrenamiento_under[X],df_entrenamiento_under[Y])"
   ]
  },
  {
   "cell_type": "code",
   "execution_count": 41,
   "metadata": {},
   "outputs": [
    {
     "name": "stdout",
     "output_type": "stream",
     "text": [
      "[ True False False False False  True False False False False False  True\n",
      " False  True  True False False  True False False False False False False\n",
      " False False False False False]\n"
     ]
    }
   ],
   "source": [
    "#Mostrar las variables más significativas\n",
    "print(selector.support_)"
   ]
  },
  {
   "cell_type": "code",
   "execution_count": 44,
   "metadata": {},
   "outputs": [
    {
     "data": {
      "text/plain": [
       "[('V1', True, 1),\n",
       " ('V2', False, 10),\n",
       " ('V3', False, 3),\n",
       " ('V4', False, 7),\n",
       " ('V5', False, 6),\n",
       " ('V6', True, 1),\n",
       " ('V7', False, 5),\n",
       " ('V8', False, 23),\n",
       " ('V9', False, 15),\n",
       " ('V10', False, 20),\n",
       " ('V11', False, 9),\n",
       " ('V12', True, 1),\n",
       " ('V13', False, 18),\n",
       " ('V14', True, 1),\n",
       " ('V15', True, 1),\n",
       " ('V16', False, 17),\n",
       " ('V17', False, 4),\n",
       " ('V18', True, 1),\n",
       " ('V19', False, 12),\n",
       " ('V20', False, 22),\n",
       " ('V21', False, 16),\n",
       " ('V22', False, 13),\n",
       " ('V23', False, 19),\n",
       " ('V24', False, 21),\n",
       " ('V25', False, 11),\n",
       " ('V26', False, 2),\n",
       " ('V27', False, 14),\n",
       " ('V28', False, 24),\n",
       " ('Amount', False, 8)]"
      ]
     },
     "execution_count": 44,
     "metadata": {},
     "output_type": "execute_result"
    }
   ],
   "source": [
    "final=zip(df_vars,selector.support_,selector.ranking_)\n",
    "list(final)"
   ]
  },
  {
   "cell_type": "markdown",
   "metadata": {},
   "source": [
    "**Estimación REGRESIÓN LOGÍSTICA con statsmodel**"
   ]
  },
  {
   "cell_type": "code",
   "execution_count": 45,
   "metadata": {},
   "outputs": [],
   "source": [
    "x=df_entrenamiento_under[['V1','V6','V12','V14','V15','V18']]\n",
    "y=df_entrenamiento_under['Class']"
   ]
  },
  {
   "cell_type": "code",
   "execution_count": 48,
   "metadata": {
    "scrolled": true
   },
   "outputs": [
    {
     "name": "stdout",
     "output_type": "stream",
     "text": [
      "Optimization terminated successfully.\n",
      "         Current function value: 0.070163\n",
      "         Iterations 12\n"
     ]
    }
   ],
   "source": [
    "#Aprendiendo\n",
    "logit= sm.Logit(y,x)\n",
    "resultado=logit.fit()"
   ]
  },
  {
   "cell_type": "code",
   "execution_count": 49,
   "metadata": {},
   "outputs": [
    {
     "data": {
      "text/html": [
       "<table class=\"simpletable\">\n",
       "<tr>\n",
       "        <td>Model:</td>              <td>Logit</td>      <td>Pseudo R-squared:</td>    <td>0.896</td>   \n",
       "</tr>\n",
       "<tr>\n",
       "  <td>Dependent Variable:</td>       <td>Class</td>            <td>AIC:</td>         <td>112.4734</td>  \n",
       "</tr>\n",
       "<tr>\n",
       "         <td>Date:</td>        <td>2021-05-10 22:40</td>       <td>BIC:</td>         <td>139.9155</td>  \n",
       "</tr>\n",
       "<tr>\n",
       "   <td>No. Observations:</td>         <td>716</td>        <td>Log-Likelihood:</td>    <td>-50.237</td>  \n",
       "</tr>\n",
       "<tr>\n",
       "       <td>Df Model:</td>              <td>5</td>            <td>LL-Null:</td>        <td>-485.15</td>  \n",
       "</tr>\n",
       "<tr>\n",
       "     <td>Df Residuals:</td>           <td>710</td>         <td>LLR p-value:</td>    <td>9.0266e-186</td>\n",
       "</tr>\n",
       "<tr>\n",
       "      <td>Converged:</td>           <td>1.0000</td>           <td>Scale:</td>         <td>1.0000</td>   \n",
       "</tr>\n",
       "<tr>\n",
       "    <td>No. Iterations:</td>        <td>12.0000</td>             <td></td>               <td></td>      \n",
       "</tr>\n",
       "</table>\n",
       "<table class=\"simpletable\">\n",
       "<tr>\n",
       "   <td></td>    <th>Coef.</th>  <th>Std.Err.</th>    <th>z</th>     <th>P>|z|</th> <th>[0.025</th>  <th>0.975]</th> \n",
       "</tr>\n",
       "<tr>\n",
       "  <th>V1</th>  <td>-2.0041</td>  <td>0.3647</td>  <td>-5.4958</td> <td>0.0000</td> <td>-2.7188</td> <td>-1.2894</td>\n",
       "</tr>\n",
       "<tr>\n",
       "  <th>V6</th>  <td>1.8428</td>   <td>0.3999</td>  <td>4.6076</td>  <td>0.0000</td> <td>1.0589</td>  <td>2.6267</td> \n",
       "</tr>\n",
       "<tr>\n",
       "  <th>V12</th> <td>-1.5649</td>  <td>0.4899</td>  <td>-3.1942</td> <td>0.0014</td> <td>-2.5251</td> <td>-0.6047</td>\n",
       "</tr>\n",
       "<tr>\n",
       "  <th>V14</th> <td>-1.2194</td>  <td>0.2861</td>  <td>-4.2618</td> <td>0.0000</td> <td>-1.7801</td> <td>-0.6586</td>\n",
       "</tr>\n",
       "<tr>\n",
       "  <th>V15</th> <td>-2.3595</td>  <td>0.4327</td>  <td>-5.4533</td> <td>0.0000</td> <td>-3.2075</td> <td>-1.5115</td>\n",
       "</tr>\n",
       "<tr>\n",
       "  <th>V18</th> <td>-1.1092</td>  <td>0.4923</td>  <td>-2.2531</td> <td>0.0243</td> <td>-2.0741</td> <td>-0.1443</td>\n",
       "</tr>\n",
       "</table>"
      ],
      "text/plain": [
       "<class 'statsmodels.iolib.summary2.Summary'>\n",
       "\"\"\"\n",
       "                          Results: Logit\n",
       "==================================================================\n",
       "Model:              Logit            Pseudo R-squared: 0.896      \n",
       "Dependent Variable: Class            AIC:              112.4734   \n",
       "Date:               2021-05-10 22:40 BIC:              139.9155   \n",
       "No. Observations:   716              Log-Likelihood:   -50.237    \n",
       "Df Model:           5                LL-Null:          -485.15    \n",
       "Df Residuals:       710              LLR p-value:      9.0266e-186\n",
       "Converged:          1.0000           Scale:            1.0000     \n",
       "No. Iterations:     12.0000                                       \n",
       "---------------------------------------------------------------------\n",
       "        Coef.     Std.Err.       z       P>|z|      [0.025     0.975]\n",
       "---------------------------------------------------------------------\n",
       "V1     -2.0041      0.3647    -5.4958    0.0000    -2.7188    -1.2894\n",
       "V6      1.8428      0.3999     4.6076    0.0000     1.0589     2.6267\n",
       "V12    -1.5649      0.4899    -3.1942    0.0014    -2.5251    -0.6047\n",
       "V14    -1.2194      0.2861    -4.2618    0.0000    -1.7801    -0.6586\n",
       "V15    -2.3595      0.4327    -5.4533    0.0000    -3.2075    -1.5115\n",
       "V18    -1.1092      0.4923    -2.2531    0.0243    -2.0741    -0.1443\n",
       "==================================================================\n",
       "\n",
       "\"\"\""
      ]
     },
     "execution_count": 49,
     "metadata": {},
     "output_type": "execute_result"
    }
   ],
   "source": [
    "#Resumiendo\n",
    "resultado.summary2()"
   ]
  },
  {
   "cell_type": "code",
   "execution_count": null,
   "metadata": {},
   "outputs": [],
   "source": []
  }
 ],
 "metadata": {
  "kernelspec": {
   "display_name": "Python 3",
   "language": "python",
   "name": "python3"
  },
  "language_info": {
   "codemirror_mode": {
    "name": "ipython",
    "version": 3
   },
   "file_extension": ".py",
   "mimetype": "text/x-python",
   "name": "python",
   "nbconvert_exporter": "python",
   "pygments_lexer": "ipython3",
   "version": "3.8.3"
  }
 },
 "nbformat": 4,
 "nbformat_minor": 4
}
