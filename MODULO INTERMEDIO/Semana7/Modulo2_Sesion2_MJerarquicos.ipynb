{
 "cells": [
  {
   "cell_type": "markdown",
   "metadata": {},
   "source": [
    "# Tema2. Metodos jerarquicos"
   ]
  },
  {
   "cell_type": "code",
   "execution_count": 1,
   "metadata": {},
   "outputs": [],
   "source": [
    "#Importando librerías necesarias\n",
    "import pandas as pd\n",
    "import matplotlib.pyplot as plt\n",
    "import numpy as np\n",
    "import os\n",
    "from scipy.spatial.distance import pdist, squareform #Para hallar los pares de distancias y matriz de distancias\n",
    "from scipy.cluster.hierarchy import linkage #Para utilizar los linkages\n",
    "from scipy.cluster.hierarchy import dendrogram #Para el gráfico de dendograma\n",
    "from sklearn.preprocessing import MinMaxScaler #Para escalamiento de datos - normalización\n",
    "\n",
    "from sklearn.cluster import AgglomerativeClustering #Para métodos jerárquicos aglomerativos AGNES\n",
    "from sklearn.metrics import silhouette_score #Para calcular métrica de silueta\n",
    "from sklearn.metrics import calinski_harabasz_score #Para calcular métrica de CH\n",
    "from sklearn.metrics import davies_bouldin_score #Para calcular métrica de DB\n",
    "\n",
    "#Just in Case\n",
    "import warnings\n",
    "warnings.filterwarnings('ignore')\n"
   ]
  },
  {
   "cell_type": "markdown",
   "metadata": {},
   "source": [
    "### _Agrupamiento ilustrativo mediante datos simulados_"
   ]
  },
  {
   "cell_type": "code",
   "execution_count": 2,
   "metadata": {},
   "outputs": [],
   "source": [
    "#Creando un conjunto de datos aleatorios con Dist. Uniforme\n",
    "np.random.seed(123)"
   ]
  },
  {
   "cell_type": "code",
   "execution_count": 3,
   "metadata": {},
   "outputs": [
    {
     "data": {
      "text/html": [
       "<div>\n",
       "<style scoped>\n",
       "    .dataframe tbody tr th:only-of-type {\n",
       "        vertical-align: middle;\n",
       "    }\n",
       "\n",
       "    .dataframe tbody tr th {\n",
       "        vertical-align: top;\n",
       "    }\n",
       "\n",
       "    .dataframe thead th {\n",
       "        text-align: right;\n",
       "    }\n",
       "</style>\n",
       "<table border=\"1\" class=\"dataframe\">\n",
       "  <thead>\n",
       "    <tr style=\"text-align: right;\">\n",
       "      <th></th>\n",
       "      <th>X</th>\n",
       "      <th>Y</th>\n",
       "      <th>Z</th>\n",
       "    </tr>\n",
       "  </thead>\n",
       "  <tbody>\n",
       "    <tr>\n",
       "      <th>id0</th>\n",
       "      <td>6.964692</td>\n",
       "      <td>2.861393</td>\n",
       "      <td>2.268515</td>\n",
       "    </tr>\n",
       "    <tr>\n",
       "      <th>id1</th>\n",
       "      <td>5.513148</td>\n",
       "      <td>7.194690</td>\n",
       "      <td>4.231065</td>\n",
       "    </tr>\n",
       "    <tr>\n",
       "      <th>id2</th>\n",
       "      <td>9.807642</td>\n",
       "      <td>6.848297</td>\n",
       "      <td>4.809319</td>\n",
       "    </tr>\n",
       "    <tr>\n",
       "      <th>id3</th>\n",
       "      <td>3.921175</td>\n",
       "      <td>3.431780</td>\n",
       "      <td>7.290497</td>\n",
       "    </tr>\n",
       "    <tr>\n",
       "      <th>id4</th>\n",
       "      <td>4.385722</td>\n",
       "      <td>0.596779</td>\n",
       "      <td>3.980443</td>\n",
       "    </tr>\n",
       "  </tbody>\n",
       "</table>\n",
       "</div>"
      ],
      "text/plain": [
       "            X         Y         Z\n",
       "id0  6.964692  2.861393  2.268515\n",
       "id1  5.513148  7.194690  4.231065\n",
       "id2  9.807642  6.848297  4.809319\n",
       "id3  3.921175  3.431780  7.290497\n",
       "id4  4.385722  0.596779  3.980443"
      ]
     },
     "execution_count": 3,
     "metadata": {},
     "output_type": "execute_result"
    }
   ],
   "source": [
    "variables=['X','Y','Z']\n",
    "labels=['id0','id1','id2','id3','id4']\n",
    "\n",
    "X=np.random.random_sample([5,3])*10\n",
    "df=pd.DataFrame(X,columns=variables, index=labels)\n",
    "df"
   ]
  },
  {
   "cell_type": "markdown",
   "metadata": {},
   "source": [
    "### _Utilizando la libreria Scipy_"
   ]
  },
  {
   "cell_type": "code",
   "execution_count": 4,
   "metadata": {},
   "outputs": [
    {
     "data": {
      "text/plain": [
       "array([4.973534  , 5.51665266, 5.89988504, 3.83539555, 4.34707339,\n",
       "       5.10431109, 6.69823298, 7.24426159, 8.31659367, 4.382864  ])"
      ]
     },
     "execution_count": 4,
     "metadata": {},
     "output_type": "execute_result"
    }
   ],
   "source": [
    "#Obteniendo los pares de distancias(En forma condensada) solamente tenemos la de la matriz triangular inferior\n",
    "paresdistancia=pdist(df,metric='euclidean')\n",
    "paresdistancia"
   ]
  },
  {
   "cell_type": "code",
   "execution_count": 5,
   "metadata": {},
   "outputs": [
    {
     "data": {
      "text/plain": [
       "array([[0.        , 4.973534  , 5.51665266, 5.89988504, 3.83539555],\n",
       "       [4.973534  , 0.        , 4.34707339, 5.10431109, 6.69823298],\n",
       "       [5.51665266, 4.34707339, 0.        , 7.24426159, 8.31659367],\n",
       "       [5.89988504, 5.10431109, 7.24426159, 0.        , 4.382864  ],\n",
       "       [3.83539555, 6.69823298, 8.31659367, 4.382864  , 0.        ]])"
      ]
     },
     "execution_count": 5,
     "metadata": {},
     "output_type": "execute_result"
    }
   ],
   "source": [
    "#mostramos la matriz para visualizar paresdistancia (matriz de distancia en forma cuadrada)\n",
    "mat_dist=squareform(paresdistancia)\n",
    "mat_dist"
   ]
  },
  {
   "cell_type": "code",
   "execution_count": 6,
   "metadata": {},
   "outputs": [
    {
     "data": {
      "text/html": [
       "<div>\n",
       "<style scoped>\n",
       "    .dataframe tbody tr th:only-of-type {\n",
       "        vertical-align: middle;\n",
       "    }\n",
       "\n",
       "    .dataframe tbody tr th {\n",
       "        vertical-align: top;\n",
       "    }\n",
       "\n",
       "    .dataframe thead th {\n",
       "        text-align: right;\n",
       "    }\n",
       "</style>\n",
       "<table border=\"1\" class=\"dataframe\">\n",
       "  <thead>\n",
       "    <tr style=\"text-align: right;\">\n",
       "      <th></th>\n",
       "      <th>Obs1</th>\n",
       "      <th>Obs2</th>\n",
       "      <th>Distancia</th>\n",
       "      <th>NroItems</th>\n",
       "    </tr>\n",
       "  </thead>\n",
       "  <tbody>\n",
       "    <tr>\n",
       "      <th>Aglom1</th>\n",
       "      <td>0.0</td>\n",
       "      <td>4.0</td>\n",
       "      <td>3.835396</td>\n",
       "      <td>2.0</td>\n",
       "    </tr>\n",
       "    <tr>\n",
       "      <th>Aglom2</th>\n",
       "      <td>1.0</td>\n",
       "      <td>2.0</td>\n",
       "      <td>4.347073</td>\n",
       "      <td>2.0</td>\n",
       "    </tr>\n",
       "    <tr>\n",
       "      <th>Aglom3</th>\n",
       "      <td>3.0</td>\n",
       "      <td>5.0</td>\n",
       "      <td>4.382864</td>\n",
       "      <td>3.0</td>\n",
       "    </tr>\n",
       "    <tr>\n",
       "      <th>Aglom4</th>\n",
       "      <td>6.0</td>\n",
       "      <td>7.0</td>\n",
       "      <td>4.973534</td>\n",
       "      <td>5.0</td>\n",
       "    </tr>\n",
       "  </tbody>\n",
       "</table>\n",
       "</div>"
      ],
      "text/plain": [
       "        Obs1  Obs2  Distancia  NroItems\n",
       "Aglom1   0.0   4.0   3.835396       2.0\n",
       "Aglom2   1.0   2.0   4.347073       2.0\n",
       "Aglom3   3.0   5.0   4.382864       3.0\n",
       "Aglom4   6.0   7.0   4.973534       5.0"
      ]
     },
     "execution_count": 6,
     "metadata": {},
     "output_type": "execute_result"
    }
   ],
   "source": [
    "#Generando el historial de aglomeración\n",
    "clusters=linkage(paresdistancia, method='single')\n",
    "pd.DataFrame(clusters, columns=['Obs1','Obs2','Distancia','NroItems'],index=['Aglom1','Aglom2','Aglom3','Aglom4'])"
   ]
  },
  {
   "cell_type": "code",
   "execution_count": 7,
   "metadata": {},
   "outputs": [
    {
     "data": {
      "text/html": [
       "<div>\n",
       "<style scoped>\n",
       "    .dataframe tbody tr th:only-of-type {\n",
       "        vertical-align: middle;\n",
       "    }\n",
       "\n",
       "    .dataframe tbody tr th {\n",
       "        vertical-align: top;\n",
       "    }\n",
       "\n",
       "    .dataframe thead th {\n",
       "        text-align: right;\n",
       "    }\n",
       "</style>\n",
       "<table border=\"1\" class=\"dataframe\">\n",
       "  <thead>\n",
       "    <tr style=\"text-align: right;\">\n",
       "      <th></th>\n",
       "      <th>Obs1</th>\n",
       "      <th>Obs2</th>\n",
       "      <th>Distancia</th>\n",
       "      <th>NroItems</th>\n",
       "    </tr>\n",
       "  </thead>\n",
       "  <tbody>\n",
       "    <tr>\n",
       "      <th>Aglom1</th>\n",
       "      <td>0.0</td>\n",
       "      <td>4.0</td>\n",
       "      <td>3.835396</td>\n",
       "      <td>2.0</td>\n",
       "    </tr>\n",
       "    <tr>\n",
       "      <th>Aglom2</th>\n",
       "      <td>1.0</td>\n",
       "      <td>2.0</td>\n",
       "      <td>4.347073</td>\n",
       "      <td>2.0</td>\n",
       "    </tr>\n",
       "    <tr>\n",
       "      <th>Aglom3</th>\n",
       "      <td>3.0</td>\n",
       "      <td>5.0</td>\n",
       "      <td>4.382864</td>\n",
       "      <td>3.0</td>\n",
       "    </tr>\n",
       "    <tr>\n",
       "      <th>Aglom4</th>\n",
       "      <td>6.0</td>\n",
       "      <td>7.0</td>\n",
       "      <td>4.973534</td>\n",
       "      <td>5.0</td>\n",
       "    </tr>\n",
       "  </tbody>\n",
       "</table>\n",
       "</div>"
      ],
      "text/plain": [
       "        Obs1  Obs2  Distancia  NroItems\n",
       "Aglom1   0.0   4.0   3.835396       2.0\n",
       "Aglom2   1.0   2.0   4.347073       2.0\n",
       "Aglom3   3.0   5.0   4.382864       3.0\n",
       "Aglom4   6.0   7.0   4.973534       5.0"
      ]
     },
     "execution_count": 7,
     "metadata": {},
     "output_type": "execute_result"
    }
   ],
   "source": [
    "#FORMA ADICIONAL\n",
    "#Generando el historial de aglomeración\n",
    "clusters2=linkage(df.values, metric='euclidean',method='single')\n",
    "pd.DataFrame(clusters, columns=['Obs1','Obs2','Distancia','NroItems'],index=['Aglom1','Aglom2','Aglom3','Aglom4'])"
   ]
  },
  {
   "cell_type": "code",
   "execution_count": 8,
   "metadata": {},
   "outputs": [
    {
     "data": {
      "image/png": "[encoded data removed]",
      "text/plain": [
       "<Figure size 432x288 with 1 Axes>"
      ]
     },
     "metadata": {
      "needs_background": "light"
     },
     "output_type": "display_data"
    }
   ],
   "source": [
    "#Graficar Dendograma\n",
    "dendograma=dendrogram(clusters,labels=labels)\n",
    "plt.ylabel('Distancias(Alturas)')\n",
    "plt.show()"
   ]
  },
  {
   "cell_type": "markdown",
   "metadata": {},
   "source": [
    "### _Utilizando la libreria Sickit Learn_"
   ]
  },
  {
   "cell_type": "code",
   "execution_count": 9,
   "metadata": {},
   "outputs": [],
   "source": [
    "#Instanciando un objeto de clase AgglomerativeClustering\n",
    "agnes= AgglomerativeClustering(n_clusters=2, #numero de clusters\n",
    "                              affinity='euclidean', # funcion de distancia\n",
    "                              linkage='single')# metodo de enlace"
   ]
  },
  {
   "cell_type": "code",
   "execution_count": 10,
   "metadata": {},
   "outputs": [
    {
     "data": {
      "text/plain": [
       "array([0, 1, 1, 0, 0], dtype=int64)"
      ]
     },
     "execution_count": 10,
     "metadata": {},
     "output_type": "execute_result"
    }
   ],
   "source": [
    "#Obteniendo las etiquetas de cluster\n",
    "labels=agnes.fit_predict(X)\n",
    "labels"
   ]
  },
  {
   "cell_type": "code",
   "execution_count": 11,
   "metadata": {},
   "outputs": [
    {
     "data": {
      "text/html": [
       "<div>\n",
       "<style scoped>\n",
       "    .dataframe tbody tr th:only-of-type {\n",
       "        vertical-align: middle;\n",
       "    }\n",
       "\n",
       "    .dataframe tbody tr th {\n",
       "        vertical-align: top;\n",
       "    }\n",
       "\n",
       "    .dataframe thead th {\n",
       "        text-align: right;\n",
       "    }\n",
       "</style>\n",
       "<table border=\"1\" class=\"dataframe\">\n",
       "  <thead>\n",
       "    <tr style=\"text-align: right;\">\n",
       "      <th></th>\n",
       "      <th>X</th>\n",
       "      <th>Y</th>\n",
       "      <th>Z</th>\n",
       "      <th>cluster</th>\n",
       "    </tr>\n",
       "  </thead>\n",
       "  <tbody>\n",
       "    <tr>\n",
       "      <th>id0</th>\n",
       "      <td>6.964692</td>\n",
       "      <td>2.861393</td>\n",
       "      <td>2.268515</td>\n",
       "      <td>0</td>\n",
       "    </tr>\n",
       "    <tr>\n",
       "      <th>id1</th>\n",
       "      <td>5.513148</td>\n",
       "      <td>7.194690</td>\n",
       "      <td>4.231065</td>\n",
       "      <td>1</td>\n",
       "    </tr>\n",
       "    <tr>\n",
       "      <th>id2</th>\n",
       "      <td>9.807642</td>\n",
       "      <td>6.848297</td>\n",
       "      <td>4.809319</td>\n",
       "      <td>1</td>\n",
       "    </tr>\n",
       "    <tr>\n",
       "      <th>id3</th>\n",
       "      <td>3.921175</td>\n",
       "      <td>3.431780</td>\n",
       "      <td>7.290497</td>\n",
       "      <td>0</td>\n",
       "    </tr>\n",
       "    <tr>\n",
       "      <th>id4</th>\n",
       "      <td>4.385722</td>\n",
       "      <td>0.596779</td>\n",
       "      <td>3.980443</td>\n",
       "      <td>0</td>\n",
       "    </tr>\n",
       "  </tbody>\n",
       "</table>\n",
       "</div>"
      ],
      "text/plain": [
       "            X         Y         Z  cluster\n",
       "id0  6.964692  2.861393  2.268515        0\n",
       "id1  5.513148  7.194690  4.231065        1\n",
       "id2  9.807642  6.848297  4.809319        1\n",
       "id3  3.921175  3.431780  7.290497        0\n",
       "id4  4.385722  0.596779  3.980443        0"
      ]
     },
     "execution_count": 11,
     "metadata": {},
     "output_type": "execute_result"
    }
   ],
   "source": [
    "#Obteniendo mi data simulada final\n",
    "df['cluster']=labels\n",
    "df"
   ]
  },
  {
   "cell_type": "markdown",
   "metadata": {},
   "source": [
    "#### _CASO PRÁCTICO: DISTRITOS_"
   ]
  },
  {
   "cell_type": "code",
   "execution_count": 12,
   "metadata": {},
   "outputs": [],
   "source": [
    "#Estableciendo directorio\n",
    "os.chdir(\"D:\\Social Data Consulting\\Python for Data Science\\data\")"
   ]
  },
  {
   "cell_type": "code",
   "execution_count": 13,
   "metadata": {},
   "outputs": [
    {
     "data": {
      "text/html": [
       "<div>\n",
       "<style scoped>\n",
       "    .dataframe tbody tr th:only-of-type {\n",
       "        vertical-align: middle;\n",
       "    }\n",
       "\n",
       "    .dataframe tbody tr th {\n",
       "        vertical-align: top;\n",
       "    }\n",
       "\n",
       "    .dataframe thead th {\n",
       "        text-align: right;\n",
       "    }\n",
       "</style>\n",
       "<table border=\"1\" class=\"dataframe\">\n",
       "  <thead>\n",
       "    <tr style=\"text-align: right;\">\n",
       "      <th></th>\n",
       "      <th>distrito</th>\n",
       "      <th>ocu_vivi</th>\n",
       "      <th>pobpjov</th>\n",
       "      <th>sinelect</th>\n",
       "      <th>sinagua</th>\n",
       "      <th>pea1619</th>\n",
       "      <th>pocprin</th>\n",
       "      <th>peam15</th>\n",
       "    </tr>\n",
       "  </thead>\n",
       "  <tbody>\n",
       "    <tr>\n",
       "      <th>0</th>\n",
       "      <td>Ate</td>\n",
       "      <td>1.15</td>\n",
       "      <td>5.3</td>\n",
       "      <td>27.60</td>\n",
       "      <td>51.10</td>\n",
       "      <td>3.9</td>\n",
       "      <td>1.1</td>\n",
       "      <td>63.48</td>\n",
       "    </tr>\n",
       "    <tr>\n",
       "      <th>1</th>\n",
       "      <td>Barranco</td>\n",
       "      <td>1.09</td>\n",
       "      <td>4.5</td>\n",
       "      <td>1.59</td>\n",
       "      <td>8.32</td>\n",
       "      <td>0.8</td>\n",
       "      <td>3.9</td>\n",
       "      <td>33.48</td>\n",
       "    </tr>\n",
       "    <tr>\n",
       "      <th>2</th>\n",
       "      <td>Breña</td>\n",
       "      <td>1.08</td>\n",
       "      <td>4.4</td>\n",
       "      <td>2.20</td>\n",
       "      <td>23.15</td>\n",
       "      <td>0.9</td>\n",
       "      <td>4.0</td>\n",
       "      <td>37.89</td>\n",
       "    </tr>\n",
       "    <tr>\n",
       "      <th>3</th>\n",
       "      <td>Carabayllo</td>\n",
       "      <td>1.10</td>\n",
       "      <td>5.1</td>\n",
       "      <td>30.13</td>\n",
       "      <td>38.09</td>\n",
       "      <td>4.5</td>\n",
       "      <td>12.6</td>\n",
       "      <td>63.65</td>\n",
       "    </tr>\n",
       "    <tr>\n",
       "      <th>4</th>\n",
       "      <td>Comas</td>\n",
       "      <td>1.20</td>\n",
       "      <td>5.9</td>\n",
       "      <td>10.92</td>\n",
       "      <td>24.27</td>\n",
       "      <td>3.8</td>\n",
       "      <td>9.4</td>\n",
       "      <td>60.37</td>\n",
       "    </tr>\n",
       "  </tbody>\n",
       "</table>\n",
       "</div>"
      ],
      "text/plain": [
       "     distrito  ocu_vivi  pobpjov  sinelect  sinagua  pea1619  pocprin  peam15\n",
       "0         Ate      1.15      5.3     27.60    51.10      3.9      1.1   63.48\n",
       "1    Barranco      1.09      4.5      1.59     8.32      0.8      3.9   33.48\n",
       "2       Breña      1.08      4.4      2.20    23.15      0.9      4.0   37.89\n",
       "3  Carabayllo      1.10      5.1     30.13    38.09      4.5     12.6   63.65\n",
       "4       Comas      1.20      5.9     10.92    24.27      3.8      9.4   60.37"
      ]
     },
     "execution_count": 13,
     "metadata": {},
     "output_type": "execute_result"
    }
   ],
   "source": [
    "#Estableciendo nuestro directorio de trabajo\n",
    "miArchivo=\"distritos.sav\"\n",
    "distritos=pd.read_spss(miArchivo)\n",
    "distritos.head()"
   ]
  },
  {
   "cell_type": "code",
   "execution_count": 14,
   "metadata": {},
   "outputs": [
    {
     "data": {
      "text/html": [
       "<div>\n",
       "<style scoped>\n",
       "    .dataframe tbody tr th:only-of-type {\n",
       "        vertical-align: middle;\n",
       "    }\n",
       "\n",
       "    .dataframe tbody tr th {\n",
       "        vertical-align: top;\n",
       "    }\n",
       "\n",
       "    .dataframe thead th {\n",
       "        text-align: right;\n",
       "    }\n",
       "</style>\n",
       "<table border=\"1\" class=\"dataframe\">\n",
       "  <thead>\n",
       "    <tr style=\"text-align: right;\">\n",
       "      <th></th>\n",
       "      <th>ocu_vivi</th>\n",
       "      <th>pobpjov</th>\n",
       "      <th>sinelect</th>\n",
       "      <th>sinagua</th>\n",
       "      <th>pea1619</th>\n",
       "      <th>pocprin</th>\n",
       "      <th>peam15</th>\n",
       "    </tr>\n",
       "  </thead>\n",
       "  <tbody>\n",
       "    <tr>\n",
       "      <th>0</th>\n",
       "      <td>1.15</td>\n",
       "      <td>5.3</td>\n",
       "      <td>27.60</td>\n",
       "      <td>51.10</td>\n",
       "      <td>3.9</td>\n",
       "      <td>1.1</td>\n",
       "      <td>63.48</td>\n",
       "    </tr>\n",
       "    <tr>\n",
       "      <th>1</th>\n",
       "      <td>1.09</td>\n",
       "      <td>4.5</td>\n",
       "      <td>1.59</td>\n",
       "      <td>8.32</td>\n",
       "      <td>0.8</td>\n",
       "      <td>3.9</td>\n",
       "      <td>33.48</td>\n",
       "    </tr>\n",
       "    <tr>\n",
       "      <th>2</th>\n",
       "      <td>1.08</td>\n",
       "      <td>4.4</td>\n",
       "      <td>2.20</td>\n",
       "      <td>23.15</td>\n",
       "      <td>0.9</td>\n",
       "      <td>4.0</td>\n",
       "      <td>37.89</td>\n",
       "    </tr>\n",
       "    <tr>\n",
       "      <th>3</th>\n",
       "      <td>1.10</td>\n",
       "      <td>5.1</td>\n",
       "      <td>30.13</td>\n",
       "      <td>38.09</td>\n",
       "      <td>4.5</td>\n",
       "      <td>12.6</td>\n",
       "      <td>63.65</td>\n",
       "    </tr>\n",
       "    <tr>\n",
       "      <th>4</th>\n",
       "      <td>1.20</td>\n",
       "      <td>5.9</td>\n",
       "      <td>10.92</td>\n",
       "      <td>24.27</td>\n",
       "      <td>3.8</td>\n",
       "      <td>9.4</td>\n",
       "      <td>60.37</td>\n",
       "    </tr>\n",
       "  </tbody>\n",
       "</table>\n",
       "</div>"
      ],
      "text/plain": [
       "   ocu_vivi  pobpjov  sinelect  sinagua  pea1619  pocprin  peam15\n",
       "0      1.15      5.3     27.60    51.10      3.9      1.1   63.48\n",
       "1      1.09      4.5      1.59     8.32      0.8      3.9   33.48\n",
       "2      1.08      4.4      2.20    23.15      0.9      4.0   37.89\n",
       "3      1.10      5.1     30.13    38.09      4.5     12.6   63.65\n",
       "4      1.20      5.9     10.92    24.27      3.8      9.4   60.37"
      ]
     },
     "execution_count": 14,
     "metadata": {},
     "output_type": "execute_result"
    }
   ],
   "source": [
    "# Estableciendo nuestra matriz de datos \n",
    "X=distritos.iloc[:,1:]\n",
    "X.head()"
   ]
  },
  {
   "cell_type": "code",
   "execution_count": 15,
   "metadata": {},
   "outputs": [],
   "source": [
    "#Escalamiento de los datos\n",
    "mms=MinMaxScaler()\n",
    "x_mms=mms.fit_transform(X)"
   ]
  },
  {
   "cell_type": "code",
   "execution_count": 16,
   "metadata": {
    "scrolled": true
   },
   "outputs": [
    {
     "data": {
      "image/png": "[encoded data removed]",
      "text/plain": [
       "<Figure size 432x288 with 1 Axes>"
      ]
     },
     "metadata": {
      "needs_background": "light"
     },
     "output_type": "display_data"
    }
   ],
   "source": [
    "#Graficando mi Dendograma\n",
    "clusters=linkage(x_mms,metric='euclidean',method='ward')\n",
    "dendograma=dendrogram(clusters)\n",
    "plt.title('Dendograma de Distritos')\n",
    "plt.xlabel('Indices de Distritos')\n",
    "plt.ylabel('Distancias(Alturas)')\n",
    "plt.show()"
   ]
  },
  {
   "cell_type": "code",
   "execution_count": 17,
   "metadata": {},
   "outputs": [
    {
     "data": {
      "text/plain": [
       "array([0, 1, 1, 0, 0, 1, 0, 0, 1, 1, 1, 1, 0, 0, 1, 1, 1, 1, 1, 1, 0, 0,\n",
       "       1, 1, 1, 0, 1, 1, 0, 1, 0, 0, 1, 1], dtype=int64)"
      ]
     },
     "execution_count": 17,
     "metadata": {},
     "output_type": "execute_result"
    }
   ],
   "source": [
    "#Visualmente nos quedamos con 2 clusters\n",
    "agnes=AgglomerativeClustering(n_clusters=2, affinity='euclidean',linkage='ward')\n",
    "y_clust=agnes.fit_predict(x_mms)\n",
    "y_clust"
   ]
  },
  {
   "cell_type": "code",
   "execution_count": 18,
   "metadata": {},
   "outputs": [
    {
     "data": {
      "text/html": [
       "<div>\n",
       "<style scoped>\n",
       "    .dataframe tbody tr th:only-of-type {\n",
       "        vertical-align: middle;\n",
       "    }\n",
       "\n",
       "    .dataframe tbody tr th {\n",
       "        vertical-align: top;\n",
       "    }\n",
       "\n",
       "    .dataframe thead th {\n",
       "        text-align: right;\n",
       "    }\n",
       "</style>\n",
       "<table border=\"1\" class=\"dataframe\">\n",
       "  <thead>\n",
       "    <tr style=\"text-align: right;\">\n",
       "      <th></th>\n",
       "      <th>distrito</th>\n",
       "      <th>ocu_vivi</th>\n",
       "      <th>pobpjov</th>\n",
       "      <th>sinelect</th>\n",
       "      <th>sinagua</th>\n",
       "      <th>pea1619</th>\n",
       "      <th>pocprin</th>\n",
       "      <th>peam15</th>\n",
       "      <th>cluster</th>\n",
       "    </tr>\n",
       "  </thead>\n",
       "  <tbody>\n",
       "    <tr>\n",
       "      <th>0</th>\n",
       "      <td>Ate</td>\n",
       "      <td>1.15</td>\n",
       "      <td>5.3</td>\n",
       "      <td>27.60</td>\n",
       "      <td>51.10</td>\n",
       "      <td>3.9</td>\n",
       "      <td>1.1</td>\n",
       "      <td>63.48</td>\n",
       "      <td>0</td>\n",
       "    </tr>\n",
       "    <tr>\n",
       "      <th>1</th>\n",
       "      <td>Barranco</td>\n",
       "      <td>1.09</td>\n",
       "      <td>4.5</td>\n",
       "      <td>1.59</td>\n",
       "      <td>8.32</td>\n",
       "      <td>0.8</td>\n",
       "      <td>3.9</td>\n",
       "      <td>33.48</td>\n",
       "      <td>1</td>\n",
       "    </tr>\n",
       "    <tr>\n",
       "      <th>2</th>\n",
       "      <td>Breña</td>\n",
       "      <td>1.08</td>\n",
       "      <td>4.4</td>\n",
       "      <td>2.20</td>\n",
       "      <td>23.15</td>\n",
       "      <td>0.9</td>\n",
       "      <td>4.0</td>\n",
       "      <td>37.89</td>\n",
       "      <td>1</td>\n",
       "    </tr>\n",
       "    <tr>\n",
       "      <th>3</th>\n",
       "      <td>Carabayllo</td>\n",
       "      <td>1.10</td>\n",
       "      <td>5.1</td>\n",
       "      <td>30.13</td>\n",
       "      <td>38.09</td>\n",
       "      <td>4.5</td>\n",
       "      <td>12.6</td>\n",
       "      <td>63.65</td>\n",
       "      <td>0</td>\n",
       "    </tr>\n",
       "    <tr>\n",
       "      <th>4</th>\n",
       "      <td>Comas</td>\n",
       "      <td>1.20</td>\n",
       "      <td>5.9</td>\n",
       "      <td>10.92</td>\n",
       "      <td>24.27</td>\n",
       "      <td>3.8</td>\n",
       "      <td>9.4</td>\n",
       "      <td>60.37</td>\n",
       "      <td>0</td>\n",
       "    </tr>\n",
       "  </tbody>\n",
       "</table>\n",
       "</div>"
      ],
      "text/plain": [
       "     distrito  ocu_vivi  pobpjov  sinelect  sinagua  pea1619  pocprin  peam15  \\\n",
       "0         Ate      1.15      5.3     27.60    51.10      3.9      1.1   63.48   \n",
       "1    Barranco      1.09      4.5      1.59     8.32      0.8      3.9   33.48   \n",
       "2       Breña      1.08      4.4      2.20    23.15      0.9      4.0   37.89   \n",
       "3  Carabayllo      1.10      5.1     30.13    38.09      4.5     12.6   63.65   \n",
       "4       Comas      1.20      5.9     10.92    24.27      3.8      9.4   60.37   \n",
       "\n",
       "   cluster  \n",
       "0        0  \n",
       "1        1  \n",
       "2        1  \n",
       "3        0  \n",
       "4        0  "
      ]
     },
     "execution_count": 18,
     "metadata": {},
     "output_type": "execute_result"
    }
   ],
   "source": [
    "distritos['cluster']=y_clust\n",
    "distritos.head()"
   ]
  },
  {
   "cell_type": "code",
   "execution_count": 19,
   "metadata": {},
   "outputs": [
    {
     "data": {
      "text/plain": [
       "<matplotlib.collections.PathCollection at 0x1b6bba626d0>"
      ]
     },
     "execution_count": 19,
     "metadata": {},
     "output_type": "execute_result"
    },
    {
     "data": {
      "image/png": "[encoded data removed]",
      "text/plain": [
       "<Figure size 432x288 with 1 Axes>"
      ]
     },
     "metadata": {
      "needs_background": "light"
     },
     "output_type": "display_data"
    }
   ],
   "source": [
    "#Graficando los clusters\n",
    "plt.scatter(x_mms[:,2], #valores eje X\n",
    "            x_mms[:,3], #valores eje Y\n",
    "            c=y_clust, \n",
    "            s=20)"
   ]
  },
  {
   "cell_type": "markdown",
   "metadata": {},
   "source": [
    "### Hallando el numero de k_optimo con distintos criterios de evaluación"
   ]
  },
  {
   "cell_type": "code",
   "execution_count": 24,
   "metadata": {
    "scrolled": true
   },
   "outputs": [
    {
     "data": {
      "text/plain": [
       "Text(0.5, 1.0, 'Davies Bouldin para distritos')"
      ]
     },
     "execution_count": 24,
     "metadata": {},
     "output_type": "execute_result"
    },
    {
     "data": {
      "image/png": "[encoded data removed]",
      "text/plain": [
       "<Figure size 432x864 with 3 Axes>"
      ]
     },
     "metadata": {
      "needs_background": "light"
     },
     "output_type": "display_data"
    }
   ],
   "source": [
    "silueta=[]\n",
    "calinski=[]\n",
    "DB=[]\n",
    "fig, ax =plt.subplots(3,1)\n",
    "fig.set_size_inches(6,12)\n",
    "for i in range (2,11):\n",
    "    hc=AgglomerativeClustering(n_clusters=i,affinity='euclidean',linkage='ward')\n",
    "    silueta.append(silhouette_score(x_mms,hc.fit_predict(x_mms)))\n",
    "    calinski.append(calinski_harabasz_score(x_mms,hc.fit_predict(x_mms)))\n",
    "    DB.append(davies_bouldin_score(x_mms,hc.fit_predict(x_mms)))\n",
    "    \n",
    "ax[0].plot(range(2,11),silueta)\n",
    "ax[0].set_title(\"Silueta para distritos (Max-Value)\")\n",
    "ax[1].plot(range(2,11),calinski)\n",
    "ax[1].set_title(\"Calinski para distritos (Max-Value)\")\n",
    "ax[2].plot(range(2,11),DB)\n",
    "ax[2].set_title(\"Davies Bouldin para distritos (Min-Value)\")\n",
    "\n",
    "plt.show()"
   ]
  },
  {
   "cell_type": "code",
   "execution_count": 32,
   "metadata": {},
   "outputs": [],
   "source": [
    "# Para silueta, el valor que nos importa es el maximo, el punto maximo de la linea cae en el cluster = 2\n",
    "# Para Calinski, el valor que nos importa es el maximo, el punto maximo de la linea cae en el cluster = 2\n",
    "# Para Davies Bouldin, el valor que nos importa es el minimo, el punto minimo de la linea cae en el cluster = 9\n",
    "#CONCLUSION: COMO silueta y Calinski dan como resultado optimo cluster= 2 y solo Davies Bouldin difiere entonces se da por \n",
    "#hecho que el numero optimo de clusters es 2"
   ]
  },
  {
   "cell_type": "markdown",
   "metadata": {},
   "source": [
    "### Hallando el mejor metodo de vinculación para un k_optimo "
   ]
  },
  {
   "cell_type": "code",
   "execution_count": 31,
   "metadata": {},
   "outputs": [
    {
     "data": {
      "image/png": "[encoded data removed]",
      "text/plain": [
       "<Figure size 1152x432 with 3 Axes>"
      ]
     },
     "metadata": {
      "needs_background": "light"
     },
     "output_type": "display_data"
    }
   ],
   "source": [
    "k_optimo=2\n",
    "linkages=[\"ward\",\"complete\",\"average\",\"single\"]\n",
    "\n",
    "fig, (ax1,ax2,ax3) = plt.subplots(1,3)\n",
    "fig.set_size_inches(16,6)\n",
    "fig.suptitle(\"Gráficas para Vinculación Óptima\")\n",
    "\n",
    "silueta=[]\n",
    "calinski=[]\n",
    "DB=[]\n",
    "\n",
    "for i in range(0,len(linkages)):\n",
    "    hc=AgglomerativeClustering(n_clusters=k_optimo,affinity=\"euclidean\",linkage=linkages[i])\n",
    "    silueta.append(silhouette_score(x_mms,hc.fit_predict(x_mms)))\n",
    "    calinski.append(calinski_harabasz_score(x_mms,hc.fit_predict(x_mms)))\n",
    "    DB.append(davies_bouldin_score(x_mms,hc.fit_predict(x_mms)))\n",
    "    \n",
    "#Acerca de gráficas\n",
    "ax1.bar(linkages,silueta,color='green')\n",
    "ax1.set_title(\"Indice de Silueta (MaxValue)\")\n",
    "ax2.bar(linkages,calinski,color='blue')\n",
    "ax2.set_title(\"Indice de Calinski (MaxValue)\")\n",
    "ax3.bar(linkages,DB,color='skyblue')\n",
    "ax3.set_title(\"Indice de Davies Bouldin (MinValue)\")\n",
    "\n",
    "plt.show()\n"
   ]
  },
  {
   "cell_type": "markdown",
   "metadata": {},
   "source": [
    "***Del análisis de la estructura de datos, se puede deducir un numero optimo de clusters igual a 2 con un metodo de vinculación \"complete\"***"
   ]
  },
  {
   "cell_type": "code",
   "execution_count": null,
   "metadata": {},
   "outputs": [],
   "source": []
  }
 ],
 "metadata": {
  "kernelspec": {
   "display_name": "Python 3",
   "language": "python",
   "name": "python3"
  },
  "language_info": {
   "codemirror_mode": {
    "name": "ipython",
    "version": 3
   },
   "file_extension": ".py",
   "mimetype": "text/x-python",
   "name": "python",
   "nbconvert_exporter": "python",
   "pygments_lexer": "ipython3",
   "version": "3.8.3"
  }
 },
 "nbformat": 4,
 "nbformat_minor": 4
}