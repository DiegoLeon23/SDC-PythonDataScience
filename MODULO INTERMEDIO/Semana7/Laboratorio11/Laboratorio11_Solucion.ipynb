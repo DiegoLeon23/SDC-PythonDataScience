{
 "cells": [
  {
   "cell_type": "markdown",
   "metadata": {},
   "source": [
    "# _DESARROLLO LABORATORIO 11_"
   ]
  },
  {
   "cell_type": "code",
   "execution_count": 1,
   "metadata": {},
   "outputs": [],
   "source": [
    "import pandas as pd\n",
    "import numpy as np\n",
    "import matplotlib.pyplot as plt\n",
    "import os \n",
    "import scipy.stats as stats #Para calculo de p-values, prob estadisticas\n",
    "from sklearn.model_selection import train_test_split # Para particionamiento de datos\n",
    "from sklearn.preprocessing import StandardScaler #Para estandarizacion\n",
    "from sklearn.preprocessing import MinMaxScaler #Para normalizacion\n",
    "from sklearn.metrics import euclidean_distances, silhouette_score #Para obtener valores de silueta\n",
    "from sklearn.cluster import KMeans #Para utilizar el método KMeans\n",
    "from sklearn.decomposition import PCA #para el analisis componentes principales"
   ]
  },
  {
   "cell_type": "code",
   "execution_count": 2,
   "metadata": {},
   "outputs": [],
   "source": [
    "os.chdir(\"D:\\Social Data Consulting\\Python for Data Science\\data\")"
   ]
  },
  {
   "cell_type": "markdown",
   "metadata": {},
   "source": [
    "**Obteniendo la data**"
   ]
  },
  {
   "cell_type": "code",
   "execution_count": 3,
   "metadata": {},
   "outputs": [
    {
     "data": {
      "text/html": [
       "<div>\n",
       "<style scoped>\n",
       "    .dataframe tbody tr th:only-of-type {\n",
       "        vertical-align: middle;\n",
       "    }\n",
       "\n",
       "    .dataframe tbody tr th {\n",
       "        vertical-align: top;\n",
       "    }\n",
       "\n",
       "    .dataframe thead th {\n",
       "        text-align: right;\n",
       "    }\n",
       "</style>\n",
       "<table border=\"1\" class=\"dataframe\">\n",
       "  <thead>\n",
       "    <tr style=\"text-align: right;\">\n",
       "      <th></th>\n",
       "      <th>tipoddem</th>\n",
       "      <th>pais</th>\n",
       "      <th>posicion</th>\n",
       "      <th>puntaj</th>\n",
       "      <th>ppelec</th>\n",
       "      <th>fdelgob</th>\n",
       "      <th>partpk</th>\n",
       "      <th>cultpk</th>\n",
       "      <th>libciv</th>\n",
       "    </tr>\n",
       "  </thead>\n",
       "  <tbody>\n",
       "    <tr>\n",
       "      <th>0</th>\n",
       "      <td>Democracia plena</td>\n",
       "      <td>Costa Rica</td>\n",
       "      <td>25.0</td>\n",
       "      <td>8.04</td>\n",
       "      <td>9.58</td>\n",
       "      <td>8.21</td>\n",
       "      <td>6.11</td>\n",
       "      <td>6.88</td>\n",
       "      <td>9.41</td>\n",
       "    </tr>\n",
       "    <tr>\n",
       "      <th>1</th>\n",
       "      <td>Democracia plena</td>\n",
       "      <td>Uruguay</td>\n",
       "      <td>27.0</td>\n",
       "      <td>7.96</td>\n",
       "      <td>10.00</td>\n",
       "      <td>8.21</td>\n",
       "      <td>5.00</td>\n",
       "      <td>6.88</td>\n",
       "      <td>9.71</td>\n",
       "    </tr>\n",
       "    <tr>\n",
       "      <th>2</th>\n",
       "      <td>Democracia debil</td>\n",
       "      <td>Argentina</td>\n",
       "      <td>54.0</td>\n",
       "      <td>6.63</td>\n",
       "      <td>8.75</td>\n",
       "      <td>5.00</td>\n",
       "      <td>5.56</td>\n",
       "      <td>5.63</td>\n",
       "      <td>8.24</td>\n",
       "    </tr>\n",
       "    <tr>\n",
       "      <th>3</th>\n",
       "      <td>Democracia debil</td>\n",
       "      <td>Bolivia</td>\n",
       "      <td>81.0</td>\n",
       "      <td>5.98</td>\n",
       "      <td>8.33</td>\n",
       "      <td>5.71</td>\n",
       "      <td>4.44</td>\n",
       "      <td>3.75</td>\n",
       "      <td>7.65</td>\n",
       "    </tr>\n",
       "    <tr>\n",
       "      <th>4</th>\n",
       "      <td>Democracia debil</td>\n",
       "      <td>Brazil</td>\n",
       "      <td>42.0</td>\n",
       "      <td>7.38</td>\n",
       "      <td>9.58</td>\n",
       "      <td>7.86</td>\n",
       "      <td>4.44</td>\n",
       "      <td>5.63</td>\n",
       "      <td>9.41</td>\n",
       "    </tr>\n",
       "  </tbody>\n",
       "</table>\n",
       "</div>"
      ],
      "text/plain": [
       "           tipoddem        pais  posicion  puntaj  ppelec  fdelgob  partpk  \\\n",
       "0  Democracia plena  Costa Rica      25.0    8.04    9.58     8.21    6.11   \n",
       "1  Democracia plena     Uruguay      27.0    7.96   10.00     8.21    5.00   \n",
       "2  Democracia debil   Argentina      54.0    6.63    8.75     5.00    5.56   \n",
       "3  Democracia debil     Bolivia      81.0    5.98    8.33     5.71    4.44   \n",
       "4  Democracia debil      Brazil      42.0    7.38    9.58     7.86    4.44   \n",
       "\n",
       "   cultpk  libciv  \n",
       "0    6.88    9.41  \n",
       "1    6.88    9.71  \n",
       "2    5.63    8.24  \n",
       "3    3.75    7.65  \n",
       "4    5.63    9.41  "
      ]
     },
     "execution_count": 3,
     "metadata": {},
     "output_type": "execute_result"
    }
   ],
   "source": [
    "miArchivo=\"democracias_latam.sav\"\n",
    "df_democracia=pd.read_spss(miArchivo)\n",
    "df_democracia.head()"
   ]
  },
  {
   "cell_type": "code",
   "execution_count": 4,
   "metadata": {},
   "outputs": [
    {
     "name": "stdout",
     "output_type": "stream",
     "text": [
      "<class 'pandas.core.frame.DataFrame'>\n",
      "RangeIndex: 20 entries, 0 to 19\n",
      "Data columns (total 9 columns):\n",
      " #   Column    Non-Null Count  Dtype   \n",
      "---  ------    --------------  -----   \n",
      " 0   tipoddem  20 non-null     category\n",
      " 1   pais      20 non-null     object  \n",
      " 2   posicion  20 non-null     float64 \n",
      " 3   puntaj    20 non-null     float64 \n",
      " 4   ppelec    20 non-null     float64 \n",
      " 5   fdelgob   20 non-null     float64 \n",
      " 6   partpk    20 non-null     float64 \n",
      " 7   cultpk    20 non-null     float64 \n",
      " 8   libciv    20 non-null     float64 \n",
      "dtypes: category(1), float64(7), object(1)\n",
      "memory usage: 1.6+ KB\n"
     ]
    }
   ],
   "source": [
    "df_democracia.info()"
   ]
  },
  {
   "cell_type": "code",
   "execution_count": 5,
   "metadata": {},
   "outputs": [
    {
     "data": {
      "text/html": [
       "<div>\n",
       "<style scoped>\n",
       "    .dataframe tbody tr th:only-of-type {\n",
       "        vertical-align: middle;\n",
       "    }\n",
       "\n",
       "    .dataframe tbody tr th {\n",
       "        vertical-align: top;\n",
       "    }\n",
       "\n",
       "    .dataframe thead th {\n",
       "        text-align: right;\n",
       "    }\n",
       "</style>\n",
       "<table border=\"1\" class=\"dataframe\">\n",
       "  <thead>\n",
       "    <tr style=\"text-align: right;\">\n",
       "      <th></th>\n",
       "      <th>posicion</th>\n",
       "      <th>puntaj</th>\n",
       "      <th>ppelec</th>\n",
       "      <th>fdelgob</th>\n",
       "      <th>partpk</th>\n",
       "      <th>cultpk</th>\n",
       "      <th>libciv</th>\n",
       "    </tr>\n",
       "  </thead>\n",
       "  <tbody>\n",
       "    <tr>\n",
       "      <th>0</th>\n",
       "      <td>25.0</td>\n",
       "      <td>8.04</td>\n",
       "      <td>9.58</td>\n",
       "      <td>8.21</td>\n",
       "      <td>6.11</td>\n",
       "      <td>6.88</td>\n",
       "      <td>9.41</td>\n",
       "    </tr>\n",
       "    <tr>\n",
       "      <th>1</th>\n",
       "      <td>27.0</td>\n",
       "      <td>7.96</td>\n",
       "      <td>10.00</td>\n",
       "      <td>8.21</td>\n",
       "      <td>5.00</td>\n",
       "      <td>6.88</td>\n",
       "      <td>9.71</td>\n",
       "    </tr>\n",
       "    <tr>\n",
       "      <th>2</th>\n",
       "      <td>54.0</td>\n",
       "      <td>6.63</td>\n",
       "      <td>8.75</td>\n",
       "      <td>5.00</td>\n",
       "      <td>5.56</td>\n",
       "      <td>5.63</td>\n",
       "      <td>8.24</td>\n",
       "    </tr>\n",
       "    <tr>\n",
       "      <th>3</th>\n",
       "      <td>81.0</td>\n",
       "      <td>5.98</td>\n",
       "      <td>8.33</td>\n",
       "      <td>5.71</td>\n",
       "      <td>4.44</td>\n",
       "      <td>3.75</td>\n",
       "      <td>7.65</td>\n",
       "    </tr>\n",
       "    <tr>\n",
       "      <th>4</th>\n",
       "      <td>42.0</td>\n",
       "      <td>7.38</td>\n",
       "      <td>9.58</td>\n",
       "      <td>7.86</td>\n",
       "      <td>4.44</td>\n",
       "      <td>5.63</td>\n",
       "      <td>9.41</td>\n",
       "    </tr>\n",
       "  </tbody>\n",
       "</table>\n",
       "</div>"
      ],
      "text/plain": [
       "   posicion  puntaj  ppelec  fdelgob  partpk  cultpk  libciv\n",
       "0      25.0    8.04    9.58     8.21    6.11    6.88    9.41\n",
       "1      27.0    7.96   10.00     8.21    5.00    6.88    9.71\n",
       "2      54.0    6.63    8.75     5.00    5.56    5.63    8.24\n",
       "3      81.0    5.98    8.33     5.71    4.44    3.75    7.65\n",
       "4      42.0    7.38    9.58     7.86    4.44    5.63    9.41"
      ]
     },
     "execution_count": 5,
     "metadata": {},
     "output_type": "execute_result"
    }
   ],
   "source": [
    "df=df_democracia.iloc[:,2:]\n",
    "df.head()"
   ]
  },
  {
   "cell_type": "markdown",
   "metadata": {},
   "source": [
    "**1.Número óptimo de clúster según método del codo y silueta aplicando kmeans.**"
   ]
  },
  {
   "cell_type": "code",
   "execution_count": 6,
   "metadata": {},
   "outputs": [],
   "source": [
    "#Instanciando un objeto de clase StandardScaler\n",
    "sc=StandardScaler()\n",
    "X_Std=sc.fit_transform(df)"
   ]
  },
  {
   "cell_type": "code",
   "execution_count": 7,
   "metadata": {},
   "outputs": [
    {
     "data": {
      "text/plain": [
       "array([[-1.66945207,  1.57474365,  0.71565194,  1.51011233,  1.61551782,\n",
       "         1.80093364,  0.963626  ],\n",
       "       [-1.59234112,  1.50298091,  0.94883566,  1.51011233,  0.44078819,\n",
       "         1.80093364,  1.16055229],\n",
       "       [-0.55134329,  0.30992534,  0.25483649, -0.44608645,  1.03344458,\n",
       "         0.67647457,  0.19561345],\n",
       "       [ 0.48965453, -0.27314693,  0.02165277, -0.01340697, -0.1518682 ,\n",
       "        -1.01471186, -0.19167493],\n",
       "       [-1.01400899,  0.98270103,  0.71565194,  1.29681962, -0.1518682 ,\n",
       "         0.67647457,  0.963626  ],\n",
       "       [-1.47667469,  1.44018851,  0.71565194,  1.94888588,  0.44078819,\n",
       "         1.23420627,  1.16055229],\n",
       "       [-0.05012212,  0.10360746,  0.48802021, -0.83610739,  0.44078819,\n",
       "        -0.44798449,  0.77326391],\n",
       "       [ 0.21976621, -0.13859179,  0.48802021, -0.87876593, -1.32659783,\n",
       "         0.67647457,  0.19561345],\n",
       "       [ 0.06554431, -0.05785871,  0.48802021, -0.18404113, -0.73394144,\n",
       "        -0.44798449,  0.19561345],\n",
       "       [ 0.33543263, -0.19241385,  0.25483649,  0.64475337, -1.90867107,\n",
       "        -0.44798449, -0.19167493]])"
      ]
     },
     "execution_count": 7,
     "metadata": {},
     "output_type": "execute_result"
    }
   ],
   "source": [
    "X_Std[0:10]"
   ]
  },
  {
   "cell_type": "markdown",
   "metadata": {},
   "source": [
    "## KMEANS "
   ]
  },
  {
   "cell_type": "markdown",
   "metadata": {},
   "source": [
    "**Usando el metodo del codo para numero optimo de clusters**"
   ]
  },
  {
   "cell_type": "code",
   "execution_count": 8,
   "metadata": {},
   "outputs": [],
   "source": [
    "inercia=[]\n",
    "for i in range(2,11):\n",
    "    km=KMeans(n_clusters=i,\n",
    "             init='k-means++',\n",
    "             n_init=10,\n",
    "             tol=0.0004,\n",
    "             random_state=2020)\n",
    "    km.fit(X_Std)\n",
    "    inercia.append(km.inertia_)"
   ]
  },
  {
   "cell_type": "code",
   "execution_count": 9,
   "metadata": {},
   "outputs": [
    {
     "data": {
      "image/png": "[encoded data removed]",
      "text/plain": [
       "<Figure size 432x288 with 1 Axes>"
      ]
     },
     "metadata": {
      "needs_background": "light"
     },
     "output_type": "display_data"
    }
   ],
   "source": [
    "plt.plot(range(2,11),inercia,marker='o')\n",
    "plt.title('Metodo del Codo para Clusters')\n",
    "plt.xlabel('Numero de Clusters')\n",
    "plt.ylabel('Valores de inercia')\n",
    "plt.show()"
   ]
  },
  {
   "cell_type": "markdown",
   "metadata": {},
   "source": [
    "    Obtenemos que el numero 3 es el numero de clusters optimo segun el metodo del codo"
   ]
  },
  {
   "cell_type": "markdown",
   "metadata": {},
   "source": [
    "**Usando el metodo de siluetas para numero optimo de clusters**"
   ]
  },
  {
   "cell_type": "code",
   "execution_count": 10,
   "metadata": {},
   "outputs": [],
   "source": [
    "silueta = [] #crear un objeto vacío tipo lista\n",
    "for i in range(2,11):\n",
    "    kmeans = KMeans(n_clusters = i, \n",
    "                    init = 'k-means++', \n",
    "                    max_iter = 300, \n",
    "                    n_init = 10,\n",
    "                    random_state = 2020)\n",
    "    silueta.append(silhouette_score(X_Std, #datos\n",
    "                                kmeans.fit_predict(X_Std))) #etiquetas para cada observación"
   ]
  },
  {
   "cell_type": "code",
   "execution_count": 11,
   "metadata": {},
   "outputs": [
    {
     "data": {
      "image/png": "[encoded data removed]",
      "text/plain": [
       "<Figure size 432x288 with 1 Axes>"
      ]
     },
     "metadata": {
      "needs_background": "light"
     },
     "output_type": "display_data"
    }
   ],
   "source": [
    "plt.plot(range(2, 11),\n",
    "         silueta)\n",
    "plt.ylabel(\"Silueta\")\n",
    "plt.xlabel(\"k\")\n",
    "plt.title(\"Método de silueta para data simulada\")\n",
    "plt.tight_layout()\n",
    "plt.show()"
   ]
  },
  {
   "cell_type": "markdown",
   "metadata": {},
   "source": [
    "**Segun metodo de siluetas el numero de clusters optimos a usar son 3**"
   ]
  },
  {
   "cell_type": "markdown",
   "metadata": {},
   "source": [
    "    Gráfico de Silueta"
   ]
  },
  {
   "cell_type": "code",
   "execution_count": 12,
   "metadata": {},
   "outputs": [],
   "source": [
    "import numpy as np\n",
    "from matplotlib import cm\n",
    "from sklearn.metrics import silhouette_samples\n",
    "import matplotlib.pyplot as plt\n",
    "import warnings\n",
    "\n",
    "warnings.filterwarnings('ignore')\n",
    "\n",
    "plt.rcParams['figure.figsize'] = (14, 4)\n",
    "\n",
    "def Grafico_de_silueta(X,n_cluster_list,init,n_init,max_iter,tol,semilla):\n",
    "    cont=0\n",
    "    for i in n_cluster_list:\n",
    "        cont += 1\n",
    "        plt.subplot(1, 4, cont)\n",
    "        km = KMeans(n_clusters=i, \n",
    "                        init=init,  #elija k observaciones (filas) para los centroides iniciales\n",
    "                        n_init=n_init, #número de veces que el algoritmo se ejecutará\n",
    "                        max_iter=max_iter, #número máximo de iteraciones para una ejecución\n",
    "                        tol=tol, #tolerancia para declarar convergencia\n",
    "                        random_state=semilla) #semilla\n",
    "        y_km = km.fit_predict(X)\n",
    "        cluster_labels = np.unique(y_km) #valores de clúster\n",
    "        n_clusters = cluster_labels.shape[0] #núnero de clústers\n",
    "        silhouette_vals = silhouette_samples(X, y_km, metric='euclidean') #valores de silueta teniendo en cuenta la distancia euclideana\n",
    "\n",
    "        y_ax_lower, y_ax_upper = 0, 0\n",
    "        yticks = [] #objeto tipo lista vacío\n",
    "        for i, c in enumerate(cluster_labels):\n",
    "            c_silhouette_vals = silhouette_vals[y_km == c] #valores de silueta cuando y_km toma el valor c de los posibles n de clúster\n",
    "            c_silhouette_vals.sort() #se ordenan de menor a mayor los valores de silueta\n",
    "            y_ax_upper += len(c_silhouette_vals) #número de valores de silueta\n",
    "            color = cm.jet(float(i) / km.n_clusters) # definir el color\n",
    "            plt.barh(range(y_ax_lower, y_ax_upper), c_silhouette_vals, height=1.0, \n",
    "                     edgecolor='none', color=color) #visualización de los valores de silueta para k\n",
    "            yticks.append((y_ax_lower + y_ax_upper) / 2.)\n",
    "            y_ax_lower += len(c_silhouette_vals)\n",
    "        silhouette_avg = np.mean(silhouette_vals)#media de los valores de silueta\n",
    "        plt.axvline(silhouette_avg, color=\"red\", linestyle=\"--\") # mostrar una línea con los valores medios de silueta\n",
    "        plt.yticks(yticks, cluster_labels + 1)\n",
    "        plt.ylabel('Cluster')\n",
    "        plt.xlabel('Coeficiente de Silueta')\n",
    "        plt.title(\"Silouette para k= \" + str(km.n_clusters) + \"\\n\" + \"Coeficiente de Silueta= \"+str(round((silhouette_avg),2)))\n",
    "        plt.tight_layout()\n",
    "        plt.show()"
   ]
  },
  {
   "cell_type": "code",
   "execution_count": 13,
   "metadata": {},
   "outputs": [
    {
     "data": {
      "image/png": "[encoded data removed]",
      "text/plain": [
       "<Figure size 1008x288 with 1 Axes>"
      ]
     },
     "metadata": {
      "needs_background": "light"
     },
     "output_type": "display_data"
    },
    {
     "data": {
      "image/png": "[encoded data removed]",
      "text/plain": [
       "<Figure size 1008x288 with 1 Axes>"
      ]
     },
     "metadata": {
      "needs_background": "light"
     },
     "output_type": "display_data"
    },
    {
     "data": {
      "image/png": "[encoded data removed]",
      "text/plain": [
       "<Figure size 1008x288 with 1 Axes>"
      ]
     },
     "metadata": {
      "needs_background": "light"
     },
     "output_type": "display_data"
    }
   ],
   "source": [
    "#Defino el numero de cluster en un array\n",
    "n_cluster_list=[2,3,4]\n",
    "init='k-means++' #elija k observaciones (filas) para los centroides iniciales\n",
    "n_init=10 #número de veces que el algoritmo se ejecutará\n",
    "max_iter=300#número máximo de iteraciones para una ejecución\n",
    "tol=1e-04 #tolerancia para declarar convergencia\n",
    "semilla = 2020\n",
    "Grafico_de_silueta(X_Std,n_cluster_list,init,n_init,max_iter,tol,semilla)"
   ]
  },
  {
   "cell_type": "markdown",
   "metadata": {},
   "source": [
    "**_El coeficiente de silueta es mayor cuando k=3_**"
   ]
  },
  {
   "cell_type": "markdown",
   "metadata": {},
   "source": [
    "**2.Data Frame donde se muestre la data incial y la etiqueta de clúster kmeans**"
   ]
  },
  {
   "cell_type": "code",
   "execution_count": 15,
   "metadata": {},
   "outputs": [],
   "source": [
    "#Creamos una instancia de K-Means \n",
    "km=KMeans(n_clusters=3,# numero de clusters\n",
    "         init='k-means++', #centroides iniciales\n",
    "         n_init=10, #numero de veces que se ejecutará el algoritmo\n",
    "         tol=0.0004,#tolerancia para declarar la convergencia\n",
    "         random_state=2020)#semilla"
   ]
  },
  {
   "cell_type": "code",
   "execution_count": 16,
   "metadata": {},
   "outputs": [
    {
     "data": {
      "text/plain": [
       "array([0, 0, 1, 1, 0, 0, 1, 1, 1, 1, 1, 1, 0, 1, 1, 1, 2, 1, 2, 1])"
      ]
     },
     "execution_count": 16,
     "metadata": {},
     "output_type": "execute_result"
    }
   ],
   "source": [
    "#Obteniendo las etiquetas de clusters\n",
    "y_km=km.fit_predict(X_Std)\n",
    "y_km"
   ]
  },
  {
   "cell_type": "code",
   "execution_count": 17,
   "metadata": {
    "scrolled": true
   },
   "outputs": [],
   "source": [
    "df_democracia['cluster']=y_km"
   ]
  },
  {
   "cell_type": "code",
   "execution_count": 18,
   "metadata": {},
   "outputs": [
    {
     "data": {
      "text/html": [
       "<div>\n",
       "<style scoped>\n",
       "    .dataframe tbody tr th:only-of-type {\n",
       "        vertical-align: middle;\n",
       "    }\n",
       "\n",
       "    .dataframe tbody tr th {\n",
       "        vertical-align: top;\n",
       "    }\n",
       "\n",
       "    .dataframe thead th {\n",
       "        text-align: right;\n",
       "    }\n",
       "</style>\n",
       "<table border=\"1\" class=\"dataframe\">\n",
       "  <thead>\n",
       "    <tr style=\"text-align: right;\">\n",
       "      <th></th>\n",
       "      <th>tipoddem</th>\n",
       "      <th>pais</th>\n",
       "      <th>posicion</th>\n",
       "      <th>puntaj</th>\n",
       "      <th>ppelec</th>\n",
       "      <th>fdelgob</th>\n",
       "      <th>partpk</th>\n",
       "      <th>cultpk</th>\n",
       "      <th>libciv</th>\n",
       "      <th>cluster</th>\n",
       "    </tr>\n",
       "  </thead>\n",
       "  <tbody>\n",
       "    <tr>\n",
       "      <th>0</th>\n",
       "      <td>Democracia plena</td>\n",
       "      <td>Costa Rica</td>\n",
       "      <td>25.0</td>\n",
       "      <td>8.04</td>\n",
       "      <td>9.58</td>\n",
       "      <td>8.21</td>\n",
       "      <td>6.11</td>\n",
       "      <td>6.88</td>\n",
       "      <td>9.41</td>\n",
       "      <td>0</td>\n",
       "    </tr>\n",
       "    <tr>\n",
       "      <th>1</th>\n",
       "      <td>Democracia plena</td>\n",
       "      <td>Uruguay</td>\n",
       "      <td>27.0</td>\n",
       "      <td>7.96</td>\n",
       "      <td>10.00</td>\n",
       "      <td>8.21</td>\n",
       "      <td>5.00</td>\n",
       "      <td>6.88</td>\n",
       "      <td>9.71</td>\n",
       "      <td>0</td>\n",
       "    </tr>\n",
       "    <tr>\n",
       "      <th>2</th>\n",
       "      <td>Democracia debil</td>\n",
       "      <td>Argentina</td>\n",
       "      <td>54.0</td>\n",
       "      <td>6.63</td>\n",
       "      <td>8.75</td>\n",
       "      <td>5.00</td>\n",
       "      <td>5.56</td>\n",
       "      <td>5.63</td>\n",
       "      <td>8.24</td>\n",
       "      <td>1</td>\n",
       "    </tr>\n",
       "    <tr>\n",
       "      <th>3</th>\n",
       "      <td>Democracia debil</td>\n",
       "      <td>Bolivia</td>\n",
       "      <td>81.0</td>\n",
       "      <td>5.98</td>\n",
       "      <td>8.33</td>\n",
       "      <td>5.71</td>\n",
       "      <td>4.44</td>\n",
       "      <td>3.75</td>\n",
       "      <td>7.65</td>\n",
       "      <td>1</td>\n",
       "    </tr>\n",
       "    <tr>\n",
       "      <th>4</th>\n",
       "      <td>Democracia debil</td>\n",
       "      <td>Brazil</td>\n",
       "      <td>42.0</td>\n",
       "      <td>7.38</td>\n",
       "      <td>9.58</td>\n",
       "      <td>7.86</td>\n",
       "      <td>4.44</td>\n",
       "      <td>5.63</td>\n",
       "      <td>9.41</td>\n",
       "      <td>0</td>\n",
       "    </tr>\n",
       "  </tbody>\n",
       "</table>\n",
       "</div>"
      ],
      "text/plain": [
       "           tipoddem        pais  posicion  puntaj  ppelec  fdelgob  partpk  \\\n",
       "0  Democracia plena  Costa Rica      25.0    8.04    9.58     8.21    6.11   \n",
       "1  Democracia plena     Uruguay      27.0    7.96   10.00     8.21    5.00   \n",
       "2  Democracia debil   Argentina      54.0    6.63    8.75     5.00    5.56   \n",
       "3  Democracia debil     Bolivia      81.0    5.98    8.33     5.71    4.44   \n",
       "4  Democracia debil      Brazil      42.0    7.38    9.58     7.86    4.44   \n",
       "\n",
       "   cultpk  libciv  cluster  \n",
       "0    6.88    9.41        0  \n",
       "1    6.88    9.71        0  \n",
       "2    5.63    8.24        1  \n",
       "3    3.75    7.65        1  \n",
       "4    5.63    9.41        0  "
      ]
     },
     "execution_count": 18,
     "metadata": {},
     "output_type": "execute_result"
    }
   ],
   "source": [
    "df_democracia.head()"
   ]
  },
  {
   "cell_type": "markdown",
   "metadata": {},
   "source": [
    "**3. Realizando un análisis de componentes principales, visualizar las etiquetas predichas.**"
   ]
  },
  {
   "cell_type": "code",
   "execution_count": 19,
   "metadata": {},
   "outputs": [],
   "source": [
    "cov_mat = np.cov(df.T)"
   ]
  },
  {
   "cell_type": "code",
   "execution_count": 20,
   "metadata": {},
   "outputs": [],
   "source": [
    "eigen_vals, eigen_vecs = np.linalg.eig(cov_mat)"
   ]
  },
  {
   "cell_type": "code",
   "execution_count": 21,
   "metadata": {},
   "outputs": [
    {
     "name": "stdout",
     "output_type": "stream",
     "text": [
      "\n",
      "Eigenvalues \n",
      "[7.16360872e+02 2.08595367e+00 1.24738553e+00 3.49827463e-01\n",
      " 2.49689736e-01 6.30611124e-02 4.56513700e-06]\n"
     ]
    }
   ],
   "source": [
    "print('\\nEigenvalues \\n%s' % eigen_vals)"
   ]
  },
  {
   "cell_type": "code",
   "execution_count": 22,
   "metadata": {},
   "outputs": [
    {
     "data": {
      "text/plain": [
       "3"
      ]
     },
     "execution_count": 22,
     "metadata": {},
     "output_type": "execute_result"
    }
   ],
   "source": [
    "(eigen_vals>1).sum() #CRITERIO DE KEISER , valor obtenido = 3"
   ]
  },
  {
   "cell_type": "code",
   "execution_count": 23,
   "metadata": {},
   "outputs": [
    {
     "data": {
      "text/plain": [
       "array([9.94452857e-01, 2.89572290e-03, 1.73162181e-03, 4.85630823e-04,\n",
       "       3.46619534e-04, 8.75414973e-05, 6.33732761e-09])"
      ]
     },
     "execution_count": 23,
     "metadata": {},
     "output_type": "execute_result"
    }
   ],
   "source": [
    "pca = PCA() #función PCA() la guardamos en el objeto pca\n",
    "df_pca = pca.fit_transform(df)\n",
    "#fit_transform\n",
    "pca.explained_variance_ratio_"
   ]
  },
  {
   "cell_type": "markdown",
   "metadata": {},
   "source": [
    "*PCA*"
   ]
  },
  {
   "cell_type": "code",
   "execution_count": 24,
   "metadata": {},
   "outputs": [
    {
     "name": "stdout",
     "output_type": "stream",
     "text": [
      "[[-3.64980323 -1.0459456   0.62098365]\n",
      " [-3.4605844   0.02665836  0.80917447]\n",
      " [-0.90456118 -1.00955    -0.49184929]\n",
      " [ 0.81276625  0.41620338 -0.32732093]\n",
      " [-2.18315486  0.70104232  0.55119876]\n",
      " [-3.23620064  0.2395192   0.96268794]\n",
      " [-0.22541715  0.01838136 -1.35365289]\n",
      " [ 0.27527053  0.85478459 -0.18717334]\n",
      " [ 0.19555624  0.91920759 -0.34981498]\n",
      " [ 0.62712097  1.84035651  0.78254867]\n",
      " [ 0.10024913  0.00622807  0.57728124]\n",
      " [-0.88212933 -0.14322429 -0.17530993]\n",
      " [-2.12903053 -0.45581414  0.03906855]\n",
      " [ 0.22530902 -0.24484069 -0.67022931]\n",
      " [ 0.29413542 -1.09950572 -1.37031569]\n",
      " [ 1.51353156 -0.08559126 -1.27707018]\n",
      " [ 4.15904403  1.18237874 -0.16677905]\n",
      " [ 1.70947429 -1.78646006 -0.35209168]\n",
      " [ 5.30481247 -1.6108831   2.26582604]\n",
      " [ 1.45361139  1.27705476  0.11283796]]\n"
     ]
    }
   ],
   "source": [
    "pca=PCA(n_components=3)\n",
    "x3comp=pca.fit_transform(X_Std)\n",
    "print(x3comp)"
   ]
  },
  {
   "cell_type": "code",
   "execution_count": 25,
   "metadata": {},
   "outputs": [
    {
     "data": {
      "text/html": [
       "<div>\n",
       "<style scoped>\n",
       "    .dataframe tbody tr th:only-of-type {\n",
       "        vertical-align: middle;\n",
       "    }\n",
       "\n",
       "    .dataframe tbody tr th {\n",
       "        vertical-align: top;\n",
       "    }\n",
       "\n",
       "    .dataframe thead th {\n",
       "        text-align: right;\n",
       "    }\n",
       "</style>\n",
       "<table border=\"1\" class=\"dataframe\">\n",
       "  <thead>\n",
       "    <tr style=\"text-align: right;\">\n",
       "      <th></th>\n",
       "      <th>PC1</th>\n",
       "      <th>PC2</th>\n",
       "      <th>PC3</th>\n",
       "      <th>Cluster</th>\n",
       "    </tr>\n",
       "  </thead>\n",
       "  <tbody>\n",
       "    <tr>\n",
       "      <th>0</th>\n",
       "      <td>-3.649803</td>\n",
       "      <td>-1.045946</td>\n",
       "      <td>0.620984</td>\n",
       "      <td>0</td>\n",
       "    </tr>\n",
       "    <tr>\n",
       "      <th>1</th>\n",
       "      <td>-3.460584</td>\n",
       "      <td>0.026658</td>\n",
       "      <td>0.809174</td>\n",
       "      <td>0</td>\n",
       "    </tr>\n",
       "    <tr>\n",
       "      <th>2</th>\n",
       "      <td>-0.904561</td>\n",
       "      <td>-1.009550</td>\n",
       "      <td>-0.491849</td>\n",
       "      <td>1</td>\n",
       "    </tr>\n",
       "    <tr>\n",
       "      <th>3</th>\n",
       "      <td>0.812766</td>\n",
       "      <td>0.416203</td>\n",
       "      <td>-0.327321</td>\n",
       "      <td>1</td>\n",
       "    </tr>\n",
       "    <tr>\n",
       "      <th>4</th>\n",
       "      <td>-2.183155</td>\n",
       "      <td>0.701042</td>\n",
       "      <td>0.551199</td>\n",
       "      <td>0</td>\n",
       "    </tr>\n",
       "    <tr>\n",
       "      <th>5</th>\n",
       "      <td>-3.236201</td>\n",
       "      <td>0.239519</td>\n",
       "      <td>0.962688</td>\n",
       "      <td>0</td>\n",
       "    </tr>\n",
       "    <tr>\n",
       "      <th>6</th>\n",
       "      <td>-0.225417</td>\n",
       "      <td>0.018381</td>\n",
       "      <td>-1.353653</td>\n",
       "      <td>1</td>\n",
       "    </tr>\n",
       "    <tr>\n",
       "      <th>7</th>\n",
       "      <td>0.275271</td>\n",
       "      <td>0.854785</td>\n",
       "      <td>-0.187173</td>\n",
       "      <td>1</td>\n",
       "    </tr>\n",
       "    <tr>\n",
       "      <th>8</th>\n",
       "      <td>0.195556</td>\n",
       "      <td>0.919208</td>\n",
       "      <td>-0.349815</td>\n",
       "      <td>1</td>\n",
       "    </tr>\n",
       "    <tr>\n",
       "      <th>9</th>\n",
       "      <td>0.627121</td>\n",
       "      <td>1.840357</td>\n",
       "      <td>0.782549</td>\n",
       "      <td>1</td>\n",
       "    </tr>\n",
       "  </tbody>\n",
       "</table>\n",
       "</div>"
      ],
      "text/plain": [
       "        PC1       PC2       PC3  Cluster\n",
       "0 -3.649803 -1.045946  0.620984        0\n",
       "1 -3.460584  0.026658  0.809174        0\n",
       "2 -0.904561 -1.009550 -0.491849        1\n",
       "3  0.812766  0.416203 -0.327321        1\n",
       "4 -2.183155  0.701042  0.551199        0\n",
       "5 -3.236201  0.239519  0.962688        0\n",
       "6 -0.225417  0.018381 -1.353653        1\n",
       "7  0.275271  0.854785 -0.187173        1\n",
       "8  0.195556  0.919208 -0.349815        1\n",
       "9  0.627121  1.840357  0.782549        1"
      ]
     },
     "execution_count": 25,
     "metadata": {},
     "output_type": "execute_result"
    }
   ],
   "source": [
    "df_x=pd.DataFrame(x3comp,columns=['PC1','PC2','PC3'])\n",
    "df_x['Cluster']=y_km\n",
    "df_x.head(10)"
   ]
  },
  {
   "cell_type": "markdown",
   "metadata": {},
   "source": [
    "**4.Teniendo en cuenta el método de k-means realizar un análisis clúster de k = 4 (k criterio de experto) y agregar la etiqueta a la data inicial.**"
   ]
  },
  {
   "cell_type": "code",
   "execution_count": 26,
   "metadata": {},
   "outputs": [],
   "source": [
    "#Creamos una instancia de K-Means \n",
    "km=KMeans(n_clusters=4,# numero de clusters\n",
    "         init='k-means++', #centroides iniciales\n",
    "         n_init=10, #numero de veces que se ejecutará el algoritmo\n",
    "         tol=0.0004,#tolerancia para declarar la convergencia\n",
    "         random_state=2020)#semilla"
   ]
  },
  {
   "cell_type": "code",
   "execution_count": 27,
   "metadata": {},
   "outputs": [
    {
     "data": {
      "text/plain": [
       "array([0, 0, 3, 1, 0, 0, 3, 1, 1, 1, 1, 1, 0, 3, 3, 3, 2, 3, 2, 1])"
      ]
     },
     "execution_count": 27,
     "metadata": {},
     "output_type": "execute_result"
    }
   ],
   "source": [
    "#Obteniendo las etiquetas de clusters\n",
    "y_km=km.fit_predict(X_Std)\n",
    "y_km"
   ]
  },
  {
   "cell_type": "code",
   "execution_count": 28,
   "metadata": {},
   "outputs": [],
   "source": [
    "df_democracia['Cluster-4']=y_km"
   ]
  },
  {
   "cell_type": "code",
   "execution_count": 29,
   "metadata": {},
   "outputs": [
    {
     "data": {
      "text/html": [
       "<div>\n",
       "<style scoped>\n",
       "    .dataframe tbody tr th:only-of-type {\n",
       "        vertical-align: middle;\n",
       "    }\n",
       "\n",
       "    .dataframe tbody tr th {\n",
       "        vertical-align: top;\n",
       "    }\n",
       "\n",
       "    .dataframe thead th {\n",
       "        text-align: right;\n",
       "    }\n",
       "</style>\n",
       "<table border=\"1\" class=\"dataframe\">\n",
       "  <thead>\n",
       "    <tr style=\"text-align: right;\">\n",
       "      <th></th>\n",
       "      <th>tipoddem</th>\n",
       "      <th>pais</th>\n",
       "      <th>posicion</th>\n",
       "      <th>puntaj</th>\n",
       "      <th>ppelec</th>\n",
       "      <th>fdelgob</th>\n",
       "      <th>partpk</th>\n",
       "      <th>cultpk</th>\n",
       "      <th>libciv</th>\n",
       "      <th>cluster</th>\n",
       "      <th>Cluster-4</th>\n",
       "    </tr>\n",
       "  </thead>\n",
       "  <tbody>\n",
       "    <tr>\n",
       "      <th>0</th>\n",
       "      <td>Democracia plena</td>\n",
       "      <td>Costa Rica</td>\n",
       "      <td>25.0</td>\n",
       "      <td>8.04</td>\n",
       "      <td>9.58</td>\n",
       "      <td>8.21</td>\n",
       "      <td>6.11</td>\n",
       "      <td>6.88</td>\n",
       "      <td>9.41</td>\n",
       "      <td>0</td>\n",
       "      <td>0</td>\n",
       "    </tr>\n",
       "    <tr>\n",
       "      <th>1</th>\n",
       "      <td>Democracia plena</td>\n",
       "      <td>Uruguay</td>\n",
       "      <td>27.0</td>\n",
       "      <td>7.96</td>\n",
       "      <td>10.00</td>\n",
       "      <td>8.21</td>\n",
       "      <td>5.00</td>\n",
       "      <td>6.88</td>\n",
       "      <td>9.71</td>\n",
       "      <td>0</td>\n",
       "      <td>0</td>\n",
       "    </tr>\n",
       "    <tr>\n",
       "      <th>2</th>\n",
       "      <td>Democracia debil</td>\n",
       "      <td>Argentina</td>\n",
       "      <td>54.0</td>\n",
       "      <td>6.63</td>\n",
       "      <td>8.75</td>\n",
       "      <td>5.00</td>\n",
       "      <td>5.56</td>\n",
       "      <td>5.63</td>\n",
       "      <td>8.24</td>\n",
       "      <td>1</td>\n",
       "      <td>3</td>\n",
       "    </tr>\n",
       "    <tr>\n",
       "      <th>3</th>\n",
       "      <td>Democracia debil</td>\n",
       "      <td>Bolivia</td>\n",
       "      <td>81.0</td>\n",
       "      <td>5.98</td>\n",
       "      <td>8.33</td>\n",
       "      <td>5.71</td>\n",
       "      <td>4.44</td>\n",
       "      <td>3.75</td>\n",
       "      <td>7.65</td>\n",
       "      <td>1</td>\n",
       "      <td>1</td>\n",
       "    </tr>\n",
       "    <tr>\n",
       "      <th>4</th>\n",
       "      <td>Democracia debil</td>\n",
       "      <td>Brazil</td>\n",
       "      <td>42.0</td>\n",
       "      <td>7.38</td>\n",
       "      <td>9.58</td>\n",
       "      <td>7.86</td>\n",
       "      <td>4.44</td>\n",
       "      <td>5.63</td>\n",
       "      <td>9.41</td>\n",
       "      <td>0</td>\n",
       "      <td>0</td>\n",
       "    </tr>\n",
       "  </tbody>\n",
       "</table>\n",
       "</div>"
      ],
      "text/plain": [
       "           tipoddem        pais  posicion  puntaj  ppelec  fdelgob  partpk  \\\n",
       "0  Democracia plena  Costa Rica      25.0    8.04    9.58     8.21    6.11   \n",
       "1  Democracia plena     Uruguay      27.0    7.96   10.00     8.21    5.00   \n",
       "2  Democracia debil   Argentina      54.0    6.63    8.75     5.00    5.56   \n",
       "3  Democracia debil     Bolivia      81.0    5.98    8.33     5.71    4.44   \n",
       "4  Democracia debil      Brazil      42.0    7.38    9.58     7.86    4.44   \n",
       "\n",
       "   cultpk  libciv  cluster  Cluster-4  \n",
       "0    6.88    9.41        0          0  \n",
       "1    6.88    9.71        0          0  \n",
       "2    5.63    8.24        1          3  \n",
       "3    3.75    7.65        1          1  \n",
       "4    5.63    9.41        0          0  "
      ]
     },
     "execution_count": 29,
     "metadata": {},
     "output_type": "execute_result"
    }
   ],
   "source": [
    "df_democracia.head()"
   ]
  },
  {
   "cell_type": "markdown",
   "metadata": {},
   "source": [
    "**5.Perfilamiento del modelo k-means según el óptimo de clúster.**"
   ]
  },
  {
   "cell_type": "code",
   "execution_count": 31,
   "metadata": {},
   "outputs": [],
   "source": [
    "#Creamos una instancia de K-Means \n",
    "km=KMeans(n_clusters=3,# numero de clusters (NÚMERO OPTIMO DE CLUSTERS)\n",
    "         init='k-means++', #centroides iniciales\n",
    "         n_init=10, #numero de veces que se ejecutará el algoritmo\n",
    "         tol=0.0004,#tolerancia para declarar la convergencia\n",
    "         random_state=2020)#semilla"
   ]
  },
  {
   "cell_type": "code",
   "execution_count": 32,
   "metadata": {},
   "outputs": [
    {
     "data": {
      "text/plain": [
       "array([0, 0, 1, 1, 0, 0, 1, 1, 1, 1, 1, 1, 0, 1, 1, 1, 2, 1, 2, 1])"
      ]
     },
     "execution_count": 32,
     "metadata": {},
     "output_type": "execute_result"
    }
   ],
   "source": [
    "#Obteniendo las etiquetas de clusters\n",
    "y_km=km.fit_predict(X_Std)\n",
    "y_km"
   ]
  },
  {
   "cell_type": "code",
   "execution_count": 33,
   "metadata": {
    "scrolled": true
   },
   "outputs": [
    {
     "data": {
      "text/html": [
       "<div>\n",
       "<style scoped>\n",
       "    .dataframe tbody tr th:only-of-type {\n",
       "        vertical-align: middle;\n",
       "    }\n",
       "\n",
       "    .dataframe tbody tr th {\n",
       "        vertical-align: top;\n",
       "    }\n",
       "\n",
       "    .dataframe thead th {\n",
       "        text-align: right;\n",
       "    }\n",
       "</style>\n",
       "<table border=\"1\" class=\"dataframe\">\n",
       "  <thead>\n",
       "    <tr style=\"text-align: right;\">\n",
       "      <th></th>\n",
       "      <th>cluster_label</th>\n",
       "    </tr>\n",
       "  </thead>\n",
       "  <tbody>\n",
       "    <tr>\n",
       "      <th>0</th>\n",
       "      <td>0</td>\n",
       "    </tr>\n",
       "    <tr>\n",
       "      <th>1</th>\n",
       "      <td>0</td>\n",
       "    </tr>\n",
       "    <tr>\n",
       "      <th>2</th>\n",
       "      <td>1</td>\n",
       "    </tr>\n",
       "    <tr>\n",
       "      <th>3</th>\n",
       "      <td>1</td>\n",
       "    </tr>\n",
       "    <tr>\n",
       "      <th>4</th>\n",
       "      <td>0</td>\n",
       "    </tr>\n",
       "  </tbody>\n",
       "</table>\n",
       "</div>"
      ],
      "text/plain": [
       "   cluster_label\n",
       "0              0\n",
       "1              0\n",
       "2              1\n",
       "3              1\n",
       "4              0"
      ]
     },
     "execution_count": 33,
     "metadata": {},
     "output_type": "execute_result"
    }
   ],
   "source": [
    "y_kmeans=pd.DataFrame(y_km,columns=['cluster_label'])\n",
    "y_kmeans.head()"
   ]
  },
  {
   "cell_type": "code",
   "execution_count": 34,
   "metadata": {},
   "outputs": [
    {
     "data": {
      "text/html": [
       "<div>\n",
       "<style scoped>\n",
       "    .dataframe tbody tr th:only-of-type {\n",
       "        vertical-align: middle;\n",
       "    }\n",
       "\n",
       "    .dataframe tbody tr th {\n",
       "        vertical-align: top;\n",
       "    }\n",
       "\n",
       "    .dataframe thead th {\n",
       "        text-align: right;\n",
       "    }\n",
       "</style>\n",
       "<table border=\"1\" class=\"dataframe\">\n",
       "  <thead>\n",
       "    <tr style=\"text-align: right;\">\n",
       "      <th></th>\n",
       "      <th>posicion</th>\n",
       "      <th>puntaj</th>\n",
       "      <th>ppelec</th>\n",
       "      <th>fdelgob</th>\n",
       "      <th>partpk</th>\n",
       "      <th>cultpk</th>\n",
       "      <th>libciv</th>\n",
       "    </tr>\n",
       "  </thead>\n",
       "  <tbody>\n",
       "    <tr>\n",
       "      <th>0</th>\n",
       "      <td>25.0</td>\n",
       "      <td>8.04</td>\n",
       "      <td>9.58</td>\n",
       "      <td>8.21</td>\n",
       "      <td>6.11</td>\n",
       "      <td>6.88</td>\n",
       "      <td>9.41</td>\n",
       "    </tr>\n",
       "    <tr>\n",
       "      <th>1</th>\n",
       "      <td>27.0</td>\n",
       "      <td>7.96</td>\n",
       "      <td>10.00</td>\n",
       "      <td>8.21</td>\n",
       "      <td>5.00</td>\n",
       "      <td>6.88</td>\n",
       "      <td>9.71</td>\n",
       "    </tr>\n",
       "    <tr>\n",
       "      <th>2</th>\n",
       "      <td>54.0</td>\n",
       "      <td>6.63</td>\n",
       "      <td>8.75</td>\n",
       "      <td>5.00</td>\n",
       "      <td>5.56</td>\n",
       "      <td>5.63</td>\n",
       "      <td>8.24</td>\n",
       "    </tr>\n",
       "    <tr>\n",
       "      <th>3</th>\n",
       "      <td>81.0</td>\n",
       "      <td>5.98</td>\n",
       "      <td>8.33</td>\n",
       "      <td>5.71</td>\n",
       "      <td>4.44</td>\n",
       "      <td>3.75</td>\n",
       "      <td>7.65</td>\n",
       "    </tr>\n",
       "    <tr>\n",
       "      <th>4</th>\n",
       "      <td>42.0</td>\n",
       "      <td>7.38</td>\n",
       "      <td>9.58</td>\n",
       "      <td>7.86</td>\n",
       "      <td>4.44</td>\n",
       "      <td>5.63</td>\n",
       "      <td>9.41</td>\n",
       "    </tr>\n",
       "    <tr>\n",
       "      <th>5</th>\n",
       "      <td>30.0</td>\n",
       "      <td>7.89</td>\n",
       "      <td>9.58</td>\n",
       "      <td>8.93</td>\n",
       "      <td>5.00</td>\n",
       "      <td>6.25</td>\n",
       "      <td>9.71</td>\n",
       "    </tr>\n",
       "    <tr>\n",
       "      <th>6</th>\n",
       "      <td>67.0</td>\n",
       "      <td>6.40</td>\n",
       "      <td>9.17</td>\n",
       "      <td>4.36</td>\n",
       "      <td>5.00</td>\n",
       "      <td>4.38</td>\n",
       "      <td>9.12</td>\n",
       "    </tr>\n",
       "    <tr>\n",
       "      <th>7</th>\n",
       "      <td>74.0</td>\n",
       "      <td>6.13</td>\n",
       "      <td>9.17</td>\n",
       "      <td>4.29</td>\n",
       "      <td>3.33</td>\n",
       "      <td>5.63</td>\n",
       "      <td>8.24</td>\n",
       "    </tr>\n",
       "    <tr>\n",
       "      <th>8</th>\n",
       "      <td>70.0</td>\n",
       "      <td>6.22</td>\n",
       "      <td>9.17</td>\n",
       "      <td>5.43</td>\n",
       "      <td>3.89</td>\n",
       "      <td>4.38</td>\n",
       "      <td>8.24</td>\n",
       "    </tr>\n",
       "    <tr>\n",
       "      <th>9</th>\n",
       "      <td>77.0</td>\n",
       "      <td>6.07</td>\n",
       "      <td>8.75</td>\n",
       "      <td>6.79</td>\n",
       "      <td>2.78</td>\n",
       "      <td>4.38</td>\n",
       "      <td>7.65</td>\n",
       "    </tr>\n",
       "    <tr>\n",
       "      <th>10</th>\n",
       "      <td>69.0</td>\n",
       "      <td>6.25</td>\n",
       "      <td>8.33</td>\n",
       "      <td>6.43</td>\n",
       "      <td>4.44</td>\n",
       "      <td>5.00</td>\n",
       "      <td>7.06</td>\n",
       "    </tr>\n",
       "    <tr>\n",
       "      <th>11</th>\n",
       "      <td>53.0</td>\n",
       "      <td>6.67</td>\n",
       "      <td>8.75</td>\n",
       "      <td>6.07</td>\n",
       "      <td>5.00</td>\n",
       "      <td>5.00</td>\n",
       "      <td>8.53</td>\n",
       "    </tr>\n",
       "    <tr>\n",
       "      <th>12</th>\n",
       "      <td>44.0</td>\n",
       "      <td>7.35</td>\n",
       "      <td>9.58</td>\n",
       "      <td>7.14</td>\n",
       "      <td>5.56</td>\n",
       "      <td>5.63</td>\n",
       "      <td>8.82</td>\n",
       "    </tr>\n",
       "    <tr>\n",
       "      <th>13</th>\n",
       "      <td>71.0</td>\n",
       "      <td>6.16</td>\n",
       "      <td>7.92</td>\n",
       "      <td>5.00</td>\n",
       "      <td>5.00</td>\n",
       "      <td>4.38</td>\n",
       "      <td>8.53</td>\n",
       "    </tr>\n",
       "    <tr>\n",
       "      <th>14</th>\n",
       "      <td>75.0</td>\n",
       "      <td>6.11</td>\n",
       "      <td>8.75</td>\n",
       "      <td>3.29</td>\n",
       "      <td>5.56</td>\n",
       "      <td>5.00</td>\n",
       "      <td>7.94</td>\n",
       "    </tr>\n",
       "    <tr>\n",
       "      <th>15</th>\n",
       "      <td>92.0</td>\n",
       "      <td>5.64</td>\n",
       "      <td>7.83</td>\n",
       "      <td>4.29</td>\n",
       "      <td>5.00</td>\n",
       "      <td>3.13</td>\n",
       "      <td>7.94</td>\n",
       "    </tr>\n",
       "    <tr>\n",
       "      <th>16</th>\n",
       "      <td>109.0</td>\n",
       "      <td>4.19</td>\n",
       "      <td>5.58</td>\n",
       "      <td>3.64</td>\n",
       "      <td>2.78</td>\n",
       "      <td>2.50</td>\n",
       "      <td>6.47</td>\n",
       "    </tr>\n",
       "    <tr>\n",
       "      <th>17</th>\n",
       "      <td>93.0</td>\n",
       "      <td>5.42</td>\n",
       "      <td>7.00</td>\n",
       "      <td>3.64</td>\n",
       "      <td>5.56</td>\n",
       "      <td>5.00</td>\n",
       "      <td>5.88</td>\n",
       "    </tr>\n",
       "    <tr>\n",
       "      <th>18</th>\n",
       "      <td>124.0</td>\n",
       "      <td>3.52</td>\n",
       "      <td>1.75</td>\n",
       "      <td>4.64</td>\n",
       "      <td>3.89</td>\n",
       "      <td>4.38</td>\n",
       "      <td>2.94</td>\n",
       "    </tr>\n",
       "    <tr>\n",
       "      <th>19</th>\n",
       "      <td>89.0</td>\n",
       "      <td>5.68</td>\n",
       "      <td>8.25</td>\n",
       "      <td>5.71</td>\n",
       "      <td>3.33</td>\n",
       "      <td>3.75</td>\n",
       "      <td>7.35</td>\n",
       "    </tr>\n",
       "  </tbody>\n",
       "</table>\n",
       "</div>"
      ],
      "text/plain": [
       "    posicion  puntaj  ppelec  fdelgob  partpk  cultpk  libciv\n",
       "0       25.0    8.04    9.58     8.21    6.11    6.88    9.41\n",
       "1       27.0    7.96   10.00     8.21    5.00    6.88    9.71\n",
       "2       54.0    6.63    8.75     5.00    5.56    5.63    8.24\n",
       "3       81.0    5.98    8.33     5.71    4.44    3.75    7.65\n",
       "4       42.0    7.38    9.58     7.86    4.44    5.63    9.41\n",
       "5       30.0    7.89    9.58     8.93    5.00    6.25    9.71\n",
       "6       67.0    6.40    9.17     4.36    5.00    4.38    9.12\n",
       "7       74.0    6.13    9.17     4.29    3.33    5.63    8.24\n",
       "8       70.0    6.22    9.17     5.43    3.89    4.38    8.24\n",
       "9       77.0    6.07    8.75     6.79    2.78    4.38    7.65\n",
       "10      69.0    6.25    8.33     6.43    4.44    5.00    7.06\n",
       "11      53.0    6.67    8.75     6.07    5.00    5.00    8.53\n",
       "12      44.0    7.35    9.58     7.14    5.56    5.63    8.82\n",
       "13      71.0    6.16    7.92     5.00    5.00    4.38    8.53\n",
       "14      75.0    6.11    8.75     3.29    5.56    5.00    7.94\n",
       "15      92.0    5.64    7.83     4.29    5.00    3.13    7.94\n",
       "16     109.0    4.19    5.58     3.64    2.78    2.50    6.47\n",
       "17      93.0    5.42    7.00     3.64    5.56    5.00    5.88\n",
       "18     124.0    3.52    1.75     4.64    3.89    4.38    2.94\n",
       "19      89.0    5.68    8.25     5.71    3.33    3.75    7.35"
      ]
     },
     "execution_count": 34,
     "metadata": {},
     "output_type": "execute_result"
    }
   ],
   "source": [
    "x_df=pd.DataFrame(df,columns=df.columns)\n",
    "x_df"
   ]
  },
  {
   "cell_type": "code",
   "execution_count": 35,
   "metadata": {
    "scrolled": true
   },
   "outputs": [
    {
     "data": {
      "text/html": [
       "<div>\n",
       "<style scoped>\n",
       "    .dataframe tbody tr th:only-of-type {\n",
       "        vertical-align: middle;\n",
       "    }\n",
       "\n",
       "    .dataframe tbody tr th {\n",
       "        vertical-align: top;\n",
       "    }\n",
       "\n",
       "    .dataframe thead th {\n",
       "        text-align: right;\n",
       "    }\n",
       "</style>\n",
       "<table border=\"1\" class=\"dataframe\">\n",
       "  <thead>\n",
       "    <tr style=\"text-align: right;\">\n",
       "      <th></th>\n",
       "      <th>posicion</th>\n",
       "      <th>puntaj</th>\n",
       "      <th>ppelec</th>\n",
       "      <th>fdelgob</th>\n",
       "      <th>partpk</th>\n",
       "      <th>cultpk</th>\n",
       "      <th>libciv</th>\n",
       "      <th>cluster_label</th>\n",
       "    </tr>\n",
       "  </thead>\n",
       "  <tbody>\n",
       "    <tr>\n",
       "      <th>0</th>\n",
       "      <td>25.0</td>\n",
       "      <td>8.04</td>\n",
       "      <td>9.58</td>\n",
       "      <td>8.21</td>\n",
       "      <td>6.11</td>\n",
       "      <td>6.88</td>\n",
       "      <td>9.41</td>\n",
       "      <td>0</td>\n",
       "    </tr>\n",
       "    <tr>\n",
       "      <th>1</th>\n",
       "      <td>27.0</td>\n",
       "      <td>7.96</td>\n",
       "      <td>10.00</td>\n",
       "      <td>8.21</td>\n",
       "      <td>5.00</td>\n",
       "      <td>6.88</td>\n",
       "      <td>9.71</td>\n",
       "      <td>0</td>\n",
       "    </tr>\n",
       "    <tr>\n",
       "      <th>2</th>\n",
       "      <td>54.0</td>\n",
       "      <td>6.63</td>\n",
       "      <td>8.75</td>\n",
       "      <td>5.00</td>\n",
       "      <td>5.56</td>\n",
       "      <td>5.63</td>\n",
       "      <td>8.24</td>\n",
       "      <td>1</td>\n",
       "    </tr>\n",
       "    <tr>\n",
       "      <th>3</th>\n",
       "      <td>81.0</td>\n",
       "      <td>5.98</td>\n",
       "      <td>8.33</td>\n",
       "      <td>5.71</td>\n",
       "      <td>4.44</td>\n",
       "      <td>3.75</td>\n",
       "      <td>7.65</td>\n",
       "      <td>1</td>\n",
       "    </tr>\n",
       "    <tr>\n",
       "      <th>4</th>\n",
       "      <td>42.0</td>\n",
       "      <td>7.38</td>\n",
       "      <td>9.58</td>\n",
       "      <td>7.86</td>\n",
       "      <td>4.44</td>\n",
       "      <td>5.63</td>\n",
       "      <td>9.41</td>\n",
       "      <td>0</td>\n",
       "    </tr>\n",
       "  </tbody>\n",
       "</table>\n",
       "</div>"
      ],
      "text/plain": [
       "   posicion  puntaj  ppelec  fdelgob  partpk  cultpk  libciv  cluster_label\n",
       "0      25.0    8.04    9.58     8.21    6.11    6.88    9.41              0\n",
       "1      27.0    7.96   10.00     8.21    5.00    6.88    9.71              0\n",
       "2      54.0    6.63    8.75     5.00    5.56    5.63    8.24              1\n",
       "3      81.0    5.98    8.33     5.71    4.44    3.75    7.65              1\n",
       "4      42.0    7.38    9.58     7.86    4.44    5.63    9.41              0"
      ]
     },
     "execution_count": 35,
     "metadata": {},
     "output_type": "execute_result"
    }
   ],
   "source": [
    "datafinal=pd.concat([x_df,y_kmeans],axis=1)\n",
    "datafinal.head()"
   ]
  },
  {
   "cell_type": "code",
   "execution_count": 36,
   "metadata": {},
   "outputs": [
    {
     "data": {
      "text/html": [
       "<div>\n",
       "<style scoped>\n",
       "    .dataframe tbody tr th:only-of-type {\n",
       "        vertical-align: middle;\n",
       "    }\n",
       "\n",
       "    .dataframe tbody tr th {\n",
       "        vertical-align: top;\n",
       "    }\n",
       "\n",
       "    .dataframe thead th {\n",
       "        text-align: right;\n",
       "    }\n",
       "</style>\n",
       "<table border=\"1\" class=\"dataframe\">\n",
       "  <thead>\n",
       "    <tr style=\"text-align: right;\">\n",
       "      <th></th>\n",
       "      <th>posicion</th>\n",
       "      <th>puntaj</th>\n",
       "      <th>ppelec</th>\n",
       "      <th>fdelgob</th>\n",
       "      <th>partpk</th>\n",
       "      <th>cultpk</th>\n",
       "      <th>libciv</th>\n",
       "    </tr>\n",
       "    <tr>\n",
       "      <th>cluster_label</th>\n",
       "      <th></th>\n",
       "      <th></th>\n",
       "      <th></th>\n",
       "      <th></th>\n",
       "      <th></th>\n",
       "      <th></th>\n",
       "      <th></th>\n",
       "    </tr>\n",
       "  </thead>\n",
       "  <tbody>\n",
       "    <tr>\n",
       "      <th>0</th>\n",
       "      <td>33.6</td>\n",
       "      <td>7.7</td>\n",
       "      <td>9.7</td>\n",
       "      <td>8.1</td>\n",
       "      <td>5.2</td>\n",
       "      <td>6.3</td>\n",
       "      <td>9.4</td>\n",
       "    </tr>\n",
       "    <tr>\n",
       "      <th>1</th>\n",
       "      <td>74.2</td>\n",
       "      <td>6.1</td>\n",
       "      <td>8.5</td>\n",
       "      <td>5.1</td>\n",
       "      <td>4.5</td>\n",
       "      <td>4.6</td>\n",
       "      <td>7.9</td>\n",
       "    </tr>\n",
       "    <tr>\n",
       "      <th>2</th>\n",
       "      <td>116.5</td>\n",
       "      <td>3.9</td>\n",
       "      <td>3.7</td>\n",
       "      <td>4.1</td>\n",
       "      <td>3.3</td>\n",
       "      <td>3.4</td>\n",
       "      <td>4.7</td>\n",
       "    </tr>\n",
       "  </tbody>\n",
       "</table>\n",
       "</div>"
      ],
      "text/plain": [
       "               posicion  puntaj  ppelec  fdelgob  partpk  cultpk  libciv\n",
       "cluster_label                                                           \n",
       "0                  33.6     7.7     9.7      8.1     5.2     6.3     9.4\n",
       "1                  74.2     6.1     8.5      5.1     4.5     4.6     7.9\n",
       "2                 116.5     3.9     3.7      4.1     3.3     3.4     4.7"
      ]
     },
     "execution_count": 36,
     "metadata": {},
     "output_type": "execute_result"
    }
   ],
   "source": [
    "#Trabajando la media por clusters\n",
    "cluster_means=datafinal.groupby(['cluster_label']).mean().round(1)\n",
    "cluster_means"
   ]
  }
 ],
 "metadata": {
  "kernelspec": {
   "display_name": "Python 3",
   "language": "python",
   "name": "python3"
  },
  "language_info": {
   "codemirror_mode": {
    "name": "ipython",
    "version": 3
   },
   "file_extension": ".py",
   "mimetype": "text/x-python",
   "name": "python",
   "nbconvert_exporter": "python",
   "pygments_lexer": "ipython3",
   "version": "3.8.3"
  }
 },
 "nbformat": 4,
 "nbformat_minor": 4
}
