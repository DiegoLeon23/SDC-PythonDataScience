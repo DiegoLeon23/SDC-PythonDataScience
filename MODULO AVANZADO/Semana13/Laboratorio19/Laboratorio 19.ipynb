{
 "cells": [
  {
   "cell_type": "markdown",
   "metadata": {},
   "source": [
    "## CASO PRACTICO"
   ]
  },
  {
   "cell_type": "markdown",
   "metadata": {},
   "source": [
    "### DESCRIPCIÓN\n",
    "Predecir la aparición de diabetes con base en medidas de diagnóstico.\n",
    "\n",
    "### RESUMEN\n",
    "Este conjunto de datos es originalmente del Instituto Nacional de Diabetes y Enfermedades Digestivas y Renales. El objetivo es predecir en base a mediciones de diagnóstico si un paciente tiene diabetes.\n",
    "\n",
    "Se colocaron varias restricciones en la selección de estas instancias de una base de datos más grande. En particular, todos los pacientes aquí son mujeres de al menos 21 años de herencia indígena Pima."
   ]
  },
  {
   "cell_type": "markdown",
   "metadata": {},
   "source": [
    "### Información del atributo:"
   ]
  },
  {
   "cell_type": "markdown",
   "metadata": {},
   "source": [
    "1) Pregnancies: número de veces de embarazo\n",
    "\n",
    "2) Glucose: concentración de glucosa en plasma a 2 horas en una prueba oral de tolerancia a la glucosa\n",
    "\n",
    "3) BloodPressure: presión arterial diastólica (mm Hg)\n",
    "\n",
    "4) SkinThickness: grosor del pliegue de la piel del tríceps (mm)\n",
    "\n",
    "5) Insulin: insulina sérica de 2 horas (mu U / ml)\n",
    "\n",
    "6) BMI: índice de masa corporal (peso en kg / (altura en m) ^ 2)\n",
    "\n",
    "7) DiabetesPedigreeFunction: función de pedigrí de diabetes\n",
    "\n",
    "8) Age: edad (años)\n",
    "\n",
    "9) Outcome: variable de clase (0 o 1)"
   ]
  },
  {
   "cell_type": "markdown",
   "metadata": {},
   "source": [
    "**Fuente :**\n",
    "\n",
    "https://www.kaggle.com/uciml/pima-indians-diabetes-database"
   ]
  },
  {
   "cell_type": "markdown",
   "metadata": {},
   "source": [
    "**Acknowledgements:**\n",
    "    \n",
    "Smith, J.W., Everhart, J.E., Dickson, W.C., Knowler, W.C., & Johannes, R.S. (1988). Using the ADAP learning algorithm to forecast the onset of diabetes mellitus. In Proceedings of the Symposium on Computer Applications and Medical Care (pp. 261--265). IEEE Computer Society Press."
   ]
  },
  {
   "cell_type": "markdown",
   "metadata": {},
   "source": [
    "### Actividades\n",
    "1. Representar la variable predictora mediante el grafico de barras\n",
    "\n",
    "2. Dividir la data en 60% de entrenamiento y lo restante para la data de testeo\n",
    "\n",
    "3. Entrenar el modelo y sacar el score de la data de entrenamiento y testeo\n",
    "\n",
    "4. Generar la matriz de confusion\n",
    "\n",
    "5. Generar la curva ROC"
   ]
  }
 ],
 "metadata": {
  "kernelspec": {
   "display_name": "Python 3",
   "language": "python",
   "name": "python3"
  },
  "language_info": {
   "codemirror_mode": {
    "name": "ipython",
    "version": 3
   },
   "file_extension": ".py",
   "mimetype": "text/x-python",
   "name": "python",
   "nbconvert_exporter": "python",
   "pygments_lexer": "ipython3",
   "version": "3.7.6"
  }
 },
 "nbformat": 4,
 "nbformat_minor": 2
}
