{
 "cells": [
  {
   "cell_type": "markdown",
   "metadata": {},
   "source": [
    "# **_DESARROLLO LABORATORIO 20_**"
   ]
  },
  {
   "cell_type": "code",
   "execution_count": 45,
   "metadata": {},
   "outputs": [],
   "source": [
    "#Just in Case\n",
    "import warnings\n",
    "warnings.filterwarnings('ignore')\n",
    "\n",
    "#Importando las librerías necesarias\n",
    "import pandas as pd\n",
    "import numpy as np\n",
    "import matplotlib.pyplot as plt\n",
    "import seaborn as sns\n",
    "import os\n",
    "import model_evaluation_utils as meu\n",
    "\n",
    "from sklearn.model_selection import train_test_split\n",
    "from sklearn.preprocessing import KBinsDiscretizer\n",
    "from sklearn.preprocessing import LabelEncoder\n",
    "from collections import defaultdict\n",
    "from sklearn.model_selection import GridSearchCV\n",
    "from imblearn.combine import SMOTETomek\n",
    "from sklearn.metrics import confusion_matrix, auc, roc_curve\n",
    "from sklearn.preprocessing import label_binarize\n",
    "from mlxtend.plotting import plot_decision_regions\n",
    "from sklearn.naive_bayes import GaussianNB       #Para hacer un modelo Naive-Bayes\n",
    "from sklearn.svm import SVC                      #Para hacer un modelo de Máquina de Soporte Vectorial\n",
    "\n",
    "from math import log"
   ]
  },
  {
   "cell_type": "code",
   "execution_count": 2,
   "metadata": {},
   "outputs": [],
   "source": [
    "# Estableciendo mi directorio de trabajo\n",
    "os.chdir('D:\\Social Data Consulting\\Python for Data Science\\data')"
   ]
  },
  {
   "cell_type": "code",
   "execution_count": 3,
   "metadata": {},
   "outputs": [
    {
     "data": {
      "text/html": [
       "<div>\n",
       "<style scoped>\n",
       "    .dataframe tbody tr th:only-of-type {\n",
       "        vertical-align: middle;\n",
       "    }\n",
       "\n",
       "    .dataframe tbody tr th {\n",
       "        vertical-align: top;\n",
       "    }\n",
       "\n",
       "    .dataframe thead th {\n",
       "        text-align: right;\n",
       "    }\n",
       "</style>\n",
       "<table border=\"1\" class=\"dataframe\">\n",
       "  <thead>\n",
       "    <tr style=\"text-align: right;\">\n",
       "      <th></th>\n",
       "      <th>Med_perfil_int</th>\n",
       "      <th>Desviacion_est_prf_int</th>\n",
       "      <th>Exceso_cur_prf_int</th>\n",
       "      <th>Torcedura_prf_int</th>\n",
       "      <th>Med_curv_DM-SNR</th>\n",
       "      <th>Desviacion_est_cur</th>\n",
       "      <th>Exc_curt_DM-SNR</th>\n",
       "      <th>Torcedura_cur_DM-SNR</th>\n",
       "      <th>Clase_HTRU</th>\n",
       "    </tr>\n",
       "  </thead>\n",
       "  <tbody>\n",
       "    <tr>\n",
       "      <th>0</th>\n",
       "      <td>140.562500</td>\n",
       "      <td>55.683782</td>\n",
       "      <td>-0.234571</td>\n",
       "      <td>-0.699648</td>\n",
       "      <td>3.199833</td>\n",
       "      <td>19.110426</td>\n",
       "      <td>7.975532</td>\n",
       "      <td>74.242225</td>\n",
       "      <td>0</td>\n",
       "    </tr>\n",
       "    <tr>\n",
       "      <th>1</th>\n",
       "      <td>102.507812</td>\n",
       "      <td>58.882430</td>\n",
       "      <td>0.465318</td>\n",
       "      <td>-0.515088</td>\n",
       "      <td>1.677258</td>\n",
       "      <td>14.860146</td>\n",
       "      <td>10.576487</td>\n",
       "      <td>127.393580</td>\n",
       "      <td>0</td>\n",
       "    </tr>\n",
       "    <tr>\n",
       "      <th>2</th>\n",
       "      <td>103.015625</td>\n",
       "      <td>39.341649</td>\n",
       "      <td>0.323328</td>\n",
       "      <td>1.051164</td>\n",
       "      <td>3.121237</td>\n",
       "      <td>21.744669</td>\n",
       "      <td>7.735822</td>\n",
       "      <td>63.171909</td>\n",
       "      <td>0</td>\n",
       "    </tr>\n",
       "    <tr>\n",
       "      <th>3</th>\n",
       "      <td>136.750000</td>\n",
       "      <td>57.178449</td>\n",
       "      <td>-0.068415</td>\n",
       "      <td>-0.636238</td>\n",
       "      <td>3.642977</td>\n",
       "      <td>20.959280</td>\n",
       "      <td>6.896499</td>\n",
       "      <td>53.593661</td>\n",
       "      <td>0</td>\n",
       "    </tr>\n",
       "    <tr>\n",
       "      <th>4</th>\n",
       "      <td>88.726562</td>\n",
       "      <td>40.672225</td>\n",
       "      <td>0.600866</td>\n",
       "      <td>1.123492</td>\n",
       "      <td>1.178930</td>\n",
       "      <td>11.468720</td>\n",
       "      <td>14.269573</td>\n",
       "      <td>252.567306</td>\n",
       "      <td>0</td>\n",
       "    </tr>\n",
       "  </tbody>\n",
       "</table>\n",
       "</div>"
      ],
      "text/plain": [
       "   Med_perfil_int  Desviacion_est_prf_int  Exceso_cur_prf_int  \\\n",
       "0      140.562500               55.683782           -0.234571   \n",
       "1      102.507812               58.882430            0.465318   \n",
       "2      103.015625               39.341649            0.323328   \n",
       "3      136.750000               57.178449           -0.068415   \n",
       "4       88.726562               40.672225            0.600866   \n",
       "\n",
       "   Torcedura_prf_int  Med_curv_DM-SNR  Desviacion_est_cur  Exc_curt_DM-SNR  \\\n",
       "0          -0.699648         3.199833           19.110426         7.975532   \n",
       "1          -0.515088         1.677258           14.860146        10.576487   \n",
       "2           1.051164         3.121237           21.744669         7.735822   \n",
       "3          -0.636238         3.642977           20.959280         6.896499   \n",
       "4           1.123492         1.178930           11.468720        14.269573   \n",
       "\n",
       "   Torcedura_cur_DM-SNR  Clase_HTRU  \n",
       "0             74.242225           0  \n",
       "1            127.393580           0  \n",
       "2             63.171909           0  \n",
       "3             53.593661           0  \n",
       "4            252.567306           0  "
      ]
     },
     "execution_count": 3,
     "metadata": {},
     "output_type": "execute_result"
    }
   ],
   "source": [
    "miArchivo=\"HTRU_2.csv\"\n",
    "df_HTRU2=pd.read_csv(miArchivo,sep=',')\n",
    "df_HTRU2.head()"
   ]
  },
  {
   "cell_type": "markdown",
   "metadata": {},
   "source": [
    "### **_1.Frecuencia de Observaciones del TARGET._**"
   ]
  },
  {
   "cell_type": "code",
   "execution_count": 4,
   "metadata": {},
   "outputs": [
    {
     "data": {
      "text/plain": [
       "<matplotlib.axes._subplots.AxesSubplot at 0x155fa4f0be0>"
      ]
     },
     "execution_count": 4,
     "metadata": {},
     "output_type": "execute_result"
    },
    {
     "data": {
      "image/png": "[encoded data removed]",
      "text/plain": [
       "<Figure size 432x288 with 1 Axes>"
      ]
     },
     "metadata": {
      "needs_background": "light"
     },
     "output_type": "display_data"
    }
   ],
   "source": [
    "pd.value_counts(df_HTRU2.Clase_HTRU).plot(kind='bar',rot=0)"
   ]
  },
  {
   "cell_type": "markdown",
   "metadata": {},
   "source": [
    "### **_2. Graficos de correlacion de Pearson de los predictores._**"
   ]
  },
  {
   "cell_type": "code",
   "execution_count": 18,
   "metadata": {},
   "outputs": [],
   "source": [
    "columnas=['Med_perfil_int', 'Desviacion_est_prf_int', 'Exceso_cur_prf_int',\n",
    "       'Torcedura_prf_int', 'Med_curv_DM-SNR', 'Desviacion_est_cur',\n",
    "       'Exc_curt_DM-SNR', 'Torcedura_cur_DM-SNR']\n",
    "target=['Clase_HTRU']"
   ]
  },
  {
   "cell_type": "code",
   "execution_count": 58,
   "metadata": {
    "scrolled": false
   },
   "outputs": [
    {
     "data": {
      "text/html": [
       "<div>\n",
       "<style scoped>\n",
       "    .dataframe tbody tr th:only-of-type {\n",
       "        vertical-align: middle;\n",
       "    }\n",
       "\n",
       "    .dataframe tbody tr th {\n",
       "        vertical-align: top;\n",
       "    }\n",
       "\n",
       "    .dataframe thead th {\n",
       "        text-align: right;\n",
       "    }\n",
       "</style>\n",
       "<table border=\"1\" class=\"dataframe\">\n",
       "  <thead>\n",
       "    <tr style=\"text-align: right;\">\n",
       "      <th></th>\n",
       "      <th>Med_perfil_int</th>\n",
       "      <th>Desviacion_est_prf_int</th>\n",
       "      <th>Exceso_cur_prf_int</th>\n",
       "      <th>Torcedura_prf_int</th>\n",
       "      <th>Med_curv_DM-SNR</th>\n",
       "      <th>Desviacion_est_cur</th>\n",
       "      <th>Exc_curt_DM-SNR</th>\n",
       "      <th>Torcedura_cur_DM-SNR</th>\n",
       "    </tr>\n",
       "  </thead>\n",
       "  <tbody>\n",
       "    <tr>\n",
       "      <th>Med_perfil_int</th>\n",
       "      <td>1.000000</td>\n",
       "      <td>-0.000597</td>\n",
       "      <td>-0.039351</td>\n",
       "      <td>-0.031990</td>\n",
       "      <td>-0.013739</td>\n",
       "      <td>-0.010734</td>\n",
       "      <td>0.009607</td>\n",
       "      <td>0.008601</td>\n",
       "    </tr>\n",
       "    <tr>\n",
       "      <th>Desviacion_est_prf_int</th>\n",
       "      <td>-0.000597</td>\n",
       "      <td>1.000000</td>\n",
       "      <td>0.011141</td>\n",
       "      <td>0.007630</td>\n",
       "      <td>0.006360</td>\n",
       "      <td>0.011624</td>\n",
       "      <td>-0.009918</td>\n",
       "      <td>-0.006380</td>\n",
       "    </tr>\n",
       "    <tr>\n",
       "      <th>Exceso_cur_prf_int</th>\n",
       "      <td>-0.039351</td>\n",
       "      <td>0.011141</td>\n",
       "      <td>1.000000</td>\n",
       "      <td>0.945729</td>\n",
       "      <td>0.414368</td>\n",
       "      <td>0.432880</td>\n",
       "      <td>-0.341209</td>\n",
       "      <td>-0.214491</td>\n",
       "    </tr>\n",
       "    <tr>\n",
       "      <th>Torcedura_prf_int</th>\n",
       "      <td>-0.031990</td>\n",
       "      <td>0.007630</td>\n",
       "      <td>0.945729</td>\n",
       "      <td>1.000000</td>\n",
       "      <td>0.412056</td>\n",
       "      <td>0.415140</td>\n",
       "      <td>-0.328843</td>\n",
       "      <td>-0.204782</td>\n",
       "    </tr>\n",
       "    <tr>\n",
       "      <th>Med_curv_DM-SNR</th>\n",
       "      <td>-0.013739</td>\n",
       "      <td>0.006360</td>\n",
       "      <td>0.414368</td>\n",
       "      <td>0.412056</td>\n",
       "      <td>1.000000</td>\n",
       "      <td>0.796555</td>\n",
       "      <td>-0.615971</td>\n",
       "      <td>-0.354269</td>\n",
       "    </tr>\n",
       "    <tr>\n",
       "      <th>Desviacion_est_cur</th>\n",
       "      <td>-0.010734</td>\n",
       "      <td>0.011624</td>\n",
       "      <td>0.432880</td>\n",
       "      <td>0.415140</td>\n",
       "      <td>0.796555</td>\n",
       "      <td>1.000000</td>\n",
       "      <td>-0.809786</td>\n",
       "      <td>-0.575800</td>\n",
       "    </tr>\n",
       "    <tr>\n",
       "      <th>Exc_curt_DM-SNR</th>\n",
       "      <td>0.009607</td>\n",
       "      <td>-0.009918</td>\n",
       "      <td>-0.341209</td>\n",
       "      <td>-0.328843</td>\n",
       "      <td>-0.615971</td>\n",
       "      <td>-0.809786</td>\n",
       "      <td>1.000000</td>\n",
       "      <td>0.923743</td>\n",
       "    </tr>\n",
       "    <tr>\n",
       "      <th>Torcedura_cur_DM-SNR</th>\n",
       "      <td>0.008601</td>\n",
       "      <td>-0.006380</td>\n",
       "      <td>-0.214491</td>\n",
       "      <td>-0.204782</td>\n",
       "      <td>-0.354269</td>\n",
       "      <td>-0.575800</td>\n",
       "      <td>0.923743</td>\n",
       "      <td>1.000000</td>\n",
       "    </tr>\n",
       "  </tbody>\n",
       "</table>\n",
       "</div>"
      ],
      "text/plain": [
       "                        Med_perfil_int  Desviacion_est_prf_int  \\\n",
       "Med_perfil_int                1.000000               -0.000597   \n",
       "Desviacion_est_prf_int       -0.000597                1.000000   \n",
       "Exceso_cur_prf_int           -0.039351                0.011141   \n",
       "Torcedura_prf_int            -0.031990                0.007630   \n",
       "Med_curv_DM-SNR              -0.013739                0.006360   \n",
       "Desviacion_est_cur           -0.010734                0.011624   \n",
       "Exc_curt_DM-SNR               0.009607               -0.009918   \n",
       "Torcedura_cur_DM-SNR          0.008601               -0.006380   \n",
       "\n",
       "                        Exceso_cur_prf_int  Torcedura_prf_int  \\\n",
       "Med_perfil_int                   -0.039351          -0.031990   \n",
       "Desviacion_est_prf_int            0.011141           0.007630   \n",
       "Exceso_cur_prf_int                1.000000           0.945729   \n",
       "Torcedura_prf_int                 0.945729           1.000000   \n",
       "Med_curv_DM-SNR                   0.414368           0.412056   \n",
       "Desviacion_est_cur                0.432880           0.415140   \n",
       "Exc_curt_DM-SNR                  -0.341209          -0.328843   \n",
       "Torcedura_cur_DM-SNR             -0.214491          -0.204782   \n",
       "\n",
       "                        Med_curv_DM-SNR  Desviacion_est_cur  Exc_curt_DM-SNR  \\\n",
       "Med_perfil_int                -0.013739           -0.010734         0.009607   \n",
       "Desviacion_est_prf_int         0.006360            0.011624        -0.009918   \n",
       "Exceso_cur_prf_int             0.414368            0.432880        -0.341209   \n",
       "Torcedura_prf_int              0.412056            0.415140        -0.328843   \n",
       "Med_curv_DM-SNR                1.000000            0.796555        -0.615971   \n",
       "Desviacion_est_cur             0.796555            1.000000        -0.809786   \n",
       "Exc_curt_DM-SNR               -0.615971           -0.809786         1.000000   \n",
       "Torcedura_cur_DM-SNR          -0.354269           -0.575800         0.923743   \n",
       "\n",
       "                        Torcedura_cur_DM-SNR  \n",
       "Med_perfil_int                      0.008601  \n",
       "Desviacion_est_prf_int             -0.006380  \n",
       "Exceso_cur_prf_int                 -0.214491  \n",
       "Torcedura_prf_int                  -0.204782  \n",
       "Med_curv_DM-SNR                    -0.354269  \n",
       "Desviacion_est_cur                 -0.575800  \n",
       "Exc_curt_DM-SNR                     0.923743  \n",
       "Torcedura_cur_DM-SNR                1.000000  "
      ]
     },
     "execution_count": 58,
     "metadata": {},
     "output_type": "execute_result"
    }
   ],
   "source": [
    "df_HTRU2[columnas].corr(method='pearson')"
   ]
  },
  {
   "cell_type": "code",
   "execution_count": 59,
   "metadata": {},
   "outputs": [
    {
     "data": {
      "image/png": "[encoded data removed]",
      "text/plain": [
       "<Figure size 432x288 with 2 Axes>"
      ]
     },
     "metadata": {
      "needs_background": "light"
     },
     "output_type": "display_data"
    }
   ],
   "source": [
    "sns.heatmap(df_HTRU2[columnas].corr(method='pearson'),annot=True)\n",
    "plt.show()"
   ]
  },
  {
   "cell_type": "markdown",
   "metadata": {},
   "source": [
    "### **_3.Probabilidades de prediccion._**"
   ]
  },
  {
   "cell_type": "code",
   "execution_count": 13,
   "metadata": {},
   "outputs": [],
   "source": [
    "X=df_HTRU2.iloc[:,0:df_HTRU2.shape[1]-1].values\n",
    "y=df_HTRU2.iloc[:,df_HTRU2.shape[1]-1].values"
   ]
  },
  {
   "cell_type": "code",
   "execution_count": 14,
   "metadata": {},
   "outputs": [],
   "source": [
    "xtrain,xtest,ytrain,ytest=train_test_split(X,y,test_size=0.3,stratify=y,random_state=2020)"
   ]
  },
  {
   "cell_type": "markdown",
   "metadata": {},
   "source": [
    "### Balanceo de la target "
   ]
  },
  {
   "cell_type": "code",
   "execution_count": 15,
   "metadata": {},
   "outputs": [],
   "source": [
    "smt=SMOTETomek(sampling_strategy=0.7, random_state=2020)\n",
    "xtrain_smt,ytrain_smt=smt.fit_resample(xtrain,ytrain)"
   ]
  },
  {
   "cell_type": "code",
   "execution_count": 16,
   "metadata": {
    "scrolled": true
   },
   "outputs": [
    {
     "data": {
      "image/png": "[encoded data removed]",
      "text/plain": [
       "<Figure size 432x288 with 1 Axes>"
      ]
     },
     "metadata": {
      "needs_background": "light"
     },
     "output_type": "display_data"
    }
   ],
   "source": [
    "pd.value_counts(ytrain_smt).plot(kind='bar',rot=0)\n",
    "plt.title('Balanceo de Datos: SMOTETomek')\n",
    "plt.show()"
   ]
  },
  {
   "cell_type": "code",
   "execution_count": 19,
   "metadata": {},
   "outputs": [
    {
     "data": {
      "text/html": [
       "<div>\n",
       "<style scoped>\n",
       "    .dataframe tbody tr th:only-of-type {\n",
       "        vertical-align: middle;\n",
       "    }\n",
       "\n",
       "    .dataframe tbody tr th {\n",
       "        vertical-align: top;\n",
       "    }\n",
       "\n",
       "    .dataframe thead th {\n",
       "        text-align: right;\n",
       "    }\n",
       "</style>\n",
       "<table border=\"1\" class=\"dataframe\">\n",
       "  <thead>\n",
       "    <tr style=\"text-align: right;\">\n",
       "      <th></th>\n",
       "      <th>Med_perfil_int</th>\n",
       "      <th>Desviacion_est_prf_int</th>\n",
       "      <th>Exceso_cur_prf_int</th>\n",
       "      <th>Torcedura_prf_int</th>\n",
       "      <th>Med_curv_DM-SNR</th>\n",
       "      <th>Desviacion_est_cur</th>\n",
       "      <th>Exc_curt_DM-SNR</th>\n",
       "      <th>Torcedura_cur_DM-SNR</th>\n",
       "      <th>Clase_HTRU</th>\n",
       "    </tr>\n",
       "  </thead>\n",
       "  <tbody>\n",
       "    <tr>\n",
       "      <th>0</th>\n",
       "      <td>117.765625</td>\n",
       "      <td>46.683356</td>\n",
       "      <td>0.319175</td>\n",
       "      <td>-0.143651</td>\n",
       "      <td>1.853679</td>\n",
       "      <td>14.755006</td>\n",
       "      <td>10.773976</td>\n",
       "      <td>138.971545</td>\n",
       "      <td>0</td>\n",
       "    </tr>\n",
       "    <tr>\n",
       "      <th>1</th>\n",
       "      <td>132.640625</td>\n",
       "      <td>50.282131</td>\n",
       "      <td>-0.135232</td>\n",
       "      <td>-0.266753</td>\n",
       "      <td>1.311873</td>\n",
       "      <td>10.694006</td>\n",
       "      <td>14.443795</td>\n",
       "      <td>285.444475</td>\n",
       "      <td>0</td>\n",
       "    </tr>\n",
       "    <tr>\n",
       "      <th>2</th>\n",
       "      <td>96.554688</td>\n",
       "      <td>53.000561</td>\n",
       "      <td>0.809315</td>\n",
       "      <td>0.539038</td>\n",
       "      <td>4.046823</td>\n",
       "      <td>24.366237</td>\n",
       "      <td>7.722320</td>\n",
       "      <td>63.454033</td>\n",
       "      <td>1</td>\n",
       "    </tr>\n",
       "    <tr>\n",
       "      <th>3</th>\n",
       "      <td>141.312500</td>\n",
       "      <td>52.446662</td>\n",
       "      <td>-0.193099</td>\n",
       "      <td>-0.208575</td>\n",
       "      <td>2.249164</td>\n",
       "      <td>17.624895</td>\n",
       "      <td>9.335137</td>\n",
       "      <td>95.961399</td>\n",
       "      <td>0</td>\n",
       "    </tr>\n",
       "    <tr>\n",
       "      <th>4</th>\n",
       "      <td>140.234375</td>\n",
       "      <td>45.116946</td>\n",
       "      <td>-0.061888</td>\n",
       "      <td>0.225694</td>\n",
       "      <td>1.879599</td>\n",
       "      <td>16.687183</td>\n",
       "      <td>10.615140</td>\n",
       "      <td>125.348308</td>\n",
       "      <td>0</td>\n",
       "    </tr>\n",
       "  </tbody>\n",
       "</table>\n",
       "</div>"
      ],
      "text/plain": [
       "   Med_perfil_int  Desviacion_est_prf_int  Exceso_cur_prf_int  \\\n",
       "0      117.765625               46.683356            0.319175   \n",
       "1      132.640625               50.282131           -0.135232   \n",
       "2       96.554688               53.000561            0.809315   \n",
       "3      141.312500               52.446662           -0.193099   \n",
       "4      140.234375               45.116946           -0.061888   \n",
       "\n",
       "   Torcedura_prf_int  Med_curv_DM-SNR  Desviacion_est_cur  Exc_curt_DM-SNR  \\\n",
       "0          -0.143651         1.853679           14.755006        10.773976   \n",
       "1          -0.266753         1.311873           10.694006        14.443795   \n",
       "2           0.539038         4.046823           24.366237         7.722320   \n",
       "3          -0.208575         2.249164           17.624895         9.335137   \n",
       "4           0.225694         1.879599           16.687183        10.615140   \n",
       "\n",
       "   Torcedura_cur_DM-SNR  Clase_HTRU  \n",
       "0            138.971545           0  \n",
       "1            285.444475           0  \n",
       "2             63.454033           1  \n",
       "3             95.961399           0  \n",
       "4            125.348308           0  "
      ]
     },
     "execution_count": 19,
     "metadata": {},
     "output_type": "execute_result"
    }
   ],
   "source": [
    "data_xtrain=pd.DataFrame(xtrain_smt,columns=columnas)\n",
    "data_ytrain=pd.DataFrame(ytrain_smt,columns=target)\n",
    "data_train=pd.concat([data_xtrain,data_ytrain],axis=1)\n",
    "data_train.head()"
   ]
  },
  {
   "cell_type": "code",
   "execution_count": 21,
   "metadata": {
    "scrolled": true
   },
   "outputs": [
    {
     "data": {
      "text/html": [
       "<div>\n",
       "<style scoped>\n",
       "    .dataframe tbody tr th:only-of-type {\n",
       "        vertical-align: middle;\n",
       "    }\n",
       "\n",
       "    .dataframe tbody tr th {\n",
       "        vertical-align: top;\n",
       "    }\n",
       "\n",
       "    .dataframe thead th {\n",
       "        text-align: right;\n",
       "    }\n",
       "</style>\n",
       "<table border=\"1\" class=\"dataframe\">\n",
       "  <thead>\n",
       "    <tr style=\"text-align: right;\">\n",
       "      <th></th>\n",
       "      <th>Med_perfil_int</th>\n",
       "      <th>Desviacion_est_prf_int</th>\n",
       "      <th>Exceso_cur_prf_int</th>\n",
       "      <th>Torcedura_prf_int</th>\n",
       "      <th>Med_curv_DM-SNR</th>\n",
       "      <th>Desviacion_est_cur</th>\n",
       "      <th>Exc_curt_DM-SNR</th>\n",
       "      <th>Torcedura_cur_DM-SNR</th>\n",
       "      <th>Clase_HTRU</th>\n",
       "    </tr>\n",
       "  </thead>\n",
       "  <tbody>\n",
       "    <tr>\n",
       "      <th>0</th>\n",
       "      <td>8.156250</td>\n",
       "      <td>27.129446</td>\n",
       "      <td>7.856370</td>\n",
       "      <td>62.868531</td>\n",
       "      <td>128.375418</td>\n",
       "      <td>67.902648</td>\n",
       "      <td>-0.177335</td>\n",
       "      <td>-0.673351</td>\n",
       "      <td>1</td>\n",
       "    </tr>\n",
       "    <tr>\n",
       "      <th>1</th>\n",
       "      <td>115.320312</td>\n",
       "      <td>45.561588</td>\n",
       "      <td>0.299415</td>\n",
       "      <td>0.642796</td>\n",
       "      <td>1.788462</td>\n",
       "      <td>16.343089</td>\n",
       "      <td>10.588251</td>\n",
       "      <td>122.003890</td>\n",
       "      <td>0</td>\n",
       "    </tr>\n",
       "    <tr>\n",
       "      <th>2</th>\n",
       "      <td>121.562500</td>\n",
       "      <td>45.859628</td>\n",
       "      <td>0.066315</td>\n",
       "      <td>0.137466</td>\n",
       "      <td>2.341137</td>\n",
       "      <td>16.162139</td>\n",
       "      <td>9.623207</td>\n",
       "      <td>111.312390</td>\n",
       "      <td>0</td>\n",
       "    </tr>\n",
       "    <tr>\n",
       "      <th>3</th>\n",
       "      <td>110.242188</td>\n",
       "      <td>44.725508</td>\n",
       "      <td>0.431287</td>\n",
       "      <td>0.734862</td>\n",
       "      <td>3.200669</td>\n",
       "      <td>20.669437</td>\n",
       "      <td>7.851218</td>\n",
       "      <td>69.931084</td>\n",
       "      <td>0</td>\n",
       "    </tr>\n",
       "    <tr>\n",
       "      <th>4</th>\n",
       "      <td>91.187500</td>\n",
       "      <td>44.702096</td>\n",
       "      <td>0.305570</td>\n",
       "      <td>0.654166</td>\n",
       "      <td>1.614548</td>\n",
       "      <td>10.753443</td>\n",
       "      <td>13.704335</td>\n",
       "      <td>271.774100</td>\n",
       "      <td>0</td>\n",
       "    </tr>\n",
       "  </tbody>\n",
       "</table>\n",
       "</div>"
      ],
      "text/plain": [
       "   Med_perfil_int  Desviacion_est_prf_int  Exceso_cur_prf_int  \\\n",
       "0        8.156250               27.129446            7.856370   \n",
       "1      115.320312               45.561588            0.299415   \n",
       "2      121.562500               45.859628            0.066315   \n",
       "3      110.242188               44.725508            0.431287   \n",
       "4       91.187500               44.702096            0.305570   \n",
       "\n",
       "   Torcedura_prf_int  Med_curv_DM-SNR  Desviacion_est_cur  Exc_curt_DM-SNR  \\\n",
       "0          62.868531       128.375418           67.902648        -0.177335   \n",
       "1           0.642796         1.788462           16.343089        10.588251   \n",
       "2           0.137466         2.341137           16.162139         9.623207   \n",
       "3           0.734862         3.200669           20.669437         7.851218   \n",
       "4           0.654166         1.614548           10.753443        13.704335   \n",
       "\n",
       "   Torcedura_cur_DM-SNR  Clase_HTRU  \n",
       "0             -0.673351           1  \n",
       "1            122.003890           0  \n",
       "2            111.312390           0  \n",
       "3             69.931084           0  \n",
       "4            271.774100           0  "
      ]
     },
     "execution_count": 21,
     "metadata": {},
     "output_type": "execute_result"
    }
   ],
   "source": [
    "data_xtest=pd.DataFrame(xtest,columns=columnas)\n",
    "data_ytest=pd.DataFrame(ytest,columns=target)\n",
    "data_test=pd.concat([data_xtest,data_ytest],axis=1)\n",
    "data_test.head()"
   ]
  },
  {
   "cell_type": "code",
   "execution_count": 22,
   "metadata": {},
   "outputs": [],
   "source": [
    "#Instanciamos un objeto de clase GaussianNB\n",
    "clf=GaussianNB()"
   ]
  },
  {
   "cell_type": "code",
   "execution_count": 24,
   "metadata": {},
   "outputs": [
    {
     "data": {
      "text/plain": [
       "GaussianNB()"
      ]
     },
     "execution_count": 24,
     "metadata": {},
     "output_type": "execute_result"
    }
   ],
   "source": [
    "#Hacemos que nuestro modelo aprenda de los datos balanceados\n",
    "clf.fit(xtrain_smt,ytrain_smt)"
   ]
  },
  {
   "cell_type": "code",
   "execution_count": 37,
   "metadata": {},
   "outputs": [],
   "source": [
    "#Calculandremos los Ypredichos\n",
    "ypredichos_train=clf.predict(xtrain_smt)\n",
    "ypredichos_test=clf.predict(xtest)"
   ]
  },
  {
   "cell_type": "markdown",
   "metadata": {},
   "source": [
    "#### Data de entrenamiento"
   ]
  },
  {
   "cell_type": "code",
   "execution_count": 30,
   "metadata": {},
   "outputs": [],
   "source": [
    "proba_train= clf.predict_proba(xtrain_smt)\n",
    "prob_df_train=pd.DataFrame(proba_train[:,1],columns=['prob y=1'])"
   ]
  },
  {
   "cell_type": "code",
   "execution_count": 51,
   "metadata": {
    "scrolled": true
   },
   "outputs": [
    {
     "data": {
      "text/html": [
       "<div>\n",
       "<style scoped>\n",
       "    .dataframe tbody tr th:only-of-type {\n",
       "        vertical-align: middle;\n",
       "    }\n",
       "\n",
       "    .dataframe tbody tr th {\n",
       "        vertical-align: top;\n",
       "    }\n",
       "\n",
       "    .dataframe thead th {\n",
       "        text-align: right;\n",
       "    }\n",
       "</style>\n",
       "<table border=\"1\" class=\"dataframe\">\n",
       "  <thead>\n",
       "    <tr style=\"text-align: right;\">\n",
       "      <th></th>\n",
       "      <th>prob y=1</th>\n",
       "      <th>prediccion</th>\n",
       "    </tr>\n",
       "  </thead>\n",
       "  <tbody>\n",
       "    <tr>\n",
       "      <th>0</th>\n",
       "      <td>2.373274e-09</td>\n",
       "      <td>0</td>\n",
       "    </tr>\n",
       "    <tr>\n",
       "      <th>1</th>\n",
       "      <td>2.106289e-18</td>\n",
       "      <td>0</td>\n",
       "    </tr>\n",
       "    <tr>\n",
       "      <th>2</th>\n",
       "      <td>1.160739e-05</td>\n",
       "      <td>0</td>\n",
       "    </tr>\n",
       "    <tr>\n",
       "      <th>3</th>\n",
       "      <td>1.712392e-07</td>\n",
       "      <td>0</td>\n",
       "    </tr>\n",
       "    <tr>\n",
       "      <th>4</th>\n",
       "      <td>6.754550e-09</td>\n",
       "      <td>0</td>\n",
       "    </tr>\n",
       "  </tbody>\n",
       "</table>\n",
       "</div>"
      ],
      "text/plain": [
       "       prob y=1  prediccion\n",
       "0  2.373274e-09           0\n",
       "1  2.106289e-18           0\n",
       "2  1.160739e-05           0\n",
       "3  1.712392e-07           0\n",
       "4  6.754550e-09           0"
      ]
     },
     "execution_count": 51,
     "metadata": {},
     "output_type": "execute_result"
    }
   ],
   "source": [
    "punto_corte=0.5\n",
    "prob_df_train['prediccion']=np.where(prob_df_train['prob y=1']>punto_corte,1,0)\n",
    "prob_df_train.head()"
   ]
  },
  {
   "cell_type": "code",
   "execution_count": 43,
   "metadata": {},
   "outputs": [],
   "source": [
    "proba_test= clf.predict_proba(xtest)\n",
    "prob_df_test=pd.DataFrame(proba_test[:,1],columns=['prob y=1'])"
   ]
  },
  {
   "cell_type": "code",
   "execution_count": 44,
   "metadata": {
    "scrolled": true
   },
   "outputs": [
    {
     "data": {
      "text/html": [
       "<div>\n",
       "<style scoped>\n",
       "    .dataframe tbody tr th:only-of-type {\n",
       "        vertical-align: middle;\n",
       "    }\n",
       "\n",
       "    .dataframe tbody tr th {\n",
       "        vertical-align: top;\n",
       "    }\n",
       "\n",
       "    .dataframe thead th {\n",
       "        text-align: right;\n",
       "    }\n",
       "</style>\n",
       "<table border=\"1\" class=\"dataframe\">\n",
       "  <thead>\n",
       "    <tr style=\"text-align: right;\">\n",
       "      <th></th>\n",
       "      <th>prob y=1</th>\n",
       "      <th>prediccion</th>\n",
       "    </tr>\n",
       "  </thead>\n",
       "  <tbody>\n",
       "    <tr>\n",
       "      <th>0</th>\n",
       "      <td>1.000000e+00</td>\n",
       "      <td>1</td>\n",
       "    </tr>\n",
       "    <tr>\n",
       "      <th>1</th>\n",
       "      <td>1.058449e-08</td>\n",
       "      <td>0</td>\n",
       "    </tr>\n",
       "    <tr>\n",
       "      <th>2</th>\n",
       "      <td>3.594379e-08</td>\n",
       "      <td>0</td>\n",
       "    </tr>\n",
       "    <tr>\n",
       "      <th>3</th>\n",
       "      <td>2.333821e-06</td>\n",
       "      <td>0</td>\n",
       "    </tr>\n",
       "    <tr>\n",
       "      <th>4</th>\n",
       "      <td>4.217411e-17</td>\n",
       "      <td>0</td>\n",
       "    </tr>\n",
       "  </tbody>\n",
       "</table>\n",
       "</div>"
      ],
      "text/plain": [
       "       prob y=1  prediccion\n",
       "0  1.000000e+00           1\n",
       "1  1.058449e-08           0\n",
       "2  3.594379e-08           0\n",
       "3  2.333821e-06           0\n",
       "4  4.217411e-17           0"
      ]
     },
     "execution_count": 44,
     "metadata": {},
     "output_type": "execute_result"
    }
   ],
   "source": [
    "punto_corte=0.5\n",
    "prob_df_test['prediccion']=np.where(prob_df_test['prob y=1']>punto_corte,1,0)\n",
    "prob_df_test.head()"
   ]
  },
  {
   "cell_type": "markdown",
   "metadata": {},
   "source": [
    "### **_4. Matriz de Confusión._**"
   ]
  },
  {
   "cell_type": "code",
   "execution_count": 39,
   "metadata": {},
   "outputs": [],
   "source": [
    "label_name=[0,1]"
   ]
  },
  {
   "cell_type": "markdown",
   "metadata": {},
   "source": [
    "#### Data de entrenamiento"
   ]
  },
  {
   "cell_type": "code",
   "execution_count": 56,
   "metadata": {
    "scrolled": false
   },
   "outputs": [
    {
     "name": "stdout",
     "output_type": "stream",
     "text": [
      "       0     1\n",
      "0  10706   550\n",
      "1   1534  6307\n"
     ]
    }
   ],
   "source": [
    "meu.display_confusion_matrix(ytrain_smt,ypredichos_train,classes=label_name)"
   ]
  },
  {
   "cell_type": "code",
   "execution_count": 53,
   "metadata": {},
   "outputs": [
    {
     "name": "stdout",
     "output_type": "stream",
     "text": [
      "Model Performance metrics:\n",
      "------------------------------\n",
      "Accuracy: 0.8909\n",
      "Precision: 0.8932\n",
      "Recall: 0.8909\n",
      "F1 Score: 0.8895\n",
      "\n",
      "Model Classification report:\n",
      "------------------------------\n",
      "              precision    recall  f1-score   support\n",
      "\n",
      "           0       0.87      0.95      0.91     11256\n",
      "           1       0.92      0.80      0.86      7841\n",
      "\n",
      "    accuracy                           0.89     19097\n",
      "   macro avg       0.90      0.88      0.88     19097\n",
      "weighted avg       0.89      0.89      0.89     19097\n",
      "\n",
      "\n",
      "Prediction Confusion Matrix:\n",
      "------------------------------\n",
      "       0     1\n",
      "0  10706   550\n",
      "1   1534  6307\n"
     ]
    }
   ],
   "source": [
    "meu.display_model_performance_metrics(ytrain_smt,ypredichos_train,classes=label_name)"
   ]
  },
  {
   "cell_type": "markdown",
   "metadata": {},
   "source": [
    "#### Data de testeo"
   ]
  },
  {
   "cell_type": "code",
   "execution_count": 55,
   "metadata": {
    "scrolled": false
   },
   "outputs": [
    {
     "name": "stdout",
     "output_type": "stream",
     "text": [
      "      0    1\n",
      "0  4643  235\n",
      "1    77  415\n"
     ]
    }
   ],
   "source": [
    "meu.display_confusion_matrix(ytest,ypredichos_test,classes=label_name)"
   ]
  },
  {
   "cell_type": "code",
   "execution_count": 54,
   "metadata": {},
   "outputs": [
    {
     "name": "stdout",
     "output_type": "stream",
     "text": [
      "Model Performance metrics:\n",
      "------------------------------\n",
      "Accuracy: 0.9419\n",
      "Precision: 0.9521\n",
      "Recall: 0.9419\n",
      "F1 Score: 0.9454\n",
      "\n",
      "Model Classification report:\n",
      "------------------------------\n",
      "              precision    recall  f1-score   support\n",
      "\n",
      "           0       0.98      0.95      0.97      4878\n",
      "           1       0.64      0.84      0.73       492\n",
      "\n",
      "    accuracy                           0.94      5370\n",
      "   macro avg       0.81      0.90      0.85      5370\n",
      "weighted avg       0.95      0.94      0.95      5370\n",
      "\n",
      "\n",
      "Prediction Confusion Matrix:\n",
      "------------------------------\n",
      "      0    1\n",
      "0  4643  235\n",
      "1    77  415\n"
     ]
    }
   ],
   "source": [
    "meu.display_model_performance_metrics(ytest,ypredichos_test,classes=label_name)"
   ]
  },
  {
   "cell_type": "markdown",
   "metadata": {},
   "source": [
    "### **_5. Generar el grafico de la curva ROC para datos de entrenamiento y testeo._**"
   ]
  },
  {
   "cell_type": "code",
   "execution_count": 40,
   "metadata": {},
   "outputs": [
    {
     "data": {
      "image/png": "[encoded data removed]",
      "text/plain": [
       "<Figure size 432x288 with 1 Axes>"
      ]
     },
     "metadata": {
      "needs_background": "light"
     },
     "output_type": "display_data"
    }
   ],
   "source": [
    "meu.plot_model_roc_curve(clf,xtrain_smt,ytrain_smt,class_names=label_name)"
   ]
  },
  {
   "cell_type": "code",
   "execution_count": 52,
   "metadata": {},
   "outputs": [
    {
     "data": {
      "image/png": "[encoded data removed]",
      "text/plain": [
       "<Figure size 432x288 with 1 Axes>"
      ]
     },
     "metadata": {
      "needs_background": "light"
     },
     "output_type": "display_data"
    }
   ],
   "source": [
    "meu.plot_model_roc_curve(clf,xtest,ytest,class_names=label_name)"
   ]
  }
 ],
 "metadata": {
  "kernelspec": {
   "display_name": "Python 3",
   "language": "python",
   "name": "python3"
  },
  "language_info": {
   "codemirror_mode": {
    "name": "ipython",
    "version": 3
   },
   "file_extension": ".py",
   "mimetype": "text/x-python",
   "name": "python",
   "nbconvert_exporter": "python",
   "pygments_lexer": "ipython3",
   "version": "3.8.3"
  }
 },
 "nbformat": 4,
 "nbformat_minor": 4
}
