{
 "cells": [
  {
   "cell_type": "markdown",
   "metadata": {},
   "source": [
    "## Caso Practico"
   ]
  },
  {
   "cell_type": "markdown",
   "metadata": {},
   "source": [
    "HTRU2 es un conjunto de datos que describe una muestra de candidatos de púlsar recopilados durante el\n",
    "Encuesta del universo de alta resolución de tiempo (Sur).\n",
    "\n",
    "Los púlsares son un tipo raro de estrella de neutrones que producen emisiones de radio detectables aquí en\n",
    "Tierra. Son de considerable interés científico como sondas del espacio-tiempo, el inter\n",
    "medio estelar y estados de la materia.\n",
    "\n",
    "La detección de señal potencial conocida como 'candidato' se promedia en muchas rotaciones del\n",
    "pulsar, según lo determinado por la duración de una observación. En ausencia de información adicional,\n",
    "cada candidato podría describir potencialmente un púlsar real. Sin embargo, en la práctica, casi todos\n",
    "las detecciones son causadas por interferencia de radiofrecuencia (RFI) y ruido, lo que hace legítimo\n",
    "Señales difíciles de encontrar.\n",
    "\n",
    "El conjunto de datos compartido aquí contiene 16,259 ejemplos espurios causados ​​por RFI / ruido, y 1,639\n",
    "ejemplos reales de púlsar. Todos estos ejemplos han sido verificados por anotadores humanos. Cada\n",
    "El candidato se describe mediante 8 variables continuas. Los primeros cuatro son estadísticas simples.\n",
    "obtenido del perfil de pulso integrado (perfil plegado). Esta es una serie de continuos\n",
    "variables que describen una versión resuelta en longitud de la señal que se ha promediado\n",
    "tanto en tiempo como en frecuencia (ver [3] para más detalles). Las cuatro variables restantes son\n",
    "obtenido de manera similar a partir de la curva DM-SNR (nuevamente ver [3] para más detalles). Estos son\n",
    "resumido a continuación:"
   ]
  },
  {
   "cell_type": "markdown",
   "metadata": {},
   "source": [
    "Atributos:\n",
    "1. Media del perfil integrado.\n",
    "2. Desviación estándar del perfil integrado.\n",
    "3. Exceso de curtosis del perfil integrado.\n",
    "4. Inclinación del perfil integrado.\n",
    "5. Media de la curva DM-SNR.\n",
    "6. Desviación estándar de la curva DM-SNR.\n",
    "7. Exceso de curtosis de la curva DM-SNR.\n",
    "8. Inclinación de la curva DM-SNR.\n",
    "9. Las etiquetas de clase utilizadas son 0 (negativo) y 1(positivo)."
   ]
  },
  {
   "cell_type": "markdown",
   "metadata": {},
   "source": [
    "Referencia:\n",
    "R. J. Lyon, B. W. Stappers, S. Cooper, J. M. Brooke, J. D. Knowles, Fifty Years of Pulsar\n",
    "Candidate Selection: From simple filters to a new principled real-time classification approach\n",
    "MNRAS, 2016."
   ]
  },
  {
   "cell_type": "code",
   "execution_count": null,
   "metadata": {},
   "outputs": [],
   "source": [
    "import numpy as np\n",
    "import pandas as pd\n",
    "\n",
    "df_HTRU2 = pd.read_csv('datos/',  sep=',')\n",
    "\n",
    "df_HTRU2.info()"
   ]
  },
  {
   "cell_type": "markdown",
   "metadata": {},
   "source": [
    "### Actividades"
   ]
  },
  {
   "cell_type": "markdown",
   "metadata": {},
   "source": [
    "1. Frecuencia de Observaciones del TARGET.\n",
    "2. Graficos de correlacion de Pearson de los predictores.\n",
    "3. Probabilidades de prediccion.\n",
    "4. Matriz de Confusion.\n",
    "5. Generar el grafico de la curva ROC para datos de entrenamiento y testeo."
   ]
  },
  {
   "cell_type": "code",
   "execution_count": null,
   "metadata": {},
   "outputs": [],
   "source": []
  },
  {
   "cell_type": "code",
   "execution_count": null,
   "metadata": {},
   "outputs": [],
   "source": []
  }
 ],
 "metadata": {
  "kernelspec": {
   "display_name": "Python 3",
   "language": "python",
   "name": "python3"
  },
  "language_info": {
   "codemirror_mode": {
    "name": "ipython",
    "version": 3
   },
   "file_extension": ".py",
   "mimetype": "text/x-python",
   "name": "python",
   "nbconvert_exporter": "python",
   "pygments_lexer": "ipython3",
   "version": "3.7.6"
  }
 },
 "nbformat": 4,
 "nbformat_minor": 2
}
