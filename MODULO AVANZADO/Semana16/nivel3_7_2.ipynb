{
 "cells": [
  {
   "cell_type": "markdown",
   "metadata": {},
   "source": [
    "<center><img src=\"https://www.mindinventory.com/blog/wp-content/uploads/2019/04/python-development-1200x500.png\" width=\"1000\"></center>"
   ]
  },
  {
   "cell_type": "markdown",
   "metadata": {},
   "source": [
    "# Programa de Especialización en Python\n",
    "\n",
    "### Manuel Sigüeñas, M.Sc.(c)\n",
    "### Prof. Lenguajes de Programación para Ciencia de Datos / Agile Data Scientists / SCRUMStudy Certified Trainer\n",
    "[msiguenas@socialdata-peru.com](msiguenas@socialdata-peru.com)"
   ]
  },
  {
   "cell_type": "code",
   "execution_count": 1,
   "metadata": {
    "scrolled": true
   },
   "outputs": [
    {
     "data": {
      "text/html": [
       "<div>\n",
       "<style scoped>\n",
       "    .dataframe tbody tr th:only-of-type {\n",
       "        vertical-align: middle;\n",
       "    }\n",
       "\n",
       "    .dataframe tbody tr th {\n",
       "        vertical-align: top;\n",
       "    }\n",
       "\n",
       "    .dataframe thead th {\n",
       "        text-align: right;\n",
       "    }\n",
       "</style>\n",
       "<table border=\"1\" class=\"dataframe\">\n",
       "  <thead>\n",
       "    <tr style=\"text-align: right;\">\n",
       "      <th></th>\n",
       "      <th>Código</th>\n",
       "      <th>DIA</th>\n",
       "      <th>MES</th>\n",
       "      <th>AÑO</th>\n",
       "      <th>RESPONSABLE</th>\n",
       "      <th>ESTRATEGA_VAR_00A</th>\n",
       "      <th>ESTRATEGA_VAR_01A</th>\n",
       "      <th>ESTRATEGA_VAR_01B</th>\n",
       "      <th>ESTRATEGA_VAR_02A</th>\n",
       "      <th>ESTRATEGA_VAR_03_A</th>\n",
       "      <th>ESTRATEGA_VAR_03_B</th>\n",
       "      <th>ESTRATEGA_VAR_04</th>\n",
       "      <th>ESTRATEGA_VAR_05</th>\n",
       "      <th>DETALLES_ACTIVIDAD</th>\n",
       "    </tr>\n",
       "  </thead>\n",
       "  <tbody>\n",
       "    <tr>\n",
       "      <th>0</th>\n",
       "      <td>2</td>\n",
       "      <td>15</td>\n",
       "      <td>12</td>\n",
       "      <td>2015</td>\n",
       "      <td>3</td>\n",
       "      <td>1</td>\n",
       "      <td>3</td>\n",
       "      <td>5</td>\n",
       "      <td>54</td>\n",
       "      <td>4</td>\n",
       "      <td>402</td>\n",
       "      <td>0</td>\n",
       "      <td>1</td>\n",
       "      <td>titular: \"Nadine manda tuit a Vilcatoma\" (por ...</td>\n",
       "    </tr>\n",
       "    <tr>\n",
       "      <th>1</th>\n",
       "      <td>3</td>\n",
       "      <td>15</td>\n",
       "      <td>12</td>\n",
       "      <td>2015</td>\n",
       "      <td>3</td>\n",
       "      <td>1</td>\n",
       "      <td>3</td>\n",
       "      <td>5</td>\n",
       "      <td>107</td>\n",
       "      <td>2</td>\n",
       "      <td>201</td>\n",
       "      <td>0</td>\n",
       "      <td>1</td>\n",
       "      <td>titular: \"tìa cuculiza fiel al fujimorismo\" (e...</td>\n",
       "    </tr>\n",
       "    <tr>\n",
       "      <th>2</th>\n",
       "      <td>10</td>\n",
       "      <td>16</td>\n",
       "      <td>12</td>\n",
       "      <td>2015</td>\n",
       "      <td>3</td>\n",
       "      <td>1</td>\n",
       "      <td>3</td>\n",
       "      <td>5</td>\n",
       "      <td>59</td>\n",
       "      <td>2</td>\n",
       "      <td>201</td>\n",
       "      <td>0</td>\n",
       "      <td>1</td>\n",
       "      <td>titular: \"Chavèz se irìa por Keiko\" (si no la ...</td>\n",
       "    </tr>\n",
       "  </tbody>\n",
       "</table>\n",
       "</div>"
      ],
      "text/plain": [
       "   Código   DIA  MES   AÑO  RESPONSABLE  ESTRATEGA_VAR_00A  ESTRATEGA_VAR_01A  \\\n",
       "0        2   15   12  2015            3                  1                  3   \n",
       "1        3   15   12  2015            3                  1                  3   \n",
       "2       10   16   12  2015            3                  1                  3   \n",
       "\n",
       "   ESTRATEGA_VAR_01B  ESTRATEGA_VAR_02A  ESTRATEGA_VAR_03_A  \\\n",
       "0                  5                 54                   4   \n",
       "1                  5                107                   2   \n",
       "2                  5                 59                   2   \n",
       "\n",
       "   ESTRATEGA_VAR_03_B  ESTRATEGA_VAR_04  ESTRATEGA_VAR_05  \\\n",
       "0                 402                 0                 1   \n",
       "1                 201                 0                 1   \n",
       "2                 201                 0                 1   \n",
       "\n",
       "                                  DETALLES_ACTIVIDAD  \n",
       "0  titular: \"Nadine manda tuit a Vilcatoma\" (por ...  \n",
       "1  titular: \"tìa cuculiza fiel al fujimorismo\" (e...  \n",
       "2  titular: \"Chavèz se irìa por Keiko\" (si no la ...  "
      ]
     },
     "execution_count": 1,
     "metadata": {},
     "output_type": "execute_result"
    }
   ],
   "source": [
    "import pandas as pd\n",
    "\n",
    "df = pd.read_csv('D:/SOCIAL DATA/Dropbox/Python 5ta edición - Programa Completo/3. avanzado/sesión_05/base.csv',sep=\";\" ,encoding=\"ISO-8859-1\")\n",
    "df.head(3)"
   ]
  },
  {
   "cell_type": "code",
   "execution_count": 2,
   "metadata": {},
   "outputs": [
    {
     "name": "stderr",
     "output_type": "stream",
     "text": [
      "[nltk_data] Downloading package stopwords to C:\\Users\\SOCIAL\n",
      "[nltk_data]     DATA\\AppData\\Roaming\\nltk_data...\n",
      "[nltk_data]   Package stopwords is already up-to-date!\n"
     ]
    },
    {
     "data": {
      "text/plain": [
       "True"
      ]
     },
     "execution_count": 2,
     "metadata": {},
     "output_type": "execute_result"
    }
   ],
   "source": [
    "import nltk\n",
    "nltk.download('stopwords')"
   ]
  },
  {
   "cell_type": "code",
   "execution_count": 3,
   "metadata": {},
   "outputs": [],
   "source": [
    "from sklearn.feature_extraction.text import CountVectorizer\n",
    "# stopwords.words('spanish')\n",
    "import nltk\n",
    "from nltk.corpus import stopwords\n",
    "spanish_stopwords = stopwords.words('spanish')\n",
    "count = CountVectorizer(stop_words=spanish_stopwords,\n",
    "                        max_df=.1,\n",
    "                        max_features=5000)\n",
    "X = count.fit_transform(df['DETALLES_ACTIVIDAD'].values)"
   ]
  },
  {
   "cell_type": "code",
   "execution_count": 4,
   "metadata": {},
   "outputs": [],
   "source": [
    "from sklearn.decomposition import LatentDirichletAllocation\n",
    "\n",
    "lda = LatentDirichletAllocation(n_components=5, ## número de temas a conseguir\n",
    "                                random_state=123,\n",
    "                                learning_method='batch')\n",
    "X_topics = lda.fit_transform(X)"
   ]
  },
  {
   "cell_type": "code",
   "execution_count": 5,
   "metadata": {},
   "outputs": [
    {
     "data": {
      "text/plain": [
       "(5, 733)"
      ]
     },
     "execution_count": 5,
     "metadata": {},
     "output_type": "execute_result"
    }
   ],
   "source": [
    "lda.components_.shape"
   ]
  },
  {
   "cell_type": "code",
   "execution_count": 6,
   "metadata": {},
   "outputs": [
    {
     "name": "stdout",
     "output_type": "stream",
     "text": [
      "Topic 1:\n",
      "sigue pepitas campaña fallo voy\n",
      "Topic 2:\n",
      "bùho nadine candidatos joaquìn ramirez\n",
      "Topic 3:\n",
      "jurado dinero vuelta cree puntos\n",
      "Topic 4:\n",
      "dice fujimori pepitas tuit campaña\n",
      "Topic 5:\n",
      "barnechea miles alan encuesta vuelta\n"
     ]
    }
   ],
   "source": [
    "n_top_words = 5\n",
    "feature_names = count.get_feature_names()\n",
    "\n",
    "for topic_idx, topic in enumerate(lda.components_):\n",
    "    print(\"Topic %d:\" % (topic_idx + 1))\n",
    "    print(\" \".join([feature_names[i]\n",
    "                    for i in topic.argsort()\\\n",
    "                        [:-n_top_words - 1:-1]]))"
   ]
  },
  {
   "cell_type": "code",
   "execution_count": 8,
   "metadata": {},
   "outputs": [
    {
     "name": "stdout",
     "output_type": "stream",
     "text": [
      "\n",
      "Titular #1:\n",
      "Especialista en lect ...\n",
      "\n",
      "Titular #2:\n",
      "pepitas: \"El hashtag ...\n",
      "\n",
      "Titular #3:\n",
      "Titular: \"Habrà enca ...\n"
     ]
    }
   ],
   "source": [
    "horror = X_topics[:, 4].argsort()[::-1]\n",
    "\n",
    "for iter_idx, movie_idx in enumerate(horror[:3]):\n",
    "    print('\\nTitular #%d:' % (iter_idx + 1))\n",
    "    print(df['DETALLES_ACTIVIDAD'][movie_idx][:20], '...')"
   ]
  },
  {
   "cell_type": "markdown",
   "metadata": {},
   "source": [
    "## CASO PRACTICO:"
   ]
  },
  {
   "cell_type": "markdown",
   "metadata": {},
   "source": [
    "- Cada 28 de julio los presidentes del Perú brindan discursos donde informan de las políticas realizadas y de las que se implementarán, además de analizar el contexto político - económico - social.\n",
    "- En la nuestro trabajo se analizará los discursos presidenciales correspondientes al periodo 1980 a 2016.\n",
    "- Puede acceder a los discursos presidenciales desde:\n",
    "http://www4.congreso.gob.pe/museo/mensajes.html\n",
    "Sig"
   ]
  },
  {
   "cell_type": "markdown",
   "metadata": {},
   "source": [
    "Actividades:\n",
    "\n",
    "1. Caqrgar los datos discursos_presidenciales.csv\n",
    "2. Eliminar los stopwords\n",
    "3. Aplicar LDA identificando 10 temas\n",
    "4. Analizar (contextualizar) los temas identificados en función a los primeros (10) términos claves.\n",
    "5. Mostrar algunos ejemplos de los temas formados."
   ]
  }
 ],
 "metadata": {
  "kernelspec": {
   "display_name": "Python 3",
   "language": "python",
   "name": "python3"
  },
  "language_info": {
   "codemirror_mode": {
    "name": "ipython",
    "version": 3
   },
   "file_extension": ".py",
   "mimetype": "text/x-python",
   "name": "python",
   "nbconvert_exporter": "python",
   "pygments_lexer": "ipython3",
   "version": "3.7.3"
  }
 },
 "nbformat": 4,
 "nbformat_minor": 2
}
