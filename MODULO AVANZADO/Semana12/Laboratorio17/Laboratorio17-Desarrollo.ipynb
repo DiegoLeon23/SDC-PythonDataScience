{
 "cells": [
  {
   "cell_type": "code",
   "execution_count": 78,
   "metadata": {},
   "outputs": [],
   "source": [
    "#Just in Case\n",
    "import warnings\n",
    "warnings.filterwarnings('ignore')\n",
    "\n",
    "#Importando las librerías necesarias\n",
    "import pandas as pd\n",
    "import numpy as np\n",
    "import matplotlib.pyplot as plt\n",
    "import seaborn as sns\n",
    "import os\n",
    "import statsmodels.api as sm\n",
    "\n",
    "from imblearn.under_sampling import NearMiss         #Para llevar a cabo UnderSampling\n",
    "from graphviz import Source\n",
    "from sklearn.model_selection import train_test_split\n",
    "from sklearn.model_selection import cross_val_score\n",
    "from sklearn.tree import DecisionTreeClassifier, export_graphviz, export_text, plot_tree\n",
    "from imblearn.under_sampling import RandomUnderSampler\n",
    "from sklearn.metrics import confusion_matrix, auc, roc_curve\n",
    "from sklearn.preprocessing import label_binarize\n",
    "from mlxtend.plotting import plot_decision_regions"
   ]
  },
  {
   "cell_type": "code",
   "execution_count": 79,
   "metadata": {},
   "outputs": [],
   "source": [
    "#Estableciendo el directorio de trabajo\n",
    "os.chdir('D:\\Social Data Consulting\\Python for Data Science\\data')"
   ]
  },
  {
   "cell_type": "code",
   "execution_count": 80,
   "metadata": {},
   "outputs": [
    {
     "data": {
      "text/html": [
       "<div>\n",
       "<style scoped>\n",
       "    .dataframe tbody tr th:only-of-type {\n",
       "        vertical-align: middle;\n",
       "    }\n",
       "\n",
       "    .dataframe tbody tr th {\n",
       "        vertical-align: top;\n",
       "    }\n",
       "\n",
       "    .dataframe thead th {\n",
       "        text-align: right;\n",
       "    }\n",
       "</style>\n",
       "<table border=\"1\" class=\"dataframe\">\n",
       "  <thead>\n",
       "    <tr style=\"text-align: right;\">\n",
       "      <th></th>\n",
       "      <th>ID</th>\n",
       "      <th>LIMIT_BAL</th>\n",
       "      <th>SEX</th>\n",
       "      <th>EDUCATION</th>\n",
       "      <th>MARRIAGE</th>\n",
       "      <th>AGE</th>\n",
       "      <th>PAY_0</th>\n",
       "      <th>PAY_2</th>\n",
       "      <th>PAY_3</th>\n",
       "      <th>PAY_4</th>\n",
       "      <th>...</th>\n",
       "      <th>BILL_AMT4</th>\n",
       "      <th>BILL_AMT5</th>\n",
       "      <th>BILL_AMT6</th>\n",
       "      <th>PAY_AMT1</th>\n",
       "      <th>PAY_AMT2</th>\n",
       "      <th>PAY_AMT3</th>\n",
       "      <th>PAY_AMT4</th>\n",
       "      <th>PAY_AMT5</th>\n",
       "      <th>PAY_AMT6</th>\n",
       "      <th>default.payment.next.month</th>\n",
       "    </tr>\n",
       "  </thead>\n",
       "  <tbody>\n",
       "    <tr>\n",
       "      <th>0</th>\n",
       "      <td>1</td>\n",
       "      <td>20000.0</td>\n",
       "      <td>2</td>\n",
       "      <td>2</td>\n",
       "      <td>1</td>\n",
       "      <td>24</td>\n",
       "      <td>2</td>\n",
       "      <td>2</td>\n",
       "      <td>-1</td>\n",
       "      <td>-1</td>\n",
       "      <td>...</td>\n",
       "      <td>0.0</td>\n",
       "      <td>0.0</td>\n",
       "      <td>0.0</td>\n",
       "      <td>0.0</td>\n",
       "      <td>689.0</td>\n",
       "      <td>0.0</td>\n",
       "      <td>0.0</td>\n",
       "      <td>0.0</td>\n",
       "      <td>0.0</td>\n",
       "      <td>1</td>\n",
       "    </tr>\n",
       "    <tr>\n",
       "      <th>1</th>\n",
       "      <td>2</td>\n",
       "      <td>120000.0</td>\n",
       "      <td>2</td>\n",
       "      <td>2</td>\n",
       "      <td>2</td>\n",
       "      <td>26</td>\n",
       "      <td>-1</td>\n",
       "      <td>2</td>\n",
       "      <td>0</td>\n",
       "      <td>0</td>\n",
       "      <td>...</td>\n",
       "      <td>3272.0</td>\n",
       "      <td>3455.0</td>\n",
       "      <td>3261.0</td>\n",
       "      <td>0.0</td>\n",
       "      <td>1000.0</td>\n",
       "      <td>1000.0</td>\n",
       "      <td>1000.0</td>\n",
       "      <td>0.0</td>\n",
       "      <td>2000.0</td>\n",
       "      <td>1</td>\n",
       "    </tr>\n",
       "    <tr>\n",
       "      <th>2</th>\n",
       "      <td>3</td>\n",
       "      <td>90000.0</td>\n",
       "      <td>2</td>\n",
       "      <td>2</td>\n",
       "      <td>2</td>\n",
       "      <td>34</td>\n",
       "      <td>0</td>\n",
       "      <td>0</td>\n",
       "      <td>0</td>\n",
       "      <td>0</td>\n",
       "      <td>...</td>\n",
       "      <td>14331.0</td>\n",
       "      <td>14948.0</td>\n",
       "      <td>15549.0</td>\n",
       "      <td>1518.0</td>\n",
       "      <td>1500.0</td>\n",
       "      <td>1000.0</td>\n",
       "      <td>1000.0</td>\n",
       "      <td>1000.0</td>\n",
       "      <td>5000.0</td>\n",
       "      <td>0</td>\n",
       "    </tr>\n",
       "    <tr>\n",
       "      <th>3</th>\n",
       "      <td>4</td>\n",
       "      <td>50000.0</td>\n",
       "      <td>2</td>\n",
       "      <td>2</td>\n",
       "      <td>1</td>\n",
       "      <td>37</td>\n",
       "      <td>0</td>\n",
       "      <td>0</td>\n",
       "      <td>0</td>\n",
       "      <td>0</td>\n",
       "      <td>...</td>\n",
       "      <td>28314.0</td>\n",
       "      <td>28959.0</td>\n",
       "      <td>29547.0</td>\n",
       "      <td>2000.0</td>\n",
       "      <td>2019.0</td>\n",
       "      <td>1200.0</td>\n",
       "      <td>1100.0</td>\n",
       "      <td>1069.0</td>\n",
       "      <td>1000.0</td>\n",
       "      <td>0</td>\n",
       "    </tr>\n",
       "    <tr>\n",
       "      <th>4</th>\n",
       "      <td>5</td>\n",
       "      <td>50000.0</td>\n",
       "      <td>1</td>\n",
       "      <td>2</td>\n",
       "      <td>1</td>\n",
       "      <td>57</td>\n",
       "      <td>-1</td>\n",
       "      <td>0</td>\n",
       "      <td>-1</td>\n",
       "      <td>0</td>\n",
       "      <td>...</td>\n",
       "      <td>20940.0</td>\n",
       "      <td>19146.0</td>\n",
       "      <td>19131.0</td>\n",
       "      <td>2000.0</td>\n",
       "      <td>36681.0</td>\n",
       "      <td>10000.0</td>\n",
       "      <td>9000.0</td>\n",
       "      <td>689.0</td>\n",
       "      <td>679.0</td>\n",
       "      <td>0</td>\n",
       "    </tr>\n",
       "  </tbody>\n",
       "</table>\n",
       "<p>5 rows × 25 columns</p>\n",
       "</div>"
      ],
      "text/plain": [
       "   ID  LIMIT_BAL  SEX  EDUCATION  MARRIAGE  AGE  PAY_0  PAY_2  PAY_3  PAY_4  \\\n",
       "0   1    20000.0    2          2         1   24      2      2     -1     -1   \n",
       "1   2   120000.0    2          2         2   26     -1      2      0      0   \n",
       "2   3    90000.0    2          2         2   34      0      0      0      0   \n",
       "3   4    50000.0    2          2         1   37      0      0      0      0   \n",
       "4   5    50000.0    1          2         1   57     -1      0     -1      0   \n",
       "\n",
       "   ...  BILL_AMT4  BILL_AMT5  BILL_AMT6  PAY_AMT1  PAY_AMT2  PAY_AMT3  \\\n",
       "0  ...        0.0        0.0        0.0       0.0     689.0       0.0   \n",
       "1  ...     3272.0     3455.0     3261.0       0.0    1000.0    1000.0   \n",
       "2  ...    14331.0    14948.0    15549.0    1518.0    1500.0    1000.0   \n",
       "3  ...    28314.0    28959.0    29547.0    2000.0    2019.0    1200.0   \n",
       "4  ...    20940.0    19146.0    19131.0    2000.0   36681.0   10000.0   \n",
       "\n",
       "   PAY_AMT4  PAY_AMT5  PAY_AMT6  default.payment.next.month  \n",
       "0       0.0       0.0       0.0                           1  \n",
       "1    1000.0       0.0    2000.0                           1  \n",
       "2    1000.0    1000.0    5000.0                           0  \n",
       "3    1100.0    1069.0    1000.0                           0  \n",
       "4    9000.0     689.0     679.0                           0  \n",
       "\n",
       "[5 rows x 25 columns]"
      ]
     },
     "execution_count": 80,
     "metadata": {},
     "output_type": "execute_result"
    }
   ],
   "source": [
    "mifichero=\"UCI_Credit_Card.csv\"\n",
    "creditcard=pd.read_csv(mifichero)\n",
    "creditcard.head()"
   ]
  },
  {
   "cell_type": "code",
   "execution_count": 81,
   "metadata": {},
   "outputs": [
    {
     "name": "stdout",
     "output_type": "stream",
     "text": [
      "<class 'pandas.core.frame.DataFrame'>\n",
      "RangeIndex: 30000 entries, 0 to 29999\n",
      "Data columns (total 25 columns):\n",
      " #   Column                      Non-Null Count  Dtype  \n",
      "---  ------                      --------------  -----  \n",
      " 0   ID                          30000 non-null  int64  \n",
      " 1   LIMIT_BAL                   30000 non-null  float64\n",
      " 2   SEX                         30000 non-null  int64  \n",
      " 3   EDUCATION                   30000 non-null  int64  \n",
      " 4   MARRIAGE                    30000 non-null  int64  \n",
      " 5   AGE                         30000 non-null  int64  \n",
      " 6   PAY_0                       30000 non-null  int64  \n",
      " 7   PAY_2                       30000 non-null  int64  \n",
      " 8   PAY_3                       30000 non-null  int64  \n",
      " 9   PAY_4                       30000 non-null  int64  \n",
      " 10  PAY_5                       30000 non-null  int64  \n",
      " 11  PAY_6                       30000 non-null  int64  \n",
      " 12  BILL_AMT1                   30000 non-null  float64\n",
      " 13  BILL_AMT2                   30000 non-null  float64\n",
      " 14  BILL_AMT3                   30000 non-null  float64\n",
      " 15  BILL_AMT4                   30000 non-null  float64\n",
      " 16  BILL_AMT5                   30000 non-null  float64\n",
      " 17  BILL_AMT6                   30000 non-null  float64\n",
      " 18  PAY_AMT1                    30000 non-null  float64\n",
      " 19  PAY_AMT2                    30000 non-null  float64\n",
      " 20  PAY_AMT3                    30000 non-null  float64\n",
      " 21  PAY_AMT4                    30000 non-null  float64\n",
      " 22  PAY_AMT5                    30000 non-null  float64\n",
      " 23  PAY_AMT6                    30000 non-null  float64\n",
      " 24  default.payment.next.month  30000 non-null  int64  \n",
      "dtypes: float64(13), int64(12)\n",
      "memory usage: 5.7 MB\n"
     ]
    }
   ],
   "source": [
    "creditcard.info()"
   ]
  },
  {
   "cell_type": "code",
   "execution_count": 82,
   "metadata": {},
   "outputs": [
    {
     "data": {
      "text/plain": [
       "ID                            0\n",
       "LIMIT_BAL                     0\n",
       "SEX                           0\n",
       "EDUCATION                     0\n",
       "MARRIAGE                      0\n",
       "AGE                           0\n",
       "PAY_0                         0\n",
       "PAY_2                         0\n",
       "PAY_3                         0\n",
       "PAY_4                         0\n",
       "PAY_5                         0\n",
       "PAY_6                         0\n",
       "BILL_AMT1                     0\n",
       "BILL_AMT2                     0\n",
       "BILL_AMT3                     0\n",
       "BILL_AMT4                     0\n",
       "BILL_AMT5                     0\n",
       "BILL_AMT6                     0\n",
       "PAY_AMT1                      0\n",
       "PAY_AMT2                      0\n",
       "PAY_AMT3                      0\n",
       "PAY_AMT4                      0\n",
       "PAY_AMT5                      0\n",
       "PAY_AMT6                      0\n",
       "default.payment.next.month    0\n",
       "dtype: int64"
      ]
     },
     "execution_count": 82,
     "metadata": {},
     "output_type": "execute_result"
    }
   ],
   "source": [
    "creditcard.isnull().sum()"
   ]
  },
  {
   "cell_type": "code",
   "execution_count": 83,
   "metadata": {
    "scrolled": true
   },
   "outputs": [
    {
     "data": {
      "text/plain": [
       "0    23364\n",
       "1     6636\n",
       "Name: default.payment.next.month, dtype: int64"
      ]
     },
     "execution_count": 83,
     "metadata": {},
     "output_type": "execute_result"
    }
   ],
   "source": [
    "pd.value_counts(creditcard['default.payment.next.month'])"
   ]
  },
  {
   "cell_type": "code",
   "execution_count": 84,
   "metadata": {},
   "outputs": [],
   "source": [
    "predictores=['LIMIT_BAL', 'SEX', 'EDUCATION', 'MARRIAGE', 'AGE', 'PAY_0', 'PAY_2',\n",
    "       'PAY_3', 'PAY_4', 'PAY_5', 'PAY_6', 'BILL_AMT1', 'BILL_AMT2',\n",
    "       'BILL_AMT3', 'BILL_AMT4', 'BILL_AMT5', 'BILL_AMT6', 'PAY_AMT1',\n",
    "       'PAY_AMT2', 'PAY_AMT3', 'PAY_AMT4', 'PAY_AMT5', 'PAY_AMT6']\n",
    "target=['default.payment.next.month']"
   ]
  },
  {
   "cell_type": "code",
   "execution_count": 85,
   "metadata": {},
   "outputs": [],
   "source": [
    "del creditcard['ID']"
   ]
  },
  {
   "cell_type": "markdown",
   "metadata": {},
   "source": [
    "### **_1. Construir data de entrenamiento y testeo_**"
   ]
  },
  {
   "cell_type": "code",
   "execution_count": 86,
   "metadata": {
    "scrolled": false
   },
   "outputs": [
    {
     "data": {
      "text/plain": [
       "24"
      ]
     },
     "execution_count": 86,
     "metadata": {},
     "output_type": "execute_result"
    }
   ],
   "source": [
    "creditcard.shape[1]"
   ]
  },
  {
   "cell_type": "code",
   "execution_count": 87,
   "metadata": {},
   "outputs": [],
   "source": [
    "X=creditcard.iloc[:,0:creditcard.shape[1]-1].values\n",
    "y=creditcard.iloc[:,creditcard.shape[1]-1].values"
   ]
  },
  {
   "cell_type": "code",
   "execution_count": 88,
   "metadata": {},
   "outputs": [],
   "source": [
    "xtrain,xtest,ytrain,ytest=train_test_split(X,\n",
    "                                           y,\n",
    "                                           test_size=0.2,\n",
    "                                           random_state=2020,\n",
    "                                           stratify=y)"
   ]
  },
  {
   "cell_type": "code",
   "execution_count": 89,
   "metadata": {
    "scrolled": true
   },
   "outputs": [
    {
     "data": {
      "text/html": [
       "<div>\n",
       "<style scoped>\n",
       "    .dataframe tbody tr th:only-of-type {\n",
       "        vertical-align: middle;\n",
       "    }\n",
       "\n",
       "    .dataframe tbody tr th {\n",
       "        vertical-align: top;\n",
       "    }\n",
       "\n",
       "    .dataframe thead th {\n",
       "        text-align: right;\n",
       "    }\n",
       "</style>\n",
       "<table border=\"1\" class=\"dataframe\">\n",
       "  <thead>\n",
       "    <tr style=\"text-align: right;\">\n",
       "      <th></th>\n",
       "      <th>LIMIT_BAL</th>\n",
       "      <th>SEX</th>\n",
       "      <th>EDUCATION</th>\n",
       "      <th>MARRIAGE</th>\n",
       "      <th>AGE</th>\n",
       "      <th>PAY_0</th>\n",
       "      <th>PAY_2</th>\n",
       "      <th>PAY_3</th>\n",
       "      <th>PAY_4</th>\n",
       "      <th>PAY_5</th>\n",
       "      <th>...</th>\n",
       "      <th>BILL_AMT4</th>\n",
       "      <th>BILL_AMT5</th>\n",
       "      <th>BILL_AMT6</th>\n",
       "      <th>PAY_AMT1</th>\n",
       "      <th>PAY_AMT2</th>\n",
       "      <th>PAY_AMT3</th>\n",
       "      <th>PAY_AMT4</th>\n",
       "      <th>PAY_AMT5</th>\n",
       "      <th>PAY_AMT6</th>\n",
       "      <th>default.payment.next.month</th>\n",
       "    </tr>\n",
       "  </thead>\n",
       "  <tbody>\n",
       "    <tr>\n",
       "      <th>0</th>\n",
       "      <td>110000.0</td>\n",
       "      <td>1.0</td>\n",
       "      <td>2.0</td>\n",
       "      <td>1.0</td>\n",
       "      <td>36.0</td>\n",
       "      <td>1.0</td>\n",
       "      <td>2.0</td>\n",
       "      <td>0.0</td>\n",
       "      <td>0.0</td>\n",
       "      <td>0.0</td>\n",
       "      <td>...</td>\n",
       "      <td>105373.0</td>\n",
       "      <td>71733.0</td>\n",
       "      <td>61020.0</td>\n",
       "      <td>0.0</td>\n",
       "      <td>4308.0</td>\n",
       "      <td>3196.0</td>\n",
       "      <td>2536.0</td>\n",
       "      <td>2322.0</td>\n",
       "      <td>2001.0</td>\n",
       "      <td>0</td>\n",
       "    </tr>\n",
       "    <tr>\n",
       "      <th>1</th>\n",
       "      <td>50000.0</td>\n",
       "      <td>2.0</td>\n",
       "      <td>2.0</td>\n",
       "      <td>2.0</td>\n",
       "      <td>26.0</td>\n",
       "      <td>-1.0</td>\n",
       "      <td>-1.0</td>\n",
       "      <td>-1.0</td>\n",
       "      <td>-1.0</td>\n",
       "      <td>-2.0</td>\n",
       "      <td>...</td>\n",
       "      <td>0.0</td>\n",
       "      <td>0.0</td>\n",
       "      <td>0.0</td>\n",
       "      <td>0.0</td>\n",
       "      <td>2525.0</td>\n",
       "      <td>0.0</td>\n",
       "      <td>0.0</td>\n",
       "      <td>0.0</td>\n",
       "      <td>0.0</td>\n",
       "      <td>0</td>\n",
       "    </tr>\n",
       "    <tr>\n",
       "      <th>2</th>\n",
       "      <td>140000.0</td>\n",
       "      <td>2.0</td>\n",
       "      <td>2.0</td>\n",
       "      <td>2.0</td>\n",
       "      <td>49.0</td>\n",
       "      <td>-2.0</td>\n",
       "      <td>-2.0</td>\n",
       "      <td>-2.0</td>\n",
       "      <td>-2.0</td>\n",
       "      <td>-2.0</td>\n",
       "      <td>...</td>\n",
       "      <td>3794.0</td>\n",
       "      <td>0.0</td>\n",
       "      <td>865.0</td>\n",
       "      <td>367.0</td>\n",
       "      <td>0.0</td>\n",
       "      <td>3794.0</td>\n",
       "      <td>0.0</td>\n",
       "      <td>865.0</td>\n",
       "      <td>825.0</td>\n",
       "      <td>1</td>\n",
       "    </tr>\n",
       "    <tr>\n",
       "      <th>3</th>\n",
       "      <td>50000.0</td>\n",
       "      <td>1.0</td>\n",
       "      <td>3.0</td>\n",
       "      <td>1.0</td>\n",
       "      <td>47.0</td>\n",
       "      <td>0.0</td>\n",
       "      <td>0.0</td>\n",
       "      <td>0.0</td>\n",
       "      <td>2.0</td>\n",
       "      <td>0.0</td>\n",
       "      <td>...</td>\n",
       "      <td>15181.0</td>\n",
       "      <td>15928.0</td>\n",
       "      <td>16671.0</td>\n",
       "      <td>2000.0</td>\n",
       "      <td>2000.0</td>\n",
       "      <td>1000.0</td>\n",
       "      <td>1000.0</td>\n",
       "      <td>1000.0</td>\n",
       "      <td>1000.0</td>\n",
       "      <td>0</td>\n",
       "    </tr>\n",
       "    <tr>\n",
       "      <th>4</th>\n",
       "      <td>20000.0</td>\n",
       "      <td>1.0</td>\n",
       "      <td>2.0</td>\n",
       "      <td>2.0</td>\n",
       "      <td>43.0</td>\n",
       "      <td>-1.0</td>\n",
       "      <td>-1.0</td>\n",
       "      <td>-1.0</td>\n",
       "      <td>-1.0</td>\n",
       "      <td>-1.0</td>\n",
       "      <td>...</td>\n",
       "      <td>54.0</td>\n",
       "      <td>54.0</td>\n",
       "      <td>54.0</td>\n",
       "      <td>0.0</td>\n",
       "      <td>0.0</td>\n",
       "      <td>0.0</td>\n",
       "      <td>0.0</td>\n",
       "      <td>0.0</td>\n",
       "      <td>2966.0</td>\n",
       "      <td>1</td>\n",
       "    </tr>\n",
       "  </tbody>\n",
       "</table>\n",
       "<p>5 rows × 24 columns</p>\n",
       "</div>"
      ],
      "text/plain": [
       "   LIMIT_BAL  SEX  EDUCATION  MARRIAGE   AGE  PAY_0  PAY_2  PAY_3  PAY_4  \\\n",
       "0   110000.0  1.0        2.0       1.0  36.0    1.0    2.0    0.0    0.0   \n",
       "1    50000.0  2.0        2.0       2.0  26.0   -1.0   -1.0   -1.0   -1.0   \n",
       "2   140000.0  2.0        2.0       2.0  49.0   -2.0   -2.0   -2.0   -2.0   \n",
       "3    50000.0  1.0        3.0       1.0  47.0    0.0    0.0    0.0    2.0   \n",
       "4    20000.0  1.0        2.0       2.0  43.0   -1.0   -1.0   -1.0   -1.0   \n",
       "\n",
       "   PAY_5  ...  BILL_AMT4  BILL_AMT5  BILL_AMT6  PAY_AMT1  PAY_AMT2  PAY_AMT3  \\\n",
       "0    0.0  ...   105373.0    71733.0    61020.0       0.0    4308.0    3196.0   \n",
       "1   -2.0  ...        0.0        0.0        0.0       0.0    2525.0       0.0   \n",
       "2   -2.0  ...     3794.0        0.0      865.0     367.0       0.0    3794.0   \n",
       "3    0.0  ...    15181.0    15928.0    16671.0    2000.0    2000.0    1000.0   \n",
       "4   -1.0  ...       54.0       54.0       54.0       0.0       0.0       0.0   \n",
       "\n",
       "   PAY_AMT4  PAY_AMT5  PAY_AMT6  default.payment.next.month  \n",
       "0    2536.0    2322.0    2001.0                           0  \n",
       "1       0.0       0.0       0.0                           0  \n",
       "2       0.0     865.0     825.0                           1  \n",
       "3    1000.0    1000.0    1000.0                           0  \n",
       "4       0.0       0.0    2966.0                           1  \n",
       "\n",
       "[5 rows x 24 columns]"
      ]
     },
     "execution_count": 89,
     "metadata": {},
     "output_type": "execute_result"
    }
   ],
   "source": [
    "#Datos de entrenamiento\n",
    "xtrain= pd.DataFrame(xtrain,columns=predictores)\n",
    "ytrain= pd.DataFrame(ytrain,columns=target)\n",
    "\n",
    "df_creditcard_entrenamiento = pd.concat([xtrain, ytrain], axis=1)\n",
    "df_creditcard_entrenamiento.head()"
   ]
  },
  {
   "cell_type": "markdown",
   "metadata": {},
   "source": [
    "### **_2. Utilizar UnderSampling para balanceo de datos, teniendo en cuenta los siguientes parámetros: 07 para proporción de etiquetas poco representadas y 2020 como semilla._**"
   ]
  },
  {
   "cell_type": "code",
   "execution_count": 90,
   "metadata": {
    "scrolled": true
   },
   "outputs": [
    {
     "data": {
      "text/plain": [
       "0    18691\n",
       "1     5309\n",
       "Name: default.payment.next.month, dtype: int64"
      ]
     },
     "execution_count": 90,
     "metadata": {},
     "output_type": "execute_result"
    }
   ],
   "source": [
    "count_classes=pd.value_counts(df_creditcard_entrenamiento['default.payment.next.month'])\n",
    "count_classes"
   ]
  },
  {
   "cell_type": "code",
   "execution_count": 91,
   "metadata": {},
   "outputs": [
    {
     "data": {
      "image/png": "[encoded data removed]",
      "text/plain": [
       "<Figure size 432x288 with 1 Axes>"
      ]
     },
     "metadata": {
      "needs_background": "light"
     },
     "output_type": "display_data"
    }
   ],
   "source": [
    "#Graficando el Desbalanceo de la Target en el Training Set\n",
    "count_classes.plot(kind='bar',rot=0)\n",
    "plt.title('Desbalanceo de la Target - Training')\n",
    "plt.xlabel('Ocurrencia de Pago Predeterminado')\n",
    "plt.ylabel('Número de Observaciones')\n",
    "plt.show()"
   ]
  },
  {
   "cell_type": "code",
   "execution_count": 151,
   "metadata": {},
   "outputs": [],
   "source": [
    "#Primero creamos una instancia de NearMiss\n",
    "us=NearMiss(sampling_strategy=0.7)"
   ]
  },
  {
   "cell_type": "code",
   "execution_count": 152,
   "metadata": {},
   "outputs": [],
   "source": [
    "#fit_resample me arroja 2 objetos ya balanceados\n",
    "xtrain_under,ytrain_under= us.fit_sample(xtrain,ytrain)"
   ]
  },
  {
   "cell_type": "code",
   "execution_count": 153,
   "metadata": {
    "scrolled": true
   },
   "outputs": [
    {
     "data": {
      "text/html": [
       "<div>\n",
       "<style scoped>\n",
       "    .dataframe tbody tr th:only-of-type {\n",
       "        vertical-align: middle;\n",
       "    }\n",
       "\n",
       "    .dataframe tbody tr th {\n",
       "        vertical-align: top;\n",
       "    }\n",
       "\n",
       "    .dataframe thead th {\n",
       "        text-align: right;\n",
       "    }\n",
       "</style>\n",
       "<table border=\"1\" class=\"dataframe\">\n",
       "  <thead>\n",
       "    <tr style=\"text-align: right;\">\n",
       "      <th></th>\n",
       "      <th>LIMIT_BAL</th>\n",
       "      <th>SEX</th>\n",
       "      <th>EDUCATION</th>\n",
       "      <th>MARRIAGE</th>\n",
       "      <th>AGE</th>\n",
       "      <th>PAY_0</th>\n",
       "      <th>PAY_2</th>\n",
       "      <th>PAY_3</th>\n",
       "      <th>PAY_4</th>\n",
       "      <th>PAY_5</th>\n",
       "      <th>...</th>\n",
       "      <th>BILL_AMT4</th>\n",
       "      <th>BILL_AMT5</th>\n",
       "      <th>BILL_AMT6</th>\n",
       "      <th>PAY_AMT1</th>\n",
       "      <th>PAY_AMT2</th>\n",
       "      <th>PAY_AMT3</th>\n",
       "      <th>PAY_AMT4</th>\n",
       "      <th>PAY_AMT5</th>\n",
       "      <th>PAY_AMT6</th>\n",
       "      <th>default.payment.next.month</th>\n",
       "    </tr>\n",
       "  </thead>\n",
       "  <tbody>\n",
       "    <tr>\n",
       "      <th>0</th>\n",
       "      <td>360000.0</td>\n",
       "      <td>2.0</td>\n",
       "      <td>1.0</td>\n",
       "      <td>1.0</td>\n",
       "      <td>36.0</td>\n",
       "      <td>-2.0</td>\n",
       "      <td>-2.0</td>\n",
       "      <td>-2.0</td>\n",
       "      <td>-2.0</td>\n",
       "      <td>-2.0</td>\n",
       "      <td>...</td>\n",
       "      <td>0.0</td>\n",
       "      <td>0.0</td>\n",
       "      <td>0.0</td>\n",
       "      <td>0.0</td>\n",
       "      <td>0.0</td>\n",
       "      <td>0.0</td>\n",
       "      <td>0.0</td>\n",
       "      <td>0.0</td>\n",
       "      <td>0.0</td>\n",
       "      <td>0</td>\n",
       "    </tr>\n",
       "    <tr>\n",
       "      <th>1</th>\n",
       "      <td>360000.0</td>\n",
       "      <td>2.0</td>\n",
       "      <td>2.0</td>\n",
       "      <td>2.0</td>\n",
       "      <td>34.0</td>\n",
       "      <td>1.0</td>\n",
       "      <td>-2.0</td>\n",
       "      <td>-2.0</td>\n",
       "      <td>-2.0</td>\n",
       "      <td>-2.0</td>\n",
       "      <td>...</td>\n",
       "      <td>0.0</td>\n",
       "      <td>0.0</td>\n",
       "      <td>0.0</td>\n",
       "      <td>0.0</td>\n",
       "      <td>0.0</td>\n",
       "      <td>0.0</td>\n",
       "      <td>0.0</td>\n",
       "      <td>0.0</td>\n",
       "      <td>0.0</td>\n",
       "      <td>0</td>\n",
       "    </tr>\n",
       "    <tr>\n",
       "      <th>2</th>\n",
       "      <td>360000.0</td>\n",
       "      <td>1.0</td>\n",
       "      <td>1.0</td>\n",
       "      <td>1.0</td>\n",
       "      <td>39.0</td>\n",
       "      <td>-2.0</td>\n",
       "      <td>-2.0</td>\n",
       "      <td>-2.0</td>\n",
       "      <td>-2.0</td>\n",
       "      <td>-2.0</td>\n",
       "      <td>...</td>\n",
       "      <td>0.0</td>\n",
       "      <td>0.0</td>\n",
       "      <td>0.0</td>\n",
       "      <td>0.0</td>\n",
       "      <td>0.0</td>\n",
       "      <td>0.0</td>\n",
       "      <td>0.0</td>\n",
       "      <td>0.0</td>\n",
       "      <td>0.0</td>\n",
       "      <td>0</td>\n",
       "    </tr>\n",
       "    <tr>\n",
       "      <th>3</th>\n",
       "      <td>360000.0</td>\n",
       "      <td>2.0</td>\n",
       "      <td>2.0</td>\n",
       "      <td>1.0</td>\n",
       "      <td>40.0</td>\n",
       "      <td>-2.0</td>\n",
       "      <td>-2.0</td>\n",
       "      <td>-2.0</td>\n",
       "      <td>-2.0</td>\n",
       "      <td>-2.0</td>\n",
       "      <td>...</td>\n",
       "      <td>0.0</td>\n",
       "      <td>0.0</td>\n",
       "      <td>0.0</td>\n",
       "      <td>0.0</td>\n",
       "      <td>0.0</td>\n",
       "      <td>0.0</td>\n",
       "      <td>0.0</td>\n",
       "      <td>0.0</td>\n",
       "      <td>0.0</td>\n",
       "      <td>0</td>\n",
       "    </tr>\n",
       "    <tr>\n",
       "      <th>4</th>\n",
       "      <td>360000.0</td>\n",
       "      <td>2.0</td>\n",
       "      <td>1.0</td>\n",
       "      <td>1.0</td>\n",
       "      <td>42.0</td>\n",
       "      <td>1.0</td>\n",
       "      <td>-2.0</td>\n",
       "      <td>-2.0</td>\n",
       "      <td>-2.0</td>\n",
       "      <td>-2.0</td>\n",
       "      <td>...</td>\n",
       "      <td>0.0</td>\n",
       "      <td>0.0</td>\n",
       "      <td>0.0</td>\n",
       "      <td>0.0</td>\n",
       "      <td>0.0</td>\n",
       "      <td>0.0</td>\n",
       "      <td>0.0</td>\n",
       "      <td>0.0</td>\n",
       "      <td>0.0</td>\n",
       "      <td>0</td>\n",
       "    </tr>\n",
       "  </tbody>\n",
       "</table>\n",
       "<p>5 rows × 24 columns</p>\n",
       "</div>"
      ],
      "text/plain": [
       "   LIMIT_BAL  SEX  EDUCATION  MARRIAGE   AGE  PAY_0  PAY_2  PAY_3  PAY_4  \\\n",
       "0   360000.0  2.0        1.0       1.0  36.0   -2.0   -2.0   -2.0   -2.0   \n",
       "1   360000.0  2.0        2.0       2.0  34.0    1.0   -2.0   -2.0   -2.0   \n",
       "2   360000.0  1.0        1.0       1.0  39.0   -2.0   -2.0   -2.0   -2.0   \n",
       "3   360000.0  2.0        2.0       1.0  40.0   -2.0   -2.0   -2.0   -2.0   \n",
       "4   360000.0  2.0        1.0       1.0  42.0    1.0   -2.0   -2.0   -2.0   \n",
       "\n",
       "   PAY_5  ...  BILL_AMT4  BILL_AMT5  BILL_AMT6  PAY_AMT1  PAY_AMT2  PAY_AMT3  \\\n",
       "0   -2.0  ...        0.0        0.0        0.0       0.0       0.0       0.0   \n",
       "1   -2.0  ...        0.0        0.0        0.0       0.0       0.0       0.0   \n",
       "2   -2.0  ...        0.0        0.0        0.0       0.0       0.0       0.0   \n",
       "3   -2.0  ...        0.0        0.0        0.0       0.0       0.0       0.0   \n",
       "4   -2.0  ...        0.0        0.0        0.0       0.0       0.0       0.0   \n",
       "\n",
       "   PAY_AMT4  PAY_AMT5  PAY_AMT6  default.payment.next.month  \n",
       "0       0.0       0.0       0.0                           0  \n",
       "1       0.0       0.0       0.0                           0  \n",
       "2       0.0       0.0       0.0                           0  \n",
       "3       0.0       0.0       0.0                           0  \n",
       "4       0.0       0.0       0.0                           0  \n",
       "\n",
       "[5 rows x 24 columns]"
      ]
     },
     "execution_count": 153,
     "metadata": {},
     "output_type": "execute_result"
    }
   ],
   "source": [
    "#Datos de Entrenamiento DF\n",
    "xtrain_under_df=pd.DataFrame(xtrain_under,columns=predictores)\n",
    "ytrain_under_df=pd.DataFrame(ytrain_under,columns=target)\n",
    "\n",
    "xtest_df=pd.DataFrame(xtest,columns=predictores)\n",
    "ytest_df=pd.DataFrame(ytest,columns=target)\n",
    "\n",
    "\n",
    "df_creditcard_entrenamiento=pd.concat([xtrain_under_df,ytrain_under_df],axis=1)\n",
    "df_creditcard_test=pd.concat([xtest_df,ytest_df],axis=1)\n",
    "df_creditcard_entrenamiento.head()"
   ]
  },
  {
   "cell_type": "code",
   "execution_count": 154,
   "metadata": {},
   "outputs": [
    {
     "data": {
      "image/png": "[encoded data removed]",
      "text/plain": [
       "<Figure size 432x288 with 1 Axes>"
      ]
     },
     "metadata": {
      "needs_background": "light"
     },
     "output_type": "display_data"
    }
   ],
   "source": [
    "count_classes=pd.value_counts(df_creditcard_entrenamiento['default.payment.next.month'])\n",
    "#Graficando el Desbalanceo de la Target en el Training Set balanceado\n",
    "count_classes.plot(kind='bar',rot=0)\n",
    "plt.title('Desbalanceo de la Target - Training')\n",
    "plt.xlabel('Ocurrencia de Pago Predeterminado')\n",
    "plt.ylabel('Número de Observaciones')\n",
    "plt.show()"
   ]
  },
  {
   "cell_type": "markdown",
   "metadata": {},
   "source": [
    "### **_3. Construir el modelo de árboles de decisión_**"
   ]
  },
  {
   "cell_type": "code",
   "execution_count": 155,
   "metadata": {},
   "outputs": [],
   "source": [
    "#Creacion del modelo de arbol de decision\n",
    "tree=DecisionTreeClassifier(criterion='entropy',\n",
    "                           min_samples_split=20,\n",
    "                           max_depth=3,\n",
    "                           random_state=2020)"
   ]
  },
  {
   "cell_type": "code",
   "execution_count": 156,
   "metadata": {},
   "outputs": [
    {
     "data": {
      "text/plain": [
       "array([0.75348837, 0.73023256, 0.67286822, 0.69899147, 0.73235066,\n",
       "       0.742436  , 0.74553918, 0.75252133, 0.72381691, 0.69123351])"
      ]
     },
     "execution_count": 156,
     "metadata": {},
     "output_type": "execute_result"
    }
   ],
   "source": [
    "#Evaluando la validacion cruzada\n",
    "score=cross_val_score(tree, # Estimator\n",
    "                     xtrain_under, #Matriz de Datos\n",
    "                     ytrain_under, #Target\n",
    "                     scoring='accuracy', #Metrica de referencia\n",
    "                     cv=10) #Numero de particiones\n",
    "score"
   ]
  },
  {
   "cell_type": "code",
   "execution_count": 157,
   "metadata": {},
   "outputs": [],
   "source": [
    "#Aprendemos de los datos de entrenamiento\n",
    "tree=tree.fit(xtrain_under,ytrain_under)"
   ]
  },
  {
   "cell_type": "markdown",
   "metadata": {},
   "source": [
    "### **_4. Graficar el árbol de decisión._**"
   ]
  },
  {
   "cell_type": "code",
   "execution_count": 158,
   "metadata": {},
   "outputs": [],
   "source": [
    "#Iniciando proceso de grafica\n",
    "with open('creditcard_dtree.dot','w') as dotfile : #W viene de write para escritura sobre el objeto\n",
    "    export_graphviz(tree,\n",
    "                    out_file=dotfile,\n",
    "                    feature_names=predictores)\n",
    "    dotfile.close()"
   ]
  },
  {
   "cell_type": "code",
   "execution_count": 159,
   "metadata": {},
   "outputs": [
    {
     "data": {
      "text/plain": [
       "'digraph Tree {\\nnode [shape=box] ;\\n0 [label=\"PAY_0 <= 1.5\\\\nentropy = 0.977\\\\nsamples = 12893\\\\nvalue = [7584, 5309]\"] ;\\n1 [label=\"BILL_AMT1 <= 86353.0\\\\nentropy = 0.916\\\\nsamples = 10686\\\\nvalue = [7150, 3536]\"] ;\\n0 -> 1 [labeldistance=2.5, labelangle=45, headlabel=\"True\"] ;\\n2 [label=\"PAY_AMT4 <= 9804.0\\\\nentropy = 0.881\\\\nsamples = 10119\\\\nvalue = [7085, 3034]\"] ;\\n1 -> 2 ;\\n3 [label=\"entropy = 0.868\\\\nsamples = 9961\\\\nvalue = [7076, 2885]\"] ;\\n2 -> 3 ;\\n4 [label=\"entropy = 0.315\\\\nsamples = 158\\\\nvalue = [9, 149]\"] ;\\n2 -> 4 ;\\n5 [label=\"LIMIT_BAL <= 145000.0\\\\nentropy = 0.514\\\\nsamples = 567\\\\nvalue = [65, 502]\"] ;\\n1 -> 5 ;\\n6 [label=\"entropy = 0.865\\\\nsamples = 223\\\\nvalue = [64, 159]\"] ;\\n5 -> 6 ;\\n7 [label=\"entropy = 0.029\\\\nsamples = 344\\\\nvalue = [1, 343]\"] ;\\n5 -> 7 ;\\n8 [label=\"BILL_AMT1 <= 80760.0\\\\nentropy = 0.715\\\\nsamples = 2207\\\\nvalue = [434, 1773]\"] ;\\n0 -> 8 [labeldistance=2.5, labelangle=-45, headlabel=\"False\"] ;\\n9 [label=\"BILL_AMT1 <= 2207.5\\\\nentropy = 0.801\\\\nsamples = 1740\\\\nvalue = [424, 1316]\"] ;\\n8 -> 9 ;\\n10 [label=\"entropy = 0.989\\\\nsamples = 198\\\\nvalue = [87, 111]\"] ;\\n9 -> 10 ;\\n11 [label=\"entropy = 0.758\\\\nsamples = 1542\\\\nvalue = [337, 1205]\"] ;\\n9 -> 11 ;\\n12 [label=\"BILL_AMT1 <= 111512.0\\\\nentropy = 0.149\\\\nsamples = 467\\\\nvalue = [10, 457]\"] ;\\n8 -> 12 ;\\n13 [label=\"entropy = 0.308\\\\nsamples = 181\\\\nvalue = [10, 171]\"] ;\\n12 -> 13 ;\\n14 [label=\"entropy = 0.0\\\\nsamples = 286\\\\nvalue = [0, 286]\"] ;\\n12 -> 14 ;\\n}'"
      ]
     },
     "execution_count": 159,
     "metadata": {},
     "output_type": "execute_result"
    }
   ],
   "source": [
    "#Leyendo el archivo creado\n",
    "file=open('creditcard_dtree.dot','r') #r viene de read\n",
    "text=file.read()\n",
    "text"
   ]
  },
  {
   "cell_type": "code",
   "execution_count": 160,
   "metadata": {},
   "outputs": [
    {
     "data": {
      "image/svg+xml": [
       "<?xml version=\"1.0\" encoding=\"UTF-8\" standalone=\"no\"?>\r\n",
       "<!DOCTYPE svg PUBLIC \"-//W3C//DTD SVG 1.1//EN\"\r\n",
       " \"http://www.w3.org/Graphics/SVG/1.1/DTD/svg11.dtd\">\r\n",
       "<!-- Generated by graphviz version 2.41.20170921.1950 (20170921.1950)\r\n",
       " -->\r\n",
       "<!-- Title: Tree Pages: 1 -->\r\n",
       "<svg width=\"1042pt\" height=\"373pt\"\r\n",
       " viewBox=\"0.00 0.00 1041.50 373.00\" xmlns=\"http://www.w3.org/2000/svg\" xmlns:xlink=\"http://www.w3.org/1999/xlink\">\r\n",
       "<g id=\"graph0\" class=\"graph\" transform=\"scale(1 1) rotate(0) translate(4 369)\">\r\n",
       "<title>Tree</title>\r\n",
       "<polygon fill=\"white\" stroke=\"transparent\" points=\"-4,4 -4,-369 1037.5,-369 1037.5,4 -4,4\"/>\r\n",
       "<!-- 0 -->\r\n",
       "<g id=\"node1\" class=\"node\">\r\n",
       "<title>0</title>\r\n",
       "<polygon fill=\"none\" stroke=\"black\" points=\"559,-365 428,-365 428,-297 559,-297 559,-365\"/>\r\n",
       "<text text-anchor=\"middle\" x=\"493.5\" y=\"-349.8\" font-family=\"Times New Roman,serif\" font-size=\"14.00\">PAY_0 &lt;= 1.5</text>\r\n",
       "<text text-anchor=\"middle\" x=\"493.5\" y=\"-334.8\" font-family=\"Times New Roman,serif\" font-size=\"14.00\">entropy = 0.977</text>\r\n",
       "<text text-anchor=\"middle\" x=\"493.5\" y=\"-319.8\" font-family=\"Times New Roman,serif\" font-size=\"14.00\">samples = 12893</text>\r\n",
       "<text text-anchor=\"middle\" x=\"493.5\" y=\"-304.8\" font-family=\"Times New Roman,serif\" font-size=\"14.00\">value = [7584, 5309]</text>\r\n",
       "</g>\r\n",
       "<!-- 1 -->\r\n",
       "<g id=\"node2\" class=\"node\">\r\n",
       "<title>1</title>\r\n",
       "<polygon fill=\"none\" stroke=\"black\" points=\"471.5,-261 311.5,-261 311.5,-193 471.5,-193 471.5,-261\"/>\r\n",
       "<text text-anchor=\"middle\" x=\"391.5\" y=\"-245.8\" font-family=\"Times New Roman,serif\" font-size=\"14.00\">BILL_AMT1 &lt;= 86353.0</text>\r\n",
       "<text text-anchor=\"middle\" x=\"391.5\" y=\"-230.8\" font-family=\"Times New Roman,serif\" font-size=\"14.00\">entropy = 0.916</text>\r\n",
       "<text text-anchor=\"middle\" x=\"391.5\" y=\"-215.8\" font-family=\"Times New Roman,serif\" font-size=\"14.00\">samples = 10686</text>\r\n",
       "<text text-anchor=\"middle\" x=\"391.5\" y=\"-200.8\" font-family=\"Times New Roman,serif\" font-size=\"14.00\">value = [7150, 3536]</text>\r\n",
       "</g>\r\n",
       "<!-- 0&#45;&gt;1 -->\r\n",
       "<g id=\"edge1\" class=\"edge\">\r\n",
       "<title>0&#45;&gt;1</title>\r\n",
       "<path fill=\"none\" stroke=\"black\" d=\"M460.38,-296.88C451.3,-287.8 441.35,-277.85 431.9,-268.4\"/>\r\n",
       "<polygon fill=\"black\" stroke=\"black\" points=\"434.35,-265.9 424.8,-261.3 429.4,-270.85 434.35,-265.9\"/>\r\n",
       "<text text-anchor=\"middle\" x=\"424.8\" y=\"-282.6\" font-family=\"Times New Roman,serif\" font-size=\"14.00\">True</text>\r\n",
       "</g>\r\n",
       "<!-- 8 -->\r\n",
       "<g id=\"node9\" class=\"node\">\r\n",
       "<title>8</title>\r\n",
       "<polygon fill=\"none\" stroke=\"black\" points=\"710.5,-261 550.5,-261 550.5,-193 710.5,-193 710.5,-261\"/>\r\n",
       "<text text-anchor=\"middle\" x=\"630.5\" y=\"-245.8\" font-family=\"Times New Roman,serif\" font-size=\"14.00\">BILL_AMT1 &lt;= 80760.0</text>\r\n",
       "<text text-anchor=\"middle\" x=\"630.5\" y=\"-230.8\" font-family=\"Times New Roman,serif\" font-size=\"14.00\">entropy = 0.715</text>\r\n",
       "<text text-anchor=\"middle\" x=\"630.5\" y=\"-215.8\" font-family=\"Times New Roman,serif\" font-size=\"14.00\">samples = 2207</text>\r\n",
       "<text text-anchor=\"middle\" x=\"630.5\" y=\"-200.8\" font-family=\"Times New Roman,serif\" font-size=\"14.00\">value = [434, 1773]</text>\r\n",
       "</g>\r\n",
       "<!-- 0&#45;&gt;8 -->\r\n",
       "<g id=\"edge8\" class=\"edge\">\r\n",
       "<title>0&#45;&gt;8</title>\r\n",
       "<path fill=\"none\" stroke=\"black\" d=\"M537.98,-296.88C550.66,-287.44 564.6,-277.06 577.73,-267.29\"/>\r\n",
       "<polygon fill=\"black\" stroke=\"black\" points=\"579.84,-270.08 585.77,-261.3 575.66,-264.46 579.84,-270.08\"/>\r\n",
       "<text text-anchor=\"middle\" x=\"582.15\" y=\"-282.34\" font-family=\"Times New Roman,serif\" font-size=\"14.00\">False</text>\r\n",
       "</g>\r\n",
       "<!-- 2 -->\r\n",
       "<g id=\"node3\" class=\"node\">\r\n",
       "<title>2</title>\r\n",
       "<polygon fill=\"none\" stroke=\"black\" points=\"278,-157 127,-157 127,-89 278,-89 278,-157\"/>\r\n",
       "<text text-anchor=\"middle\" x=\"202.5\" y=\"-141.8\" font-family=\"Times New Roman,serif\" font-size=\"14.00\">PAY_AMT4 &lt;= 9804.0</text>\r\n",
       "<text text-anchor=\"middle\" x=\"202.5\" y=\"-126.8\" font-family=\"Times New Roman,serif\" font-size=\"14.00\">entropy = 0.881</text>\r\n",
       "<text text-anchor=\"middle\" x=\"202.5\" y=\"-111.8\" font-family=\"Times New Roman,serif\" font-size=\"14.00\">samples = 10119</text>\r\n",
       "<text text-anchor=\"middle\" x=\"202.5\" y=\"-96.8\" font-family=\"Times New Roman,serif\" font-size=\"14.00\">value = [7085, 3034]</text>\r\n",
       "</g>\r\n",
       "<!-- 1&#45;&gt;2 -->\r\n",
       "<g id=\"edge2\" class=\"edge\">\r\n",
       "<title>1&#45;&gt;2</title>\r\n",
       "<path fill=\"none\" stroke=\"black\" d=\"M330.14,-192.88C311.81,-182.99 291.57,-172.07 272.72,-161.9\"/>\r\n",
       "<polygon fill=\"black\" stroke=\"black\" points=\"274.34,-158.79 263.88,-157.12 271.02,-164.95 274.34,-158.79\"/>\r\n",
       "</g>\r\n",
       "<!-- 5 -->\r\n",
       "<g id=\"node6\" class=\"node\">\r\n",
       "<title>5</title>\r\n",
       "<polygon fill=\"none\" stroke=\"black\" points=\"473.5,-157 309.5,-157 309.5,-89 473.5,-89 473.5,-157\"/>\r\n",
       "<text text-anchor=\"middle\" x=\"391.5\" y=\"-141.8\" font-family=\"Times New Roman,serif\" font-size=\"14.00\">LIMIT_BAL &lt;= 145000.0</text>\r\n",
       "<text text-anchor=\"middle\" x=\"391.5\" y=\"-126.8\" font-family=\"Times New Roman,serif\" font-size=\"14.00\">entropy = 0.514</text>\r\n",
       "<text text-anchor=\"middle\" x=\"391.5\" y=\"-111.8\" font-family=\"Times New Roman,serif\" font-size=\"14.00\">samples = 567</text>\r\n",
       "<text text-anchor=\"middle\" x=\"391.5\" y=\"-96.8\" font-family=\"Times New Roman,serif\" font-size=\"14.00\">value = [65, 502]</text>\r\n",
       "</g>\r\n",
       "<!-- 1&#45;&gt;5 -->\r\n",
       "<g id=\"edge5\" class=\"edge\">\r\n",
       "<title>1&#45;&gt;5</title>\r\n",
       "<path fill=\"none\" stroke=\"black\" d=\"M391.5,-192.88C391.5,-184.78 391.5,-175.98 391.5,-167.47\"/>\r\n",
       "<polygon fill=\"black\" stroke=\"black\" points=\"395,-167.3 391.5,-157.3 388,-167.3 395,-167.3\"/>\r\n",
       "</g>\r\n",
       "<!-- 3 -->\r\n",
       "<g id=\"node4\" class=\"node\">\r\n",
       "<title>3</title>\r\n",
       "<polygon fill=\"none\" stroke=\"black\" points=\"131,-53 0,-53 0,0 131,0 131,-53\"/>\r\n",
       "<text text-anchor=\"middle\" x=\"65.5\" y=\"-37.8\" font-family=\"Times New Roman,serif\" font-size=\"14.00\">entropy = 0.868</text>\r\n",
       "<text text-anchor=\"middle\" x=\"65.5\" y=\"-22.8\" font-family=\"Times New Roman,serif\" font-size=\"14.00\">samples = 9961</text>\r\n",
       "<text text-anchor=\"middle\" x=\"65.5\" y=\"-7.8\" font-family=\"Times New Roman,serif\" font-size=\"14.00\">value = [7076, 2885]</text>\r\n",
       "</g>\r\n",
       "<!-- 2&#45;&gt;3 -->\r\n",
       "<g id=\"edge3\" class=\"edge\">\r\n",
       "<title>2&#45;&gt;3</title>\r\n",
       "<path fill=\"none\" stroke=\"black\" d=\"M154.58,-88.95C140.53,-79.25 125.19,-68.68 111.27,-59.07\"/>\r\n",
       "<polygon fill=\"black\" stroke=\"black\" points=\"113.03,-56.03 102.81,-53.24 109.06,-61.8 113.03,-56.03\"/>\r\n",
       "</g>\r\n",
       "<!-- 4 -->\r\n",
       "<g id=\"node5\" class=\"node\">\r\n",
       "<title>4</title>\r\n",
       "<polygon fill=\"none\" stroke=\"black\" points=\"255.5,-53 149.5,-53 149.5,0 255.5,0 255.5,-53\"/>\r\n",
       "<text text-anchor=\"middle\" x=\"202.5\" y=\"-37.8\" font-family=\"Times New Roman,serif\" font-size=\"14.00\">entropy = 0.315</text>\r\n",
       "<text text-anchor=\"middle\" x=\"202.5\" y=\"-22.8\" font-family=\"Times New Roman,serif\" font-size=\"14.00\">samples = 158</text>\r\n",
       "<text text-anchor=\"middle\" x=\"202.5\" y=\"-7.8\" font-family=\"Times New Roman,serif\" font-size=\"14.00\">value = [9, 149]</text>\r\n",
       "</g>\r\n",
       "<!-- 2&#45;&gt;4 -->\r\n",
       "<g id=\"edge4\" class=\"edge\">\r\n",
       "<title>2&#45;&gt;4</title>\r\n",
       "<path fill=\"none\" stroke=\"black\" d=\"M202.5,-88.95C202.5,-80.72 202.5,-71.85 202.5,-63.48\"/>\r\n",
       "<polygon fill=\"black\" stroke=\"black\" points=\"206,-63.24 202.5,-53.24 199,-63.24 206,-63.24\"/>\r\n",
       "</g>\r\n",
       "<!-- 6 -->\r\n",
       "<g id=\"node7\" class=\"node\">\r\n",
       "<title>6</title>\r\n",
       "<polygon fill=\"none\" stroke=\"black\" points=\"385,-53 274,-53 274,0 385,0 385,-53\"/>\r\n",
       "<text text-anchor=\"middle\" x=\"329.5\" y=\"-37.8\" font-family=\"Times New Roman,serif\" font-size=\"14.00\">entropy = 0.865</text>\r\n",
       "<text text-anchor=\"middle\" x=\"329.5\" y=\"-22.8\" font-family=\"Times New Roman,serif\" font-size=\"14.00\">samples = 223</text>\r\n",
       "<text text-anchor=\"middle\" x=\"329.5\" y=\"-7.8\" font-family=\"Times New Roman,serif\" font-size=\"14.00\">value = [64, 159]</text>\r\n",
       "</g>\r\n",
       "<!-- 5&#45;&gt;6 -->\r\n",
       "<g id=\"edge6\" class=\"edge\">\r\n",
       "<title>5&#45;&gt;6</title>\r\n",
       "<path fill=\"none\" stroke=\"black\" d=\"M369.82,-88.95C364.05,-80.17 357.82,-70.66 352.01,-61.82\"/>\r\n",
       "<polygon fill=\"black\" stroke=\"black\" points=\"354.8,-59.68 346.39,-53.24 348.94,-63.52 354.8,-59.68\"/>\r\n",
       "</g>\r\n",
       "<!-- 7 -->\r\n",
       "<g id=\"node8\" class=\"node\">\r\n",
       "<title>7</title>\r\n",
       "<polygon fill=\"none\" stroke=\"black\" points=\"509.5,-53 403.5,-53 403.5,0 509.5,0 509.5,-53\"/>\r\n",
       "<text text-anchor=\"middle\" x=\"456.5\" y=\"-37.8\" font-family=\"Times New Roman,serif\" font-size=\"14.00\">entropy = 0.029</text>\r\n",
       "<text text-anchor=\"middle\" x=\"456.5\" y=\"-22.8\" font-family=\"Times New Roman,serif\" font-size=\"14.00\">samples = 344</text>\r\n",
       "<text text-anchor=\"middle\" x=\"456.5\" y=\"-7.8\" font-family=\"Times New Roman,serif\" font-size=\"14.00\">value = [1, 343]</text>\r\n",
       "</g>\r\n",
       "<!-- 5&#45;&gt;7 -->\r\n",
       "<g id=\"edge7\" class=\"edge\">\r\n",
       "<title>5&#45;&gt;7</title>\r\n",
       "<path fill=\"none\" stroke=\"black\" d=\"M414.23,-88.95C420.34,-80.07 426.95,-70.46 433.09,-61.54\"/>\r\n",
       "<polygon fill=\"black\" stroke=\"black\" points=\"436.01,-63.46 438.8,-53.24 430.25,-59.49 436.01,-63.46\"/>\r\n",
       "</g>\r\n",
       "<!-- 9 -->\r\n",
       "<g id=\"node10\" class=\"node\">\r\n",
       "<title>9</title>\r\n",
       "<polygon fill=\"none\" stroke=\"black\" points=\"707,-157 554,-157 554,-89 707,-89 707,-157\"/>\r\n",
       "<text text-anchor=\"middle\" x=\"630.5\" y=\"-141.8\" font-family=\"Times New Roman,serif\" font-size=\"14.00\">BILL_AMT1 &lt;= 2207.5</text>\r\n",
       "<text text-anchor=\"middle\" x=\"630.5\" y=\"-126.8\" font-family=\"Times New Roman,serif\" font-size=\"14.00\">entropy = 0.801</text>\r\n",
       "<text text-anchor=\"middle\" x=\"630.5\" y=\"-111.8\" font-family=\"Times New Roman,serif\" font-size=\"14.00\">samples = 1740</text>\r\n",
       "<text text-anchor=\"middle\" x=\"630.5\" y=\"-96.8\" font-family=\"Times New Roman,serif\" font-size=\"14.00\">value = [424, 1316]</text>\r\n",
       "</g>\r\n",
       "<!-- 8&#45;&gt;9 -->\r\n",
       "<g id=\"edge9\" class=\"edge\">\r\n",
       "<title>8&#45;&gt;9</title>\r\n",
       "<path fill=\"none\" stroke=\"black\" d=\"M630.5,-192.88C630.5,-184.78 630.5,-175.98 630.5,-167.47\"/>\r\n",
       "<polygon fill=\"black\" stroke=\"black\" points=\"634,-167.3 630.5,-157.3 627,-167.3 634,-167.3\"/>\r\n",
       "</g>\r\n",
       "<!-- 12 -->\r\n",
       "<g id=\"node13\" class=\"node\">\r\n",
       "<title>12</title>\r\n",
       "<polygon fill=\"none\" stroke=\"black\" points=\"939,-157 772,-157 772,-89 939,-89 939,-157\"/>\r\n",
       "<text text-anchor=\"middle\" x=\"855.5\" y=\"-141.8\" font-family=\"Times New Roman,serif\" font-size=\"14.00\">BILL_AMT1 &lt;= 111512.0</text>\r\n",
       "<text text-anchor=\"middle\" x=\"855.5\" y=\"-126.8\" font-family=\"Times New Roman,serif\" font-size=\"14.00\">entropy = 0.149</text>\r\n",
       "<text text-anchor=\"middle\" x=\"855.5\" y=\"-111.8\" font-family=\"Times New Roman,serif\" font-size=\"14.00\">samples = 467</text>\r\n",
       "<text text-anchor=\"middle\" x=\"855.5\" y=\"-96.8\" font-family=\"Times New Roman,serif\" font-size=\"14.00\">value = [10, 457]</text>\r\n",
       "</g>\r\n",
       "<!-- 8&#45;&gt;12 -->\r\n",
       "<g id=\"edge12\" class=\"edge\">\r\n",
       "<title>8&#45;&gt;12</title>\r\n",
       "<path fill=\"none\" stroke=\"black\" d=\"M703.55,-192.88C725.77,-182.81 750.34,-171.67 773.12,-161.34\"/>\r\n",
       "<polygon fill=\"black\" stroke=\"black\" points=\"774.77,-164.44 782.43,-157.12 771.88,-158.07 774.77,-164.44\"/>\r\n",
       "</g>\r\n",
       "<!-- 10 -->\r\n",
       "<g id=\"node11\" class=\"node\">\r\n",
       "<title>10</title>\r\n",
       "<polygon fill=\"none\" stroke=\"black\" points=\"639,-53 528,-53 528,0 639,0 639,-53\"/>\r\n",
       "<text text-anchor=\"middle\" x=\"583.5\" y=\"-37.8\" font-family=\"Times New Roman,serif\" font-size=\"14.00\">entropy = 0.989</text>\r\n",
       "<text text-anchor=\"middle\" x=\"583.5\" y=\"-22.8\" font-family=\"Times New Roman,serif\" font-size=\"14.00\">samples = 198</text>\r\n",
       "<text text-anchor=\"middle\" x=\"583.5\" y=\"-7.8\" font-family=\"Times New Roman,serif\" font-size=\"14.00\">value = [87, 111]</text>\r\n",
       "</g>\r\n",
       "<!-- 9&#45;&gt;10 -->\r\n",
       "<g id=\"edge10\" class=\"edge\">\r\n",
       "<title>9&#45;&gt;10</title>\r\n",
       "<path fill=\"none\" stroke=\"black\" d=\"M614.06,-88.95C609.78,-80.35 605.16,-71.06 600.84,-62.37\"/>\r\n",
       "<polygon fill=\"black\" stroke=\"black\" points=\"603.89,-60.63 596.3,-53.24 597.62,-63.75 603.89,-60.63\"/>\r\n",
       "</g>\r\n",
       "<!-- 11 -->\r\n",
       "<g id=\"node12\" class=\"node\">\r\n",
       "<title>11</title>\r\n",
       "<polygon fill=\"none\" stroke=\"black\" points=\"782,-53 657,-53 657,0 782,0 782,-53\"/>\r\n",
       "<text text-anchor=\"middle\" x=\"719.5\" y=\"-37.8\" font-family=\"Times New Roman,serif\" font-size=\"14.00\">entropy = 0.758</text>\r\n",
       "<text text-anchor=\"middle\" x=\"719.5\" y=\"-22.8\" font-family=\"Times New Roman,serif\" font-size=\"14.00\">samples = 1542</text>\r\n",
       "<text text-anchor=\"middle\" x=\"719.5\" y=\"-7.8\" font-family=\"Times New Roman,serif\" font-size=\"14.00\">value = [337, 1205]</text>\r\n",
       "</g>\r\n",
       "<!-- 9&#45;&gt;11 -->\r\n",
       "<g id=\"edge11\" class=\"edge\">\r\n",
       "<title>9&#45;&gt;11</title>\r\n",
       "<path fill=\"none\" stroke=\"black\" d=\"M661.63,-88.95C670.24,-79.8 679.6,-69.87 688.22,-60.71\"/>\r\n",
       "<polygon fill=\"black\" stroke=\"black\" points=\"690.95,-62.92 695.26,-53.24 685.86,-58.12 690.95,-62.92\"/>\r\n",
       "</g>\r\n",
       "<!-- 13 -->\r\n",
       "<g id=\"node14\" class=\"node\">\r\n",
       "<title>13</title>\r\n",
       "<polygon fill=\"none\" stroke=\"black\" points=\"911,-53 800,-53 800,0 911,0 911,-53\"/>\r\n",
       "<text text-anchor=\"middle\" x=\"855.5\" y=\"-37.8\" font-family=\"Times New Roman,serif\" font-size=\"14.00\">entropy = 0.308</text>\r\n",
       "<text text-anchor=\"middle\" x=\"855.5\" y=\"-22.8\" font-family=\"Times New Roman,serif\" font-size=\"14.00\">samples = 181</text>\r\n",
       "<text text-anchor=\"middle\" x=\"855.5\" y=\"-7.8\" font-family=\"Times New Roman,serif\" font-size=\"14.00\">value = [10, 171]</text>\r\n",
       "</g>\r\n",
       "<!-- 12&#45;&gt;13 -->\r\n",
       "<g id=\"edge13\" class=\"edge\">\r\n",
       "<title>12&#45;&gt;13</title>\r\n",
       "<path fill=\"none\" stroke=\"black\" d=\"M855.5,-88.95C855.5,-80.72 855.5,-71.85 855.5,-63.48\"/>\r\n",
       "<polygon fill=\"black\" stroke=\"black\" points=\"859,-63.24 855.5,-53.24 852,-63.24 859,-63.24\"/>\r\n",
       "</g>\r\n",
       "<!-- 14 -->\r\n",
       "<g id=\"node15\" class=\"node\">\r\n",
       "<title>14</title>\r\n",
       "<polygon fill=\"none\" stroke=\"black\" points=\"1033.5,-53 929.5,-53 929.5,0 1033.5,0 1033.5,-53\"/>\r\n",
       "<text text-anchor=\"middle\" x=\"981.5\" y=\"-37.8\" font-family=\"Times New Roman,serif\" font-size=\"14.00\">entropy = 0.0</text>\r\n",
       "<text text-anchor=\"middle\" x=\"981.5\" y=\"-22.8\" font-family=\"Times New Roman,serif\" font-size=\"14.00\">samples = 286</text>\r\n",
       "<text text-anchor=\"middle\" x=\"981.5\" y=\"-7.8\" font-family=\"Times New Roman,serif\" font-size=\"14.00\">value = [0, 286]</text>\r\n",
       "</g>\r\n",
       "<!-- 12&#45;&gt;14 -->\r\n",
       "<g id=\"edge14\" class=\"edge\">\r\n",
       "<title>12&#45;&gt;14</title>\r\n",
       "<path fill=\"none\" stroke=\"black\" d=\"M899.57,-88.95C912.38,-79.34 926.33,-68.87 939.04,-59.34\"/>\r\n",
       "<polygon fill=\"black\" stroke=\"black\" points=\"941.28,-62.04 947.18,-53.24 937.08,-56.44 941.28,-62.04\"/>\r\n",
       "</g>\r\n",
       "</g>\r\n",
       "</svg>\r\n"
      ],
      "text/plain": [
       "<graphviz.files.Source at 0x280c27b7ca0>"
      ]
     },
     "execution_count": 160,
     "metadata": {},
     "output_type": "execute_result"
    }
   ],
   "source": [
    "#Visualizando el grafico de arbol\n",
    "Source(text)"
   ]
  },
  {
   "cell_type": "markdown",
   "metadata": {},
   "source": [
    "### **_5. Generar las gráficas de variables importantes._**"
   ]
  },
  {
   "cell_type": "code",
   "execution_count": 161,
   "metadata": {
    "scrolled": true
   },
   "outputs": [
    {
     "data": {
      "text/plain": [
       "array([0.03883187, 0.        , 0.        , 0.        , 0.        ,\n",
       "       0.54221704, 0.        , 0.        , 0.        , 0.        ,\n",
       "       0.        , 0.3236743 , 0.        , 0.        , 0.        ,\n",
       "       0.        , 0.        , 0.        , 0.        , 0.        ,\n",
       "       0.09527679, 0.        , 0.        ])"
      ]
     },
     "execution_count": 161,
     "metadata": {},
     "output_type": "execute_result"
    }
   ],
   "source": [
    "tree.feature_importances_"
   ]
  },
  {
   "cell_type": "code",
   "execution_count": 162,
   "metadata": {},
   "outputs": [
    {
     "name": "stdout",
     "output_type": "stream",
     "text": [
      "Importancia de los predictores en el modelo\n",
      "-------------------------------------------\n"
     ]
    },
    {
     "data": {
      "text/html": [
       "<div>\n",
       "<style scoped>\n",
       "    .dataframe tbody tr th:only-of-type {\n",
       "        vertical-align: middle;\n",
       "    }\n",
       "\n",
       "    .dataframe tbody tr th {\n",
       "        vertical-align: top;\n",
       "    }\n",
       "\n",
       "    .dataframe thead th {\n",
       "        text-align: right;\n",
       "    }\n",
       "</style>\n",
       "<table border=\"1\" class=\"dataframe\">\n",
       "  <thead>\n",
       "    <tr style=\"text-align: right;\">\n",
       "      <th></th>\n",
       "      <th>predictor</th>\n",
       "      <th>importancia</th>\n",
       "    </tr>\n",
       "  </thead>\n",
       "  <tbody>\n",
       "    <tr>\n",
       "      <th>5</th>\n",
       "      <td>PAY_0</td>\n",
       "      <td>0.542217</td>\n",
       "    </tr>\n",
       "    <tr>\n",
       "      <th>11</th>\n",
       "      <td>BILL_AMT1</td>\n",
       "      <td>0.323674</td>\n",
       "    </tr>\n",
       "    <tr>\n",
       "      <th>20</th>\n",
       "      <td>PAY_AMT4</td>\n",
       "      <td>0.095277</td>\n",
       "    </tr>\n",
       "    <tr>\n",
       "      <th>0</th>\n",
       "      <td>LIMIT_BAL</td>\n",
       "      <td>0.038832</td>\n",
       "    </tr>\n",
       "    <tr>\n",
       "      <th>4</th>\n",
       "      <td>AGE</td>\n",
       "      <td>0.000000</td>\n",
       "    </tr>\n",
       "    <tr>\n",
       "      <th>14</th>\n",
       "      <td>BILL_AMT4</td>\n",
       "      <td>0.000000</td>\n",
       "    </tr>\n",
       "    <tr>\n",
       "      <th>21</th>\n",
       "      <td>PAY_AMT5</td>\n",
       "      <td>0.000000</td>\n",
       "    </tr>\n",
       "    <tr>\n",
       "      <th>2</th>\n",
       "      <td>EDUCATION</td>\n",
       "      <td>0.000000</td>\n",
       "    </tr>\n",
       "    <tr>\n",
       "      <th>19</th>\n",
       "      <td>PAY_AMT3</td>\n",
       "      <td>0.000000</td>\n",
       "    </tr>\n",
       "    <tr>\n",
       "      <th>18</th>\n",
       "      <td>PAY_AMT2</td>\n",
       "      <td>0.000000</td>\n",
       "    </tr>\n",
       "    <tr>\n",
       "      <th>17</th>\n",
       "      <td>PAY_AMT1</td>\n",
       "      <td>0.000000</td>\n",
       "    </tr>\n",
       "    <tr>\n",
       "      <th>16</th>\n",
       "      <td>BILL_AMT6</td>\n",
       "      <td>0.000000</td>\n",
       "    </tr>\n",
       "    <tr>\n",
       "      <th>15</th>\n",
       "      <td>BILL_AMT5</td>\n",
       "      <td>0.000000</td>\n",
       "    </tr>\n",
       "    <tr>\n",
       "      <th>13</th>\n",
       "      <td>BILL_AMT3</td>\n",
       "      <td>0.000000</td>\n",
       "    </tr>\n",
       "    <tr>\n",
       "      <th>3</th>\n",
       "      <td>MARRIAGE</td>\n",
       "      <td>0.000000</td>\n",
       "    </tr>\n",
       "    <tr>\n",
       "      <th>12</th>\n",
       "      <td>BILL_AMT2</td>\n",
       "      <td>0.000000</td>\n",
       "    </tr>\n",
       "    <tr>\n",
       "      <th>1</th>\n",
       "      <td>SEX</td>\n",
       "      <td>0.000000</td>\n",
       "    </tr>\n",
       "    <tr>\n",
       "      <th>10</th>\n",
       "      <td>PAY_6</td>\n",
       "      <td>0.000000</td>\n",
       "    </tr>\n",
       "    <tr>\n",
       "      <th>9</th>\n",
       "      <td>PAY_5</td>\n",
       "      <td>0.000000</td>\n",
       "    </tr>\n",
       "    <tr>\n",
       "      <th>8</th>\n",
       "      <td>PAY_4</td>\n",
       "      <td>0.000000</td>\n",
       "    </tr>\n",
       "    <tr>\n",
       "      <th>7</th>\n",
       "      <td>PAY_3</td>\n",
       "      <td>0.000000</td>\n",
       "    </tr>\n",
       "    <tr>\n",
       "      <th>6</th>\n",
       "      <td>PAY_2</td>\n",
       "      <td>0.000000</td>\n",
       "    </tr>\n",
       "    <tr>\n",
       "      <th>22</th>\n",
       "      <td>PAY_AMT6</td>\n",
       "      <td>0.000000</td>\n",
       "    </tr>\n",
       "  </tbody>\n",
       "</table>\n",
       "</div>"
      ],
      "text/plain": [
       "    predictor  importancia\n",
       "5       PAY_0     0.542217\n",
       "11  BILL_AMT1     0.323674\n",
       "20   PAY_AMT4     0.095277\n",
       "0   LIMIT_BAL     0.038832\n",
       "4         AGE     0.000000\n",
       "14  BILL_AMT4     0.000000\n",
       "21   PAY_AMT5     0.000000\n",
       "2   EDUCATION     0.000000\n",
       "19   PAY_AMT3     0.000000\n",
       "18   PAY_AMT2     0.000000\n",
       "17   PAY_AMT1     0.000000\n",
       "16  BILL_AMT6     0.000000\n",
       "15  BILL_AMT5     0.000000\n",
       "13  BILL_AMT3     0.000000\n",
       "3    MARRIAGE     0.000000\n",
       "12  BILL_AMT2     0.000000\n",
       "1         SEX     0.000000\n",
       "10      PAY_6     0.000000\n",
       "9       PAY_5     0.000000\n",
       "8       PAY_4     0.000000\n",
       "7       PAY_3     0.000000\n",
       "6       PAY_2     0.000000\n",
       "22   PAY_AMT6     0.000000"
      ]
     },
     "execution_count": 162,
     "metadata": {},
     "output_type": "execute_result"
    }
   ],
   "source": [
    "importancia_predictores = pd.DataFrame(\n",
    "                            {'predictor': df_creditcard_entrenamiento.drop(columns ='default.payment.next.month').columns,\n",
    "                             'importancia': tree.feature_importances_}\n",
    "                            )\n",
    "print(\"Importancia de los predictores en el modelo\")\n",
    "print(\"-------------------------------------------\")\n",
    "importancia_predictores.sort_values('importancia', ascending=False)"
   ]
  },
  {
   "cell_type": "code",
   "execution_count": 163,
   "metadata": {},
   "outputs": [
    {
     "data": {
      "image/png": "[encoded data removed]",
      "text/plain": [
       "<Figure size 432x288 with 1 Axes>"
      ]
     },
     "metadata": {
      "needs_background": "light"
     },
     "output_type": "display_data"
    }
   ],
   "source": [
    "plt.title('Feature Importances')\n",
    "plt.barh(importancia_predictores.sort_values('importancia', ascending=True).predictor,importancia_predictores.sort_values('importancia', ascending=True).importancia)\n",
    "plt.show()"
   ]
  },
  {
   "cell_type": "markdown",
   "metadata": {},
   "source": [
    "### **_6. Métricas de evaluación de modelos para datos de entrenamiento y testeo_**"
   ]
  },
  {
   "cell_type": "code",
   "execution_count": 164,
   "metadata": {},
   "outputs": [],
   "source": [
    "prob_train=tree.predict_proba(xtrain_under)\n",
    "prob_df_train_tree=pd.DataFrame(prob_train[:,1],columns=['prob y=0'])"
   ]
  },
  {
   "cell_type": "code",
   "execution_count": 182,
   "metadata": {
    "scrolled": true
   },
   "outputs": [
    {
     "data": {
      "text/html": [
       "<div>\n",
       "<style scoped>\n",
       "    .dataframe tbody tr th:only-of-type {\n",
       "        vertical-align: middle;\n",
       "    }\n",
       "\n",
       "    .dataframe tbody tr th {\n",
       "        vertical-align: top;\n",
       "    }\n",
       "\n",
       "    .dataframe thead th {\n",
       "        text-align: right;\n",
       "    }\n",
       "</style>\n",
       "<table border=\"1\" class=\"dataframe\">\n",
       "  <thead>\n",
       "    <tr style=\"text-align: right;\">\n",
       "      <th></th>\n",
       "      <th>prob y=0</th>\n",
       "      <th>prediccion</th>\n",
       "    </tr>\n",
       "  </thead>\n",
       "  <tbody>\n",
       "    <tr>\n",
       "      <th>0</th>\n",
       "      <td>0.289630</td>\n",
       "      <td>1</td>\n",
       "    </tr>\n",
       "    <tr>\n",
       "      <th>1</th>\n",
       "      <td>0.289630</td>\n",
       "      <td>1</td>\n",
       "    </tr>\n",
       "    <tr>\n",
       "      <th>2</th>\n",
       "      <td>0.289630</td>\n",
       "      <td>1</td>\n",
       "    </tr>\n",
       "    <tr>\n",
       "      <th>3</th>\n",
       "      <td>0.289630</td>\n",
       "      <td>1</td>\n",
       "    </tr>\n",
       "    <tr>\n",
       "      <th>4</th>\n",
       "      <td>0.289630</td>\n",
       "      <td>1</td>\n",
       "    </tr>\n",
       "    <tr>\n",
       "      <th>...</th>\n",
       "      <td>...</td>\n",
       "      <td>...</td>\n",
       "    </tr>\n",
       "    <tr>\n",
       "      <th>12888</th>\n",
       "      <td>0.781453</td>\n",
       "      <td>0</td>\n",
       "    </tr>\n",
       "    <tr>\n",
       "      <th>12889</th>\n",
       "      <td>0.289630</td>\n",
       "      <td>1</td>\n",
       "    </tr>\n",
       "    <tr>\n",
       "      <th>12890</th>\n",
       "      <td>0.289630</td>\n",
       "      <td>1</td>\n",
       "    </tr>\n",
       "    <tr>\n",
       "      <th>12891</th>\n",
       "      <td>0.713004</td>\n",
       "      <td>0</td>\n",
       "    </tr>\n",
       "    <tr>\n",
       "      <th>12892</th>\n",
       "      <td>0.781453</td>\n",
       "      <td>0</td>\n",
       "    </tr>\n",
       "  </tbody>\n",
       "</table>\n",
       "<p>12893 rows × 2 columns</p>\n",
       "</div>"
      ],
      "text/plain": [
       "       prob y=0  prediccion\n",
       "0      0.289630           1\n",
       "1      0.289630           1\n",
       "2      0.289630           1\n",
       "3      0.289630           1\n",
       "4      0.289630           1\n",
       "...         ...         ...\n",
       "12888  0.781453           0\n",
       "12889  0.289630           1\n",
       "12890  0.289630           1\n",
       "12891  0.713004           0\n",
       "12892  0.781453           0\n",
       "\n",
       "[12893 rows x 2 columns]"
      ]
     },
     "execution_count": 182,
     "metadata": {},
     "output_type": "execute_result"
    }
   ],
   "source": [
    "punto_corte=0.5\n",
    "prob_df_train_tree['prediccion']=np.where(prob_df_train_tree['prob y=0']>punto_corte,0,1)\n",
    "prob_df_train_tree"
   ]
  },
  {
   "cell_type": "code",
   "execution_count": 179,
   "metadata": {},
   "outputs": [],
   "source": [
    "prob_test=tree.predict_proba(xtest)\n",
    "prob_df_test_tree=pd.DataFrame(prob_test[:,1],columns=['prob y=0'])"
   ]
  },
  {
   "cell_type": "code",
   "execution_count": 181,
   "metadata": {},
   "outputs": [
    {
     "data": {
      "text/html": [
       "<div>\n",
       "<style scoped>\n",
       "    .dataframe tbody tr th:only-of-type {\n",
       "        vertical-align: middle;\n",
       "    }\n",
       "\n",
       "    .dataframe tbody tr th {\n",
       "        vertical-align: top;\n",
       "    }\n",
       "\n",
       "    .dataframe thead th {\n",
       "        text-align: right;\n",
       "    }\n",
       "</style>\n",
       "<table border=\"1\" class=\"dataframe\">\n",
       "  <thead>\n",
       "    <tr style=\"text-align: right;\">\n",
       "      <th></th>\n",
       "      <th>prob y=0</th>\n",
       "      <th>prediccion</th>\n",
       "    </tr>\n",
       "  </thead>\n",
       "  <tbody>\n",
       "    <tr>\n",
       "      <th>0</th>\n",
       "      <td>0.289630</td>\n",
       "      <td>1</td>\n",
       "    </tr>\n",
       "    <tr>\n",
       "      <th>1</th>\n",
       "      <td>0.289630</td>\n",
       "      <td>1</td>\n",
       "    </tr>\n",
       "    <tr>\n",
       "      <th>2</th>\n",
       "      <td>0.289630</td>\n",
       "      <td>1</td>\n",
       "    </tr>\n",
       "    <tr>\n",
       "      <th>3</th>\n",
       "      <td>0.289630</td>\n",
       "      <td>1</td>\n",
       "    </tr>\n",
       "    <tr>\n",
       "      <th>4</th>\n",
       "      <td>0.289630</td>\n",
       "      <td>1</td>\n",
       "    </tr>\n",
       "    <tr>\n",
       "      <th>...</th>\n",
       "      <td>...</td>\n",
       "      <td>...</td>\n",
       "    </tr>\n",
       "    <tr>\n",
       "      <th>5995</th>\n",
       "      <td>0.289630</td>\n",
       "      <td>1</td>\n",
       "    </tr>\n",
       "    <tr>\n",
       "      <th>5996</th>\n",
       "      <td>0.289630</td>\n",
       "      <td>1</td>\n",
       "    </tr>\n",
       "    <tr>\n",
       "      <th>5997</th>\n",
       "      <td>0.781453</td>\n",
       "      <td>0</td>\n",
       "    </tr>\n",
       "    <tr>\n",
       "      <th>5998</th>\n",
       "      <td>0.289630</td>\n",
       "      <td>1</td>\n",
       "    </tr>\n",
       "    <tr>\n",
       "      <th>5999</th>\n",
       "      <td>0.289630</td>\n",
       "      <td>1</td>\n",
       "    </tr>\n",
       "  </tbody>\n",
       "</table>\n",
       "<p>6000 rows × 2 columns</p>\n",
       "</div>"
      ],
      "text/plain": [
       "      prob y=0  prediccion\n",
       "0     0.289630           1\n",
       "1     0.289630           1\n",
       "2     0.289630           1\n",
       "3     0.289630           1\n",
       "4     0.289630           1\n",
       "...        ...         ...\n",
       "5995  0.289630           1\n",
       "5996  0.289630           1\n",
       "5997  0.781453           0\n",
       "5998  0.289630           1\n",
       "5999  0.289630           1\n",
       "\n",
       "[6000 rows x 2 columns]"
      ]
     },
     "execution_count": 181,
     "metadata": {},
     "output_type": "execute_result"
    }
   ],
   "source": [
    "punto_corte=0.5\n",
    "prob_df_test_tree['prediccion']=np.where(prob_df_test_tree['prob y=0']>punto_corte,0,1)\n",
    "prob_df_test_tree"
   ]
  },
  {
   "cell_type": "markdown",
   "metadata": {},
   "source": [
    "##### **METRICAS PARA DATA DE ENTRENAMIENTO**"
   ]
  },
  {
   "cell_type": "code",
   "execution_count": 166,
   "metadata": {
    "scrolled": true
   },
   "outputs": [
    {
     "data": {
      "text/html": [
       "<div>\n",
       "<style scoped>\n",
       "    .dataframe tbody tr th:only-of-type {\n",
       "        vertical-align: middle;\n",
       "    }\n",
       "\n",
       "    .dataframe tbody tr th {\n",
       "        vertical-align: top;\n",
       "    }\n",
       "\n",
       "    .dataframe thead th {\n",
       "        text-align: right;\n",
       "    }\n",
       "</style>\n",
       "<table border=\"1\" class=\"dataframe\">\n",
       "  <thead>\n",
       "    <tr style=\"text-align: right;\">\n",
       "      <th>prediccion</th>\n",
       "      <th>0</th>\n",
       "      <th>1</th>\n",
       "    </tr>\n",
       "    <tr>\n",
       "      <th>default.payment.next.month</th>\n",
       "      <th></th>\n",
       "      <th></th>\n",
       "    </tr>\n",
       "  </thead>\n",
       "  <tbody>\n",
       "    <tr>\n",
       "      <th>0</th>\n",
       "      <td>508</td>\n",
       "      <td>7076</td>\n",
       "    </tr>\n",
       "    <tr>\n",
       "      <th>1</th>\n",
       "      <td>2424</td>\n",
       "      <td>2885</td>\n",
       "    </tr>\n",
       "  </tbody>\n",
       "</table>\n",
       "</div>"
      ],
      "text/plain": [
       "prediccion                     0     1\n",
       "default.payment.next.month            \n",
       "0                            508  7076\n",
       "1                           2424  2885"
      ]
     },
     "execution_count": 166,
     "metadata": {},
     "output_type": "execute_result"
    }
   ],
   "source": [
    "cm_train=pd.crosstab(ytrain_under['default.payment.next.month'],prob_df_train_tree['prediccion'])\n",
    "cm_train"
   ]
  },
  {
   "cell_type": "code",
   "execution_count": 171,
   "metadata": {},
   "outputs": [],
   "source": [
    "VP_train=cm_train[0][0]\n",
    "VN_train=cm_train[1][1]\n",
    "FP_train=cm_train[1][0]\n",
    "FN_train=cm_train[0][1]"
   ]
  },
  {
   "cell_type": "code",
   "execution_count": 190,
   "metadata": {
    "scrolled": true
   },
   "outputs": [
    {
     "name": "stdout",
     "output_type": "stream",
     "text": [
      "El accuracy para la Data de Entrenamiento es:  0.263\n"
     ]
    }
   ],
   "source": [
    "accuracy_train_tree=(VP_train+VN_train)/(VP_train+VN_train+FP_train+FN_train)\n",
    "print('El accuracy para la Data de Entrenamiento es: ', accuracy_train_tree.round(3))"
   ]
  },
  {
   "cell_type": "code",
   "execution_count": 188,
   "metadata": {},
   "outputs": [
    {
     "name": "stdout",
     "output_type": "stream",
     "text": [
      "La sensibilidad para la Data de Entrenamiento es:  0.29\n"
     ]
    }
   ],
   "source": [
    "sensibilidad_train_tree=(VP_train)/(VP_train+FN_train)\n",
    "print('La sensibilidad para la Data de Entrenamiento es: ', sensibilidad_train_tree.round(3))"
   ]
  },
  {
   "cell_type": "code",
   "execution_count": 189,
   "metadata": {},
   "outputs": [
    {
     "name": "stdout",
     "output_type": "stream",
     "text": [
      "La especificidad para la Data de Entrenamiento es:  0.173\n"
     ]
    }
   ],
   "source": [
    "especificidad_train_tree=(VN_train)/(VN_train+FP_train)\n",
    "print('La especificidad para la Data de Entrenamiento es: ', especificidad_train_tree.round(3))"
   ]
  },
  {
   "cell_type": "code",
   "execution_count": 175,
   "metadata": {},
   "outputs": [
    {
     "name": "stdout",
     "output_type": "stream",
     "text": [
      "El area Bajo la Curva(AUC) para Data de Entrenamiento es:  0.305\n"
     ]
    }
   ],
   "source": [
    "#Para calcular de la curva ROC y AUC, la función roc_curve exige que las categorias sean 0 y 1\n",
    "fpr,tpr,thresholds=roc_curve(ytrain_under,prob_df_train_tree['prediccion'])\n",
    "auc_train_tree=auc(fpr,tpr)\n",
    "print('El area Bajo la Curva(AUC) para Data de Entrenamiento es: ',auc_train_tree.round(3))"
   ]
  },
  {
   "cell_type": "code",
   "execution_count": 177,
   "metadata": {},
   "outputs": [
    {
     "data": {
      "image/png": "[encoded data removed]",
      "text/plain": [
       "<Figure size 500x500 with 1 Axes>"
      ]
     },
     "metadata": {
      "needs_background": "light"
     },
     "output_type": "display_data"
    }
   ],
   "source": [
    "plt.figure(figsize=(5,5),dpi=100)\n",
    "plt.plot(fpr,tpr,linestyle='-',label=\"Tree(auc=%0.3f)\"%auc_train_tree)\n",
    "plt.title('Curva ROC para data entrenamiento')\n",
    "plt.xlabel('Ratio Falso Positivo')\n",
    "plt.ylabel('Ratio Verdadero Positivo')\n",
    "plt.legend()\n",
    "\n",
    "x=[i*0.01 for i in range(100)]\n",
    "y=[i*0.01 for i in range(100)]\n",
    "plt.plot(x,y)\n",
    "plt.show()"
   ]
  },
  {
   "cell_type": "markdown",
   "metadata": {},
   "source": [
    "##### **METRICAS PARA DATA DE TESTING**"
   ]
  },
  {
   "cell_type": "code",
   "execution_count": 184,
   "metadata": {},
   "outputs": [
    {
     "data": {
      "text/html": [
       "<div>\n",
       "<style scoped>\n",
       "    .dataframe tbody tr th:only-of-type {\n",
       "        vertical-align: middle;\n",
       "    }\n",
       "\n",
       "    .dataframe tbody tr th {\n",
       "        vertical-align: top;\n",
       "    }\n",
       "\n",
       "    .dataframe thead th {\n",
       "        text-align: right;\n",
       "    }\n",
       "</style>\n",
       "<table border=\"1\" class=\"dataframe\">\n",
       "  <thead>\n",
       "    <tr style=\"text-align: right;\">\n",
       "      <th>prediccion</th>\n",
       "      <th>0</th>\n",
       "      <th>1</th>\n",
       "    </tr>\n",
       "    <tr>\n",
       "      <th>row_0</th>\n",
       "      <th></th>\n",
       "      <th></th>\n",
       "    </tr>\n",
       "  </thead>\n",
       "  <tbody>\n",
       "    <tr>\n",
       "      <th>0</th>\n",
       "      <td>1439</td>\n",
       "      <td>3234</td>\n",
       "    </tr>\n",
       "    <tr>\n",
       "      <th>1</th>\n",
       "      <td>576</td>\n",
       "      <td>751</td>\n",
       "    </tr>\n",
       "  </tbody>\n",
       "</table>\n",
       "</div>"
      ],
      "text/plain": [
       "prediccion     0     1\n",
       "row_0                 \n",
       "0           1439  3234\n",
       "1            576   751"
      ]
     },
     "execution_count": 184,
     "metadata": {},
     "output_type": "execute_result"
    }
   ],
   "source": [
    "cm_test=pd.crosstab(ytest,prob_df_test_tree['prediccion'])\n",
    "cm_test"
   ]
  },
  {
   "cell_type": "code",
   "execution_count": 185,
   "metadata": {},
   "outputs": [],
   "source": [
    "VP_test=cm_test[0][0]\n",
    "VN_test=cm_test[1][1]\n",
    "FP_test=cm_test[1][0]\n",
    "FN_test=cm_test[0][1]"
   ]
  },
  {
   "cell_type": "code",
   "execution_count": 186,
   "metadata": {},
   "outputs": [
    {
     "name": "stdout",
     "output_type": "stream",
     "text": [
      "El accuracy para la Data de Testeo es:  0.365\n"
     ]
    }
   ],
   "source": [
    "accuracy_test_tree=(VP_test+VN_test)/(VP_test+VN_test+FP_test+FN_test)\n",
    "print('El accuracy para la Data de Testeo es: ', accuracy_test_tree.round(3))"
   ]
  },
  {
   "cell_type": "code",
   "execution_count": 191,
   "metadata": {},
   "outputs": [
    {
     "name": "stdout",
     "output_type": "stream",
     "text": [
      "La sensibilidad para la Data de Testeo es:  0.714\n"
     ]
    }
   ],
   "source": [
    "sensibilidad_test_tree=(VP_test)/(VP_test+FN_test)\n",
    "print('La sensibilidad para la Data de Testeo es: ', sensibilidad_test_tree.round(3))"
   ]
  },
  {
   "cell_type": "code",
   "execution_count": 192,
   "metadata": {},
   "outputs": [
    {
     "name": "stdout",
     "output_type": "stream",
     "text": [
      "La especificidad para la Data de Testeo es:  0.188\n"
     ]
    }
   ],
   "source": [
    "especificidad_test_tree=(VN_test)/(VN_test+FP_test)\n",
    "print('La especificidad para la Data de Testeo es: ', especificidad_test_tree.round(3))"
   ]
  },
  {
   "cell_type": "code",
   "execution_count": 193,
   "metadata": {},
   "outputs": [
    {
     "name": "stdout",
     "output_type": "stream",
     "text": [
      "El area Bajo la Curva(AUC) para Data de Entrenamiento es:  0.437\n"
     ]
    }
   ],
   "source": [
    "#Para calcular de la curva ROC y AUC, la función roc_curve exige que las categorias sean 0 y 1\n",
    "fpr,tpr,thresholds=roc_curve(ytest,prob_df_test_tree['prediccion'])\n",
    "auc_test_tree=auc(fpr,tpr)\n",
    "print('El area Bajo la Curva(AUC) para Data de Entrenamiento es: ',auc_test_tree.round(3))"
   ]
  },
  {
   "cell_type": "code",
   "execution_count": 194,
   "metadata": {},
   "outputs": [
    {
     "data": {
      "image/png": "[encoded data removed]",
      "text/plain": [
       "<Figure size 500x500 with 1 Axes>"
      ]
     },
     "metadata": {
      "needs_background": "light"
     },
     "output_type": "display_data"
    }
   ],
   "source": [
    "plt.figure(figsize=(5,5),dpi=100)\n",
    "plt.plot(fpr,tpr,linestyle='-',label=\"Tree(auc=%0.3f)\"%auc_test_tree)\n",
    "plt.title('Curva ROC para data testeo')\n",
    "plt.xlabel('Ratio Falso Positivo')\n",
    "plt.ylabel('Ratio Verdadero Positivo')\n",
    "plt.legend()\n",
    "\n",
    "x=[i*0.01 for i in range(100)]\n",
    "y=[i*0.01 for i in range(100)]\n",
    "plt.plot(x,y)\n",
    "plt.show()"
   ]
  },
  {
   "cell_type": "code",
   "execution_count": null,
   "metadata": {},
   "outputs": [],
   "source": []
  }
 ],
 "metadata": {
  "kernelspec": {
   "display_name": "Python 3",
   "language": "python",
   "name": "python3"
  },
  "language_info": {
   "codemirror_mode": {
    "name": "ipython",
    "version": 3
   },
   "file_extension": ".py",
   "mimetype": "text/x-python",
   "name": "python",
   "nbconvert_exporter": "python",
   "pygments_lexer": "ipython3",
   "version": "3.8.3"
  }
 },
 "nbformat": 4,
 "nbformat_minor": 4
}
