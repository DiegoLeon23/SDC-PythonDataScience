{
 "cells": [
  {
   "cell_type": "markdown",
   "metadata": {},
   "source": [
    "## CASO PRACTICO"
   ]
  },
  {
   "cell_type": "markdown",
   "metadata": {},
   "source": [
    "### DESCRIPCIÓN\n",
    "Los datos están relacionados con campañas de marketing directo de una institución bancaria portuguesa. Las campañas de marketing se basaron en llamadas telefónicas. A menudo, se requería más de un contacto con el mismo cliente para acceder si el producto (depósito bancario a plazo) estaría ('sí') o no ('no') suscrito."
   ]
  },
  {
   "cell_type": "markdown",
   "metadata": {},
   "source": [
    "### Información del atributo:"
   ]
  },
  {
   "cell_type": "markdown",
   "metadata": {},
   "source": [
    "### Variables de entrada:\n",
    "   #### datos del cliente bancario:\n",
    "   1 - age :edad del cliente (numérico)\n",
    "   \n",
    "   2 - job: tipo de trabajo (categórico: \"administrador\", \"desconocido\", \"desempleado\", \"gerencia\", \"empleada doméstica\", \"empresario\", \"estudiante\",\n",
    "                                       \"obrero\", \"autónomo\", \"jubilado\", \"técnico\", \"servicios\")\n",
    "                                       \n",
    "   3 - marital: estado civil (categórico: \"casado\", \"divorciado\", \"soltero\"; nota: \"divorciado\" significa divorciado o viudo)\n",
    "   \n",
    "   4 - education :educacion del cliente (categórica: \"desconocido\", \"secundario\", \"primario\", \"terciario\")\n",
    "   \n",
    "   5 - default: incumplimiento del cliente ¿tiene crédito en incumplimiento? (binario: \"sí\", \"no\")\n",
    "   \n",
    "   6 - balance: saldo medio anual, en euros (numérico)\n",
    "   \n",
    "   7 - housing: tiene préstamo de vivienda? (binario: \"sí\", \"no\")\n",
    "   \n",
    "   8 - loan: tiene préstamo personal? (binario: \"sí\", \"no\")\n",
    "   \n",
    "   #### relacionado con el último contacto de la campaña actual:\n",
    "   9 - contact: tipo de comunicación de contacto (categórico: \"desconocido\", \"teléfono\", \"celular\")\n",
    "   \n",
    "  10 day: último día de contacto del mes (numérico)\n",
    "  \n",
    "  11 month: último contacto del año del año (categórico: \"ene\", \"feb\", \"mar\", ..., \"nov\", \"dec\")\n",
    "  \n",
    "  12 - duration: duración del último contacto, en segundos (numérico)\n",
    "  \n",
    "   #### otros atributos:\n",
    "  13 - campaign: número de contactos realizados durante esta campaña y para este cliente (numérico, incluye el último contacto)\n",
    "  \n",
    "  14 pdays: número de días que pasaron después de que el cliente fue contactado por última vez desde una campaña anterior (numérico, -1 significa que el cliente no fue contactado previamente)\n",
    "  \n",
    "  15 - previous: número de contactos realizados antes de esta campaña y para este cliente (numérico)\n",
    "  \n",
    "  16 - poutcome: resultado de la campaña de marketing anterior (categórico: \"desconocido\", \"otro\", \"fracaso\", \"éxito\")\n",
    "\n",
    "  ### Variable de salida (objetivo deseado):\n",
    "  17 - y - ¿el cliente ha suscrito un depósito a plazo? (binario: \"sí\", \"no\")"
   ]
  },
  {
   "cell_type": "markdown",
   "metadata": {},
   "source": [
    "**Fuente :**\n",
    "    \n",
    "[Moro et al., 2014] S. Moro, P. Cortez and P. Rita. A Data-Driven Approach to Predict the Success of Bank Telemarketing. Decision Support Systems, Elsevier, 62:22-31, June 2014"
   ]
  },
  {
   "cell_type": "markdown",
   "metadata": {},
   "source": [
    "### Actividades\n",
    "\n",
    "1. Dividir la data en 70% de entrenamiento y lo restante para la data de testeo.\n",
    "2. Entrenar el modelo con los siguientes parametros 60 arboles,3 de profundidad y 8 folders para la validacion cruzada.\n",
    "3. Encontrar el AUC del modelo de la validacion cruzada para los datos de entrenamiento.\n",
    "4. Obtener el AUC del modelo con la data de testeo."
   ]
  },
  {
   "cell_type": "code",
   "execution_count": 11,
   "metadata": {},
   "outputs": [],
   "source": [
    "import h2o\n",
    "from h2o.estimators import H2ORandomForestEstimator"
   ]
  },
  {
   "cell_type": "code",
   "execution_count": 14,
   "metadata": {},
   "outputs": [
    {
     "name": "stdout",
     "output_type": "stream",
     "text": [
      "Checking whether there is an H2O instance running at http://localhost:54321 . connected.\n"
     ]
    },
    {
     "data": {
      "text/html": [
       "<div style=\"overflow:auto\"><table style=\"width:50%\"><tr><td>H2O cluster uptime:</td>\n",
       "<td>11 mins 36 secs</td></tr>\n",
       "<tr><td>H2O cluster timezone:</td>\n",
       "<td>America/Bogota</td></tr>\n",
       "<tr><td>H2O data parsing timezone:</td>\n",
       "<td>UTC</td></tr>\n",
       "<tr><td>H2O cluster version:</td>\n",
       "<td>3.28.0.4</td></tr>\n",
       "<tr><td>H2O cluster version age:</td>\n",
       "<td>16 days </td></tr>\n",
       "<tr><td>H2O cluster name:</td>\n",
       "<td>H2O_from_python_SOCIAL_DATA_0rgpt4</td></tr>\n",
       "<tr><td>H2O cluster total nodes:</td>\n",
       "<td>1</td></tr>\n",
       "<tr><td>H2O cluster free memory:</td>\n",
       "<td>3.127 Gb</td></tr>\n",
       "<tr><td>H2O cluster total cores:</td>\n",
       "<td>12</td></tr>\n",
       "<tr><td>H2O cluster allowed cores:</td>\n",
       "<td>12</td></tr>\n",
       "<tr><td>H2O cluster status:</td>\n",
       "<td>locked, healthy</td></tr>\n",
       "<tr><td>H2O connection url:</td>\n",
       "<td>http://localhost:54321</td></tr>\n",
       "<tr><td>H2O connection proxy:</td>\n",
       "<td>{'http': None, 'https': None}</td></tr>\n",
       "<tr><td>H2O internal security:</td>\n",
       "<td>False</td></tr>\n",
       "<tr><td>H2O API Extensions:</td>\n",
       "<td>Amazon S3, Algos, AutoML, Core V3, TargetEncoder, Core V4</td></tr>\n",
       "<tr><td>Python version:</td>\n",
       "<td>3.7.3 final</td></tr></table></div>"
      ],
      "text/plain": [
       "--------------------------  ---------------------------------------------------------\n",
       "H2O cluster uptime:         11 mins 36 secs\n",
       "H2O cluster timezone:       America/Bogota\n",
       "H2O data parsing timezone:  UTC\n",
       "H2O cluster version:        3.28.0.4\n",
       "H2O cluster version age:    16 days\n",
       "H2O cluster name:           H2O_from_python_SOCIAL_DATA_0rgpt4\n",
       "H2O cluster total nodes:    1\n",
       "H2O cluster free memory:    3.127 Gb\n",
       "H2O cluster total cores:    12\n",
       "H2O cluster allowed cores:  12\n",
       "H2O cluster status:         locked, healthy\n",
       "H2O connection url:         http://localhost:54321\n",
       "H2O connection proxy:       {'http': None, 'https': None}\n",
       "H2O internal security:      False\n",
       "H2O API Extensions:         Amazon S3, Algos, AutoML, Core V3, TargetEncoder, Core V4\n",
       "Python version:             3.7.3 final\n",
       "--------------------------  ---------------------------------------------------------"
      ]
     },
     "metadata": {},
     "output_type": "display_data"
    }
   ],
   "source": [
    "h2o.init()"
   ]
  },
  {
   "cell_type": "code",
   "execution_count": 46,
   "metadata": {},
   "outputs": [
    {
     "name": "stdout",
     "output_type": "stream",
     "text": [
      "Parse progress: |█████████████████████████████████████████████████████████| 100%\n"
     ]
    }
   ],
   "source": [
    "import numpy as np\n",
    "import pandas as pd\n",
    "FileCSV=\"D:/SOCIAL DATA/Dropbox/Python 5ta edición - Programa Completo/3. avanzado/sesión_02/datos/bank-full.csv\"\n",
    "df_bank=pd.read_csv(FileCSV,sep=\";\")\n",
    "data = h2o.import_file(FileCSV)"
   ]
  },
  {
   "cell_type": "code",
   "execution_count": 47,
   "metadata": {},
   "outputs": [
    {
     "data": {
      "text/html": [
       "<table>\n",
       "<thead>\n",
       "<tr><th style=\"text-align: right;\">  age</th><th>job         </th><th>marital  </th><th>education  </th><th>default  </th><th style=\"text-align: right;\">  balance</th><th>housing  </th><th>loan  </th><th>contact  </th><th style=\"text-align: right;\">  day</th><th>month  </th><th style=\"text-align: right;\">  duration</th><th style=\"text-align: right;\">  campaign</th><th style=\"text-align: right;\">  pdays</th><th style=\"text-align: right;\">  previous</th><th>poutcome  </th><th>y  </th></tr>\n",
       "</thead>\n",
       "<tbody>\n",
       "<tr><td style=\"text-align: right;\">   58</td><td>management  </td><td>married  </td><td>tertiary   </td><td>no       </td><td style=\"text-align: right;\">     2143</td><td>yes      </td><td>no    </td><td>unknown  </td><td style=\"text-align: right;\">    5</td><td>may    </td><td style=\"text-align: right;\">       261</td><td style=\"text-align: right;\">         1</td><td style=\"text-align: right;\">     -1</td><td style=\"text-align: right;\">         0</td><td>unknown   </td><td>no </td></tr>\n",
       "<tr><td style=\"text-align: right;\">   44</td><td>technician  </td><td>single   </td><td>secondary  </td><td>no       </td><td style=\"text-align: right;\">       29</td><td>yes      </td><td>no    </td><td>unknown  </td><td style=\"text-align: right;\">    5</td><td>may    </td><td style=\"text-align: right;\">       151</td><td style=\"text-align: right;\">         1</td><td style=\"text-align: right;\">     -1</td><td style=\"text-align: right;\">         0</td><td>unknown   </td><td>no </td></tr>\n",
       "<tr><td style=\"text-align: right;\">   33</td><td>entrepreneur</td><td>married  </td><td>secondary  </td><td>no       </td><td style=\"text-align: right;\">        2</td><td>yes      </td><td>yes   </td><td>unknown  </td><td style=\"text-align: right;\">    5</td><td>may    </td><td style=\"text-align: right;\">        76</td><td style=\"text-align: right;\">         1</td><td style=\"text-align: right;\">     -1</td><td style=\"text-align: right;\">         0</td><td>unknown   </td><td>no </td></tr>\n",
       "<tr><td style=\"text-align: right;\">   47</td><td>blue-collar </td><td>married  </td><td>unknown    </td><td>no       </td><td style=\"text-align: right;\">     1506</td><td>yes      </td><td>no    </td><td>unknown  </td><td style=\"text-align: right;\">    5</td><td>may    </td><td style=\"text-align: right;\">        92</td><td style=\"text-align: right;\">         1</td><td style=\"text-align: right;\">     -1</td><td style=\"text-align: right;\">         0</td><td>unknown   </td><td>no </td></tr>\n",
       "<tr><td style=\"text-align: right;\">   33</td><td>unknown     </td><td>single   </td><td>unknown    </td><td>no       </td><td style=\"text-align: right;\">        1</td><td>no       </td><td>no    </td><td>unknown  </td><td style=\"text-align: right;\">    5</td><td>may    </td><td style=\"text-align: right;\">       198</td><td style=\"text-align: right;\">         1</td><td style=\"text-align: right;\">     -1</td><td style=\"text-align: right;\">         0</td><td>unknown   </td><td>no </td></tr>\n",
       "<tr><td style=\"text-align: right;\">   35</td><td>management  </td><td>married  </td><td>tertiary   </td><td>no       </td><td style=\"text-align: right;\">      231</td><td>yes      </td><td>no    </td><td>unknown  </td><td style=\"text-align: right;\">    5</td><td>may    </td><td style=\"text-align: right;\">       139</td><td style=\"text-align: right;\">         1</td><td style=\"text-align: right;\">     -1</td><td style=\"text-align: right;\">         0</td><td>unknown   </td><td>no </td></tr>\n",
       "<tr><td style=\"text-align: right;\">   28</td><td>management  </td><td>single   </td><td>tertiary   </td><td>no       </td><td style=\"text-align: right;\">      447</td><td>yes      </td><td>yes   </td><td>unknown  </td><td style=\"text-align: right;\">    5</td><td>may    </td><td style=\"text-align: right;\">       217</td><td style=\"text-align: right;\">         1</td><td style=\"text-align: right;\">     -1</td><td style=\"text-align: right;\">         0</td><td>unknown   </td><td>no </td></tr>\n",
       "<tr><td style=\"text-align: right;\">   42</td><td>entrepreneur</td><td>divorced </td><td>tertiary   </td><td>yes      </td><td style=\"text-align: right;\">        2</td><td>yes      </td><td>no    </td><td>unknown  </td><td style=\"text-align: right;\">    5</td><td>may    </td><td style=\"text-align: right;\">       380</td><td style=\"text-align: right;\">         1</td><td style=\"text-align: right;\">     -1</td><td style=\"text-align: right;\">         0</td><td>unknown   </td><td>no </td></tr>\n",
       "<tr><td style=\"text-align: right;\">   58</td><td>retired     </td><td>married  </td><td>primary    </td><td>no       </td><td style=\"text-align: right;\">      121</td><td>yes      </td><td>no    </td><td>unknown  </td><td style=\"text-align: right;\">    5</td><td>may    </td><td style=\"text-align: right;\">        50</td><td style=\"text-align: right;\">         1</td><td style=\"text-align: right;\">     -1</td><td style=\"text-align: right;\">         0</td><td>unknown   </td><td>no </td></tr>\n",
       "<tr><td style=\"text-align: right;\">   43</td><td>technician  </td><td>single   </td><td>secondary  </td><td>no       </td><td style=\"text-align: right;\">      593</td><td>yes      </td><td>no    </td><td>unknown  </td><td style=\"text-align: right;\">    5</td><td>may    </td><td style=\"text-align: right;\">        55</td><td style=\"text-align: right;\">         1</td><td style=\"text-align: right;\">     -1</td><td style=\"text-align: right;\">         0</td><td>unknown   </td><td>no </td></tr>\n",
       "</tbody>\n",
       "</table>"
      ]
     },
     "metadata": {},
     "output_type": "display_data"
    },
    {
     "data": {
      "text/plain": []
     },
     "execution_count": 47,
     "metadata": {},
     "output_type": "execute_result"
    }
   ],
   "source": [
    "data"
   ]
  }
 ],
 "metadata": {
  "kernelspec": {
   "display_name": "Python 3",
   "language": "python",
   "name": "python3"
  },
  "language_info": {
   "codemirror_mode": {
    "name": "ipython",
    "version": 3
   },
   "file_extension": ".py",
   "mimetype": "text/x-python",
   "name": "python",
   "nbconvert_exporter": "python",
   "pygments_lexer": "ipython3",
   "version": "3.7.6"
  }
 },
 "nbformat": 4,
 "nbformat_minor": 2
}
